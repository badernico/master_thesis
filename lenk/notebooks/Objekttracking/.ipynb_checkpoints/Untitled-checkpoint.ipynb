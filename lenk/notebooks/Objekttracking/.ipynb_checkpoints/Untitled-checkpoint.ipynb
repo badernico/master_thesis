{
 "cells": [
  {
   "cell_type": "markdown",
   "metadata": {},
   "source": [
    "# Objektdefinition nach der Dissertation von Roger Huckle (2009)\n",
    "\n",
    "Roger Huckle hat in seiner Dissertation von 2009 einen sehr interessanten Ansatz für die Definition von konvektiven Wolkenobjekten benutzt.\n",
    "\n",
    "Der Ansatz nutzt den IR<sub>10.8 µm</sub>-Kanal und den VIS<sub>0.6 µm</sub>- Kanal, um die Wolkenobjekte zu definieren. Der Ausgangspunkt ist, dass konvektive Wolken im Vergleich zu ihrer Umgebung relativ kalt und relativ hell sind. "
   ]
  }
 ],
 "metadata": {
  "kernelspec": {
   "display_name": "Python 3",
   "language": "python",
   "name": "python3"
  },
  "language_info": {
   "codemirror_mode": {
    "name": "ipython",
    "version": 3
   },
   "file_extension": ".py",
   "mimetype": "text/x-python",
   "name": "python",
   "nbconvert_exporter": "python",
   "pygments_lexer": "ipython3",
   "version": "3.7.4"
  },
  "latex_envs": {
   "LaTeX_envs_menu_present": true,
   "autoclose": false,
   "autocomplete": true,
   "bibliofile": "biblio.bib",
   "cite_by": "apalike",
   "current_citInitial": 1,
   "eqLabelWithNumbers": true,
   "eqNumInitial": 1,
   "hotkeys": {
    "equation": "Ctrl-E",
    "itemize": "Ctrl-I"
   },
   "labels_anchors": false,
   "latex_user_defs": false,
   "report_style_numbering": false,
   "user_envs_cfg": false
  }
 },
 "nbformat": 4,
 "nbformat_minor": 4
}
