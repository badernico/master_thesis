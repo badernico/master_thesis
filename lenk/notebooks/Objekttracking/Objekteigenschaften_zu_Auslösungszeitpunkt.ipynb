{
 "cells": [
  {
   "cell_type": "markdown",
   "metadata": {},
   "source": [
    "# Objekteigenschaften zum Auslösungszeitpunkt\n",
    "\n",
    "Um einen Überblick über typische Objkekteigenschaften zum Auslösungszeitpunkt zu bekommen sehen wir uns folgende Objekteigenschaften der zu den HACI-Objekteten gehörenden Satellitenobjekte zum Auslösungszeitpunkt an:\n",
    "\n",
    "* <i>T</i><sub>B</sub>(10,8&thinsp;µm)\n",
    "* mittlere Wolkenhöhe, maximale Woklkenhöhe\n",
    "* Objektfläche"
   ]
  },
  {
   "cell_type": "code",
   "execution_count": 133,
   "metadata": {},
   "outputs": [],
   "source": [
    "import numpy as np\n",
    "import xarray as xr\n",
    "import seaborn as sns\n",
    "import pandas as pd\n",
    "sns.set_context(\"talk\")\n",
    "\n",
    "import matplotlib.pyplot as plt\n",
    "\n",
    "from standard_config import *\n",
    "\n",
    "import sys\n",
    "sys.path.append(\"{}/utils/io\".format(local_home_path))\n",
    "import file_io as fio\n",
    "import io_config as ioc\n",
    "\n",
    "import glob\n",
    "\n",
    "sys.path.append(\"{}/utils/tracking\".format(local_home_path))\n",
    "import segmentation as oseg\n",
    "import object_tracking as ot\n",
    "\n",
    "from plotting_tools.colormaps import enhanced_colormap\n",
    "emap = enhanced_colormap()\n",
    "\n",
    "import fixed_colourbar as fc\n",
    "\n",
    "from ipywidgets import interact, interactive, fixed, interact_manual\n",
    "import ipywidgets as widgets\n",
    "\n",
    "import nwcsaf_ct_cmap as ct_cmap"
   ]
  },
  {
   "cell_type": "markdown",
   "metadata": {},
   "source": [
    "## 1. Gut isolierte Fälle\n",
    "\n",
    "Für die gefilterten HACI-Fälle wurden MSG-Daten und NWCSAF-Produkte für einen 25&thinsp;px&thinsp;&times;&thinsp;25&thinsp;px - Ausschnitt um den parallaxenkorrigierten HACI-Objektschwerpunkt ausgeschnitten. Wir sehen uns zunächst die Objekteigenschaften für den Fall im HRV-Paper in Abhängigkeit von der Objektfläche an."
   ]
  },
  {
   "cell_type": "code",
   "execution_count": 34,
   "metadata": {},
   "outputs": [],
   "source": [
    "example_case_data = fio.read_nc_file(\"{}/track_20130618_2687.nc\".format(ioc.haci_track_data_path))"
   ]
  },
  {
   "cell_type": "code",
   "execution_count": 38,
   "metadata": {},
   "outputs": [],
   "source": [
    "haci_data = pd.read_csv(\"{}/haci-2013-06-18-bbox.dat\".format(ioc.haci_bbox_data_path),sep=\"\\s+\")"
   ]
  },
  {
   "cell_type": "code",
   "execution_count": 41,
   "metadata": {},
   "outputs": [
    {
     "data": {
      "text/html": [
       "<div>\n",
       "<style scoped>\n",
       "    .dataframe tbody tr th:only-of-type {\n",
       "        vertical-align: middle;\n",
       "    }\n",
       "\n",
       "    .dataframe tbody tr th {\n",
       "        vertical-align: top;\n",
       "    }\n",
       "\n",
       "    .dataframe thead th {\n",
       "        text-align: right;\n",
       "    }\n",
       "</style>\n",
       "<table border=\"1\" class=\"dataframe\">\n",
       "  <thead>\n",
       "    <tr style=\"text-align: right;\">\n",
       "      <th></th>\n",
       "      <th>date</th>\n",
       "      <th>time</th>\n",
       "      <th>id</th>\n",
       "      <th>flags</th>\n",
       "      <th>t0</th>\n",
       "      <th>t1</th>\n",
       "      <th>l00</th>\n",
       "      <th>l01</th>\n",
       "      <th>c00</th>\n",
       "      <th>c01</th>\n",
       "      <th>l0</th>\n",
       "      <th>l1</th>\n",
       "      <th>c0</th>\n",
       "      <th>c1</th>\n",
       "    </tr>\n",
       "  </thead>\n",
       "  <tbody>\n",
       "    <tr>\n",
       "      <th>1571</th>\n",
       "      <td>2013-06-18</td>\n",
       "      <td>13:50</td>\n",
       "      <td>2687</td>\n",
       "      <td>0</td>\n",
       "      <td>166</td>\n",
       "      <td>188</td>\n",
       "      <td>386</td>\n",
       "      <td>392</td>\n",
       "      <td>615</td>\n",
       "      <td>619</td>\n",
       "      <td>381</td>\n",
       "      <td>404</td>\n",
       "      <td>607</td>\n",
       "      <td>638</td>\n",
       "    </tr>\n",
       "  </tbody>\n",
       "</table>\n",
       "</div>"
      ],
      "text/plain": [
       "            date   time    id  flags   t0   t1  l00  l01  c00  c01   l0   l1  \\\n",
       "1571  2013-06-18  13:50  2687      0  166  188  386  392  615  619  381  404   \n",
       "\n",
       "       c0   c1  \n",
       "1571  607  638  "
      ]
     },
     "execution_count": 41,
     "metadata": {},
     "output_type": "execute_result"
    }
   ],
   "source": [
    "haci_data[haci_data.id==2687]"
   ]
  },
  {
   "cell_type": "code",
   "execution_count": 35,
   "metadata": {},
   "outputs": [
    {
     "data": {
      "text/plain": [
       "Text(0.5, 1.0, 'IR-10,8-µm-Ausschnitt zum\\nAuslösungszeitpunkt')"
      ]
     },
     "execution_count": 35,
     "metadata": {},
     "output_type": "execute_result"
    },
    {
     "data": {
      "image/png": "[encoded data removed]",
      "text/plain": [
       "<Figure size 432x432 with 1 Axes>"
      ]
     },
     "metadata": {
      "needs_background": "light"
     },
     "output_type": "display_data"
    }
   ],
   "source": [
    "fig,ax = plt.subplots(1,1,figsize=(6,6))\n",
    "ax.imshow(example_case_data['ir108'][6],vmin=210,vmax=300,cmap=emap)\n",
    "ax.set_title(\"IR-10,8-µm-Ausschnitt zum\\nAuslösungszeitpunkt\")"
   ]
  },
  {
   "cell_type": "markdown",
   "metadata": {},
   "source": [
    "Als nächstes versuchen wir Objekt(e) zu finden."
   ]
  },
  {
   "cell_type": "code",
   "execution_count": 90,
   "metadata": {},
   "outputs": [],
   "source": [
    "objects = np.array([oseg.segment_local_threshold(ir,\n",
    "                                                minimum_depth = 5,\n",
    "                                                tmax = 273.15, tmin = 220,thresh_min = 240, spread = 5) \n",
    "                   for ir in example_case_data['ir108']])"
   ]
  },
  {
   "cell_type": "code",
   "execution_count": null,
   "metadata": {},
   "outputs": [],
   "source": [
    "local_minima = extr"
   ]
  },
  {
   "cell_type": "code",
   "execution_count": 94,
   "metadata": {},
   "outputs": [
    {
     "data": {
      "text/plain": [
       "Text(0.5, 1.0, 'IR-10,8-µm-Ausschnitt zum\\nAuslösungszeitpunkt mit Objekten')"
      ]
     },
     "execution_count": 94,
     "metadata": {},
     "output_type": "execute_result"
    },
    {
     "data": {
      "image/png": "[encoded data removed]",
      "text/plain": [
       "<Figure size 432x432 with 1 Axes>"
      ]
     },
     "metadata": {
      "needs_background": "light"
     },
     "output_type": "display_data"
    }
   ],
   "source": [
    "fig,ax = plt.subplots(1,1,figsize=(6,6))\n",
    "ax.imshow(example_case_data['ir108'][6],vmin=210,vmax=300,cmap='gray_r')\n",
    "ax.imshow(np.ma.masked_less(objects[6],1),alpha=0.8,cmap='Greens_r')\n",
    "ax.set_title(\"IR-10,8-µm-Ausschnitt zum\\nAuslösungszeitpunkt mit Objekten\")"
   ]
  },
  {
   "cell_type": "code",
   "execution_count": 168,
   "metadata": {},
   "outputs": [],
   "source": [
    "test = xr.open_dataset(\"{}/track_20130618_2687.nc\".format(ioc.haci_track_data_path))"
   ]
  },
  {
   "cell_type": "code",
   "execution_count": 174,
   "metadata": {},
   "outputs": [],
   "source": [
    "mst.get_nwcsaf_prod?"
   ]
  },
  {
   "cell_type": "code",
   "execution_count": 219,
   "metadata": {},
   "outputs": [],
   "source": [
    "time = test.time.data[6]"
   ]
  },
  {
   "cell_type": "code",
   "execution_count": 220,
   "metadata": {},
   "outputs": [],
   "source": [
    "data_shape = test.ir108.data[6].shape\n",
    "half_shape = data_shape[0]//2\n",
    "cutout_index = gi.get_index_kdtree(np.array([[test.slon.data[half_shape,half_shape]],\n",
    "                                             [test.slat.data[half_shape,half_shape]]]),slon,slat)"
   ]
  },
  {
   "cell_type": "code",
   "execution_count": 221,
   "metadata": {},
   "outputs": [
    {
     "data": {
      "text/plain": [
       "(11.256345999999999, 50.50324)"
      ]
     },
     "execution_count": 221,
     "metadata": {},
     "output_type": "execute_result"
    }
   ],
   "source": [
    "test.slon.data[half_shape,half_shape], test.slat.data[half_shape,half_shape]"
   ]
  },
  {
   "cell_type": "code",
   "execution_count": 222,
   "metadata": {},
   "outputs": [
    {
     "data": {
      "text/plain": [
       "[(175, 539)]"
      ]
     },
     "execution_count": 222,
     "metadata": {},
     "output_type": "execute_result"
    }
   ],
   "source": [
    "cutout_index"
   ]
  },
  {
   "cell_type": "code",
   "execution_count": 223,
   "metadata": {},
   "outputs": [
    {
     "name": "stderr",
     "output_type": "stream",
     "text": [
      "/vols/satellite/home/lenk/anaconda3/envs/tracking/lib/python3.7/site-packages/h5py/_hl/dataset.py:313: H5pyDeprecationWarning: dataset.value has been deprecated. Use dataset[()] instead.\n",
      "  \"Use dataset[()] instead.\", H5pyDeprecationWarning)\n"
     ]
    }
   ],
   "source": [
    "time = pd.Timestamp(time).to_pydatetime()\n",
    "ct_data = mst.get_nwcsaf_prod('CT',time,'rss','none','eu',calibrate=True)\n",
    "ctth_data = mst.get_nwcsaf_prod('CTTH_HEIGHT',time,'rss','none','eu',calibrate=True)"
   ]
  },
  {
   "cell_type": "code",
   "execution_count": 225,
   "metadata": {},
   "outputs": [],
   "source": [
    "ct_corr = parallax_correct_msg(ct_data,slon,slat,ctth_data,'std','eu','rss',3)\n",
    "ctth_corr = parallax_correct_msg(ctth_data,slon,slat,ctth_data,'std','eu','rss',3)\n",
    "\n",
    "ct_corr_cutout = gi.cutout_field4box(ct_corr,cutout_index[0],51)\n",
    "ctth_corr_cutout = gi.cutout_field4box(ctth_corr,cutout_index[0],51)"
   ]
  },
  {
   "cell_type": "code",
   "execution_count": 228,
   "metadata": {},
   "outputs": [
    {
     "data": {
      "text/plain": [
       "<xarray.Dataset>\n",
       "Dimensions:  (hx: 153, hy: 153, rax: 306, ray: 153, sx: 51, sy: 51, time: 13)\n",
       "Coordinates:\n",
       "  * time     (time) datetime64[ns] 2013-06-18T13:20:00 ... 2013-06-18T14:20:00\n",
       "    slon     (sx, sy) float64 10.15 10.2 10.24 10.29 ... 12.17 12.21 12.25 12.3\n",
       "    slat     (sx, sy) float64 51.89 51.89 51.89 51.89 ... 49.18 49.18 49.18\n",
       "    hlon     (hx, hy) float64 ...\n",
       "    hlat     (hx, hy) float64 ...\n",
       "    rlon     (rax, ray) float64 ...\n",
       "    rlat     (rax, ray) float64 ...\n",
       "Dimensions without coordinates: hx, hy, rax, ray, sx, sy\n",
       "Data variables:\n",
       "    vis006   (time, sx, sy) float64 ...\n",
       "    vis008   (time, sx, sy) float64 ...\n",
       "    ir016    (time, sx, sy) float64 ...\n",
       "    ir039    (time, sx, sy) float64 ...\n",
       "    wv062    (time, sx, sy) float64 ...\n",
       "    wv073    (time, sx, sy) float64 ...\n",
       "    ir087    (time, sx, sy) float64 ...\n",
       "    ir097    (time, sx, sy) float64 ...\n",
       "    ir108    (time, sx, sy) float64 294.6 294.0 293.3 ... 298.5 293.1 284.2\n",
       "    ir120    (time, sx, sy) float64 ...\n",
       "    ir134    (time, sx, sy) float64 ...\n",
       "    hrv      (time, hx, hy) float64 ...\n",
       "    ct       (time, sx, sy) float64 ...\n",
       "    ctth     (time, sx, sy) float64 ...\n",
       "    cma      (time, sx, sy) float64 ...\n",
       "    rx       (time, rax, ray) float64 ...\n",
       "Attributes:\n",
       "    title:               Collection of MSG, RADOLAN and Linet data for HACI t...\n",
       "    institution:         Leibniz Institute for Tropospheric Research\n",
       "    contact_person:      Stephan Lenk, lenk@tropos.de\n",
       "    processing_time:     20200221T01:55:51\n",
       "    author:              Stephan Lenk, lenk@tropos.de\n",
       "    license:             For non-commercial use only.\n",
       "    source:              MSG SEVIRI data , NWCSAF products and RADOLAN RX data\n",
       "    history:             Gridded and aggregated for 5 min time steps from the...\n",
       "    summary:             Eulerian data stack for the HACI track 20130618_2687...\n",
       "    region_id:           RADOLAN RX\n",
       "    spatial_resolution:  3 km x 6km, 1 km x 1 km\n",
       "    gdal_projection:     +proj=stere +lat_0=90 +lat_ts=60 +lon_0=10 +x_0=0 +y..."
      ]
     },
     "execution_count": 228,
     "metadata": {},
     "output_type": "execute_result"
    }
   ],
   "source": [
    "test"
   ]
  },
  {
   "cell_type": "code",
   "execution_count": 227,
   "metadata": {},
   "outputs": [
    {
     "data": {
      "text/plain": [
       "<matplotlib.image.AxesImage at 0x7fdae4372f50>"
      ]
     },
     "execution_count": 227,
     "metadata": {},
     "output_type": "execute_result"
    },
    {
     "data": {
      "image/png": "[encoded data removed]",
      "text/plain": [
       "<Figure size 432x288 with 1 Axes>"
      ]
     },
     "metadata": {
      "needs_background": "light"
     },
     "output_type": "display_data"
    }
   ],
   "source": [
    "plt.imshow(ctth_corr_cutout-example_case_data['ctth'][6],vmin=-10000,vmax=10000,cmap='RdBu_r')"
   ]
  },
  {
   "cell_type": "code",
   "execution_count": 231,
   "metadata": {},
   "outputs": [],
   "source": [
    "ct = []\n",
    "ctth = []\n",
    "cma = []\n",
    "# Daten ausschneiden \n",
    "for i,time in enumerate(test.time.data):\n",
    "    time = pd.Timestamp(time).to_pydatetime()\n",
    "    ct_data = mst.get_nwcsaf_prod('CT',time,'rss','none','eu',calibrate=True)\n",
    "    ctth_data = mst.get_nwcsaf_prod('CTTH_HEIGHT',time,'rss','none','eu',calibrate=True)\n",
    "    cma_data = mst.get_nwcsaf_prod('CMa',time,'rss','none','eu',calibrate=True)\n",
    "\n",
    "    ct_corr = parallax_correct_msg(ct_data,slon,slat,ctth_data,'std','eu','rss',3)\n",
    "    ctth_corr = parallax_correct_msg(ctth_data,slon,slat,ctth_data,'std','eu','rss',3)\n",
    "    cma_corr = parallax_correct_msg(cma_data,slon,slat,ctth_data,'std','eu','rss',3)\n",
    "\n",
    "    ct_corr_cutout = gi.cutout_field4box(ct_corr,cutout_index[0],data_shape[0])\n",
    "    ctth_corr_cutout = gi.cutout_field4box(ctth_corr,cutout_index[0],data_shape[0])\n",
    "    cma_corr_cutout = gi.cutout_field4box(cma_corr,cutout_index[0],data_shape[0])\n",
    "\n",
    "    ct.append(ct_corr_cutout)\n",
    "    ctth.append(ctth_corr_cutout)\n",
    "    cma.append(cma_corr_cutout)"
   ]
  },
  {
   "cell_type": "code",
   "execution_count": 232,
   "metadata": {},
   "outputs": [
    {
     "data": {
      "text/plain": [
       "[array([[ 1.,  1.,  1., ...,  1.,  1.,  1.],\n",
       "        [ 1.,  1.,  1., ...,  1.,  1.,  1.],\n",
       "        [ 1.,  1.,  1., ...,  1.,  1.,  1.],\n",
       "        ...,\n",
       "        [ 1.,  1.,  1., ...,  1.,  1., 19.],\n",
       "        [ 1.,  1.,  1., ...,  1.,  1., 19.],\n",
       "        [ 1.,  1.,  1., ...,  1.,  1.,  1.]], dtype=float32),\n",
       " array([[ 1.,  1.,  1., ...,  1.,  1.,  1.],\n",
       "        [ 1.,  1.,  1., ...,  1.,  1.,  1.],\n",
       "        [ 1.,  1.,  1., ...,  1.,  1.,  1.],\n",
       "        ...,\n",
       "        [ 1.,  1.,  1., ...,  1.,  1.,  6.],\n",
       "        [ 1.,  1.,  1., ..., 19.,  1.,  6.],\n",
       "        [ 1.,  1.,  1., ...,  1.,  1.,  1.]], dtype=float32),\n",
       " array([[ 1.,  1.,  1., ...,  1.,  1.,  1.],\n",
       "        [ 1.,  1.,  1., ...,  1.,  1.,  1.],\n",
       "        [19.,  1.,  1., ...,  1.,  1.,  1.],\n",
       "        ...,\n",
       "        [ 1.,  1.,  1., ...,  1.,  1.,  1.],\n",
       "        [ 1.,  1.,  1., ..., 19.,  1., 19.],\n",
       "        [ 1.,  1.,  1., ...,  1.,  1., 19.]], dtype=float32),\n",
       " array([[ 1.,  1.,  1., ...,  1.,  1.,  1.],\n",
       "        [ 1.,  1.,  1., ...,  1.,  1.,  1.],\n",
       "        [ 1.,  1.,  1., ...,  1.,  1.,  1.],\n",
       "        ...,\n",
       "        [ 1.,  1.,  1., ...,  1.,  1., 19.],\n",
       "        [ 1.,  1.,  1., ...,  1.,  1., 19.],\n",
       "        [ 1.,  1.,  1., ...,  1.,  1., 19.]], dtype=float32),\n",
       " array([[ 1.,  1.,  1., ...,  1.,  1.,  1.],\n",
       "        [ 1.,  1.,  1., ...,  1.,  1.,  1.],\n",
       "        [ 1.,  1.,  1., ...,  1.,  1.,  1.],\n",
       "        ...,\n",
       "        [ 1.,  1.,  1., ...,  1.,  1.,  1.],\n",
       "        [ 1.,  1.,  1., ...,  1.,  1., 19.],\n",
       "        [ 1.,  1.,  1., ...,  1.,  1., 19.]], dtype=float32),\n",
       " array([[ 1.,  1.,  1., ...,  1.,  1.,  1.],\n",
       "        [ 1.,  1.,  1., ...,  1.,  1.,  1.],\n",
       "        [ 1.,  1.,  1., ...,  1.,  1.,  1.],\n",
       "        ...,\n",
       "        [ 1.,  1.,  1., ..., 19.,  1.,  1.],\n",
       "        [ 1.,  1.,  1., ..., 19.,  1., 19.],\n",
       "        [ 1.,  1.,  1., ...,  1.,  1.,  6.]], dtype=float32),\n",
       " array([[ 1.,  1.,  1., ...,  1.,  1.,  1.],\n",
       "        [ 1.,  1.,  1., ...,  1.,  1.,  1.],\n",
       "        [ 1.,  1.,  1., ...,  1.,  1.,  1.],\n",
       "        ...,\n",
       "        [ 1.,  1.,  1., ..., 19.,  1., 19.],\n",
       "        [ 1.,  1.,  1., ..., 19., 19., 19.],\n",
       "        [ 1.,  1.,  1., ...,  1., 19.,  8.]], dtype=float32),\n",
       " array([[ 1.,  1.,  1., ...,  1.,  1.,  1.],\n",
       "        [ 1.,  1.,  1., ...,  1.,  1.,  1.],\n",
       "        [ 1.,  1.,  1., ...,  1.,  1.,  1.],\n",
       "        ...,\n",
       "        [ 1.,  1.,  1., ..., 19., 19., 19.],\n",
       "        [ 1.,  1.,  1., ..., 19., 19.,  8.],\n",
       "        [ 1.,  1.,  1., ...,  1., 19.,  8.]], dtype=float32),\n",
       " array([[ 1.,  1.,  1., ...,  1.,  1.,  1.],\n",
       "        [ 1.,  1.,  1., ...,  1.,  1.,  1.],\n",
       "        [ 1.,  1.,  1., ...,  1.,  1.,  1.],\n",
       "        ...,\n",
       "        [ 1.,  1.,  1., ..., 19., 19., 19.],\n",
       "        [ 1.,  1.,  1., ...,  1., 19.,  8.],\n",
       "        [ 1.,  1.,  1., ...,  1., 19.,  8.]], dtype=float32),\n",
       " array([[ 1.,  1.,  1., ...,  1.,  1.,  1.],\n",
       "        [ 1.,  1.,  1., ...,  1.,  1.,  1.],\n",
       "        [ 1.,  1.,  1., ...,  1.,  1.,  1.],\n",
       "        ...,\n",
       "        [ 1.,  1.,  1., ..., 19., 19., 19.],\n",
       "        [ 1.,  1.,  1., ..., 19., 19.,  8.],\n",
       "        [ 1.,  1.,  1., ...,  1., 19.,  8.]], dtype=float32),\n",
       " array([[ 1.,  1.,  1., ...,  1.,  1.,  1.],\n",
       "        [ 1.,  1., 19., ...,  1.,  1.,  1.],\n",
       "        [ 1.,  1.,  1., ...,  1.,  1.,  1.],\n",
       "        ...,\n",
       "        [ 1.,  1.,  1., ..., 19., 19.,  8.],\n",
       "        [ 1.,  1.,  1., ...,  1., 19.,  8.],\n",
       "        [ 1.,  1.,  1., ...,  1., 19.,  8.]], dtype=float32),\n",
       " array([[ 1.,  1.,  1., ...,  1.,  1.,  1.],\n",
       "        [ 1.,  1., 19., ...,  1.,  1.,  1.],\n",
       "        [19.,  1.,  1., ...,  1.,  1.,  1.],\n",
       "        ...,\n",
       "        [ 1.,  1.,  1., ...,  6., 19.,  8.],\n",
       "        [ 1.,  1.,  1., ..., 19.,  6.,  8.],\n",
       "        [ 1.,  1.,  1., ...,  1.,  6.,  8.]], dtype=float32),\n",
       " array([[ 1.,  1.,  1., ...,  1.,  1.,  1.],\n",
       "        [ 1.,  1., 19., ...,  1.,  1.,  1.],\n",
       "        [19.,  1.,  1., ...,  1.,  1.,  1.],\n",
       "        ...,\n",
       "        [ 1.,  1.,  1., ...,  6.,  6., 15.],\n",
       "        [ 1.,  1.,  1., ..., 19.,  8., 10.],\n",
       "        [ 1.,  1.,  1., ..., 19.,  6.,  8.]], dtype=float32)]"
      ]
     },
     "execution_count": 232,
     "metadata": {},
     "output_type": "execute_result"
    }
   ],
   "source": [
    "ct"
   ]
  },
  {
   "cell_type": "code",
   "execution_count": 234,
   "metadata": {},
   "outputs": [],
   "source": [
    "ds = test.copy(deep=True)"
   ]
  },
  {
   "cell_type": "code",
   "execution_count": 235,
   "metadata": {},
   "outputs": [],
   "source": [
    "test.close()"
   ]
  },
  {
   "cell_type": "code",
   "execution_count": 236,
   "metadata": {},
   "outputs": [
    {
     "data": {
      "text/plain": [
       "<xarray.Dataset>\n",
       "Dimensions:  (hx: 153, hy: 153, rax: 306, ray: 153, sx: 51, sy: 51, time: 13)\n",
       "Coordinates:\n",
       "  * time     (time) datetime64[ns] 2013-06-18T13:20:00 ... 2013-06-18T14:20:00\n",
       "    slon     (sx, sy) float64 10.15 10.2 10.24 10.29 ... 12.17 12.21 12.25 12.3\n",
       "    slat     (sx, sy) float64 51.89 51.89 51.89 51.89 ... 49.18 49.18 49.18\n",
       "    hlon     (hx, hy) float64 10.14 10.15 10.17 10.18 ... 12.27 12.28 12.3 12.31\n",
       "    hlat     (hx, hy) float64 51.91 51.91 51.91 51.91 ... 49.16 49.16 49.16\n",
       "    rlon     (rax, ray) float64 10.23 10.24 10.25 10.27 ... 12.33 12.34 12.36\n",
       "    rlat     (rax, ray) float64 49.18 49.18 49.18 49.18 ... 51.76 51.76 51.76\n",
       "Dimensions without coordinates: hx, hy, rax, ray, sx, sy\n",
       "Data variables:\n",
       "    vis006   (time, sx, sy) float64 0.0761 0.0661 0.0661 ... 0.1282 0.2454\n",
       "    vis008   (time, sx, sy) float64 0.2872 0.2481 0.2148 ... 0.2297 0.3239\n",
       "    ir016    (time, sx, sy) float64 0.1537 0.1281 0.1176 ... 0.1071 0.191 0.2166\n",
       "    ir039    (time, sx, sy) float64 297.2 295.4 294.8 ... 300.0 298.8 293.3\n",
       "    wv062    (time, sx, sy) float64 234.7 235.1 235.1 ... 237.0 237.1 237.0\n",
       "    wv073    (time, sx, sy) float64 253.8 254.0 253.8 ... 256.7 256.7 255.5\n",
       "    ir087    (time, sx, sy) float64 292.4 291.6 290.8 ... 295.9 292.3 284.1\n",
       "    ir097    (time, sx, sy) float64 259.8 259.7 258.9 ... 262.8 261.5 257.2\n",
       "    ir108    (time, sx, sy) float64 294.6 294.0 293.3 ... 298.5 293.1 284.2\n",
       "    ir120    (time, sx, sy) float64 291.4 291.0 290.3 ... 295.1 291.0 283.0\n",
       "    ir134    (time, sx, sy) float64 264.3 264.8 264.7 ... 266.8 265.5 261.9\n",
       "    hrv      (time, hx, hy) float64 0.1586 0.1598 0.1453 ... 0.1223 0.1271\n",
       "    ct       (time, sx, sy) float64 1.0 1.0 1.0 19.0 19.0 ... 1.0 1.0 1.0 1.0\n",
       "    ctth     (time, sx, sy) float64 0.0 0.0 0.0 0.0 0.0 ... 0.0 0.0 0.0 0.0 0.0\n",
       "    cma      (time, sx, sy) float64 1.0 1.0 1.0 2.0 2.0 ... 1.0 1.0 1.0 1.0 1.0\n",
       "    rx       (time, rax, ray) float64 -32.5 -32.5 -32.5 ... -32.5 -32.5 -32.5\n",
       "Attributes:\n",
       "    title:               Collection of MSG, RADOLAN and Linet data for HACI t...\n",
       "    institution:         Leibniz Institute for Tropospheric Research\n",
       "    contact_person:      Stephan Lenk, lenk@tropos.de\n",
       "    processing_time:     20200221T01:55:51\n",
       "    author:              Stephan Lenk, lenk@tropos.de\n",
       "    license:             For non-commercial use only.\n",
       "    source:              MSG SEVIRI data , NWCSAF products and RADOLAN RX data\n",
       "    history:             Gridded and aggregated for 5 min time steps from the...\n",
       "    summary:             Eulerian data stack for the HACI track 20130618_2687...\n",
       "    region_id:           RADOLAN RX\n",
       "    spatial_resolution:  3 km x 6km, 1 km x 1 km\n",
       "    gdal_projection:     +proj=stere +lat_0=90 +lat_ts=60 +lon_0=10 +x_0=0 +y..."
      ]
     },
     "execution_count": 236,
     "metadata": {},
     "output_type": "execute_result"
    }
   ],
   "source": [
    "ds"
   ]
  },
  {
   "cell_type": "code",
   "execution_count": 237,
   "metadata": {},
   "outputs": [
    {
     "name": "stderr",
     "output_type": "stream",
     "text": [
      "/vols/satellite/home/lenk/anaconda3/envs/tracking/lib/python3.7/site-packages/xarray/core/dataarray.py:219: FutureWarning: The Panel class is removed from pandas. Accessing it from the top-level namespace will also be removed in the next version\n",
      "  elif isinstance(data, pd.Panel):\n"
     ]
    }
   ],
   "source": [
    "ct = xr.DataArray(ct,\n",
    "                  dims=['time','x','y'])\n",
    "ds['ct'] = ct  \n",
    "\n",
    "ctth = xr.DataArray(ctth,\n",
    "                    dims=['time','x','y'])\n",
    "ds['ctth'] = ctth\n",
    "\n",
    "cma = xr.DataArray(cma,\n",
    "                   dims=['time','x','y'])\n",
    "ds['cma'] = cma  "
   ]
  },
  {
   "cell_type": "code",
   "execution_count": 238,
   "metadata": {},
   "outputs": [
    {
     "data": {
      "text/plain": [
       "<xarray.Dataset>\n",
       "Dimensions:  (hx: 153, hy: 153, rax: 306, ray: 153, sx: 51, sy: 51, time: 13, x: 51, y: 51)\n",
       "Coordinates:\n",
       "  * time     (time) datetime64[ns] 2013-06-18T13:20:00 ... 2013-06-18T14:20:00\n",
       "    slon     (sx, sy) float64 10.15 10.2 10.24 10.29 ... 12.17 12.21 12.25 12.3\n",
       "    slat     (sx, sy) float64 51.89 51.89 51.89 51.89 ... 49.18 49.18 49.18\n",
       "    hlon     (hx, hy) float64 10.14 10.15 10.17 10.18 ... 12.27 12.28 12.3 12.31\n",
       "    hlat     (hx, hy) float64 51.91 51.91 51.91 51.91 ... 49.16 49.16 49.16\n",
       "    rlon     (rax, ray) float64 10.23 10.24 10.25 10.27 ... 12.33 12.34 12.36\n",
       "    rlat     (rax, ray) float64 49.18 49.18 49.18 49.18 ... 51.76 51.76 51.76\n",
       "Dimensions without coordinates: hx, hy, rax, ray, sx, sy, x, y\n",
       "Data variables:\n",
       "    vis006   (time, sx, sy) float64 0.0761 0.0661 0.0661 ... 0.1282 0.2454\n",
       "    vis008   (time, sx, sy) float64 0.2872 0.2481 0.2148 ... 0.2297 0.3239\n",
       "    ir016    (time, sx, sy) float64 0.1537 0.1281 0.1176 ... 0.1071 0.191 0.2166\n",
       "    ir039    (time, sx, sy) float64 297.2 295.4 294.8 ... 300.0 298.8 293.3\n",
       "    wv062    (time, sx, sy) float64 234.7 235.1 235.1 ... 237.0 237.1 237.0\n",
       "    wv073    (time, sx, sy) float64 253.8 254.0 253.8 ... 256.7 256.7 255.5\n",
       "    ir087    (time, sx, sy) float64 292.4 291.6 290.8 ... 295.9 292.3 284.1\n",
       "    ir097    (time, sx, sy) float64 259.8 259.7 258.9 ... 262.8 261.5 257.2\n",
       "    ir108    (time, sx, sy) float64 294.6 294.0 293.3 ... 298.5 293.1 284.2\n",
       "    ir120    (time, sx, sy) float64 291.4 291.0 290.3 ... 295.1 291.0 283.0\n",
       "    ir134    (time, sx, sy) float64 264.3 264.8 264.7 ... 266.8 265.5 261.9\n",
       "    hrv      (time, hx, hy) float64 0.1586 0.1598 0.1453 ... 0.1223 0.1271\n",
       "    ct       (time, x, y) float32 1.0 1.0 1.0 1.0 1.0 ... 1.0 1.0 19.0 6.0 8.0\n",
       "    ctth     (time, x, y) float32 0.0 0.0 0.0 ... 2.5166972e-13 999.99994 2400.0\n",
       "    cma      (time, x, y) float32 1.0 1.0 1.0 1.0 1.0 ... 1.0 1.0 2.0 2.0 3.0\n",
       "    rx       (time, rax, ray) float64 -32.5 -32.5 -32.5 ... -32.5 -32.5 -32.5\n",
       "Attributes:\n",
       "    title:               Collection of MSG, RADOLAN and Linet data for HACI t...\n",
       "    institution:         Leibniz Institute for Tropospheric Research\n",
       "    contact_person:      Stephan Lenk, lenk@tropos.de\n",
       "    processing_time:     20200221T01:55:51\n",
       "    author:              Stephan Lenk, lenk@tropos.de\n",
       "    license:             For non-commercial use only.\n",
       "    source:              MSG SEVIRI data , NWCSAF products and RADOLAN RX data\n",
       "    history:             Gridded and aggregated for 5 min time steps from the...\n",
       "    summary:             Eulerian data stack for the HACI track 20130618_2687...\n",
       "    region_id:           RADOLAN RX\n",
       "    spatial_resolution:  3 km x 6km, 1 km x 1 km\n",
       "    gdal_projection:     +proj=stere +lat_0=90 +lat_ts=60 +lon_0=10 +x_0=0 +y..."
      ]
     },
     "execution_count": 238,
     "metadata": {},
     "output_type": "execute_result"
    }
   ],
   "source": [
    "ds"
   ]
  },
  {
   "cell_type": "markdown",
   "metadata": {},
   "source": [
    "Das Objekt, das zu dem HACI-Fall gehört, ist das in der Mitte."
   ]
  },
  {
   "cell_type": "code",
   "execution_count": 95,
   "metadata": {},
   "outputs": [],
   "source": [
    "wanted_object_id = ot.get_wanted_object_id(objects)"
   ]
  },
  {
   "cell_type": "code",
   "execution_count": 96,
   "metadata": {},
   "outputs": [],
   "source": [
    "object_mask = np.ma.masked_equal(objects[6],wanted_object_id).mask*1"
   ]
  },
  {
   "cell_type": "code",
   "execution_count": 98,
   "metadata": {},
   "outputs": [
    {
     "data": {
      "text/plain": [
       "Text(0.5, 1.0, 'IR-10,8-µm-Ausschnitt zum\\nAuslösungszeitpunkt mit Objekten')"
      ]
     },
     "execution_count": 98,
     "metadata": {},
     "output_type": "execute_result"
    },
    {
     "data": {
      "image/png": "[encoded data removed]",
      "text/plain": [
       "<Figure size 432x432 with 1 Axes>"
      ]
     },
     "metadata": {
      "needs_background": "light"
     },
     "output_type": "display_data"
    }
   ],
   "source": [
    "fig,ax = plt.subplots(1,1,figsize=(6,6))\n",
    "ax.imshow(example_case_data['ir108'][6],vmin=210,vmax=300,cmap='gray_r')\n",
    "ax.imshow(np.ma.masked_less(object_mask,1),alpha=0.8)\n",
    "ax.set_title(\"IR-10,8-µm-Ausschnitt zum\\nAuslösungszeitpunkt mit Objekten\")"
   ]
  },
  {
   "cell_type": "code",
   "execution_count": 104,
   "metadata": {},
   "outputs": [
    {
     "name": "stdout",
     "output_type": "stream",
     "text": [
      "Objektfläche = 6 px² ≈ 130.464 km²\n"
     ]
    }
   ],
   "source": [
    "object_area = np.count_nonzero(object_mask)\n",
    "print(u\"Objektfläche = {} px² \\N{ALMOST EQUAL TO} {} km²\".format(object_area, object_area * 21.744))"
   ]
  },
  {
   "cell_type": "markdown",
   "metadata": {},
   "source": [
    "Das Objekt umfasst den kalten Kernbereich der Wolke und ist mit einer Fläche von ca. 131&thinsp;km<sup>2</sup> nicht besonders groß.\n",
    "\n",
    "Damit können wir jetzt die entsprechenden Objektwerte heraussuchen."
   ]
  },
  {
   "cell_type": "code",
   "execution_count": 123,
   "metadata": {},
   "outputs": [],
   "source": [
    "def get_object_values(value_field,object_mask):\n",
    "    object_values = value_field[np.where(object_mask!=0)]\n",
    "    \n",
    "    stat_functions = {'min':np.min,\n",
    "                       'max':np.max,\n",
    "                       'mean':np.mean,\n",
    "                       'q25':np.percentile,\n",
    "                       'q75':np.percentile,\n",
    "                       'q50':np.median}\n",
    "    \n",
    "    object_stats = {f:[] for f in stat_functions.keys()}\n",
    "    \n",
    "    for func in stat_functions.keys():\n",
    "            if func in ['q25','median','q75']:\n",
    "                object_stats[func] = np.percentile(object_values,float(func[1:]))\n",
    "            else:\n",
    "                object_stats[func] = stat_functions[func](object_values)\n",
    "                \n",
    "    return (object_values, object_stats)"
   ]
  },
  {
   "cell_type": "code",
   "execution_count": 127,
   "metadata": {},
   "outputs": [],
   "source": [
    "object_values = {val_id:[] for val_id in list(example_case_data.keys())[:15]}\n",
    "object_stats = {val_id:[] for val_id in list(example_case_data.keys())[:15]}\n",
    "\n",
    "for k in list(example_case_data.keys())[:15]:\n",
    "    if k == 'hrv':\n",
    "        om = object_mask.repeat(3,axis=0).repeat(3,axis=1)\n",
    "    else:\n",
    "        om = object_mask\n",
    "        \n",
    "    obj_val, obj_stat = get_object_values(example_case_data[k][6],\n",
    "                                          om)\n",
    "\n",
    "    object_values[k] = obj_val\n",
    "    object_stats[k] = obj_stat"
   ]
  },
  {
   "cell_type": "code",
   "execution_count": 128,
   "metadata": {},
   "outputs": [
    {
     "data": {
      "text/plain": [
       "{'vis006': array([0.5218, 0.5238, 0.4096, 0.5859, 0.5748, 0.4757]),\n",
       " 'vis008': array([0.5743, 0.6283, 0.5238, 0.6329, 0.6524, 0.5502]),\n",
       " 'ir016': array([0.2783, 0.283 , 0.2539, 0.2923, 0.2655, 0.2096]),\n",
       " 'ir039': array([264.1537, 259.6469, 264.8836, 258.7179, 254.5359, 255.1063]),\n",
       " 'wv062': array([222.5993, 214.9614, 216.1011, 223.1377, 213.92  , 228.8962]),\n",
       " 'wv073': array([228.0592, 214.6103, 217.4903, 227.5109, 213.7752, 235.2582]),\n",
       " 'ir087': array([238.7777, 224.8986, 233.6133, 230.5066, 221.4291, 240.697 ]),\n",
       " 'ir097': array([235.7787, 227.7444, 229.0506, 233.1217, 226.0132, 236.1018]),\n",
       " 'ir108': array([229.8409, 221.2945, 233.4218, 226.0313, 221.9499, 236.2978]),\n",
       " 'ir120': array([232.8354, 220.8875, 229.2554, 228.7287, 219.9884, 239.2805]),\n",
       " 'ir134': array([232.4965, 220.6217, 223.8961, 230.2243, 219.6862, 237.4749]),\n",
       " 'hrv': array([0.73375065, 0.67078855, 0.66352369, 0.60540483, 0.46616172,\n",
       "        0.38624828, 0.3765618 , 0.33176184, 0.23489707, 0.60419402,\n",
       "        0.68410745, 0.67321017, 0.60056159, 0.47100495, 0.37898342,\n",
       "        0.28938351, 0.19251873, 0.05932967, 0.4637401 , 0.62841021,\n",
       "        0.60782644, 0.55576163, 0.47221576, 0.33781589, 0.17435659,\n",
       "        0.03511348, 0.03874591, 0.33660508, 0.33297265, 0.40562123,\n",
       "        0.35476723, 0.31117808, 0.18646469, 0.26153488, 0.21068088,\n",
       "        0.16103768, 0.11502692, 0.0750702 , 0.04722158, 0.18888631,\n",
       "        0.14408635, 0.11987016, 0.09807558, 0.06417291, 0.04358915,\n",
       "        0.20947007, 0.18646469, 0.14650797, 0.45526443, 0.25790246,\n",
       "        0.12229177, 0.16830254, 0.17193497, 0.22036736]),\n",
       " 'ct': array([10., 16., 19.,  8., 15.,  6.]),\n",
       " 'ctth': array([ 6000., 11600.,     0.,  3200., 11600.,  1200.]),\n",
       " 'cma': array([3., 2., 2., 3., 2., 2.])}"
      ]
     },
     "execution_count": 128,
     "metadata": {},
     "output_type": "execute_result"
    }
   ],
   "source": [
    "object_values"
   ]
  },
  {
   "cell_type": "code",
   "execution_count": 129,
   "metadata": {},
   "outputs": [
    {
     "data": {
      "text/plain": [
       "{'vis006': {'min': 0.4096,\n",
       "  'max': 0.5859,\n",
       "  'mean': 0.5152666666666667,\n",
       "  'q25': 0.487225,\n",
       "  'q75': 0.5620499999999999,\n",
       "  'q50': 0.5228},\n",
       " 'vis008': {'min': 0.5238,\n",
       "  'max': 0.6524,\n",
       "  'mean': 0.5936500000000001,\n",
       "  'q25': 0.556225,\n",
       "  'q75': 0.63175,\n",
       "  'q50': 0.6013000000000001},\n",
       " 'ir016': {'min': 0.2096,\n",
       "  'max': 0.2923,\n",
       "  'mean': 0.26376666666666665,\n",
       "  'q25': 0.25680000000000003,\n",
       "  'q75': 0.281825,\n",
       "  'q50': 0.27190000000000003},\n",
       " 'ir039': {'min': 254.5359,\n",
       "  'max': 264.8836,\n",
       "  'mean': 259.50738333333334,\n",
       "  'q25': 256.00919999999996,\n",
       "  'q75': 263.027,\n",
       "  'q50': 259.18240000000003},\n",
       " 'wv062': {'min': 213.92000000000002,\n",
       "  'max': 228.89620000000002,\n",
       "  'mean': 219.93594999999996,\n",
       "  'q25': 215.24632499999998,\n",
       "  'q75': 223.00310000000002,\n",
       "  'q50': 219.3502},\n",
       " 'wv073': {'min': 213.7752,\n",
       "  'max': 235.25820000000002,\n",
       "  'mean': 222.78401666666664,\n",
       "  'q25': 215.33030000000002,\n",
       "  'q75': 227.922125,\n",
       "  'q50': 222.50060000000002},\n",
       " 'ir087': {'min': 221.4291,\n",
       "  'max': 240.697,\n",
       "  'mean': 231.6537166666667,\n",
       "  'q25': 226.30060000000003,\n",
       "  'q75': 237.4866,\n",
       "  'q50': 232.05995000000001},\n",
       " 'ir097': {'min': 226.0132,\n",
       "  'max': 236.1018,\n",
       "  'mean': 231.30173333333335,\n",
       "  'q25': 228.07095,\n",
       "  'q75': 235.11445,\n",
       "  'q50': 231.08615},\n",
       " 'ir108': {'min': 221.2945,\n",
       "  'max': 236.29780000000002,\n",
       "  'mean': 228.13936666666666,\n",
       "  'q25': 222.97025,\n",
       "  'q75': 232.526575,\n",
       "  'q50': 227.9361},\n",
       " 'ir120': {'min': 219.9884,\n",
       "  'max': 239.28050000000002,\n",
       "  'mean': 228.49598333333336,\n",
       "  'q25': 222.8478,\n",
       "  'q75': 231.9404,\n",
       "  'q50': 228.99205},\n",
       " 'ir134': {'min': 219.6862,\n",
       "  'max': 237.47490000000002,\n",
       "  'mean': 227.39995,\n",
       "  'q25': 221.4403,\n",
       "  'q75': 231.92845,\n",
       "  'q50': 227.0602},\n",
       " 'hrv': {'min': 0.035113479882785514,\n",
       "  'max': 0.7337506485851041,\n",
       "  'mean': 0.31725455099714706,\n",
       "  'q25': 0.16285389807705697,\n",
       "  'q75': 0.4655563108596908,\n",
       "  'q50': 0.27545919563219673},\n",
       " 'ct': {'min': 6.0,\n",
       "  'max': 19.0,\n",
       "  'mean': 12.333333333333334,\n",
       "  'q25': 8.5,\n",
       "  'q75': 15.75,\n",
       "  'q50': 12.5},\n",
       " 'ctth': {'min': 0.0,\n",
       "  'max': 11600.0,\n",
       "  'mean': 5600.0,\n",
       "  'q25': 1700.0,\n",
       "  'q75': 10200.0,\n",
       "  'q50': 4600.0},\n",
       " 'cma': {'min': 2.0,\n",
       "  'max': 3.0,\n",
       "  'mean': 2.3333333333333335,\n",
       "  'q25': 2.0,\n",
       "  'q75': 2.75,\n",
       "  'q50': 2.0}}"
      ]
     },
     "execution_count": 129,
     "metadata": {},
     "output_type": "execute_result"
    }
   ],
   "source": [
    "object_stats"
   ]
  },
  {
   "cell_type": "markdown",
   "metadata": {},
   "source": [
    "Das Beispielobjekt hat eine Fläche 5&thinsp;px<sup>2</sup> und hat eine mittlere Wolkenhöhe von 7&thinsp;km und eine mittlere IR-10,8-µm-Temperatur von ca. 230&thinsp;K. Das Objekt ist (noch) nicht besonders groß und hoch hat aber eine geschätzte Dicke von mindestens 5&thinsp;km uns ist bereits teilweise vereist."
   ]
  },
  {
   "cell_type": "code",
   "execution_count": 134,
   "metadata": {},
   "outputs": [],
   "source": [
    "cmap_ct, norm_ct, names_ct = ct_cmap.nwcsaf_ct_cmap()"
   ]
  },
  {
   "cell_type": "code",
   "execution_count": 152,
   "metadata": {},
   "outputs": [
    {
     "data": {
      "text/plain": [
       "Text(0.5, 1.0, 'NWCSAF CTTH')"
      ]
     },
     "execution_count": 152,
     "metadata": {},
     "output_type": "execute_result"
    },
    {
     "data": {
      "image/png": "[encoded data removed]",
      "text/plain": [
       "<Figure size 1440x1440 with 8 Axes>"
      ]
     },
     "metadata": {
      "needs_background": "light"
     },
     "output_type": "display_data"
    }
   ],
   "source": [
    "fig,ax = plt.subplots(2,2,figsize=(20,20),sharex=True,sharey=True)\n",
    "axs = ax.ravel()\n",
    "#p0 = ax[0].imshow(example_case_data['ir108'][6].repeat(6,axis=0).repeat(3,axis=1),vmin=210,vmax=300,cmap='gray_r')\n",
    "p0 = axs[0].imshow(example_case_data['ir108'][6].repeat(3,axis=0).repeat(3,axis=1),vmin=210,vmax=300,cmap='gray_r')\n",
    "axs[0].imshow(np.ma.masked_less(object_mask.repeat(3,axis=0).repeat(3,axis=1),1),cmap='viridis_r')\n",
    "fc.colourbar(p0)\n",
    "axs[0].set_title(r\"$T_\\mathrm{B}$(10,8 µm)\")\n",
    "\n",
    "#p1 = ax[1].imshow(example_case_data['hrv'][6].repeat(2,axis=0),vmin=0,vmax=1,cmap='gray')\n",
    "p1 = axs[1].imshow(example_case_data['hrv'][6],vmin=0,vmax=1,cmap='gray')\n",
    "axs[1].imshow(np.ma.masked_less(object_mask.repeat(3,axis=0).repeat(3,axis=1),1),cmap='viridis_r')\n",
    "fc.colourbar(p1)\n",
    "axs[1].set_title(\"HRV\")\n",
    "\n",
    "#p2 = ax[2].imshow(example_case_data['ct'][6].repeat(6,axis=0).repeat(3,axis=1),norm = norm_ct,cmap= cmap_ct)\n",
    "p2 = axs[2].imshow(example_case_data['ct'][6].repeat(3,axis=0).repeat(3,axis=1),norm = norm_ct,cmap= cmap_ct)\n",
    "axs[2].imshow(np.ma.masked_less(object_mask.repeat(3,axis=0).repeat(3,axis=1),1),cmap='viridis_r')\n",
    "ct_cbar = fc.colourbar(p2)\n",
    "axs[2].set_title(r\"NWCSAF CT\")\n",
    "\n",
    "p3 = axs[3].imshow(example_case_data['ctth'][6].repeat(3,axis=0).repeat(3,axis=1),vmin=0,vmax=14000)\n",
    "ctth_cbar = fc.colourbar(p3)\n",
    "axs[3].set_title(r\"NWCSAF CTTH\")"
   ]
  },
  {
   "cell_type": "code",
   "execution_count": 159,
   "metadata": {},
   "outputs": [
    {
     "data": {
      "text/plain": [
       "<matplotlib.image.AxesImage at 0x7fdae893d510>"
      ]
     },
     "execution_count": 159,
     "metadata": {},
     "output_type": "execute_result"
    },
    {
     "data": {
      "image/png": "[encoded data removed]",
      "text/plain": [
       "<Figure size 576x576 with 1 Axes>"
      ]
     },
     "metadata": {
      "needs_background": "light"
     },
     "output_type": "display_data"
    }
   ],
   "source": [
    "fig,ax= plt.subplots(1,1,figsize=(8,8))\n",
    "ax.imshow(example_case_data['ir108'][6],vmin=210,vmax=300,cmap=emap)\n",
    "ax.imshow(example_case_data['ct'][6],alpha=0.4,norm=norm_ct,cmap=cmap_ct)"
   ]
  },
  {
   "cell_type": "markdown",
   "metadata": {},
   "source": [
    "So eine Scheiße! Die NWCSAF-Produkte sind nicht parallaxenkorrigiert!"
   ]
  }
 ],
 "metadata": {
  "kernelspec": {
   "display_name": "Python 3",
   "language": "python",
   "name": "python3"
  },
  "language_info": {
   "codemirror_mode": {
    "name": "ipython",
    "version": 3
   },
   "file_extension": ".py",
   "mimetype": "text/x-python",
   "name": "python",
   "nbconvert_exporter": "python",
   "pygments_lexer": "ipython3",
   "version": "3.7.4"
  },
  "latex_envs": {
   "LaTeX_envs_menu_present": true,
   "autoclose": false,
   "autocomplete": true,
   "bibliofile": "biblio.bib",
   "cite_by": "apalike",
   "current_citInitial": 1,
   "eqLabelWithNumbers": true,
   "eqNumInitial": 1,
   "hotkeys": {
    "equation": "Ctrl-E",
    "itemize": "Ctrl-I"
   },
   "labels_anchors": false,
   "latex_user_defs": false,
   "report_style_numbering": false,
   "user_envs_cfg": false
  }
 },
 "nbformat": 4,
 "nbformat_minor": 4
}
