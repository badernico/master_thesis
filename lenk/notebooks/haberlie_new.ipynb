{
 "cells": [
  {
   "cell_type": "markdown",
   "metadata": {},
   "source": [
    "# HACI, a Python implementation of the algorithm by Haberlie et al. (2015)"
   ]
  },
  {
   "cell_type": "markdown",
   "metadata": {},
   "source": [
    "This is a Python implementation of the algorithm presented in Haberlie et al. (2015) aiming on finding isolated newly developing convective objects in weather radar data.\n",
    "\n",
    "The basic idea of the algorithm is, to detect long-living newly developing convectively active areas by applying different masks. \n",
    "\n",
    "The steps performed by the algorithm are:\n",
    "1. get a mask of convectively active grid cells by thresholding\n",
    "2. get a mask of invalid data\n",
    "3. get a buffer mask around existing convection and the borders\n",
    "4. identify new CI grid cells which develop outside the buffer mask\n",
    "5. link successive time steps by connectivity\n",
    "6. label the found objects\n",
    "7. derive interesting parameters from the objects, e.g. get the bounding box\n",
    "\n",
    "## Prerequisites\n",
    "To get started, we need some prerequisites. This implementation relies on following non-standard Python packages:\n",
    "* xarray: to read radar data\n",
    "* pandas: to manipulate and store the objects found\n",
    "* numpy: for performing some operations efficiently\n",
    "* skimage: for morphological operations and getting object properties\n",
    "* scipy: for object labeling\n",
    "\n",
    "So, we have to include these and some standard packages."
   ]
  },
  {
   "cell_type": "code",
   "execution_count": 1,
   "metadata": {
    "collapsed": true
   },
   "outputs": [],
   "source": [
    "%matplotlib inline\n",
    "import numpy as np\n",
    "import xarray as xr\n",
    "import pandas as pd\n",
    "import operator\n",
    "import sys,os\n",
    "from skimage.morphology import disk as selem_disk\n",
    "from skimage.measure import regionprops as ski_regionprops\n",
    "from scipy.ndimage import label as ndi_label"
   ]
  },
  {
   "cell_type": "markdown",
   "metadata": {},
   "source": [
    "For plotting the results we also need matplotlib"
   ]
  },
  {
   "cell_type": "code",
   "execution_count": 2,
   "metadata": {
    "collapsed": true
   },
   "outputs": [],
   "source": [
    "import matplotlib.pyplot as plt\n",
    "plt.rcParams[\"figure.figsize\"] = (8,8)"
   ]
  },
  {
   "cell_type": "markdown",
   "metadata": {},
   "source": [
    "And, of course, we need the haci library."
   ]
  },
  {
   "cell_type": "code",
   "execution_count": 3,
   "metadata": {},
   "outputs": [],
   "source": [
    "import haci as hci"
   ]
  },
  {
   "cell_type": "markdown",
   "metadata": {},
   "source": [
    "## Reading radar data\n",
    "\n",
    "First, we read some radar data out of a netCDF file. To do so, we use the xarray package and read one of the example files. It contains Radolan RX data of the German weather radar network operated by Deutscher Wetterdienst."
   ]
  },
  {
   "cell_type": "code",
   "execution_count": 24,
   "metadata": {},
   "outputs": [],
   "source": [
    "radar_data = hci.read_rx_hdcp2(\"/vols/talos/datasets/radolan/rx_hdcp2/2012/hdfd_miub_drnet00_l3_dbz_v00_20120728000000.nc\")"
   ]
  },
  {
   "cell_type": "markdown",
   "metadata": {},
   "source": [
    "Now let us have a look inside the file."
   ]
  },
  {
   "cell_type": "code",
   "execution_count": 25,
   "metadata": {},
   "outputs": [
    {
     "data": {
      "text/plain": [
       "<xarray.Dataset>\n",
       "Dimensions:              (nv: 2, time: 288, x: 900, y: 900)\n",
       "Coordinates:\n",
       "  * x                    (x) float32 -523.462 -522.462 -521.462 -520.462 ...\n",
       "  * y                    (y) float32 -4658.65 -4657.65 -4656.65 -4655.65 ...\n",
       "  * time                 (time) datetime64[ns] 2012-07-28 ...\n",
       "    lon                  (y, x) float32 3.58893 3.60108 3.61322 3.62537 ...\n",
       "    lat                  (y, x) float32 46.9526 46.9535 46.9544 46.9554 ...\n",
       "Dimensions without coordinates: nv\n",
       "Data variables:\n",
       "    time_bnds            (time, nv) float64 1.343e+09 1.343e+09 1.343e+09 ...\n",
       "    polar_stereographic  int64 -2147483647\n",
       "    dbz                  (time, y, x) uint8 250 250 250 250 250 250 250 250 ...\n",
       "Attributes:\n",
       "    Title:            RADOLAN Radar Reflectivity Composite\n",
       "    Institution:      Data owned by Deutscher Wetterdienst, provided to HD(CP...\n",
       "    Contact_Person:   Raquel Evaristo, revarist@uni-bonn.de\n",
       "    Source:           DWD C-Band Weather Radar Network, Original RADOLAN Data...\n",
       "    History:          Data transfered from RADOLAN format to netcdf using rea...\n",
       "    Conventions:      CF-1.6 where applicable\n",
       "    Processing_date:  2016-05-27T17:04:33\n",
       "    Author:           Kai Muehlbauer, kai.muehlbauer@uni-bonn.de\n",
       "    Comments:         blank\n",
       "    License:          For non-commercial use only. This data is subject to th...\n",
       "    Dependencies:     external"
      ]
     },
     "execution_count": 25,
     "metadata": {},
     "output_type": "execute_result"
    }
   ],
   "source": [
    "radar_data"
   ]
  },
  {
   "cell_type": "markdown",
   "metadata": {},
   "source": [
    "What we are interested in, is the dbz variable.\n",
    "\n",
    "## Get mask of convectively active grid cells\n",
    "The first step of the algorithm is, to get all convectively active grid cells. This is achieved by thresholding the radar reflectivity factor data with a fixed value. In this case we use a radar reflectivity factor value of 35 dBZ."
   ]
  },
  {
   "cell_type": "code",
   "execution_count": 26,
   "metadata": {
    "collapsed": true
   },
   "outputs": [],
   "source": [
    "ca_mask = hci.ca_mask(radar_data.dbz,35.0)"
   ]
  },
  {
   "cell_type": "markdown",
   "metadata": {},
   "source": [
    "Now we are left only with the grid cells having a reflectivity factor above 35 dBZ:"
   ]
  },
  {
   "cell_type": "code",
   "execution_count": 27,
   "metadata": {},
   "outputs": [
    {
     "data": {
      "text/plain": [
       "<matplotlib.colorbar.Colorbar at 0x7f596c16d0d0>"
      ]
     },
     "execution_count": 27,
     "metadata": {},
     "output_type": "execute_result"
    },
    {
     "data": {
      "image/png": "[encoded data removed]",
      "text/plain": [
       "<matplotlib.figure.Figure at 0x7f594bc59d10>"
      ]
     },
     "metadata": {},
     "output_type": "display_data"
    }
   ],
   "source": [
    "plt.imshow(ca_mask[0], interpolation='none',cmap='gray')\n",
    "plt.title(\"Grid cells with values over the threshold\")\n",
    "plt.colorbar()"
   ]
  },
  {
   "cell_type": "markdown",
   "metadata": {},
   "source": [
    "## Get maks of invalid data\n",
    "In the first step we also got grid cells with invalid data, which where assigned the value 250 when we read the radar data. So, in the next step we get a mask of all invalid data values, to eliminate them later."
   ]
  },
  {
   "cell_type": "code",
   "execution_count": 28,
   "metadata": {},
   "outputs": [],
   "source": [
    "fill_mask = (radar_data.dbz.values==250)"
   ]
  },
  {
   "cell_type": "markdown",
   "metadata": {},
   "source": [
    "Now we have a mask of all invalid data:"
   ]
  },
  {
   "cell_type": "code",
   "execution_count": 29,
   "metadata": {},
   "outputs": [
    {
     "data": {
      "text/plain": [
       "<matplotlib.colorbar.Colorbar at 0x7f596bfe82d0>"
      ]
     },
     "execution_count": 29,
     "metadata": {},
     "output_type": "execute_result"
    },
    {
     "data": {
      "image/png": "[encoded data removed]",
      "text/plain": [
       "<matplotlib.figure.Figure at 0x7f596c0ca450>"
      ]
     },
     "metadata": {},
     "output_type": "display_data"
    }
   ],
   "source": [
    "plt.imshow(fill_mask[100], interpolation='none',cmap='gray')\n",
    "plt.title(\"Grid cells with invalid values\")\n",
    "plt.colorbar()"
   ]
  },
  {
   "cell_type": "markdown",
   "metadata": {},
   "source": [
    "## Get buffer mask\n",
    "The next step consists of creating buffers of a given size (in this case 15 pixels) around the convectively active grid cells to really only get isolated new developing objects. We also create a buffer around the borders of our data field to avoid recognising older objects which are drifting into our observational area as new ones. "
   ]
  },
  {
   "cell_type": "code",
   "execution_count": 30,
   "metadata": {
    "collapsed": true
   },
   "outputs": [],
   "source": [
    "buffer_mask = hci.buffer_mask(ca_mask|fill_mask,radius=15)"
   ]
  },
  {
   "cell_type": "markdown",
   "metadata": {},
   "source": [
    "This leaves us with this result:"
   ]
  },
  {
   "cell_type": "code",
   "execution_count": 31,
   "metadata": {},
   "outputs": [
    {
     "data": {
      "text/plain": [
       "<matplotlib.colorbar.Colorbar at 0x7f596bef1e90>"
      ]
     },
     "execution_count": 31,
     "metadata": {},
     "output_type": "execute_result"
    },
    {
     "data": {
      "image/png": "[encoded data removed]",
      "text/plain": [
       "<matplotlib.figure.Figure at 0x7f596bfb5910>"
      ]
     },
     "metadata": {},
     "output_type": "display_data"
    }
   ],
   "source": [
    "plt.imshow(buffer_mask[200], interpolation='none',cmap='gray')\n",
    "plt.title(\"Buffered areas\")\n",
    "plt.colorbar()"
   ]
  },
  {
   "cell_type": "markdown",
   "metadata": {},
   "source": [
    "## Identify new convectively active grid cells outside of the buffer mask\n",
    "In the following step we take the next time step and look for grid cells with a reflectivity factor of above 35 dBZ being outside the buffered areas."
   ]
  },
  {
   "cell_type": "code",
   "execution_count": 32,
   "metadata": {},
   "outputs": [
    {
     "data": {
      "text/plain": [
       "<matplotlib.colorbar.Colorbar at 0x7f596bd66f10>"
      ]
     },
     "execution_count": 32,
     "metadata": {},
     "output_type": "execute_result"
    },
    {
     "data": {
      "image/png": "[encoded data removed]",
      "text/plain": [
       "<matplotlib.figure.Figure at 0x7f596be57890>"
      ]
     },
     "metadata": {},
     "output_type": "display_data"
    }
   ],
   "source": [
    "ci_mask = hci.ci_mask(ca_mask,buffer_mask)\n",
    "\n",
    "plt.imshow(ci_mask[200],interpolation='none',cmap='gray')\n",
    "plt.title(\"Newly developed convective cells\")\n",
    "plt.colorbar()"
   ]
  },
  {
   "cell_type": "markdown",
   "metadata": {},
   "source": [
    "## Link successive time steps by connectivity\n",
    "The next step consists of linking the found new convectively active pixels over a given number of successive time steps (in this case 6) to derive objects which survived for a sufficently long time."
   ]
  },
  {
   "cell_type": "code",
   "execution_count": 35,
   "metadata": {},
   "outputs": [],
   "source": [
    "#object_mask = hci.link_objects(ci_mask,ca_mask,6)\n",
    "selem = np.zeros((3,3,3))\n",
    "selem[1,:,:]=1\n",
    "object_map, nr_obj =  hci.label_objects(ca_mask,selem)"
   ]
  },
  {
   "cell_type": "code",
   "execution_count": 36,
   "metadata": {},
   "outputs": [
    {
     "data": {
      "text/plain": [
       "<matplotlib.colorbar.Colorbar at 0x7f596bbe0a10>"
      ]
     },
     "execution_count": 36,
     "metadata": {},
     "output_type": "execute_result"
    },
    {
     "data": {
      "image/png": "[encoded data removed]",
      "text/plain": [
       "<matplotlib.figure.Figure at 0x7f596bd2df10>"
      ]
     },
     "metadata": {},
     "output_type": "display_data"
    }
   ],
   "source": [
    "plt.imshow(object_map[200],interpolation='none',cmap='nipy_spectral')\n",
    "plt.title(\"Linked objects\")\n",
    "plt.colorbar()"
   ]
  },
  {
   "cell_type": "markdown",
   "metadata": {},
   "source": [
    "## Label objects\n",
    "In the following step the derived objects are labeled, to give them a unique identificator."
   ]
  },
  {
   "cell_type": "code",
   "execution_count": 15,
   "metadata": {
    "collapsed": true
   },
   "outputs": [],
   "source": [
    "id_map, num_obj = hci.label_objects(object_mask>0)"
   ]
  },
  {
   "cell_type": "code",
   "execution_count": 16,
   "metadata": {
    "scrolled": false
   },
   "outputs": [
    {
     "data": {
      "text/plain": [
       "<matplotlib.colorbar.Colorbar at 0x7ff2538616d0>"
      ]
     },
     "execution_count": 16,
     "metadata": {},
     "output_type": "execute_result"
    },
    {
     "data": {
      "image/png": "[encoded data removed]",
      "text/plain": [
       "<matplotlib.figure.Figure at 0x7ff2539b8790>"
      ]
     },
     "metadata": {},
     "output_type": "display_data"
    }
   ],
   "source": [
    "plt.imshow(id_map[10],interpolation='none',cmap='nipy_spectral')\n",
    "plt.title(\"Labeled objects\")\n",
    "plt.colorbar()"
   ]
  },
  {
   "cell_type": "markdown",
   "metadata": {},
   "source": [
    "## Get bounding box for objects\n",
    "In the last step we can derive some object properties we can use for further analysis. Useful properties are e.g. object life time and the bounding box."
   ]
  },
  {
   "cell_type": "code",
   "execution_count": 17,
   "metadata": {
    "collapsed": true
   },
   "outputs": [],
   "source": [
    "object_bbox = hci.find_objects(id_map)"
   ]
  },
  {
   "cell_type": "code",
   "execution_count": 18,
   "metadata": {},
   "outputs": [
    {
     "data": {
      "text/html": [
       "<div>\n",
       "<table border=\"1\" class=\"dataframe\">\n",
       "  <thead>\n",
       "    <tr style=\"text-align: right;\">\n",
       "      <th></th>\n",
       "      <th>tmin</th>\n",
       "      <th>tmax</th>\n",
       "      <th>rmin</th>\n",
       "      <th>rmax</th>\n",
       "      <th>cmin</th>\n",
       "      <th>cmax</th>\n",
       "    </tr>\n",
       "    <tr>\n",
       "      <th>idx</th>\n",
       "      <th></th>\n",
       "      <th></th>\n",
       "      <th></th>\n",
       "      <th></th>\n",
       "      <th></th>\n",
       "      <th></th>\n",
       "    </tr>\n",
       "  </thead>\n",
       "  <tbody>\n",
       "    <tr>\n",
       "      <th>1</th>\n",
       "      <td>1</td>\n",
       "      <td>2</td>\n",
       "      <td>147</td>\n",
       "      <td>149</td>\n",
       "      <td>364</td>\n",
       "      <td>365</td>\n",
       "    </tr>\n",
       "    <tr>\n",
       "      <th>2</th>\n",
       "      <td>1</td>\n",
       "      <td>2</td>\n",
       "      <td>282</td>\n",
       "      <td>283</td>\n",
       "      <td>423</td>\n",
       "      <td>424</td>\n",
       "    </tr>\n",
       "    <tr>\n",
       "      <th>3</th>\n",
       "      <td>1</td>\n",
       "      <td>2</td>\n",
       "      <td>283</td>\n",
       "      <td>284</td>\n",
       "      <td>424</td>\n",
       "      <td>425</td>\n",
       "    </tr>\n",
       "    <tr>\n",
       "      <th>4</th>\n",
       "      <td>1</td>\n",
       "      <td>7</td>\n",
       "      <td>302</td>\n",
       "      <td>304</td>\n",
       "      <td>453</td>\n",
       "      <td>454</td>\n",
       "    </tr>\n",
       "    <tr>\n",
       "      <th>5</th>\n",
       "      <td>1</td>\n",
       "      <td>2</td>\n",
       "      <td>337</td>\n",
       "      <td>338</td>\n",
       "      <td>394</td>\n",
       "      <td>395</td>\n",
       "    </tr>\n",
       "    <tr>\n",
       "      <th>6</th>\n",
       "      <td>1</td>\n",
       "      <td>2</td>\n",
       "      <td>337</td>\n",
       "      <td>339</td>\n",
       "      <td>396</td>\n",
       "      <td>399</td>\n",
       "    </tr>\n",
       "    <tr>\n",
       "      <th>7</th>\n",
       "      <td>1</td>\n",
       "      <td>2</td>\n",
       "      <td>337</td>\n",
       "      <td>338</td>\n",
       "      <td>399</td>\n",
       "      <td>400</td>\n",
       "    </tr>\n",
       "    <tr>\n",
       "      <th>8</th>\n",
       "      <td>1</td>\n",
       "      <td>2</td>\n",
       "      <td>439</td>\n",
       "      <td>440</td>\n",
       "      <td>771</td>\n",
       "      <td>772</td>\n",
       "    </tr>\n",
       "    <tr>\n",
       "      <th>9</th>\n",
       "      <td>1</td>\n",
       "      <td>2</td>\n",
       "      <td>457</td>\n",
       "      <td>458</td>\n",
       "      <td>170</td>\n",
       "      <td>171</td>\n",
       "    </tr>\n",
       "    <tr>\n",
       "      <th>10</th>\n",
       "      <td>1</td>\n",
       "      <td>2</td>\n",
       "      <td>459</td>\n",
       "      <td>462</td>\n",
       "      <td>169</td>\n",
       "      <td>170</td>\n",
       "    </tr>\n",
       "  </tbody>\n",
       "</table>\n",
       "</div>"
      ],
      "text/plain": [
       "     tmin  tmax  rmin  rmax  cmin  cmax\n",
       "idx                                    \n",
       "1       1     2   147   149   364   365\n",
       "2       1     2   282   283   423   424\n",
       "3       1     2   283   284   424   425\n",
       "4       1     7   302   304   453   454\n",
       "5       1     2   337   338   394   395\n",
       "6       1     2   337   339   396   399\n",
       "7       1     2   337   338   399   400\n",
       "8       1     2   439   440   771   772\n",
       "9       1     2   457   458   170   171\n",
       "10      1     2   459   462   169   170"
      ]
     },
     "execution_count": 18,
     "metadata": {},
     "output_type": "execute_result"
    }
   ],
   "source": [
    "object_bbox.head(10)"
   ]
  },
  {
   "cell_type": "markdown",
   "metadata": {},
   "source": [
    "In this example, object 4 looks like a good candiate for isolated convection, as it fullfills the life time criterion of 6 time steps. So, let us plot it to have a closer look."
   ]
  },
  {
   "cell_type": "code",
   "execution_count": 19,
   "metadata": {},
   "outputs": [],
   "source": [
    "interesting_part = id_map[object_bbox.tmin[4]:object_bbox.tmax[4]]"
   ]
  },
  {
   "cell_type": "code",
   "execution_count": 20,
   "metadata": {},
   "outputs": [
    {
     "data": {
      "image/png": "[encoded data removed]",
      "text/plain": [
       "<matplotlib.figure.Figure at 0x7ff253b8a150>"
      ]
     },
     "metadata": {},
     "output_type": "display_data"
    }
   ],
   "source": [
    "fig, axs = plt.subplots(3,2, figsize=(10, 15))\n",
    "fig.subplots_adjust(hspace = .5, wspace=.001)\n",
    "\n",
    "axs = axs.ravel()\n",
    "\n",
    "for i in xrange(len(interesting_part)):\n",
    "    axs[i].imshow(interesting_part[i][object_bbox.rmin[4]-5:object_bbox.rmax[4]+5,\n",
    "                                      object_bbox.cmin[4]-5:object_bbox.cmax[4]+5],\n",
    "                  cmap=\"gray\")\n",
    "    axs[i].set_title(\"timestep %s\"% i)"
   ]
  },
  {
   "cell_type": "markdown",
   "metadata": {},
   "source": [
    "So, as this object does not seem to move and also does not grow very much, it is probably not an object worth considering."
   ]
  },
  {
   "cell_type": "code",
   "execution_count": null,
   "metadata": {
    "collapsed": true
   },
   "outputs": [],
   "source": []
  }
 ],
 "metadata": {
  "kernelspec": {
   "display_name": "Python 2",
   "language": "python",
   "name": "python2"
  },
  "language_info": {
   "codemirror_mode": {
    "name": "ipython",
    "version": 2
   },
   "file_extension": ".py",
   "mimetype": "text/x-python",
   "name": "python",
   "nbconvert_exporter": "python",
   "pygments_lexer": "ipython2",
   "version": "2.7.11"
  }
 },
 "nbformat": 4,
 "nbformat_minor": 1
}
