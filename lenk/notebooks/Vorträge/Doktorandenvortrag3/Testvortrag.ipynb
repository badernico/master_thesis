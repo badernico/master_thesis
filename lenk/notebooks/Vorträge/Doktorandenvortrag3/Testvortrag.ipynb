{
 "cells": [
  {
   "cell_type": "markdown",
   "metadata": {
    "slideshow": {
     "slide_type": "-"
    }
   },
   "source": [
    "<div style=\"background-image: url(pics/title_template.svg); background-repeat: no-repeat; background-size: cover; height: 100%; width: 100%; \">\n",
    "\n",
    "    # Improved nowcasting of convective initiation using geostationary satellite remote sensing data       \n",
    "    ## Test talk for 3<sup>rd</sup> PhD talk (17<sup>th</sup> March 2020)\n",
    "\n",
    "    &nbsp;\n",
    "    &nbsp;\n",
    "    Stephan Lenk\n",
    "    5<sup>th</sup> March 2020\n",
    "</div>"
   ]
  },
  {
   "cell_type": "markdown",
   "metadata": {
    "slideshow": {
     "slide_type": "notes"
    }
   },
   "source": [
    "Testnotiz: Vergiss nicht das zu erwähnen!"
   ]
  },
  {
   "cell_type": "markdown",
   "metadata": {
    "slideshow": {
     "slide_type": "slide"
    }
   },
   "source": [
    "# Outline"
   ]
  }
 ],
 "metadata": {
  "celltoolbar": "Slideshow",
  "kernelspec": {
   "display_name": "Python 3",
   "language": "python",
   "name": "python3"
  },
  "language_info": {
   "codemirror_mode": {
    "name": "ipython",
    "version": 3
   },
   "file_extension": ".py",
   "mimetype": "text/x-python",
   "name": "python",
   "nbconvert_exporter": "python",
   "pygments_lexer": "ipython3",
   "version": "3.7.4"
  },
  "rise": {}
 },
 "nbformat": 4,
 "nbformat_minor": 4
}
