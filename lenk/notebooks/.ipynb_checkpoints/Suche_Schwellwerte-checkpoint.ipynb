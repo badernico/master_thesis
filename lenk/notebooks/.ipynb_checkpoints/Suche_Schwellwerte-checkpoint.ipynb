{
 "cells": [
  {
   "cell_type": "markdown",
   "metadata": {},
   "source": [
    "# Schwellwerte für die Objektdefinition\n",
    "\n",
    "Ein Ansatz, um mögliche Schwellwerte für die Objektdefinion zu finden, ist die manuellen Fälle durchzugehen und zu schauen, was geeignete Schwellwerte sein könnten.\n",
    "\n",
    "Dafür müssen wir erstmal ein paar Pakete laden"
   ]
  },
  {
   "cell_type": "code",
   "execution_count": 1,
   "metadata": {
    "collapsed": true
   },
   "outputs": [],
   "source": [
    "%matplotlib inline\n",
    "\n",
    "import numpy as np\n",
    "import xarray as xr\n",
    "\n",
    "import glob\n",
    "\n",
    "import matplotlib.pyplot as plt\n",
    "import seaborn as sns\n",
    "\n",
    "track_folder = \"/vols/talos/home/stephan/data/radar_track/trackdata/\""
   ]
  },
  {
   "cell_type": "markdown",
   "metadata": {},
   "source": [
    "Um einen Überlick zu bekommen, wäre es vielleicht gut sich die Verteilung der Werte entlang der Tracksfür alle Zeitschritte anzusehen. Dafür müssen wir alle Daten laden."
   ]
  },
  {
   "cell_type": "code",
   "execution_count": 2,
   "metadata": {
    "collapsed": true
   },
   "outputs": [],
   "source": [
    "track_files = glob.glob(\"{}*.nc\".format(track_folder))"
   ]
  },
  {
   "cell_type": "code",
   "execution_count": 11,
   "metadata": {},
   "outputs": [
    {
     "data": {
      "text/plain": [
       "['/vols/talos/home/stephan/data/radar_track/trackdata/haci_trackdata_20130702_82.nc',\n",
       " '/vols/talos/home/stephan/data/radar_track/trackdata/haci_trackdata_20130703_115.nc',\n",
       " '/vols/talos/home/stephan/data/radar_track/trackdata/haci_trackdata_20130717_27.nc',\n",
       " '/vols/talos/home/stephan/data/radar_track/trackdata/haci_trackdata_20130719_40.nc',\n",
       " '/vols/talos/home/stephan/data/radar_track/trackdata/haci_trackdata_20130722_22.nc',\n",
       " '/vols/talos/home/stephan/data/radar_track/trackdata/haci_trackdata_20130722_45.nc',\n",
       " '/vols/talos/home/stephan/data/radar_track/trackdata/haci_trackdata_20130722_71.nc',\n",
       " '/vols/talos/home/stephan/data/radar_track/trackdata/haci_trackdata_20130722_93.nc',\n",
       " '/vols/talos/home/stephan/data/radar_track/trackdata/haci_trackdata_20130722_95.nc',\n",
       " '/vols/talos/home/stephan/data/radar_track/trackdata/haci_trackdata_20130723_94.nc',\n",
       " '/vols/talos/home/stephan/data/radar_track/trackdata/haci_trackdata_20130723_103.nc',\n",
       " '/vols/talos/home/stephan/data/radar_track/trackdata/haci_trackdata_20130724_134.nc',\n",
       " '/vols/talos/home/stephan/data/radar_track/trackdata/haci_trackdata_20130725_21.nc',\n",
       " '/vols/talos/home/stephan/data/radar_track/trackdata/haci_trackdata_20130418_70.nc',\n",
       " '/vols/talos/home/stephan/data/radar_track/trackdata/haci_trackdata_20130418_71.nc',\n",
       " '/vols/talos/home/stephan/data/radar_track/trackdata/haci_trackdata_20130427_19.nc',\n",
       " '/vols/talos/home/stephan/data/radar_track/trackdata/haci_trackdata_20130502_31.nc',\n",
       " '/vols/talos/home/stephan/data/radar_track/trackdata/haci_trackdata_20130504_42.nc',\n",
       " '/vols/talos/home/stephan/data/radar_track/trackdata/haci_trackdata_20130506_49.nc',\n",
       " '/vols/talos/home/stephan/data/radar_track/trackdata/haci_trackdata_20130506_77.nc',\n",
       " '/vols/talos/home/stephan/data/radar_track/trackdata/haci_trackdata_20130507_70.nc',\n",
       " '/vols/talos/home/stephan/data/radar_track/trackdata/haci_trackdata_20130507_71.nc',\n",
       " '/vols/talos/home/stephan/data/radar_track/trackdata/haci_trackdata_20130507_119.nc',\n",
       " '/vols/talos/home/stephan/data/radar_track/trackdata/haci_trackdata_20130507_172.nc',\n",
       " '/vols/talos/home/stephan/data/radar_track/trackdata/haci_trackdata_20130507_233.nc',\n",
       " '/vols/talos/home/stephan/data/radar_track/trackdata/haci_trackdata_20130507_243.nc',\n",
       " '/vols/talos/home/stephan/data/radar_track/trackdata/haci_trackdata_20130507_320.nc',\n",
       " '/vols/talos/home/stephan/data/radar_track/trackdata/haci_trackdata_20130512_84.nc',\n",
       " '/vols/talos/home/stephan/data/radar_track/trackdata/haci_trackdata_20130515_26.nc',\n",
       " '/vols/talos/home/stephan/data/radar_track/trackdata/haci_trackdata_20130515_66.nc',\n",
       " '/vols/talos/home/stephan/data/radar_track/trackdata/haci_trackdata_20130515_100.nc',\n",
       " '/vols/talos/home/stephan/data/radar_track/trackdata/haci_trackdata_20130516_64.nc',\n",
       " '/vols/talos/home/stephan/data/radar_track/trackdata/haci_trackdata_20130517_34.nc',\n",
       " '/vols/talos/home/stephan/data/radar_track/trackdata/haci_trackdata_20130517_64.nc',\n",
       " '/vols/talos/home/stephan/data/radar_track/trackdata/haci_trackdata_20130519_30.nc',\n",
       " '/vols/talos/home/stephan/data/radar_track/trackdata/haci_trackdata_20130529_86.nc',\n",
       " '/vols/talos/home/stephan/data/radar_track/trackdata/haci_trackdata_20130608_29.nc',\n",
       " '/vols/talos/home/stephan/data/radar_track/trackdata/haci_trackdata_20130608_52.nc',\n",
       " '/vols/talos/home/stephan/data/radar_track/trackdata/haci_trackdata_20130608_116.nc',\n",
       " '/vols/talos/home/stephan/data/radar_track/trackdata/haci_trackdata_20130608_153.nc',\n",
       " '/vols/talos/home/stephan/data/radar_track/trackdata/haci_trackdata_20130608_239.nc',\n",
       " '/vols/talos/home/stephan/data/radar_track/trackdata/haci_trackdata_20130608_245.nc',\n",
       " '/vols/talos/home/stephan/data/radar_track/trackdata/haci_trackdata_20130608_290.nc',\n",
       " '/vols/talos/home/stephan/data/radar_track/trackdata/haci_trackdata_20130608_295.nc',\n",
       " '/vols/talos/home/stephan/data/radar_track/trackdata/haci_trackdata_20130608_296.nc',\n",
       " '/vols/talos/home/stephan/data/radar_track/trackdata/haci_trackdata_20130608_301.nc',\n",
       " '/vols/talos/home/stephan/data/radar_track/trackdata/haci_trackdata_20130609_64.nc',\n",
       " '/vols/talos/home/stephan/data/radar_track/trackdata/haci_trackdata_20130609_110.nc',\n",
       " '/vols/talos/home/stephan/data/radar_track/trackdata/haci_trackdata_20130609_199.nc',\n",
       " '/vols/talos/home/stephan/data/radar_track/trackdata/haci_trackdata_20130609_208.nc',\n",
       " '/vols/talos/home/stephan/data/radar_track/trackdata/haci_trackdata_20130609_227.nc',\n",
       " '/vols/talos/home/stephan/data/radar_track/trackdata/haci_trackdata_20130609_295.nc',\n",
       " '/vols/talos/home/stephan/data/radar_track/trackdata/haci_trackdata_20130617_14.nc',\n",
       " '/vols/talos/home/stephan/data/radar_track/trackdata/haci_trackdata_20130617_51.nc',\n",
       " '/vols/talos/home/stephan/data/radar_track/trackdata/haci_trackdata_20130618_88.nc',\n",
       " '/vols/talos/home/stephan/data/radar_track/trackdata/haci_trackdata_20130618_94.nc',\n",
       " '/vols/talos/home/stephan/data/radar_track/trackdata/haci_trackdata_20130618_115.nc',\n",
       " '/vols/talos/home/stephan/data/radar_track/trackdata/haci_trackdata_20130618_122.nc',\n",
       " '/vols/talos/home/stephan/data/radar_track/trackdata/haci_trackdata_20130619_79.nc',\n",
       " '/vols/talos/home/stephan/data/radar_track/trackdata/haci_trackdata_20130619_82.nc',\n",
       " '/vols/talos/home/stephan/data/radar_track/trackdata/haci_trackdata_20130619_168.nc',\n",
       " '/vols/talos/home/stephan/data/radar_track/trackdata/haci_trackdata_20130619_192.nc',\n",
       " '/vols/talos/home/stephan/data/radar_track/trackdata/haci_trackdata_20130619_218.nc',\n",
       " '/vols/talos/home/stephan/data/radar_track/trackdata/haci_trackdata_20130620_140.nc',\n",
       " '/vols/talos/home/stephan/data/radar_track/trackdata/haci_trackdata_20130620_268.nc',\n",
       " '/vols/talos/home/stephan/data/radar_track/trackdata/haci_trackdata_20130620_285.nc',\n",
       " '/vols/talos/home/stephan/data/radar_track/trackdata/haci_trackdata_20130620_564.nc',\n",
       " '/vols/talos/home/stephan/data/radar_track/trackdata/haci_trackdata_20130620_575.nc',\n",
       " '/vols/talos/home/stephan/data/radar_track/trackdata/haci_trackdata_20130620_588.nc',\n",
       " '/vols/talos/home/stephan/data/radar_track/trackdata/haci_trackdata_20130620_675.nc',\n",
       " '/vols/talos/home/stephan/data/radar_track/trackdata/haci_trackdata_20130620_676.nc',\n",
       " '/vols/talos/home/stephan/data/radar_track/trackdata/haci_trackdata_20130620_707.nc',\n",
       " '/vols/talos/home/stephan/data/radar_track/trackdata/haci_trackdata_20130620_760.nc',\n",
       " '/vols/talos/home/stephan/data/radar_track/trackdata/haci_trackdata_20130620_780.nc',\n",
       " '/vols/talos/home/stephan/data/radar_track/trackdata/haci_trackdata_20130620_925.nc',\n",
       " '/vols/talos/home/stephan/data/radar_track/trackdata/haci_trackdata_20130623_13.nc',\n",
       " '/vols/talos/home/stephan/data/radar_track/trackdata/haci_trackdata_20130701_44.nc',\n",
       " '/vols/talos/home/stephan/data/radar_track/trackdata/haci_trackdata_20130701_61.nc',\n",
       " '/vols/talos/home/stephan/data/radar_track/trackdata/haci_trackdata_20130702_69.nc',\n",
       " '/vols/talos/home/stephan/data/radar_track/trackdata/haci_trackdata_20130703_92.nc',\n",
       " '/vols/talos/home/stephan/data/radar_track/trackdata/haci_trackdata_20130705_33.nc',\n",
       " '/vols/talos/home/stephan/data/radar_track/trackdata/haci_trackdata_20130710_17.nc',\n",
       " '/vols/talos/home/stephan/data/radar_track/trackdata/haci_trackdata_20130718_8.nc',\n",
       " '/vols/talos/home/stephan/data/radar_track/trackdata/haci_trackdata_20130721_42.nc',\n",
       " '/vols/talos/home/stephan/data/radar_track/trackdata/haci_trackdata_20130722_39.nc',\n",
       " '/vols/talos/home/stephan/data/radar_track/trackdata/haci_trackdata_20130722_53.nc',\n",
       " '/vols/talos/home/stephan/data/radar_track/trackdata/haci_trackdata_20130722_75.nc',\n",
       " '/vols/talos/home/stephan/data/radar_track/trackdata/haci_trackdata_20130722_94.nc',\n",
       " '/vols/talos/home/stephan/data/radar_track/trackdata/haci_trackdata_20130723_3.nc',\n",
       " '/vols/talos/home/stephan/data/radar_track/trackdata/haci_trackdata_20130723_98.nc',\n",
       " '/vols/talos/home/stephan/data/radar_track/trackdata/haci_trackdata_20130724_111.nc',\n",
       " '/vols/talos/home/stephan/data/radar_track/trackdata/haci_trackdata_20130724_142.nc',\n",
       " '/vols/talos/home/stephan/data/radar_track/trackdata/haci_trackdata_20130724_264.nc',\n",
       " '/vols/talos/home/stephan/data/radar_track/trackdata/haci_trackdata_20130724_311.nc',\n",
       " '/vols/talos/home/stephan/data/radar_track/trackdata/haci_trackdata_20130724_327.nc',\n",
       " '/vols/talos/home/stephan/data/radar_track/trackdata/haci_trackdata_20130724_360.nc',\n",
       " '/vols/talos/home/stephan/data/radar_track/trackdata/haci_trackdata_20130725_27.nc',\n",
       " '/vols/talos/home/stephan/data/radar_track/trackdata/haci_trackdata_20130725_28.nc',\n",
       " '/vols/talos/home/stephan/data/radar_track/trackdata/haci_trackdata_20130725_45.nc',\n",
       " '/vols/talos/home/stephan/data/radar_track/trackdata/haci_trackdata_20130725_81.nc',\n",
       " '/vols/talos/home/stephan/data/radar_track/trackdata/haci_trackdata_20130725_240.nc',\n",
       " '/vols/talos/home/stephan/data/radar_track/trackdata/haci_trackdata_20130725_317.nc',\n",
       " '/vols/talos/home/stephan/data/radar_track/trackdata/haci_trackdata_20130725_329.nc',\n",
       " '/vols/talos/home/stephan/data/radar_track/trackdata/haci_trackdata_20130725_350.nc',\n",
       " '/vols/talos/home/stephan/data/radar_track/trackdata/haci_trackdata_20130726_51.nc',\n",
       " '/vols/talos/home/stephan/data/radar_track/trackdata/haci_trackdata_20130726_67.nc',\n",
       " '/vols/talos/home/stephan/data/radar_track/trackdata/haci_trackdata_20130729_46.nc',\n",
       " '/vols/talos/home/stephan/data/radar_track/trackdata/haci_trackdata_20130729_62.nc',\n",
       " '/vols/talos/home/stephan/data/radar_track/trackdata/haci_trackdata_20130729_385.nc',\n",
       " '/vols/talos/home/stephan/data/radar_track/trackdata/haci_trackdata_20130803_136.nc',\n",
       " '/vols/talos/home/stephan/data/radar_track/trackdata/haci_trackdata_20130803_210.nc',\n",
       " '/vols/talos/home/stephan/data/radar_track/trackdata/haci_trackdata_20130804_32.nc',\n",
       " '/vols/talos/home/stephan/data/radar_track/trackdata/haci_trackdata_20130804_133.nc',\n",
       " '/vols/talos/home/stephan/data/radar_track/trackdata/haci_trackdata_20130804_154.nc',\n",
       " '/vols/talos/home/stephan/data/radar_track/trackdata/haci_trackdata_20130805_62.nc',\n",
       " '/vols/talos/home/stephan/data/radar_track/trackdata/haci_trackdata_20130806_19.nc',\n",
       " '/vols/talos/home/stephan/data/radar_track/trackdata/haci_trackdata_20130806_89.nc',\n",
       " '/vols/talos/home/stephan/data/radar_track/trackdata/haci_trackdata_20130806_119.nc',\n",
       " '/vols/talos/home/stephan/data/radar_track/trackdata/haci_trackdata_20130806_160.nc',\n",
       " '/vols/talos/home/stephan/data/radar_track/trackdata/haci_trackdata_20130809_22.nc',\n",
       " '/vols/talos/home/stephan/data/radar_track/trackdata/haci_trackdata_20130810_267.nc',\n",
       " '/vols/talos/home/stephan/data/radar_track/trackdata/haci_trackdata_20130817_6.nc',\n",
       " '/vols/talos/home/stephan/data/radar_track/trackdata/haci_trackdata_20130824_114.nc',\n",
       " '/vols/talos/home/stephan/data/radar_track/trackdata/haci_trackdata_20130828_30.nc',\n",
       " '/vols/talos/home/stephan/data/radar_track/trackdata/haci_trackdata_20130906_155.nc',\n",
       " '/vols/talos/home/stephan/data/radar_track/trackdata/haci_trackdata_20130729_333.nc',\n",
       " '/vols/talos/home/stephan/data/radar_track/trackdata/haci_trackdata_20130730_541.nc',\n",
       " '/vols/talos/home/stephan/data/radar_track/trackdata/haci_trackdata_20130803_150.nc',\n",
       " '/vols/talos/home/stephan/data/radar_track/trackdata/haci_trackdata_20130803_216.nc',\n",
       " '/vols/talos/home/stephan/data/radar_track/trackdata/haci_trackdata_20130804_126.nc',\n",
       " '/vols/talos/home/stephan/data/radar_track/trackdata/haci_trackdata_20130804_136.nc',\n",
       " '/vols/talos/home/stephan/data/radar_track/trackdata/haci_trackdata_20130804_161.nc',\n",
       " '/vols/talos/home/stephan/data/radar_track/trackdata/haci_trackdata_20130805_65.nc',\n",
       " '/vols/talos/home/stephan/data/radar_track/trackdata/haci_trackdata_20130806_83.nc',\n",
       " '/vols/talos/home/stephan/data/radar_track/trackdata/haci_trackdata_20130806_93.nc',\n",
       " '/vols/talos/home/stephan/data/radar_track/trackdata/haci_trackdata_20130806_121.nc',\n",
       " '/vols/talos/home/stephan/data/radar_track/trackdata/haci_trackdata_20130807_104.nc',\n",
       " '/vols/talos/home/stephan/data/radar_track/trackdata/haci_trackdata_20130810_250.nc',\n",
       " '/vols/talos/home/stephan/data/radar_track/trackdata/haci_trackdata_20130813_452.nc',\n",
       " '/vols/talos/home/stephan/data/radar_track/trackdata/haci_trackdata_20130819_11.nc',\n",
       " '/vols/talos/home/stephan/data/radar_track/trackdata/haci_trackdata_20130828_28.nc',\n",
       " '/vols/talos/home/stephan/data/radar_track/trackdata/haci_trackdata_20130901_15.nc',\n",
       " '/vols/talos/home/stephan/data/radar_track/trackdata/haci_trackdata_20130910_110.nc']"
      ]
     },
     "execution_count": 11,
     "metadata": {},
     "output_type": "execute_result"
    }
   ],
   "source": [
    "track_files"
   ]
  },
  {
   "cell_type": "code",
   "execution_count": 12,
   "metadata": {},
   "outputs": [
    {
     "data": {
      "text/plain": [
       "<xarray.Dataset>\n",
       "Dimensions:         (time: 13, x: 75, y: 75)\n",
       "Coordinates:\n",
       "    lat             (x, y) float32 50.69239 50.69253 50.692673 50.69281 ...\n",
       "    reference_time  datetime64[ns] 1970-01-01\n",
       "    lon             (x, y) float32 9.048963 9.062457 9.075953 9.089447 ...\n",
       "  * time            (time) int64 1374579000000000000 1374579300000000000 ...\n",
       "Dimensions without coordinates: x, y\n",
       "Data variables:\n",
       "    ir016           (time, x, y) float64 0.3648 0.3653 0.3567 0.3511 0.3369 ...\n",
       "    ir134           (time, x, y) float64 254.7 254.7 255.1 255.3 255.8 256.5 ...\n",
       "    ir039           (time, x, y) float64 300.6 300.5 300.4 300.3 300.2 300.1 ...\n",
       "    hrv             (time, x, y) float64 0.3235 0.3592 0.3862 0.3908 0.3786 ...\n",
       "    cma             (time, x, y) uint8 3 3 3 3 2 2 2 2 2 2 2 2 2 2 2 2 2 2 2 ...\n",
       "    wv062           (time, x, y) float64 232.9 232.9 233.0 233.0 233.1 233.2 ...\n",
       "    ir120           (time, x, y) float64 271.3 271.3 272.2 272.7 273.8 275.4 ...\n",
       "    wv073           (time, x, y) float64 250.3 250.3 250.4 250.4 250.6 250.7 ...\n",
       "    ch              (time, x, y) float64 6.751e+03 6.582e+03 6.404e+03 ...\n",
       "    vis006          (time, x, y) float64 0.2658 0.2672 0.2604 0.2557 0.2434 ...\n",
       "    ir108           (time, x, y) float64 274.0 273.9 274.9 275.5 276.8 278.6 ...\n",
       "    vis008          (time, x, y) float64 0.3855 0.3868 0.3827 0.3796 0.3705 ...\n",
       "    ir087           (time, x, y) float64 272.4 272.4 273.4 274.0 275.4 277.3 ...\n",
       "    ir097           (time, x, y) float64 250.9 250.9 251.4 251.7 252.4 253.3 ...\n",
       "    z               (time, x, y) float64 -8.0 -20.0 -8.5 -8.5 -26.0 -6.5 ...\n",
       "    fld             (time, x, y) float64 0.0 0.0 0.0 0.0 0.0 0.0 0.0 0.0 0.0 ...\n",
       "Attributes:\n",
       "    title:    MSG, Radolan and Linet data for HACI object track 103 on 2013-0..."
      ]
     },
     "execution_count": 12,
     "metadata": {},
     "output_type": "execute_result"
    }
   ],
   "source": [
    "test = xr.open_dataset(track_files[10])\n",
    "test"
   ]
  },
  {
   "cell_type": "code",
   "execution_count": 3,
   "metadata": {
    "collapsed": true
   },
   "outputs": [],
   "source": [
    "timesteps = np.arange(-30,35,5)"
   ]
  },
  {
   "cell_type": "code",
   "execution_count": 15,
   "metadata": {},
   "outputs": [
    {
     "data": {
      "text/plain": [
       "13"
      ]
     },
     "execution_count": 15,
     "metadata": {},
     "output_type": "execute_result"
    }
   ],
   "source": [
    "len(timesteps)"
   ]
  },
  {
   "cell_type": "code",
   "execution_count": 4,
   "metadata": {
    "collapsed": true
   },
   "outputs": [],
   "source": [
    "track_ravel_time = {t:[] for t in timesteps}"
   ]
  },
  {
   "cell_type": "markdown",
   "metadata": {},
   "source": [
    "Das lassen wir testweise für den IR-10,8-µm-Kanal laufen."
   ]
  },
  {
   "cell_type": "code",
   "execution_count": 17,
   "metadata": {},
   "outputs": [],
   "source": [
    "for i,time in enumerate(timesteps):\n",
    "    track_ravel_time[time].extend(test.ir108.data[i].ravel())"
   ]
  },
  {
   "cell_type": "code",
   "execution_count": 21,
   "metadata": {},
   "outputs": [
    {
     "data": {
      "text/plain": [
       "(array([ 128.,  137.,  107.,  143.,  151.,  187.,  247.,  737., 1775.,\n",
       "        2013.]), array([220.66729511, 228.26777984, 235.86826456, 243.46874929,\n",
       "        251.06923402, 258.66971874, 266.27020347, 273.8706882 ,\n",
       "        281.47117293, 289.07165765, 296.67214238]), <a list of 10 Patch objects>)"
      ]
     },
     "execution_count": 21,
     "metadata": {},
     "output_type": "execute_result"
    },
    {
     "data": {
      "image/png": "[encoded data removed]",
      "text/plain": [
       "<Figure size 432x288 with 1 Axes>"
      ]
     },
     "metadata": {},
     "output_type": "display_data"
    }
   ],
   "source": [
    "plt.hist(track_ravel_time[0])"
   ]
  },
  {
   "cell_type": "markdown",
   "metadata": {},
   "source": [
    "Das scheint zu funktionieren. Dann probieren wir das doch mal mit den Werten aller Tracks."
   ]
  },
  {
   "cell_type": "code",
   "execution_count": 13,
   "metadata": {},
   "outputs": [],
   "source": [
    "track_ravel_time = {t:[] for t in timesteps}\n",
    "\n",
    "for track in track_files:\n",
    "    track_data = xr.open_dataset(track)\n",
    "    \n",
    "    for i,time in enumerate(timesteps):\n",
    "        track_ravel_time[time] = track_ravel_time[time] + track_data.ir108.data[i].ravel().tolist()"
   ]
  },
  {
   "cell_type": "code",
   "execution_count": 40,
   "metadata": {},
   "outputs": [
    {
     "ename": "KeyboardInterrupt",
     "evalue": "",
     "output_type": "error",
     "traceback": [
      "\u001b[0;31m---------------------------------------------------------------------------\u001b[0m",
      "\u001b[0;31mKeyboardInterrupt\u001b[0m                         Traceback (most recent call last)",
      "\u001b[0;32m<ipython-input-40-35ef25d52cca>\u001b[0m in \u001b[0;36m<module>\u001b[0;34m()\u001b[0m\n\u001b[1;32m      9\u001b[0m     \u001b[0;31m#             label = \"{} min\".format(time),ax=ax)\u001b[0m\u001b[0;34m\u001b[0m\u001b[0;34m\u001b[0m\u001b[0m\n\u001b[1;32m     10\u001b[0m     sns.violinplot(track_ravel_time[time],\n\u001b[0;32m---> 11\u001b[0;31m                  label = \"{} min\".format(time),ax=ax)\n\u001b[0m\u001b[1;32m     12\u001b[0m \u001b[0;34m\u001b[0m\u001b[0m\n\u001b[1;32m     13\u001b[0m \u001b[0;31m# Plot formatting\u001b[0m\u001b[0;34m\u001b[0m\u001b[0;34m\u001b[0m\u001b[0m\n",
      "\u001b[0;32m/home/lenk/.local/lib/python2.7/site-packages/seaborn/categorical.pyc\u001b[0m in \u001b[0;36mviolinplot\u001b[0;34m(x, y, hue, data, order, hue_order, bw, cut, scale, scale_hue, gridsize, width, inner, split, dodge, orient, linewidth, color, palette, saturation, ax, **kwargs)\u001b[0m\n\u001b[1;32m   2385\u001b[0m                              \u001b[0mbw\u001b[0m\u001b[0;34m,\u001b[0m \u001b[0mcut\u001b[0m\u001b[0;34m,\u001b[0m \u001b[0mscale\u001b[0m\u001b[0;34m,\u001b[0m \u001b[0mscale_hue\u001b[0m\u001b[0;34m,\u001b[0m \u001b[0mgridsize\u001b[0m\u001b[0;34m,\u001b[0m\u001b[0;34m\u001b[0m\u001b[0m\n\u001b[1;32m   2386\u001b[0m                              \u001b[0mwidth\u001b[0m\u001b[0;34m,\u001b[0m \u001b[0minner\u001b[0m\u001b[0;34m,\u001b[0m \u001b[0msplit\u001b[0m\u001b[0;34m,\u001b[0m \u001b[0mdodge\u001b[0m\u001b[0;34m,\u001b[0m \u001b[0morient\u001b[0m\u001b[0;34m,\u001b[0m \u001b[0mlinewidth\u001b[0m\u001b[0;34m,\u001b[0m\u001b[0;34m\u001b[0m\u001b[0m\n\u001b[0;32m-> 2387\u001b[0;31m                              color, palette, saturation)\n\u001b[0m\u001b[1;32m   2388\u001b[0m \u001b[0;34m\u001b[0m\u001b[0m\n\u001b[1;32m   2389\u001b[0m     \u001b[0;32mif\u001b[0m \u001b[0max\u001b[0m \u001b[0;32mis\u001b[0m \u001b[0mNone\u001b[0m\u001b[0;34m:\u001b[0m\u001b[0;34m\u001b[0m\u001b[0m\n",
      "\u001b[0;32m/home/lenk/.local/lib/python2.7/site-packages/seaborn/categorical.pyc\u001b[0m in \u001b[0;36m__init__\u001b[0;34m(self, x, y, hue, data, order, hue_order, bw, cut, scale, scale_hue, gridsize, width, inner, split, dodge, orient, linewidth, color, palette, saturation)\u001b[0m\n\u001b[1;32m    562\u001b[0m         \u001b[0mself\u001b[0m\u001b[0;34m.\u001b[0m\u001b[0mestablish_variables\u001b[0m\u001b[0;34m(\u001b[0m\u001b[0mx\u001b[0m\u001b[0;34m,\u001b[0m \u001b[0my\u001b[0m\u001b[0;34m,\u001b[0m \u001b[0mhue\u001b[0m\u001b[0;34m,\u001b[0m \u001b[0mdata\u001b[0m\u001b[0;34m,\u001b[0m \u001b[0morient\u001b[0m\u001b[0;34m,\u001b[0m \u001b[0morder\u001b[0m\u001b[0;34m,\u001b[0m \u001b[0mhue_order\u001b[0m\u001b[0;34m)\u001b[0m\u001b[0;34m\u001b[0m\u001b[0m\n\u001b[1;32m    563\u001b[0m         \u001b[0mself\u001b[0m\u001b[0;34m.\u001b[0m\u001b[0mestablish_colors\u001b[0m\u001b[0;34m(\u001b[0m\u001b[0mcolor\u001b[0m\u001b[0;34m,\u001b[0m \u001b[0mpalette\u001b[0m\u001b[0;34m,\u001b[0m \u001b[0msaturation\u001b[0m\u001b[0;34m)\u001b[0m\u001b[0;34m\u001b[0m\u001b[0m\n\u001b[0;32m--> 564\u001b[0;31m         \u001b[0mself\u001b[0m\u001b[0;34m.\u001b[0m\u001b[0mestimate_densities\u001b[0m\u001b[0;34m(\u001b[0m\u001b[0mbw\u001b[0m\u001b[0;34m,\u001b[0m \u001b[0mcut\u001b[0m\u001b[0;34m,\u001b[0m \u001b[0mscale\u001b[0m\u001b[0;34m,\u001b[0m \u001b[0mscale_hue\u001b[0m\u001b[0;34m,\u001b[0m \u001b[0mgridsize\u001b[0m\u001b[0;34m)\u001b[0m\u001b[0;34m\u001b[0m\u001b[0m\n\u001b[0m\u001b[1;32m    565\u001b[0m \u001b[0;34m\u001b[0m\u001b[0m\n\u001b[1;32m    566\u001b[0m         \u001b[0mself\u001b[0m\u001b[0;34m.\u001b[0m\u001b[0mgridsize\u001b[0m \u001b[0;34m=\u001b[0m \u001b[0mgridsize\u001b[0m\u001b[0;34m\u001b[0m\u001b[0m\n",
      "\u001b[0;32m/home/lenk/.local/lib/python2.7/site-packages/seaborn/categorical.pyc\u001b[0m in \u001b[0;36mestimate_densities\u001b[0;34m(self, bw, cut, scale, scale_hue, gridsize)\u001b[0m\n\u001b[1;32m    632\u001b[0m                 \u001b[0;31m# Determine the support grid and get the density over it\u001b[0m\u001b[0;34m\u001b[0m\u001b[0;34m\u001b[0m\u001b[0m\n\u001b[1;32m    633\u001b[0m                 \u001b[0msupport_i\u001b[0m \u001b[0;34m=\u001b[0m \u001b[0mself\u001b[0m\u001b[0;34m.\u001b[0m\u001b[0mkde_support\u001b[0m\u001b[0;34m(\u001b[0m\u001b[0mkde_data\u001b[0m\u001b[0;34m,\u001b[0m \u001b[0mbw_used\u001b[0m\u001b[0;34m,\u001b[0m \u001b[0mcut\u001b[0m\u001b[0;34m,\u001b[0m \u001b[0mgridsize\u001b[0m\u001b[0;34m)\u001b[0m\u001b[0;34m\u001b[0m\u001b[0m\n\u001b[0;32m--> 634\u001b[0;31m                 \u001b[0mdensity_i\u001b[0m \u001b[0;34m=\u001b[0m \u001b[0mkde\u001b[0m\u001b[0;34m.\u001b[0m\u001b[0mevaluate\u001b[0m\u001b[0;34m(\u001b[0m\u001b[0msupport_i\u001b[0m\u001b[0;34m)\u001b[0m\u001b[0;34m\u001b[0m\u001b[0m\n\u001b[0m\u001b[1;32m    635\u001b[0m \u001b[0;34m\u001b[0m\u001b[0m\n\u001b[1;32m    636\u001b[0m                 \u001b[0;31m# Update the data structures with these results\u001b[0m\u001b[0;34m\u001b[0m\u001b[0;34m\u001b[0m\u001b[0m\n",
      "\u001b[0;32m/home/lenk/.local/lib/python2.7/site-packages/scipy/stats/kde.pyc\u001b[0m in \u001b[0;36mevaluate\u001b[0;34m(self, points)\u001b[0m\n\u001b[1;32m    220\u001b[0m                 \u001b[0mtdiff\u001b[0m \u001b[0;34m=\u001b[0m \u001b[0mdot\u001b[0m\u001b[0;34m(\u001b[0m\u001b[0mself\u001b[0m\u001b[0;34m.\u001b[0m\u001b[0minv_cov\u001b[0m\u001b[0;34m,\u001b[0m \u001b[0mdiff\u001b[0m\u001b[0;34m)\u001b[0m\u001b[0;34m\u001b[0m\u001b[0m\n\u001b[1;32m    221\u001b[0m                 \u001b[0menergy\u001b[0m \u001b[0;34m=\u001b[0m \u001b[0msum\u001b[0m\u001b[0;34m(\u001b[0m\u001b[0mdiff\u001b[0m \u001b[0;34m*\u001b[0m \u001b[0mtdiff\u001b[0m\u001b[0;34m,\u001b[0m \u001b[0maxis\u001b[0m\u001b[0;34m=\u001b[0m\u001b[0;36m0\u001b[0m\u001b[0;34m)\u001b[0m \u001b[0;34m/\u001b[0m \u001b[0;36m2.0\u001b[0m\u001b[0;34m\u001b[0m\u001b[0m\n\u001b[0;32m--> 222\u001b[0;31m                 \u001b[0mresult\u001b[0m\u001b[0;34m[\u001b[0m\u001b[0mi\u001b[0m\u001b[0;34m]\u001b[0m \u001b[0;34m=\u001b[0m \u001b[0msum\u001b[0m\u001b[0;34m(\u001b[0m\u001b[0mexp\u001b[0m\u001b[0;34m(\u001b[0m\u001b[0;34m-\u001b[0m\u001b[0menergy\u001b[0m\u001b[0;34m)\u001b[0m\u001b[0;34m,\u001b[0m \u001b[0maxis\u001b[0m\u001b[0;34m=\u001b[0m\u001b[0;36m0\u001b[0m\u001b[0;34m)\u001b[0m\u001b[0;34m\u001b[0m\u001b[0m\n\u001b[0m\u001b[1;32m    223\u001b[0m \u001b[0;34m\u001b[0m\u001b[0m\n\u001b[1;32m    224\u001b[0m         \u001b[0mresult\u001b[0m \u001b[0;34m=\u001b[0m \u001b[0mresult\u001b[0m \u001b[0;34m/\u001b[0m \u001b[0mself\u001b[0m\u001b[0;34m.\u001b[0m\u001b[0m_norm_factor\u001b[0m\u001b[0;34m\u001b[0m\u001b[0m\n",
      "\u001b[0;31mKeyboardInterrupt\u001b[0m: "
     ]
    },
    {
     "data": {
      "image/png": "[encoded data removed]",
      "text/plain": [
       "<Figure size 1152x720 with 1 Axes>"
      ]
     },
     "metadata": {},
     "output_type": "display_data"
    }
   ],
   "source": [
    "sns.set(palette='Set3')\n",
    "\n",
    "fig, ax = plt.subplots(1,1,figsize=(16,10))\n",
    "\n",
    "for time in timesteps:\n",
    "    # Draw the density plot\n",
    "    #sns.distplot(track_ravel_time[time], hist = False, kde = True,\n",
    "    #             kde_kws = {'linewidth': 2},\n",
    "    #             label = \"{} min\".format(time),ax=ax)\n",
    "    sns.violinplot(track_ravel_time[time],\n",
    "                 label = \"{} min\".format(time),ax=ax)\n",
    "    \n",
    "# Plot formatting\n",
    "plt.legend(prop={'size': 12}, title = 'relative Zeit')\n",
    "ax.set_xlim(200,310)\n",
    "ax.set_xlabel(r'T$_\\mathrm{B}')\n",
    "ax.set_title(u\"IR 10,8 µm nach Zeitschritt, alle 142 Tracks\")"
   ]
  },
  {
   "cell_type": "code",
   "execution_count": 36,
   "metadata": {},
   "outputs": [],
   "source": [
    "sns.distplot?"
   ]
  }
 ],
 "metadata": {
  "kernelspec": {
   "display_name": "Python 2",
   "language": "python",
   "name": "python2"
  },
  "language_info": {
   "codemirror_mode": {
    "name": "ipython",
    "version": 2
   },
   "file_extension": ".py",
   "mimetype": "text/x-python",
   "name": "python",
   "nbconvert_exporter": "python",
   "pygments_lexer": "ipython2",
   "version": "2.7.11"
  }
 },
 "nbformat": 4,
 "nbformat_minor": 2
}
