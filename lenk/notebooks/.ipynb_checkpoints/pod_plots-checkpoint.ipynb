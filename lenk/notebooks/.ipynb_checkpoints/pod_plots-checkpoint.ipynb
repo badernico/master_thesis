{
 "metadata": {
  "name": "",
  "signature": "sha256:618b5959b598eaf0c3f35d290bb005bf831482eddcdf4e2307a4ba29622932c9"
 },
 "nbformat": 3,
 "nbformat_minor": 0,
 "worksheets": [
  {
   "cells": [
    {
     "cell_type": "markdown",
     "metadata": {},
     "source": [
      "# Erstellung von POD-Plots f\u00fcr die Interessenfelder\n",
      "Die Vorgehensweise ist folgenderma\u00dfen: \n",
      "1. Zuerst werden alle Tracks geladen und ensprechend der h\u00f6chsten Abk\u00fchlungsrate oder dem ersten Zeitpunkt mit einem Radarreflektivit\u00e4tsfaktor von mehr als 35 dBZ sortiert.\n",
      "2. Dann wird f\u00fcr alle Zeitschritte und Interessenfelder eine Statistik f\u00fcr einen 3x3-Pixelbereich um den Mittelpunkt des jeweiligen Ausschnittes f\u00fcr den Zeitpunkt berechnet.\n",
      "3. Danach wird der Median oder, f\u00fcr die Indikatorsumme, das Maximum der Statistik daraufhin analysiert, ob es innerhalb des Schwellwertbereiches liegt. Wenn ja wird in eine neue Matrix an die entsprechende Stelle 1 eingetragen, wenn nicht 0.\n",
      "4. Anschlie\u00dfend werden f\u00fcr alle Zeitpunkte und Felder die absolute H\u00e4ufigkeit der Indikation ermittelt indem einfach alle Werte der Indikationsmatrix addiert werden.\n",
      "5. Die relative H\u00e4ufigkeit ist entsprechend die absolute H\u00e4ufigkeit geteilt durch die Anzahl aller Indikationsmatrixzellen.\n",
      "6. Danach wird die relative H\u00e4ufigkeit f\u00fcr alle Zeitschritte aufsummiert um die kumulative H\u00e4ufigkeit zu erhalten.\n",
      "7. Zum Schluss wird das Ganze dargestellt."
     ]
    },
    {
     "cell_type": "markdown",
     "metadata": {},
     "source": [
      "## N\u00f6tige Pakete Laden\n",
      "Zun\u00e4chst m\u00fcssen einige Pakete geladen werden, damit wir loslegen k\u00f6nnen."
     ]
    },
    {
     "cell_type": "code",
     "collapsed": false,
     "input": [
      "%matplotlib inline\n",
      "\n",
      "import sys,os\n",
      "import numpy as np\n",
      "import datetime\n",
      "from glob import glob\n",
      "\n",
      "import matplotlib.pyplot as plt\n",
      "import seaborn as sns\n",
      "\n",
      "from standard_config import *\n",
      "\n",
      "sys.path.append('/vols/talos/home/stephan/utils')\n",
      "import trackdaten_laden\n",
      "\n",
      "sys.path.append(\"/vols/talos/home/stephan/lib/citroPy\")\n",
      "import ci_config"
     ],
     "language": "python",
     "metadata": {},
     "outputs": [],
     "prompt_number": 1
    },
    {
     "cell_type": "markdown",
     "metadata": {},
     "source": [
      "## Funktionen definieren\n",
      "Danach definieren wir einige Funktionen, um das Ganze etwas \u00fcbersichtlicher zu gestalten.\n",
      "\n",
      "Zun\u00e4chst eine Funktion, um den Bereich um den Mittelpunkt einer gegebenen Matrix auszuschneiden:"
     ]
    },
    {
     "cell_type": "code",
     "collapsed": false,
     "input": [
      "def ausschnitt(daten,nachbarschaft):\n",
      "    datenvektor = daten.flatten()\n",
      "    bereich = datenvektor[len(datenvektor)/2-(nachbarschaft**2/2):len(datenvektor)/2+(nachbarschaft**2/2)+1]\n",
      "    bereich = np.reshape(bereich,(nachbarschaft,nachbarschaft))\n",
      "    return bereich"
     ],
     "language": "python",
     "metadata": {},
     "outputs": [],
     "prompt_number": 2
    },
    {
     "cell_type": "markdown",
     "metadata": {},
     "source": [
      "Dann eine Funktion, um die zeitliche Abfolge der Trackdaten auf den ersten Zeitpunkt mit mehr als 35 dBZ zu zentrieren:"
     ]
    },
    {
     "cell_type": "code",
     "collapsed": false,
     "input": [
      "def sort_radar(trackdaten,dt):\n",
      "    rx_max = []\n",
      "    \n",
      "    for i in range(0,len(trackdaten['radar'])):\n",
      "        radarmax = np.max(ausschnitt(trackdaten['radar'][i],9))\n",
      "        rx_max.append(radarmax)\n",
      "    \n",
      "    # Index des ersten Zeitschrittes mit mehr als 35 dBZ finden \n",
      "    try:\n",
      "        sw_idx = np.min(np.where(np.array(rx_max)>35))\n",
      "        \n",
      "        zeit_nach = np.arange(0,len(trackdaten['radar'])-sw_idx)\n",
      "        zeit_vor = np.arange(-sw_idx,0)\n",
      "        \n",
      "        rel_zeit = np.concatenate((zeit_vor,zeit_nach))\n",
      "        \n",
      "        return rel_zeit * dt\n",
      "    except:\n",
      "        return"
     ],
     "language": "python",
     "metadata": {},
     "outputs": [],
     "prompt_number": 3
    },
    {
     "cell_type": "markdown",
     "metadata": {},
     "source": [
      "Das Gleiche nochmal f\u00fcr die Zentrierung auf die h\u00f6chste Abk\u00fchlrate:"
     ]
    },
    {
     "cell_type": "code",
     "collapsed": false,
     "input": [
      "def sort_dtbmin(trackdaten,dt):\n",
      "    dtb = []\n",
      "    \n",
      "    for i in range(1,len(trackdaten['ir108'])):\n",
      "        dtb.append(np.median(ausschnitt(trackdaten['ir108'][i-1],3)-np.median(ausschnitt(trackdaten['ir108'][i],3))))\n",
      "       \n",
      "    # Index des ersten Zeitschrittes wo Differenz maximal wird, also die Ab-\n",
      "    # k\u00fchlung am gr\u00f6\u00dften ist\n",
      "    try:\n",
      "        kuehl_idx = np.where(dtb == np.max(dtb))\n",
      "        \n",
      "        zeit_nach = np.arange(0,len(trackdaten['ir108'])-kuehl_idx[0])\n",
      "        zeit_vor = np.arange(-kuehl_idx[0],0)\n",
      "        \n",
      "        rel_zeit = np.concatenate((zeit_vor,zeit_nach))\n",
      "        \n",
      "        return rel_zeit * dt\n",
      "    except:\n",
      "        return"
     ],
     "language": "python",
     "metadata": {},
     "outputs": [],
     "prompt_number": 4
    },
    {
     "cell_type": "markdown",
     "metadata": {},
     "source": [
      "Dann eine Funktion zur Berechnung von statistischen Gr\u00f6\u00dfen f\u00fcr eine gegebene Nachbarschaft um den Mittelpunkt einer Matrix:"
     ]
    },
    {
     "cell_type": "code",
     "collapsed": false,
     "input": [
      "def feldstatistik(felddaten,nachbarschaft):\n",
      "    feld_min = []\n",
      "    feld_q25 = []            \n",
      "    feld_med = []\n",
      "    feld_mit = []\n",
      "    feld_q75 = []      \n",
      "    feld_max = []\n",
      "    \n",
      "    for f in felddaten:\n",
      "        feld_ausschnitt = ausschnitt(f,nachbarschaft)\n",
      "        feld_min.append(np.min(feld_ausschnitt))\n",
      "        feld_q25.append(np.percentile(feld_ausschnitt,25))\n",
      "        feld_mit.append(np.median(feld_ausschnitt))\n",
      "        feld_med.append(np.percentile(feld_ausschnitt,50))\n",
      "        feld_q75.append(np.percentile(feld_ausschnitt,75))\n",
      "        feld_max.append(np.max(feld_ausschnitt))\n",
      "        \n",
      "    ausgabe = {'min':feld_min,\n",
      "               'q25':feld_q25,\n",
      "               'med':feld_med,\n",
      "               'mit':feld_mit,\n",
      "               'q75':feld_q75,\n",
      "               'max':feld_max}\n",
      "               \n",
      "    return ausgabe  "
     ],
     "language": "python",
     "metadata": {},
     "outputs": [],
     "prompt_number": 5
    },
    {
     "cell_type": "markdown",
     "metadata": {},
     "source": [
      "Eine weitere Funktion, die pr\u00fcft ob die Werte in einem gegebenen Datenvektor zwischen zwei gegebenen Schwellwerten liegt:"
     ]
    },
    {
     "cell_type": "code",
     "collapsed": false,
     "input": [
      "def indikatorbewertung(daten,unterer_schwellwert,oberer_schwellwert):\n",
      "    indiziert = [0 if i < unterer_schwellwert or i > oberer_schwellwert else 1 for i in daten]\n",
      "    return indiziert"
     ],
     "language": "python",
     "metadata": {},
     "outputs": [],
     "prompt_number": 6
    },
    {
     "cell_type": "markdown",
     "metadata": {},
     "source": [
      "Und noch eine Funktion, die die Indikatorberwertung f\u00fcr einen gegebenen Zeitschritt zusammenb\u00fcndelt:"
     ]
    },
    {
     "cell_type": "code",
     "collapsed": false,
     "input": [
      "def indikator_zeitpunkt(zeiten,zeitpunkt,indikatordaten):\n",
      "    ind = []\n",
      "    \n",
      "    zeit_idx = np.where(np.array(zeiten)==zeitpunkt)\n",
      "    \n",
      "    ind.append([indikatordaten[j] for j in zeit_idx[0].tolist()])\n",
      "           \n",
      "    return ind"
     ],
     "language": "python",
     "metadata": {},
     "outputs": [],
     "prompt_number": 7
    },
    {
     "cell_type": "markdown",
     "metadata": {},
     "source": [
      "## POD-Plots erstellen\n",
      "\n",
      "Damit sollten wir in der Lage sein die POD-Plots zu erstellen.\n",
      "\n",
      "Zun\u00e4chst laden wir erstmal die Dateinamen aller NetCDF4-Dateien mit Trackdaten und sortieren sie aufsteigend."
     ]
    },
    {
     "cell_type": "code",
     "collapsed": false,
     "input": [
      "tracks = glob(\"/vols/talos/home/stephan/data/life_cycle/Handtracks/trackdata/*.nc\")\n",
      "tracks.sort()"
     ],
     "language": "python",
     "metadata": {},
     "outputs": [],
     "prompt_number": 8
    },
    {
     "cell_type": "markdown",
     "metadata": {},
     "source": [
      "Dann erstellen wir eine Liste mit den Namen der Interessenfelder, damit wir das nicht immer wieder eingeben m\u00fcssen:\n"
     ]
    },
    {
     "cell_type": "code",
     "collapsed": false,
     "input": [
      "analysefelder = ['b108',\n",
      "    'b62_73',\n",
      "    'indicator_sum',\n",
      "    'cool_30',\n",
      "    'cool_15',\n",
      "    'b87_108',\n",
      "    'db62_73_t15',\n",
      "    'dtri_t15',\n",
      "    'b62_108',\n",
      "    'db62_73_t30',\n",
      "    'db87_108_t15']"
     ],
     "language": "python",
     "metadata": {},
     "outputs": [],
     "prompt_number": 9
    },
    {
     "cell_type": "markdown",
     "metadata": {},
     "source": [
      "Jetzt erstellen wir eine Liste f\u00fcr die Zeitschritte und zwei Dictionarys f\u00fcr den Zeitpunkt der ersten Indikation und die Indikationsbewertung, in die wir dann die Ergebnisse packen:"
     ]
    },
    {
     "cell_type": "code",
     "collapsed": false,
     "input": [
      "zeiten = []\n",
      "erste_indikation = {key: [] for key in analysefelder}\n",
      "indikatoren = {key: [] for key in analysefelder}"
     ],
     "language": "python",
     "metadata": {},
     "outputs": [],
     "prompt_number": 10
    },
    {
     "cell_type": "markdown",
     "metadata": {},
     "source": [
      "Jetzt fehlen uns noch die Schwellwerte. Die laden wir aus der Citro-Konfigurationsdatei:"
     ]
    },
    {
     "cell_type": "code",
     "collapsed": false,
     "input": [
      "schwellwerte = ci_config.ci_thresholds "
     ],
     "language": "python",
     "metadata": {},
     "outputs": [],
     "prompt_number": 11
    },
    {
     "cell_type": "markdown",
     "metadata": {},
     "source": [
      "Nun laden wir die Daten f\u00fcr alle Tracks, zentrieren den Zeitablauf, berechnen f\u00fcr jeden Zeitschritt statistische Gr\u00f6\u00dfen und f\u00fchren die Indikationsbewertung durch:"
     ]
    },
    {
     "cell_type": "code",
     "collapsed": false,
     "input": [
      "for tr in tracks:\n",
      "        trackdaten = trackdaten_laden.trackdaten_laden(tr)\n",
      "                    \n",
      "        #rel_zeit = sort_radar(trackdaten,5)\n",
      "        rel_zeit = sort_dtbmin(trackdaten,5)\n",
      "        \n",
      "        \n",
      "        # nur f\u00fcr alle F\u00e4lle, wo auch Z >= 35 dBZ erreicht werden           \n",
      "        if np.all(rel_zeit) != None:\n",
      "         \n",
      "            # sortierte Zeiten an Zeitliste anh\u00e4ngen\n",
      "            zeiten.extend(rel_zeit)\n",
      "            \n",
      "            # alle Zeitschritte, wo Indikator gegriffen hat mit 1 eintragen            \n",
      "            for k in analysefelder:\n",
      "                # Statistiken f\u00fcr das betrachtenden Felder berechnen\n",
      "                stat = feldstatistik(trackdaten[k],3)\n",
      "                \n",
      "                # f\u00fcr die Indikatorsumme ist wohl nur das Maximum sinnvoll\n",
      "                if k == 'indicator_sum':\n",
      "                    ind = indikatorbewertung(stat['max'],7,10)\n",
      "                    indikatoren[k].extend(ind)\n",
      "                   \n",
      "                    ind_idx = np.where(np.array(ind)==1)\n",
      "                   \n",
      "                    if ind_idx[0].size!=0:\n",
      "                       erste_indikation[k].append(rel_zeit[np.min(ind_idx)])\n",
      "                    else:\n",
      "                       continue                               \n",
      "                else:\n",
      "                    ind = indikatorbewertung(stat['med'],schwellwerte[k][0],schwellwerte[k][1])\n",
      "                    indikatoren[k].extend(ind)\n",
      "                    ind_idx = np.where(np.array(ind)==1)\n",
      "                   \n",
      "                    if ind_idx[0].size!=0:\n",
      "                       erste_indikation[k].append(rel_zeit[np.min(ind_idx)])\n",
      "                    else:\n",
      "                       continue        \n",
      "        else:\n",
      "            continue"
     ],
     "language": "python",
     "metadata": {},
     "outputs": [
      {
       "output_type": "stream",
       "stream": "stdout",
       "text": [
        "... /vols/talos/home/stephan/data/life_cycle/Handtracks/trackdata/trackdata_20120422_0800_5_160x150.nc geladen\n",
        "... /vols/talos/home/stephan/data/life_cycle/Handtracks/trackdata/trackdata_20120422_0815_5_129x70.nc geladen"
       ]
      },
      {
       "output_type": "stream",
       "stream": "stdout",
       "text": [
        "\n",
        "... /vols/talos/home/stephan/data/life_cycle/Handtracks/trackdata/trackdata_20120422_0910_5_186x49.nc geladen"
       ]
      },
      {
       "output_type": "stream",
       "stream": "stdout",
       "text": [
        "\n",
        "... /vols/talos/home/stephan/data/life_cycle/Handtracks/trackdata/trackdata_20120422_0950_5_171x40.nc geladen"
       ]
      },
      {
       "output_type": "stream",
       "stream": "stdout",
       "text": [
        "\n",
        "... /vols/talos/home/stephan/data/life_cycle/Handtracks/trackdata/trackdata_20120422_1000_5_228x52.nc geladen"
       ]
      },
      {
       "output_type": "stream",
       "stream": "stdout",
       "text": [
        "\n",
        "... /vols/talos/home/stephan/data/life_cycle/Handtracks/trackdata/trackdata_20120422_1145_5_184x95.nc geladen"
       ]
      },
      {
       "output_type": "stream",
       "stream": "stdout",
       "text": [
        "\n",
        "... /vols/talos/home/stephan/data/life_cycle/Handtracks/trackdata/trackdata_20120422_1200_5_169x97.nc geladen"
       ]
      },
      {
       "output_type": "stream",
       "stream": "stdout",
       "text": [
        "\n",
        "... /vols/talos/home/stephan/data/life_cycle/Handtracks/trackdata/trackdata_20120422_1255_5_216x83.nc geladen"
       ]
      },
      {
       "output_type": "stream",
       "stream": "stdout",
       "text": [
        "\n",
        "... /vols/talos/home/stephan/data/life_cycle/Handtracks/trackdata/trackdata_20120509_0815_5_143x85.nc geladen"
       ]
      },
      {
       "output_type": "stream",
       "stream": "stdout",
       "text": [
        "\n",
        "... /vols/talos/home/stephan/data/life_cycle/Handtracks/trackdata/trackdata_20120509_0835_5_165x143.nc geladen"
       ]
      },
      {
       "output_type": "stream",
       "stream": "stdout",
       "text": [
        "\n",
        "... /vols/talos/home/stephan/data/life_cycle/Handtracks/trackdata/trackdata_20120509_0910_5_174x132.nc geladen"
       ]
      },
      {
       "output_type": "stream",
       "stream": "stdout",
       "text": [
        "\n",
        "... /vols/talos/home/stephan/data/life_cycle/Handtracks/trackdata/trackdata_20120509_0930_5_166x151.nc geladen"
       ]
      },
      {
       "output_type": "stream",
       "stream": "stdout",
       "text": [
        "\n",
        "... /vols/talos/home/stephan/data/life_cycle/Handtracks/trackdata/trackdata_20120509_1015_5_153x72.nc geladen"
       ]
      },
      {
       "output_type": "stream",
       "stream": "stdout",
       "text": [
        "\n",
        "... /vols/talos/home/stephan/data/life_cycle/Handtracks/trackdata/trackdata_20120509_1020_5_154x91.nc geladen"
       ]
      },
      {
       "output_type": "stream",
       "stream": "stdout",
       "text": [
        "\n",
        "... /vols/talos/home/stephan/data/life_cycle/Handtracks/trackdata/trackdata_20120509_1040_5_152x194.nc geladen"
       ]
      },
      {
       "output_type": "stream",
       "stream": "stdout",
       "text": [
        "\n",
        "... /vols/talos/home/stephan/data/life_cycle/Handtracks/trackdata/trackdata_20120509_1110_5_201x67.nc geladen"
       ]
      },
      {
       "output_type": "stream",
       "stream": "stdout",
       "text": [
        "\n",
        "... /vols/talos/home/stephan/data/life_cycle/Handtracks/trackdata/trackdata_20120509_1320_5_216x146.nc geladen"
       ]
      },
      {
       "output_type": "stream",
       "stream": "stdout",
       "text": [
        "\n",
        "... /vols/talos/home/stephan/data/life_cycle/Handtracks/trackdata/trackdata_20120509_1340_5_221x162.nc geladen"
       ]
      },
      {
       "output_type": "stream",
       "stream": "stdout",
       "text": [
        "\n",
        "... /vols/talos/home/stephan/data/life_cycle/Handtracks/trackdata/trackdata_20120510_0800_5_235x117.nc geladen"
       ]
      },
      {
       "output_type": "stream",
       "stream": "stdout",
       "text": [
        "\n",
        "... /vols/talos/home/stephan/data/life_cycle/Handtracks/trackdata/trackdata_20120510_1035_5_2x94.nc geladen"
       ]
      },
      {
       "output_type": "stream",
       "stream": "stdout",
       "text": [
        "\n",
        "... /vols/talos/home/stephan/data/life_cycle/Handtracks/trackdata/trackdata_20120510_1120_5_191x127.nc geladen"
       ]
      },
      {
       "output_type": "stream",
       "stream": "stdout",
       "text": [
        "\n",
        "... /vols/talos/home/stephan/data/life_cycle/Handtracks/trackdata/trackdata_20120510_1545_5_204x88.nc geladen"
       ]
      },
      {
       "output_type": "stream",
       "stream": "stdout",
       "text": [
        "\n",
        "... /vols/talos/home/stephan/data/life_cycle/Handtracks/trackdata/trackdata_20120511_0800_5_214x149.nc geladen"
       ]
      },
      {
       "output_type": "stream",
       "stream": "stdout",
       "text": [
        "\n",
        "... /vols/talos/home/stephan/data/life_cycle/Handtracks/trackdata/trackdata_20120511_0820_5_158x142.nc geladen"
       ]
      },
      {
       "output_type": "stream",
       "stream": "stdout",
       "text": [
        "\n",
        "... /vols/talos/home/stephan/data/life_cycle/Handtracks/trackdata/trackdata_20120511_1500_5_266x106.nc geladen"
       ]
      },
      {
       "output_type": "stream",
       "stream": "stdout",
       "text": [
        "\n",
        "... /vols/talos/home/stephan/data/life_cycle/Handtracks/trackdata/trackdata_20120511_1520_5_202x131.nc geladen"
       ]
      },
      {
       "output_type": "stream",
       "stream": "stdout",
       "text": [
        "\n",
        "... /vols/talos/home/stephan/data/life_cycle/Handtracks/trackdata/trackdata_20120511_1625_5_280x96.nc geladen"
       ]
      },
      {
       "output_type": "stream",
       "stream": "stdout",
       "text": [
        "\n",
        "... /vols/talos/home/stephan/data/life_cycle/Handtracks/trackdata/trackdata_20120511_1630_5_281x102.nc geladen"
       ]
      },
      {
       "output_type": "stream",
       "stream": "stdout",
       "text": [
        "\n",
        "... /vols/talos/home/stephan/data/life_cycle/Handtracks/trackdata/trackdata_20120519_0810_5_146x107.nc geladen"
       ]
      },
      {
       "output_type": "stream",
       "stream": "stdout",
       "text": [
        "\n",
        "... /vols/talos/home/stephan/data/life_cycle/Handtracks/trackdata/trackdata_20120519_0815_5_171x103.nc geladen"
       ]
      },
      {
       "output_type": "stream",
       "stream": "stdout",
       "text": [
        "\n",
        "... /vols/talos/home/stephan/data/life_cycle/Handtracks/trackdata/trackdata_20120519_1205_5_128x168.nc geladen"
       ]
      },
      {
       "output_type": "stream",
       "stream": "stdout",
       "text": [
        "\n",
        "... /vols/talos/home/stephan/data/life_cycle/Handtracks/trackdata/trackdata_20120519_1245_5_119x169.nc geladen"
       ]
      },
      {
       "output_type": "stream",
       "stream": "stdout",
       "text": [
        "\n",
        "... /vols/talos/home/stephan/data/life_cycle/Handtracks/trackdata/trackdata_20120519_1325_5_186x175.nc geladen"
       ]
      },
      {
       "output_type": "stream",
       "stream": "stdout",
       "text": [
        "\n",
        "... /vols/talos/home/stephan/data/life_cycle/Handtracks/trackdata/trackdata_20120519_1450_5_88x162.nc geladen"
       ]
      },
      {
       "output_type": "stream",
       "stream": "stdout",
       "text": [
        "\n",
        "... /vols/talos/home/stephan/data/life_cycle/Handtracks/trackdata/trackdata_20120520_0800_5_159x81.nc geladen"
       ]
      },
      {
       "output_type": "stream",
       "stream": "stdout",
       "text": [
        "\n",
        "... /vols/talos/home/stephan/data/life_cycle/Handtracks/trackdata/trackdata_20120520_0815_5_167x110.nc geladen"
       ]
      },
      {
       "output_type": "stream",
       "stream": "stdout",
       "text": [
        "\n",
        "... /vols/talos/home/stephan/data/life_cycle/Handtracks/trackdata/trackdata_20120520_0850_5_155x120.nc geladen"
       ]
      },
      {
       "output_type": "stream",
       "stream": "stdout",
       "text": [
        "\n",
        "... /vols/talos/home/stephan/data/life_cycle/Handtracks/trackdata/trackdata_20120520_0910_5_152x127.nc geladen"
       ]
      },
      {
       "output_type": "stream",
       "stream": "stdout",
       "text": [
        "\n",
        "... /vols/talos/home/stephan/data/life_cycle/Handtracks/trackdata/trackdata_20120520_1605_5_211x113.nc geladen"
       ]
      },
      {
       "output_type": "stream",
       "stream": "stdout",
       "text": [
        "\n",
        "... /vols/talos/home/stephan/data/life_cycle/Handtracks/trackdata/trackdata_20120521_0805_5_214x106.nc geladen"
       ]
      },
      {
       "output_type": "stream",
       "stream": "stdout",
       "text": [
        "\n",
        "... /vols/talos/home/stephan/data/life_cycle/Handtracks/trackdata/trackdata_20120521_0805_5_263x103.nc geladen"
       ]
      },
      {
       "output_type": "stream",
       "stream": "stdout",
       "text": [
        "\n",
        "... /vols/talos/home/stephan/data/life_cycle/Handtracks/trackdata/trackdata_20120521_0910_5_279x82.nc geladen"
       ]
      },
      {
       "output_type": "stream",
       "stream": "stdout",
       "text": [
        "\n",
        "... /vols/talos/home/stephan/data/life_cycle/Handtracks/trackdata/trackdata_20120521_0940_5_229x118.nc geladen"
       ]
      },
      {
       "output_type": "stream",
       "stream": "stdout",
       "text": [
        "\n",
        "... /vols/talos/home/stephan/data/life_cycle/Handtracks/trackdata/trackdata_20120521_0945_5_301x103.nc geladen"
       ]
      },
      {
       "output_type": "stream",
       "stream": "stdout",
       "text": [
        "\n",
        "... /vols/talos/home/stephan/data/life_cycle/Handtracks/trackdata/trackdata_20120521_1005_5_144x86.nc geladen"
       ]
      },
      {
       "output_type": "stream",
       "stream": "stdout",
       "text": [
        "\n",
        "... /vols/talos/home/stephan/data/life_cycle/Handtracks/trackdata/trackdata_20120521_1120_5_208x112.nc geladen"
       ]
      },
      {
       "output_type": "stream",
       "stream": "stdout",
       "text": [
        "\n",
        "... /vols/talos/home/stephan/data/life_cycle/Handtracks/trackdata/trackdata_20120522_0940_5_291x153.nc geladen"
       ]
      },
      {
       "output_type": "stream",
       "stream": "stdout",
       "text": [
        "\n",
        "... /vols/talos/home/stephan/data/life_cycle/Handtracks/trackdata/trackdata_20120522_1035_5_266x142.nc geladen"
       ]
      },
      {
       "output_type": "stream",
       "stream": "stdout",
       "text": [
        "\n",
        "... /vols/talos/home/stephan/data/life_cycle/Handtracks/trackdata/trackdata_20120522_1300_5_263x141.nc geladen"
       ]
      },
      {
       "output_type": "stream",
       "stream": "stdout",
       "text": [
        "\n",
        "... /vols/talos/home/stephan/data/life_cycle/Handtracks/trackdata/trackdata_20120522_1400_5_239x69.nc geladen"
       ]
      },
      {
       "output_type": "stream",
       "stream": "stdout",
       "text": [
        "\n",
        "... /vols/talos/home/stephan/data/life_cycle/Handtracks/trackdata/trackdata_20120522_1405_5_293x126.nc geladen"
       ]
      },
      {
       "output_type": "stream",
       "stream": "stdout",
       "text": [
        "\n",
        "... /vols/talos/home/stephan/data/life_cycle/Handtracks/trackdata/trackdata_20120522_1500_5_197x111.nc geladen"
       ]
      },
      {
       "output_type": "stream",
       "stream": "stdout",
       "text": [
        "\n",
        "... /vols/talos/home/stephan/data/life_cycle/Handtracks/trackdata/trackdata_20120522_1505_5_196x109.nc geladen"
       ]
      },
      {
       "output_type": "stream",
       "stream": "stdout",
       "text": [
        "\n",
        "... /vols/talos/home/stephan/data/life_cycle/Handtracks/trackdata/trackdata_20120522_1530_5_227x121.nc geladen"
       ]
      },
      {
       "output_type": "stream",
       "stream": "stdout",
       "text": [
        "\n",
        "... /vols/talos/home/stephan/data/life_cycle/Handtracks/trackdata/trackdata_20120523_1050_5_305x159.nc geladen"
       ]
      },
      {
       "output_type": "stream",
       "stream": "stdout",
       "text": [
        "\n",
        "... /vols/talos/home/stephan/data/life_cycle/Handtracks/trackdata/trackdata_20120523_1120_5_186x153.nc geladen"
       ]
      },
      {
       "output_type": "stream",
       "stream": "stdout",
       "text": [
        "\n",
        "... /vols/talos/home/stephan/data/life_cycle/Handtracks/trackdata/trackdata_20120523_1135_5_232x162.nc geladen"
       ]
      },
      {
       "output_type": "stream",
       "stream": "stdout",
       "text": [
        "\n",
        "... /vols/talos/home/stephan/data/life_cycle/Handtracks/trackdata/trackdata_20120523_1155_5_193x98.nc geladen"
       ]
      },
      {
       "output_type": "stream",
       "stream": "stdout",
       "text": [
        "\n",
        "... /vols/talos/home/stephan/data/life_cycle/Handtracks/trackdata/trackdata_20120523_1155_5_207x156.nc geladen"
       ]
      },
      {
       "output_type": "stream",
       "stream": "stdout",
       "text": [
        "\n",
        "... /vols/talos/home/stephan/data/life_cycle/Handtracks/trackdata/trackdata_20120523_1220_5_192x92.nc geladen"
       ]
      },
      {
       "output_type": "stream",
       "stream": "stdout",
       "text": [
        "\n",
        "... /vols/talos/home/stephan/data/life_cycle/Handtracks/trackdata/trackdata_20120523_1305_5_282x72.nc geladen"
       ]
      },
      {
       "output_type": "stream",
       "stream": "stdout",
       "text": [
        "\n",
        "... /vols/talos/home/stephan/data/life_cycle/Handtracks/trackdata/trackdata_20120523_1400_5_179x158.nc geladen"
       ]
      },
      {
       "output_type": "stream",
       "stream": "stdout",
       "text": [
        "\n",
        "... /vols/talos/home/stephan/data/life_cycle/Handtracks/trackdata/trackdata_20120523_1540_5_191x158.nc geladen"
       ]
      },
      {
       "output_type": "stream",
       "stream": "stdout",
       "text": [
        "\n",
        "... /vols/talos/home/stephan/data/life_cycle/Handtracks/trackdata/trackdata_20120523_1635_5_199x137.nc geladen"
       ]
      },
      {
       "output_type": "stream",
       "stream": "stdout",
       "text": [
        "\n",
        "... /vols/talos/home/stephan/data/life_cycle/Handtracks/trackdata/trackdata_20120524_0830_5_263x116.nc geladen"
       ]
      },
      {
       "output_type": "stream",
       "stream": "stdout",
       "text": [
        "\n",
        "... /vols/talos/home/stephan/data/life_cycle/Handtracks/trackdata/trackdata_20120524_0925_5_165x157.nc geladen"
       ]
      },
      {
       "output_type": "stream",
       "stream": "stdout",
       "text": [
        "\n",
        "... /vols/talos/home/stephan/data/life_cycle/Handtracks/trackdata/trackdata_20120524_1100_5_211x166.nc geladen"
       ]
      },
      {
       "output_type": "stream",
       "stream": "stdout",
       "text": [
        "\n",
        "... /vols/talos/home/stephan/data/life_cycle/Handtracks/trackdata/trackdata_20120524_1230_5_194x166.nc geladen"
       ]
      },
      {
       "output_type": "stream",
       "stream": "stdout",
       "text": [
        "\n",
        "... /vols/talos/home/stephan/data/life_cycle/Handtracks/trackdata/trackdata_20120524_1245_5_208x205.nc geladen"
       ]
      },
      {
       "output_type": "stream",
       "stream": "stdout",
       "text": [
        "\n",
        "... /vols/talos/home/stephan/data/life_cycle/Handtracks/trackdata/trackdata_20120524_1335_5_201x201.nc geladen"
       ]
      },
      {
       "output_type": "stream",
       "stream": "stdout",
       "text": [
        "\n",
        "... /vols/talos/home/stephan/data/life_cycle/Handtracks/trackdata/trackdata_20120524_1355_5_219x137.nc geladen"
       ]
      },
      {
       "output_type": "stream",
       "stream": "stdout",
       "text": [
        "\n",
        "... /vols/talos/home/stephan/data/life_cycle/Handtracks/trackdata/trackdata_20120524_1445_5_239x155.nc geladen"
       ]
      },
      {
       "output_type": "stream",
       "stream": "stdout",
       "text": [
        "\n",
        "... /vols/talos/home/stephan/data/life_cycle/Handtracks/trackdata/trackdata_20120524_1450_5_237x158.nc geladen"
       ]
      },
      {
       "output_type": "stream",
       "stream": "stdout",
       "text": [
        "\n",
        "... /vols/talos/home/stephan/data/life_cycle/Handtracks/trackdata/trackdata_20120527_0810_5_387x23.nc geladen"
       ]
      },
      {
       "output_type": "stream",
       "stream": "stdout",
       "text": [
        "\n",
        "... /vols/talos/home/stephan/data/life_cycle/Handtracks/trackdata/trackdata_20120531_1535_5_252x148.nc geladen"
       ]
      },
      {
       "output_type": "stream",
       "stream": "stdout",
       "text": [
        "\n",
        "... /vols/talos/home/stephan/data/life_cycle/Handtracks/trackdata/trackdata_20120603_0810_5_145x177.nc geladen"
       ]
      },
      {
       "output_type": "stream",
       "stream": "stdout",
       "text": [
        "\n",
        "... /vols/talos/home/stephan/data/life_cycle/Handtracks/trackdata/trackdata_20120603_0815_5_82x193.nc geladen"
       ]
      },
      {
       "output_type": "stream",
       "stream": "stdout",
       "text": [
        "\n",
        "... /vols/talos/home/stephan/data/life_cycle/Handtracks/trackdata/trackdata_20120603_1305_5_233x174.nc geladen"
       ]
      },
      {
       "output_type": "stream",
       "stream": "stdout",
       "text": [
        "\n",
        "... /vols/talos/home/stephan/data/life_cycle/Handtracks/trackdata/trackdata_20120603_1430_5_204x175.nc geladen"
       ]
      },
      {
       "output_type": "stream",
       "stream": "stdout",
       "text": [
        "\n",
        "... /vols/talos/home/stephan/data/life_cycle/Handtracks/trackdata/trackdata_20120603_1450_5_195x139.nc geladen"
       ]
      },
      {
       "output_type": "stream",
       "stream": "stdout",
       "text": [
        "\n",
        "... /vols/talos/home/stephan/data/life_cycle/Handtracks/trackdata/trackdata_20120603_1505_5_202x140.nc geladen"
       ]
      },
      {
       "output_type": "stream",
       "stream": "stdout",
       "text": [
        "\n",
        "... /vols/talos/home/stephan/data/life_cycle/Handtracks/trackdata/trackdata_20120607_0805_5_200x149.nc geladen"
       ]
      },
      {
       "output_type": "stream",
       "stream": "stdout",
       "text": [
        "\n",
        "... /vols/talos/home/stephan/data/life_cycle/Handtracks/trackdata/trackdata_20120607_1535_5_104x200.nc geladen"
       ]
      },
      {
       "output_type": "stream",
       "stream": "stdout",
       "text": [
        "\n",
        "... /vols/talos/home/stephan/data/life_cycle/Handtracks/trackdata/trackdata_20120608_0835_5_151x63.nc geladen"
       ]
      },
      {
       "output_type": "stream",
       "stream": "stdout",
       "text": [
        "\n",
        "... /vols/talos/home/stephan/data/life_cycle/Handtracks/trackdata/trackdata_20120608_0850_5_171x168.nc geladen"
       ]
      },
      {
       "output_type": "stream",
       "stream": "stdout",
       "text": [
        "\n",
        "... /vols/talos/home/stephan/data/life_cycle/Handtracks/trackdata/trackdata_20120608_0935_5_224x110.nc geladen"
       ]
      },
      {
       "output_type": "stream",
       "stream": "stdout",
       "text": [
        "\n",
        "... /vols/talos/home/stephan/data/life_cycle/Handtracks/trackdata/trackdata_20120608_0945_5_119x72.nc geladen"
       ]
      },
      {
       "output_type": "stream",
       "stream": "stdout",
       "text": [
        "\n",
        "... /vols/talos/home/stephan/data/life_cycle/Handtracks/trackdata/trackdata_20120608_1045_5_68x239.nc geladen"
       ]
      },
      {
       "output_type": "stream",
       "stream": "stdout",
       "text": [
        "\n",
        "... /vols/talos/home/stephan/data/life_cycle/Handtracks/trackdata/trackdata_20120610_0805_5_236x175.nc geladen"
       ]
      },
      {
       "output_type": "stream",
       "stream": "stdout",
       "text": [
        "\n",
        "... /vols/talos/home/stephan/data/life_cycle/Handtracks/trackdata/trackdata_20120610_0815_5_186x230.nc geladen"
       ]
      },
      {
       "output_type": "stream",
       "stream": "stdout",
       "text": [
        "\n",
        "... /vols/talos/home/stephan/data/life_cycle/Handtracks/trackdata/trackdata_20120610_1015_5_245x162.nc geladen"
       ]
      },
      {
       "output_type": "stream",
       "stream": "stdout",
       "text": [
        "\n",
        "... /vols/talos/home/stephan/data/life_cycle/Handtracks/trackdata/trackdata_20120610_1535_5_220x116.nc geladen"
       ]
      },
      {
       "output_type": "stream",
       "stream": "stdout",
       "text": [
        "\n",
        "... /vols/talos/home/stephan/data/life_cycle/Handtracks/trackdata/trackdata_20120611_0810_5_107x156.nc geladen"
       ]
      },
      {
       "output_type": "stream",
       "stream": "stdout",
       "text": [
        "\n",
        "... /vols/talos/home/stephan/data/life_cycle/Handtracks/trackdata/trackdata_20120611_0820_5_175x163.nc geladen"
       ]
      },
      {
       "output_type": "stream",
       "stream": "stdout",
       "text": [
        "\n",
        "... /vols/talos/home/stephan/data/life_cycle/Handtracks/trackdata/trackdata_20120611_0820_5_207x143.nc geladen"
       ]
      },
      {
       "output_type": "stream",
       "stream": "stdout",
       "text": [
        "\n",
        "... /vols/talos/home/stephan/data/life_cycle/Handtracks/trackdata/trackdata_20120611_0820_5_212x138.nc geladen"
       ]
      },
      {
       "output_type": "stream",
       "stream": "stdout",
       "text": [
        "\n",
        "... /vols/talos/home/stephan/data/life_cycle/Handtracks/trackdata/trackdata_20120611_1015_5_135x142.nc geladen"
       ]
      },
      {
       "output_type": "stream",
       "stream": "stdout",
       "text": [
        "\n",
        "... /vols/talos/home/stephan/data/life_cycle/Handtracks/trackdata/trackdata_20120611_1050_5_91x188.nc geladen"
       ]
      },
      {
       "output_type": "stream",
       "stream": "stdout",
       "text": [
        "\n",
        "... /vols/talos/home/stephan/data/life_cycle/Handtracks/trackdata/trackdata_20120611_1305_5_142x119.nc geladen"
       ]
      },
      {
       "output_type": "stream",
       "stream": "stdout",
       "text": [
        "\n",
        "... /vols/talos/home/stephan/data/life_cycle/Handtracks/trackdata/trackdata_20120611_1400_5_208x160.nc geladen"
       ]
      },
      {
       "output_type": "stream",
       "stream": "stdout",
       "text": [
        "\n",
        "... /vols/talos/home/stephan/data/life_cycle/Handtracks/trackdata/trackdata_20120611_1420_5_235x164.nc geladen"
       ]
      },
      {
       "output_type": "stream",
       "stream": "stdout",
       "text": [
        "\n",
        "... /vols/talos/home/stephan/data/life_cycle/Handtracks/trackdata/trackdata_20120611_1440_5_164x143.nc geladen"
       ]
      },
      {
       "output_type": "stream",
       "stream": "stdout",
       "text": [
        "\n",
        "... /vols/talos/home/stephan/data/life_cycle/Handtracks/trackdata/trackdata_20120611_1500_5_200x131.nc geladen"
       ]
      },
      {
       "output_type": "stream",
       "stream": "stdout",
       "text": [
        "\n",
        "... /vols/talos/home/stephan/data/life_cycle/Handtracks/trackdata/trackdata_20120611_1540_5_194x129.nc geladen"
       ]
      },
      {
       "output_type": "stream",
       "stream": "stdout",
       "text": [
        "\n",
        "... /vols/talos/home/stephan/data/life_cycle/Handtracks/trackdata/trackdata_20120612_0800_5_237x72.nc geladen"
       ]
      },
      {
       "output_type": "stream",
       "stream": "stdout",
       "text": [
        "\n",
        "... /vols/talos/home/stephan/data/life_cycle/Handtracks/trackdata/trackdata_20120612_0955_5_274x154.nc geladen"
       ]
      },
      {
       "output_type": "stream",
       "stream": "stdout",
       "text": [
        "\n",
        "... /vols/talos/home/stephan/data/life_cycle/Handtracks/trackdata/trackdata_20120612_1020_5_258x148.nc geladen"
       ]
      },
      {
       "output_type": "stream",
       "stream": "stdout",
       "text": [
        "\n",
        "... /vols/talos/home/stephan/data/life_cycle/Handtracks/trackdata/trackdata_20120612_1025_5_265x149.nc geladen"
       ]
      },
      {
       "output_type": "stream",
       "stream": "stdout",
       "text": [
        "\n",
        "... /vols/talos/home/stephan/data/life_cycle/Handtracks/trackdata/trackdata_20120612_1055_5_194x77.nc geladen"
       ]
      },
      {
       "output_type": "stream",
       "stream": "stdout",
       "text": [
        "\n",
        "... /vols/talos/home/stephan/data/life_cycle/Handtracks/trackdata/trackdata_20120612_1415_5_280x98.nc geladen"
       ]
      },
      {
       "output_type": "stream",
       "stream": "stdout",
       "text": [
        "\n",
        "... /vols/talos/home/stephan/data/life_cycle/Handtracks/trackdata/trackdata_20120616_1225_5_267x109.nc geladen"
       ]
      },
      {
       "output_type": "stream",
       "stream": "stdout",
       "text": [
        "\n",
        "... /vols/talos/home/stephan/data/life_cycle/Handtracks/trackdata/trackdata_20120616_1250_5_241x117.nc geladen"
       ]
      },
      {
       "output_type": "stream",
       "stream": "stdout",
       "text": [
        "\n",
        "... /vols/talos/home/stephan/data/life_cycle/Handtracks/trackdata/trackdata_20120616_1325_5_234x120.nc geladen"
       ]
      },
      {
       "output_type": "stream",
       "stream": "stdout",
       "text": [
        "\n",
        "... /vols/talos/home/stephan/data/life_cycle/Handtracks/trackdata/trackdata_20120616_1340_5_212x134.nc geladen"
       ]
      },
      {
       "output_type": "stream",
       "stream": "stdout",
       "text": [
        "\n",
        "... /vols/talos/home/stephan/data/life_cycle/Handtracks/trackdata/trackdata_20120618_0900_5_194x90.nc geladen"
       ]
      },
      {
       "output_type": "stream",
       "stream": "stdout",
       "text": [
        "\n",
        "... /vols/talos/home/stephan/data/life_cycle/Handtracks/trackdata/trackdata_20120618_0925_5_159x90.nc geladen"
       ]
      },
      {
       "output_type": "stream",
       "stream": "stdout",
       "text": [
        "\n",
        "... /vols/talos/home/stephan/data/life_cycle/Handtracks/trackdata/trackdata_20120618_0935_5_237x109.nc geladen"
       ]
      },
      {
       "output_type": "stream",
       "stream": "stdout",
       "text": [
        "\n",
        "... /vols/talos/home/stephan/data/life_cycle/Handtracks/trackdata/trackdata_20120618_0955_5_172x87.nc geladen"
       ]
      },
      {
       "output_type": "stream",
       "stream": "stdout",
       "text": [
        "\n",
        "... /vols/talos/home/stephan/data/life_cycle/Handtracks/trackdata/trackdata_20120618_1040_5_195x88.nc geladen"
       ]
      },
      {
       "output_type": "stream",
       "stream": "stdout",
       "text": [
        "\n",
        "... /vols/talos/home/stephan/data/life_cycle/Handtracks/trackdata/trackdata_20120618_1145_5_170x92.nc geladen"
       ]
      },
      {
       "output_type": "stream",
       "stream": "stdout",
       "text": [
        "\n",
        "... /vols/talos/home/stephan/data/life_cycle/Handtracks/trackdata/trackdata_20120618_1325_5_204x89.nc geladen"
       ]
      },
      {
       "output_type": "stream",
       "stream": "stdout",
       "text": [
        "\n",
        "... /vols/talos/home/stephan/data/life_cycle/Handtracks/trackdata/trackdata_20120619_1055_5_119x132.nc geladen"
       ]
      },
      {
       "output_type": "stream",
       "stream": "stdout",
       "text": [
        "\n",
        "... /vols/talos/home/stephan/data/life_cycle/Handtracks/trackdata/trackdata_20120619_1115_5_0x190.nc geladen"
       ]
      },
      {
       "output_type": "stream",
       "stream": "stdout",
       "text": [
        "\n",
        "... /vols/talos/home/stephan/data/life_cycle/Handtracks/trackdata/trackdata_20120619_1140_5_151x187.nc geladen"
       ]
      },
      {
       "output_type": "stream",
       "stream": "stdout",
       "text": [
        "\n",
        "... /vols/talos/home/stephan/data/life_cycle/Handtracks/trackdata/trackdata_20120619_1140_5_180x182.nc geladen"
       ]
      },
      {
       "output_type": "stream",
       "stream": "stdout",
       "text": [
        "\n",
        "... /vols/talos/home/stephan/data/life_cycle/Handtracks/trackdata/trackdata_20120620_0800_5_155x132.nc geladen"
       ]
      },
      {
       "output_type": "stream",
       "stream": "stdout",
       "text": [
        "\n",
        "... /vols/talos/home/stephan/data/life_cycle/Handtracks/trackdata/trackdata_20120620_0805_5_249x143.nc geladen"
       ]
      },
      {
       "output_type": "stream",
       "stream": "stdout",
       "text": [
        "\n",
        "... /vols/talos/home/stephan/data/life_cycle/Handtracks/trackdata/trackdata_20120620_0830_5_238x146.nc geladen"
       ]
      },
      {
       "output_type": "stream",
       "stream": "stdout",
       "text": [
        "\n",
        "... /vols/talos/home/stephan/data/life_cycle/Handtracks/trackdata/trackdata_20120620_0840_5_203x124.nc geladen"
       ]
      },
      {
       "output_type": "stream",
       "stream": "stdout",
       "text": [
        "\n",
        "... /vols/talos/home/stephan/data/life_cycle/Handtracks/trackdata/trackdata_20120620_0905_5_256x143.nc geladen"
       ]
      },
      {
       "output_type": "stream",
       "stream": "stdout",
       "text": [
        "\n",
        "... /vols/talos/home/stephan/data/life_cycle/Handtracks/trackdata/trackdata_20120620_0950_5_193x187.nc geladen"
       ]
      },
      {
       "output_type": "stream",
       "stream": "stdout",
       "text": [
        "\n",
        "... /vols/talos/home/stephan/data/life_cycle/Handtracks/trackdata/trackdata_20120620_1005_5_238x122.nc geladen"
       ]
      },
      {
       "output_type": "stream",
       "stream": "stdout",
       "text": [
        "\n",
        "... /vols/talos/home/stephan/data/life_cycle/Handtracks/trackdata/trackdata_20120620_1115_5_192x122.nc geladen"
       ]
      },
      {
       "output_type": "stream",
       "stream": "stdout",
       "text": [
        "\n",
        "... /vols/talos/home/stephan/data/life_cycle/Handtracks/trackdata/trackdata_20120620_1115_5_194x121.nc geladen"
       ]
      },
      {
       "output_type": "stream",
       "stream": "stdout",
       "text": [
        "\n",
        "... /vols/talos/home/stephan/data/life_cycle/Handtracks/trackdata/trackdata_20120620_1135_5_257x140.nc geladen"
       ]
      },
      {
       "output_type": "stream",
       "stream": "stdout",
       "text": [
        "\n",
        "... /vols/talos/home/stephan/data/life_cycle/Handtracks/trackdata/trackdata_20120620_1140_5_201x174.nc geladen"
       ]
      },
      {
       "output_type": "stream",
       "stream": "stdout",
       "text": [
        "\n",
        "... /vols/talos/home/stephan/data/life_cycle/Handtracks/trackdata/trackdata_20120620_1200_5_215x175.nc geladen"
       ]
      },
      {
       "output_type": "stream",
       "stream": "stdout",
       "text": [
        "\n",
        "... /vols/talos/home/stephan/data/life_cycle/Handtracks/trackdata/trackdata_20120621_0815_5_195x177.nc geladen"
       ]
      },
      {
       "output_type": "stream",
       "stream": "stdout",
       "text": [
        "\n",
        "... /vols/talos/home/stephan/data/life_cycle/Handtracks/trackdata/trackdata_20120621_1155_5_248x184.nc geladen"
       ]
      },
      {
       "output_type": "stream",
       "stream": "stdout",
       "text": [
        "\n",
        "... /vols/talos/home/stephan/data/life_cycle/Handtracks/trackdata/trackdata_20120621_1340_5_213x176.nc geladen"
       ]
      },
      {
       "output_type": "stream",
       "stream": "stdout",
       "text": [
        "\n",
        "... /vols/talos/home/stephan/data/life_cycle/Handtracks/trackdata/trackdata_20120621_1425_5_153x187.nc geladen"
       ]
      },
      {
       "output_type": "stream",
       "stream": "stdout",
       "text": [
        "\n",
        "... /vols/talos/home/stephan/data/life_cycle/Handtracks/trackdata/trackdata_20120622_0835_5_125x75.nc geladen"
       ]
      },
      {
       "output_type": "stream",
       "stream": "stdout",
       "text": [
        "\n",
        "... /vols/talos/home/stephan/data/life_cycle/Handtracks/trackdata/trackdata_20120622_1010_5_143x67.nc geladen"
       ]
      },
      {
       "output_type": "stream",
       "stream": "stdout",
       "text": [
        "\n",
        "... /vols/talos/home/stephan/data/life_cycle/Handtracks/trackdata/trackdata_20120622_1435_5_146x112.nc geladen"
       ]
      },
      {
       "output_type": "stream",
       "stream": "stdout",
       "text": [
        "\n",
        "... /vols/talos/home/stephan/data/life_cycle/Handtracks/trackdata/trackdata_20120622_1510_5_215x180.nc geladen"
       ]
      },
      {
       "output_type": "stream",
       "stream": "stdout",
       "text": [
        "\n",
        "... /vols/talos/home/stephan/data/life_cycle/Handtracks/trackdata/trackdata_20120622_1515_5_158x144.nc geladen"
       ]
      },
      {
       "output_type": "stream",
       "stream": "stdout",
       "text": [
        "\n",
        "... /vols/talos/home/stephan/data/life_cycle/Handtracks/trackdata/trackdata_20120622_1535_5_165x130.nc geladen"
       ]
      },
      {
       "output_type": "stream",
       "stream": "stdout",
       "text": [
        "\n",
        "... /vols/talos/home/stephan/data/life_cycle/Handtracks/trackdata/trackdata_20120625_0940_5_202x66.nc geladen"
       ]
      },
      {
       "output_type": "stream",
       "stream": "stdout",
       "text": [
        "\n",
        "... /vols/talos/home/stephan/data/life_cycle/Handtracks/trackdata/trackdata_20120625_1520_5_220x96.nc geladen"
       ]
      },
      {
       "output_type": "stream",
       "stream": "stdout",
       "text": [
        "\n",
        "... /vols/talos/home/stephan/data/life_cycle/Handtracks/trackdata/trackdata_20120628_1350_5_120x151.nc geladen"
       ]
      },
      {
       "output_type": "stream",
       "stream": "stdout",
       "text": [
        "\n",
        "... /vols/talos/home/stephan/data/life_cycle/Handtracks/trackdata/trackdata_20120628_1455_5_156x156.nc geladen"
       ]
      },
      {
       "output_type": "stream",
       "stream": "stdout",
       "text": [
        "\n",
        "... /vols/talos/home/stephan/data/life_cycle/Handtracks/trackdata/trackdata_20120628_1520_5_281x180.nc geladen"
       ]
      },
      {
       "output_type": "stream",
       "stream": "stdout",
       "text": [
        "\n",
        "... /vols/talos/home/stephan/data/life_cycle/Handtracks/trackdata/trackdata_20120628_1525_5_150x142.nc geladen"
       ]
      },
      {
       "output_type": "stream",
       "stream": "stdout",
       "text": [
        "\n",
        "... /vols/talos/home/stephan/data/life_cycle/Handtracks/trackdata/trackdata_20120628_1650_5_190x173.nc geladen"
       ]
      },
      {
       "output_type": "stream",
       "stream": "stdout",
       "text": [
        "\n",
        "... /vols/talos/home/stephan/data/life_cycle/Handtracks/trackdata/trackdata_20120629_0940_5_199x102.nc geladen"
       ]
      },
      {
       "output_type": "stream",
       "stream": "stdout",
       "text": [
        "\n",
        "... /vols/talos/home/stephan/data/life_cycle/Handtracks/trackdata/trackdata_20120629_1110_5_215x108.nc geladen"
       ]
      },
      {
       "output_type": "stream",
       "stream": "stdout",
       "text": [
        "\n",
        "... /vols/talos/home/stephan/data/life_cycle/Handtracks/trackdata/trackdata_20120629_1245_5_230x72.nc geladen"
       ]
      },
      {
       "output_type": "stream",
       "stream": "stdout",
       "text": [
        "\n",
        "... /vols/talos/home/stephan/data/life_cycle/Handtracks/trackdata/trackdata_20120629_1250_5_202x175.nc geladen"
       ]
      },
      {
       "output_type": "stream",
       "stream": "stdout",
       "text": [
        "\n",
        "... /vols/talos/home/stephan/data/life_cycle/Handtracks/trackdata/trackdata_20120629_1425_5_161x180.nc geladen"
       ]
      },
      {
       "output_type": "stream",
       "stream": "stdout",
       "text": [
        "\n",
        "... /vols/talos/home/stephan/data/life_cycle/Handtracks/trackdata/trackdata_20120630_1150_5_245x120.nc geladen"
       ]
      },
      {
       "output_type": "stream",
       "stream": "stdout",
       "text": [
        "\n",
        "... /vols/talos/home/stephan/data/life_cycle/Handtracks/trackdata/trackdata_20120630_1330_5_155x149.nc geladen"
       ]
      },
      {
       "output_type": "stream",
       "stream": "stdout",
       "text": [
        "\n",
        "... /vols/talos/home/stephan/data/life_cycle/Handtracks/trackdata/trackdata_20120630_1355_5_248x116.nc geladen"
       ]
      },
      {
       "output_type": "stream",
       "stream": "stdout",
       "text": [
        "\n",
        "... /vols/talos/home/stephan/data/life_cycle/Handtracks/trackdata/trackdata_20120701_0955_5_193x190.nc geladen"
       ]
      },
      {
       "output_type": "stream",
       "stream": "stdout",
       "text": [
        "\n",
        "... /vols/talos/home/stephan/data/life_cycle/Handtracks/trackdata/trackdata_20120701_1420_5_210x153.nc geladen"
       ]
      },
      {
       "output_type": "stream",
       "stream": "stdout",
       "text": [
        "\n",
        "... /vols/talos/home/stephan/data/life_cycle/Handtracks/trackdata/trackdata_20120702_1440_5_221x149.nc geladen"
       ]
      },
      {
       "output_type": "stream",
       "stream": "stdout",
       "text": [
        "\n",
        "... /vols/talos/home/stephan/data/life_cycle/Handtracks/trackdata/trackdata_20120703_0805_5_209x133.nc geladen"
       ]
      },
      {
       "output_type": "stream",
       "stream": "stdout",
       "text": [
        "\n",
        "... /vols/talos/home/stephan/data/life_cycle/Handtracks/trackdata/trackdata_20120703_0915_5_243x144.nc geladen"
       ]
      },
      {
       "output_type": "stream",
       "stream": "stdout",
       "text": [
        "\n",
        "... /vols/talos/home/stephan/data/life_cycle/Handtracks/trackdata/trackdata_20120703_0920_5_234x154.nc geladen"
       ]
      },
      {
       "output_type": "stream",
       "stream": "stdout",
       "text": [
        "\n",
        "... /vols/talos/home/stephan/data/life_cycle/Handtracks/trackdata/trackdata_20120703_0925_5_243x143.nc geladen"
       ]
      },
      {
       "output_type": "stream",
       "stream": "stdout",
       "text": [
        "\n",
        "... /vols/talos/home/stephan/data/life_cycle/Handtracks/trackdata/trackdata_20120703_1005_5_178x162.nc geladen"
       ]
      },
      {
       "output_type": "stream",
       "stream": "stdout",
       "text": [
        "\n",
        "... /vols/talos/home/stephan/data/life_cycle/Handtracks/trackdata/trackdata_20120703_1015_5_225x184.nc geladen"
       ]
      },
      {
       "output_type": "stream",
       "stream": "stdout",
       "text": [
        "\n",
        "... /vols/talos/home/stephan/data/life_cycle/Handtracks/trackdata/trackdata_20120703_1115_5_232x185.nc geladen"
       ]
      },
      {
       "output_type": "stream",
       "stream": "stdout",
       "text": [
        "\n",
        "... /vols/talos/home/stephan/data/life_cycle/Handtracks/trackdata/trackdata_20120703_1120_5_226x183.nc geladen"
       ]
      },
      {
       "output_type": "stream",
       "stream": "stdout",
       "text": [
        "\n",
        "... /vols/talos/home/stephan/data/life_cycle/Handtracks/trackdata/trackdata_20120703_1125_5_176x203.nc geladen"
       ]
      },
      {
       "output_type": "stream",
       "stream": "stdout",
       "text": [
        "\n",
        "... /vols/talos/home/stephan/data/life_cycle/Handtracks/trackdata/trackdata_20120703_1140_5_221x210.nc geladen"
       ]
      },
      {
       "output_type": "stream",
       "stream": "stdout",
       "text": [
        "\n",
        "... /vols/talos/home/stephan/data/life_cycle/Handtracks/trackdata/trackdata_20120704_1100_5_260x114.nc geladen"
       ]
      },
      {
       "output_type": "stream",
       "stream": "stdout",
       "text": [
        "\n",
        "... /vols/talos/home/stephan/data/life_cycle/Handtracks/trackdata/trackdata_20120704_1210_5_226x205.nc geladen"
       ]
      },
      {
       "output_type": "stream",
       "stream": "stdout",
       "text": [
        "\n",
        "... /vols/talos/home/stephan/data/life_cycle/Handtracks/trackdata/trackdata_20120704_1215_5_222x200.nc geladen"
       ]
      },
      {
       "output_type": "stream",
       "stream": "stdout",
       "text": [
        "\n",
        "... /vols/talos/home/stephan/data/life_cycle/Handtracks/trackdata/trackdata_20120704_1230_5_190x185.nc geladen"
       ]
      },
      {
       "output_type": "stream",
       "stream": "stdout",
       "text": [
        "\n",
        "... /vols/talos/home/stephan/data/life_cycle/Handtracks/trackdata/trackdata_20120704_1500_5_100x191.nc geladen"
       ]
      },
      {
       "output_type": "stream",
       "stream": "stdout",
       "text": [
        "\n",
        "... /vols/talos/home/stephan/data/life_cycle/Handtracks/trackdata/trackdata_20120705_0805_5_132x130.nc geladen"
       ]
      },
      {
       "output_type": "stream",
       "stream": "stdout",
       "text": [
        "\n",
        "... /vols/talos/home/stephan/data/life_cycle/Handtracks/trackdata/trackdata_20120705_0845_5_208x144.nc geladen"
       ]
      },
      {
       "output_type": "stream",
       "stream": "stdout",
       "text": [
        "\n",
        "... /vols/talos/home/stephan/data/life_cycle/Handtracks/trackdata/trackdata_20120705_0850_5_231x194.nc geladen"
       ]
      },
      {
       "output_type": "stream",
       "stream": "stdout",
       "text": [
        "\n",
        "... /vols/talos/home/stephan/data/life_cycle/Handtracks/trackdata/trackdata_20120705_0850_5_243x120.nc geladen"
       ]
      },
      {
       "output_type": "stream",
       "stream": "stdout",
       "text": [
        "\n",
        "... /vols/talos/home/stephan/data/life_cycle/Handtracks/trackdata/trackdata_20120705_0925_5_228x122.nc geladen"
       ]
      },
      {
       "output_type": "stream",
       "stream": "stdout",
       "text": [
        "\n",
        "... /vols/talos/home/stephan/data/life_cycle/Handtracks/trackdata/trackdata_20120705_0950_5_123x150.nc geladen"
       ]
      },
      {
       "output_type": "stream",
       "stream": "stdout",
       "text": [
        "\n",
        "... /vols/talos/home/stephan/data/life_cycle/Handtracks/trackdata/trackdata_20120705_0950_5_217x127.nc geladen"
       ]
      },
      {
       "output_type": "stream",
       "stream": "stdout",
       "text": [
        "\n",
        "... /vols/talos/home/stephan/data/life_cycle/Handtracks/trackdata/trackdata_20120705_1015_5_148x162.nc geladen"
       ]
      },
      {
       "output_type": "stream",
       "stream": "stdout",
       "text": [
        "\n",
        "... /vols/talos/home/stephan/data/life_cycle/Handtracks/trackdata/trackdata_20120705_1050_5_136x140.nc geladen"
       ]
      },
      {
       "output_type": "stream",
       "stream": "stdout",
       "text": [
        "\n",
        "... /vols/talos/home/stephan/data/life_cycle/Handtracks/trackdata/trackdata_20120705_1055_5_246x120.nc geladen"
       ]
      },
      {
       "output_type": "stream",
       "stream": "stdout",
       "text": [
        "\n",
        "... /vols/talos/home/stephan/data/life_cycle/Handtracks/trackdata/trackdata_20120705_1100_5_230x140.nc geladen"
       ]
      },
      {
       "output_type": "stream",
       "stream": "stdout",
       "text": [
        "\n",
        "... /vols/talos/home/stephan/data/life_cycle/Handtracks/trackdata/trackdata_20120705_1120_5_150x165.nc geladen"
       ]
      },
      {
       "output_type": "stream",
       "stream": "stdout",
       "text": [
        "\n",
        "... /vols/talos/home/stephan/data/life_cycle/Handtracks/trackdata/trackdata_20120705_1155_5_160x161.nc geladen"
       ]
      },
      {
       "output_type": "stream",
       "stream": "stdout",
       "text": [
        "\n",
        "... /vols/talos/home/stephan/data/life_cycle/Handtracks/trackdata/trackdata_20120705_1205_5_122x159.nc geladen"
       ]
      },
      {
       "output_type": "stream",
       "stream": "stdout",
       "text": [
        "\n",
        "... /vols/talos/home/stephan/data/life_cycle/Handtracks/trackdata/trackdata_20120705_1205_5_135x200.nc geladen"
       ]
      },
      {
       "output_type": "stream",
       "stream": "stdout",
       "text": [
        "\n",
        "... /vols/talos/home/stephan/data/life_cycle/Handtracks/trackdata/trackdata_20120705_1245_5_160x156.nc geladen"
       ]
      },
      {
       "output_type": "stream",
       "stream": "stdout",
       "text": [
        "\n",
        "... /vols/talos/home/stephan/data/life_cycle/Handtracks/trackdata/trackdata_20120705_1310_5_190x180.nc geladen"
       ]
      },
      {
       "output_type": "stream",
       "stream": "stdout",
       "text": [
        "\n",
        "... /vols/talos/home/stephan/data/life_cycle/Handtracks/trackdata/trackdata_20120705_1345_5_192x195.nc geladen"
       ]
      },
      {
       "output_type": "stream",
       "stream": "stdout",
       "text": [
        "\n",
        "... /vols/talos/home/stephan/data/life_cycle/Handtracks/trackdata/trackdata_20120705_1515_5_175x178.nc geladen"
       ]
      },
      {
       "output_type": "stream",
       "stream": "stdout",
       "text": [
        "\n",
        "... /vols/talos/home/stephan/data/life_cycle/Handtracks/trackdata/trackdata_20120705_1520_5_178x201.nc geladen"
       ]
      },
      {
       "output_type": "stream",
       "stream": "stdout",
       "text": [
        "\n",
        "... /vols/talos/home/stephan/data/life_cycle/Handtracks/trackdata/trackdata_20120706_0805_5_205x113.nc geladen"
       ]
      },
      {
       "output_type": "stream",
       "stream": "stdout",
       "text": [
        "\n",
        "... /vols/talos/home/stephan/data/life_cycle/Handtracks/trackdata/trackdata_20120706_0810_5_214x115.nc geladen"
       ]
      },
      {
       "output_type": "stream",
       "stream": "stdout",
       "text": [
        "\n",
        "... /vols/talos/home/stephan/data/life_cycle/Handtracks/trackdata/trackdata_20120706_0940_5_151x207.nc geladen"
       ]
      },
      {
       "output_type": "stream",
       "stream": "stdout",
       "text": [
        "\n",
        "... /vols/talos/home/stephan/data/life_cycle/Handtracks/trackdata/trackdata_20120706_0955_5_144x210.nc geladen"
       ]
      },
      {
       "output_type": "stream",
       "stream": "stdout",
       "text": [
        "\n",
        "... /vols/talos/home/stephan/data/life_cycle/Handtracks/trackdata/trackdata_20120706_1015_5_250x116.nc geladen"
       ]
      },
      {
       "output_type": "stream",
       "stream": "stdout",
       "text": [
        "\n",
        "... /vols/talos/home/stephan/data/life_cycle/Handtracks/trackdata/trackdata_20120706_1100_5_211x88.nc geladen"
       ]
      },
      {
       "output_type": "stream",
       "stream": "stdout",
       "text": [
        "\n",
        "... /vols/talos/home/stephan/data/life_cycle/Handtracks/trackdata/trackdata_20120706_1210_5_133x218.nc geladen"
       ]
      },
      {
       "output_type": "stream",
       "stream": "stdout",
       "text": [
        "\n",
        "... /vols/talos/home/stephan/data/life_cycle/Handtracks/trackdata/trackdata_20120706_1255_5_255x113.nc geladen"
       ]
      },
      {
       "output_type": "stream",
       "stream": "stdout",
       "text": [
        "\n",
        "... /vols/talos/home/stephan/data/life_cycle/Handtracks/trackdata/trackdata_20120706_1320_5_241x114.nc geladen"
       ]
      },
      {
       "output_type": "stream",
       "stream": "stdout",
       "text": [
        "\n",
        "... /vols/talos/home/stephan/data/life_cycle/Handtracks/trackdata/trackdata_20120706_1400_5_188x179.nc geladen"
       ]
      },
      {
       "output_type": "stream",
       "stream": "stdout",
       "text": [
        "\n",
        "... /vols/talos/home/stephan/data/life_cycle/Handtracks/trackdata/trackdata_20120706_1515_5_235x135.nc geladen"
       ]
      },
      {
       "output_type": "stream",
       "stream": "stdout",
       "text": [
        "\n",
        "... /vols/talos/home/stephan/data/life_cycle/Handtracks/trackdata/trackdata_20120706_1640_5_136x214.nc geladen"
       ]
      },
      {
       "output_type": "stream",
       "stream": "stdout",
       "text": [
        "\n",
        "... /vols/talos/home/stephan/data/life_cycle/Handtracks/trackdata/trackdata_20120707_0800_5_159x99.nc geladen"
       ]
      },
      {
       "output_type": "stream",
       "stream": "stdout",
       "text": [
        "\n",
        "... /vols/talos/home/stephan/data/life_cycle/Handtracks/trackdata/trackdata_20120707_0800_5_260x91.nc geladen"
       ]
      },
      {
       "output_type": "stream",
       "stream": "stdout",
       "text": [
        "\n",
        "... /vols/talos/home/stephan/data/life_cycle/Handtracks/trackdata/trackdata_20120707_0825_5_235x121.nc geladen"
       ]
      },
      {
       "output_type": "stream",
       "stream": "stdout",
       "text": [
        "\n",
        "... /vols/talos/home/stephan/data/life_cycle/Handtracks/trackdata/trackdata_20120707_0840_5_156x115.nc geladen"
       ]
      },
      {
       "output_type": "stream",
       "stream": "stdout",
       "text": [
        "\n",
        "... /vols/talos/home/stephan/data/life_cycle/Handtracks/trackdata/trackdata_20120707_0845_5_270x137.nc geladen"
       ]
      },
      {
       "output_type": "stream",
       "stream": "stdout",
       "text": [
        "\n",
        "... /vols/talos/home/stephan/data/life_cycle/Handtracks/trackdata/trackdata_20120707_0925_5_155x147.nc geladen"
       ]
      },
      {
       "output_type": "stream",
       "stream": "stdout",
       "text": [
        "\n",
        "... /vols/talos/home/stephan/data/life_cycle/Handtracks/trackdata/trackdata_20120707_0950_5_252x89.nc geladen"
       ]
      },
      {
       "output_type": "stream",
       "stream": "stdout",
       "text": [
        "\n",
        "... /vols/talos/home/stephan/data/life_cycle/Handtracks/trackdata/trackdata_20120707_0950_5_257x120.nc geladen"
       ]
      },
      {
       "output_type": "stream",
       "stream": "stdout",
       "text": [
        "\n",
        "... /vols/talos/home/stephan/data/life_cycle/Handtracks/trackdata/trackdata_20120707_1100_5_188x126.nc geladen"
       ]
      },
      {
       "output_type": "stream",
       "stream": "stdout",
       "text": [
        "\n",
        "... /vols/talos/home/stephan/data/life_cycle/Handtracks/trackdata/trackdata_20120707_1100_5_269x99.nc geladen"
       ]
      },
      {
       "output_type": "stream",
       "stream": "stdout",
       "text": [
        "\n",
        "... /vols/talos/home/stephan/data/life_cycle/Handtracks/trackdata/trackdata_20120707_1110_5_258x88.nc geladen"
       ]
      },
      {
       "output_type": "stream",
       "stream": "stdout",
       "text": [
        "\n",
        "... /vols/talos/home/stephan/data/life_cycle/Handtracks/trackdata/trackdata_20120707_1110_5_276x103.nc geladen"
       ]
      },
      {
       "output_type": "stream",
       "stream": "stdout",
       "text": [
        "\n",
        "... /vols/talos/home/stephan/data/life_cycle/Handtracks/trackdata/trackdata_20120707_1115_5_188x125.nc geladen"
       ]
      },
      {
       "output_type": "stream",
       "stream": "stdout",
       "text": [
        "\n",
        "... /vols/talos/home/stephan/data/life_cycle/Handtracks/trackdata/trackdata_20120707_1340_5_195x100.nc geladen"
       ]
      },
      {
       "output_type": "stream",
       "stream": "stdout",
       "text": [
        "\n",
        "... /vols/talos/home/stephan/data/life_cycle/Handtracks/trackdata/trackdata_20120707_1400_5_168x128.nc geladen"
       ]
      },
      {
       "output_type": "stream",
       "stream": "stdout",
       "text": [
        "\n",
        "... /vols/talos/home/stephan/data/life_cycle/Handtracks/trackdata/trackdata_20120707_1450_5_174x105.nc geladen"
       ]
      },
      {
       "output_type": "stream",
       "stream": "stdout",
       "text": [
        "\n",
        "... /vols/talos/home/stephan/data/life_cycle/Handtracks/trackdata/trackdata_20120708_0810_5_216x168.nc geladen"
       ]
      },
      {
       "output_type": "stream",
       "stream": "stdout",
       "text": [
        "\n",
        "... /vols/talos/home/stephan/data/life_cycle/Handtracks/trackdata/trackdata_20120708_1410_5_193x174.nc geladen"
       ]
      },
      {
       "output_type": "stream",
       "stream": "stdout",
       "text": [
        "\n",
        "... /vols/talos/home/stephan/data/life_cycle/Handtracks/trackdata/trackdata_20120708_1515_5_155x184.nc geladen"
       ]
      },
      {
       "output_type": "stream",
       "stream": "stdout",
       "text": [
        "\n",
        "... /vols/talos/home/stephan/data/life_cycle/Handtracks/trackdata/trackdata_20120708_1530_5_263x109.nc geladen"
       ]
      },
      {
       "output_type": "stream",
       "stream": "stdout",
       "text": [
        "\n",
        "... /vols/talos/home/stephan/data/life_cycle/Handtracks/trackdata/trackdata_20120710_1135_5_120x179.nc geladen"
       ]
      },
      {
       "output_type": "stream",
       "stream": "stdout",
       "text": [
        "\n",
        "... /vols/talos/home/stephan/data/life_cycle/Handtracks/trackdata/trackdata_20120710_1205_5_144x177.nc geladen"
       ]
      },
      {
       "output_type": "stream",
       "stream": "stdout",
       "text": [
        "\n",
        "... /vols/talos/home/stephan/data/life_cycle/Handtracks/trackdata/trackdata_20120710_1240_5_108x183.nc geladen"
       ]
      },
      {
       "output_type": "stream",
       "stream": "stdout",
       "text": [
        "\n",
        "... /vols/talos/home/stephan/data/life_cycle/Handtracks/trackdata/trackdata_20120710_1350_5_136x113.nc geladen"
       ]
      },
      {
       "output_type": "stream",
       "stream": "stdout",
       "text": [
        "\n",
        "... /vols/talos/home/stephan/data/life_cycle/Handtracks/trackdata/trackdata_20120710_1445_5_116x156.nc geladen"
       ]
      },
      {
       "output_type": "stream",
       "stream": "stdout",
       "text": [
        "\n",
        "... /vols/talos/home/stephan/data/life_cycle/Handtracks/trackdata/trackdata_20120711_1000_5_289x105.nc geladen"
       ]
      },
      {
       "output_type": "stream",
       "stream": "stdout",
       "text": [
        "\n",
        "... /vols/talos/home/stephan/data/life_cycle/Handtracks/trackdata/trackdata_20120711_1150_5_277x107.nc geladen"
       ]
      },
      {
       "output_type": "stream",
       "stream": "stdout",
       "text": [
        "\n",
        "... /vols/talos/home/stephan/data/life_cycle/Handtracks/trackdata/trackdata_20120711_1200_5_281x71.nc geladen"
       ]
      },
      {
       "output_type": "stream",
       "stream": "stdout",
       "text": [
        "\n",
        "... /vols/talos/home/stephan/data/life_cycle/Handtracks/trackdata/trackdata_20120711_1535_5_295x63.nc geladen"
       ]
      },
      {
       "output_type": "stream",
       "stream": "stdout",
       "text": [
        "\n",
        "... /vols/talos/home/stephan/data/life_cycle/Handtracks/trackdata/trackdata_20120714_1015_5_230x100.nc geladen"
       ]
      },
      {
       "output_type": "stream",
       "stream": "stdout",
       "text": [
        "\n",
        "... /vols/talos/home/stephan/data/life_cycle/Handtracks/trackdata/trackdata_20120714_1105_5_169x102.nc geladen"
       ]
      },
      {
       "output_type": "stream",
       "stream": "stdout",
       "text": [
        "\n",
        "... /vols/talos/home/stephan/data/life_cycle/Handtracks/trackdata/trackdata_20120714_1145_5_205x107.nc geladen"
       ]
      },
      {
       "output_type": "stream",
       "stream": "stdout",
       "text": [
        "\n",
        "... /vols/talos/home/stephan/data/life_cycle/Handtracks/trackdata/trackdata_20120714_1340_5_160x108.nc geladen"
       ]
      },
      {
       "output_type": "stream",
       "stream": "stdout",
       "text": [
        "\n",
        "... /vols/talos/home/stephan/data/life_cycle/Handtracks/trackdata/trackdata_20120715_0805_5_171x158.nc geladen"
       ]
      },
      {
       "output_type": "stream",
       "stream": "stdout",
       "text": [
        "\n",
        "... /vols/talos/home/stephan/data/life_cycle/Handtracks/trackdata/trackdata_20120715_0855_5_185x125.nc geladen"
       ]
      },
      {
       "output_type": "stream",
       "stream": "stdout",
       "text": [
        "\n",
        "... /vols/talos/home/stephan/data/life_cycle/Handtracks/trackdata/trackdata_20120715_0905_5_161x124.nc geladen"
       ]
      },
      {
       "output_type": "stream",
       "stream": "stdout",
       "text": [
        "\n",
        "... /vols/talos/home/stephan/data/life_cycle/Handtracks/trackdata/trackdata_20120715_0920_5_194x123.nc geladen"
       ]
      },
      {
       "output_type": "stream",
       "stream": "stdout",
       "text": [
        "\n",
        "... /vols/talos/home/stephan/data/life_cycle/Handtracks/trackdata/trackdata_20120715_0930_5_194x102.nc geladen"
       ]
      },
      {
       "output_type": "stream",
       "stream": "stdout",
       "text": [
        "\n",
        "... /vols/talos/home/stephan/data/life_cycle/Handtracks/trackdata/trackdata_20120715_0940_5_181x125.nc geladen"
       ]
      },
      {
       "output_type": "stream",
       "stream": "stdout",
       "text": [
        "\n",
        "... /vols/talos/home/stephan/data/life_cycle/Handtracks/trackdata/trackdata_20120715_1045_5_181x160.nc geladen"
       ]
      },
      {
       "output_type": "stream",
       "stream": "stdout",
       "text": [
        "\n",
        "... /vols/talos/home/stephan/data/life_cycle/Handtracks/trackdata/trackdata_20120715_1110_5_155x108.nc geladen"
       ]
      },
      {
       "output_type": "stream",
       "stream": "stdout",
       "text": [
        "\n",
        "... /vols/talos/home/stephan/data/life_cycle/Handtracks/trackdata/trackdata_20120715_1200_5_189x114.nc geladen"
       ]
      },
      {
       "output_type": "stream",
       "stream": "stdout",
       "text": [
        "\n",
        "... /vols/talos/home/stephan/data/life_cycle/Handtracks/trackdata/trackdata_20120715_1250_5_139x133.nc geladen"
       ]
      },
      {
       "output_type": "stream",
       "stream": "stdout",
       "text": [
        "\n",
        "... /vols/talos/home/stephan/data/life_cycle/Handtracks/trackdata/trackdata_20120715_1355_5_202x123.nc geladen"
       ]
      },
      {
       "output_type": "stream",
       "stream": "stdout",
       "text": [
        "\n",
        "... /vols/talos/home/stephan/data/life_cycle/Handtracks/trackdata/trackdata_20120715_1500_5_197x114.nc geladen"
       ]
      },
      {
       "output_type": "stream",
       "stream": "stdout",
       "text": [
        "\n",
        "... /vols/talos/home/stephan/data/life_cycle/Handtracks/trackdata/trackdata_20120719_0940_5_178x71.nc geladen"
       ]
      },
      {
       "output_type": "stream",
       "stream": "stdout",
       "text": [
        "\n",
        "... /vols/talos/home/stephan/data/life_cycle/Handtracks/trackdata/trackdata_20120721_1215_5_230x125.nc geladen"
       ]
      },
      {
       "output_type": "stream",
       "stream": "stdout",
       "text": [
        "\n",
        "... /vols/talos/home/stephan/data/life_cycle/Handtracks/trackdata/trackdata_20120721_1235_5_246x129.nc geladen"
       ]
      },
      {
       "output_type": "stream",
       "stream": "stdout",
       "text": [
        "\n",
        "... /vols/talos/home/stephan/data/life_cycle/Handtracks/trackdata/trackdata_20120726_1255_5_270x84.nc geladen"
       ]
      },
      {
       "output_type": "stream",
       "stream": "stdout",
       "text": [
        "\n",
        "... /vols/talos/home/stephan/data/life_cycle/Handtracks/trackdata/trackdata_20120726_1300_5_233x116.nc geladen"
       ]
      },
      {
       "output_type": "stream",
       "stream": "stdout",
       "text": [
        "\n",
        "... /vols/talos/home/stephan/data/life_cycle/Handtracks/trackdata/trackdata_20120726_1315_5_276x75.nc geladen"
       ]
      },
      {
       "output_type": "stream",
       "stream": "stdout",
       "text": [
        "\n",
        "... /vols/talos/home/stephan/data/life_cycle/Handtracks/trackdata/trackdata_20120726_1330_5_238x123.nc geladen"
       ]
      },
      {
       "output_type": "stream",
       "stream": "stdout",
       "text": [
        "\n",
        "... /vols/talos/home/stephan/data/life_cycle/Handtracks/trackdata/trackdata_20120726_1415_5_273x96.nc geladen"
       ]
      },
      {
       "output_type": "stream",
       "stream": "stdout",
       "text": [
        "\n",
        "... /vols/talos/home/stephan/data/life_cycle/Handtracks/trackdata/trackdata_20120726_1435_5_283x89.nc geladen"
       ]
      },
      {
       "output_type": "stream",
       "stream": "stdout",
       "text": [
        "\n",
        "... /vols/talos/home/stephan/data/life_cycle/Handtracks/trackdata/trackdata_20120726_1545_5_254x120.nc geladen"
       ]
      },
      {
       "output_type": "stream",
       "stream": "stdout",
       "text": [
        "\n",
        "... /vols/talos/home/stephan/data/life_cycle/Handtracks/trackdata/trackdata_20120727_1115_5_219x106.nc geladen"
       ]
      },
      {
       "output_type": "stream",
       "stream": "stdout",
       "text": [
        "\n",
        "... /vols/talos/home/stephan/data/life_cycle/Handtracks/trackdata/trackdata_20120727_1140_5_255x114.nc geladen"
       ]
      },
      {
       "output_type": "stream",
       "stream": "stdout",
       "text": [
        "\n",
        "... /vols/talos/home/stephan/data/life_cycle/Handtracks/trackdata/trackdata_20120727_1210_5_159x96.nc geladen"
       ]
      },
      {
       "output_type": "stream",
       "stream": "stdout",
       "text": [
        "\n",
        "... /vols/talos/home/stephan/data/life_cycle/Handtracks/trackdata/trackdata_20120727_1505_5_130x192.nc geladen"
       ]
      },
      {
       "output_type": "stream",
       "stream": "stdout",
       "text": [
        "\n",
        "... /vols/talos/home/stephan/data/life_cycle/Handtracks/trackdata/trackdata_20120728_0910_5_257x107.nc geladen"
       ]
      },
      {
       "output_type": "stream",
       "stream": "stdout",
       "text": [
        "\n",
        "... /vols/talos/home/stephan/data/life_cycle/Handtracks/trackdata/trackdata_20120728_1045_5_265x81.nc geladen"
       ]
      },
      {
       "output_type": "stream",
       "stream": "stdout",
       "text": [
        "\n",
        "... /vols/talos/home/stephan/data/life_cycle/Handtracks/trackdata/trackdata_20120729_0805_5_206x88.nc geladen"
       ]
      },
      {
       "output_type": "stream",
       "stream": "stdout",
       "text": [
        "\n",
        "... /vols/talos/home/stephan/data/life_cycle/Handtracks/trackdata/trackdata_20120729_0810_5_235x106.nc geladen"
       ]
      },
      {
       "output_type": "stream",
       "stream": "stdout",
       "text": [
        "\n",
        "... /vols/talos/home/stephan/data/life_cycle/Handtracks/trackdata/trackdata_20120729_0835_5_221x103.nc geladen"
       ]
      },
      {
       "output_type": "stream",
       "stream": "stdout",
       "text": [
        "\n",
        "... /vols/talos/home/stephan/data/life_cycle/Handtracks/trackdata/trackdata_20120729_0845_5_233x138.nc geladen"
       ]
      },
      {
       "output_type": "stream",
       "stream": "stdout",
       "text": [
        "\n",
        "... /vols/talos/home/stephan/data/life_cycle/Handtracks/trackdata/trackdata_20120729_1325_5_255x141.nc geladen"
       ]
      },
      {
       "output_type": "stream",
       "stream": "stdout",
       "text": [
        "\n",
        "... /vols/talos/home/stephan/data/life_cycle/Handtracks/trackdata/trackdata_20120730_0910_5_164x46.nc geladen"
       ]
      },
      {
       "output_type": "stream",
       "stream": "stdout",
       "text": [
        "\n",
        "... /vols/talos/home/stephan/data/life_cycle/Handtracks/trackdata/trackdata_20120730_0915_5_210x45.nc geladen"
       ]
      },
      {
       "output_type": "stream",
       "stream": "stdout",
       "text": [
        "\n",
        "... /vols/talos/home/stephan/data/life_cycle/Handtracks/trackdata/trackdata_20120730_1025_5_234x59.nc geladen"
       ]
      },
      {
       "output_type": "stream",
       "stream": "stdout",
       "text": [
        "\n",
        "... /vols/talos/home/stephan/data/life_cycle/Handtracks/trackdata/trackdata_20120730_1130_5_241x61.nc geladen"
       ]
      },
      {
       "output_type": "stream",
       "stream": "stdout",
       "text": [
        "\n",
        "... /vols/talos/home/stephan/data/life_cycle/Handtracks/trackdata/trackdata_20120730_1425_5_263x67.nc geladen"
       ]
      },
      {
       "output_type": "stream",
       "stream": "stdout",
       "text": [
        "\n",
        "... /vols/talos/home/stephan/data/life_cycle/Handtracks/trackdata/trackdata_20120730_1555_5_251x49.nc geladen"
       ]
      },
      {
       "output_type": "stream",
       "stream": "stdout",
       "text": [
        "\n",
        "... /vols/talos/home/stephan/data/life_cycle/Handtracks/trackdata/trackdata_20120731_1050_5_135x63.nc geladen"
       ]
      },
      {
       "output_type": "stream",
       "stream": "stdout",
       "text": [
        "\n",
        "... /vols/talos/home/stephan/data/life_cycle/Handtracks/trackdata/trackdata_20120801_1605_5_195x179.nc geladen"
       ]
      },
      {
       "output_type": "stream",
       "stream": "stdout",
       "text": [
        "\n",
        "... /vols/talos/home/stephan/data/life_cycle/Handtracks/trackdata/trackdata_20120802_1100_5_255x114.nc geladen"
       ]
      },
      {
       "output_type": "stream",
       "stream": "stdout",
       "text": [
        "\n",
        "... /vols/talos/home/stephan/data/life_cycle/Handtracks/trackdata/trackdata_20120802_1105_5_218x108.nc geladen"
       ]
      },
      {
       "output_type": "stream",
       "stream": "stdout",
       "text": [
        "\n",
        "... /vols/talos/home/stephan/data/life_cycle/Handtracks/trackdata/trackdata_20120802_1145_5_210x118.nc geladen"
       ]
      },
      {
       "output_type": "stream",
       "stream": "stdout",
       "text": [
        "\n",
        "... /vols/talos/home/stephan/data/life_cycle/Handtracks/trackdata/trackdata_20120802_1145_5_240x117.nc geladen"
       ]
      },
      {
       "output_type": "stream",
       "stream": "stdout",
       "text": [
        "\n",
        "... /vols/talos/home/stephan/data/life_cycle/Handtracks/trackdata/trackdata_20120802_1205_5_210x91.nc geladen"
       ]
      },
      {
       "output_type": "stream",
       "stream": "stdout",
       "text": [
        "\n",
        "... /vols/talos/home/stephan/data/life_cycle/Handtracks/trackdata/trackdata_20120802_1305_5_266x68.nc geladen"
       ]
      },
      {
       "output_type": "stream",
       "stream": "stdout",
       "text": [
        "\n",
        "... /vols/talos/home/stephan/data/life_cycle/Handtracks/trackdata/trackdata_20120802_1310_5_219x110.nc geladen"
       ]
      },
      {
       "output_type": "stream",
       "stream": "stdout",
       "text": [
        "\n",
        "... /vols/talos/home/stephan/data/life_cycle/Handtracks/trackdata/trackdata_20120802_1310_5_222x118.nc geladen"
       ]
      },
      {
       "output_type": "stream",
       "stream": "stdout",
       "text": [
        "\n",
        "... /vols/talos/home/stephan/data/life_cycle/Handtracks/trackdata/trackdata_20120802_1340_5_240x121.nc geladen"
       ]
      },
      {
       "output_type": "stream",
       "stream": "stdout",
       "text": [
        "\n",
        "... /vols/talos/home/stephan/data/life_cycle/Handtracks/trackdata/trackdata_20120802_1605_5_217x154.nc geladen"
       ]
      },
      {
       "output_type": "stream",
       "stream": "stdout",
       "text": [
        "\n",
        "... /vols/talos/home/stephan/data/life_cycle/Handtracks/trackdata/trackdata_20120803_0930_5_136x69.nc geladen"
       ]
      },
      {
       "output_type": "stream",
       "stream": "stdout",
       "text": [
        "\n",
        "... /vols/talos/home/stephan/data/life_cycle/Handtracks/trackdata/trackdata_20120803_1410_5_155x65.nc geladen"
       ]
      },
      {
       "output_type": "stream",
       "stream": "stdout",
       "text": [
        "\n",
        "... /vols/talos/home/stephan/data/life_cycle/Handtracks/trackdata/trackdata_20120804_0850_5_265x72.nc geladen"
       ]
      },
      {
       "output_type": "stream",
       "stream": "stdout",
       "text": [
        "\n",
        "... /vols/talos/home/stephan/data/life_cycle/Handtracks/trackdata/trackdata_20120804_1020_5_202x163.nc geladen"
       ]
      },
      {
       "output_type": "stream",
       "stream": "stdout",
       "text": [
        "\n",
        "... /vols/talos/home/stephan/data/life_cycle/Handtracks/trackdata/trackdata_20120804_1105_5_119x65.nc geladen"
       ]
      },
      {
       "output_type": "stream",
       "stream": "stdout",
       "text": [
        "\n",
        "... /vols/talos/home/stephan/data/life_cycle/Handtracks/trackdata/trackdata_20120804_1105_5_195x181.nc geladen"
       ]
      },
      {
       "output_type": "stream",
       "stream": "stdout",
       "text": [
        "\n",
        "... /vols/talos/home/stephan/data/life_cycle/Handtracks/trackdata/trackdata_20120804_1510_5_142x190.nc geladen"
       ]
      },
      {
       "output_type": "stream",
       "stream": "stdout",
       "text": [
        "\n",
        "... /vols/talos/home/stephan/data/life_cycle/Handtracks/trackdata/trackdata_20120805_0930_5_251x125.nc geladen"
       ]
      },
      {
       "output_type": "stream",
       "stream": "stdout",
       "text": [
        "\n",
        "... /vols/talos/home/stephan/data/life_cycle/Handtracks/trackdata/trackdata_20120805_1020_5_147x204.nc geladen"
       ]
      },
      {
       "output_type": "stream",
       "stream": "stdout",
       "text": [
        "\n",
        "... /vols/talos/home/stephan/data/life_cycle/Handtracks/trackdata/trackdata_20120805_1115_5_252x110.nc geladen"
       ]
      },
      {
       "output_type": "stream",
       "stream": "stdout",
       "text": [
        "\n",
        "... /vols/talos/home/stephan/data/life_cycle/Handtracks/trackdata/trackdata_20120805_1155_5_291x81.nc geladen"
       ]
      },
      {
       "output_type": "stream",
       "stream": "stdout",
       "text": [
        "\n",
        "... /vols/talos/home/stephan/data/life_cycle/Handtracks/trackdata/trackdata_20120805_1210_5_179x178.nc geladen"
       ]
      },
      {
       "output_type": "stream",
       "stream": "stdout",
       "text": [
        "\n",
        "... /vols/talos/home/stephan/data/life_cycle/Handtracks/trackdata/trackdata_20120805_1210_5_285x77.nc geladen"
       ]
      },
      {
       "output_type": "stream",
       "stream": "stdout",
       "text": [
        "\n",
        "... /vols/talos/home/stephan/data/life_cycle/Handtracks/trackdata/trackdata_20120805_1255_5_259x120.nc geladen"
       ]
      },
      {
       "output_type": "stream",
       "stream": "stdout",
       "text": [
        "\n",
        "... /vols/talos/home/stephan/data/life_cycle/Handtracks/trackdata/trackdata_20120816_1545_5_166x89.nc geladen"
       ]
      },
      {
       "output_type": "stream",
       "stream": "stdout",
       "text": [
        "\n",
        "... /vols/talos/home/stephan/data/life_cycle/Handtracks/trackdata/trackdata_20120820_0810_5_142x101.nc geladen"
       ]
      },
      {
       "output_type": "stream",
       "stream": "stdout",
       "text": [
        "\n",
        "... /vols/talos/home/stephan/data/life_cycle/Handtracks/trackdata/trackdata_20120820_0820_5_182x72.nc geladen"
       ]
      },
      {
       "output_type": "stream",
       "stream": "stdout",
       "text": [
        "\n",
        "... /vols/talos/home/stephan/data/life_cycle/Handtracks/trackdata/trackdata_20120820_0825_5_194x71.nc geladen"
       ]
      },
      {
       "output_type": "stream",
       "stream": "stdout",
       "text": [
        "\n",
        "... /vols/talos/home/stephan/data/life_cycle/Handtracks/trackdata/trackdata_20120820_1055_5_119x160.nc geladen"
       ]
      },
      {
       "output_type": "stream",
       "stream": "stdout",
       "text": [
        "\n",
        "... /vols/talos/home/stephan/data/life_cycle/Handtracks/trackdata/trackdata_20120820_1130_5_152x161.nc geladen"
       ]
      },
      {
       "output_type": "stream",
       "stream": "stdout",
       "text": [
        "\n",
        "... /vols/talos/home/stephan/data/life_cycle/Handtracks/trackdata/trackdata_20120820_1210_5_150x134.nc geladen"
       ]
      },
      {
       "output_type": "stream",
       "stream": "stdout",
       "text": [
        "\n",
        "... /vols/talos/home/stephan/data/life_cycle/Handtracks/trackdata/trackdata_20120820_1240_5_164x151.nc geladen"
       ]
      },
      {
       "output_type": "stream",
       "stream": "stdout",
       "text": [
        "\n",
        "... /vols/talos/home/stephan/data/life_cycle/Handtracks/trackdata/trackdata_20120820_1410_5_225x109.nc geladen"
       ]
      },
      {
       "output_type": "stream",
       "stream": "stdout",
       "text": [
        "\n",
        "... /vols/talos/home/stephan/data/life_cycle/Handtracks/trackdata/trackdata_20120823_1135_5_133x186.nc geladen"
       ]
      },
      {
       "output_type": "stream",
       "stream": "stdout",
       "text": [
        "\n",
        "... /vols/talos/home/stephan/data/life_cycle/Handtracks/trackdata/trackdata_20120823_1245_5_135x168.nc geladen"
       ]
      },
      {
       "output_type": "stream",
       "stream": "stdout",
       "text": [
        "\n",
        "... /vols/talos/home/stephan/data/life_cycle/Handtracks/trackdata/trackdata_20120824_0855_5_70x195.nc geladen"
       ]
      },
      {
       "output_type": "stream",
       "stream": "stdout",
       "text": [
        "\n",
        "... /vols/talos/home/stephan/data/life_cycle/Handtracks/trackdata/trackdata_20120825_1040_5_160x37.nc geladen"
       ]
      },
      {
       "output_type": "stream",
       "stream": "stdout",
       "text": [
        "\n",
        "... /vols/talos/home/stephan/data/life_cycle/Handtracks/trackdata/trackdata_20120825_1135_5_169x56.nc geladen"
       ]
      },
      {
       "output_type": "stream",
       "stream": "stdout",
       "text": [
        "\n",
        "... /vols/talos/home/stephan/data/life_cycle/Handtracks/trackdata/trackdata_20120826_0805_5_145x54.nc geladen"
       ]
      },
      {
       "output_type": "stream",
       "stream": "stdout",
       "text": [
        "\n",
        "... /vols/talos/home/stephan/data/life_cycle/Handtracks/trackdata/trackdata_20120826_0805_5_158x50.nc geladen"
       ]
      },
      {
       "output_type": "stream",
       "stream": "stdout",
       "text": [
        "\n",
        "... /vols/talos/home/stephan/data/life_cycle/Handtracks/trackdata/trackdata_20120826_1310_5_201x57.nc geladen"
       ]
      },
      {
       "output_type": "stream",
       "stream": "stdout",
       "text": [
        "\n",
        "... /vols/talos/home/stephan/data/life_cycle/Handtracks/trackdata/trackdata_20120829_1315_5_196x96.nc geladen"
       ]
      },
      {
       "output_type": "stream",
       "stream": "stdout",
       "text": [
        "\n",
        "... /vols/talos/home/stephan/data/life_cycle/Handtracks/trackdata/trackdata_20120830_1345_5_221x170.nc geladen"
       ]
      },
      {
       "output_type": "stream",
       "stream": "stdout",
       "text": [
        "\n",
        "... /vols/talos/home/stephan/data/life_cycle/Handtracks/trackdata/trackdata_20130607_1015_5_262x129.nc geladen"
       ]
      },
      {
       "output_type": "stream",
       "stream": "stdout",
       "text": [
        "\n",
        "... /vols/talos/home/stephan/data/life_cycle/Handtracks/trackdata/trackdata_20130607_1030_5_262x127.nc geladen"
       ]
      },
      {
       "output_type": "stream",
       "stream": "stdout",
       "text": [
        "\n",
        "... /vols/talos/home/stephan/data/life_cycle/Handtracks/trackdata/trackdata_20130607_1100_5_164x162.nc geladen"
       ]
      },
      {
       "output_type": "stream",
       "stream": "stdout",
       "text": [
        "\n",
        "... /vols/talos/home/stephan/data/life_cycle/Handtracks/trackdata/trackdata_20130607_1115_5_162x163.nc geladen"
       ]
      },
      {
       "output_type": "stream",
       "stream": "stdout",
       "text": [
        "\n",
        "... /vols/talos/home/stephan/data/life_cycle/Handtracks/trackdata/trackdata_20130607_1115_5_176x177.nc geladen"
       ]
      },
      {
       "output_type": "stream",
       "stream": "stdout",
       "text": [
        "\n",
        "... /vols/talos/home/stephan/data/life_cycle/Handtracks/trackdata/trackdata_20130607_1135_5_193x173.nc geladen"
       ]
      },
      {
       "output_type": "stream",
       "stream": "stdout",
       "text": [
        "\n",
        "... /vols/talos/home/stephan/data/life_cycle/Handtracks/trackdata/trackdata_20130607_1205_5_241x117.nc geladen"
       ]
      },
      {
       "output_type": "stream",
       "stream": "stdout",
       "text": [
        "\n",
        "... /vols/talos/home/stephan/data/life_cycle/Handtracks/trackdata/trackdata_20130607_1225_5_257x115.nc geladen"
       ]
      },
      {
       "output_type": "stream",
       "stream": "stdout",
       "text": [
        "\n",
        "... /vols/talos/home/stephan/data/life_cycle/Handtracks/trackdata/trackdata_20130607_1225_5_258x114.nc geladen"
       ]
      },
      {
       "output_type": "stream",
       "stream": "stdout",
       "text": [
        "\n",
        "... /vols/talos/home/stephan/data/life_cycle/Handtracks/trackdata/trackdata_20130607_1240_5_196x171.nc geladen"
       ]
      },
      {
       "output_type": "stream",
       "stream": "stdout",
       "text": [
        "\n",
        "... /vols/talos/home/stephan/data/life_cycle/Handtracks/trackdata/trackdata_20130607_1305_5_226x130.nc geladen"
       ]
      },
      {
       "output_type": "stream",
       "stream": "stdout",
       "text": [
        "\n",
        "... /vols/talos/home/stephan/data/life_cycle/Handtracks/trackdata/trackdata_20130607_1315_5_225x129.nc geladen"
       ]
      },
      {
       "output_type": "stream",
       "stream": "stdout",
       "text": [
        "\n",
        "... /vols/talos/home/stephan/data/life_cycle/Handtracks/trackdata/trackdata_20130607_1325_5_192x177.nc geladen"
       ]
      },
      {
       "output_type": "stream",
       "stream": "stdout",
       "text": [
        "\n",
        "... /vols/talos/home/stephan/data/life_cycle/Handtracks/trackdata/trackdata_20130607_1350_5_249x117.nc geladen"
       ]
      },
      {
       "output_type": "stream",
       "stream": "stdout",
       "text": [
        "\n",
        "... /vols/talos/home/stephan/data/life_cycle/Handtracks/trackdata/trackdata_20130607_1405_5_231x127.nc geladen"
       ]
      },
      {
       "output_type": "stream",
       "stream": "stdout",
       "text": [
        "\n",
        "... /vols/talos/home/stephan/data/life_cycle/Handtracks/trackdata/trackdata_20130608_0805_5_270x109.nc geladen"
       ]
      },
      {
       "output_type": "stream",
       "stream": "stdout",
       "text": [
        "\n",
        "... /vols/talos/home/stephan/data/life_cycle/Handtracks/trackdata/trackdata_20130608_0820_5_258x89.nc geladen"
       ]
      },
      {
       "output_type": "stream",
       "stream": "stdout",
       "text": [
        "\n",
        "... /vols/talos/home/stephan/data/life_cycle/Handtracks/trackdata/trackdata_20130608_0840_5_265x94.nc geladen"
       ]
      },
      {
       "output_type": "stream",
       "stream": "stdout",
       "text": [
        "\n",
        "... /vols/talos/home/stephan/data/life_cycle/Handtracks/trackdata/trackdata_20130608_0850_5_270x110.nc geladen"
       ]
      },
      {
       "output_type": "stream",
       "stream": "stdout",
       "text": [
        "\n",
        "... /vols/talos/home/stephan/data/life_cycle/Handtracks/trackdata/trackdata_20130608_0935_5_225x126.nc geladen"
       ]
      },
      {
       "output_type": "stream",
       "stream": "stdout",
       "text": [
        "\n",
        "... /vols/talos/home/stephan/data/life_cycle/Handtracks/trackdata/trackdata_20130608_0940_5_217x121.nc geladen"
       ]
      },
      {
       "output_type": "stream",
       "stream": "stdout",
       "text": [
        "\n",
        "... /vols/talos/home/stephan/data/life_cycle/Handtracks/trackdata/trackdata_20130608_1235_5_217x130.nc geladen"
       ]
      },
      {
       "output_type": "stream",
       "stream": "stdout",
       "text": [
        "\n",
        "... /vols/talos/home/stephan/data/life_cycle/Handtracks/trackdata/trackdata_20130609_0800_5_246x114.nc geladen"
       ]
      },
      {
       "output_type": "stream",
       "stream": "stdout",
       "text": [
        "\n",
        "... /vols/talos/home/stephan/data/life_cycle/Handtracks/trackdata/trackdata_20130609_1310_5_247x139.nc geladen"
       ]
      },
      {
       "output_type": "stream",
       "stream": "stdout",
       "text": [
        "\n",
        "... /vols/talos/home/stephan/data/life_cycle/Handtracks/trackdata/trackdata_20130610_0800_5_255x200.nc geladen"
       ]
      },
      {
       "output_type": "stream",
       "stream": "stdout",
       "text": [
        "\n",
        "... /vols/talos/home/stephan/data/life_cycle/Handtracks/trackdata/trackdata_20130613_1255_5_233x95.nc geladen"
       ]
      },
      {
       "output_type": "stream",
       "stream": "stdout",
       "text": [
        "\n",
        "... /vols/talos/home/stephan/data/life_cycle/Handtracks/trackdata/trackdata_20130618_1140_5_249x118.nc geladen"
       ]
      },
      {
       "output_type": "stream",
       "stream": "stdout",
       "text": [
        "\n",
        "... /vols/talos/home/stephan/data/life_cycle/Handtracks/trackdata/trackdata_20130618_1255_5_215x114.nc geladen"
       ]
      },
      {
       "output_type": "stream",
       "stream": "stdout",
       "text": [
        "\n",
        "... /vols/talos/home/stephan/data/life_cycle/Handtracks/trackdata/trackdata_20130618_1335_5_237x132.nc geladen"
       ]
      },
      {
       "output_type": "stream",
       "stream": "stdout",
       "text": [
        "\n",
        "... /vols/talos/home/stephan/data/life_cycle/Handtracks/trackdata/trackdata_20130619_1240_5_242x136.nc geladen"
       ]
      },
      {
       "output_type": "stream",
       "stream": "stdout",
       "text": [
        "\n",
        "... /vols/talos/home/stephan/data/life_cycle/Handtracks/trackdata/trackdata_20130619_1315_5_157x152.nc geladen"
       ]
      },
      {
       "output_type": "stream",
       "stream": "stdout",
       "text": [
        "\n",
        "... /vols/talos/home/stephan/data/life_cycle/Handtracks/trackdata/trackdata_20130619_1630_5_209x109.nc geladen"
       ]
      },
      {
       "output_type": "stream",
       "stream": "stdout",
       "text": [
        "\n",
        "... /vols/talos/home/stephan/data/life_cycle/Handtracks/trackdata/trackdata_20130620_1000_5_175x129.nc geladen"
       ]
      },
      {
       "output_type": "stream",
       "stream": "stdout",
       "text": [
        "\n",
        "... /vols/talos/home/stephan/data/life_cycle/Handtracks/trackdata/trackdata_20130620_1020_5_250x114.nc geladen"
       ]
      },
      {
       "output_type": "stream",
       "stream": "stdout",
       "text": [
        "\n",
        "... /vols/talos/home/stephan/data/life_cycle/Handtracks/trackdata/trackdata_20130620_1135_5_235x123.nc geladen"
       ]
      },
      {
       "output_type": "stream",
       "stream": "stdout",
       "text": [
        "\n",
        "... /vols/talos/home/stephan/data/life_cycle/Handtracks/trackdata/trackdata_20130620_1155_5_193x178.nc geladen"
       ]
      },
      {
       "output_type": "stream",
       "stream": "stdout",
       "text": [
        "\n",
        "... /vols/talos/home/stephan/data/life_cycle/Handtracks/trackdata/trackdata_20130701_1225_5_245x49.nc geladen"
       ]
      },
      {
       "output_type": "stream",
       "stream": "stdout",
       "text": [
        "\n",
        "... /vols/talos/home/stephan/data/life_cycle/Handtracks/trackdata/trackdata_20130701_1245_5_273x61.nc geladen"
       ]
      },
      {
       "output_type": "stream",
       "stream": "stdout",
       "text": [
        "\n",
        "... /vols/talos/home/stephan/data/life_cycle/Handtracks/trackdata/trackdata_20130701_1325_5_186x93.nc geladen"
       ]
      },
      {
       "output_type": "stream",
       "stream": "stdout",
       "text": [
        "\n",
        "... /vols/talos/home/stephan/data/life_cycle/Handtracks/trackdata/trackdata_20130703_1300_5_236x73.nc geladen"
       ]
      },
      {
       "output_type": "stream",
       "stream": "stdout",
       "text": [
        "\n",
        "... /vols/talos/home/stephan/data/life_cycle/Handtracks/trackdata/trackdata_20130722_1105_5_153x151.nc geladen"
       ]
      },
      {
       "output_type": "stream",
       "stream": "stdout",
       "text": [
        "\n",
        "... /vols/talos/home/stephan/data/life_cycle/Handtracks/trackdata/trackdata_20130722_1300_5_157x164.nc geladen"
       ]
      },
      {
       "output_type": "stream",
       "stream": "stdout",
       "text": [
        "\n",
        "... /vols/talos/home/stephan/data/life_cycle/Handtracks/trackdata/trackdata_20130723_0810_5_168x156.nc geladen"
       ]
      },
      {
       "output_type": "stream",
       "stream": "stdout",
       "text": [
        "\n",
        "... /vols/talos/home/stephan/data/life_cycle/Handtracks/trackdata/trackdata_20130723_0935_5_158x99.nc geladen"
       ]
      },
      {
       "output_type": "stream",
       "stream": "stdout",
       "text": [
        "\n",
        "... /vols/talos/home/stephan/data/life_cycle/Handtracks/trackdata/trackdata_20130724_0910_5_159x147.nc geladen"
       ]
      },
      {
       "output_type": "stream",
       "stream": "stdout",
       "text": [
        "\n",
        "... /vols/talos/home/stephan/data/life_cycle/Handtracks/trackdata/trackdata_20130724_0945_5_143x112.nc geladen"
       ]
      },
      {
       "output_type": "stream",
       "stream": "stdout",
       "text": [
        "\n",
        "... /vols/talos/home/stephan/data/life_cycle/Handtracks/trackdata/trackdata_20130724_1105_5_198x172.nc geladen"
       ]
      },
      {
       "output_type": "stream",
       "stream": "stdout",
       "text": [
        "\n",
        "... /vols/talos/home/stephan/data/life_cycle/Handtracks/trackdata/trackdata_20130725_1025_5_177x152.nc geladen"
       ]
      },
      {
       "output_type": "stream",
       "stream": "stdout",
       "text": [
        "\n",
        "... /vols/talos/home/stephan/data/life_cycle/Handtracks/trackdata/trackdata_20130725_1105_5_200x91.nc geladen"
       ]
      },
      {
       "output_type": "stream",
       "stream": "stdout",
       "text": [
        "\n",
        "... /vols/talos/home/stephan/data/life_cycle/Handtracks/trackdata/trackdata_20130727_1110_5_198x175.nc geladen"
       ]
      },
      {
       "output_type": "stream",
       "stream": "stdout",
       "text": [
        "\n",
        "... /vols/talos/home/stephan/data/life_cycle/Handtracks/trackdata/trackdata_20130727_1550_5_219x107.nc geladen"
       ]
      },
      {
       "output_type": "stream",
       "stream": "stdout",
       "text": [
        "\n",
        "... /vols/talos/home/stephan/data/life_cycle/Handtracks/trackdata/trackdata_20130728_1025_5_157x106.nc geladen"
       ]
      },
      {
       "output_type": "stream",
       "stream": "stdout",
       "text": [
        "\n",
        "... /vols/talos/home/stephan/data/life_cycle/Handtracks/trackdata/trackdata_20130803_1410_5_218x92.nc geladen"
       ]
      },
      {
       "output_type": "stream",
       "stream": "stdout",
       "text": [
        "\n",
        "... /vols/talos/home/stephan/data/life_cycle/Handtracks/trackdata/trackdata_20130803_1425_5_186x74.nc geladen"
       ]
      },
      {
       "output_type": "stream",
       "stream": "stdout",
       "text": [
        "\n",
        "... /vols/talos/home/stephan/data/life_cycle/Handtracks/trackdata/trackdata_20130804_0945_5_233x123.nc geladen"
       ]
      },
      {
       "output_type": "stream",
       "stream": "stdout",
       "text": [
        "\n",
        "... /vols/talos/home/stephan/data/life_cycle/Handtracks/trackdata/trackdata_20130804_1015_5_217x113.nc geladen"
       ]
      },
      {
       "output_type": "stream",
       "stream": "stdout",
       "text": [
        "\n",
        "... /vols/talos/home/stephan/data/life_cycle/Handtracks/trackdata/trackdata_20130805_1300_5_206x176.nc geladen"
       ]
      },
      {
       "output_type": "stream",
       "stream": "stdout",
       "text": [
        "\n",
        "... /vols/talos/home/stephan/data/life_cycle/Handtracks/trackdata/trackdata_20130805_1405_5_138x186.nc geladen"
       ]
      },
      {
       "output_type": "stream",
       "stream": "stdout",
       "text": [
        "\n",
        "... /vols/talos/home/stephan/data/life_cycle/Handtracks/trackdata/trackdata_20130806_0810_5_225x82.nc geladen"
       ]
      },
      {
       "output_type": "stream",
       "stream": "stdout",
       "text": [
        "\n",
        "... /vols/talos/home/stephan/data/life_cycle/Handtracks/trackdata/trackdata_20130806_0810_5_231x72.nc geladen"
       ]
      },
      {
       "output_type": "stream",
       "stream": "stdout",
       "text": [
        "\n",
        "... /vols/talos/home/stephan/data/life_cycle/Handtracks/trackdata/trackdata_20130806_0925_5_251x112.nc geladen"
       ]
      },
      {
       "output_type": "stream",
       "stream": "stdout",
       "text": [
        "\n",
        "... /vols/talos/home/stephan/data/life_cycle/Handtracks/trackdata/trackdata_20130806_0950_5_233x121.nc geladen"
       ]
      },
      {
       "output_type": "stream",
       "stream": "stdout",
       "text": [
        "\n",
        "... /vols/talos/home/stephan/data/life_cycle/Handtracks/trackdata/trackdata_20130806_1035_5_215x109.nc geladen"
       ]
      },
      {
       "output_type": "stream",
       "stream": "stdout",
       "text": [
        "\n",
        "... /vols/talos/home/stephan/data/life_cycle/Handtracks/trackdata/trackdata_20130806_1045_5_149x161.nc geladen"
       ]
      },
      {
       "output_type": "stream",
       "stream": "stdout",
       "text": [
        "\n",
        "... /vols/talos/home/stephan/data/life_cycle/Handtracks/trackdata/trackdata_20130807_1420_5_239x173.nc geladen"
       ]
      },
      {
       "output_type": "stream",
       "stream": "stdout",
       "text": [
        "\n",
        "... /vols/talos/home/stephan/data/life_cycle/Handtracks/trackdata/trackdata_20130808_0805_5_262x81.nc geladen"
       ]
      },
      {
       "output_type": "stream",
       "stream": "stdout",
       "text": [
        "\n",
        "... /vols/talos/home/stephan/data/life_cycle/Handtracks/trackdata/trackdata_20130809_0855_5_263x144.nc geladen"
       ]
      },
      {
       "output_type": "stream",
       "stream": "stdout",
       "text": [
        "\n",
        "... /vols/talos/home/stephan/data/life_cycle/Handtracks/trackdata/trackdata_20130810_0855_5_190x70.nc geladen"
       ]
      },
      {
       "output_type": "stream",
       "stream": "stdout",
       "text": [
        "\n",
        "... /vols/talos/home/stephan/data/life_cycle/Handtracks/trackdata/trackdata_20130810_1030_5_218x88.nc geladen"
       ]
      },
      {
       "output_type": "stream",
       "stream": "stdout",
       "text": [
        "\n",
        "... /vols/talos/home/stephan/data/life_cycle/Handtracks/trackdata/trackdata_20130810_1330_5_217x90.nc geladen"
       ]
      },
      {
       "output_type": "stream",
       "stream": "stdout",
       "text": [
        "\n",
        "... /vols/talos/home/stephan/data/life_cycle/Handtracks/trackdata/trackdata_20130813_1210_5_232x92.nc geladen"
       ]
      },
      {
       "output_type": "stream",
       "stream": "stdout",
       "text": [
        "\n",
        "... /vols/talos/home/stephan/data/life_cycle/Handtracks/trackdata/trackdata_20130819_0835_5_167x75.nc geladen"
       ]
      },
      {
       "output_type": "stream",
       "stream": "stdout",
       "text": [
        "\n",
        "... /vols/talos/home/stephan/data/life_cycle/Handtracks/trackdata/trackdata_20130825_0830_5_215x120.nc geladen"
       ]
      },
      {
       "output_type": "stream",
       "stream": "stdout",
       "text": [
        "\n",
        "... /vols/talos/home/stephan/data/life_cycle/Handtracks/trackdata/trackdata_20130827_0810_5_170x176.nc geladen"
       ]
      },
      {
       "output_type": "stream",
       "stream": "stdout",
       "text": [
        "\n",
        "... /vols/talos/home/stephan/data/life_cycle/Handtracks/trackdata/trackdata_20130827_1255_5_197x167.nc geladen"
       ]
      },
      {
       "output_type": "stream",
       "stream": "stdout",
       "text": [
        "\n"
       ]
      }
     ],
     "prompt_number": 12
    },
    {
     "cell_type": "markdown",
     "metadata": {},
     "source": [
      "Da die Zeitschritte jetzt nur unsortiert aneinandergeh\u00e4ngt sind, m\u00fcssen wir die einzgartigen Zeitschrittwerte ermitteln, um dann f\u00fcr diese Werte die Indikationsh\u00e4ufigkeit ermitteln zu k\u00f6nnen."
     ]
    },
    {
     "cell_type": "code",
     "collapsed": false,
     "input": [
      "z = np.unique(zeiten)\n",
      "print z"
     ],
     "language": "python",
     "metadata": {},
     "outputs": [
      {
       "output_type": "stream",
       "stream": "stdout",
       "text": [
        "[-340 -335 -330 -325 -320 -315 -310 -305 -300 -295 -290 -285 -280 -275 -270\n",
        " -265 -260 -255 -250 -245 -240 -235 -230 -225 -220 -215 -210 -205 -200 -195\n",
        " -190 -185 -180 -175 -170 -165 -160 -155 -150 -145 -140 -135 -130 -125 -120\n",
        " -115 -110 -105 -100  -95  -90  -85  -80  -75  -70  -65  -60  -55  -50  -45\n",
        "  -40  -35  -30  -25  -20  -15  -10   -5    0    5   10   15   20   25   30\n",
        "   35   40   45   50   55   60   65   70   75   80   85   90   95  100  105\n",
        "  110  115  120  125  130  135  140  145  150  155  160  165  170  175  180\n",
        "  185  190  195  200  205  210  215  220]\n"
       ]
      }
     ],
     "prompt_number": 14
    },
    {
     "cell_type": "markdown",
     "metadata": {},
     "source": [
      "Nun k\u00f6nnen wir die absolute und relative Indikationsh\u00e4ufigkeit ermitteln:"
     ]
    },
    {
     "cell_type": "code",
     "collapsed": false,
     "input": [
      "abs_hfgk = {key: [] for key in analysefelder}\n",
      "rel_hfgk = {key: [] for key in analysefelder}\n",
      "        \n",
      "for i in z:\n",
      "    for k in analysefelder:\n",
      "        ind = indikator_zeitpunkt(zeiten,i,indikatoren[k])\n",
      "        ind_sum = float(np.sum(ind))\n",
      "\n",
      "        ges_len = len(zeiten)\n",
      "        abs_hfgk[k].append(ind_sum)\n",
      "        rel_hfgk[k].append(ind_sum/ges_len)"
     ],
     "language": "python",
     "metadata": {},
     "outputs": [],
     "prompt_number": 15
    },
    {
     "cell_type": "markdown",
     "metadata": {},
     "source": [
      "Und die kumulative H\u00e4ufigkeit:"
     ]
    },
    {
     "cell_type": "code",
     "collapsed": false,
     "input": [
      "kum_hfgk = {key: [rel_hfgk[k][0]] for key in analysefelder}\n",
      "    \n",
      "for k in kum_hfgk:\n",
      "    for i in range(1,len(rel_hfgk[k])):\n",
      "        aktueller_wert = kum_hfgk[k][i-1] + rel_hfgk[k][i]\n",
      "        kum_hfgk[k].append(aktueller_wert)"
     ],
     "language": "python",
     "metadata": {},
     "outputs": [],
     "prompt_number": 16
    },
    {
     "cell_type": "markdown",
     "metadata": {},
     "source": [
      "Daraus k\u00f6nnen wir jetzt eine Abbildung erstellen. Damit wir nicht alles manuell eingeben m\u00fcssen, legen wir uns Listen mit dem Abbildungstitel und der Beschriftung der y-Achse an:"
     ]
    },
    {
     "cell_type": "code",
     "collapsed": false,
     "input": [
      "legendenliste = {'b62_73':r'$\\Delta T_\\mathrm{B}(6,2\\,\\mu m;\\,7,3\\,\\mu m)$',\n",
      "                 'indicator_sum': 'Indikatorsumme',\n",
      "                 'cool30':r'$T_\\mathrm{B}(10,8\\,\\mu m), \\Delta t = 30\\,\\mathrm{min}$',\n",
      "                 'cool15':r'$T_\\mathrm{B}(10,8\\,\\mu m), \\Delta t = 15\\,\\mathrm{min}$',\n",
      "                 'b87_108':r'$\\Delta T_\\mathrm{B}(8,7\\,\\mu m;\\,10,8\\,\\mu m)$',\n",
      "                 'db62_73_t15':r'$\\Delta T_\\mathrm{B}(6,2\\,\\mu m;\\,7,3\\,\\mu m), \\Delta t = 15\\,\\mathrm{min}$',\n",
      "                 'dtri_t15':r'$\\Delta \\mathrm{tri}, \\Delta t = 15\\,\\mathrm{min}$',\n",
      "                 'b108':r'$T_\\mathrm{B}(10,8\\,\\mu m)$',\n",
      "                 'b62_108':r'$\\Delta T_\\mathrm{B}(6,2\\,\\mu m;\\,10,8\\,\\mu m)$',\n",
      "                 'db62_73_t30':r'$\\Delta T_\\mathrm{B}(6,2\\,\\mu m;\\,7,3\\,\\mu m), \\Delta t = 30\\,\\mathrm{min}$',\n",
      "                 'db87_108_t15':r'$\\Delta T_\\mathrm{B}(8,7\\,\\mu m;\\,10,8\\,\\mu m), \\Delta t = 15\\,\\mathrm{min}$',\n",
      "}"
     ],
     "language": "python",
     "metadata": {},
     "outputs": [],
     "prompt_number": 17
    },
    {
     "cell_type": "markdown",
     "metadata": {},
     "source": [
      "Nun die Abbildung:"
     ]
    },
    {
     "cell_type": "code",
     "collapsed": false,
     "input": [
      "#plt.switch_backend(\"Agg\")\n",
      "sns.set_style(\"whitegrid\")\n",
      "sns.set_context(\"paper\")\n",
      "\n",
      "f, axarr = plt.subplots(4, sharex=True,figsize=(8.27,11.69)) \n",
      "xlm = [-200,200]\n",
      "axarr[0].plot(z,kum_hfgk['b108'],label = legendenliste['b108'],color='blue',linestyle='solid')\n",
      "axarr[0].set_xlim(xlm)\n",
      "axarr[0].set_ylim([0,1])\n",
      "axarr[0].plot(z,kum_hfgk['b62_73'],color='green',linestyle='solid',label = legendenliste['b62_73'])\n",
      "axarr[0].plot(z,kum_hfgk['b62_108'],color='red',linestyle='solid',label = legendenliste['b62_108'])\n",
      "axarr[0].set_title(u\"kumulative Indikationsh\u00e4ufigkeit, Wolkenh\u00f6he\")\n",
      "axarr[0].set_ylabel(u\"rel. H\u00e4ufigkeit\")\n",
      "axarr[0].legend( loc=0,prop={'size':10})\n",
      "\n",
      "\n",
      "axarr[1].plot(z,kum_hfgk['b87_108'],label = legendenliste['b87_108'],color='blue',linestyle='solid')\n",
      "axarr[1].set_xlim(xlm)\n",
      "axarr[1].set_ylim([0,1])\n",
      "axarr[1].plot(z,kum_hfgk['db87_108_t15'],color='green',linestyle='solid',label = legendenliste['db87_108_t15'])\n",
      "axarr[1].plot(z,kum_hfgk['dtri_t15'],color='red',linestyle='solid',label = legendenliste['dtri_t15'])\n",
      "axarr[1].set_title(u\"kumulative Indikationsh\u00e4ufigkeit, Vereisung\")\n",
      "axarr[1].set_ylabel(u\"rel. H\u00e4ufigkeit\")\n",
      "axarr[1].legend( loc=0,prop={'size':10})\n",
      "\n",
      "axarr[2].plot(z,kum_hfgk['cool_15'],label = legendenliste['cool15'],color='blue',linestyle='solid')\n",
      "axarr[2].set_xlim(xlm)\n",
      "axarr[2].set_ylim([0,1])\n",
      "axarr[2].plot(z,kum_hfgk['cool_30'],color='green',linestyle='solid',label = legendenliste['cool30'])\n",
      "axarr[2].plot(z,kum_hfgk['db62_73_t15'],color='red',linestyle='solid',label = legendenliste['db62_73_t15'])\n",
      "axarr[2].plot(z,kum_hfgk['db62_73_t30'],color='orange',linestyle='solid',label = legendenliste['db62_73_t30'])\n",
      "axarr[2].set_title(u\"kumulative Indikationsh\u00e4ufigkeit, Aufwind\")\n",
      "axarr[2].set_ylabel(u\"rel. H\u00e4ufigkeit\")\n",
      "axarr[2].legend( loc=0,prop={'size':10})\n",
      "\n",
      "axarr[3].plot(z,kum_hfgk['indicator_sum'],color='blue',linestyle='solid')\n",
      "axarr[3].set_xlim(xlm)\n",
      "axarr[3].set_ylim([0,1])\n",
      "axarr[3].set_title(u\"kumulative Indikationsh\u00e4ufigkeit, Indikatorsumme\")\n",
      "axarr[3].set_ylabel(u\"rel. H\u00e4ufigkeit\")\n",
      "#axarr[3].set_xlabel(r\"$(t-t_{35\\,\\mathrm{dBZ}})$ / min\")\n",
      "axarr[3].set_xlabel(r\"$(t-t_{\\mathrm{max. Abk\\\"{u}hlung}})$ / min\")"
     ],
     "language": "python",
     "metadata": {},
     "outputs": [
      {
       "metadata": {},
       "output_type": "pyout",
       "prompt_number": 18,
       "text": [
        "<matplotlib.text.Text at 0x7fe774673a50>"
       ]
      },
      {
       "metadata": {},
       "output_type": "display_data",
       "png": "[encoded data removed]",
       "text": [
        "<matplotlib.figure.Figure at 0x7fe774903250>"
       ]
      }
     ],
     "prompt_number": 18
    }
   ],
   "metadata": {}
  }
 ]
}