{
 "metadata": {
  "name": "",
  "signature": "sha256:6239292a56db74f02e17ec0ce81254d909f08a6503963770c1e1e4b6697dac09"
 },
 "nbformat": 3,
 "nbformat_minor": 0,
 "worksheets": [
  {
   "cells": [
    {
     "cell_type": "code",
     "collapsed": false,
     "input": [
      "#!/usr/bin/env python\n",
      "# Prints when python packages were installed\n",
      "from __future__ import print_function\n",
      "from datetime import datetime\n",
      "import os\n",
      "import pip\n",
      "\n",
      "\n",
      "if __name__ == \"__main__\":\n",
      "    packages = []\n",
      "    for package in pip.get_installed_distributions():\n",
      "        package_name_version = str(package)\n",
      "        try:\n",
      "            module_dir = next(package._get_metadata('top_level.txt'))\n",
      "            package_location = os.path.join(package.location, module_dir)\n",
      "            os.stat(package_location)\n",
      "        except (StopIteration, OSError):\n",
      "            try:\n",
      "                package_location = os.path.join(package.location, package.key)\n",
      "                os.stat(package_location)\n",
      "            except:\n",
      "                package_location = package.location\n",
      "        modification_time = os.path.getctime(package_location)\n",
      "        modification_time = datetime.fromtimestamp(modification_time)\n",
      "        packages.append([\n",
      "            modification_time,\n",
      "            package_name_version\n",
      "        ])\n",
      "    for modification_time, package_name_version in sorted(packages):\n",
      "        print(\"{0} - {1}\".format(modification_time,\n",
      "                                 package_name_version))"
     ],
     "language": "python",
     "metadata": {},
     "outputs": []
    }
   ],
   "metadata": {}
  }
 ]
}