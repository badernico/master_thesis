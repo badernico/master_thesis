{
 "cells": [
  {
   "cell_type": "markdown",
   "metadata": {},
   "source": [
    "# Testing the Object-based Life Cycle "
   ]
  },
  {
   "cell_type": "code",
   "execution_count": 3,
   "metadata": {
    "collapsed": true
   },
   "outputs": [],
   "source": [
    "%matplotlib inline\n",
    "\n",
    "import sys, os, glob\n",
    "\n",
    "import numpy as np\n",
    "import pylab as pl\n",
    "\n",
    "import pandas as pd\n",
    "import xarray as xr"
   ]
  },
  {
   "cell_type": "markdown",
   "metadata": {},
   "source": [
    "## Example Case "
   ]
  },
  {
   "cell_type": "markdown",
   "metadata": {},
   "source": [
    "### Data Input"
   ]
  },
  {
   "cell_type": "code",
   "execution_count": 36,
   "metadata": {},
   "outputs": [],
   "source": [
    "track_key = '20130618_94'\n",
    "\n",
    "trackverlaufpfad = \"/vols/talos/home/stephan/data/radar_track/radar_tracks/unkorrigiert\"\n",
    "\n",
    "\n",
    "tr = glob.glob(\"%s/*%s*.csv\" % ( trackverlaufpfad, track_key))[0]\n",
    "\n",
    "track = pd.read_csv(tr)"
   ]
  },
  {
   "cell_type": "markdown",
   "metadata": {},
   "source": [
    "###  Test Plot"
   ]
  },
  {
   "cell_type": "code",
   "execution_count": 37,
   "metadata": {},
   "outputs": [
    {
     "data": {
      "text/plain": [
       "Index([u'dbz_lat', u'dbz_lon', u'man_lat', u'man_lon', u'msg_lat', u'msg_lon',\n",
       "       u'time', u'row_man', u'col_man', u'row_ir', u'col_ir', u'row_hrv',\n",
       "       u'col_hrv', u'row_of_ir', u'col_of_ir', u'row_cc_ir', u'col_cc_ir',\n",
       "       u'lon_of_ir', u'lat_of_ir', u'lon_cc_ir', u'lat_cc_ir', u'row_of_hrv',\n",
       "       u'col_of_hrv', u'row_cc_hrv', u'col_cc_hrv', u'lon_of_hrv',\n",
       "       u'lat_of_hrv', u'lon_cc_hrv', u'lat_cc_hrv', u'row_obj_ir',\n",
       "       u'col_obj_ir', u'lon_obj_ir', u'lat_obj_ir', u'row_obj_hrv',\n",
       "       u'col_obj_hrv', u'lon_obj_hrv', u'lat_obj_hrv', u'ir', u'ir_of',\n",
       "       u'ir_cc', u'ir_man', u'hrv', u'hrv_of', u'hrv_cc', u'hrv_man',\n",
       "       u'hrv_med', u'ir_med', u'hrv_min', u'ir_min', u'hrv_max', u'ir_max',\n",
       "       u'hrv_mea', u'ir_mea', u'hrv_q25', u'ir_q25', u'hrv_q75', u'ir_q75',\n",
       "       u'ae_cc_ir', u'ae_of_ir', u'ee_cc_ir', u'ee_of_ir', u'ae_cc_hrv',\n",
       "       u'ae_of_hrv', u'ee_cc_hrv', u'ee_of_hrv', u'ee_obj_ir', u'ae_obj_ir',\n",
       "       u'ae_obj_hrv', u'ee_obj_hrv'],\n",
       "      dtype='object')"
      ]
     },
     "execution_count": 37,
     "metadata": {},
     "output_type": "execute_result"
    }
   ],
   "source": [
    "track.columns"
   ]
  },
  {
   "cell_type": "code",
   "execution_count": 41,
   "metadata": {},
   "outputs": [
    {
     "data": {
      "text/plain": [
       "[<matplotlib.lines.Line2D at 0x7f8ad7832dd0>]"
      ]
     },
     "execution_count": 41,
     "metadata": {},
     "output_type": "execute_result"
    },
    {
     "data": {
      "image/png": "[encoded data removed]",
      "text/plain": [
       "<matplotlib.figure.Figure at 0x7f8ad7a549d0>"
      ]
     },
     "metadata": {},
     "output_type": "display_data"
    }
   ],
   "source": [
    "\n",
    "pl.plot( track.ir)\n",
    "pl.plot( track.ir_of)\n",
    "pl.plot( track.ir_man)\n",
    "pl.plot( track.ir_cc)\n",
    "pl.plot( track.ir_min)\n",
    "\n",
    "\n"
   ]
  },
  {
   "cell_type": "markdown",
   "metadata": {},
   "source": [
    "The problem exists perhaps in the generation of the csv files."
   ]
  },
  {
   "cell_type": "markdown",
   "metadata": {},
   "source": [
    "## Ensemble"
   ]
  },
  {
   "cell_type": "code",
   "execution_count": null,
   "metadata": {
    "collapsed": true
   },
   "outputs": [],
   "source": []
  }
 ],
 "metadata": {
  "kernelspec": {
   "display_name": "Python 2",
   "language": "python",
   "name": "python2"
  },
  "language_info": {
   "codemirror_mode": {
    "name": "ipython",
    "version": 2
   },
   "file_extension": ".py",
   "mimetype": "text/x-python",
   "name": "python",
   "nbconvert_exporter": "python",
   "pygments_lexer": "ipython2",
   "version": "2.7.11"
  }
 },
 "nbformat": 4,
 "nbformat_minor": 2
}
