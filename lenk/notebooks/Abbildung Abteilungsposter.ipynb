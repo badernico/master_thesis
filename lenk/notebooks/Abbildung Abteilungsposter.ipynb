{
 "cells": [
  {
   "cell_type": "markdown",
   "metadata": {},
   "source": [
    "# Abbildung für meinen Kasten auf dem Abteilungsposter\n",
    "\n",
    "Die Abbildung steht unter Überschrift Algorithmusvalidierung und soll wohl was zum Thema Tracking enthalten."
   ]
  },
  {
   "cell_type": "code",
   "execution_count": 1,
   "metadata": {},
   "outputs": [
    {
     "name": "stderr",
     "output_type": "stream",
     "text": [
      "/vols/talos/local/anaconda2-5.0.0/lib/python2.7/site-packages/h5py/__init__.py:36: FutureWarning: Conversion of the second argument of issubdtype from `float` to `np.floating` is deprecated. In future, it will be treated as `np.float64 == np.dtype(float).type`.\n",
      "  from ._conv import register_converters as _register_converters\n"
     ]
    }
   ],
   "source": [
    "import sys\n",
    "import numpy as np\n",
    "import pandas as pd\n",
    "import xarray as xr\n",
    "\n",
    "import glob\n",
    "import matplotlib.pyplot as plt\n",
    "%matplotlib inline\n",
    "\n",
    "from plotting_tools.colormaps import enhanced_colormap\n",
    "emap = enhanced_colormap()\n",
    "\n",
    "sys.path.append(\"/vols/talos/home/stephan/utils/tracking/\")\n",
    "import object_tracking as ot\n",
    "import tracking_common as tc\n",
    "\n",
    "from scipy import ndimage as ndi\n",
    "import fixed_colourbar as fc\n",
    "import operator"
   ]
  },
  {
   "cell_type": "code",
   "execution_count": null,
   "metadata": {
    "collapsed": true
   },
   "outputs": [],
   "source": [
    "talos_home = \"/vols/talos/home/stephan\"\n",
    "data_path = \"{talos_home}/data\".format(talos_home=talos_home)\n",
    "track_data_path = \"{dp}/radar_track/trackdata/hires/\".format(dp=data_path)"
   ]
  }
 ],
 "metadata": {
  "kernelspec": {
   "display_name": "Python 2",
   "language": "python",
   "name": "python2"
  },
  "language_info": {
   "codemirror_mode": {
    "name": "ipython",
    "version": 2
   },
   "file_extension": ".py",
   "mimetype": "text/x-python",
   "name": "python",
   "nbconvert_exporter": "python",
   "pygments_lexer": "ipython2",
   "version": "2.7.11"
  }
 },
 "nbformat": 4,
 "nbformat_minor": 2
}
