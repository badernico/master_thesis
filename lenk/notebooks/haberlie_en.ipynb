{
 "cells": [
  {
   "cell_type": "markdown",
   "metadata": {},
   "source": [
    "# TDO objects after Haberlie et al. (2015)\n",
    "\n",
    "This is a Python implementation of the algorithm presentend in Haberlie et al. (2015) aiming on finding newly developing convective areas.\n",
    "\n",
    "The basic idea of the algorithm is, to detect long-living newly developing convectively acitve areas in a stack of weather radar data. Covnectively active and inactive areas are separated using a threshold, e.g. Z > 35 dBZ. This means, all areas having a radar reflectivety above this threshold are considered a convectively active area. Newly developed areas and areas already having been active for a longer time are separated using distance buffering with a given distance around the already active areas. Every newly developed pixel having a radar reflectivety above the threshold and being outside a buffer is considered a new coectively active object. These new objects are than tracked using overlap tracking for a given amount of time steps (seven in the original). If they are still active after this given time they are saved as acitve \"time domain objects\" (TDO).\n",
    "\n",
    "To start, there have some packages to be includes. This impelementation needs numpy, scipy, scikit-image, matplotlib and copy."
   ]
  },
  {
   "cell_type": "code",
   "execution_count": 23,
   "metadata": {},
   "outputs": [],
   "source": [
    "%matplotlib inline\n",
    "import numpy as np\n",
    "\n",
    "from scipy import ndimage as ndi\n",
    "from skimage import morphology \n",
    "\n",
    "import copy\n",
    "\n",
    "import matplotlib.pyplot as plt\n",
    "plt.rcParams[\"figure.figsize\"] = (8,8)"
   ]
  },
  {
   "cell_type": "markdown",
   "metadata": {},
   "source": [
    "The weather radar data has to be loaded, which ideally has been masked previously using the radar threshold.In this example we load RADOLAN data of 28th June 2012 11:00 am util 11:30 am. This is a time frame consisting of seven time steps. To do so, we have to include some additional packages."
   ]
  },
  {
   "cell_type": "code",
   "execution_count": 2,
   "metadata": {},
   "outputs": [],
   "source": [
    "from io_tools import radolan as rado\n",
    "import datetime"
   ]
  },
  {
   "cell_type": "markdown",
   "metadata": {},
   "source": [
    "After this, we create a list containig the needed timsteps."
   ]
  },
  {
   "cell_type": "code",
   "execution_count": 3,
   "metadata": {},
   "outputs": [],
   "source": [
    "start_time = datetime.datetime(2012,7,28,11,0)\n",
    "end_time = datetime.datetime(2012,7,28,11,35)\n",
    "\n",
    "time_list = []\n",
    "    \n",
    "while start_time <= end_time:\n",
    "    time_list.append(start_time)\n",
    "    start_time += datetime.timedelta(minutes=5)"
   ]
  },
  {
   "cell_type": "markdown",
   "metadata": {},
   "source": [
    "Now we load the radar data and mask them using a radar threshold of Z = 35 dBZ."
   ]
  },
  {
   "cell_type": "code",
   "execution_count": 4,
   "metadata": {},
   "outputs": [],
   "source": [
    "radar_threshold = 35\n",
    "rado_stack = []\n",
    "\n",
    "for t in time_list:\n",
    "    r = rado.Radolan()\n",
    "    r.read(t,rproduct='rx_hdcp2')\n",
    "    Z = r.data\n",
    "    Zm = np.ma.masked_where(Z < radar_threshold,Z)\n",
    "\n",
    "    rado_stack.append(Zm)"
   ]
  },
  {
   "cell_type": "markdown",
   "metadata": {},
   "source": [
    "The next step is to buffer the masked data of the first time step. We select 15 km as the buffer radius."
   ]
  },
  {
   "cell_type": "code",
   "execution_count": 9,
   "metadata": {},
   "outputs": [],
   "source": [
    "buffer_radius = 15\n",
    "\n",
    "kernel = morphology.disk(buffer_radius)\n",
    "binary_field = ~rado_stack[0].mask * 1\n",
    "\n",
    "buffered_t0 = ndi.morphology.binary_dilation(binary_field==1,structure=kernel)"
   ]
  },
  {
   "cell_type": "markdown",
   "metadata": {},
   "source": [
    "Now we are looking for the really new convectively active pixels in the next timestep. To do so, we start with picking all pixels which could be interesting."
   ]
  },
  {
   "cell_type": "code",
   "execution_count": 10,
   "metadata": {},
   "outputs": [],
   "source": [
    "convectively_active_pixels_t1 = ~rado_stack[1].mask * 1"
   ]
  },
  {
   "cell_type": "markdown",
   "metadata": {},
   "source": [
    "Then we check which pixels are inside the buffers of the first timestep."
   ]
  },
  {
   "cell_type": "code",
   "execution_count": 24,
   "metadata": {},
   "outputs": [
    {
     "data": {
      "text/plain": [
       "<matplotlib.image.AxesImage at 0x7fd16d3ecfd0>"
      ]
     },
     "execution_count": 24,
     "metadata": {},
     "output_type": "execute_result"
    },
    {
     "data": {
      "image/png": "[encoded data removed]",
      "text/plain": [
       "<matplotlib.figure.Figure at 0x7fd16d4e9a10>"
      ]
     },
     "metadata": {},
     "output_type": "display_data"
    }
   ],
   "source": [
    "buffer_check = buffered_t0 + convectively_active_pixels_t1*3 \n",
    "\n",
    "plt.imshow(buffer_check)"
   ]
  },
  {
   "cell_type": "markdown",
   "metadata": {},
   "source": [
    "Now all actual new developed pixels not being inside a buffer should have the value of three, while buffer pixels = 1 and new new pixels inside the buffers have a value of four. To separate interesting pixels from the others, everything not being equal to three is set to zero and than the whole array is divided by three. Now only interesting pixels should remain and have a value of one."
   ]
  },
  {
   "cell_type": "code",
   "execution_count": 18,
   "metadata": {},
   "outputs": [],
   "source": [
    "convective_initiation_t1 = buffer_check.copy() \n",
    "    \n",
    "convective_initiation_t1[np.where(convective_initiation_t1!=3)] = 0\n",
    "convective_initiation_t1 = convective_initiation_t1 / 3 "
   ]
  },
  {
   "cell_type": "markdown",
   "metadata": {},
   "source": [
    "Plotting to check visually if there are new interesting pixels:"
   ]
  },
  {
   "cell_type": "code",
   "execution_count": 25,
   "metadata": {},
   "outputs": [
    {
     "data": {
      "text/plain": [
       "<matplotlib.image.AxesImage at 0x7fd16d33a9d0>"
      ]
     },
     "execution_count": 25,
     "metadata": {},
     "output_type": "execute_result"
    },
    {
     "data": {
      "image/png": "[encoded data removed]",
      "text/plain": [
       "<matplotlib.figure.Figure at 0x7fd16d3bacd0>"
      ]
     },
     "metadata": {},
     "output_type": "display_data"
    }
   ],
   "source": [
    "plt.imshow(convective_initiation_t1,cmap='gray',interpolation='none')"
   ]
  },
  {
   "cell_type": "markdown",
   "metadata": {},
   "source": [
    "Indeed, there are areas which could be interesting.\n",
    "\n",
    "So, we construct a stack out of this layer and the next time steps."
   ]
  },
  {
   "cell_type": "code",
   "execution_count": 20,
   "metadata": {},
   "outputs": [],
   "source": [
    "analysis_stack = [convective_initiation_t1]\n",
    "   \n",
    "for i in xrange(2,len(time_list)):\n",
    "        analysis_stack.append(~rado_stack[i].mask*1)"
   ]
  },
  {
   "cell_type": "markdown",
   "metadata": {},
   "source": [
    "Now we perform a three dimensional conneted component labeling on this stack using a 26 neighbourhood to track interesting pixels."
   ]
  },
  {
   "cell_type": "code",
   "execution_count": 21,
   "metadata": {},
   "outputs": [],
   "source": [
    " clustered, clusternumber = ndi.measurements.label(analysis_stack, structure=morphology.cube(3))"
   ]
  },
  {
   "cell_type": "markdown",
   "metadata": {},
   "source": [
    "In doing so, there are new objects in all time steps. But we are interested in the objects of the first timestep, only. Therefore we extract the labeling and pixel count of those."
   ]
  },
  {
   "cell_type": "code",
   "execution_count": 22,
   "metadata": {},
   "outputs": [
    {
     "name": "stdout",
     "output_type": "stream",
     "text": [
      "[ 0  1  2  3  4  5  6  7  8  9 10 11 12 13 14 15] [809949      1      1      2      1      1      3     20      1      7\n",
      "      1      1      1      8      2      1]\n"
     ]
    }
   ],
   "source": [
    "labels, counts = np.unique(clustered[0],return_counts=True) \n",
    "print labels,counts"
   ]
  },
  {
   "cell_type": "markdown",
   "metadata": {},
   "source": [
    "In this case there are 15 different objects in the first timestep. Zero labels the background. Most of them are rather small but there are also large ones. Those can be new objects but also some which migrated into the area covered by the radar network.\n",
    "\n",
    "As we now know the labeling of all interesting objects of the first time step, we can remove all objects having developed later."
   ]
  },
  {
   "cell_type": "code",
   "execution_count": 26,
   "metadata": {
    "collapsed": true
   },
   "outputs": [],
   "source": [
    "convective_clusters = copy.deepcopy(clustered)\n",
    "\n",
    "for i in xrange(1,len(convective_clusters)):\n",
    "    convective_clusters[i][np.where(convective_clusters[i]>np.max(labels))] = 0"
   ]
  },
  {
   "cell_type": "markdown",
   "metadata": {},
   "source": [
    "Than we can check which of those objects having developed in the first time step remained until the last one."
   ]
  },
  {
   "cell_type": "code",
   "execution_count": 27,
   "metadata": {},
   "outputs": [
    {
     "name": "stdout",
     "output_type": "stream",
     "text": [
      "[6, 7, 13]\n"
     ]
    }
   ],
   "source": [
    "convective_index = np.unique(convective_clusters[-1])\n",
    "convective_index_list = convective_index.tolist()\n",
    "convective_index_list.remove(0) # remove background\n",
    "\n",
    "print(convective_index_list)"
   ]
  },
  {
   "cell_type": "markdown",
   "metadata": {},
   "source": [
    "In this case there are three objects."
   ]
  },
  {
   "cell_type": "code",
   "execution_count": 28,
   "metadata": {
    "scrolled": false
   },
   "outputs": [
    {
     "data": {
      "text/plain": [
       "<matplotlib.image.AxesImage at 0x7fd16d210110>"
      ]
     },
     "execution_count": 28,
     "metadata": {},
     "output_type": "execute_result"
    },
    {
     "data": {
      "image/png": "[encoded data removed]",
      "text/plain": [
       "<matplotlib.figure.Figure at 0x7fd16d379b50>"
      ]
     },
     "metadata": {},
     "output_type": "display_data"
    }
   ],
   "source": [
    "objekte_t1 = copy.deepcopy(clustered[0])\n",
    "\n",
    "objekte_t1[np.where(objekte_t1<6)] = 0\n",
    "objekte_t1[np.where(np.logical_and(objekte_t1>7,objekte_t1<13))] = 0\n",
    "objekte_t1[np.where(objekte_t1>13)] = 0\n",
    "objekte_t1[np.where(objekte_t1!=0)] = 1\n",
    "\n",
    "plt.imshow(objekte_t1,cmap=\"gray\",interpolation='none')"
   ]
  },
  {
   "cell_type": "markdown",
   "metadata": {},
   "source": [
    "The next steps could be to derive the cetroids of those objects or the obejcts themelves."
   ]
  }
 ],
 "metadata": {
  "kernelspec": {
   "display_name": "Python 2",
   "language": "python",
   "name": "python2"
  },
  "language_info": {
   "codemirror_mode": {
    "name": "ipython",
    "version": 2
   },
   "file_extension": ".py",
   "mimetype": "text/x-python",
   "name": "python",
   "nbconvert_exporter": "python",
   "pygments_lexer": "ipython2",
   "version": "2.7.11"
  }
 },
 "nbformat": 4,
 "nbformat_minor": 1
}
