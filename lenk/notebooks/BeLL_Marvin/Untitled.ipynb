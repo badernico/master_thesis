{
 "cells": [
  {
   "cell_type": "code",
   "execution_count": 19,
   "metadata": {},
   "outputs": [],
   "source": [
    "import pandas as pd\n",
    "from standard_config import *\n",
    "\n",
    "from analysis_tools import grid_and_interpolation as gi\n",
    "from MSGtools import get_msg_lon_lat\n",
    "\n",
    "from io_tools import radolan"
   ]
  },
  {
   "cell_type": "code",
   "execution_count": 42,
   "metadata": {},
   "outputs": [
    {
     "name": "stderr",
     "output_type": "stream",
     "text": [
      "/vols/satellite/home/lenk/anaconda3/envs/tracking/lib/python3.7/site-packages/h5py/_hl/dataset.py:313: H5pyDeprecationWarning: dataset.value has been deprecated. Use dataset[()] instead.\n",
      "  \"Use dataset[()] instead.\", H5pyDeprecationWarning)\n"
     ]
    }
   ],
   "source": [
    "slon,slat = get_msg_lon_lat('eu')"
   ]
  },
  {
   "cell_type": "code",
   "execution_count": 7,
   "metadata": {},
   "outputs": [],
   "source": [
    "ci_data = pd.read_csv(\"/{}/HACI_bbox_data/haci-2010-05-24-bbox.dat\".format(local_data_path),sep=\"\\s+\")"
   ]
  },
  {
   "cell_type": "code",
   "execution_count": 8,
   "metadata": {},
   "outputs": [],
   "source": [
    "ausschnitt = ci_data[(ci_data.time >= \"13:00\") & (ci_data.time <= \"14:00\")]"
   ]
  },
  {
   "cell_type": "code",
   "execution_count": 15,
   "metadata": {},
   "outputs": [],
   "source": [
    "zellen = ausschnitt[ausschnitt.t1 - ausschnitt.t0 > 10]"
   ]
  },
  {
   "cell_type": "code",
   "execution_count": 16,
   "metadata": {},
   "outputs": [
    {
     "data": {
      "text/html": [
       "<div>\n",
       "<style scoped>\n",
       "    .dataframe tbody tr th:only-of-type {\n",
       "        vertical-align: middle;\n",
       "    }\n",
       "\n",
       "    .dataframe tbody tr th {\n",
       "        vertical-align: top;\n",
       "    }\n",
       "\n",
       "    .dataframe thead th {\n",
       "        text-align: right;\n",
       "    }\n",
       "</style>\n",
       "<table border=\"1\" class=\"dataframe\">\n",
       "  <thead>\n",
       "    <tr style=\"text-align: right;\">\n",
       "      <th></th>\n",
       "      <th>date</th>\n",
       "      <th>time</th>\n",
       "      <th>id</th>\n",
       "      <th>flags</th>\n",
       "      <th>t0</th>\n",
       "      <th>t1</th>\n",
       "      <th>l00</th>\n",
       "      <th>l01</th>\n",
       "      <th>c00</th>\n",
       "      <th>c01</th>\n",
       "      <th>l0</th>\n",
       "      <th>l1</th>\n",
       "      <th>c0</th>\n",
       "      <th>c1</th>\n",
       "    </tr>\n",
       "  </thead>\n",
       "  <tbody>\n",
       "    <tr>\n",
       "      <th>1953</th>\n",
       "      <td>2010-05-24</td>\n",
       "      <td>13:25</td>\n",
       "      <td>7230</td>\n",
       "      <td>0</td>\n",
       "      <td>161</td>\n",
       "      <td>178</td>\n",
       "      <td>691</td>\n",
       "      <td>698</td>\n",
       "      <td>522</td>\n",
       "      <td>556</td>\n",
       "      <td>655</td>\n",
       "      <td>699</td>\n",
       "      <td>522</td>\n",
       "      <td>672</td>\n",
       "    </tr>\n",
       "    <tr>\n",
       "      <th>1971</th>\n",
       "      <td>2010-05-24</td>\n",
       "      <td>13:30</td>\n",
       "      <td>7272</td>\n",
       "      <td>0</td>\n",
       "      <td>162</td>\n",
       "      <td>189</td>\n",
       "      <td>784</td>\n",
       "      <td>786</td>\n",
       "      <td>548</td>\n",
       "      <td>554</td>\n",
       "      <td>739</td>\n",
       "      <td>787</td>\n",
       "      <td>548</td>\n",
       "      <td>663</td>\n",
       "    </tr>\n",
       "    <tr>\n",
       "      <th>2002</th>\n",
       "      <td>2010-05-24</td>\n",
       "      <td>13:40</td>\n",
       "      <td>7351</td>\n",
       "      <td>0</td>\n",
       "      <td>164</td>\n",
       "      <td>175</td>\n",
       "      <td>458</td>\n",
       "      <td>463</td>\n",
       "      <td>333</td>\n",
       "      <td>340</td>\n",
       "      <td>441</td>\n",
       "      <td>463</td>\n",
       "      <td>333</td>\n",
       "      <td>391</td>\n",
       "    </tr>\n",
       "    <tr>\n",
       "      <th>2017</th>\n",
       "      <td>2010-05-24</td>\n",
       "      <td>13:45</td>\n",
       "      <td>7409</td>\n",
       "      <td>0</td>\n",
       "      <td>165</td>\n",
       "      <td>197</td>\n",
       "      <td>580</td>\n",
       "      <td>593</td>\n",
       "      <td>612</td>\n",
       "      <td>629</td>\n",
       "      <td>580</td>\n",
       "      <td>593</td>\n",
       "      <td>612</td>\n",
       "      <td>631</td>\n",
       "    </tr>\n",
       "    <tr>\n",
       "      <th>2020</th>\n",
       "      <td>2010-05-24</td>\n",
       "      <td>13:45</td>\n",
       "      <td>7421</td>\n",
       "      <td>0</td>\n",
       "      <td>165</td>\n",
       "      <td>179</td>\n",
       "      <td>664</td>\n",
       "      <td>665</td>\n",
       "      <td>833</td>\n",
       "      <td>834</td>\n",
       "      <td>645</td>\n",
       "      <td>666</td>\n",
       "      <td>831</td>\n",
       "      <td>891</td>\n",
       "    </tr>\n",
       "    <tr>\n",
       "      <th>2035</th>\n",
       "      <td>2010-05-24</td>\n",
       "      <td>13:50</td>\n",
       "      <td>7452</td>\n",
       "      <td>0</td>\n",
       "      <td>166</td>\n",
       "      <td>188</td>\n",
       "      <td>415</td>\n",
       "      <td>419</td>\n",
       "      <td>831</td>\n",
       "      <td>837</td>\n",
       "      <td>406</td>\n",
       "      <td>459</td>\n",
       "      <td>775</td>\n",
       "      <td>900</td>\n",
       "    </tr>\n",
       "    <tr>\n",
       "      <th>2040</th>\n",
       "      <td>2010-05-24</td>\n",
       "      <td>13:50</td>\n",
       "      <td>7473</td>\n",
       "      <td>0</td>\n",
       "      <td>166</td>\n",
       "      <td>181</td>\n",
       "      <td>655</td>\n",
       "      <td>658</td>\n",
       "      <td>556</td>\n",
       "      <td>563</td>\n",
       "      <td>623</td>\n",
       "      <td>658</td>\n",
       "      <td>552</td>\n",
       "      <td>660</td>\n",
       "    </tr>\n",
       "  </tbody>\n",
       "</table>\n",
       "</div>"
      ],
      "text/plain": [
       "            date   time    id  flags   t0   t1  l00  l01  c00  c01   l0   l1  \\\n",
       "1953  2010-05-24  13:25  7230      0  161  178  691  698  522  556  655  699   \n",
       "1971  2010-05-24  13:30  7272      0  162  189  784  786  548  554  739  787   \n",
       "2002  2010-05-24  13:40  7351      0  164  175  458  463  333  340  441  463   \n",
       "2017  2010-05-24  13:45  7409      0  165  197  580  593  612  629  580  593   \n",
       "2020  2010-05-24  13:45  7421      0  165  179  664  665  833  834  645  666   \n",
       "2035  2010-05-24  13:50  7452      0  166  188  415  419  831  837  406  459   \n",
       "2040  2010-05-24  13:50  7473      0  166  181  655  658  556  563  623  658   \n",
       "\n",
       "       c0   c1  \n",
       "1953  522  672  \n",
       "1971  548  663  \n",
       "2002  333  391  \n",
       "2017  612  631  \n",
       "2020  831  891  \n",
       "2035  775  900  \n",
       "2040  552  660  "
      ]
     },
     "execution_count": 16,
     "metadata": {},
     "output_type": "execute_result"
    }
   ],
   "source": [
    "zellen"
   ]
  },
  {
   "cell_type": "code",
   "execution_count": 18,
   "metadata": {},
   "outputs": [],
   "source": [
    "superzelle = zellen.loc[1971]"
   ]
  },
  {
   "cell_type": "code",
   "execution_count": 28,
   "metadata": {},
   "outputs": [
    {
     "data": {
      "text/plain": [
       "date     2010-05-24\n",
       "time          13:30\n",
       "id             7272\n",
       "flags             0\n",
       "t0              162\n",
       "t1              189\n",
       "l00             784\n",
       "l01             786\n",
       "c00             548\n",
       "c01             554\n",
       "l0              739\n",
       "l1              787\n",
       "c0              548\n",
       "c1              663\n",
       "Name: 1971, dtype: object"
      ]
     },
     "execution_count": 28,
     "metadata": {},
     "output_type": "execute_result"
    }
   ],
   "source": [
    "superzelle"
   ]
  },
  {
   "cell_type": "code",
   "execution_count": 33,
   "metadata": {},
   "outputs": [],
   "source": [
    "r = radolan.Radolan()"
   ]
  },
  {
   "cell_type": "code",
   "execution_count": 38,
   "metadata": {},
   "outputs": [],
   "source": [
    "lo = r.lon[superzelle.l01,superzelle.c01]"
   ]
  },
  {
   "cell_type": "code",
   "execution_count": 40,
   "metadata": {},
   "outputs": [],
   "source": [
    "la = r.lat[superzelle.l00,superzelle.c01]"
   ]
  },
  {
   "cell_type": "code",
   "execution_count": 21,
   "metadata": {},
   "outputs": [],
   "source": [
    "i,j = radolan.rado_xy2ij(superzelle.l00,superzelle.c01)"
   ]
  },
  {
   "cell_type": "code",
   "execution_count": 31,
   "metadata": {},
   "outputs": [],
   "source": [
    "lo,la = radolan.rado_xy2ll(i,j)"
   ]
  },
  {
   "cell_type": "code",
   "execution_count": 32,
   "metadata": {},
   "outputs": [
    {
     "data": {
      "text/plain": [
       "(-65.92497154351702, 41.34142066998952)"
      ]
     },
     "execution_count": 32,
     "metadata": {},
     "output_type": "execute_result"
    }
   ],
   "source": [
    "lo,la"
   ]
  },
  {
   "cell_type": "code",
   "execution_count": 43,
   "metadata": {},
   "outputs": [
    {
     "data": {
      "text/plain": [
       "(array(116), array(519))"
      ]
     },
     "execution_count": 43,
     "metadata": {},
     "output_type": "execute_result"
    }
   ],
   "source": [
    "gi.get_index((lo,la), slon,slat)"
   ]
  }
 ],
 "metadata": {
  "kernelspec": {
   "display_name": "Python 3",
   "language": "python",
   "name": "python3"
  },
  "language_info": {
   "codemirror_mode": {
    "name": "ipython",
    "version": 3
   },
   "file_extension": ".py",
   "mimetype": "text/x-python",
   "name": "python",
   "nbconvert_exporter": "python",
   "pygments_lexer": "ipython3",
   "version": "3.7.4"
  },
  "latex_envs": {
   "LaTeX_envs_menu_present": true,
   "autoclose": false,
   "autocomplete": true,
   "bibliofile": "biblio.bib",
   "cite_by": "apalike",
   "current_citInitial": 1,
   "eqLabelWithNumbers": true,
   "eqNumInitial": 1,
   "hotkeys": {
    "equation": "Ctrl-E",
    "itemize": "Ctrl-I"
   },
   "labels_anchors": false,
   "latex_user_defs": false,
   "report_style_numbering": false,
   "user_envs_cfg": false
  }
 },
 "nbformat": 4,
 "nbformat_minor": 4
}
