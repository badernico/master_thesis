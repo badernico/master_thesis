{
 "cells": [
  {
   "cell_type": "code",
   "execution_count": 1,
   "metadata": {},
   "outputs": [],
   "source": [
    "import numpy as np\n",
    "import matplotlib.pyplot as plt"
   ]
  },
  {
   "cell_type": "code",
   "execution_count": 2,
   "metadata": {},
   "outputs": [],
   "source": [
    "from random import *"
   ]
  },
  {
   "cell_type": "code",
   "execution_count": 13,
   "metadata": {},
   "outputs": [],
   "source": [
    "zahl0 = \"080886\"\n",
    "zahl1 = randint(20,99)"
   ]
  },
  {
   "cell_type": "code",
   "execution_count": 14,
   "metadata": {},
   "outputs": [
    {
     "name": "stdout",
     "output_type": "stream",
     "text": [
      "080886-27\n"
     ]
    }
   ],
   "source": [
    "print(\"{}-{}\".format(zahl0,zahl1))"
   ]
  },
  {
   "cell_type": "code",
   "execution_count": 15,
   "metadata": {},
   "outputs": [
    {
     "data": {
      "text/plain": [
       "2136647"
      ]
     },
     "execution_count": 15,
     "metadata": {},
     "output_type": "execute_result"
    }
   ],
   "source": [
    "randint(1000000,9999999)"
   ]
  },
  {
   "cell_type": "code",
   "execution_count": 4,
   "metadata": {},
   "outputs": [],
   "source": [
    "r_equ = 6378.169\n",
    "r_pol = 6356.5838\n",
    "h_sat = 35786\n"
   ]
  },
  {
   "cell_type": "code",
   "execution_count": 29,
   "metadata": {},
   "outputs": [],
   "source": [
    "def eccentrictiy(a=r_equ,b=r_pol):\n",
    "    return (a**2 - b**2) / a**2\n",
    "\n",
    "def n_phi(phi,h,r_equ,r_pol):\n",
    "    return r_equ / np.sqrt(1-eccentrictiy(r_equ,r_pol) * np.sin(np.deg2rad(phi))**2)"
   ]
  },
  {
   "cell_type": "code",
   "execution_count": 34,
   "metadata": {},
   "outputs": [],
   "source": [
    "def geo2cart(lat,lon,h,lon_0 = 9.5,a=r_equ,b=r_pol):\n",
    "    N = n_phi(lat,h,a,b)\n",
    "    \n",
    "    x = (N + h) * np.cos(np.deg2rad(lat))*np.cos(np.deg2rad(lon - lon_0))\n",
    "    y = (N + h) * np.cos(np.deg2rad(lat))*np.sin(np.deg2rad(lon - lon_0))\n",
    "    z = (N * (1-eccentrictiy(a,b)) + h) * np.sin(np.deg2rad(lat))\n",
    "    \n",
    "    return (x,y,z)"
   ]
  },
  {
   "cell_type": "code",
   "execution_count": 57,
   "metadata": {},
   "outputs": [],
   "source": [
    "def cart2geo(x,y,z,hs=h_sat,a=r_equ):\n",
    "    l = a + hs\n",
    "    lat = np.arctan(z / ((x - l)**2 + y**2))\n",
    "    lon = -np.arctan(y / (x - l))\n",
    "    \n",
    "    return (np.rad2deg(lat),np.rad2deg(lon))"
   ]
  },
  {
   "cell_type": "code",
   "execution_count": 53,
   "metadata": {},
   "outputs": [],
   "source": [
    "def p_disp(lat_s,lat_s0,lon_s,lon_s0,cx=h_sat/3,cy=h_sat/3):\n",
    "    return np.sqrt(cy**2*(lat_s - lat_s0)**2 + cx**2 * (lon_s - lon_s0)**2)"
   ]
  },
  {
   "cell_type": "code",
   "execution_count": 55,
   "metadata": {},
   "outputs": [
    {
     "data": {
      "text/plain": [
       "11928.666666666666"
      ]
     },
     "execution_count": 55,
     "metadata": {},
     "output_type": "execute_result"
    }
   ],
   "source": [
    "h_sat/3"
   ]
  },
  {
   "cell_type": "code",
   "execution_count": 35,
   "metadata": {},
   "outputs": [],
   "source": [
    "x,y,z = geo2cart(51,14,5000)"
   ]
  },
  {
   "cell_type": "code",
   "execution_count": 41,
   "metadata": {},
   "outputs": [
    {
     "name": "stdout",
     "output_type": "stream",
     "text": [
      "7146.63037617477 562.4520086496194 8819.081791970473\n"
     ]
    }
   ],
   "source": [
    "print(x,y,z)"
   ]
  },
  {
   "cell_type": "code",
   "execution_count": 48,
   "metadata": {},
   "outputs": [],
   "source": [
    "xh,yh,zh = geo2cart(51,14,5000) \n",
    "x0,y0,z0 = geo2cart(51,14,0) "
   ]
  },
  {
   "cell_type": "code",
   "execution_count": 59,
   "metadata": {},
   "outputs": [],
   "source": [
    "lat_s, lon_s = cart2geo(xh,yh,zh)\n",
    "lat_0, lon_0 = cart2geo(x0,y0,z0)"
   ]
  },
  {
   "cell_type": "code",
   "execution_count": 61,
   "metadata": {},
   "outputs": [],
   "source": [
    "p_d = p_disp(lat_s,lat_s0,lon_s,lon_s0)"
   ]
  },
  {
   "cell_type": "code",
   "execution_count": 96,
   "metadata": {},
   "outputs": [],
   "source": [
    "H = np.arange(0,15100,100)\n",
    "lats = np.arange(40,60,5)"
   ]
  },
  {
   "cell_type": "code",
   "execution_count": 97,
   "metadata": {},
   "outputs": [
    {
     "data": {
      "text/plain": [
       "array([40, 45, 50, 55])"
      ]
     },
     "execution_count": 97,
     "metadata": {},
     "output_type": "execute_result"
    }
   ],
   "source": [
    "lats"
   ]
  },
  {
   "cell_type": "code",
   "execution_count": 106,
   "metadata": {},
   "outputs": [],
   "source": [
    "P = {l:[] for l in lats}\n",
    "d = {l:[] for l in lats}\n",
    "\n",
    "for la in lats:\n",
    "    for hh in H:\n",
    "        xh,yh,zh = geo2cart(la,9.5,hh) \n",
    "        x0,y0,z0 = geo2cart(la,9.5,0) \n",
    "\n",
    "        d[la].append(np.sqrt((xh - x0)**2 + (yh - y0)**2 + (zh - z0)**2))\n",
    "        \n",
    "        lat_s, lon_s = cart2geo(xh,yh,zh)\n",
    "        lat_0, lon_0 = cart2geo(x0,y0,z0)\n",
    "\n",
    "        P[la].append(p_disp(lat_s,lat_s0,lon_s,lon_s0))"
   ]
  },
  {
   "cell_type": "code",
   "execution_count": 110,
   "metadata": {},
   "outputs": [
    {
     "data": {
      "text/plain": [
       "[0.0,\n",
       " 100.0000000000004,\n",
       " 200.00000000000054,\n",
       " 299.99999999999994,\n",
       " 400.00000000000006,\n",
       " 500.00000000000045,\n",
       " 600.0000000000007,\n",
       " 700.0,\n",
       " 800.0000000000001,\n",
       " 900.0000000000007,\n",
       " 1000.0000000000005,\n",
       " 1100.0000000000002,\n",
       " 1200.0,\n",
       " 1300.0000000000005,\n",
       " 1400.000000000001,\n",
       " 1500.0,\n",
       " 1600.0000000000002,\n",
       " 1700.0000000000002,\n",
       " 1800.0000000000007,\n",
       " 1900.0000000000005,\n",
       " 2000.000000000001,\n",
       " 2100.000000000001,\n",
       " 2200.0000000000005,\n",
       " 2300.000000000001,\n",
       " 2400.000000000001,\n",
       " 2500.000000000001,\n",
       " 2600.0000000000005,\n",
       " 2700.000000000001,\n",
       " 2800.0000000000014,\n",
       " 2900.000000000001,\n",
       " 3000.0000000000005,\n",
       " 3100.0000000000005,\n",
       " 3200.000000000001,\n",
       " 3300.0000000000014,\n",
       " 3400.0000000000005,\n",
       " 3500.000000000001,\n",
       " 3600.000000000001,\n",
       " 3700.0000000000014,\n",
       " 3800.000000000001,\n",
       " 3900.0,\n",
       " 4000.000000000001,\n",
       " 4100.0,\n",
       " 4200.000000000001,\n",
       " 4300.000000000001,\n",
       " 4400.0,\n",
       " 4500.000000000002,\n",
       " 4600.0,\n",
       " 4700.0,\n",
       " 4800.000000000002,\n",
       " 4900.0,\n",
       " 5000.000000000002,\n",
       " 5100.000000000001,\n",
       " 5200.0,\n",
       " 5300.000000000002,\n",
       " 5400.000000000001,\n",
       " 5500.000000000001,\n",
       " 5600.000000000001,\n",
       " 5700.000000000001,\n",
       " 5800.000000000002,\n",
       " 5900.000000000001,\n",
       " 6000.000000000001,\n",
       " 6100.000000000001,\n",
       " 6200.000000000001,\n",
       " 6300.000000000001,\n",
       " 6400.000000000001,\n",
       " 6500.000000000001,\n",
       " 6600.000000000001,\n",
       " 6700.000000000001,\n",
       " 6800.000000000001,\n",
       " 6900.000000000001,\n",
       " 7000.000000000001,\n",
       " 7100.0,\n",
       " 7200.000000000001,\n",
       " 7300.000000000001,\n",
       " 7400.0,\n",
       " 7500.000000000001,\n",
       " 7600.0,\n",
       " 7700.000000000002,\n",
       " 7800.000000000001,\n",
       " 7900.000000000001,\n",
       " 8000.000000000001,\n",
       " 8100.000000000001,\n",
       " 8200.0,\n",
       " 8300.000000000002,\n",
       " 8400.000000000002,\n",
       " 8500.000000000002,\n",
       " 8600.0,\n",
       " 8700.0,\n",
       " 8800.000000000002,\n",
       " 8900.000000000002,\n",
       " 9000.0,\n",
       " 9100.000000000002,\n",
       " 9200.0,\n",
       " 9300.000000000002,\n",
       " 9400.000000000002,\n",
       " 9500.0,\n",
       " 9600.000000000002,\n",
       " 9700.000000000002,\n",
       " 9800.0,\n",
       " 9900.000000000002,\n",
       " 10000.0,\n",
       " 10100.0,\n",
       " 10200.0,\n",
       " 10300.000000000002,\n",
       " 10400.000000000004,\n",
       " 10500.0,\n",
       " 10600.0,\n",
       " 10700.000000000002,\n",
       " 10800.0,\n",
       " 10900.000000000002,\n",
       " 11000.000000000002,\n",
       " 11100.0,\n",
       " 11200.0,\n",
       " 11300.000000000002,\n",
       " 11400.0,\n",
       " 11500.0,\n",
       " 11600.000000000002,\n",
       " 11700.0,\n",
       " 11800.0,\n",
       " 11900.000000000002,\n",
       " 12000.000000000002,\n",
       " 12100.0,\n",
       " 12200.000000000002,\n",
       " 12300.000000000002,\n",
       " 12400.0,\n",
       " 12500.000000000002,\n",
       " 12600.000000000002,\n",
       " 12700.0,\n",
       " 12800.000000000002,\n",
       " 12900.000000000002,\n",
       " 13000.0,\n",
       " 13100.000000000002,\n",
       " 13200.000000000002,\n",
       " 13300.0,\n",
       " 13400.000000000002,\n",
       " 13500.000000000002,\n",
       " 13600.0,\n",
       " 13700.0,\n",
       " 13800.000000000002,\n",
       " 13900.000000000002,\n",
       " 14000.0,\n",
       " 14100.000000000002,\n",
       " 14200.000000000002,\n",
       " 14300.000000000004,\n",
       " 14400.000000000002,\n",
       " 14500.000000000002,\n",
       " 14600.000000000004,\n",
       " 14700.000000000002,\n",
       " 14800.000000000002,\n",
       " 14900.000000000004,\n",
       " 15000.000000000002]"
      ]
     },
     "execution_count": 110,
     "metadata": {},
     "output_type": "execute_result"
    }
   ],
   "source": [
    "d[55]"
   ]
  },
  {
   "cell_type": "code",
   "execution_count": 107,
   "metadata": {},
   "outputs": [
    {
     "data": {
      "image/png": "[encoded data removed]",
      "text/plain": [
       "<Figure size 864x576 with 1 Axes>"
      ]
     },
     "metadata": {
      "needs_background": "light"
     },
     "output_type": "display_data"
    }
   ],
   "source": [
    "fig,ax = plt.subplots(1,1,figsize=(12,8))\n",
    "for la in lats:\n",
    "    ax.plot(H,d[la])\n",
    "    ax.set_xlabel(\"Wolkenhöhe / km\")\n",
    "    ax.set_ylabel(\"Parallaxenverschiebung / km\")"
   ]
  },
  {
   "cell_type": "code",
   "execution_count": 80,
   "metadata": {},
   "outputs": [
    {
     "data": {
      "text/plain": [
       "[0.0,\n",
       " 0.09999999999987179,\n",
       " 0.19999999999974358,\n",
       " 0.2999999999996126,\n",
       " 0.3999999999994843,\n",
       " 0.4999999999993533,\n",
       " 0.60000000000022,\n",
       " 0.6999999999993822,\n",
       " 0.7999999999999609,\n",
       " 0.8999999999991258,\n",
       " 0.9999999999997016,\n",
       " 1.0999999999998586,\n",
       " 1.1999999999994424,\n",
       " 1.2999999999996021,\n",
       " 1.399999999999186,\n",
       " 1.499999999999343,\n",
       " 1.600000000000207,\n",
       " 1.6999999999990838,\n",
       " 1.7999999999999479,\n",
       " 1.8999999999988246,\n",
       " 1.9999999999996911,\n",
       " 2.099999999999848,\n",
       " 2.199999999999432,\n",
       " 2.299999999999589,\n",
       " 2.399999999999173,\n",
       " 2.49999999999933,\n",
       " 2.5999999999999086,\n",
       " 2.6999999999990734,\n",
       " 2.7999999999999376,\n",
       " 2.899999999999521,\n",
       " 2.999999999999678,\n",
       " 3.0999999999995502,\n",
       " 3.199999999999419,\n",
       " 3.2999999999992906,\n",
       " 3.3999999999991624,\n",
       " 3.499999999999738,\n",
       " 3.599999999999898,\n",
       " 3.6999999999997675,\n",
       " 3.7999999999996388,\n",
       " 3.899999999999508,\n",
       " 3.9999999999993796,\n",
       " 4.100000000000244,\n",
       " 4.19999999999912,\n",
       " 4.299999999999987,\n",
       " 4.399999999998864,\n",
       " 4.499999999999727,\n",
       " 4.599999999999885,\n",
       " 4.699999999999468,\n",
       " 4.799999999999626,\n",
       " 4.89999999999921,\n",
       " 4.999999999999369,\n",
       " 5.100000000000233,\n",
       " 5.199999999999395,\n",
       " 5.300000000000259,\n",
       " 5.399999999999136,\n",
       " 5.5,\n",
       " 5.599999999999872,\n",
       " 5.699999999999744,\n",
       " 5.799999999999901,\n",
       " 5.899999999999484,\n",
       " 5.999999999999642,\n",
       " 6.10000000000022,\n",
       " 6.199999999999382,\n",
       " 6.299999999999961,\n",
       " 6.3999999999991255,\n",
       " 6.499999999999702,\n",
       " 6.599999999999859,\n",
       " 6.699999999999731,\n",
       " 6.799999999999603,\n",
       " 6.899999999999472,\n",
       " 6.999999999999344,\n",
       " 7.100000000000207,\n",
       " 7.199999999999084,\n",
       " 7.299999999999948,\n",
       " 7.399999999999531,\n",
       " 7.499999999999692,\n",
       " 7.599999999999849,\n",
       " 7.699999999999432,\n",
       " 7.7999999999995895,\n",
       " 7.8999999999991735,\n",
       " 7.99999999999933,\n",
       " 8.100000000000197,\n",
       " 8.19999999999978,\n",
       " 8.299999999999937,\n",
       " 8.39999999999952,\n",
       " 8.499999999999678,\n",
       " 8.599999999999834,\n",
       " 8.699999999999418,\n",
       " 8.800000000000285,\n",
       " 8.899999999999164,\n",
       " 9.000000000000027,\n",
       " 9.099999999999898,\n",
       " 9.199999999999768,\n",
       " 9.299999999999638,\n",
       " 9.399999999999508,\n",
       " 9.499999999999668,\n",
       " 9.600000000000245,\n",
       " 9.699999999999408,\n",
       " 9.799999999999985,\n",
       " 9.89999999999915,\n",
       " 9.999999999999728,\n",
       " 10.099999999999884,\n",
       " 10.199999999999468,\n",
       " 10.299999999999626,\n",
       " 10.399999999999498,\n",
       " 10.499999999999366,\n",
       " 10.600000000000234,\n",
       " 10.699999999999111,\n",
       " 10.799999999999974,\n",
       " 10.899999999998851,\n",
       " 10.999999999999714,\n",
       " 11.099999999999872,\n",
       " 11.199999999999456,\n",
       " 11.299999999999615,\n",
       " 11.3999999999992,\n",
       " 11.499999999999357,\n",
       " 11.60000000000022,\n",
       " 11.699999999999097,\n",
       " 11.79999999999996,\n",
       " 11.899999999998837,\n",
       " 11.999999999999705,\n",
       " 12.099999999999573,\n",
       " 12.199999999999445,\n",
       " 12.299999999999317,\n",
       " 12.399999999999187,\n",
       " 12.499999999999343,\n",
       " 12.599999999999921,\n",
       " 12.699999999999086,\n",
       " 12.799999999999663,\n",
       " 12.899999999999533,\n",
       " 12.999999999999691,\n",
       " 13.099999999999849,\n",
       " 13.199999999999433,\n",
       " 13.299999999999589,\n",
       " 13.399999999999462,\n",
       " 13.500000000000037,\n",
       " 13.600000000000197,\n",
       " 13.69999999999978,\n",
       " 13.799999999999939,\n",
       " 13.89999999999952,\n",
       " 13.999999999999678,\n",
       " 14.099999999999834,\n",
       " 14.199999999999418,\n",
       " 14.300000000000287,\n",
       " 14.399999999999162,\n",
       " 14.500000000000027,\n",
       " 14.600000000000184,\n",
       " 14.699999999999767,\n",
       " 14.799999999999924,\n",
       " 14.899999999999508,\n",
       " 14.999999999999668]"
      ]
     },
     "execution_count": 80,
     "metadata": {},
     "output_type": "execute_result"
    }
   ],
   "source": [
    "d"
   ]
  },
  {
   "cell_type": "code",
   "execution_count": 72,
   "metadata": {},
   "outputs": [
    {
     "data": {
      "text/plain": [
       "11928.666666666666"
      ]
     },
     "execution_count": 72,
     "metadata": {},
     "output_type": "execute_result"
    }
   ],
   "source": [
    "h_sat / 3"
   ]
  },
  {
   "cell_type": "code",
   "execution_count": 73,
   "metadata": {},
   "outputs": [
    {
     "data": {
      "text/plain": [
       "14.999999999999668"
      ]
     },
     "execution_count": 73,
     "metadata": {},
     "output_type": "execute_result"
    }
   ],
   "source": [
    "np.sqrt((xh - x0)**2 + (yh - y0)**2 + (zh - z0)**2)"
   ]
  },
  {
   "cell_type": "code",
   "execution_count": 74,
   "metadata": {},
   "outputs": [
    {
     "data": {
      "text/plain": [
       "(0.0001947080695793426, 0.47510751603849266)"
      ]
     },
     "execution_count": 74,
     "metadata": {},
     "output_type": "execute_result"
    }
   ],
   "source": [
    "cart2geo(xh,yh,zh)"
   ]
  },
  {
   "cell_type": "code",
   "execution_count": 76,
   "metadata": {},
   "outputs": [
    {
     "data": {
      "text/plain": [
       "(0.00019415333030437914, 0.47387821088492166)"
      ]
     },
     "execution_count": 76,
     "metadata": {},
     "output_type": "execute_result"
    }
   ],
   "source": [
    "cart2geo(x0,y0,z0)"
   ]
  }
 ],
 "metadata": {
  "kernelspec": {
   "display_name": "Python 3",
   "language": "python",
   "name": "python3"
  },
  "language_info": {
   "codemirror_mode": {
    "name": "ipython",
    "version": 3
   },
   "file_extension": ".py",
   "mimetype": "text/x-python",
   "name": "python",
   "nbconvert_exporter": "python",
   "pygments_lexer": "ipython3",
   "version": "3.7.4"
  },
  "latex_envs": {
   "LaTeX_envs_menu_present": true,
   "autoclose": false,
   "autocomplete": true,
   "bibliofile": "biblio.bib",
   "cite_by": "apalike",
   "current_citInitial": 1,
   "eqLabelWithNumbers": true,
   "eqNumInitial": 1,
   "hotkeys": {
    "equation": "Ctrl-E",
    "itemize": "Ctrl-I"
   },
   "labels_anchors": false,
   "latex_user_defs": false,
   "report_style_numbering": false,
   "user_envs_cfg": false
  }
 },
 "nbformat": 4,
 "nbformat_minor": 4
}
