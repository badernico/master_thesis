{
 "cells": [
  {
   "cell_type": "code",
   "execution_count": 94,
   "metadata": {},
   "outputs": [],
   "source": [
    "import numpy as np\n",
    "import pandas as pd\n",
    "import xarray as xr\n",
    "from scipy import ndimage as ndi"
   ]
  },
  {
   "cell_type": "code",
   "execution_count": 95,
   "metadata": {},
   "outputs": [],
   "source": [
    "proj_path = \"/vols/satellite/home/lenk/proj\""
   ]
  },
  {
   "cell_type": "code",
   "execution_count": 4,
   "metadata": {},
   "outputs": [],
   "source": [
    "haci_cases_20100524 = pd.read_csv(\"{}/2019-09_bell/haci_cases_20100524_filtered.csv\".format(proj_path))"
   ]
  },
  {
   "cell_type": "code",
   "execution_count": 97,
   "metadata": {},
   "outputs": [],
   "source": [
    "with xr.open_dataset(\"{}/2019-09_bell/objektmaske_20100524_eu.nc\".format(proj_path),decode_cf=False) as f:\n",
    "    objektmaske = f.object_mask.data"
   ]
  },
  {
   "cell_type": "code",
   "execution_count": 99,
   "metadata": {},
   "outputs": [],
   "source": [
    "def time2index(time_string,time_intervall=5):\n",
    "    hours = (int(time_string.split(\":\")[0]) * 60) / time_intervall\n",
    "    minutes = int(time_string.split(\":\")[1])\n",
    "    \n",
    "    return int(hours + minutes)"
   ]
  },
  {
   "cell_type": "code",
   "execution_count": 118,
   "metadata": {},
   "outputs": [],
   "source": [
    "object_ids = []\n",
    "\n",
    "for i, row in haci_cases_20100524.iterrows():\n",
    "    tidx = time2index(row.time)\n",
    "    \n",
    "    object_id = objektmaske[tidx][row.msg_r_corr,row.msg_c_corr]\n",
    "    \n",
    "    if object_id == 0:\n",
    "        object_cutout = objektmaske[tidx][row.msg_r_corr-10:row.msg_r_corr+10,\n",
    "                                          row.msg_c_corr-10:row.msg_c_corr+10]\n",
    "        \n",
    "        if np.all(object_cutout) == 0:\n",
    "            object_ids.append(np.nan)\n",
    "        else:\n",
    "            obj_ids = np.unique(object_cutout)[1:]\n",
    "            centroids = ndi.measurements.center_of_mass(object_cutout)\n",
    "\n",
    "\n",
    "            if len(centroids) < 3:\n",
    "                object_ids.append(obj_ids[0])\n",
    "            else:\n",
    "                distances = []\n",
    "                for c in centroids:\n",
    "                    d = np.sqrt((5-c[0])**2 + (5 - c[1])**2)\n",
    "\n",
    "                object_ids.append(obj_ids[np.argmin(distances)])\n",
    "    else:\n",
    "        object_ids.append(object_id)"
   ]
  },
  {
   "cell_type": "code",
   "execution_count": 121,
   "metadata": {},
   "outputs": [],
   "source": [
    "haci_cases_20100524 = haci_cases_20100524.assign(object_id = object_ids)"
   ]
  },
  {
   "cell_type": "code",
   "execution_count": 122,
   "metadata": {},
   "outputs": [],
   "source": [
    "haci_cases_20100524.to_csv(\"{}/2019-09_bell/haci_cases_20100524_filtered.csv\".format(proj_path),index=False)"
   ]
  }
 ],
 "metadata": {
  "kernelspec": {
   "display_name": "Python 3",
   "language": "python",
   "name": "python3"
  },
  "language_info": {
   "codemirror_mode": {
    "name": "ipython",
    "version": 3
   },
   "file_extension": ".py",
   "mimetype": "text/x-python",
   "name": "python",
   "nbconvert_exporter": "python",
   "pygments_lexer": "ipython3",
   "version": "3.7.4"
  },
  "latex_envs": {
   "LaTeX_envs_menu_present": true,
   "autoclose": false,
   "autocomplete": true,
   "bibliofile": "biblio.bib",
   "cite_by": "apalike",
   "current_citInitial": 1,
   "eqLabelWithNumbers": true,
   "eqNumInitial": 1,
   "hotkeys": {
    "equation": "Ctrl-E",
    "itemize": "Ctrl-I"
   },
   "labels_anchors": false,
   "latex_user_defs": false,
   "report_style_numbering": false,
   "user_envs_cfg": false
  }
 },
 "nbformat": 4,
 "nbformat_minor": 4
}
