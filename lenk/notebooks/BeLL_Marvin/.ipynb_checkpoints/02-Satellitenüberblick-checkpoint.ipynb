{
 "cells": [
  {
   "cell_type": "markdown",
   "metadata": {},
   "source": [
    "# Überblick über geostationäre Satelliten\n",
    "\n",
    "\n",
    "## 1 Satellitenumlaufbahnen\n",
    "\n",
    "Es gibt mehrere Möglichkeiten für eine Umlaufbahn (Orbit), auf die ein Satellit befördert werden kann. Die Orbits unterscheiden sich nach drei Kriterien:\n",
    "\n",
    "1. Orbithöhe\n",
    "2. Orbitform: kreisförmig oder elliptisch\n",
    "3. Neigung der Bahn relativ zum Äquator: äquatorumlaufende oder polumlaufende Satelliten\n",
    "\n",
    "### 1.1 Orbithöhe\n",
    "\n",
    "Prinzipiell könnte man Satelliten in jede technisch erreichbare Höhe bringen, es haben sich allerdings eine Reihe von Orbits als praktikabel durchgesetzt.\n",
    "\n",
    "#### 1.1.1 Low Earth Orbit (LEO)\n",
    "Der niedrige Orbit um die Erde (engl. *low earth orbit*, kurz LEO) liegt zwischen 200&thinsp;km bis 2000&thinsp;km über der Erdoberfläche. Dieser Orbit ist mit relativ geringen Energieaufwand zu erreichen. Allerdings sind die Satelliten hier so niedrig, dass sie durch die Reibung der Erdatmosphäre gebremst werden und nur eine begrenzte Lebensdauer haben, wenn die Bahn nicht korrigiert wird. \n",
    "\n",
    "In diesem Orbit befinden sich oft Objekte der bemannten Raumfahrt (z.&thinsp;B. die ISS), Spionagesatelliten, astronomische Satelliten, bestimmte Wettersatelliten und Erderkundungssatelliten.\n",
    "\n",
    "Da sich diese Satelliten relativ nahe an der Erdoberfläche befinden ist ihre räumlich Auflösung gut. Ihre Umlaufzeit um die Erde beträgt etwa 100&thinsp;min.\n",
    "\n",
    "#### 1.1.2 Medium Earth Orbit (MEO)\n",
    "Der mittlere Orbit um die Erde (engl. *medium earth orbit*, kurz MEO) liegt zwischen 2000&thinsp;km bis unter 36000&thinsp;km über der Erdoberfläche. Dieser Orbit liegt zwischen dem niedrigen und geostationären Orbit. Der Energieaufwand um diesen Orbit zu erreichen ist relativ hoch, aber die Satelliten werden hier nicht so stark durch die Reibung der Erdatmopshäre gebremst. \n",
    "\n",
    "Diese Bahn wird oft für Kommunikationssatelliten und Navigationssatelliten (z.&thinsp;B. GPS) genutzt.\n",
    "\n",
    "Die Umlaufzeit um die Erde liegt im Bereich von wenigen bis mehreren Stunden.\n",
    "\n",
    "#### 1.1.3 Geostationäre Umlaufbahn (GEO)\n",
    "\n",
    "Der geostationäre Orbit (engl. *geostationary earth orbit*, kurz GEO) liegt auf 35&thinsp;786&thinsp;km. Die Umlaufbahn dieser Satelliten liegt immer in der Äquatorebene und die Umlaufzeit um die Erde beträgt genau einen Tag. Deshalb können diese Satelliten immer den gleichen Ausschnitt der Erdoberfläche abbilden. Wegen der großen Entfernung zur Erdoberfläche ist die räumliche Auflösung geostationärer Satelliten beschränkt und sie können auch die Polarregionen nicht abdecken.\n",
    "\n",
    "In diesen Orbit werden bevorzugt Wettersatelliten, Kommunikationssatelliten und Fernsehsatelliten positioniert. \n",
    "\n",
    "\n",
    "|   Orbit                            |  LEO          |  MEO           | GEO         |\n",
    "|:----------------------------------:|:-------------:|:--------------:|:-----------:|\n",
    "| typ. Höhe über Erdoberfläche / km: | 200 bis 1&thinsp;500  | 6&thinsp;000 bis 12&thinsp;000 |  35&thinsp;786 |\n",
    "| Erdumlaufzeit / h:                 | 1,5 bis 5     | 5 bis 12       | 24 |\n",
    "| Satelliten für globale Abdeckung   | 50 bis 70     | 10 bis 12      | 3 (bis max. 82° Breite) |\n",
    "\n",
    "#### 1.1.4 Weitere Umlaufbahnen\n",
    "\n",
    "Es gibt auch noch weitere Umlaufbahnen. Diese umfassen z.&thinsp;B. sonnensynchrone Umlaufbahnen (*sun synchroneous orbit*, SSO), die es ermöglichen einen Ausschnitt der Erdoberfläche immer am Tag zu beobachten oder polare Umlaufbahnen, die um fast 90° gegenüber der Äquatorebene geneigt sind und eine Abdeckung der gesamten Erdoberfläche erlauben.\n",
    "\n",
    "### 1.2 Orbitform\n",
    "\n",
    "Die bisher vorgestellten Orbits sind mehr oder weniger keisförmig. Für einige Anwendungen sind aber elliptische Umlaufbahnen vorteilhaft, z.&thinsp;B. wenn man einen Bereich der Erdoberfläche genauer untersuchen möchte, oder um die Polarregionen abzudecken.\n",
    "\n",
    "\n",
    "### 1.3 Physikalische Grundlagen\n",
    "\n",
    "Für die Berechnung von Satellitenbahnen kann man zwei Ansätze wählen. Wenn die Erde näherungsweise als kugelförmig betrachtet wird, kann man die Umlaufbahn niedriger Satelliten mit dem Gravitationsgesetz nach Newton berechnen. Für Umlaufbahnen in größerer Entfernung zur Erdoberfläche kann man die Bahn mit den Kepler'schen Gesetzen berechnen.\n",
    "\n",
    "#### 1.3.1 Ansatz mit dem Gravitationsgesetz nach Newton\n",
    "\n",
    "Ein Satellit wird durch die Gravitationskraft der Erde innerhalb des Gravitationsfeldes der Erde gehalten, solange seine Geschwindigkeit geringer ist als die Fluchtgeschwindigkeit.\n",
    "\n",
    "![Skizze](/img/Kreisbahn.png)\n",
    "\n",
    "Die Gravitationskraft der Erde ergibt sich zu:\n",
    "\n",
    "$$\\begin{align}\\vec{F}_\\mathrm{G} &= \\gamma \\frac{m_\\mathrm{Erde} \\cdot m_\\mathrm{Satellit}}{(r_\\mathrm{Erde} + h_\\mathrm{Satellit})^2} \\end{align}$$\n",
    "\n",
    "mit: \n",
    "\n",
    "*F*<sub>G</sub>: Gewichtskraft<br/> \n",
    "&gamma;: universelle Gravitationskonstante, &gamma; = 6,67&thinsp;&sdot;&thinsp;10<sup>-11</sup> m<sup>3</sup>&thinsp;/&thinsp;(kg&thinsp;&sdot;&thinsp;s<sup>2</sup>)<br/>\n",
    "*m*<sub>Erde</sub>: Erdmasse, *m*<sub>Erde</sub> = &rho;<sub>Erde</sub>&thinsp;&sdot;&thinsp;*V*<sub>Erde</sub>= 5515 kg&thinsp;/&thinsp;m<sup>3</sup>&thinsp;&sdot;&thinsp;4/3&pi;&thinsp;&sdot;&thinsp;*r*<sub>Erde</sub><sup>3</sup>&thinsp;&asymp;&thinsp;6&thinsp;&sdot;&thinsp;10<sup>24</sup>&thinsp;kg<br/>\n",
    "*m*<sub>Satellit</sub>: Satellitenmasse<br/>\n",
    "*r*<sub>Erde</sub>: Erdradius, *r*<sub>Erde</sub>&thinsp;&asymp;&thinsp;6378&thinsp;km\n",
    "     \n",
    "Die Gravitationskraft der Erde wirkt dann als Zentripetalkraft auf den Satelliten und hält ihn in seinen Orbit.\n",
    "\n",
    "Die Zentripetalkraft, die den Satelliten in der Umlaufbahn hält, ergibt sich aus:\n",
    "\n",
    "$$\\begin{align} \\vec{F}_\\mathrm{Z} = \\frac{m_\\mathrm{Satellit} \\cdot v^2}{r_\\mathrm{Erde} + h_\\mathrm{Satellit}}\\end{align}$$\n",
    "     \n",
    "mit:\n",
    "\n",
    "v: Umlaufgeschwindigkeit des Satelliten\n",
    "\n",
    "Da die Gravitationskraft als Zentripetalkraft auf den Satelliten wirkt, gilt:\n",
    "\n",
    "$$ \\vec{F}_\\mathrm{G} = \\vec{F}_\\mathrm{Z} $$\n",
    "\n",
    "$$ \\gamma \\frac{m_\\mathrm{Erde} \\cdot m_\\mathrm{Satellit}}{(r_\\mathrm{Erde} + h_\\mathrm{Satellit})^2} = \\frac{m_\\mathrm{Satellit} \\cdot v^2}{r_\\mathrm{Erde} + h_\\mathrm{Satellit}}$$\n",
    "\n",
    "Die Satellitenmasse kürzt sich heraus und auch die Entfernung des Satelliten vom Erdmittelpunkt lässt sich einmal herauskürzen. Damit ergibt sich:\n",
    "\n",
    "$$\\begin{align} v = \\sqrt{\\gamma \\frac{m_\\mathrm{Erde}}{r_\\mathrm{Erde} + h_\\mathrm{Satellit}}} \\end{align}$$\n",
    "\n",
    "Die Umlaufbahngeschwindigkeit ist somit von der Satellitenmasse und -form unabhängig und hängt von der Erdmasse und der Entfernung des Satelliten vom Erdmittelpunkt ab.\n",
    "\n",
    "Die Umlaufzeit *t* ergibt aus:\n",
    "\n",
    "$$ t = \\frac{u}{v} = \\frac{2\\pi(r_\\mathrm{Erde} + h_\\mathrm{Satellit})}{v} = \\frac{2\\pi(r_\\mathrm{Erde} + h_\\mathrm{Satellit})}{\\sqrt{\\gamma \\frac{m_\\mathrm{Erde}}{r_\\mathrm{Erde} + h_\\mathrm{Satellit}}}}$$\n",
    "\n",
    "Für niedrige Orbits (*h*<sub>Satellit</sub>&thinsp;=&thinsp;200&thinsp;km) ergibt sich Folgendes:\n",
    "\n",
    "$$v = \\sqrt{6,67 \\cdot 10^{-11} \\frac{\\mathrm{m}^3}{\\mathrm{kg} \\cdot \\mathrm{s}^2} \\cdot \\frac{6\\cdot 10^{24}\\,\\mathrm{kg}}{6\\,378\\,000\\,\\mathrm{m} + 200\\,000\\,\\mathrm{m}}} \\approx 7,8\\,\\frac{\\mathrm{km}}{\\mathrm{s}}$$\n",
    "\n",
    "$$ t = \\frac{2\\pi \\cdot 6578\\,\\mathrm{km}}{7,8\\,\\frac{\\mathrm{km}}{\\mathrm{s}}} \\approx 5299\\,\\mathrm{s} \\approx 88\\,\\mathrm{min}$$\n",
    "\n",
    "#### 1.3.2 Ansatz nach den Kepler'schen Gesetzen\n",
    "\n",
    "Nach den Kepler'schen Gesetzen ergibt sich für die Umlaufgeschwindigkeit:\n",
    "\n",
    "$$ t = \\sqrt{\\frac{4\\pi^2 a^3} {\\gamma ( m_\\mathrm{Erde} + m_\\mathrm{Satellit})}}$$\n",
    "\n",
    "mit:\n",
    "\n",
    "a: große Halbachse der Umlaufbahnellipse.\n",
    "\n",
    "Für die Umlaufgeschwindigkeit ergibt sich:\n",
    "\n",
    "$$ v = \\frac{2\\pi a}{t}$$\n",
    "\n",
    "Da die Satellitenmasse gegenüber der Erdmasse sehr klein ist, kann man sie vernachlässigen. Für die größere Halbachse der Ellipse nehmen wir den Äquatorradius der Erde an, den wir auch schon oben benutzt haben.\n",
    "\n",
    "$$ t = \\sqrt{\\frac{4\\pi^2 (r_\\mathrm{Erde} + h_\\mathrm{Satellit})^3} {\\gamma \\cdot m_\\mathrm{Erde}}}$$\n",
    "\n",
    "und\n",
    "\n",
    "$$ v = \\frac{2\\pi(r_\\mathrm{Erde} + h_\\mathrm{Satellit})}{t} $$\n",
    "\n",
    "Für das obige Beispiel (*h*<sub>Satellit</sub>&thinsp;=&thinsp;200&thinsp;km) ergibt sich Folgendes:\n",
    "\n",
    "$$ t = \\sqrt{\\frac{4\\pi^2 (6\\,578\\,000\\,\\mathrm{m})^3} {6,67\\cdot10^{-11} \\frac{\\mathrm{m}^3}{\\mathrm{kg} \\cdot \\mathrm{s}^2} \\cdot 6\\cdot 10^{24}\\,\\mathrm{kg}}} \\approx 5299\\,\\mathrm{s} \\approx 88\\,\\mathrm{min}$$\n",
    "\n",
    "$$ v = \\frac{2\\pi * 6578\\,\\mathrm{km}}{5299\\,\\mathrm{s}} = 7,8\\,\\frac{\\mathrm{km}}{\\mathrm{s}}$$\n",
    "\n",
    "Für niedrige Orbits ergeben sich also die gleichen Werte."
   ]
  },
  {
   "cell_type": "markdown",
   "metadata": {
    "solution2": "hidden",
    "solution2_first": true
   },
   "source": [
    "### Übung 1\n",
    "\n",
    "1. Wie sieht die Umlaufgeschwindigkeit und -zeit für die typischen Höhen für die Orbits LEO, MEO und GEO aus?\n",
    "2. Ab wann werden die Unterschiede der verschiedenen Ansätze größer?\n",
    "3. Wenn sie nicht größer werden, warum?"
   ]
  },
  {
   "cell_type": "markdown",
   "metadata": {
    "solution2": "hidden"
   },
   "source": [
    "### Lösung\n",
    "\n",
    "1. Um mehrere Satellitenhöhen analysieren zu können, empfiehlt es sich ein paar Python-Funktionen anzulegen."
   ]
  },
  {
   "cell_type": "code",
   "execution_count": 112,
   "metadata": {
    "code_folding": [
     0,
     27,
     56,
     86
    ],
    "solution2": "hidden"
   },
   "outputs": [],
   "source": [
    "def v_orbit_newton(hoehe):\n",
    "    \"\"\"\n",
    "    Berechnet die Umlaufgeschwindigkeit eines Satelliten auf einer Kreisbahn aus einer gegebenen Höhe über \n",
    "    der Erdobefläche nach dem Newton'schen Gravitationsgesetz.\n",
    "    \n",
    "    Eingabe:\n",
    "        hoehe: int\n",
    "           Satellitenhöhe über der Erdoberfläche in Metern\n",
    "    \n",
    "    Ausgabe:\n",
    "        v: float\n",
    "            Umlaufgeschwindigkeit\n",
    "    \"\"\"\n",
    "    # das Numpy-Modul importieren\n",
    "    import numpy as np\n",
    "    \n",
    "    # Definition der benötigten Konstanten\n",
    "    erdmasse = 6e24\n",
    "    gamma = 6.67e-11\n",
    "    erdradius = 6378137\n",
    "    \n",
    "    # Berechnung\n",
    "    v = np.sqrt(gamma * erdmasse / (erdradius+hoehe))\n",
    "    \n",
    "    # Geschwindikeit zurückgeben\n",
    "    return v\n",
    "\n",
    "def t_orbit_newton(hoehe):\n",
    "    \"\"\"\n",
    "    Berechnet die Umlaufzeit eines Satelliten auf einer Kreisbahn aus einer gegebenen Höhe über der Erdobefläche\n",
    "    nach dem Newton'schen Gravitationsgesetz.\n",
    "    \n",
    "    Eingabe:\n",
    "        hoehe: int\n",
    "           Satellitenhöhe über der Erdoberfläche in Metern\n",
    "    \n",
    "    Ausgabe:\n",
    "        t: float\n",
    "            Umlaufzeit\n",
    "    \"\"\"\n",
    "    # das Numpy-Modul importieren\n",
    "    import numpy as np\n",
    "    \n",
    "    # Definition der benötigten Konstanten\n",
    "    erdmasse = 6e24\n",
    "    gamma = 6.67e-11\n",
    "    erdradius = 6378137\n",
    "    \n",
    "    # Berechnung\n",
    "    v = v_orbit_newton(hoehe)\n",
    "    \n",
    "    t = (2*np.pi * (hoehe + erdradius)) / v\n",
    "    \n",
    "    # Geschwindikeit zurückgeben\n",
    "    return t\n",
    "\n",
    "def t_orbit_keppler(hoehe):\n",
    "    \"\"\"\n",
    "    Berechnet die Umlaufzeit eines Satelliten auf einer Kreisbahn aus einer gegebenen Höhe über der Erdobefläche\n",
    "    nach dem den Keppler'schen Gesetzen.\n",
    "    \n",
    "    Eingabe:\n",
    "        hoehe: int\n",
    "           Satellitenhöhe über der Erdoberfläche in Metern\n",
    "  \n",
    "    Ausgabe:\n",
    "        t: float\n",
    "            Umlaufzeit\n",
    "    \"\"\"\n",
    "    # das Numpy-Modul importieren\n",
    "    import numpy as np\n",
    "    \n",
    "    # Definition der benötigten Konstanten\n",
    "    erdmasse = 6e24\n",
    "    gamma = 6.67e-11 / 1000\n",
    "    ge = erdmasse * gamma\n",
    "    erdradius = 6378137 / 1000\n",
    "    \n",
    "    # Berechnung\n",
    "    h = erdradius + hoehe/1000\n",
    "    t = np.sqrt((4*np.pi**2*h**3)/ ge)\n",
    "    \n",
    "    # Geschwindikeit zurückgeben\n",
    "    return t*1000\n",
    "\n",
    "\n",
    "def v_orbit_keppler(hoehe):\n",
    "    \"\"\"\n",
    "    Berechnet die Umlaufgeschwindigkeit eines Satelliten auf einer Kreisbahn aus einer gegebenen Höhe über \n",
    "    der Erdobefläche nach den Keppler'schen Gesetzen.\n",
    "    \n",
    "    Eingabe:\n",
    "        hoehe: int\n",
    "           Satellitenhöhe über der Erdoberfläche in Metern\n",
    "    \n",
    "    Ausgabe:\n",
    "        v: float\n",
    "            Umlaufgeschwindigkeit\n",
    "    \"\"\"\n",
    "    # das Numpy-Modul importieren\n",
    "    import numpy as np\n",
    "    \n",
    "    # Definition der benötigten Konstanten\n",
    "    erdradius = 6378137\n",
    "    \n",
    "    # Berechnung\n",
    "    t = t_orbit_keppler(hoehe)\n",
    "    \n",
    "    v = (2 * np.pi * (erdradius + hoehe)) / t\n",
    "    \n",
    "    # Geschwindikeit zurückgeben\n",
    "    return v"
   ]
  },
  {
   "cell_type": "markdown",
   "metadata": {
    "solution2": "hidden"
   },
   "source": [
    "Dann legt man ein paar Höhen in einem Numpy-Array an und lässt sich die Geschwindigkeiten und Umlaufzeiten ausrechnen."
   ]
  },
  {
   "cell_type": "code",
   "execution_count": 141,
   "metadata": {
    "solution2": "hidden"
   },
   "outputs": [],
   "source": [
    "import numpy as np\n",
    "leo_hoehen = np.arange(100000,2100000,100000)\n",
    "meo_hoehen = np.arange(1000000,37000000,1000000)\n",
    "geo_hoehen = np.arange(34000000,100000000,10000000)\n",
    "\n",
    "v_newton_leo = v_orbit_newton(leo_hoehen)\n",
    "t_newton_leo = t_orbit_newton(leo_hoehen)\n",
    "v_keppler_leo = v_orbit_keppler(leo_hoehen)\n",
    "t_keppler_leo = t_orbit_keppler(leo_hoehen)\n",
    "v_newton_meo = v_orbit_newton(meo_hoehen)\n",
    "t_newton_meo = t_orbit_newton(meo_hoehen)\n",
    "v_keppler_meo = v_orbit_keppler(meo_hoehen)\n",
    "t_keppler_meo = t_orbit_keppler(meo_hoehen)\n",
    "v_newton_geo = v_orbit_newton(geo_hoehen)\n",
    "t_newton_geo = t_orbit_newton(geo_hoehen)\n",
    "v_keppler_geo = v_orbit_keppler(geo_hoehen)\n",
    "t_keppler_geo = t_orbit_keppler(geo_hoehen)"
   ]
  },
  {
   "cell_type": "markdown",
   "metadata": {
    "solution2": "hidden"
   },
   "source": [
    "Dann kann man sich das Ganze auch als Diagramm darstellen lassen."
   ]
  },
  {
   "cell_type": "code",
   "execution_count": 142,
   "metadata": {
    "solution2": "hidden"
   },
   "outputs": [
    {
     "data": {
      "text/plain": [
       "Text(0.5, 1.0, 'Umlaufgeschwindigkeit')"
      ]
     },
     "execution_count": 142,
     "metadata": {},
     "output_type": "execute_result"
    },
    {
     "data": {
      "image/png": "[encoded data removed]",
      "text/plain": [
       "<Figure size 864x1152 with 2 Axes>"
      ]
     },
     "metadata": {
      "needs_background": "light"
     },
     "output_type": "display_data"
    }
   ],
   "source": [
    "import matplotlib.pyplot as plt\n",
    "%matplotlib inline\n",
    "\n",
    "\n",
    "fig,ax = plt.subplots(2,1,figsize=(12,16))\n",
    "ax[0].plot(leo_hoehen/1000,t_keppler_leo/3600,'go',label=\"Keppler\")\n",
    "ax[0].plot(leo_hoehen/1000,t_newton_leo/3600,'r+',label=\"Newton\")\n",
    "ax[0].plot(meo_hoehen/1000,t_keppler_meo/3600,'go')\n",
    "ax[0].plot(meo_hoehen/1000,t_newton_meo/3600,'r+')\n",
    "ax[0].plot(geo_hoehen/1000,t_keppler_geo/3600,'go')\n",
    "ax[0].plot(geo_hoehen/1000,t_newton_geo/3600,'r+')\n",
    "ax[0].set_xlabel(\"Höhe über Erdoberfläche / km\")\n",
    "ax[0].set_ylabel(\"Umlaufzeit / h\")\n",
    "ax[0].legend()\n",
    "ax[0].set_title(\"Umlaufzeit\")\n",
    "ax[0].axhline(24,linestyle='dashed')\n",
    "\n",
    "ax[1].plot(leo_hoehen/1000,v_keppler_leo/1000,'go',label=\"Keppler\")\n",
    "ax[1].plot(leo_hoehen/1000,v_newton_leo/1000,'r+',label=\"Newton\")\n",
    "ax[1].plot(meo_hoehen/1000,v_keppler_meo/1000,'go')\n",
    "ax[1].plot(meo_hoehen/1000,v_newton_meo/1000,'r+')\n",
    "ax[1].plot(geo_hoehen/1000,v_keppler_geo/1000,'go')\n",
    "ax[1].plot(geo_hoehen/1000,v_newton_geo/1000,'r+')\n",
    "ax[1].set_xlabel(\"Höhe über Erdoberfläche / km\")\n",
    "ax[1].set_ylabel(\"Umlaufgeschwindigkeit / (km/s)\")\n",
    "ax[1].legend()\n",
    "ax[1].set_title(\"Umlaufgeschwindigkeit\")"
   ]
  },
  {
   "cell_type": "markdown",
   "metadata": {
    "solution2": "hidden"
   },
   "source": [
    "2. Die Unterschiede in den Ansätzen werden nicht größer, sondern bleiben gleich.\n",
    "3. In der verwendeten Keppler-Formel haben wir eine kreisförmige Bahn angenommen. Auch wenn die Formeln leicht unterschiedlich aussehen, so ist doch die Physik die gleiche. Wenn wir eine elliptische Bahn annehmen, könnte das Ergebnis leicht anders aussehen."
   ]
  },
  {
   "cell_type": "markdown",
   "metadata": {
    "solution2": "hidden",
    "solution2_first": true
   },
   "source": [
    "1. Wie sieht die Umlaufgeschwindigkeit und die Zeit für andere Satellitenbahnen aus?"
   ]
  }
 ],
 "metadata": {
  "kernelspec": {
   "display_name": "Python 3",
   "language": "python",
   "name": "python3"
  },
  "language_info": {
   "codemirror_mode": {
    "name": "ipython",
    "version": 3
   },
   "file_extension": ".py",
   "mimetype": "text/x-python",
   "name": "python",
   "nbconvert_exporter": "python",
   "pygments_lexer": "ipython3",
   "version": "3.7.4"
  }
 },
 "nbformat": 4,
 "nbformat_minor": 2
}
