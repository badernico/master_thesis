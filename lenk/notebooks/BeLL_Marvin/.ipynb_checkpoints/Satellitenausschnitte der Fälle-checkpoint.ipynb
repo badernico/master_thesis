{
 "cells": [
  {
   "cell_type": "markdown",
   "metadata": {},
   "source": [
    "# Parallaxenkorrektur der Startpunkt\n",
    "\n",
    "Nach der Fallauswahl"
   ]
  },
  {
   "cell_type": "code",
   "execution_count": null,
   "metadata": {},
   "outputs": [],
   "source": [
    "import numpy as np\n",
    "import pandas as pd\n",
    "import xarray as xr\n",
    "\n",
    "import matplotlib.pyplot as plt\n",
    "%matplotlib inline\n",
    "\n",
    "from standard_config import *\n",
    "import datetime as dt\n",
    "\n",
    "import MSGtools as mst\n",
    "import msg_coord_conv2 as mcc\n",
    "from analysis_tools import grid_and_interpolation as gi\n",
    "from analysis_tools import parallax as px\n",
    "\n",
    "import geooperations as go\n",
    "\n",
    "from scipy import ndimage as ndi"
   ]
  },
  {
   "cell_type": "markdown",
   "metadata": {},
   "source": [
    "## 1. Gefilterte HACI-Fälle für den 24.&thinsp;05.&thinsp;2010 laden"
   ]
  },
  {
   "cell_type": "code",
   "execution_count": null,
   "metadata": {},
   "outputs": [],
   "source": [
    "t = dt.date(2010,5,24)"
   ]
  },
  {
   "cell_type": "code",
   "execution_count": null,
   "metadata": {},
   "outputs": [],
   "source": [
    "haci_cases_20100524 = pd.read_csv(\"{}/2019-09_bell/haci_cases_20100524_filtered.csv\".format(proj_path))"
   ]
  },
  {
   "cell_type": "code",
   "execution_count": null,
   "metadata": {},
   "outputs": [],
   "source": [
    "haci_cases_20100524.head()"
   ]
  },
  {
   "cell_type": "markdown",
   "metadata": {},
   "source": [
    "## 2. Koordinaten umrechnen\n",
    "\n",
    "Jetzt haben wir Radarfälle im Radarkoordinatensystem. Als nächstes rechnen wir die in das MSG-Koorindatensystem um."
   ]
  },
  {
   "cell_type": "code",
   "execution_count": null,
   "metadata": {},
   "outputs": [],
   "source": [
    "slon,slat = mst.get_msg_lon_lat('eu','rss',arch_dir=\"/vols/satellite/home/lenk/data/SEVIRI/\")"
   ]
  },
  {
   "cell_type": "code",
   "execution_count": null,
   "metadata": {},
   "outputs": [],
   "source": [
    "lon00,lat00 = mcc.rado_ij2ll(haci_cases_20100524.l00.values,haci_cases_20100524.c00.values)\n",
    "lon01,lat01 = mcc.rado_ij2ll(haci_cases_20100524.l01.values,haci_cases_20100524.c01.values)\n",
    "lon0,lat0 = mcc.rado_ij2ll(haci_cases_20100524.l0.values,haci_cases_20100524.c0.values)\n",
    "lon1,lat1 = mcc.rado_ij2ll(haci_cases_20100524.l1.values,haci_cases_20100524.c1.values)"
   ]
  },
  {
   "cell_type": "code",
   "execution_count": null,
   "metadata": {},
   "outputs": [],
   "source": [
    "haci_cases_20100524 = haci_cases_20100524.assign(lon00 = lon00,\n",
    "                                                 lat00 = lat00,\n",
    "                                                 lon01 = lon01,\n",
    "                                                 lat01 = lat01,\n",
    "                                                 lon0 = lon0,\n",
    "                                                 lat0 = lat0,\n",
    "                                                 lon1 = lon1,\n",
    "                                                 lat1 = lat1)"
   ]
  },
  {
   "cell_type": "code",
   "execution_count": null,
   "metadata": {},
   "outputs": [],
   "source": [
    "msg_00 = gio.get_index_kdtree(np.array([[lat00],[lon00]]),slat,slon)\n",
    "msg_01 = gio.get_index_kdtree(np.array([[lat01],[lon01]]),slat,slon)\n",
    "msg_0 = gio.get_index_kdtree(np.array([[lat0],[lon0]]),slat,slon)\n",
    "msg_1 = gio.get_index_kdtree(np.array([[lat1],[lon1]]),slat,slon)"
   ]
  },
  {
   "cell_type": "code",
   "execution_count": null,
   "metadata": {},
   "outputs": [],
   "source": [
    "msg_r00 = []\n",
    "msg_c00 = []\n",
    "msg_r0 = []\n",
    "msg_c0 = []\n",
    "msg_r01 = []\n",
    "msg_c01 = []\n",
    "msg_r1 = []\n",
    "msg_c1 = []\n",
    "\n",
    "for i,idx in enumerate(msg_00):\n",
    "    msg_r00.append(idx[0][0])\n",
    "    msg_c00.append(idx[1][0])\n",
    "    \n",
    "    msg_r01.append(msg_01[i][0][0])\n",
    "    msg_c01.append(msg_01[i][1][0])\n",
    "    \n",
    "    msg_r0.append(msg_0[i][0][0])\n",
    "    msg_c0.append(msg_0[i][1][0])\n",
    "    \n",
    "    msg_r1.append(msg_1[i][0][0])\n",
    "    msg_c1.append(msg_1[i][1][0])"
   ]
  },
  {
   "cell_type": "code",
   "execution_count": null,
   "metadata": {},
   "outputs": [],
   "source": [
    "haci_cases_20100524 = haci_cases_20100524.assign(msg_r00 = msg_r00,\n",
    "                                                 msg_c00 = msg_c00,\n",
    "                                                 msg_r01 = msg_r01,\n",
    "                                                 msg_c01 = msg_c01,\n",
    "                                                 msg_r0 = msg_r0,\n",
    "                                                 msg_c0 = msg_c0,\n",
    "                                                 msg_r1 = msg_r1,\n",
    "                                                 msg_c1 = msg_c1)"
   ]
  },
  {
   "cell_type": "code",
   "execution_count": null,
   "metadata": {},
   "outputs": [],
   "source": [
    "haci_cases_20100524.to_csv(\"{}/2019-09_bell/haci_cases_20100524_filtered.csv\".format(proj_path),index=False)"
   ]
  },
  {
   "cell_type": "code",
   "execution_count": null,
   "metadata": {},
   "outputs": [],
   "source": [
    "haci_cases_20100524"
   ]
  },
  {
   "cell_type": "markdown",
   "metadata": {},
   "source": [
    "Als nächstes gehen wir die Fälle durch und machen eine Parallaxenkorrektur der Fallkoordinaten. Dazu brauchen wir zuerst Wolkenhöhenwerte."
   ]
  },
  {
   "cell_type": "code",
   "execution_count": null,
   "metadata": {},
   "outputs": [],
   "source": [
    "times = haci_cases_20100524.time.values"
   ]
  },
  {
   "cell_type": "code",
   "execution_count": null,
   "metadata": {},
   "outputs": [],
   "source": [
    "ctth_data = {t:[] for t in times}"
   ]
  },
  {
   "cell_type": "code",
   "execution_count": null,
   "metadata": {},
   "outputs": [],
   "source": [
    "for t in times:\n",
    "    tt = dt.datetime(2010,5,24,int(t.split(\":\")[0]),int(t.split(\":\")[1]))\n",
    "    cth = mst.get_nwcsaf_prod(\"CTTH_HEIGHT\",tt,calibrate=True)\n",
    "    \n",
    "    cth_smooth =  ndi.maximum_filter(cth, size = 3)\n",
    "    cth_smooth =  ndi.gaussian_filter(cth_smooth, 3)\n",
    "    \n",
    "    ctth_data[t] = np.rint(cth_smooth).astype(\"int\")"
   ]
  },
  {
   "cell_type": "markdown",
   "metadata": {},
   "source": [
    "Damit können wir die Koordinaten jetzt korrigieren. Die Korrekturen sollten nicht allzugroß sein. Der maximalwert der NWC&thinsp;SAF-Wolkenhöhe liegt bei 14000&thinsp;m. Das sollten in Deutschland nicht mehr als drei MSG-Standardpixel sein."
   ]
  },
  {
   "cell_type": "code",
   "execution_count": null,
   "metadata": {},
   "outputs": [],
   "source": [
    "lines = []\n",
    "cols = []\n",
    "for i,row in haci_cases_20100524.iterrows():\n",
    "    l0 = int(np.rint((row.msg_r00 + row.msg_r01) // 2))\n",
    "    c0 = int(np.rint((row.msg_c00 + row.msg_c01) // 2))\n",
    "    \n",
    "    cth_0 = ctth_data[row.time][l0,c0]\n",
    "    \n",
    "    lat0 = slat[l0,c0]\n",
    "    lon0 = slon[l0,c0]\n",
    "    \n",
    "    lon_corr, lat_corr = px.parallax_correction(lon0, lat0, cth_0, satlon = 9.5)    \n",
    "    \n",
    "    coord = gi.get_index_kdtree(np.array([[lat_corr],[lon_corr]]),slat,slon)\n",
    "    \n",
    "    lines.append(coord[0][0])\n",
    "    cols.append(coord[0][1])"
   ]
  },
  {
   "cell_type": "code",
   "execution_count": null,
   "metadata": {},
   "outputs": [],
   "source": [
    "haci_cases_20100524 = haci_cases_20100524.assign(msg_r_corr = lines,msg_c_corr=cols)"
   ]
  },
  {
   "cell_type": "code",
   "execution_count": null,
   "metadata": {},
   "outputs": [],
   "source": [
    "haci_cases_20100524.to_csv(\"{}/2019-09_bell/haci_cases_20100524_filtered.csv\".format(proj_path),index=False)"
   ]
  },
  {
   "cell_type": "markdown",
   "metadata": {},
   "source": [
    "## 2. Zu den Koordinaten gehörige Objekte suchen\n",
    "\n",
    "Mit den Koordianten können wir uns aus der Objektmaske jetzt diejenigen Objekte suchen, die zu dem Niederschlag gehören."
   ]
  },
  {
   "cell_type": "code",
   "execution_count": null,
   "metadata": {},
   "outputs": [],
   "source": [
    "with xr.open_dataset(\"/vols/satellite/home/lenk/proj/2019-09_bell/objektmaske_20100524_eu.nc\") as f:\n",
    "    objektmaske = f.objektmaske.data"
   ]
  },
  {
   "cell_type": "code",
   "execution_count": null,
   "metadata": {},
   "outputs": [],
   "source": [
    "def time2int(time_string,time_intervall=5):\n",
    "    hours = (int(time_string.split(\":\")[0]) * 60) / time_intervall\n",
    "    minutes = int(time_string.split(\":\")[1])\n",
    "    \n",
    "    return hours + minutes"
   ]
  }
 ],
 "metadata": {
  "kernelspec": {
   "display_name": "Python 3",
   "language": "python",
   "name": "python3"
  },
  "latex_envs": {
   "LaTeX_envs_menu_present": true,
   "autoclose": false,
   "autocomplete": true,
   "bibliofile": "biblio.bib",
   "cite_by": "apalike",
   "current_citInitial": 1,
   "eqLabelWithNumbers": true,
   "eqNumInitial": 1,
   "hotkeys": {
    "equation": "Ctrl-E",
    "itemize": "Ctrl-I"
   },
   "labels_anchors": false,
   "latex_user_defs": false,
   "report_style_numbering": false,
   "user_envs_cfg": false
  }
 },
 "nbformat": 4,
 "nbformat_minor": 4
}
