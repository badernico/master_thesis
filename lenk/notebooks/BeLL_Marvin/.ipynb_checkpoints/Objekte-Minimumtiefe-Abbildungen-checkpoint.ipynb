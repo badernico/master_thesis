{
 "cells": [
  {
   "cell_type": "code",
   "execution_count": 7,
   "metadata": {},
   "outputs": [],
   "source": [
    "import numpy as np\n",
    "import xarray as xr\n",
    "import pandas as pd\n",
    "\n",
    "import matplotlib.pyplot as plt\n",
    "%matplotlib inline\n",
    "\n",
    "from standard_config import *\n",
    "import sys\n",
    "sys.path.append(\"{}/utils/tracking\".format(local_home_path))\n",
    "import object_tracking as ot\n",
    "import segmentation as oseg\n",
    "\n",
    "import fixed_colourbar as fc\n",
    "\n",
    "import glob\n",
    "import tqdm \n",
    "\n",
    "from skimage.morphology import extrema"
   ]
  },
  {
   "cell_type": "code",
   "execution_count": 3,
   "metadata": {},
   "outputs": [],
   "source": [
    "data_path = \"{}/SEVIRI\".format(local_data_path)\n",
    "sat_files = glob.glob(\"{}/*.nc\".format(data_path))"
   ]
  },
  {
   "cell_type": "code",
   "execution_count": 4,
   "metadata": {},
   "outputs": [],
   "source": [
    "rmin,rmax,cmin,cmax = (60,270,450,630)"
   ]
  },
  {
   "cell_type": "code",
   "execution_count": 5,
   "metadata": {},
   "outputs": [
    {
     "name": "stderr",
     "output_type": "stream",
     "text": [
      "100%|██████████| 288/288 [00:07<00:00, 37.37it/s]\n"
     ]
    }
   ],
   "source": [
    "sat_data = {'ir108':[]}\n",
    "for sf in tqdm.tqdm(sorted(sat_files)):\n",
    "    sd = xr.open_dataset(sf)\n",
    "    \n",
    "    ir108 = sd.IR_108.data[0][rmin:rmax,cmin:cmax]\n",
    "    \n",
    "    sat_data['ir108'].append(ir108)\n",
    "\n",
    "    sd.close()"
   ]
  },
  {
   "cell_type": "code",
   "execution_count": 8,
   "metadata": {},
   "outputs": [],
   "source": [
    "plt.switch_backend(\"Agg\")"
   ]
  },
  {
   "cell_type": "code",
   "execution_count": 26,
   "metadata": {},
   "outputs": [],
   "source": [
    "t = pd.date_range(start=\"20100524T0000\",end=\"20100524T2355\",freq=\"5min\")"
   ]
  },
  {
   "cell_type": "code",
   "execution_count": 30,
   "metadata": {},
   "outputs": [
    {
     "name": "stderr",
     "output_type": "stream",
     "text": [
      "\n",
      "  0%|          | 0/6 [00:00<?, ?it/s]\u001b[A\n",
      " 17%|█▋        | 1/6 [08:17<41:26, 497.35s/it]\u001b[A\n",
      " 33%|███▎      | 2/6 [14:46<30:59, 464.79s/it]\u001b[A\n",
      " 50%|█████     | 3/6 [20:15<21:12, 424.03s/it]\u001b[A\n",
      " 67%|██████▋   | 4/6 [24:56<12:42, 381.31s/it]\u001b[A\n",
      " 83%|████████▎ | 5/6 [29:08<05:42, 342.41s/it]\u001b[A\n",
      "100%|██████████| 6/6 [33:05<00:00, 330.89s/it]\u001b[A\n"
     ]
    }
   ],
   "source": [
    "for d in tqdm.tqdm(np.arange(5,11)):\n",
    "    objects = xr.open_dataset(\"{}/2019-09_bell/objektmaske_20100524_de_{:02d}K.nc\".format(proj_path,d),\n",
    "                             decode_cf=False)\n",
    "    \n",
    "    for io, om in enumerate(objects.object_mask):\n",
    "        minima = extrema.h_minima(sat_data['ir108'][io],d)\n",
    "        fig,ax = plt.subplots(1,1,figsize=(10,10))\n",
    "        ax.imshow(sat_data['ir108'][io],vmin=210,vmax=300,cmap='gray_r')\n",
    "        ax.imshow(np.ma.masked_less(minima,1),cmap='Reds')\n",
    "        ax.contour(om,np.unique(om)[1:],cmap='nipy_spectral')\n",
    "        ax.set_title(\"IR-10,8-µm-Kanal, Objektmaske\\nund lokale Minima mit Tiefe {} K, {}\".format(d,t[io].strftime(\"%d.%m.%Y %H:%M UTC\")))\n",
    "        plt.savefig(\"/vols/satellite/home/lenk/pics/20100425/objekte/{:02d}K/objekte_{}.png\".format(d,t[io].strftime(\"%Y%d%mT%H%M\")),bbox_inches=\"tight\")\n",
    "        plt.close()"
   ]
  }
 ],
 "metadata": {
  "kernelspec": {
   "display_name": "Python 3",
   "language": "python",
   "name": "python3"
  },
  "language_info": {
   "codemirror_mode": {
    "name": "ipython",
    "version": 3
   },
   "file_extension": ".py",
   "mimetype": "text/x-python",
   "name": "python",
   "nbconvert_exporter": "python",
   "pygments_lexer": "ipython3",
   "version": "3.7.4"
  },
  "latex_envs": {
   "LaTeX_envs_menu_present": true,
   "autoclose": false,
   "autocomplete": true,
   "bibliofile": "biblio.bib",
   "cite_by": "apalike",
   "current_citInitial": 1,
   "eqLabelWithNumbers": true,
   "eqNumInitial": 1,
   "hotkeys": {
    "equation": "Ctrl-E",
    "itemize": "Ctrl-I"
   },
   "labels_anchors": false,
   "latex_user_defs": false,
   "report_style_numbering": false,
   "user_envs_cfg": false
  }
 },
 "nbformat": 4,
 "nbformat_minor": 4
}
