{
 "cells": [
  {
   "cell_type": "markdown",
   "metadata": {},
   "source": [
    "# TDO-Objekte nach Haberlie et al. (2015)\n",
    "\n",
    "Dies ist eine Pythonimplementierung des Algorithmus, der in Haberlie et al. (2015) vorgestellt wird, und dessen Ziel es ist, neu enstehende konvektive Bereiche zu finden.\n",
    "\n",
    "Das Grundidee des Algorithmus besteht darin, möglichst langlebige neu entstehende konvektiv aktive Bereiche in einem Stapel mit Wetterradardaten zu erkennen. Die Trennung zwischen konvektiv aktiven und inaktiven Bereichen erfolgt über einen Schwellwert, z.B. Z > 35 dBZ. Das heißt alle Bereiche mit einer Reflektivtät über diesem Schwellwert werden zumindest theoretisch als konvektiv aktiver Bereich betrachtet. Die Trennung von neu entstehenden und schon länger aktiven konvektiven Bereichen erfolgt über eine Abstandspufferung mit einem gegebenen Pufferabstand um bereits länger aktive Bereiche. Alle neu auftauchenden Pixel deren Radarreflektivitätsfaktor über dem Schwellwert liegt und die außerhalb des Puffers liegen werden als neue konvektiv aktive Objekte betrachtet. Diese neuen konvektiv aktiven Objekte werden dann per Overlap-Tracking über eine gegebene Anzahl von Zeitschritten (im Original 7) verfolgt. Wenn sie nach der gegebene Zeit noch aktiv sind, werden sie als tatsächlich konvektiv aktive \"Time-Domain-Objects\" (TDO) gespeichert. \n",
    "\n",
    "Zunächst müssen einige nötige Pakete eingebunden werden. Diese Implementierung benötigt numpy, scipy, scikit-image, matplotlib und copy."
   ]
  },
  {
   "cell_type": "code",
   "execution_count": 27,
   "metadata": {
    "collapsed": false
   },
   "outputs": [],
   "source": [
    "%matplotlib inline\n",
    "import numpy as np\n",
    "\n",
    "from scipy import ndimage as ndi\n",
    "from skimage import morphology \n",
    "\n",
    "import copy\n",
    "\n",
    "import matplotlib.pyplot as plt"
   ]
  },
  {
   "cell_type": "markdown",
   "metadata": {},
   "source": [
    "Dann müssen Wetterradardaten geladen werden, die idealerweise schon mit einem Radarschwellwert vormaskiert sind. Für dieses Beispiel, laden wir RADOLAN-Daten für den 28.07.2012 11:00 bis 11:30. Wir laden also die Radatdaten für sieben aufeinander folgende Zeitschritte. Dazu müssen wir weitere Pakete einbinden:"
   ]
  },
  {
   "cell_type": "code",
   "execution_count": 2,
   "metadata": {
    "collapsed": false
   },
   "outputs": [],
   "source": [
    "from io_tools import radolan as rado\n",
    "import datetime"
   ]
  },
  {
   "cell_type": "markdown",
   "metadata": {},
   "source": [
    "Dann erstellen wir eine Liste mit den nötigen Zeitschitten."
   ]
  },
  {
   "cell_type": "code",
   "execution_count": 16,
   "metadata": {
    "collapsed": false
   },
   "outputs": [],
   "source": [
    "start_time = datetime.datetime(2012,7,28,11,0)\n",
    "end_time = datetime.datetime(2012,7,28,11,35)\n",
    "\n",
    "time_list = []\n",
    "    \n",
    "while start_time <= end_time:\n",
    "    time_list.append(start_time)\n",
    "    start_time += datetime.timedelta(minutes=5)"
   ]
  },
  {
   "cell_type": "markdown",
   "metadata": {},
   "source": [
    "Nun laden wir die Radardaten und maskieren sie mit einem Schwellwert von Z = 35 dBZ."
   ]
  },
  {
   "cell_type": "code",
   "execution_count": 17,
   "metadata": {
    "collapsed": false
   },
   "outputs": [],
   "source": [
    "radar_threshold = 35\n",
    "rado_stack = []\n",
    "\n",
    "for t in time_list:\n",
    "    r = rado.Radolan()\n",
    "    r.read(t,rproduct='rx_hdcp2')\n",
    "    Z = r.data\n",
    "    Zm = np.ma.masked_where(Z < radar_threshold,Z)\n",
    "\n",
    "    rado_stack.append(Zm)"
   ]
  },
  {
   "cell_type": "markdown",
   "metadata": {},
   "source": [
    "Der nächste Schritt ist, die Pufferung des ersten Zeitschrittes der maskierten Daten. Als Pufferradius nehmen wir hier 15 km."
   ]
  },
  {
   "cell_type": "code",
   "execution_count": 20,
   "metadata": {
    "collapsed": false
   },
   "outputs": [],
   "source": [
    "buffer_radius = 15\n",
    "\n",
    "kernel = morphology.disk(buffer_radius)\n",
    "binary_field = ~rado_stack[0].mask * 1\n",
    "\n",
    "buffered_t0 = ndi.morphology.binary_dilation(binary_field==1,structure=kernel)"
   ]
  },
  {
   "cell_type": "markdown",
   "metadata": {},
   "source": [
    "Nun suchen wir die wirklich neuen konvektiv aktiven Pixel im nächsten Zeitschritt. Dazu suchen wir erstmal alle Pixel heraus, die interessant sein könnten:"
   ]
  },
  {
   "cell_type": "code",
   "execution_count": 21,
   "metadata": {
    "collapsed": false
   },
   "outputs": [],
   "source": [
    "convectively_active_pixels_t1 = ~rado_stack[1].mask * 1"
   ]
  },
  {
   "cell_type": "markdown",
   "metadata": {},
   "source": [
    "Dann überprüfen wir, welche Pixel außerhalb der Puffer des ersten Zeitschrittes liegen."
   ]
  },
  {
   "cell_type": "code",
   "execution_count": 23,
   "metadata": {
    "collapsed": true
   },
   "outputs": [],
   "source": [
    "buffer_check = buffered_t0 + convectively_active_pixels_t1*3 "
   ]
  },
  {
   "cell_type": "markdown",
   "metadata": {},
   "source": [
    "Jetzt sollten alle tatsächlich neu hinzugekommenen Pixel, die nicht innerhalb der Puffer liegen den Wert 3 haben, während die Pufferpixel = 1 sind und die in den Puffern liegenden neuen Pixel den Wert vier haben. Um die interessanten neuen Pixel von den anderen zu trennen, wird alles dessen Wert nicht gleich drei ist auf null gesetzt und dann die ganze Matrix durch drei geteilt. Nun sollten nur noch die interessanten Pixel vorhanden sein und den Wert eins haben."
   ]
  },
  {
   "cell_type": "code",
   "execution_count": 24,
   "metadata": {
    "collapsed": false
   },
   "outputs": [],
   "source": [
    "convective_initiation_t1 = buffer_check.copy() \n",
    "    \n",
    "convective_initiation_t1[np.where(convective_initiation_t1!=3)] = 0\n",
    "convective_initiation_t1 = convective_initiation_t1 / 3 "
   ]
  },
  {
   "cell_type": "markdown",
   "metadata": {},
   "source": [
    "Darstellung, um visuell zu überprüfen, ob wir neue interessante Pixel haben:"
   ]
  },
  {
   "cell_type": "code",
   "execution_count": 29,
   "metadata": {
    "collapsed": false
   },
   "outputs": [
    {
     "data": {
      "text/plain": [
       "<matplotlib.image.AxesImage at 0x7ff40304f9d0>"
      ]
     },
     "execution_count": 29,
     "metadata": {},
     "output_type": "execute_result"
    },
    {
     "data": {
      "image/png": "[encoded data removed]",
      "text/plain": [
       "<matplotlib.figure.Figure at 0x7ff4031ec450>"
      ]
     },
     "metadata": {},
     "output_type": "display_data"
    }
   ],
   "source": [
    "plt.imshow(convective_initiation_t1,cmap='gray',interpolation='none')"
   ]
  },
  {
   "cell_type": "markdown",
   "metadata": {},
   "source": [
    "Es gibt tatsächlich Bereiche, die interessant sein könnten."
   ]
  },
  {
   "cell_type": "markdown",
   "metadata": {},
   "source": [
    "Nun wird aus dieser Ebene und den nächsten Zeitschritten ein Stapel gebildet."
   ]
  },
  {
   "cell_type": "code",
   "execution_count": 42,
   "metadata": {
    "collapsed": false
   },
   "outputs": [],
   "source": [
    "analysis_stack = [convective_initiation_t1]\n",
    "   \n",
    "for i in xrange(2,len(time_list)):\n",
    "        analysis_stack.append(~rado_stack[i].mask*1)"
   ]
  },
  {
   "cell_type": "markdown",
   "metadata": {},
   "source": [
    "Auf diesen Stapel wird jetzt dreidimensionales Connected-Component-Labeling mit einer 26er Nachbarschaft durchgeführt, um die interessanten Pixel zu verfolgen."
   ]
  },
  {
   "cell_type": "code",
   "execution_count": 34,
   "metadata": {
    "collapsed": false
   },
   "outputs": [],
   "source": [
    " clustered, clusternumber = ndi.measurements.label(analysis_stack, structure=morphology.cube(3))"
   ]
  },
  {
   "cell_type": "markdown",
   "metadata": {},
   "source": [
    "Dabei ergeben sich in allen Zeitschritten neue Objekte. Uns interessieren aber nur die aus dem ersten Zeitschritt unseres Stapels. Deshalb extrahieren wir deren Bezeichnung und ihre Pixelanzahl."
   ]
  },
  {
   "cell_type": "code",
   "execution_count": 36,
   "metadata": {
    "collapsed": false
   },
   "outputs": [
    {
     "name": "stdout",
     "output_type": "stream",
     "text": [
      "[ 0  1  2  3  4  5  6  7  8  9 10 11 12 13 14 15] [809949      1      1      2      1      1      3     20      1      7\n",
      "      1      1      1      8      2      1]\n"
     ]
    }
   ],
   "source": [
    "labels, counts = np.unique(clustered[0],return_counts=True) \n",
    "print labels,counts"
   ]
  },
  {
   "cell_type": "markdown",
   "metadata": {},
   "source": [
    "In diesem Fall gibt es im ersten Zeitschritt 15 verschieden Objekte. Davon bezeichnet 0 denn Hintergrund. Die meisten Objekte sind ziemlich klein, aber es gibt auch ein paar größere. Das können neue Objekte sein, aber auch welche, die in den vom Radarnetzwerk abgedeckten Bereich hinengewandert sind.\n",
    "\n",
    "Da wir nun die Bezeichnung aller interessanten Objekte aus dem ersten Zeitschritt kennen, können wir alle Objekte, die sich danach entwickelten, entfernen."
   ]
  },
  {
   "cell_type": "code",
   "execution_count": 37,
   "metadata": {
    "collapsed": true
   },
   "outputs": [],
   "source": [
    "convective_clusters = copy.deepcopy(clustered)\n",
    "\n",
    "for i in xrange(1,len(convective_clusters)):\n",
    "    convective_clusters[i][np.where(convective_clusters[i]>np.max(labels))] = 0"
   ]
  },
  {
   "cell_type": "markdown",
   "metadata": {},
   "source": [
    "Nun können wir kontrollieren, welche Objekte, die im ersten Zeitschritt enstanden sind, noch bis zum letzten überdauert haben."
   ]
  },
  {
   "cell_type": "code",
   "execution_count": 41,
   "metadata": {
    "collapsed": false
   },
   "outputs": [
    {
     "name": "stdout",
     "output_type": "stream",
     "text": [
      "[6, 7, 13]\n"
     ]
    }
   ],
   "source": [
    "convective_index = np.unique(convective_clusters[-1])\n",
    "convective_index_list = convective_index.tolist()\n",
    "convective_index_list.remove(0) # remove background\n",
    "\n",
    "print(convective_index_list)"
   ]
  },
  {
   "cell_type": "markdown",
   "metadata": {},
   "source": [
    "In diesem Fall sind es drei Objekte."
   ]
  },
  {
   "cell_type": "code",
   "execution_count": 52,
   "metadata": {
    "collapsed": false,
    "scrolled": false
   },
   "outputs": [
    {
     "data": {
      "text/plain": [
       "<matplotlib.image.AxesImage at 0x7ff3ff2abe90>"
      ]
     },
     "execution_count": 52,
     "metadata": {},
     "output_type": "execute_result"
    },
    {
     "data": {
      "image/png": "[encoded data removed]",
      "text/plain": [
       "<matplotlib.figure.Figure at 0x7ff3ff701d50>"
      ]
     },
     "metadata": {},
     "output_type": "display_data"
    }
   ],
   "source": [
    "objekte_t1 = copy.deepcopy(clustered[0])\n",
    "\n",
    "objekte_t1[np.where(objekte_t1<6)] = 0\n",
    "objekte_t1[np.where(np.logical_and(objekte_t1>7,objekte_t1<13))] = 0\n",
    "objekte_t1[np.where(objekte_t1>13)] = 0\n",
    "objekte_t1[np.where(objekte_t1!=0)] = 1\n",
    "\n",
    "plt.imshow(objekte_t1,cmap=\"gray\",interpolation='none')"
   ]
  }
 ],
 "metadata": {
  "kernelspec": {
   "display_name": "Python 2",
   "language": "python",
   "name": "python2"
  },
  "language_info": {
   "codemirror_mode": {
    "name": "ipython",
    "version": 2
   },
   "file_extension": ".py",
   "mimetype": "text/x-python",
   "name": "python",
   "nbconvert_exporter": "python",
   "pygments_lexer": "ipython2",
   "version": "2.7.11"
  }
 },
 "nbformat": 4,
 "nbformat_minor": 0
}
