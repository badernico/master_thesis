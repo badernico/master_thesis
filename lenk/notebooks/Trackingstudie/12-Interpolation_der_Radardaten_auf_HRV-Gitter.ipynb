{
 "cells": [
  {
   "cell_type": "markdown",
   "metadata": {},
   "source": [
    "# Objekte mit CI\n",
    "\n",
    "Als nächstes suchen wir uns in den Radardaten CI-Objekte und sehen dann, ob wir Wolkenobjekte mit einem CI finden können."
   ]
  },
  {
   "cell_type": "code",
   "execution_count": 1,
   "metadata": {},
   "outputs": [
    {
     "ename": "NameError",
     "evalue": "name 'dates' is not defined",
     "output_type": "error",
     "traceback": [
      "\u001b[0;31m---------------------------------------------------------------------------\u001b[0m",
      "\u001b[0;31mNameError\u001b[0m                                 Traceback (most recent call last)",
      "\u001b[0;32m<ipython-input-1-12d8d3ee2561>\u001b[0m in \u001b[0;36m<module>\u001b[0;34m()\u001b[0m\n\u001b[1;32m      1\u001b[0m \u001b[0mrx_path\u001b[0m \u001b[0;34m=\u001b[0m \u001b[0;34m\"/vols/talos/datasets/radolan/rx_hdcp2/\"\u001b[0m\u001b[0;34m\u001b[0m\u001b[0m\n\u001b[1;32m      2\u001b[0m \u001b[0;34m\u001b[0m\u001b[0m\n\u001b[0;32m----> 3\u001b[0;31m rx_file_pattern = \"{}/{}/*_{}*.nc\".format(rx_path,dates[0].to_pydatetime().year,\n\u001b[0m\u001b[1;32m      4\u001b[0m                                           dates[0].to_pydatetime().strftime(\"%Y%m%d\"))\n",
      "\u001b[0;31mNameError\u001b[0m: name 'dates' is not defined"
     ]
    }
   ],
   "source": [
    "rx_path = \"/vols/talos/datasets/radolan/rx_hdcp2/\"\n",
    "\n",
    "rx_file_pattern = \"{}/{}/*_{}*.nc\".format(rx_path,dates[0].to_pydatetime().year,\n",
    "                                          dates[0].to_pydatetime().strftime(\"%Y%m%d\"))"
   ]
  }
 ],
 "metadata": {
  "kernelspec": {
   "display_name": "Python 2",
   "language": "python",
   "name": "python2"
  },
  "language_info": {
   "codemirror_mode": {
    "name": "ipython",
    "version": 2
   },
   "file_extension": ".py",
   "mimetype": "text/x-python",
   "name": "python",
   "nbconvert_exporter": "python",
   "pygments_lexer": "ipython2",
   "version": "2.7.11"
  }
 },
 "nbformat": 4,
 "nbformat_minor": 2
}
