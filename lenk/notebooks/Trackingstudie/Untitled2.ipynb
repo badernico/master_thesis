{
 "cells": [
  {
   "cell_type": "markdown",
   "metadata": {},
   "source": [
    "# Trackensemble als Trackingreferenz\n",
    "\n",
    "Um unabhängiger von der Objektdefinition als Referenz zu werden, könnte man einen Ensemblemittelwert aus allen Tracks der Trackexperimente benutzen. Zuerst laden wir uns die benötigten Pakete und dann sehen wir uns mal ein Beispiel an."
   ]
  },
  {
   "cell_type": "code",
   "execution_count": 5,
   "metadata": {
    "collapsed": true
   },
   "outputs": [],
   "source": [
    "import numpy as np\n",
    "import pandas as pd\n",
    "import xarray as xr\n",
    "\n",
    "import matplotlib.pyplot as plt\n",
    "%matplotlib inline\n",
    "\n",
    "import glob"
   ]
  },
  {
   "cell_type": "markdown",
   "metadata": {},
   "source": [
    "## Kreuzkorrelation mit Beispiel"
   ]
  },
  {
   "cell_type": "code",
   "execution_count": 7,
   "metadata": {
    "collapsed": true
   },
   "outputs": [],
   "source": [
    "track_id = \"20130618_88\""
   ]
  },
  {
   "cell_type": "code",
   "execution_count": 6,
   "metadata": {},
   "outputs": [
    {
     "ename": "NameError",
     "evalue": "name 'track_id' is not defined",
     "output_type": "error",
     "traceback": [
      "\u001b[0;31m---------------------------------------------------------------------------\u001b[0m",
      "\u001b[0;31mNameError\u001b[0m                                 Traceback (most recent call last)",
      "\u001b[0;32m<ipython-input-6-32def6eba394>\u001b[0m in \u001b[0;36m<module>\u001b[0;34m()\u001b[0m\n\u001b[0;32m----> 1\u001b[0;31m \u001b[0mtrack_data\u001b[0m \u001b[0;34m=\u001b[0m \u001b[0mxr\u001b[0m\u001b[0;34m.\u001b[0m\u001b[0mopen_dataset\u001b[0m\u001b[0;34m(\u001b[0m\u001b[0;34m\"/vols/talos/home/stephan/data/radar_track/trackdata/haci_trackdata_{}.nc\"\u001b[0m\u001b[0;34m.\u001b[0m\u001b[0mformat\u001b[0m\u001b[0;34m(\u001b[0m\u001b[0mtrack_id\u001b[0m\u001b[0;34m)\u001b[0m\u001b[0;34m)\u001b[0m\u001b[0;34m\u001b[0m\u001b[0m\n\u001b[0m",
      "\u001b[0;31mNameError\u001b[0m: name 'track_id' is not defined"
     ]
    }
   ],
   "source": [
    "track_data = xr.open_dataset(\"/vols/talos/home/stephan/data/radar_track/trackdata/haci_trackdata_{}.nc\".format(track_id))"
   ]
  },
  {
   "cell_type": "code",
   "execution_count": 8,
   "metadata": {
    "collapsed": true
   },
   "outputs": [],
   "source": [
    "flow_dir = \"/vols/talos/home/stephan/proj/2019-01_trackingstudie/data/tracking_experiments/flow_data/cross_correlation/\""
   ]
  },
  {
   "cell_type": "code",
   "execution_count": 9,
   "metadata": {
    "collapsed": true
   },
   "outputs": [],
   "source": [
    "flows = glob.glob(\"{}flow_{}*\".format(flow_dir,track_id))"
   ]
  },
  {
   "cell_type": "code",
   "execution_count": 23,
   "metadata": {},
   "outputs": [
    {
     "name": "stdout",
     "output_type": "stream",
     "text": [
      "['/vols/talos/home/stephan/proj/2019-01_trackingstudie/data/tracking_experiments/flow_data/cross_correlation/flow_20130618_88_cc_experiment_0.nc', '/vols/talos/home/stephan/proj/2019-01_trackingstudie/data/tracking_experiments/flow_data/cross_correlation/flow_20130618_88_cc_experiment_1.nc', '/vols/talos/home/stephan/proj/2019-01_trackingstudie/data/tracking_experiments/flow_data/cross_correlation/flow_20130618_88_cc_experiment_2.nc', '/vols/talos/home/stephan/proj/2019-01_trackingstudie/data/tracking_experiments/flow_data/cross_correlation/flow_20130618_88_cc_experiment_3.nc']\n"
     ]
    }
   ],
   "source": [
    "print flows"
   ]
  },
  {
   "cell_type": "code",
   "execution_count": 12,
   "metadata": {},
   "outputs": [],
   "source": [
    "flow_data = {i:[] for i in np.arange(0,4)}"
   ]
  },
  {
   "cell_type": "code",
   "execution_count": 14,
   "metadata": {},
   "outputs": [],
   "source": [
    "for i in np.arange(0,4):\n",
    "    flow_data[i] = xr.open_dataset(flows[i])"
   ]
  },
  {
   "cell_type": "code",
   "execution_count": 15,
   "metadata": {},
   "outputs": [
    {
     "data": {
      "text/plain": [
       "{0: <xarray.Dataset>\n",
       " Dimensions:     (time_end: 12, time_start: 12, x: 51, y: 51)\n",
       " Coordinates:\n",
       "     lat         (x, y) float32 51.729527 51.729755 51.730183 51.730587 ...\n",
       "   * time_start  (time_start) datetime64[ns] 2013-06-18T12:30:00 ...\n",
       "     lon         (x, y) float32 12.143866 12.190305 12.236766 12.283228 ...\n",
       "   * time_end    (time_end) datetime64[ns] 2013-06-18T12:25:00 ...\n",
       " Dimensions without coordinates: x, y\n",
       " Data variables:\n",
       "     u           (time_end, x, y) float64 0.0 0.0 0.0 0.0 0.0 0.0 0.0 0.0 0.0 ...\n",
       "     v           (time_end, x, y) float64 0.0 0.0 0.0 0.0 0.0 0.0 0.0 0.0 0.0 ...\n",
       " Attributes:\n",
       "     title:    Flow derived by cross correlation tracking  with a box size of ...,\n",
       " 1: <xarray.Dataset>\n",
       " Dimensions:     (time_end: 12, time_start: 12, x: 51, y: 51)\n",
       " Coordinates:\n",
       "     lat         (x, y) float32 51.729527 51.729755 51.730183 51.730587 ...\n",
       "   * time_start  (time_start) datetime64[ns] 2013-06-18T12:30:00 ...\n",
       "     lon         (x, y) float32 12.143866 12.190305 12.236766 12.283228 ...\n",
       "   * time_end    (time_end) datetime64[ns] 2013-06-18T12:25:00 ...\n",
       " Dimensions without coordinates: x, y\n",
       " Data variables:\n",
       "     u           (time_end, x, y) float64 0.0 0.0 0.0 0.0 0.0 0.0 0.0 0.0 0.0 ...\n",
       "     v           (time_end, x, y) float64 0.0 0.0 0.0 0.0 0.0 0.0 1.0 1.0 1.0 ...\n",
       " Attributes:\n",
       "     title:    Flow derived by cross correlation tracking  with a box size of ...,\n",
       " 2: <xarray.Dataset>\n",
       " Dimensions:     (time_end: 12, time_start: 12, x: 51, y: 51)\n",
       " Coordinates:\n",
       "     lat         (x, y) float32 51.729527 51.729755 51.730183 51.730587 ...\n",
       "   * time_start  (time_start) datetime64[ns] 2013-06-18T12:30:00 ...\n",
       "     lon         (x, y) float32 12.143866 12.190305 12.236766 12.283228 ...\n",
       "   * time_end    (time_end) datetime64[ns] 2013-06-18T12:25:00 ...\n",
       " Dimensions without coordinates: x, y\n",
       " Data variables:\n",
       "     u           (time_end, x, y) float64 1.0 1.0 1.0 1.0 1.0 1.0 1.0 1.0 1.0 ...\n",
       "     v           (time_end, x, y) float64 0.0 0.0 0.0 0.0 0.0 0.0 0.0 0.0 0.0 ...\n",
       " Attributes:\n",
       "     title:    Flow derived by cross correlation tracking  with a box size of ...,\n",
       " 3: <xarray.Dataset>\n",
       " Dimensions:     (time_end: 12, time_start: 12, x: 51, y: 51)\n",
       " Coordinates:\n",
       "     lat         (x, y) float32 51.729527 51.729755 51.730183 51.730587 ...\n",
       "   * time_start  (time_start) datetime64[ns] 2013-06-18T12:30:00 ...\n",
       "     lon         (x, y) float32 12.143866 12.190305 12.236766 12.283228 ...\n",
       "   * time_end    (time_end) datetime64[ns] 2013-06-18T12:25:00 ...\n",
       " Dimensions without coordinates: x, y\n",
       " Data variables:\n",
       "     u           (time_end, x, y) float64 0.0 0.0 0.0 0.0 0.0 0.0 0.0 0.0 0.0 ...\n",
       "     v           (time_end, x, y) float64 0.0 0.0 0.0 0.0 0.0 0.0 0.0 0.0 0.0 ...\n",
       " Attributes:\n",
       "     title:    Flow derived by cross correlation tracking  with a box size of ...}"
      ]
     },
     "execution_count": 15,
     "metadata": {},
     "output_type": "execute_result"
    }
   ],
   "source": [
    "flow_data"
   ]
  },
  {
   "cell_type": "code",
   "execution_count": 25,
   "metadata": {},
   "outputs": [
    {
     "ename": "IndexError",
     "evalue": "index 12 is out of bounds for axis 0 with size 12",
     "output_type": "error",
     "traceback": [
      "\u001b[0;31m---------------------------------------------------------------------------\u001b[0m",
      "\u001b[0;31mIndexError\u001b[0m                                Traceback (most recent call last)",
      "\u001b[0;32m<ipython-input-25-4849411d11d7>\u001b[0m in \u001b[0;36m<module>\u001b[0;34m()\u001b[0m\n\u001b[1;32m      2\u001b[0m \u001b[0;32mfor\u001b[0m \u001b[0mi\u001b[0m \u001b[0;32min\u001b[0m \u001b[0mnp\u001b[0m\u001b[0;34m.\u001b[0m\u001b[0marange\u001b[0m\u001b[0;34m(\u001b[0m\u001b[0;36m0\u001b[0m\u001b[0;34m,\u001b[0m\u001b[0;36m4\u001b[0m\u001b[0;34m)\u001b[0m\u001b[0;34m:\u001b[0m\u001b[0;34m\u001b[0m\u001b[0m\n\u001b[1;32m      3\u001b[0m     \u001b[0;32mfor\u001b[0m \u001b[0mt\u001b[0m \u001b[0;32min\u001b[0m \u001b[0mnp\u001b[0m\u001b[0;34m.\u001b[0m\u001b[0marange\u001b[0m\u001b[0;34m(\u001b[0m\u001b[0;36m0\u001b[0m\u001b[0;34m,\u001b[0m\u001b[0;36m13\u001b[0m\u001b[0;34m)\u001b[0m\u001b[0;34m:\u001b[0m\u001b[0;34m\u001b[0m\u001b[0m\n\u001b[0;32m----> 4\u001b[0;31m         \u001b[0max\u001b[0m\u001b[0;34m[\u001b[0m\u001b[0mt\u001b[0m\u001b[0;34m,\u001b[0m\u001b[0;36m0\u001b[0m\u001b[0;34m]\u001b[0m \u001b[0;34m=\u001b[0m \u001b[0mplt\u001b[0m\u001b[0;34m.\u001b[0m\u001b[0mimshow\u001b[0m\u001b[0;34m(\u001b[0m\u001b[0mflow_data\u001b[0m\u001b[0;34m[\u001b[0m\u001b[0mi\u001b[0m\u001b[0;34m]\u001b[0m\u001b[0;34m.\u001b[0m\u001b[0mu\u001b[0m\u001b[0;34m.\u001b[0m\u001b[0mdata\u001b[0m\u001b[0;34m[\u001b[0m\u001b[0mt\u001b[0m\u001b[0;34m]\u001b[0m\u001b[0;34m,\u001b[0m\u001b[0mvmin\u001b[0m\u001b[0;34m=\u001b[0m\u001b[0;34m-\u001b[0m\u001b[0;36m1\u001b[0m\u001b[0;34m,\u001b[0m\u001b[0mvmax\u001b[0m\u001b[0;34m=\u001b[0m\u001b[0;36m1\u001b[0m\u001b[0;34m,\u001b[0m\u001b[0mcmap\u001b[0m\u001b[0;34m=\u001b[0m\u001b[0;34m'RdBu_r'\u001b[0m\u001b[0;34m)\u001b[0m\u001b[0;34m\u001b[0m\u001b[0m\n\u001b[0m\u001b[1;32m      5\u001b[0m         \u001b[0max\u001b[0m\u001b[0;34m[\u001b[0m\u001b[0mt\u001b[0m\u001b[0;34m,\u001b[0m\u001b[0;36m1\u001b[0m\u001b[0;34m]\u001b[0m \u001b[0;34m=\u001b[0m \u001b[0mplt\u001b[0m\u001b[0;34m.\u001b[0m\u001b[0mimshow\u001b[0m\u001b[0;34m(\u001b[0m\u001b[0mflow_data\u001b[0m\u001b[0;34m[\u001b[0m\u001b[0mi\u001b[0m\u001b[0;34m]\u001b[0m\u001b[0;34m.\u001b[0m\u001b[0mv\u001b[0m\u001b[0;34m.\u001b[0m\u001b[0mdata\u001b[0m\u001b[0;34m[\u001b[0m\u001b[0mt\u001b[0m\u001b[0;34m]\u001b[0m\u001b[0;34m,\u001b[0m\u001b[0mvmin\u001b[0m\u001b[0;34m=\u001b[0m\u001b[0;34m-\u001b[0m\u001b[0;36m1\u001b[0m\u001b[0;34m,\u001b[0m\u001b[0mvmax\u001b[0m\u001b[0;34m=\u001b[0m\u001b[0;36m1\u001b[0m\u001b[0;34m,\u001b[0m\u001b[0mcmap\u001b[0m\u001b[0;34m=\u001b[0m\u001b[0;34m'RdBu_r'\u001b[0m\u001b[0;34m)\u001b[0m\u001b[0;34m\u001b[0m\u001b[0m\n",
      "\u001b[0;31mIndexError\u001b[0m: index 12 is out of bounds for axis 0 with size 12"
     ]
    },
    {
     "data": {
      "image/png": "[encoded data removed]",
      "text/plain": [
       "<Figure size 1152x576 with 26 Axes>"
      ]
     },
     "metadata": {},
     "output_type": "display_data"
    }
   ],
   "source": [
    "fig,ax = plt.subplots(13,2,figsize=(16,8))\n",
    "for i in np.arange(0,4):\n",
    "    for t in np.arange(0,13):\n",
    "        ax[t,0] = plt.imshow(flow_data[i].u.data[t],vmin=-1,vmax=1,cmap='RdBu_r')\n",
    "        ax[t,1] = plt.imshow(flow_data[i].v.data[t],vmin=-1,vmax=1,cmap='RdBu_r')"
   ]
  },
  {
   "cell_type": "code",
   "execution_count": 28,
   "metadata": {},
   "outputs": [
    {
     "data": {
      "text/plain": [
       "array([0.])"
      ]
     },
     "execution_count": 28,
     "metadata": {},
     "output_type": "execute_result"
    }
   ],
   "source": [
    "np.unique(flow_data[3].u.data[10])\n"
   ]
  }
 ],
 "metadata": {
  "kernelspec": {
   "display_name": "Python 3",
   "language": "python",
   "name": "python3"
  },
  "language_info": {
   "codemirror_mode": {
    "name": "ipython",
    "version": 3
   },
   "file_extension": ".py",
   "mimetype": "text/x-python",
   "name": "python",
   "nbconvert_exporter": "python",
   "pygments_lexer": "ipython3",
   "version": "3.7.4"
  }
 },
 "nbformat": 4,
 "nbformat_minor": 2
}
