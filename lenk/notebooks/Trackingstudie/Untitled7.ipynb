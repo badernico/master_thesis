{
 "cells": [
  {
   "cell_type": "code",
   "execution_count": 2,
   "metadata": {},
   "outputs": [],
   "source": [
    "from io_tools import HRIT\n",
    "\n",
    "import datetime as dt\n",
    "\n",
    "from PIL import Image\n",
    "\n",
    "# some functions to produce the NC composite \n",
    "def array_to_256(array):\n",
    "    \"\"\"\n",
    "    Convert array with limits [0,1] into range [0,255].\n",
    "\n",
    "    Input:\n",
    "        * array: numpy array, range [0,1]\n",
    "            array ow which to transform the values\n",
    "\n",
    "    Returns:\n",
    "        * transformed array\n",
    "    \"\"\"\n",
    "    return (array*255.999).astype(\"uint8\")\n",
    "\n",
    "def day_natural_composite(vis006_data,vis008_data,nir016_data,factor=1,gamma=1):\n",
    "    \"\"\"\n",
    "    Create day natural composite after Lensky & Rosenfeld (2008) from given satellite data.\n",
    "\n",
    "    Inputs:\n",
    "        * vis006_data: numpy array\n",
    "            calibrated data from the MSG VIS006 channel\n",
    "        * vis008_data: numpy array\n",
    "            calibrated data from the MSG VIS008 channel\n",
    "        * nir016_data: numpy array\n",
    "            calibrated data from the MSG NIR016 channel\n",
    "        * factor: float, default = 1\n",
    "            factor to scale the arrays for better visual representation\n",
    "        * gamma: float, default = 1\n",
    "            gamma value to stretch distribution of array values\n",
    "\n",
    "    Returns:\n",
    "        * numpy dstack with red, green, blue\n",
    "    \"\"\"\n",
    "    # create colour channels: squeeze daa into the range [0,1] and transform them into the range [0,256]\n",
    "    blue = array_to_256(np.clip(vis006_data/factor,0,1)**(1./gamma))\n",
    "    green = array_to_256(np.clip(vis008_data/factor,0,1)**(1./gamma))\n",
    "    red = array_to_256(np.clip(nir016_data/factor,0,1)**(1./gamma))\n",
    "    \n",
    "    return np.dstack([red,green,blue]).astype(\"uint8\")\n"
   ]
  },
  {
   "cell_type": "code",
   "execution_count": null,
   "metadata": {},
   "outputs": [],
   "source": [
    "t = dt.datetime(2015,5,1,12,0)\n",
    "    \n",
    "# load segment set of the natiral colour composite\n",
    "nc_set = HRIT.channel_segment_sets(\"nc-full\")\n",
    "\n",
    "# load satellite data for nc composite from HRIT files, these are the full earth \"disks\"\n",
    "# you may want to cut them into your region\n",
    "nc_data = HRIT.read_HRIT_data(t, \n",
    "                              chan_seg=nc_set,\n",
    "                              scan_type='pzs')\n",
    "\n",
    "# create NC composite\n",
    "nc_composite = day_natural_composite(nc_data['VIS006'],\n",
    "                                     nc_data['VIS008'],\n",
    "                                     nc_data['IR_016'])"
   ]
  },
  {
   "cell_type": "code",
   "execution_count": null,
   "metadata": {},
   "outputs": [],
   "source": [
    "nc_composite = day_natural_composite(nc_data['VIS006'],\n",
    "                                     nc_data['VIS008'],\n",
    "                                     nc_data['IR_016'])"
   ]
  },
  {
   "cell_type": "code",
   "execution_count": null,
   "metadata": {},
   "outputs": [],
   "source": [
    "import matplotlib.pyplot as plt\n",
    "%matplotlib inline"
   ]
  },
  {
   "cell_type": "code",
   "execution_count": null,
   "metadata": {},
   "outputs": [],
   "source": [
    "fig,ax = plt.subplots(1,1,figsize=(16,16))\n",
    "ax.imshow(nc_composite)"
   ]
  }
 ],
 "metadata": {
  "kernelspec": {
   "display_name": "Python 3",
   "language": "python",
   "name": "python3"
  },
  "language_info": {
   "codemirror_mode": {
    "name": "ipython",
    "version": 3
   },
   "file_extension": ".py",
   "mimetype": "text/x-python",
   "name": "python",
   "nbconvert_exporter": "python",
   "pygments_lexer": "ipython3",
   "version": "3.7.3"
  },
  "latex_envs": {
   "LaTeX_envs_menu_present": true,
   "autoclose": true,
   "autocomplete": true,
   "bibliofile": "biblio.bib",
   "cite_by": "apalike",
   "current_citInitial": 1,
   "eqLabelWithNumbers": true,
   "eqNumInitial": 1,
   "hotkeys": {
    "equation": "Ctrl-E",
    "itemize": "Ctrl-I"
   },
   "labels_anchors": false,
   "latex_user_defs": false,
   "report_style_numbering": false,
   "user_envs_cfg": false
  }
 },
 "nbformat": 4,
 "nbformat_minor": 2
}
