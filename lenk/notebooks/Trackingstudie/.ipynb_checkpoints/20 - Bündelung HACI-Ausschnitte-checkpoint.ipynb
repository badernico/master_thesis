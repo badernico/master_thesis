{
 "cells": [
  {
   "cell_type": "markdown",
   "metadata": {},
   "source": [
    "# Bündelung von HACI-Ausschnitten\n",
    "\n",
    "In diesem Notizbuch geht es darum die HACI-Fälle verschiedener Tage in eine Datei zu bündeln und sinnvoll zu filtern."
   ]
  },
  {
   "cell_type": "code",
   "execution_count": 1,
   "metadata": {
    "collapsed": true
   },
   "outputs": [],
   "source": [
    "import numpy as np\n",
    "import pandas as pd\n",
    "from standard_config import *\n",
    "import glob"
   ]
  },
  {
   "cell_type": "code",
   "execution_count": 2,
   "metadata": {
    "collapsed": true
   },
   "outputs": [],
   "source": [
    "HACI_bbox_folder = \"{}/data/HACI_bbox_data/\".format(local_home_path)"
   ]
  },
  {
   "cell_type": "markdown",
   "metadata": {},
   "source": [
    "Wir sehen uns zunächst mal nur die HACI-Objekte für 2013 an."
   ]
  },
  {
   "cell_type": "code",
   "execution_count": 3,
   "metadata": {
    "collapsed": true
   },
   "outputs": [],
   "source": [
    "days = pd.date_range(start=\"20130101\",end=\"20131231\",freq=\"1d\")"
   ]
  },
  {
   "cell_type": "code",
   "execution_count": 4,
   "metadata": {
    "collapsed": true
   },
   "outputs": [],
   "source": [
    "HACI_2013 = pd.DataFrame()"
   ]
  },
  {
   "cell_type": "markdown",
   "metadata": {},
   "source": [
    "Da wir für die Analyse gerne auch VIS- und HRV-Daten verwenden wollen, müssen wir uns auf den Tag beschränken. Um atmosphärische Streeungseffekte und zu niedrige Sonnenstände zu vermeiden, beschränken wir uns auf den Zeitraum, in dem der Sonnenzenitwinkel &theta; &leq; 80&deg; ist"
   ]
  },
  {
   "cell_type": "code",
   "execution_count": 5,
   "metadata": {
    "collapsed": true
   },
   "outputs": [],
   "source": [
    "times_range = pd.read_csv(\"{}/2019-01_trackingstudie/hrv_time_ranges.csv\".format(proj_path))"
   ]
  },
  {
   "cell_type": "code",
   "execution_count": 7,
   "metadata": {},
   "outputs": [
    {
     "name": "stdout",
     "output_type": "stream",
     "text": [
      "Error File /vols/talos/home/stephan/data/HACI_bbox_data//haci-2013-11-15-bbox.dat does not exist.\n"
     ]
    }
   ],
   "source": [
    "for d in days:\n",
    "    try:\n",
    "        day_time_range = times_range[(times_range.day==int(d.strftime(\"%d\"))) & \n",
    "                                     (times_range.month == int(d.strftime(\"%m\")))]\n",
    "        \n",
    "        start_time_idx = int(day_time_range.start_hour.values) * 12 + int(day_time_range.start_minute.values) // 5\n",
    "        end_time_idx = int(day_time_range.end_hour.values) * 12 + int(day_time_range.end_minute.values) // 5\n",
    "        \n",
    "        day_bboxes = pd.read_table(\"{}/haci-{}-bbox.dat\".format(HACI_bbox_folder,d.strftime(\"%Y-%m-%d\")),\n",
    "                                delim_whitespace=True)\n",
    "        \n",
    "        haci_case_data_enough_light = day_bboxes[(day_bboxes.t0 >= start_time_idx) & \\\n",
    "                                                 (day_bboxes.t1 <= end_time_idx)]\n",
    "        HACI_2013 = haci_case_data_enough_light.append(HACI_2013 , ignore_index = True) \n",
    "    except Exception as e:\n",
    "        print(\"Error {}.\".format(e))"
   ]
  },
  {
   "cell_type": "code",
   "execution_count": 8,
   "metadata": {},
   "outputs": [
    {
     "data": {
      "text/plain": [
       "230967"
      ]
     },
     "execution_count": 8,
     "metadata": {},
     "output_type": "execute_result"
    }
   ],
   "source": [
    "len(HACI_2013.t0)"
   ]
  },
  {
   "cell_type": "code",
   "execution_count": 9,
   "metadata": {
    "collapsed": true
   },
   "outputs": [],
   "source": [
    "HACI_2013.to_csv(\"{}/data/HACI_bbox_data/haci_cases_2013.csv\".format(local_home_path),index=False)"
   ]
  },
  {
   "cell_type": "code",
   "execution_count": 2,
   "metadata": {
    "collapsed": true
   },
   "outputs": [],
   "source": [
    "HACI_2013 = pd.read_csv(\"{}/data/HACI_bbox_data/haci_cases_2013.csv\".format(local_home_path))"
   ]
  },
  {
   "cell_type": "markdown",
   "metadata": {},
   "source": [
    "Jetzt haben wir einen Datensatz mit einigen hunderttausend Elementen und die allermeisten von ihnen haben nur einen Dauer von einem Zeitschritt oder sind sonst nicht sinnvoll für eine weitere Analyse verwendbar. Deshalb sollten wir eine Reihe von Filtern anwenden.\n",
    "\n",
    "## Filter mit Mindestobjektlebenszeit\n",
    "\n",
    "Bei der Erstellung der HACI-Objekte haben wir eine Mindestlebenszeit von 30 Minuten angegeben. Das heißt das t1-t0 &geq; 6 sein sollte."
   ]
  },
  {
   "cell_type": "code",
   "execution_count": 3,
   "metadata": {
    "collapsed": true
   },
   "outputs": [],
   "source": [
    "def duration_filter(objprops, min_dur = 6):\n",
    "    '''\n",
    "    Filter for persisent Objects.\n",
    "    '''\n",
    "    return objprops[(objprops.t1 - objprops.t0) >= min_dur]"
   ]
  },
  {
   "cell_type": "code",
   "execution_count": 4,
   "metadata": {
    "collapsed": true
   },
   "outputs": [],
   "source": [
    "HACI_2013_time_filtered = duration_filter(HACI_2013,6)"
   ]
  },
  {
   "cell_type": "code",
   "execution_count": 5,
   "metadata": {},
   "outputs": [
    {
     "data": {
      "text/html": [
       "<div>\n",
       "<style scoped>\n",
       "    .dataframe tbody tr th:only-of-type {\n",
       "        vertical-align: middle;\n",
       "    }\n",
       "\n",
       "    .dataframe tbody tr th {\n",
       "        vertical-align: top;\n",
       "    }\n",
       "\n",
       "    .dataframe thead th {\n",
       "        text-align: right;\n",
       "    }\n",
       "</style>\n",
       "<table border=\"1\" class=\"dataframe\">\n",
       "  <thead>\n",
       "    <tr style=\"text-align: right;\">\n",
       "      <th></th>\n",
       "      <th>date</th>\n",
       "      <th>time</th>\n",
       "      <th>id</th>\n",
       "      <th>flags</th>\n",
       "      <th>t0</th>\n",
       "      <th>t1</th>\n",
       "      <th>l00</th>\n",
       "      <th>l01</th>\n",
       "      <th>c00</th>\n",
       "      <th>c01</th>\n",
       "      <th>l0</th>\n",
       "      <th>l1</th>\n",
       "      <th>c0</th>\n",
       "      <th>c1</th>\n",
       "    </tr>\n",
       "  </thead>\n",
       "  <tbody>\n",
       "    <tr>\n",
       "      <th>230775</th>\n",
       "      <td>2013-01-01</td>\n",
       "      <td>10:45</td>\n",
       "      <td>862</td>\n",
       "      <td>0</td>\n",
       "      <td>129</td>\n",
       "      <td>135</td>\n",
       "      <td>161</td>\n",
       "      <td>162</td>\n",
       "      <td>500</td>\n",
       "      <td>501</td>\n",
       "      <td>161</td>\n",
       "      <td>162</td>\n",
       "      <td>500</td>\n",
       "      <td>501</td>\n",
       "    </tr>\n",
       "    <tr>\n",
       "      <th>230848</th>\n",
       "      <td>2013-01-01</td>\n",
       "      <td>11:30</td>\n",
       "      <td>935</td>\n",
       "      <td>0</td>\n",
       "      <td>138</td>\n",
       "      <td>144</td>\n",
       "      <td>722</td>\n",
       "      <td>723</td>\n",
       "      <td>454</td>\n",
       "      <td>455</td>\n",
       "      <td>716</td>\n",
       "      <td>733</td>\n",
       "      <td>454</td>\n",
       "      <td>473</td>\n",
       "    </tr>\n",
       "    <tr>\n",
       "      <th>230887</th>\n",
       "      <td>2013-01-01</td>\n",
       "      <td>11:45</td>\n",
       "      <td>974</td>\n",
       "      <td>0</td>\n",
       "      <td>141</td>\n",
       "      <td>147</td>\n",
       "      <td>666</td>\n",
       "      <td>671</td>\n",
       "      <td>434</td>\n",
       "      <td>437</td>\n",
       "      <td>666</td>\n",
       "      <td>671</td>\n",
       "      <td>434</td>\n",
       "      <td>452</td>\n",
       "    </tr>\n",
       "    <tr>\n",
       "      <th>230889</th>\n",
       "      <td>2013-01-01</td>\n",
       "      <td>11:45</td>\n",
       "      <td>976</td>\n",
       "      <td>0</td>\n",
       "      <td>141</td>\n",
       "      <td>147</td>\n",
       "      <td>738</td>\n",
       "      <td>739</td>\n",
       "      <td>308</td>\n",
       "      <td>309</td>\n",
       "      <td>737</td>\n",
       "      <td>740</td>\n",
       "      <td>307</td>\n",
       "      <td>310</td>\n",
       "    </tr>\n",
       "    <tr>\n",
       "      <th>230906</th>\n",
       "      <td>2013-01-01</td>\n",
       "      <td>11:55</td>\n",
       "      <td>993</td>\n",
       "      <td>0</td>\n",
       "      <td>143</td>\n",
       "      <td>149</td>\n",
       "      <td>468</td>\n",
       "      <td>469</td>\n",
       "      <td>255</td>\n",
       "      <td>256</td>\n",
       "      <td>457</td>\n",
       "      <td>472</td>\n",
       "      <td>253</td>\n",
       "      <td>275</td>\n",
       "    </tr>\n",
       "  </tbody>\n",
       "</table>\n",
       "</div>"
      ],
      "text/plain": [
       "              date   time   id  flags   t0   t1  l00  l01  c00  c01   l0   l1  \\\n",
       "230775  2013-01-01  10:45  862      0  129  135  161  162  500  501  161  162   \n",
       "230848  2013-01-01  11:30  935      0  138  144  722  723  454  455  716  733   \n",
       "230887  2013-01-01  11:45  974      0  141  147  666  671  434  437  666  671   \n",
       "230889  2013-01-01  11:45  976      0  141  147  738  739  308  309  737  740   \n",
       "230906  2013-01-01  11:55  993      0  143  149  468  469  255  256  457  472   \n",
       "\n",
       "         c0   c1  \n",
       "230775  500  501  \n",
       "230848  454  473  \n",
       "230887  434  452  \n",
       "230889  307  310  \n",
       "230906  253  275  "
      ]
     },
     "execution_count": 5,
     "metadata": {},
     "output_type": "execute_result"
    }
   ],
   "source": [
    "HACI_2013_time_filtered.tail()"
   ]
  },
  {
   "cell_type": "code",
   "execution_count": 6,
   "metadata": {},
   "outputs": [
    {
     "data": {
      "text/plain": [
       "10058"
      ]
     },
     "execution_count": 6,
     "metadata": {},
     "output_type": "execute_result"
    }
   ],
   "source": [
    "len(HACI_2013_time_filtered.t0)"
   ]
  },
  {
   "cell_type": "markdown",
   "metadata": {},
   "source": [
    "Das sind immernoch eine Menge Objekte, aber zumindest haben sie jetzt eine ausrreichende Mindestlebenszeit. Allerdings heißt das noch nicht, dass es sich hierbei um sinvolle CI-Objekte handelt. Es können auch persistente nichtmeteorlogische Radarechos sein. \n",
    "\n",
    "## Filter mit Flächenzunahme\n",
    "Um solche Objekte zu entfernen, können wir überprüfen, ob ihre Fläche zunimmt. Wenn die Objekte wachsen sind es wahrscheinlich meteorologische Objekte. Wir können auch eine maximale Ausgangsfläche angeben, um größere frontale oder stratiforme Niederschalgsgebiete auszuschließen."
   ]
  },
  {
   "cell_type": "code",
   "execution_count": 14,
   "metadata": {
    "collapsed": true
   },
   "outputs": [],
   "source": [
    "def area_growth_filter(objprops,\n",
    "                       max_init_area = 100,\n",
    "                       min_area_change = 200):\n",
    "\n",
    "    '''\n",
    "    Calculates and compares areas from bounding boxes.\n",
    "    '''\n",
    "\n",
    "\n",
    "    objprops = objprops.assign(area0 = (objprops.l01 - objprops.l00) * (objprops.c01 - objprops.c00))\n",
    "    objprops = objprops.assign(area_max = (objprops.l1 - objprops.l0) * (objprops.c1 - objprops.c0))\n",
    "\n",
    "    # area change\n",
    "    objprops = objprops.assign(darea = objprops.area_max - objprops.area0)\n",
    "\n",
    "    return objprops[(objprops.area0 < max_init_area) & (objprops.darea > min_area_change)]"
   ]
  },
  {
   "cell_type": "code",
   "execution_count": 15,
   "metadata": {
    "collapsed": true
   },
   "outputs": [],
   "source": [
    "HACI_2013_time_area_filtered = area_growth_filter(HACI_2013_time_filtered)"
   ]
  },
  {
   "cell_type": "code",
   "execution_count": 16,
   "metadata": {},
   "outputs": [
    {
     "data": {
      "text/html": [
       "<div>\n",
       "<style scoped>\n",
       "    .dataframe tbody tr th:only-of-type {\n",
       "        vertical-align: middle;\n",
       "    }\n",
       "\n",
       "    .dataframe tbody tr th {\n",
       "        vertical-align: top;\n",
       "    }\n",
       "\n",
       "    .dataframe thead th {\n",
       "        text-align: right;\n",
       "    }\n",
       "</style>\n",
       "<table border=\"1\" class=\"dataframe\">\n",
       "  <thead>\n",
       "    <tr style=\"text-align: right;\">\n",
       "      <th></th>\n",
       "      <th>date</th>\n",
       "      <th>time</th>\n",
       "      <th>id</th>\n",
       "      <th>flags</th>\n",
       "      <th>t0</th>\n",
       "      <th>t1</th>\n",
       "      <th>l00</th>\n",
       "      <th>l01</th>\n",
       "      <th>c00</th>\n",
       "      <th>c01</th>\n",
       "      <th>l0</th>\n",
       "      <th>l1</th>\n",
       "      <th>c0</th>\n",
       "      <th>c1</th>\n",
       "      <th>area0</th>\n",
       "      <th>area_max</th>\n",
       "      <th>darea</th>\n",
       "    </tr>\n",
       "  </thead>\n",
       "  <tbody>\n",
       "    <tr>\n",
       "      <th>182</th>\n",
       "      <td>2013-12-28</td>\n",
       "      <td>10:45</td>\n",
       "      <td>700</td>\n",
       "      <td>0</td>\n",
       "      <td>129</td>\n",
       "      <td>135</td>\n",
       "      <td>85</td>\n",
       "      <td>88</td>\n",
       "      <td>330</td>\n",
       "      <td>332</td>\n",
       "      <td>65</td>\n",
       "      <td>110</td>\n",
       "      <td>324</td>\n",
       "      <td>368</td>\n",
       "      <td>6</td>\n",
       "      <td>1980</td>\n",
       "      <td>1974</td>\n",
       "    </tr>\n",
       "    <tr>\n",
       "      <th>266</th>\n",
       "      <td>2013-12-28</td>\n",
       "      <td>11:35</td>\n",
       "      <td>784</td>\n",
       "      <td>0</td>\n",
       "      <td>139</td>\n",
       "      <td>145</td>\n",
       "      <td>741</td>\n",
       "      <td>743</td>\n",
       "      <td>684</td>\n",
       "      <td>686</td>\n",
       "      <td>738</td>\n",
       "      <td>785</td>\n",
       "      <td>676</td>\n",
       "      <td>701</td>\n",
       "      <td>4</td>\n",
       "      <td>1175</td>\n",
       "      <td>1171</td>\n",
       "    </tr>\n",
       "    <tr>\n",
       "      <th>279</th>\n",
       "      <td>2013-12-28</td>\n",
       "      <td>11:45</td>\n",
       "      <td>797</td>\n",
       "      <td>0</td>\n",
       "      <td>141</td>\n",
       "      <td>147</td>\n",
       "      <td>822</td>\n",
       "      <td>823</td>\n",
       "      <td>710</td>\n",
       "      <td>711</td>\n",
       "      <td>816</td>\n",
       "      <td>866</td>\n",
       "      <td>709</td>\n",
       "      <td>738</td>\n",
       "      <td>1</td>\n",
       "      <td>1450</td>\n",
       "      <td>1449</td>\n",
       "    </tr>\n",
       "    <tr>\n",
       "      <th>312</th>\n",
       "      <td>2013-12-27</td>\n",
       "      <td>10:30</td>\n",
       "      <td>248</td>\n",
       "      <td>0</td>\n",
       "      <td>126</td>\n",
       "      <td>132</td>\n",
       "      <td>848</td>\n",
       "      <td>849</td>\n",
       "      <td>473</td>\n",
       "      <td>474</td>\n",
       "      <td>826</td>\n",
       "      <td>880</td>\n",
       "      <td>434</td>\n",
       "      <td>501</td>\n",
       "      <td>1</td>\n",
       "      <td>3618</td>\n",
       "      <td>3617</td>\n",
       "    </tr>\n",
       "    <tr>\n",
       "      <th>466</th>\n",
       "      <td>2013-12-25</td>\n",
       "      <td>10:35</td>\n",
       "      <td>988</td>\n",
       "      <td>0</td>\n",
       "      <td>127</td>\n",
       "      <td>133</td>\n",
       "      <td>183</td>\n",
       "      <td>186</td>\n",
       "      <td>452</td>\n",
       "      <td>458</td>\n",
       "      <td>180</td>\n",
       "      <td>198</td>\n",
       "      <td>445</td>\n",
       "      <td>465</td>\n",
       "      <td>18</td>\n",
       "      <td>360</td>\n",
       "      <td>342</td>\n",
       "    </tr>\n",
       "  </tbody>\n",
       "</table>\n",
       "</div>"
      ],
      "text/plain": [
       "           date   time   id  flags   t0   t1  l00  l01  c00  c01   l0   l1  \\\n",
       "182  2013-12-28  10:45  700      0  129  135   85   88  330  332   65  110   \n",
       "266  2013-12-28  11:35  784      0  139  145  741  743  684  686  738  785   \n",
       "279  2013-12-28  11:45  797      0  141  147  822  823  710  711  816  866   \n",
       "312  2013-12-27  10:30  248      0  126  132  848  849  473  474  826  880   \n",
       "466  2013-12-25  10:35  988      0  127  133  183  186  452  458  180  198   \n",
       "\n",
       "      c0   c1  area0  area_max  darea  \n",
       "182  324  368      6      1980   1974  \n",
       "266  676  701      4      1175   1171  \n",
       "279  709  738      1      1450   1449  \n",
       "312  434  501      1      3618   3617  \n",
       "466  445  465     18       360    342  "
      ]
     },
     "execution_count": 16,
     "metadata": {},
     "output_type": "execute_result"
    }
   ],
   "source": [
    "HACI_2013_time_area_filtered.head()"
   ]
  },
  {
   "cell_type": "code",
   "execution_count": 17,
   "metadata": {},
   "outputs": [
    {
     "data": {
      "text/plain": [
       "2420"
      ]
     },
     "execution_count": 17,
     "metadata": {},
     "output_type": "execute_result"
    }
   ],
   "source": [
    "len(HACI_2013_time_area_filtered.t0)"
   ]
  },
  {
   "cell_type": "markdown",
   "metadata": {},
   "source": [
    "Damit sollten wir nur auch tatsächliche meteorologische Objekte im Datensatz haben. Allerdings befinden sich jetzt wahrscheinlich immernoch auch frontale und stratiforme Niederschlagsgebiete im Datensatz, in die kleinere Bereiche mit Z &geq; 35 dBZ eingelagert sind.\n",
    "\n",
    "## Filter mit Verhältnis 20-dBZ- zu 35-dBZ-Flächen\n",
    "\n",
    "Um solche Bereiche auszuschließen könnte man sich ansehen wie groß das Verhältnis aus der Fläche des Bereichs mit Z &geq; 35 dBZ zu dem umgebenden Bereich mit Z &geq; 20 dBZ ist. Dafür müssen wir allerdings die Radardaten laden, was diese Operation relativ langsam macht."
   ]
  },
  {
   "cell_type": "code",
   "execution_count": 15,
   "metadata": {
    "collapsed": true
   },
   "outputs": [],
   "source": [
    "import matplotlib.pyplot as plt\n",
    "%matplotlib inline\n",
    "#plt.switch_backend(\"Agg\")\n",
    "from plotting_tools.colormaps import radar_cmap as rc"
   ]
  },
  {
   "cell_type": "code",
   "execution_count": 41,
   "metadata": {
    "collapsed": true
   },
   "outputs": [],
   "source": [
    "def filter_20dbz(objprops,min_area_ratio,box_size):\n",
    "    from skimage import measure\n",
    "    from io_tools import radolan\n",
    "\n",
    "    r = radolan.Radolan()\n",
    "    \n",
    "    rr = pd.DataFrame(index = objprops.index,columns=['area_ratio','area_20dbz','area_35dbz'])\n",
    "    for i, obj in objprops.iterrows():\n",
    "        date_t0 = \"{}T{:02d}{:02d}\".format(obj.date.replace(\"-\",\"\"),(obj.t0*5)//60, (obj.t0*5)%60)\n",
    "        date_t0 = pd.Timestamp(date_t0)\n",
    "        \n",
    "        r.read(date_t0.to_pydatetime())\n",
    "        \n",
    "        cutout = r.data[obj.l00-box_size//2:obj.l01+box_size//2,\n",
    "                        obj.c00-box_size//2:obj.c01+box_size//2]       \n",
    "        \n",
    "        pixel_20dbz = np.where((cutout>=20) & (cutout<35))\n",
    "        pixel_35dbz = np.where(cutout>=35)\n",
    "        \n",
    "        ratio = float(len(pixel_35dbz[0])) / len(pixel_20dbz[0])\n",
    "        \n",
    "        rr.loc[i].area_ratio = ratio\n",
    "        rr.loc[i].area_20dbz = len(pixel_20dbz[0])\n",
    "        rr.loc[i].area_35dbz = len(pixel_35dbz[0])\n",
    "        \n",
    "    objprops = objprops.assign(area_ratio = rr.area_ratio)\n",
    "    objprops = objprops.assign(area_20dbz = rr.area_20dbz)\n",
    "    objprops = objprops.assign(area_35dbz = rr.area_35dbz)\n",
    "    \n",
    "    return objprops[objprops.area_ratio > min_area_ratio]"
   ]
  },
  {
   "cell_type": "code",
   "execution_count": 42,
   "metadata": {
    "collapsed": true
   },
   "outputs": [],
   "source": [
    "HACI_2013_time_area_dbz_filtered = filter_20dbz(HACI_2013_time_area_filtered,0.4,30)"
   ]
  },
  {
   "cell_type": "code",
   "execution_count": 52,
   "metadata": {},
   "outputs": [
    {
     "data": {
      "text/html": [
       "<div>\n",
       "<style scoped>\n",
       "    .dataframe tbody tr th:only-of-type {\n",
       "        vertical-align: middle;\n",
       "    }\n",
       "\n",
       "    .dataframe tbody tr th {\n",
       "        vertical-align: top;\n",
       "    }\n",
       "\n",
       "    .dataframe thead th {\n",
       "        text-align: right;\n",
       "    }\n",
       "</style>\n",
       "<table border=\"1\" class=\"dataframe\">\n",
       "  <thead>\n",
       "    <tr style=\"text-align: right;\">\n",
       "      <th></th>\n",
       "      <th>date</th>\n",
       "      <th>time</th>\n",
       "      <th>id</th>\n",
       "      <th>flags</th>\n",
       "      <th>t0</th>\n",
       "      <th>t1</th>\n",
       "      <th>l00</th>\n",
       "      <th>l01</th>\n",
       "      <th>c00</th>\n",
       "      <th>c01</th>\n",
       "      <th>l0</th>\n",
       "      <th>l1</th>\n",
       "      <th>c0</th>\n",
       "      <th>c1</th>\n",
       "      <th>area0</th>\n",
       "      <th>area_max</th>\n",
       "      <th>darea</th>\n",
       "      <th>area_ratio</th>\n",
       "      <th>area_20dbz</th>\n",
       "      <th>area_35dbz</th>\n",
       "    </tr>\n",
       "  </thead>\n",
       "  <tbody>\n",
       "    <tr>\n",
       "      <th>12263</th>\n",
       "      <td>2013-10-23</td>\n",
       "      <td>12:35</td>\n",
       "      <td>1291</td>\n",
       "      <td>0</td>\n",
       "      <td>151</td>\n",
       "      <td>157</td>\n",
       "      <td>669</td>\n",
       "      <td>671</td>\n",
       "      <td>358</td>\n",
       "      <td>360</td>\n",
       "      <td>656</td>\n",
       "      <td>692</td>\n",
       "      <td>348</td>\n",
       "      <td>382</td>\n",
       "      <td>4</td>\n",
       "      <td>1224</td>\n",
       "      <td>1220</td>\n",
       "      <td>1</td>\n",
       "      <td>70</td>\n",
       "      <td>70</td>\n",
       "    </tr>\n",
       "    <tr>\n",
       "      <th>16033</th>\n",
       "      <td>2013-10-15</td>\n",
       "      <td>13:05</td>\n",
       "      <td>2351</td>\n",
       "      <td>0</td>\n",
       "      <td>157</td>\n",
       "      <td>163</td>\n",
       "      <td>487</td>\n",
       "      <td>488</td>\n",
       "      <td>349</td>\n",
       "      <td>350</td>\n",
       "      <td>479</td>\n",
       "      <td>493</td>\n",
       "      <td>336</td>\n",
       "      <td>366</td>\n",
       "      <td>1</td>\n",
       "      <td>420</td>\n",
       "      <td>419</td>\n",
       "      <td>0.490196</td>\n",
       "      <td>153</td>\n",
       "      <td>75</td>\n",
       "    </tr>\n",
       "    <tr>\n",
       "      <th>21636</th>\n",
       "      <td>2013-10-05</td>\n",
       "      <td>14:25</td>\n",
       "      <td>2202</td>\n",
       "      <td>0</td>\n",
       "      <td>173</td>\n",
       "      <td>179</td>\n",
       "      <td>118</td>\n",
       "      <td>121</td>\n",
       "      <td>400</td>\n",
       "      <td>401</td>\n",
       "      <td>117</td>\n",
       "      <td>130</td>\n",
       "      <td>400</td>\n",
       "      <td>420</td>\n",
       "      <td>3</td>\n",
       "      <td>260</td>\n",
       "      <td>257</td>\n",
       "      <td>0.419355</td>\n",
       "      <td>62</td>\n",
       "      <td>26</td>\n",
       "    </tr>\n",
       "    <tr>\n",
       "      <th>24072</th>\n",
       "      <td>2013-09-28</td>\n",
       "      <td>08:55</td>\n",
       "      <td>886</td>\n",
       "      <td>0</td>\n",
       "      <td>107</td>\n",
       "      <td>113</td>\n",
       "      <td>64</td>\n",
       "      <td>67</td>\n",
       "      <td>219</td>\n",
       "      <td>222</td>\n",
       "      <td>64</td>\n",
       "      <td>82</td>\n",
       "      <td>218</td>\n",
       "      <td>231</td>\n",
       "      <td>9</td>\n",
       "      <td>234</td>\n",
       "      <td>225</td>\n",
       "      <td>0.807018</td>\n",
       "      <td>57</td>\n",
       "      <td>46</td>\n",
       "    </tr>\n",
       "    <tr>\n",
       "      <th>26115</th>\n",
       "      <td>2013-09-26</td>\n",
       "      <td>12:25</td>\n",
       "      <td>1870</td>\n",
       "      <td>0</td>\n",
       "      <td>149</td>\n",
       "      <td>155</td>\n",
       "      <td>103</td>\n",
       "      <td>111</td>\n",
       "      <td>516</td>\n",
       "      <td>522</td>\n",
       "      <td>99</td>\n",
       "      <td>112</td>\n",
       "      <td>516</td>\n",
       "      <td>539</td>\n",
       "      <td>48</td>\n",
       "      <td>299</td>\n",
       "      <td>251</td>\n",
       "      <td>0.487805</td>\n",
       "      <td>41</td>\n",
       "      <td>20</td>\n",
       "    </tr>\n",
       "  </tbody>\n",
       "</table>\n",
       "</div>"
      ],
      "text/plain": [
       "             date   time    id  flags   t0   t1  l00  l01  c00  c01   l0   l1  \\\n",
       "12263  2013-10-23  12:35  1291      0  151  157  669  671  358  360  656  692   \n",
       "16033  2013-10-15  13:05  2351      0  157  163  487  488  349  350  479  493   \n",
       "21636  2013-10-05  14:25  2202      0  173  179  118  121  400  401  117  130   \n",
       "24072  2013-09-28  08:55   886      0  107  113   64   67  219  222   64   82   \n",
       "26115  2013-09-26  12:25  1870      0  149  155  103  111  516  522   99  112   \n",
       "\n",
       "        c0   c1  area0  area_max  darea area_ratio area_20dbz area_35dbz  \n",
       "12263  348  382      4      1224   1220          1         70         70  \n",
       "16033  336  366      1       420    419   0.490196        153         75  \n",
       "21636  400  420      3       260    257   0.419355         62         26  \n",
       "24072  218  231      9       234    225   0.807018         57         46  \n",
       "26115  516  539     48       299    251   0.487805         41         20  "
      ]
     },
     "execution_count": 52,
     "metadata": {},
     "output_type": "execute_result"
    }
   ],
   "source": [
    "HACI_2013_time_area_dbz_filtered.head()"
   ]
  },
  {
   "cell_type": "code",
   "execution_count": 53,
   "metadata": {},
   "outputs": [
    {
     "data": {
      "text/plain": [
       "231"
      ]
     },
     "execution_count": 53,
     "metadata": {},
     "output_type": "execute_result"
    }
   ],
   "source": [
    "len(HACI_2013_time_area_dbz_filtered.t0)"
   ]
  },
  {
   "cell_type": "markdown",
   "metadata": {},
   "source": [
    "Jetzt sind es nur noch einige hundert Objekte, die jetzt aber wahrscheinlich alle mehr oder weniger sinvolle konvektive Fälle sind."
   ]
  },
  {
   "cell_type": "code",
   "execution_count": 54,
   "metadata": {
    "collapsed": true
   },
   "outputs": [],
   "source": [
    "HACI_2013_time_area_dbz_filtered.to_csv(\"{}/data/HACI_bbox_data/haci_cases_2013_filtered.csv\".format(local_home_path),\n",
    "                                        index=False)"
   ]
  },
  {
   "cell_type": "code",
   "execution_count": 8,
   "metadata": {},
   "outputs": [],
   "source": [
    "HACI_2013_time_area_dbz_filtered = pd.read_csv(\"{}/data/HACI_bbox_data/haci_cases_2013_filtered.csv\".format(local_home_path))"
   ]
  },
  {
   "cell_type": "code",
   "execution_count": 9,
   "metadata": {},
   "outputs": [
    {
     "name": "stderr",
     "output_type": "stream",
     "text": [
      "/vols/talos/local/anaconda2-5.0.0/lib/python2.7/site-packages/h5py/__init__.py:36: FutureWarning: Conversion of the second argument of issubdtype from `float` to `np.floating` is deprecated. In future, it will be treated as `np.float64 == np.dtype(float).type`.\n",
      "  from ._conv import register_converters as _register_converters\n"
     ]
    }
   ],
   "source": [
    "from io_tools import radolan"
   ]
  },
  {
   "cell_type": "code",
   "execution_count": 10,
   "metadata": {
    "collapsed": true
   },
   "outputs": [],
   "source": [
    "r = radolan.Radolan()"
   ]
  },
  {
   "cell_type": "code",
   "execution_count": 57,
   "metadata": {
    "collapsed": true
   },
   "outputs": [],
   "source": [
    "for i, obj in HACI_2013_time_area_dbz_filtered.iterrows():\n",
    "    date_t0 = \"{}T{:02d}{:02d}\".format(obj.date.replace(\"-\",\"\"),(obj.t0*5)//60, (obj.t0*5)%60)\n",
    "    date_t0 = pd.Timestamp(date_t0)\n",
    "        \n",
    "    r.read(date_t0.to_pydatetime())\n",
    "    cutout = r.data[obj.l00-10:obj.l01+10,obj.c00-10:obj.c01+10]  \n",
    "    \n",
    "    fig,ax = plt.subplots(1,1,figsize=(5,5))\n",
    "    ax.imshow(cutout,vmin=5,vmax=70,cmap=rc())\n",
    "    plt.savefig(\"{}/proj/2019-01_trackingstudie/pics/haci_2013_auto/{}_{:07d}.png\".format(local_home_path,\n",
    "                                                                                          obj.date.replace(\"-\",\"\"),\n",
    "                                                                                          obj.id))\n",
    "    plt.close(\"all\")"
   ]
  },
  {
   "cell_type": "code",
   "execution_count": 11,
   "metadata": {
    "collapsed": true
   },
   "outputs": [],
   "source": [
    "obj = HACI_2013_time_area_dbz_filtered[(HACI_2013_time_area_dbz_filtered.date==\"2013-08-24\") & \n",
    "                                 (HACI_2013_time_area_dbz_filtered.id==429)]"
   ]
  },
  {
   "cell_type": "code",
   "execution_count": 12,
   "metadata": {},
   "outputs": [
    {
     "data": {
      "text/html": [
       "<div>\n",
       "<style scoped>\n",
       "    .dataframe tbody tr th:only-of-type {\n",
       "        vertical-align: middle;\n",
       "    }\n",
       "\n",
       "    .dataframe tbody tr th {\n",
       "        vertical-align: top;\n",
       "    }\n",
       "\n",
       "    .dataframe thead th {\n",
       "        text-align: right;\n",
       "    }\n",
       "</style>\n",
       "<table border=\"1\" class=\"dataframe\">\n",
       "  <thead>\n",
       "    <tr style=\"text-align: right;\">\n",
       "      <th></th>\n",
       "      <th>date</th>\n",
       "      <th>time</th>\n",
       "      <th>id</th>\n",
       "      <th>flags</th>\n",
       "      <th>t0</th>\n",
       "      <th>t1</th>\n",
       "      <th>l00</th>\n",
       "      <th>l01</th>\n",
       "      <th>c00</th>\n",
       "      <th>c01</th>\n",
       "      <th>l0</th>\n",
       "      <th>l1</th>\n",
       "      <th>c0</th>\n",
       "      <th>c1</th>\n",
       "      <th>area0</th>\n",
       "      <th>area_max</th>\n",
       "      <th>darea</th>\n",
       "      <th>area_ratio</th>\n",
       "      <th>area_20dbz</th>\n",
       "      <th>area_35dbz</th>\n",
       "    </tr>\n",
       "  </thead>\n",
       "  <tbody>\n",
       "    <tr>\n",
       "      <th>14</th>\n",
       "      <td>2013-08-24</td>\n",
       "      <td>14:40</td>\n",
       "      <td>429</td>\n",
       "      <td>0</td>\n",
       "      <td>176</td>\n",
       "      <td>182</td>\n",
       "      <td>190</td>\n",
       "      <td>198</td>\n",
       "      <td>500</td>\n",
       "      <td>507</td>\n",
       "      <td>189</td>\n",
       "      <td>241</td>\n",
       "      <td>460</td>\n",
       "      <td>514</td>\n",
       "      <td>56</td>\n",
       "      <td>2808</td>\n",
       "      <td>2752</td>\n",
       "      <td>0.505654</td>\n",
       "      <td>619</td>\n",
       "      <td>313</td>\n",
       "    </tr>\n",
       "  </tbody>\n",
       "</table>\n",
       "</div>"
      ],
      "text/plain": [
       "          date   time   id  flags   t0   t1  l00  l01  c00  c01   l0   l1  \\\n",
       "14  2013-08-24  14:40  429      0  176  182  190  198  500  507  189  241   \n",
       "\n",
       "     c0   c1  area0  area_max  darea  area_ratio  area_20dbz  area_35dbz  \n",
       "14  460  514     56      2808   2752    0.505654         619         313  "
      ]
     },
     "execution_count": 12,
     "metadata": {},
     "output_type": "execute_result"
    }
   ],
   "source": [
    "obj"
   ]
  },
  {
   "cell_type": "code",
   "execution_count": 13,
   "metadata": {
    "collapsed": true
   },
   "outputs": [],
   "source": [
    "r.read(pd.Timestamp(\"20130824T1440\").to_pydatetime())"
   ]
  },
  {
   "cell_type": "code",
   "execution_count": 16,
   "metadata": {},
   "outputs": [
    {
     "data": {
      "text/plain": [
       "(180, 210)"
      ]
     },
     "execution_count": 16,
     "metadata": {},
     "output_type": "execute_result"
    },
    {
     "data": {
      "image/png": "[encoded data removed]",
      "text/plain": [
       "<Figure size 720x720 with 1 Axes>"
      ]
     },
     "metadata": {},
     "output_type": "display_data"
    }
   ],
   "source": [
    "fig,ax = plt.subplots(1,1,figsize=(10,10))\n",
    "ax.imshow(r.data,vmin=5,vmax=70,cmap=rc(),origin='lower')\n",
    "ax.plot([obj.c00.iloc[0]-0.5, obj.c00.iloc[0]-0.5], \n",
    "        [obj.l00.iloc[0]-0.5, obj.l01.iloc[0]-0.5], 'w-', lw=2)\n",
    "ax.plot([obj.c00.iloc[0]-0.5, obj.c01.iloc[0]-0.5], \n",
    "        [obj.l00.iloc[0]-0.5, obj.l00.iloc[0]-0.5], 'w-', lw=2)\n",
    "ax.plot([obj.c01.iloc[0]-0.5, obj.c01.iloc[0]-0.5], \n",
    "        [obj.l00.iloc[0]-0.5, obj.l01.iloc[0]-0.5], 'w-', lw=2)\n",
    "ax.plot([obj.c00.iloc[0]-0.5, obj.c01.iloc[0]-0.5], \n",
    "        [obj.l01.iloc[0]-0.5, obj.l01.iloc[0]-0.5], 'w-', lw=2)\n",
    "ax.set_xlim(490,520)\n",
    "ax.set_ylim(180,210)"
   ]
  },
  {
   "cell_type": "code",
   "execution_count": 17,
   "metadata": {
    "collapsed": true
   },
   "outputs": [],
   "source": [
    "r_35dbz = np.ma.masked_less(r.data,35)"
   ]
  },
  {
   "cell_type": "code",
   "execution_count": 18,
   "metadata": {},
   "outputs": [
    {
     "data": {
      "text/plain": [
       "(180, 210)"
      ]
     },
     "execution_count": 18,
     "metadata": {},
     "output_type": "execute_result"
    },
    {
     "data": {
      "image/png": "[encoded data removed]",
      "text/plain": [
       "<Figure size 720x720 with 1 Axes>"
      ]
     },
     "metadata": {},
     "output_type": "display_data"
    }
   ],
   "source": [
    "fig,ax = plt.subplots(1,1,figsize=(10,10))\n",
    "ax.imshow(r_35dbz,vmin=5,vmax=70,cmap=rc(),origin='lower')\n",
    "ax.plot([obj.c00.iloc[0]-0.5, obj.c00.iloc[0]-0.5], \n",
    "        [obj.l00.iloc[0]-0.5, obj.l01.iloc[0]-0.5], 'r-', lw=2)\n",
    "ax.plot([obj.c00.iloc[0]-0.5, obj.c01.iloc[0]-0.5], \n",
    "        [obj.l00.iloc[0]-0.5, obj.l00.iloc[0]-0.5], 'r-', lw=2)\n",
    "ax.plot([obj.c01.iloc[0]-0.5, obj.c01.iloc[0]-0.5], \n",
    "        [obj.l00.iloc[0]-0.5, obj.l01.iloc[0]-0.5], 'r-', lw=2)\n",
    "ax.plot([obj.c00.iloc[0]-0.5, obj.c01.iloc[0]-0.5], \n",
    "        [obj.l01.iloc[0]-0.5, obj.l01.iloc[0]-0.5], 'r-', lw=2)\n",
    "ax.set_xlim(490,520)\n",
    "ax.set_ylim(180,210)"
   ]
  },
  {
   "cell_type": "code",
   "execution_count": 19,
   "metadata": {
    "collapsed": true
   },
   "outputs": [],
   "source": [
    "cutout = ~r_35dbz.mask[180:210,490:520]"
   ]
  },
  {
   "cell_type": "code",
   "execution_count": 20,
   "metadata": {},
   "outputs": [
    {
     "data": {
      "text/plain": [
       "<matplotlib.image.AxesImage at 0x7f97d6299ad0>"
      ]
     },
     "execution_count": 20,
     "metadata": {},
     "output_type": "execute_result"
    },
    {
     "data": {
      "image/png": "[encoded data removed]",
      "text/plain": [
       "<Figure size 432x288 with 1 Axes>"
      ]
     },
     "metadata": {},
     "output_type": "display_data"
    }
   ],
   "source": [
    "plt.imshow(cutout)"
   ]
  },
  {
   "cell_type": "code",
   "execution_count": 25,
   "metadata": {},
   "outputs": [
    {
     "data": {
      "text/plain": [
       "245"
      ]
     },
     "execution_count": 25,
     "metadata": {},
     "output_type": "execute_result"
    }
   ],
   "source": [
    "len(np.where(cutout==True)[0])"
   ]
  },
  {
   "cell_type": "code",
   "execution_count": 26,
   "metadata": {
    "collapsed": true
   },
   "outputs": [],
   "source": [
    "cutout_obj = ~r_35dbz.mask[obj.l00.iloc[0]:obj.l01.iloc[0],obj.c00.iloc[0]:obj.c01.iloc[0]]"
   ]
  },
  {
   "cell_type": "code",
   "execution_count": 27,
   "metadata": {},
   "outputs": [
    {
     "data": {
      "text/plain": [
       "40"
      ]
     },
     "execution_count": 27,
     "metadata": {},
     "output_type": "execute_result"
    }
   ],
   "source": [
    "len(np.where(cutout_obj==True)[0])"
   ]
  },
  {
   "cell_type": "code",
   "execution_count": 28,
   "metadata": {
    "collapsed": true
   },
   "outputs": [],
   "source": [
    "r.read(pd.Timestamp(\"20130824T1435\").to_pydatetime())"
   ]
  },
  {
   "cell_type": "code",
   "execution_count": 29,
   "metadata": {},
   "outputs": [
    {
     "data": {
      "text/plain": [
       "(180, 210)"
      ]
     },
     "execution_count": 29,
     "metadata": {},
     "output_type": "execute_result"
    },
    {
     "data": {
      "image/png": "[encoded data removed]",
      "text/plain": [
       "<Figure size 720x720 with 1 Axes>"
      ]
     },
     "metadata": {},
     "output_type": "display_data"
    }
   ],
   "source": [
    "fig,ax = plt.subplots(1,1,figsize=(10,10))\n",
    "ax.imshow(r.data,vmin=5,vmax=70,cmap=rc(),origin='lower')\n",
    "ax.plot([obj.c00.iloc[0]-0.5, obj.c00.iloc[0]-0.5], \n",
    "        [obj.l00.iloc[0]-0.5, obj.l01.iloc[0]-0.5], 'w-', lw=2)\n",
    "ax.plot([obj.c00.iloc[0]-0.5, obj.c01.iloc[0]-0.5], \n",
    "        [obj.l00.iloc[0]-0.5, obj.l00.iloc[0]-0.5], 'w-', lw=2)\n",
    "ax.plot([obj.c01.iloc[0]-0.5, obj.c01.iloc[0]-0.5], \n",
    "        [obj.l00.iloc[0]-0.5, obj.l01.iloc[0]-0.5], 'w-', lw=2)\n",
    "ax.plot([obj.c00.iloc[0]-0.5, obj.c01.iloc[0]-0.5], \n",
    "        [obj.l01.iloc[0]-0.5, obj.l01.iloc[0]-0.5], 'w-', lw=2)\n",
    "ax.set_xlim(490,520)\n",
    "ax.set_ylim(180,210)"
   ]
  },
  {
   "cell_type": "code",
   "execution_count": 39,
   "metadata": {
    "collapsed": true
   },
   "outputs": [],
   "source": [
    "tt = pd.date_range(start=\"20130824T1400\",end=\"20130824T1500\",freq=\"5min\")"
   ]
  },
  {
   "cell_type": "code",
   "execution_count": 43,
   "metadata": {},
   "outputs": [
    {
     "ename": "IndexError",
     "evalue": "index 12 is out of bounds for axis 0 with size 12",
     "output_type": "error",
     "traceback": [
      "\u001b[0;31m---------------------------------------------------------------------------\u001b[0m",
      "\u001b[0;31mIndexError\u001b[0m                                Traceback (most recent call last)",
      "\u001b[0;32m<ipython-input-43-ce1a51cac439>\u001b[0m in \u001b[0;36m<module>\u001b[0;34m()\u001b[0m\n\u001b[1;32m      4\u001b[0m     \u001b[0mr\u001b[0m\u001b[0;34m.\u001b[0m\u001b[0mread\u001b[0m\u001b[0;34m(\u001b[0m\u001b[0mt\u001b[0m\u001b[0;34m.\u001b[0m\u001b[0mto_pydatetime\u001b[0m\u001b[0;34m(\u001b[0m\u001b[0;34m)\u001b[0m\u001b[0;34m)\u001b[0m\u001b[0;34m\u001b[0m\u001b[0m\n\u001b[1;32m      5\u001b[0m \u001b[0;34m\u001b[0m\u001b[0m\n\u001b[0;32m----> 6\u001b[0;31m     \u001b[0maxs\u001b[0m\u001b[0;34m[\u001b[0m\u001b[0mi\u001b[0m\u001b[0;34m]\u001b[0m\u001b[0;34m.\u001b[0m\u001b[0mimshow\u001b[0m\u001b[0;34m(\u001b[0m\u001b[0mr\u001b[0m\u001b[0;34m.\u001b[0m\u001b[0mdata\u001b[0m\u001b[0;34m,\u001b[0m\u001b[0mvmin\u001b[0m\u001b[0;34m=\u001b[0m\u001b[0;36m5\u001b[0m\u001b[0;34m,\u001b[0m\u001b[0mvmax\u001b[0m\u001b[0;34m=\u001b[0m\u001b[0;36m70\u001b[0m\u001b[0;34m,\u001b[0m\u001b[0mcmap\u001b[0m\u001b[0;34m=\u001b[0m\u001b[0mrc\u001b[0m\u001b[0;34m(\u001b[0m\u001b[0;34m)\u001b[0m\u001b[0;34m)\u001b[0m\u001b[0;34m\u001b[0m\u001b[0m\n\u001b[0m\u001b[1;32m      7\u001b[0m     axs[i].plot([obj.c00.iloc[0]-0.5, obj.c00.iloc[0]-0.5], \n\u001b[1;32m      8\u001b[0m                [obj.l00.iloc[0]-0.5, obj.l01.iloc[0]-0.5], 'w-', lw=2)\n",
      "\u001b[0;31mIndexError\u001b[0m: index 12 is out of bounds for axis 0 with size 12"
     ]
    },
    {
     "data": {
      "image/png": "[encoded data removed]",
      "text/plain": [
       "<Figure size 1440x1080 with 12 Axes>"
      ]
     },
     "metadata": {},
     "output_type": "display_data"
    }
   ],
   "source": [
    "fig,ax = plt.subplots(3,4,figsize=(20,15))\n",
    "axs = ax.ravel()\n",
    "for i,t in enumerate(tt):\n",
    "    r.read(t.to_pydatetime())\n",
    "    \n",
    "    axs[i].imshow(r.data,vmin=5,vmax=70,cmap=rc())\n",
    "    axs[i].plot([obj.c00.iloc[0]-0.5, obj.c00.iloc[0]-0.5], \n",
    "               [obj.l00.iloc[0]-0.5, obj.l01.iloc[0]-0.5], 'w-', lw=2)\n",
    "    axs[i].plot([obj.c00.iloc[0]-0.5, obj.c01.iloc[0]-0.5], \n",
    "            [obj.l00.iloc[0]-0.5, obj.l00.iloc[0]-0.5], 'w-', lw=2)\n",
    "    axs[i].plot([obj.c01.iloc[0]-0.5, obj.c01.iloc[0]-0.5], \n",
    "            [obj.l00.iloc[0]-0.5, obj.l01.iloc[0]-0.5], 'w-', lw=2)\n",
    "    axs[i].plot([obj.c00.iloc[0]-0.5, obj.c01.iloc[0]-0.5], \n",
    "            [obj.l01.iloc[0]-0.5, obj.l01.iloc[0]-0.5], 'w-', lw=2)\n",
    "    axs[i].set_xlim(480,530)\n",
    "    axs[i].set_ylim(170,220)\n",
    "    axs[i].set_title(t.strftime(\"%d.%m.%Y %H:%M\"))"
   ]
  },
  {
   "cell_type": "code",
   "execution_count": 44,
   "metadata": {},
   "outputs": [
    {
     "data": {
      "text/html": [
       "<div>\n",
       "<style scoped>\n",
       "    .dataframe tbody tr th:only-of-type {\n",
       "        vertical-align: middle;\n",
       "    }\n",
       "\n",
       "    .dataframe tbody tr th {\n",
       "        vertical-align: top;\n",
       "    }\n",
       "\n",
       "    .dataframe thead th {\n",
       "        text-align: right;\n",
       "    }\n",
       "</style>\n",
       "<table border=\"1\" class=\"dataframe\">\n",
       "  <thead>\n",
       "    <tr style=\"text-align: right;\">\n",
       "      <th></th>\n",
       "      <th>date</th>\n",
       "      <th>time</th>\n",
       "      <th>id</th>\n",
       "      <th>flags</th>\n",
       "      <th>t0</th>\n",
       "      <th>t1</th>\n",
       "      <th>l00</th>\n",
       "      <th>l01</th>\n",
       "      <th>c00</th>\n",
       "      <th>c01</th>\n",
       "      <th>l0</th>\n",
       "      <th>l1</th>\n",
       "      <th>c0</th>\n",
       "      <th>c1</th>\n",
       "      <th>area0</th>\n",
       "      <th>area_max</th>\n",
       "      <th>darea</th>\n",
       "      <th>area_ratio</th>\n",
       "      <th>area_20dbz</th>\n",
       "      <th>area_35dbz</th>\n",
       "    </tr>\n",
       "  </thead>\n",
       "  <tbody>\n",
       "    <tr>\n",
       "      <th>53604</th>\n",
       "      <td>2013-08-24</td>\n",
       "      <td>14:40</td>\n",
       "      <td>429</td>\n",
       "      <td>0</td>\n",
       "      <td>176</td>\n",
       "      <td>182</td>\n",
       "      <td>190</td>\n",
       "      <td>198</td>\n",
       "      <td>500</td>\n",
       "      <td>507</td>\n",
       "      <td>189</td>\n",
       "      <td>241</td>\n",
       "      <td>460</td>\n",
       "      <td>514</td>\n",
       "      <td>56</td>\n",
       "      <td>2808</td>\n",
       "      <td>2752</td>\n",
       "      <td>0.754839</td>\n",
       "      <td>310</td>\n",
       "      <td>234</td>\n",
       "    </tr>\n",
       "  </tbody>\n",
       "</table>\n",
       "</div>"
      ],
      "text/plain": [
       "             date   time   id  flags   t0   t1  l00  l01  c00  c01   l0   l1  \\\n",
       "53604  2013-08-24  14:40  429      0  176  182  190  198  500  507  189  241   \n",
       "\n",
       "        c0   c1  area0  area_max  darea area_ratio area_20dbz area_35dbz  \n",
       "53604  460  514     56      2808   2752   0.754839        310        234  "
      ]
     },
     "execution_count": 44,
     "metadata": {},
     "output_type": "execute_result"
    }
   ],
   "source": [
    "obj"
   ]
  },
  {
   "cell_type": "markdown",
   "metadata": {},
   "source": [
    "Irgendwie ist die Objektgröße bei t<sub>0</sub> seltsam. Die Fläche sollte 56 px<sup>2</sup> betragen, aber im Bild ist der Bereich mit Z &geq; 35 dBZ deutlich größer. Aber das Problem scheint nicht die Methode, sondern die Datengrundlage zu sein. 14:30 und 14:35 ist das Niederschlagssignal im betrachteten Bereich seltsamerweise niedriger zu sein als zuvor und danach. Vielleicht ist hier der RADOLAN-Aggregierungsalgorithmus das Problem?"
   ]
  },
  {
   "cell_type": "code",
   "execution_count": null,
   "metadata": {
    "collapsed": true
   },
   "outputs": [],
   "source": []
  }
 ],
 "metadata": {
  "kernelspec": {
   "display_name": "Python 3",
   "language": "python",
   "name": "python3"
  },
  "language_info": {
   "codemirror_mode": {
    "name": "ipython",
    "version": 3
   },
   "file_extension": ".py",
   "mimetype": "text/x-python",
   "name": "python",
   "nbconvert_exporter": "python",
   "pygments_lexer": "ipython3",
   "version": "3.7.4"
  }
 },
 "nbformat": 4,
 "nbformat_minor": 2
}
