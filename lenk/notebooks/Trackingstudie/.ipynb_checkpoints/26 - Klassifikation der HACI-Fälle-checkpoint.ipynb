{
 "cells": [
  {
   "cell_type": "markdown",
   "metadata": {},
   "source": [
    "# Automatische Klassifizierung von Wolkenfeldausschnitten\n",
    "\n",
    "Um eine große Falldatenbank zu erstellen, ist es von Vorteil die HACI-Fälle automatisch klassifizieren zu können. Hier ein Versuch mit Deep-CNN nach dem Beispiel unter https://machinelearningmastery.com/how-to-develop-a-convolutional-neural-network-to-classify-satellite-photos-of-the-amazon-rainforest/."
   ]
  },
  {
   "cell_type": "code",
   "execution_count": 1,
   "metadata": {},
   "outputs": [
    {
     "name": "stderr",
     "output_type": "stream",
     "text": [
      "/vols/talos/local/anaconda2-5.0.0/lib/python2.7/site-packages/h5py/__init__.py:36: FutureWarning: Conversion of the second argument of issubdtype from `float` to `np.floating` is deprecated. In future, it will be treated as `np.float64 == np.dtype(float).type`.\n",
      "  from ._conv import register_converters as _register_converters\n",
      "Using TensorFlow backend.\n"
     ]
    }
   ],
   "source": [
    "import pandas as pd\n",
    "import numpy as np\n",
    "import matplotlib.pyplot as plt\n",
    "%matplotlib inline\n",
    "\n",
    "from os import listdir\n",
    "from numpy import zeros\n",
    "from numpy import asarray\n",
    "from numpy import savez_compressed\n",
    "from pandas import read_csv\n",
    "from keras.preprocessing.image import load_img\n",
    "from keras.preprocessing.image import img_to_array"
   ]
  },
  {
   "cell_type": "markdown",
   "metadata": {},
   "source": [
    "Die gefilterten HACI-Fälle des Jahres 2013 wurden manuell in folgende fünf Klassen eingeteilt:\n",
    "\n",
    "|      Klasse     |                 Erläuterung                | \n",
    "|:---------------:|:------------------------------------------:|\n",
    "|    isoliert     |      islolierte konvektive Auslösung       |\n",
    "| im Wolkenfeld   |  Auslösung in einem lockeren Wolkenfeld    |\n",
    "|  unter Wolken   |       Auslösung unter hohen Wolken         |\n",
    "| Randentwicklung | neue Entwicklung am Rand einer bestehenden |\n",
    "|     nichts      |        keine Entwicklung sichtbar          |\n",
    "\n",
    "Im Folgenden versuchen wir ein Deep Concolutional Neuronal Network (DCNN) darauf zu trainieren, diese Klassen zu erkennen. Dafür wandeln wir die Klassen erstmal in Zahlenwerte um."
   ]
  },
  {
   "cell_type": "code",
   "execution_count": 2,
   "metadata": {
    "collapsed": true
   },
   "outputs": [],
   "source": [
    "haci_cases = pd.read_csv(\"/vols/satellit/home/lenk/proj/2019-01_trackingstudie/haci_objects/haci_ojekte_2013_klassifiziert.csv\")"
   ]
  },
  {
   "cell_type": "code",
   "execution_count": 3,
   "metadata": {},
   "outputs": [
    {
     "data": {
      "text/html": [
       "<div>\n",
       "<style scoped>\n",
       "    .dataframe tbody tr th:only-of-type {\n",
       "        vertical-align: middle;\n",
       "    }\n",
       "\n",
       "    .dataframe tbody tr th {\n",
       "        vertical-align: top;\n",
       "    }\n",
       "\n",
       "    .dataframe thead th {\n",
       "        text-align: right;\n",
       "    }\n",
       "</style>\n",
       "<table border=\"1\" class=\"dataframe\">\n",
       "  <thead>\n",
       "    <tr style=\"text-align: right;\">\n",
       "      <th></th>\n",
       "      <th>image_name</th>\n",
       "      <th>tags</th>\n",
       "    </tr>\n",
       "  </thead>\n",
       "  <tbody>\n",
       "    <tr>\n",
       "      <th>0</th>\n",
       "      <td>20130313_605.png</td>\n",
       "      <td>isoliert</td>\n",
       "    </tr>\n",
       "    <tr>\n",
       "      <th>1</th>\n",
       "      <td>20130319_581.png</td>\n",
       "      <td>in_Wolkenfeld</td>\n",
       "    </tr>\n",
       "    <tr>\n",
       "      <th>2</th>\n",
       "      <td>20130321_408.png</td>\n",
       "      <td>unter_Wolken</td>\n",
       "    </tr>\n",
       "    <tr>\n",
       "      <th>3</th>\n",
       "      <td>20130410_347.png</td>\n",
       "      <td>unter_Wolken</td>\n",
       "    </tr>\n",
       "    <tr>\n",
       "      <th>4</th>\n",
       "      <td>20130410_629.png</td>\n",
       "      <td>unter_Wolken</td>\n",
       "    </tr>\n",
       "  </tbody>\n",
       "</table>\n",
       "</div>"
      ],
      "text/plain": [
       "         image_name           tags\n",
       "0  20130313_605.png       isoliert\n",
       "1  20130319_581.png  in_Wolkenfeld\n",
       "2  20130321_408.png   unter_Wolken\n",
       "3  20130410_347.png   unter_Wolken\n",
       "4  20130410_629.png   unter_Wolken"
      ]
     },
     "execution_count": 3,
     "metadata": {},
     "output_type": "execute_result"
    }
   ],
   "source": [
    "haci_cases.head()"
   ]
  },
  {
   "cell_type": "code",
   "execution_count": 7,
   "metadata": {},
   "outputs": [
    {
     "data": {
      "text/plain": [
       "in_Wolkenfeld      0.563126\n",
       "unter_Wolken       0.324649\n",
       "isoliert           0.070140\n",
       "Randentwicklung    0.040080\n",
       "nichts             0.002004\n",
       "Name: tags, dtype: float64"
      ]
     },
     "execution_count": 7,
     "metadata": {},
     "output_type": "execute_result"
    }
   ],
   "source": [
    "haci_cases.tags.value_counts(normalize=True)"
   ]
  },
  {
   "cell_type": "code",
   "execution_count": 8,
   "metadata": {
    "collapsed": true
   },
   "outputs": [],
   "source": [
    "def create_tag_mapping(mapping_csv):\n",
    "    # create a set of all known tags\n",
    "    labels = list(haci_cases.tags.unique())\n",
    "    # order set alphabetically\n",
    "    labels.sort()\n",
    "    # dict that maps labels to integers, and the reverse\n",
    "    labels_map = {labels[i]:i for i in range(len(labels))}\n",
    "    inv_labels_map = {i:labels[i] for i in range(len(labels))}\n",
    "    return labels_map, inv_labels_map"
   ]
  },
  {
   "cell_type": "code",
   "execution_count": 9,
   "metadata": {
    "collapsed": true
   },
   "outputs": [],
   "source": [
    "labels_map, inv_labels_map = create_tag_mapping(haci_cases)"
   ]
  },
  {
   "cell_type": "code",
   "execution_count": 6,
   "metadata": {},
   "outputs": [
    {
     "name": "stdout",
     "output_type": "stream",
     "text": [
      "{'unter_Wolken': 4, 'in_Wolkenfeld': 1, 'nichts': 3, 'Randentwicklung': 0, 'isoliert': 2}\n"
     ]
    }
   ],
   "source": [
    "print(labels_map)"
   ]
  },
  {
   "cell_type": "code",
   "execution_count": 10,
   "metadata": {
    "collapsed": true
   },
   "outputs": [],
   "source": [
    "def create_file_mapping(mapping_csv):\n",
    "    mapping = dict()\n",
    "    for i in range(len(mapping_csv)):\n",
    "        name, tags = mapping_csv['image_name'][i], mapping_csv['tags'][i]\n",
    "        mapping[name] = tags.split(' ')\n",
    "    return mapping"
   ]
  },
  {
   "cell_type": "code",
   "execution_count": 9,
   "metadata": {
    "collapsed": true
   },
   "outputs": [],
   "source": [
    "file_mapping = create_file_mapping(haci_cases)"
   ]
  },
  {
   "cell_type": "code",
   "execution_count": 10,
   "metadata": {},
   "outputs": [
    {
     "name": "stdout",
     "output_type": "stream",
     "text": [
      "{'20130619_705.png': ['unter_Wolken'], '20130725_187.png': ['in_Wolkenfeld'], '20130518_614.png': ['unter_Wolken'], '20130804_329.png': ['in_Wolkenfeld'], '20130831_290.png': ['unter_Wolken'], '20130513_886.png': ['unter_Wolken'], '20130729_496.png': ['unter_Wolken'], '20131017_407.png': ['in_Wolkenfeld'], '20130730_374.png': ['in_Wolkenfeld'], '20130728_529.png': ['in_Wolkenfeld'], '20130313_605.png': ['isoliert'], '20130728_554.png': ['unter_Wolken'], '20130619_637.png': ['unter_Wolken'], '20130724_390.png': ['in_Wolkenfeld'], '20130523_734.png': ['in_Wolkenfeld'], '20130702_275.png': ['in_Wolkenfeld'], '20130910_971.png': ['in_Wolkenfeld'], '20130702_198.png': ['in_Wolkenfeld'], '20130611_1008.png': ['in_Wolkenfeld'], '20130703_327.png': ['in_Wolkenfeld'], '20130608_1132.png': ['Randentwicklung'], '20130724_307.png': ['Randentwicklung'], '20130729_443.png': ['unter_Wolken'], '20130729_481.png': ['unter_Wolken'], '20130701_257.png': ['unter_Wolken'], '20130624_1075.png': ['unter_Wolken'], '20130730_450.png': ['in_Wolkenfeld'], '20130508_937.png': ['isoliert'], '20130730_301.png': ['in_Wolkenfeld'], '20130819_570.png': ['unter_Wolken'], '20130615_1090.png': ['in_Wolkenfeld'], '20130807_280.png': ['unter_Wolken'], '20130812_259.png': ['unter_Wolken'], '20130906_283.png': ['isoliert'], '20130609_360.png': ['unter_Wolken'], '20130725_201.png': ['unter_Wolken'], '20130831_508.png': ['in_Wolkenfeld'], '20130608_1259.png': ['unter_Wolken'], '20130703_589.png': ['in_Wolkenfeld'], '20130909_973.png': ['in_Wolkenfeld'], '20130813_324.png': ['in_Wolkenfeld'], '20130730_438.png': ['in_Wolkenfeld'], '20130702_149.png': ['in_Wolkenfeld'], '20130703_773.png': ['in_Wolkenfeld'], '20130813_297.png': ['in_Wolkenfeld'], '20130729_307.png': ['unter_Wolken'], '20130819_506.png': ['unter_Wolken'], '20130926_826.png': ['in_Wolkenfeld'], '20130523_669.png': ['in_Wolkenfeld'], '20130808_295.png': ['in_Wolkenfeld'], '20130915_349.png': ['unter_Wolken'], '20130910_618.png': ['in_Wolkenfeld'], '20130625_905.png': ['in_Wolkenfeld'], '20130530_817.png': ['unter_Wolken'], '20130619_468.png': ['in_Wolkenfeld'], '20130911_757.png': ['in_Wolkenfeld'], '20130810_427.png': ['in_Wolkenfeld'], '20130509_1031.png': ['in_Wolkenfeld'], '20130901_260.png': ['in_Wolkenfeld'], '20130703_768.png': ['in_Wolkenfeld'], '20130810_308.png': ['in_Wolkenfeld'], '20130907_493.png': ['in_Wolkenfeld'], '20130909_874.png': ['unter_Wolken'], '20130825_458.png': ['in_Wolkenfeld'], '20130730_403.png': ['in_Wolkenfeld'], '20130819_648.png': ['unter_Wolken'], '20130719_178.png': ['in_Wolkenfeld'], '20130613_997.png': ['unter_Wolken'], '20130518_931.png': ['isoliert'], '20130806_241.png': ['in_Wolkenfeld'], '20130724_351.png': ['Randentwicklung'], '20130512_1012.png': ['in_Wolkenfeld'], '20130818_676.png': ['in_Wolkenfeld'], '20130619_1432.png': ['isoliert'], '20130806_348.png': ['in_Wolkenfeld'], '20130804_224.png': ['isoliert'], '20130725_312.png': ['in_Wolkenfeld'], '20130509_739.png': ['unter_Wolken'], '20130508_863.png': ['Randentwicklung'], '20130724_310.png': ['in_Wolkenfeld'], '20130619_1348.png': ['unter_Wolken'], '20130613_984.png': ['unter_Wolken'], '20130516_1107.png': ['unter_Wolken'], '20130512_523.png': ['in_Wolkenfeld'], '20130628_698.png': ['in_Wolkenfeld'], '20130730_614.png': ['in_Wolkenfeld'], '20130601_1201.png': ['Randentwicklung'], '20130731_380.png': ['in_Wolkenfeld'], '20130823_388.png': ['in_Wolkenfeld'], '20130621_468.png': ['unter_Wolken'], '20130509_685.png': ['Randentwicklung'], '20130504_1036.png': ['in_Wolkenfeld'], '20130518_639.png': ['unter_Wolken'], '20130703_666.png': ['Randentwicklung'], '20130810_401.png': ['in_Wolkenfeld'], '20130812_265.png': ['unter_Wolken'], '20130912_562.png': ['unter_Wolken'], '20130820_285.png': ['unter_Wolken'], '20130620_675.png': ['isoliert'], '20130418_773.png': ['in_Wolkenfeld'], '20130813_203.png': ['isoliert'], '20130703_820.png': ['unter_Wolken'], '20130517_952.png': ['unter_Wolken'], '20130509_1089.png': ['unter_Wolken'], '20130731_261.png': ['unter_Wolken'], '20130813_436.png': ['in_Wolkenfeld'], '20130620_977.png': ['unter_Wolken'], '20130926_728.png': ['unter_Wolken'], '20130703_941.png': ['unter_Wolken'], '20130619_697.png': ['in_Wolkenfeld'], '20130515_1116.png': ['unter_Wolken'], '20130703_767.png': ['in_Wolkenfeld'], '20130725_189.png': ['in_Wolkenfeld'], '20130919_637.png': ['in_Wolkenfeld'], '20130625_637.png': ['unter_Wolken'], '20130730_388.png': ['in_Wolkenfeld'], '20130703_837.png': ['in_Wolkenfeld'], '20130512_1041.png': ['in_Wolkenfeld'], '20130803_585.png': ['in_Wolkenfeld'], '20130810_473.png': ['in_Wolkenfeld'], '20130725_208.png': ['in_Wolkenfeld'], '20130516_1091.png': ['unter_Wolken'], '20130804_256.png': ['in_Wolkenfeld'], '20130901_633.png': ['in_Wolkenfeld'], '20130418_784.png': ['in_Wolkenfeld'], '20130629_540.png': ['unter_Wolken'], '20130724_223.png': ['unter_Wolken'], '20130804_334.png': ['unter_Wolken'], '20130517_901.png': ['unter_Wolken'], '20130828_461.png': ['in_Wolkenfeld'], '20130507_1146.png': ['in_Wolkenfeld'], '20130511_904.png': ['unter_Wolken'], '20130719_134.png': ['isoliert'], '20130806_224.png': ['in_Wolkenfeld'], '20130416_549.png': ['isoliert'], '20130730_290.png': ['in_Wolkenfeld'], '20130726_356.png': ['unter_Wolken'], '20130814_160.png': ['in_Wolkenfeld'], '20130517_1033.png': ['unter_Wolken'], '20130725_297.png': ['in_Wolkenfeld'], '20130806_410.png': ['unter_Wolken'], '20130730_313.png': ['in_Wolkenfeld'], '20130416_565.png': ['Randentwicklung'], '20130806_399.png': ['unter_Wolken'], '20130806_388.png': ['unter_Wolken'], '20130729_323.png': ['in_Wolkenfeld'], '20130621_583.png': ['in_Wolkenfeld'], '20130410_687.png': ['in_Wolkenfeld'], '20130518_711.png': ['unter_Wolken'], '20130729_199.png': ['in_Wolkenfeld'], '20130418_731.png': ['in_Wolkenfeld'], '20130619_1371.png': ['unter_Wolken'], '20130813_225.png': ['in_Wolkenfeld'], '20130619_1202.png': ['nichts'], '20130601_1029.png': ['unter_Wolken'], '20130512_459.png': ['in_Wolkenfeld'], '20130803_529.png': ['in_Wolkenfeld'], '20130730_384.png': ['in_Wolkenfeld'], '20130703_629.png': ['unter_Wolken'], '20130726_188.png': ['unter_Wolken'], '20130726_157.png': ['unter_Wolken'], '20130517_792.png': ['in_Wolkenfeld'], '20130507_812.png': ['in_Wolkenfeld'], '20130416_611.png': ['in_Wolkenfeld'], '20130509_663.png': ['in_Wolkenfeld'], '20130509_842.png': ['unter_Wolken'], '20130810_318.png': ['in_Wolkenfeld'], '20130319_581.png': ['in_Wolkenfeld'], '20130508_659.png': ['Randentwicklung'], '20130517_961.png': ['unter_Wolken'], '20130511_727.png': ['in_Wolkenfeld'], '20130818_583.png': ['unter_Wolken'], '20130608_1133.png': ['in_Wolkenfeld'], '20130817_216.png': ['isoliert'], '20130519_927.png': ['unter_Wolken'], '20130729_545.png': ['unter_Wolken'], '20130729_512.png': ['unter_Wolken'], '20130912_640.png': ['in_Wolkenfeld'], '20130608_1110.png': ['in_Wolkenfeld'], '20130521_481.png': ['in_Wolkenfeld'], '20130730_487.png': ['in_Wolkenfeld'], '20130808_166.png': ['unter_Wolken'], '20130525_995.png': ['in_Wolkenfeld'], '20130806_324.png': ['in_Wolkenfeld'], '20130806_346.png': ['unter_Wolken'], '20130724_440.png': ['in_Wolkenfeld'], '20130926_722.png': ['unter_Wolken'], '20130530_769.png': ['unter_Wolken'], '20130611_539.png': ['in_Wolkenfeld'], '20130512_568.png': ['isoliert'], '20130824_126.png': ['unter_Wolken'], '20130509_589.png': ['Randentwicklung'], '20131009_370.png': ['unter_Wolken'], '20130729_476.png': ['unter_Wolken'], '20130705_225.png': ['in_Wolkenfeld'], '20130703_715.png': ['in_Wolkenfeld'], '20130810_309.png': ['in_Wolkenfeld'], '20130806_351.png': ['in_Wolkenfeld'], '20130506_933.png': ['in_Wolkenfeld'], '20130726_285.png': ['in_Wolkenfeld'], '20130627_724.png': ['in_Wolkenfeld'], '20130725_332.png': ['unter_Wolken'], '20130416_446.png': ['isoliert'], '20130710_236.png': ['in_Wolkenfeld'], '20130615_1209.png': ['in_Wolkenfeld'], '20130810_466.png': ['in_Wolkenfeld'], '20130726_274.png': ['Randentwicklung'], '20130615_1101.png': ['unter_Wolken'], '20130725_184.png': ['in_Wolkenfeld'], '20130625_569.png': ['in_Wolkenfeld'], '20130730_616.png': ['in_Wolkenfeld'], '20130807_283.png': ['unter_Wolken'], '20130809_195.png': ['unter_Wolken'], '20130824_193.png': ['unter_Wolken'], '20130724_526.png': ['in_Wolkenfeld'], '20130808_190.png': ['in_Wolkenfeld'], '20130813_248.png': ['in_Wolkenfeld'], '20130812_309.png': ['in_Wolkenfeld'], '20130512_750.png': ['in_Wolkenfeld'], '20130911_584.png': ['unter_Wolken'], '20130804_350.png': ['unter_Wolken'], '20130509_596.png': ['Randentwicklung'], '20130730_418.png': ['in_Wolkenfeld'], '20130909_564.png': ['in_Wolkenfeld'], '20130509_786.png': ['in_Wolkenfeld'], '20130618_1348.png': ['isoliert'], '20130609_859.png': ['unter_Wolken'], '20130909_960.png': ['in_Wolkenfeld'], '20130909_840.png': ['unter_Wolken'], '20130601_1350.png': ['in_Wolkenfeld'], '20130723_417.png': ['isoliert'], '20130701_163.png': ['isoliert'], '20130907_399.png': ['unter_Wolken'], '20130508_901.png': ['unter_Wolken'], '20130623_877.png': ['in_Wolkenfeld'], '20130416_593.png': ['in_Wolkenfeld'], '20130628_671.png': ['in_Wolkenfeld'], '20130810_456.png': ['in_Wolkenfeld'], '20130508_451.png': ['in_Wolkenfeld'], '20130509_604.png': ['in_Wolkenfeld'], '20130725_303.png': ['isoliert'], '20130807_256.png': ['in_Wolkenfeld'], '20130509_759.png': ['in_Wolkenfeld'], '20130623_758.png': ['in_Wolkenfeld'], '20130509_798.png': ['in_Wolkenfeld'], '20130725_372.png': ['in_Wolkenfeld'], '20130920_736.png': ['unter_Wolken'], '20130912_1003.png': ['unter_Wolken'], '20130928_634.png': ['in_Wolkenfeld'], '20130724_334.png': ['in_Wolkenfeld'], '20130611_710.png': ['in_Wolkenfeld'], '20130906_309.png': ['in_Wolkenfeld'], '20130418_602.png': ['in_Wolkenfeld'], '20130427_610.png': ['in_Wolkenfeld'], '20130624_452.png': ['in_Wolkenfeld'], '20130517_940.png': ['in_Wolkenfeld'], '20130804_362.png': ['unter_Wolken'], '20130702_194.png': ['in_Wolkenfeld'], '20130730_294.png': ['in_Wolkenfeld'], '20130703_713.png': ['in_Wolkenfeld'], '20130710_225.png': ['in_Wolkenfeld'], '20130828_595.png': ['in_Wolkenfeld'], '20130725_340.png': ['unter_Wolken'], '20130418_722.png': ['in_Wolkenfeld'], '20130619_1287.png': ['unter_Wolken'], '20130813_238.png': ['in_Wolkenfeld'], '20130729_509.png': ['unter_Wolken'], '20130819_576.png': ['in_Wolkenfeld'], '20130504_723.png': ['in_Wolkenfeld'], '20130410_629.png': ['unter_Wolken'], '20130831_660.png': ['in_Wolkenfeld'], '20130907_286.png': ['unter_Wolken'], '20130807_231.png': ['in_Wolkenfeld'], '20130530_734.png': ['unter_Wolken'], '20130723_503.png': ['in_Wolkenfeld'], '20130619_1427.png': ['unter_Wolken'], '20130615_1130.png': ['in_Wolkenfeld'], '20130819_559.png': ['in_Wolkenfeld'], '20130702_171.png': ['in_Wolkenfeld'], '20130730_429.png': ['in_Wolkenfeld'], '20130908_396.png': ['in_Wolkenfeld'], '20130804_246.png': ['Randentwicklung'], '20130724_480.png': ['unter_Wolken'], '20130804_222.png': ['in_Wolkenfeld'], '20130609_525.png': ['in_Wolkenfeld'], '20130515_899.png': ['in_Wolkenfeld'], '20130509_704.png': ['unter_Wolken'], '20130416_522.png': ['isoliert'], '20130831_455.png': ['unter_Wolken'], '20130727_334.png': ['in_Wolkenfeld'], '20130728_224.png': ['unter_Wolken'], '20130619_1384.png': ['unter_Wolken'], '20130601_684.png': ['in_Wolkenfeld'], '20130507_884.png': ['in_Wolkenfeld'], '20130618_1268.png': ['unter_Wolken'], '20130321_408.png': ['unter_Wolken'], '20130724_512.png': ['in_Wolkenfeld'], '20130519_753.png': ['in_Wolkenfeld'], '20130519_777.png': ['in_Wolkenfeld'], '20130725_321.png': ['in_Wolkenfeld'], '20130410_347.png': ['unter_Wolken'], '20130731_570.png': ['unter_Wolken'], '20130702_187.png': ['in_Wolkenfeld'], '20130529_699.png': ['in_Wolkenfeld'], '20130730_287.png': ['in_Wolkenfeld'], '20130806_267.png': ['in_Wolkenfeld'], '20130611_1168.png': ['in_Wolkenfeld'], '20130729_542.png': ['unter_Wolken'], '20130615_967.png': ['in_Wolkenfeld'], '20130812_324.png': ['in_Wolkenfeld'], '20131020_355.png': ['unter_Wolken'], '20130624_1141.png': ['unter_Wolken'], '20130621_249.png': ['unter_Wolken'], '20130508_733.png': ['Randentwicklung'], '20130609_714.png': ['isoliert'], '20130725_211.png': ['in_Wolkenfeld'], '20131105_419.png': ['unter_Wolken'], '20130623_1170.png': ['in_Wolkenfeld'], '20130806_376.png': ['in_Wolkenfeld'], '20130814_116.png': ['in_Wolkenfeld'], '20130812_207.png': ['Randentwicklung'], '20130825_413.png': ['in_Wolkenfeld'], '20130701_140.png': ['in_Wolkenfeld'], '20130812_139.png': ['in_Wolkenfeld'], '20130509_640.png': ['isoliert'], '20130730_605.png': ['in_Wolkenfeld'], '20130730_457.png': ['in_Wolkenfeld'], '20130919_346.png': ['in_Wolkenfeld'], '20130624_703.png': ['in_Wolkenfeld'], '20130703_561.png': ['unter_Wolken'], '20130418_587.png': ['unter_Wolken'], '20130618_1305.png': ['isoliert'], '20130514_896.png': ['unter_Wolken'], '20130806_382.png': ['unter_Wolken'], '20130806_253.png': ['isoliert'], '20130726_244.png': ['isoliert'], '20130725_191.png': ['isoliert'], '20130807_279.png': ['unter_Wolken'], '20130416_731.png': ['isoliert'], '20130522_723.png': ['unter_Wolken'], '20130624_823.png': ['unter_Wolken'], '20130818_656.png': ['in_Wolkenfeld'], '20130818_527.png': ['in_Wolkenfeld'], '20130926_869.png': ['unter_Wolken'], '20130729_247.png': ['in_Wolkenfeld'], '20130909_919.png': ['in_Wolkenfeld'], '20130831_707.png': ['in_Wolkenfeld'], '20130819_662.png': ['in_Wolkenfeld'], '20130624_689.png': ['in_Wolkenfeld'], '20130804_194.png': ['in_Wolkenfeld'], '20130810_299.png': ['in_Wolkenfeld'], '20130531_800.png': ['Randentwicklung'], '20131020_403.png': ['unter_Wolken'], '20130520_753.png': ['in_Wolkenfeld'], '20130628_397.png': ['in_Wolkenfeld'], '20130515_919.png': ['in_Wolkenfeld'], '20130916_724.png': ['in_Wolkenfeld'], '20130726_436.png': ['unter_Wolken'], '20130723_528.png': ['in_Wolkenfeld'], '20130819_563.png': ['in_Wolkenfeld'], '20130528_1084.png': ['isoliert'], '20130803_671.png': ['unter_Wolken'], '20130730_314.png': ['in_Wolkenfeld'], '20130806_423.png': ['unter_Wolken'], '20130620_780.png': ['Randentwicklung'], '20130909_699.png': ['in_Wolkenfeld'], '20130819_544.png': ['in_Wolkenfeld'], '20130910_652.png': ['unter_Wolken'], '20130724_269.png': ['in_Wolkenfeld'], '20130509_990.png': ['in_Wolkenfeld'], '20130806_343.png': ['in_Wolkenfeld'], '20130724_346.png': ['in_Wolkenfeld'], '20130701_136.png': ['isoliert'], '20130803_604.png': ['in_Wolkenfeld'], '20130916_791.png': ['unter_Wolken'], '20130723_373.png': ['isoliert'], '20130804_332.png': ['unter_Wolken'], '20130730_682.png': ['in_Wolkenfeld'], '20130730_309.png': ['in_Wolkenfeld'], '20130528_863.png': ['in_Wolkenfeld'], '20131020_441.png': ['unter_Wolken'], '20130723_509.png': ['in_Wolkenfeld'], '20131119_246.png': ['unter_Wolken'], '20130819_434.png': ['in_Wolkenfeld'], '20130619_463.png': ['in_Wolkenfeld'], '20130618_1115.png': ['isoliert'], '20130517_918.png': ['unter_Wolken'], '20130806_352.png': ['in_Wolkenfeld'], '20130621_739.png': ['in_Wolkenfeld'], '20130725_258.png': ['in_Wolkenfeld'], '20130831_505.png': ['unter_Wolken'], '20130726_196.png': ['unter_Wolken'], '20130810_420.png': ['in_Wolkenfeld'], '20130731_247.png': ['unter_Wolken'], '20130412_575.png': ['in_Wolkenfeld'], '20130813_490.png': ['in_Wolkenfeld'], '20130416_607.png': ['in_Wolkenfeld'], '20130525_858.png': ['unter_Wolken'], '20130729_289.png': ['in_Wolkenfeld'], '20130730_350.png': ['in_Wolkenfeld'], '20130701_73.png': ['in_Wolkenfeld'], '20130504_887.png': ['in_Wolkenfeld'], '20130804_130.png': ['in_Wolkenfeld'], '20130819_402.png': ['unter_Wolken'], '20130804_160.png': ['in_Wolkenfeld'], '20130511_982.png': ['unter_Wolken'], '20130819_691.png': ['in_Wolkenfeld'], '20130517_873.png': ['in_Wolkenfeld'], '20130623_824.png': ['in_Wolkenfeld'], '20130906_409.png': ['in_Wolkenfeld'], '20130728_532.png': ['unter_Wolken'], '20130806_309.png': ['Randentwicklung'], '20130710_230.png': ['in_Wolkenfeld'], '20130917_946.png': ['unter_Wolken'], '20130820_218.png': ['unter_Wolken'], '20130712_234.png': ['in_Wolkenfeld'], '20130418_688.png': ['in_Wolkenfeld'], '20130806_323.png': ['unter_Wolken'], '20130609_348.png': ['unter_Wolken'], '20130803_618.png': ['in_Wolkenfeld'], '20130810_311.png': ['in_Wolkenfeld'], '20130623_939.png': ['in_Wolkenfeld'], '20130702_202.png': ['in_Wolkenfeld'], '20130516_1106.png': ['unter_Wolken'], '20130611_976.png': ['Randentwicklung'], '20130806_350.png': ['in_Wolkenfeld'], '20130619_1263.png': ['in_Wolkenfeld'], '20130916_538.png': ['in_Wolkenfeld'], '20130828_490.png': ['in_Wolkenfeld'], '20130725_210.png': ['isoliert'], '20130620_736.png': ['in_Wolkenfeld'], '20130725_172.png': ['in_Wolkenfeld'], '20130508_535.png': ['in_Wolkenfeld'], '20130531_551.png': ['unter_Wolken'], '20130725_348.png': ['in_Wolkenfeld'], '20130729_269.png': ['in_Wolkenfeld'], '20130831_377.png': ['unter_Wolken'], '20130601_755.png': ['in_Wolkenfeld'], '20130704_492.png': ['in_Wolkenfeld'], '20130724_303.png': ['in_Wolkenfeld'], '20130803_452.png': ['unter_Wolken'], '20130810_331.png': ['in_Wolkenfeld'], '20130808_274.png': ['in_Wolkenfeld'], '20130620_907.png': ['unter_Wolken'], '20130509_731.png': ['unter_Wolken'], '20130723_471.png': ['isoliert'], '20130608_706.png': ['isoliert'], '20130504_856.png': ['in_Wolkenfeld'], '20131219_527.png': ['in_Wolkenfeld'], '20130619_1425.png': ['unter_Wolken'], '20130507_1052.png': ['unter_Wolken'], '20130726_364.png': ['unter_Wolken'], '20130701_208.png': ['in_Wolkenfeld'], '20130911_614.png': ['in_Wolkenfeld'], '20130728_548.png': ['in_Wolkenfeld'], '20130819_692.png': ['unter_Wolken'], '20130819_686.png': ['unter_Wolken'], '20130710_238.png': ['in_Wolkenfeld'], '20130917_792.png': ['in_Wolkenfeld'], '20130601_589.png': ['unter_Wolken'], '20130508_753.png': ['unter_Wolken'], '20130807_260.png': ['unter_Wolken'], '20130517_956.png': ['in_Wolkenfeld'], '20130818_607.png': ['unter_Wolken'], '20130620_719.png': ['unter_Wolken'], '20130416_724.png': ['isoliert'], '20130608_1099.png': ['in_Wolkenfeld'], '20130910_835.png': ['unter_Wolken'], '20130806_373.png': ['unter_Wolken'], '20130724_460.png': ['in_Wolkenfeld'], '20130620_546.png': ['unter_Wolken'], '20130727_403.png': ['in_Wolkenfeld'], '20130911_563.png': ['in_Wolkenfeld'], '20130509_695.png': ['in_Wolkenfeld'], '20130724_197.png': ['unter_Wolken'], '20130926_798.png': ['in_Wolkenfeld'], '20130509_960.png': ['unter_Wolken'], '20130723_445.png': ['in_Wolkenfeld'], '20130723_385.png': ['isoliert'], '20130515_777.png': ['unter_Wolken'], '20130729_298.png': ['in_Wolkenfeld'], '20130509_698.png': ['unter_Wolken'], '20130911_476.png': ['in_Wolkenfeld'], '20130803_559.png': ['in_Wolkenfeld'], '20130726_294.png': ['in_Wolkenfeld'], '20130523_750.png': ['in_Wolkenfeld'], '20130911_621.png': ['unter_Wolken'], '20130724_374.png': ['in_Wolkenfeld'], '20130724_379.png': ['in_Wolkenfeld'], '20130725_319.png': ['in_Wolkenfeld'], '20130803_636.png': ['unter_Wolken'], '20130623_1199.png': ['in_Wolkenfeld'], '20130804_159.png': ['in_Wolkenfeld'], '20130620_679.png': ['isoliert'], '20130521_718.png': ['in_Wolkenfeld'], '20130725_271.png': ['in_Wolkenfeld'], '20130713_203.png': ['unter_Wolken'], '20130813_421.png': ['in_Wolkenfeld'], '20130806_287.png': ['Randentwicklung']}\n"
     ]
    }
   ],
   "source": [
    "print(file_mapping)"
   ]
  },
  {
   "cell_type": "markdown",
   "metadata": {},
   "source": [
    "Für die Klassifizierung müssen wir alle Bilder in den Arbeitsspeicher laden. Außerdem müssen wir die möglichen Klassen in einen Vektor mit fünf Elementen laden."
   ]
  },
  {
   "cell_type": "code",
   "execution_count": 15,
   "metadata": {
    "collapsed": true
   },
   "outputs": [],
   "source": [
    "image_path = \"/vols/satellit/home/lenk/proj/2019-01_trackingstudie/pics/haci_auto_nc/\""
   ]
  },
  {
   "cell_type": "code",
   "execution_count": 16,
   "metadata": {
    "collapsed": true
   },
   "outputs": [],
   "source": [
    "def one_hot_encode(tags, mapping):\n",
    "    # create empty vector\n",
    "    encoding = zeros(len(mapping), dtype='uint8')\n",
    "    # mark 1 for each tag in the vector\n",
    "    for tag in tags:\n",
    "        encoding[mapping[tag]] = 1\n",
    "    return encoding"
   ]
  },
  {
   "cell_type": "code",
   "execution_count": 17,
   "metadata": {
    "collapsed": true
   },
   "outputs": [],
   "source": [
    "def load_dataset(path, file_mapping, tag_mapping):\n",
    "    photos, targets = list(), list()\n",
    "    # enumerate files in the directory\n",
    "    for filename in listdir(path):\n",
    "        # load image\n",
    "        photo = load_img(path + filename, target_size=(15,45))\n",
    "        # convert to numpy array\n",
    "        photo = img_to_array(photo, dtype='uint8')[:,15:30,:]\n",
    "        # get tags\n",
    "        tags = file_mapping[filename]\n",
    "        # one hot encode tags\n",
    "        target = one_hot_encode(tags, tag_mapping)\n",
    "        # store\n",
    "        photos.append(photo)\n",
    "        targets.append(target)\n",
    "    X = asarray(photos, dtype='uint8')\n",
    "    y = asarray(targets, dtype='uint8')\n",
    "    return X, y"
   ]
  },
  {
   "cell_type": "code",
   "execution_count": 88,
   "metadata": {
    "collapsed": true
   },
   "outputs": [],
   "source": [
    "X,y = load_dataset(image_path,file_mapping,labels_map)"
   ]
  },
  {
   "cell_type": "code",
   "execution_count": 85,
   "metadata": {
    "collapsed": true
   },
   "outputs": [],
   "source": [
    "photo = load_img(\"{}/{}\".format(image_path,haci_cases.iloc[100].image_name),target_size=(15,45))"
   ]
  },
  {
   "cell_type": "code",
   "execution_count": 86,
   "metadata": {},
   "outputs": [
    {
     "data": {
      "image/png": "[encoded data removed]",
      "text/plain": [
       "<PIL.PngImagePlugin.PngImageFile image mode=RGB size=45x15 at 0x7F644025BF50>"
      ]
     },
     "execution_count": 86,
     "metadata": {},
     "output_type": "execute_result"
    }
   ],
   "source": [
    "photo"
   ]
  },
  {
   "cell_type": "code",
   "execution_count": 90,
   "metadata": {},
   "outputs": [
    {
     "data": {
      "text/plain": [
       "array([[0, 0, 0, 0, 1],\n",
       "       [0, 1, 0, 0, 0],\n",
       "       [0, 0, 0, 0, 1],\n",
       "       ...,\n",
       "       [0, 1, 0, 0, 0],\n",
       "       [0, 0, 0, 0, 1],\n",
       "       [0, 1, 0, 0, 0]], dtype=uint8)"
      ]
     },
     "execution_count": 90,
     "metadata": {},
     "output_type": "execute_result"
    }
   ],
   "source": [
    "y"
   ]
  },
  {
   "cell_type": "markdown",
   "metadata": {},
   "source": [
    "Für ein einfacheres Laden speichern wir uns die beiden Matrizen in eine Datei."
   ]
  },
  {
   "cell_type": "code",
   "execution_count": 91,
   "metadata": {
    "collapsed": true
   },
   "outputs": [],
   "source": [
    "savez_compressed('/vols/satellit/home/lenk/proj/2019-01_trackingstudie/haci_objects/haci_objects_2013.npz', X, y)"
   ]
  },
  {
   "cell_type": "markdown",
   "metadata": {},
   "source": [
    "Damit können wir loslegen das Modell zu trainieren. Allerdings müssen wir uns dafür noch eine Maßzahl ausdenken. Für eine Klassifizierungsproblem mit meheren Klassen bietet sich das F1- oder F2-Bewertungsmaß an:\n",
    "\n",
    "- Genauigkeit = TP / (TP + FP)\n",
    "- Rückruf = TP / (TP + FN)\n",
    "- F1 = 2 &middot; (Genauigkeit &middot; Rückruf) / (Genauigkeit + Rückruf)\n",
    "- F2 = (1 + 2<sup>2</sup>) &middot; (Genauigkeit &middot; Rückruf) / (2<sup>2</sup> &middot; Genauigkeit + Rückruf) = 5 &middot; (Genauigkeit &middot; Rückruf) / (4 &middot; Genuigkeit + Rückruf)"
   ]
  },
  {
   "cell_type": "markdown",
   "metadata": {},
   "source": [
    "Als nächstes teilen wir den Datensatz in einen Trainigsteil und einen Testteil auf."
   ]
  },
  {
   "cell_type": "code",
   "execution_count": 92,
   "metadata": {
    "collapsed": true
   },
   "outputs": [],
   "source": [
    "from sklearn.model_selection import train_test_split\n",
    "from sklearn.metrics import fbeta_score\n",
    "from tensorflow.keras import backend"
   ]
  },
  {
   "cell_type": "code",
   "execution_count": 93,
   "metadata": {
    "collapsed": true
   },
   "outputs": [],
   "source": [
    "trainX, testX, trainY, testY = train_test_split(X, y, test_size=0.3, random_state=1)"
   ]
  },
  {
   "cell_type": "code",
   "execution_count": 110,
   "metadata": {
    "collapsed": true
   },
   "outputs": [],
   "source": [
    "# calculate fbeta score for multi-class/label classification\n",
    "def fbeta(y_true, y_pred, beta=2):\n",
    "    # clip predictions\n",
    "    y_pred = backend.clip(y_pred, 0, 1)\n",
    "    # calculate elements\n",
    "    tp = backend.sum(backend.round(backend.clip(y_true * y_pred, 0, 1)), axis=1)\n",
    "    fp = backend.sum(backend.round(backend.clip(y_pred - y_true, 0, 1)), axis=1)\n",
    "    fn = backend.sum(backend.round(backend.clip(y_true - y_pred, 0, 1)), axis=1)\n",
    "    # calculate precision\n",
    "    p = tp / (tp + fp + backend.epsilon())\n",
    "    # calculate recall\n",
    "    r = tp / (tp + fn + backend.epsilon())\n",
    "    # calculate fbeta, averaged across each class\n",
    "    bb = beta ** 2\n",
    "    fbeta_score = backend.mean((1 + bb) * (p * r) / (bb * p + r + backend.epsilon()))\n",
    "    return fbeta_score"
   ]
  },
  {
   "cell_type": "markdown",
   "metadata": {},
   "source": [
    "Als nächstes basteln wir uns ein Modell."
   ]
  },
  {
   "cell_type": "code",
   "execution_count": 95,
   "metadata": {
    "collapsed": true
   },
   "outputs": [],
   "source": [
    "from tensorflow.python.keras import Sequential\n",
    "from tensorflow.python.keras.layers import Conv2D\n",
    "from tensorflow.python.keras.layers import MaxPooling2D\n",
    "from tensorflow.python.keras.layers import Flatten\n",
    "from tensorflow.python.keras.layers import Dense\n",
    "from tensorflow.python.keras.layers import Dropout\n",
    "from tensorflow.python.keras.applications.vgg16 import VGG16\n",
    "from tensorflow.python.keras.models import Model\n",
    "from tensorflow.python.keras.optimizers import SGD\n",
    "from keras.preprocessing.image import ImageDataGenerator\n",
    "from tensorflow.python.keras import backend as k"
   ]
  },
  {
   "cell_type": "code",
   "execution_count": 101,
   "metadata": {
    "collapsed": true
   },
   "outputs": [],
   "source": [
    "def define_model(in_shape=(15, 15, 3), out_shape=5):\n",
    "    model = Sequential()\n",
    "    model.add(Conv2D(32, (3, 3), activation='relu', kernel_initializer='he_uniform', padding='same', input_shape=in_shape))\n",
    "    model.add(Conv2D(32, (3, 3), activation='relu', kernel_initializer='he_uniform', padding='same'))\n",
    "    model.add(MaxPooling2D((2, 2)))\n",
    "    model.add(Conv2D(64, (3, 3), activation='relu', kernel_initializer='he_uniform', padding='same'))\n",
    "    model.add(Conv2D(64, (3, 3), activation='relu', kernel_initializer='he_uniform', padding='same'))\n",
    "    model.add(MaxPooling2D((2, 2)))\n",
    "    model.add(Conv2D(128, (3, 3), activation='relu', kernel_initializer='he_uniform', padding='same'))\n",
    "    model.add(Conv2D(128, (3, 3), activation='relu', kernel_initializer='he_uniform', padding='same'))\n",
    "    model.add(MaxPooling2D((2, 2)))\n",
    "    model.add(Flatten())\n",
    "    model.add(Dense(128, activation='relu', kernel_initializer='he_uniform'))\n",
    "    model.add(Dense(out_shape, activation='sigmoid'))\n",
    "    # compile model\n",
    "    opt = SGD(lr=0.01, momentum=0.9)\n",
    "    model.compile(optimizer=opt, loss='binary_crossentropy', metrics=[fbeta])\n",
    "    return model"
   ]
  },
  {
   "cell_type": "code",
   "execution_count": 67,
   "metadata": {
    "collapsed": true
   },
   "outputs": [],
   "source": [
    "# create data generator\n",
    "datagen = ImageDataGenerator(rescale=1.0/255.0)"
   ]
  },
  {
   "cell_type": "code",
   "execution_count": 98,
   "metadata": {
    "collapsed": true
   },
   "outputs": [],
   "source": [
    "train_it = datagen.flow(trainX, trainY, batch_size=128)\n",
    "test_it = datagen.flow(testX, testY, batch_size=128)"
   ]
  },
  {
   "cell_type": "markdown",
   "metadata": {},
   "source": [
    "Als nächstes passen wir das Modell an."
   ]
  },
  {
   "cell_type": "code",
   "execution_count": 129,
   "metadata": {
    "collapsed": true
   },
   "outputs": [],
   "source": [
    "model = define_model()"
   ]
  },
  {
   "cell_type": "code",
   "execution_count": 130,
   "metadata": {
    "collapsed": true
   },
   "outputs": [],
   "source": [
    "history = model.fit_generator(train_it,\n",
    "                              steps_per_epoch=len(train_it),\n",
    "                              validation_data=test_it,\n",
    "                              validation_steps=len(test_it), epochs=50, verbose=0)"
   ]
  },
  {
   "cell_type": "code",
   "execution_count": 131,
   "metadata": {},
   "outputs": [
    {
     "name": "stdout",
     "output_type": "stream",
     "text": [
      "> loss=0.250, fbeta=0.765\n"
     ]
    }
   ],
   "source": [
    "loss, fbeta_value = model.evaluate_generator(test_it, steps=len(test_it), verbose=0)\n",
    "print('> loss=%.3f, fbeta=%.3f' % (loss, fbeta_value))"
   ]
  },
  {
   "cell_type": "code",
   "execution_count": 106,
   "metadata": {
    "collapsed": true
   },
   "outputs": [],
   "source": [
    "def summarise_diagnostics(history):\n",
    "    # plot loss\n",
    "    plt.subplot(211)\n",
    "    plt.title('Cross Entropy Loss')\n",
    "    plt.plot(history.history['loss'], color='blue', label='train')\n",
    "    plt.plot(history.history['val_loss'], color='orange', label='test')\n",
    "    plt.legend()\n",
    "    # plot accuracy\n",
    "    plt.subplot(212)\n",
    "    plt.title('Fbeta')\n",
    "    plt.plot(history.history['fbeta'], color='blue', label='train')\n",
    "    plt.plot(history.history['val_fbeta'], color='orange', label='test')\n",
    "    plt.legend()"
   ]
  },
  {
   "cell_type": "code",
   "execution_count": 132,
   "metadata": {},
   "outputs": [
    {
     "data": {
      "image/png": "[encoded data removed]",
      "text/plain": [
       "<Figure size 432x288 with 2 Axes>"
      ]
     },
     "metadata": {},
     "output_type": "display_data"
    }
   ],
   "source": [
    "summarise_diagnostics(history)"
   ]
  },
  {
   "cell_type": "code",
   "execution_count": 133,
   "metadata": {},
   "outputs": [
    {
     "name": "stdout",
     "output_type": "stream",
     "text": [
      "Saved model to disk\n"
     ]
    }
   ],
   "source": [
    "# serialise model to JSON\n",
    "model_json = model.to_json()\n",
    "with open(\"/vols/satellit/home/lenk/proj/2019-01_trackingstudie/cnn-models/model_base.json\", \"w\") as json_file:\n",
    "    json_file.write(model_json)\n",
    "# serialize weights to HDF5\n",
    "model.save_weights(\"/vols/satellit/home/lenk/proj/2019-01_trackingstudie/cnn-models/model_base.h5\")\n",
    "print(\"Saved model to disk\")"
   ]
  },
  {
   "cell_type": "markdown",
   "metadata": {},
   "source": [
    "Das sieht mit einem F2-Wert von 0,76 gar nicht so schlecht aus.\n",
    "\n",
    "## Dropout-Regulierung"
   ]
  },
  {
   "cell_type": "code",
   "execution_count": 108,
   "metadata": {
    "collapsed": true
   },
   "outputs": [],
   "source": [
    "def define_cnn_model(in_shape=(15, 15, 3), out_shape=5):\n",
    "    model = Sequential()\n",
    "    model.add(Conv2D(32, (3, 3), activation='relu', kernel_initializer='he_uniform', \n",
    "                     padding='same', input_shape=in_shape))\n",
    "    model.add(Conv2D(32, (3, 3), activation='relu', kernel_initializer='he_uniform', padding='same'))\n",
    "    model.add(MaxPooling2D((2, 2)))\n",
    "    model.add(Dropout(0.2))\n",
    "    model.add(Conv2D(64, (3, 3), activation='relu', kernel_initializer='he_uniform', padding='same'))\n",
    "    model.add(Conv2D(64, (3, 3), activation='relu', kernel_initializer='he_uniform', padding='same'))\n",
    "    model.add(MaxPooling2D((2, 2)))\n",
    "    model.add(Dropout(0.2))\n",
    "    model.add(Conv2D(128, (3, 3), activation='relu', kernel_initializer='he_uniform', padding='same'))\n",
    "    model.add(Conv2D(128, (3, 3), activation='relu', kernel_initializer='he_uniform', padding='same'))\n",
    "    model.add(MaxPooling2D((2, 2)))\n",
    "    model.add(Dropout(0.2))\n",
    "    model.add(Flatten())\n",
    "    model.add(Dense(128, activation='relu', kernel_initializer='he_uniform'))\n",
    "    model.add(Dropout(0.5))\n",
    "    model.add(Dense(out_shape, activation='sigmoid'))\n",
    "    # compile model\n",
    "    opt = SGD(lr=0.01, momentum=0.9)\n",
    "    model.compile(optimizer=opt, loss='binary_crossentropy', metrics=[fbeta])\n",
    "    return model"
   ]
  },
  {
   "cell_type": "code",
   "execution_count": 125,
   "metadata": {
    "collapsed": true
   },
   "outputs": [],
   "source": [
    "model_dropout = define_cnn_model()\n",
    "# fit model\n",
    "history_dropout = model_dropout.fit_generator(train_it, \n",
    "                                              steps_per_epoch=len(train_it),\n",
    "                                              validation_data=test_it, \n",
    "                                              validation_steps=len(test_it),\n",
    "                                              epochs=200, verbose=0)"
   ]
  },
  {
   "cell_type": "code",
   "execution_count": 126,
   "metadata": {},
   "outputs": [
    {
     "name": "stdout",
     "output_type": "stream",
     "text": [
      "> loss=0.258, fbeta=0.765\n"
     ]
    }
   ],
   "source": [
    "loss_dropout, fbeta_value_dropout = model.evaluate_generator(test_it, steps=len(test_it), verbose=0)\n",
    "print('> loss=%.3f, fbeta=%.3f' % (loss_dropout, fbeta_value_dropout))"
   ]
  },
  {
   "cell_type": "code",
   "execution_count": 127,
   "metadata": {},
   "outputs": [
    {
     "data": {
      "image/png": "[encoded data removed]",
      "text/plain": [
       "<Figure size 432x288 with 2 Axes>"
      ]
     },
     "metadata": {},
     "output_type": "display_data"
    }
   ],
   "source": [
    "summarise_diagnostics(history_dropout)"
   ]
  },
  {
   "cell_type": "code",
   "execution_count": 128,
   "metadata": {},
   "outputs": [
    {
     "name": "stdout",
     "output_type": "stream",
     "text": [
      "Saved model to disk\n"
     ]
    }
   ],
   "source": [
    "# serialise model to JSON\n",
    "model_json = model_dropout.to_json()\n",
    "with open(\"/vols/satellit/home/lenk/proj/2019-01_trackingstudie/cnn-models/model_dropout.json\", \"w\") as json_file:\n",
    "    json_file.write(model_json)\n",
    "# serialize weights to HDF5\n",
    "model_dropout.save_weights(\"/vols/satellit/home/lenk/proj/2019-01_trackingstudie/cnn-models/model_dropout.h5\")\n",
    "print(\"Saved model to disk\")"
   ]
  },
  {
   "cell_type": "markdown",
   "metadata": {},
   "source": [
    "Das sieht mit einem F2-Wert von 0,77 etwas besser aus.\n",
    "\n",
    "## Bilddatenerweiterung\n",
    "\n",
    "Eine weiter Variante, die man probieren kann, um das Modell zu verbessern, ist die Erweiterung der Eingangsbilder. D.h. es werden Pixel oder Pixelgruppen in den Eingangsbildern verändert und diese dann auch zum Training benutzt."
   ]
  },
  {
   "cell_type": "code",
   "execution_count": 116,
   "metadata": {
    "collapsed": true
   },
   "outputs": [],
   "source": [
    "# create data generator\n",
    "train_datagen = ImageDataGenerator(rescale=1.0/255.0, horizontal_flip=True, vertical_flip=True, rotation_range=90)\n",
    "test_datagen = ImageDataGenerator(rescale=1.0/255.0)\n",
    "# prepare iterators\n",
    "train_it = train_datagen.flow(trainX, trainY, batch_size=128)\n",
    "test_it = test_datagen.flow(testX, testY, batch_size=128)"
   ]
  },
  {
   "cell_type": "code",
   "execution_count": 117,
   "metadata": {
    "collapsed": true
   },
   "outputs": [],
   "source": [
    "def load_dataset():\n",
    "    # load dataset\n",
    "    data = np.load('/vols/satellit/home/lenk/proj/2019-01_trackingstudie/haci_objects/haci_objects_2013.npz')\n",
    "    X, y = data['arr_0'], data['arr_1']\n",
    "    # separate into train and test datasets\n",
    "    trainX, testX, trainY, testY = train_test_split(X, y, test_size=0.3, random_state=1)\n",
    "    print(trainX.shape, trainY.shape, testX.shape, testY.shape)\n",
    "    return trainX, trainY, testX, testY"
   ]
  },
  {
   "cell_type": "code",
   "execution_count": 118,
   "metadata": {
    "collapsed": true
   },
   "outputs": [],
   "source": [
    "def define_baseline_model(in_shape=(15, 15, 3), out_shape=5):\n",
    "    model = Sequential()\n",
    "    model.add(Conv2D(32, (3, 3), activation='relu', kernel_initializer='he_uniform', padding='same', input_shape=in_shape))\n",
    "    model.add(Conv2D(32, (3, 3), activation='relu', kernel_initializer='he_uniform', padding='same'))\n",
    "    model.add(MaxPooling2D((2, 2)))\n",
    "    model.add(Conv2D(64, (3, 3), activation='relu', kernel_initializer='he_uniform', padding='same'))\n",
    "    model.add(Conv2D(64, (3, 3), activation='relu', kernel_initializer='he_uniform', padding='same'))\n",
    "    model.add(MaxPooling2D((2, 2)))\n",
    "    model.add(Conv2D(128, (3, 3), activation='relu', kernel_initializer='he_uniform', padding='same'))\n",
    "    model.add(Conv2D(128, (3, 3), activation='relu', kernel_initializer='he_uniform', padding='same'))\n",
    "    model.add(MaxPooling2D((2, 2)))\n",
    "    model.add(Flatten())\n",
    "    model.add(Dense(128, activation='relu', kernel_initializer='he_uniform'))\n",
    "    model.add(Dense(out_shape, activation='sigmoid'))\n",
    "    # compile model\n",
    "    opt = SGD(lr=0.01, momentum=0.9)\n",
    "    model.compile(optimizer=opt, loss='binary_crossentropy', metrics=[fbeta])\n",
    "    return model"
   ]
  },
  {
   "cell_type": "code",
   "execution_count": 122,
   "metadata": {
    "collapsed": true
   },
   "outputs": [],
   "source": [
    "def run_test_harness_aug():\n",
    "    # load dataset\n",
    "    trainX, trainY, testX, testY = load_dataset()\n",
    "    # create data generator\n",
    "    train_datagen = ImageDataGenerator(rescale=1.0/255.0, horizontal_flip=True, vertical_flip=True, rotation_range=90)\n",
    "    test_datagen = ImageDataGenerator(rescale=1.0/255.0)\n",
    "    # prepare iterators\n",
    "    train_it = train_datagen.flow(trainX, trainY, batch_size=128)\n",
    "    test_it = test_datagen.flow(testX, testY, batch_size=128)\n",
    "    # define model\n",
    "    model = define_baseline_model()\n",
    "    # fit model\n",
    "    history = model.fit_generator(train_it, steps_per_epoch=len(train_it),\n",
    "        validation_data=test_it, validation_steps=len(test_it), epochs=200, verbose=0)\n",
    "    # evaluate model\n",
    "    loss, fbeta_value = model.evaluate_generator(test_it, steps=len(test_it), verbose=0)\n",
    "    print('> loss=%.3f, fbeta=%.3f' % (loss, fbeta_value))\n",
    "    # learning curves\n",
    "    summarise_diagnostics(history)\n",
    "    \n",
    "    return model,history"
   ]
  },
  {
   "cell_type": "code",
   "execution_count": 123,
   "metadata": {},
   "outputs": [
    {
     "name": "stdout",
     "output_type": "stream",
     "text": [
      "((349, 15, 15, 3), (349, 5), (150, 15, 15, 3), (150, 5))\n",
      "> loss=0.224, fbeta=0.773\n"
     ]
    },
    {
     "data": {
      "image/png": "[encoded data removed]",
      "text/plain": [
       "<Figure size 432x288 with 2 Axes>"
      ]
     },
     "metadata": {},
     "output_type": "display_data"
    }
   ],
   "source": [
    "model_aug, history_aug = run_test_harness_aug()"
   ]
  },
  {
   "cell_type": "markdown",
   "metadata": {},
   "source": [
    "Das bringt einen kleinen Zugewinn mit einem F2-Wert von 0,77 und es ist keine Überanpassung sichtbar."
   ]
  },
  {
   "cell_type": "code",
   "execution_count": 124,
   "metadata": {},
   "outputs": [
    {
     "name": "stdout",
     "output_type": "stream",
     "text": [
      "Saved model to disk\n"
     ]
    }
   ],
   "source": [
    "# serialise model to JSON\n",
    "model_json = model_aug.to_json()\n",
    "with open(\"/vols/satellit/home/lenk/proj/2019-01_trackingstudie/cnn-models/model_aug.json\", \"w\") as json_file:\n",
    "    json_file.write(model_json)\n",
    "# serialize weights to HDF5\n",
    "model_aug.save_weights(\"/vols/satellit/home/lenk/proj/2019-01_trackingstudie/cnn-models/model_aug.h5\")\n",
    "print(\"Saved model to disk\")"
   ]
  },
  {
   "cell_type": "markdown",
   "metadata": {},
   "source": [
    "## Bereits trainiertes Modell anpassen"
   ]
  },
  {
   "cell_type": "code",
   "execution_count": 53,
   "metadata": {
    "collapsed": true
   },
   "outputs": [],
   "source": [
    "def define_predefined_model(in_shape=(15, 15, 3), out_shape=5):\n",
    "    # load model\n",
    "    model = VGG16(include_top=False, input_shape=in_shape)\n",
    "    # mark loaded layers as not trainable\n",
    "    for layer in model.layers:\n",
    "        layer.trainable = False\n",
    "    # add new classifier layers\n",
    "    flat1 = Flatten()(model.layers[-1].output)\n",
    "    class1 = Dense(128, activation='relu', kernel_initializer='he_uniform')(flat1)\n",
    "    output = Dense(out_shape, activation='sigmoid')(class1)\n",
    "    # define new model\n",
    "    model = Model(inputs=model.inputs, outputs=output)\n",
    "    # compile model\n",
    "    opt = SGD(lr=0.01, momentum=0.9)\n",
    "    model.compile(optimizer=opt, loss='binary_crossentropy', metrics=[fbeta])\n",
    "    return model"
   ]
  },
  {
   "cell_type": "code",
   "execution_count": 44,
   "metadata": {
    "collapsed": true
   },
   "outputs": [],
   "source": [
    "datagen = ImageDataGenerator(featurewise_center=True)\n",
    "# specify imagenet mean values for centering\n",
    "datagen.mean = [123.68, 116.779, 103.939]"
   ]
  },
  {
   "cell_type": "code",
   "execution_count": 45,
   "metadata": {},
   "outputs": [
    {
     "ename": "ValueError",
     "evalue": "Input size must be at least 32x32; got `input_shape=(128, 15, 3)`",
     "output_type": "error",
     "traceback": [
      "\u001b[0;31m---------------------------------------------------------------------------\u001b[0m",
      "\u001b[0;31mValueError\u001b[0m                                Traceback (most recent call last)",
      "\u001b[0;32m<ipython-input-45-a3277d4212d6>\u001b[0m in \u001b[0;36m<module>\u001b[0;34m()\u001b[0m\n\u001b[1;32m      2\u001b[0m \u001b[0mtest_it\u001b[0m \u001b[0;34m=\u001b[0m \u001b[0mdatagen\u001b[0m\u001b[0;34m.\u001b[0m\u001b[0mflow\u001b[0m\u001b[0;34m(\u001b[0m\u001b[0mtestX\u001b[0m\u001b[0;34m,\u001b[0m \u001b[0mtestY\u001b[0m\u001b[0;34m,\u001b[0m \u001b[0mbatch_size\u001b[0m\u001b[0;34m=\u001b[0m\u001b[0;36m128\u001b[0m\u001b[0;34m)\u001b[0m\u001b[0;34m\u001b[0m\u001b[0m\n\u001b[1;32m      3\u001b[0m \u001b[0;31m# define model\u001b[0m\u001b[0;34m\u001b[0m\u001b[0;34m\u001b[0m\u001b[0m\n\u001b[0;32m----> 4\u001b[0;31m \u001b[0mmodel_pre\u001b[0m \u001b[0;34m=\u001b[0m \u001b[0mdefine_predefined_model\u001b[0m\u001b[0;34m(\u001b[0m\u001b[0;34m)\u001b[0m\u001b[0;34m\u001b[0m\u001b[0m\n\u001b[0m\u001b[1;32m      5\u001b[0m \u001b[0;31m# fit model\u001b[0m\u001b[0;34m\u001b[0m\u001b[0;34m\u001b[0m\u001b[0m\n\u001b[1;32m      6\u001b[0m history_pre = model_pre.fit_generator(train_it, steps_per_epoch=len(train_it),\n",
      "\u001b[0;32m<ipython-input-43-b1f55f7afee4>\u001b[0m in \u001b[0;36mdefine_predefined_model\u001b[0;34m(in_shape, out_shape)\u001b[0m\n\u001b[1;32m      1\u001b[0m \u001b[0;32mdef\u001b[0m \u001b[0mdefine_predefined_model\u001b[0m\u001b[0;34m(\u001b[0m\u001b[0min_shape\u001b[0m\u001b[0;34m=\u001b[0m\u001b[0;34m(\u001b[0m\u001b[0;36m128\u001b[0m\u001b[0;34m,\u001b[0m \u001b[0;36m15\u001b[0m\u001b[0;34m,\u001b[0m \u001b[0;36m3\u001b[0m\u001b[0;34m)\u001b[0m\u001b[0;34m,\u001b[0m \u001b[0mout_shape\u001b[0m\u001b[0;34m=\u001b[0m\u001b[0;36m5\u001b[0m\u001b[0;34m)\u001b[0m\u001b[0;34m:\u001b[0m\u001b[0;34m\u001b[0m\u001b[0m\n\u001b[1;32m      2\u001b[0m     \u001b[0;31m# load model\u001b[0m\u001b[0;34m\u001b[0m\u001b[0;34m\u001b[0m\u001b[0m\n\u001b[0;32m----> 3\u001b[0;31m     \u001b[0mmodel\u001b[0m \u001b[0;34m=\u001b[0m \u001b[0mVGG16\u001b[0m\u001b[0;34m(\u001b[0m\u001b[0minclude_top\u001b[0m\u001b[0;34m=\u001b[0m\u001b[0mFalse\u001b[0m\u001b[0;34m,\u001b[0m \u001b[0minput_shape\u001b[0m\u001b[0;34m=\u001b[0m\u001b[0min_shape\u001b[0m\u001b[0;34m)\u001b[0m\u001b[0;34m\u001b[0m\u001b[0m\n\u001b[0m\u001b[1;32m      4\u001b[0m     \u001b[0;31m# mark loaded layers as not trainable\u001b[0m\u001b[0;34m\u001b[0m\u001b[0;34m\u001b[0m\u001b[0m\n\u001b[1;32m      5\u001b[0m     \u001b[0;32mfor\u001b[0m \u001b[0mlayer\u001b[0m \u001b[0;32min\u001b[0m \u001b[0mmodel\u001b[0m\u001b[0;34m.\u001b[0m\u001b[0mlayers\u001b[0m\u001b[0;34m:\u001b[0m\u001b[0;34m\u001b[0m\u001b[0m\n",
      "\u001b[0;32m/home/lenk/.local/lib/python2.7/site-packages/tensorflow-2.0.0a0-py2.7-linux-x86_64.egg/tensorflow/python/keras/applications/__init__.pyc\u001b[0m in \u001b[0;36mwrapper\u001b[0;34m(*args, **kwargs)\u001b[0m\n\u001b[1;32m     68\u001b[0m       \u001b[0mkwargs\u001b[0m\u001b[0;34m[\u001b[0m\u001b[0;34m'models'\u001b[0m\u001b[0;34m]\u001b[0m \u001b[0;34m=\u001b[0m \u001b[0mmodels\u001b[0m\u001b[0;34m\u001b[0m\u001b[0m\n\u001b[1;32m     69\u001b[0m       \u001b[0mkwargs\u001b[0m\u001b[0;34m[\u001b[0m\u001b[0;34m'utils'\u001b[0m\u001b[0;34m]\u001b[0m \u001b[0;34m=\u001b[0m \u001b[0mutils\u001b[0m\u001b[0;34m\u001b[0m\u001b[0m\n\u001b[0;32m---> 70\u001b[0;31m     \u001b[0;32mreturn\u001b[0m \u001b[0mbase_fun\u001b[0m\u001b[0;34m(\u001b[0m\u001b[0;34m*\u001b[0m\u001b[0margs\u001b[0m\u001b[0;34m,\u001b[0m \u001b[0;34m**\u001b[0m\u001b[0mkwargs\u001b[0m\u001b[0;34m)\u001b[0m\u001b[0;34m\u001b[0m\u001b[0m\n\u001b[0m\u001b[1;32m     71\u001b[0m   \u001b[0;32mreturn\u001b[0m \u001b[0mwrapper\u001b[0m\u001b[0;34m\u001b[0m\u001b[0m\n\u001b[1;32m     72\u001b[0m \u001b[0;34m\u001b[0m\u001b[0m\n",
      "\u001b[0;32m/home/lenk/.local/lib/python2.7/site-packages/tensorflow-2.0.0a0-py2.7-linux-x86_64.egg/tensorflow/python/keras/applications/vgg16.pyc\u001b[0m in \u001b[0;36mVGG16\u001b[0;34m(*args, **kwargs)\u001b[0m\n\u001b[1;32m     30\u001b[0m \u001b[0;34m@\u001b[0m\u001b[0mkeras_modules_injection\u001b[0m\u001b[0;34m\u001b[0m\u001b[0m\n\u001b[1;32m     31\u001b[0m \u001b[0;32mdef\u001b[0m \u001b[0mVGG16\u001b[0m\u001b[0;34m(\u001b[0m\u001b[0;34m*\u001b[0m\u001b[0margs\u001b[0m\u001b[0;34m,\u001b[0m \u001b[0;34m**\u001b[0m\u001b[0mkwargs\u001b[0m\u001b[0;34m)\u001b[0m\u001b[0;34m:\u001b[0m\u001b[0;34m\u001b[0m\u001b[0m\n\u001b[0;32m---> 32\u001b[0;31m   \u001b[0;32mreturn\u001b[0m \u001b[0mvgg16\u001b[0m\u001b[0;34m.\u001b[0m\u001b[0mVGG16\u001b[0m\u001b[0;34m(\u001b[0m\u001b[0;34m*\u001b[0m\u001b[0margs\u001b[0m\u001b[0;34m,\u001b[0m \u001b[0;34m**\u001b[0m\u001b[0mkwargs\u001b[0m\u001b[0;34m)\u001b[0m\u001b[0;34m\u001b[0m\u001b[0m\n\u001b[0m\u001b[1;32m     33\u001b[0m \u001b[0;34m\u001b[0m\u001b[0m\n\u001b[1;32m     34\u001b[0m \u001b[0;34m\u001b[0m\u001b[0m\n",
      "\u001b[0;32m/home/lenk/.local/lib/python2.7/site-packages/Keras_Applications-1.0.7-py2.7.egg/keras_applications/vgg16.pyc\u001b[0m in \u001b[0;36mVGG16\u001b[0;34m(include_top, weights, input_tensor, input_shape, pooling, classes, **kwargs)\u001b[0m\n\u001b[1;32m     97\u001b[0m                                       \u001b[0mdata_format\u001b[0m\u001b[0;34m=\u001b[0m\u001b[0mbackend\u001b[0m\u001b[0;34m.\u001b[0m\u001b[0mimage_data_format\u001b[0m\u001b[0;34m(\u001b[0m\u001b[0;34m)\u001b[0m\u001b[0;34m,\u001b[0m\u001b[0;34m\u001b[0m\u001b[0m\n\u001b[1;32m     98\u001b[0m                                       \u001b[0mrequire_flatten\u001b[0m\u001b[0;34m=\u001b[0m\u001b[0minclude_top\u001b[0m\u001b[0;34m,\u001b[0m\u001b[0;34m\u001b[0m\u001b[0m\n\u001b[0;32m---> 99\u001b[0;31m                                       weights=weights)\n\u001b[0m\u001b[1;32m    100\u001b[0m \u001b[0;34m\u001b[0m\u001b[0m\n\u001b[1;32m    101\u001b[0m     \u001b[0;32mif\u001b[0m \u001b[0minput_tensor\u001b[0m \u001b[0;32mis\u001b[0m \u001b[0mNone\u001b[0m\u001b[0;34m:\u001b[0m\u001b[0;34m\u001b[0m\u001b[0m\n",
      "\u001b[0;32m/home/lenk/.local/lib/python2.7/site-packages/Keras_Applications-1.0.7-py2.7.egg/keras_applications/imagenet_utils.pyc\u001b[0m in \u001b[0;36m_obtain_input_shape\u001b[0;34m(input_shape, default_size, min_size, data_format, require_flatten, weights)\u001b[0m\n\u001b[1;32m    320\u001b[0m                                      \u001b[0mstr\u001b[0m\u001b[0;34m(\u001b[0m\u001b[0mmin_size\u001b[0m\u001b[0;34m)\u001b[0m \u001b[0;34m+\u001b[0m \u001b[0;34m'x'\u001b[0m \u001b[0;34m+\u001b[0m \u001b[0mstr\u001b[0m\u001b[0;34m(\u001b[0m\u001b[0mmin_size\u001b[0m\u001b[0;34m)\u001b[0m \u001b[0;34m+\u001b[0m\u001b[0;34m\u001b[0m\u001b[0m\n\u001b[1;32m    321\u001b[0m                                      \u001b[0;34m'; got `input_shape='\u001b[0m \u001b[0;34m+\u001b[0m\u001b[0;34m\u001b[0m\u001b[0m\n\u001b[0;32m--> 322\u001b[0;31m                                      str(input_shape) + '`')\n\u001b[0m\u001b[1;32m    323\u001b[0m     \u001b[0;32melse\u001b[0m\u001b[0;34m:\u001b[0m\u001b[0;34m\u001b[0m\u001b[0m\n\u001b[1;32m    324\u001b[0m         \u001b[0;32mif\u001b[0m \u001b[0mrequire_flatten\u001b[0m\u001b[0;34m:\u001b[0m\u001b[0;34m\u001b[0m\u001b[0m\n",
      "\u001b[0;31mValueError\u001b[0m: Input size must be at least 32x32; got `input_shape=(128, 15, 3)`"
     ]
    }
   ],
   "source": [
    "train_it = datagen.flow(trainX, trainY, batch_size=128)\n",
    "test_it = datagen.flow(testX, testY, batch_size=128)\n",
    "# define model\n",
    "model_pre = define_predefined_model()\n",
    "# fit model\n",
    "history_pre = model_pre.fit_generator(train_it, steps_per_epoch=len(train_it),\n",
    "    validation_data=test_it, validation_steps=len(test_it), epochs=20, verbose=0)\n",
    "# evaluate model\n",
    "loss, fbeta = model_pre.evaluate_generator(test_it, steps=len(test_it), verbose=0)\n",
    "print('> loss=%.3f, fbeta=%.3f' % (loss, fbeta))\n",
    "# learning curves\n",
    "summarise_diagnostics(history_pre)"
   ]
  },
  {
   "cell_type": "markdown",
   "metadata": {},
   "source": [
    "## Modell speichern"
   ]
  },
  {
   "cell_type": "code",
   "execution_count": 31,
   "metadata": {
    "collapsed": true
   },
   "outputs": [],
   "source": [
    "def load_dataset():\n",
    "    # load dataset\n",
    "    data = np.load('/vols/satellit/home/lenk/proj/2019-01_trackingstudie/haci_objects/haci_objects_2013.npz')\n",
    "    X, y = data['arr_0'], data['arr_1']\n",
    "    \n",
    "    return X,y\n",
    "\n",
    "# run the test harness for evaluating a model\n",
    "def run_test_harness_final():\n",
    "    # load dataset\n",
    "    X, y = load_dataset()\n",
    "    # create data generator\n",
    "    datagen = ImageDataGenerator(rescale=1.0/255.0)\n",
    "    # prepare iterator\n",
    "    train_it = datagen.flow(X, y, batch_size=128)\n",
    "    # define model\n",
    "    model = define_cnn_model()\n",
    "    # fit model\n",
    "    model.fit_generator(train_it, steps_per_epoch=len(train_it), epochs=100, verbose=0)\n",
    "    # save model\n",
    "    #model.save('/vols/satellit/home/lenk/proj/2019-01_trackingstudie/final_cnn_model.h5')\n",
    "    \n",
    "    return model\n",
    "\n",
    "# entry point, run the test harness\n",
    "model = run_test_harness_final()"
   ]
  },
  {
   "cell_type": "code",
   "execution_count": 32,
   "metadata": {},
   "outputs": [
    {
     "ename": "RuntimeError",
     "evalue": "Unable to create link (name already exists)",
     "output_type": "error",
     "traceback": [
      "\u001b[0;31m---------------------------------------------------------------------------\u001b[0m",
      "\u001b[0;31mRuntimeError\u001b[0m                              Traceback (most recent call last)",
      "\u001b[0;32m<ipython-input-32-33885bf683a4>\u001b[0m in \u001b[0;36m<module>\u001b[0;34m()\u001b[0m\n\u001b[0;32m----> 1\u001b[0;31m \u001b[0mmodel\u001b[0m\u001b[0;34m.\u001b[0m\u001b[0msave\u001b[0m\u001b[0;34m(\u001b[0m\u001b[0;34m'/vols/satellit/home/lenk/proj/2019-01_trackingstudie/final_model.h5'\u001b[0m\u001b[0;34m)\u001b[0m\u001b[0;34m\u001b[0m\u001b[0m\n\u001b[0m",
      "\u001b[0;32m/home/lenk/.local/lib/python2.7/site-packages/tensorflow-2.0.0a0-py2.7-linux-x86_64.egg/tensorflow/python/keras/engine/sequential.pyc\u001b[0m in \u001b[0;36msave\u001b[0;34m(self, filepath, overwrite, include_optimizer)\u001b[0m\n\u001b[1;32m    319\u001b[0m   \u001b[0;32mdef\u001b[0m \u001b[0msave\u001b[0m\u001b[0;34m(\u001b[0m\u001b[0mself\u001b[0m\u001b[0;34m,\u001b[0m \u001b[0mfilepath\u001b[0m\u001b[0;34m,\u001b[0m \u001b[0moverwrite\u001b[0m\u001b[0;34m=\u001b[0m\u001b[0mTrue\u001b[0m\u001b[0;34m,\u001b[0m \u001b[0minclude_optimizer\u001b[0m\u001b[0;34m=\u001b[0m\u001b[0mTrue\u001b[0m\u001b[0;34m)\u001b[0m\u001b[0;34m:\u001b[0m\u001b[0;34m\u001b[0m\u001b[0m\n\u001b[1;32m    320\u001b[0m     \u001b[0;32mfrom\u001b[0m \u001b[0mtensorflow\u001b[0m\u001b[0;34m.\u001b[0m\u001b[0mpython\u001b[0m\u001b[0;34m.\u001b[0m\u001b[0mkeras\u001b[0m\u001b[0;34m.\u001b[0m\u001b[0mmodels\u001b[0m \u001b[0;32mimport\u001b[0m \u001b[0msave_model\u001b[0m  \u001b[0;31m# pylint: disable=g-import-not-at-top\u001b[0m\u001b[0;34m\u001b[0m\u001b[0m\n\u001b[0;32m--> 321\u001b[0;31m     \u001b[0msave_model\u001b[0m\u001b[0;34m(\u001b[0m\u001b[0mself\u001b[0m\u001b[0;34m,\u001b[0m \u001b[0mfilepath\u001b[0m\u001b[0;34m,\u001b[0m \u001b[0moverwrite\u001b[0m\u001b[0;34m,\u001b[0m \u001b[0minclude_optimizer\u001b[0m\u001b[0;34m)\u001b[0m\u001b[0;34m\u001b[0m\u001b[0m\n\u001b[0m\u001b[1;32m    322\u001b[0m \u001b[0;34m\u001b[0m\u001b[0m\n\u001b[1;32m    323\u001b[0m   \u001b[0;32mdef\u001b[0m \u001b[0mget_config\u001b[0m\u001b[0;34m(\u001b[0m\u001b[0mself\u001b[0m\u001b[0;34m)\u001b[0m\u001b[0;34m:\u001b[0m\u001b[0;34m\u001b[0m\u001b[0m\n",
      "\u001b[0;32m/home/lenk/.local/lib/python2.7/site-packages/tensorflow-2.0.0a0-py2.7-linux-x86_64.egg/tensorflow/python/keras/saving/hdf5_format.pyc\u001b[0m in \u001b[0;36msave_model\u001b[0;34m(model, filepath, overwrite, include_optimizer)\u001b[0m\n\u001b[1;32m    135\u001b[0m \u001b[0;34m\u001b[0m\u001b[0m\n\u001b[1;32m    136\u001b[0m         \u001b[0;31m# Save optimizer weights.\u001b[0m\u001b[0;34m\u001b[0m\u001b[0;34m\u001b[0m\u001b[0m\n\u001b[0;32m--> 137\u001b[0;31m         \u001b[0msave_optimizer_weights_to_hdf5_group\u001b[0m\u001b[0;34m(\u001b[0m\u001b[0mf\u001b[0m\u001b[0;34m,\u001b[0m \u001b[0mmodel\u001b[0m\u001b[0;34m.\u001b[0m\u001b[0moptimizer\u001b[0m\u001b[0;34m)\u001b[0m\u001b[0;34m\u001b[0m\u001b[0m\n\u001b[0m\u001b[1;32m    138\u001b[0m     \u001b[0mf\u001b[0m\u001b[0;34m.\u001b[0m\u001b[0mflush\u001b[0m\u001b[0;34m(\u001b[0m\u001b[0;34m)\u001b[0m\u001b[0;34m\u001b[0m\u001b[0m\n\u001b[1;32m    139\u001b[0m   \u001b[0;32mfinally\u001b[0m\u001b[0;34m:\u001b[0m\u001b[0;34m\u001b[0m\u001b[0m\n",
      "\u001b[0;32m/home/lenk/.local/lib/python2.7/site-packages/tensorflow-2.0.0a0-py2.7-linux-x86_64.egg/tensorflow/python/keras/saving/hdf5_format.pyc\u001b[0m in \u001b[0;36msave_optimizer_weights_to_hdf5_group\u001b[0;34m(hdf5_group, optimizer)\u001b[0m\n\u001b[1;32m    648\u001b[0m     \u001b[0;32mfor\u001b[0m \u001b[0mname\u001b[0m\u001b[0;34m,\u001b[0m \u001b[0mval\u001b[0m \u001b[0;32min\u001b[0m \u001b[0mzip\u001b[0m\u001b[0;34m(\u001b[0m\u001b[0mweight_names\u001b[0m\u001b[0;34m,\u001b[0m \u001b[0mweight_values\u001b[0m\u001b[0;34m)\u001b[0m\u001b[0;34m:\u001b[0m\u001b[0;34m\u001b[0m\u001b[0m\n\u001b[1;32m    649\u001b[0m       param_dset = weights_group.create_dataset(\n\u001b[0;32m--> 650\u001b[0;31m           name, val.shape, dtype=val.dtype)\n\u001b[0m\u001b[1;32m    651\u001b[0m       \u001b[0;32mif\u001b[0m \u001b[0;32mnot\u001b[0m \u001b[0mval\u001b[0m\u001b[0;34m.\u001b[0m\u001b[0mshape\u001b[0m\u001b[0;34m:\u001b[0m\u001b[0;34m\u001b[0m\u001b[0m\n\u001b[1;32m    652\u001b[0m         \u001b[0;31m# scalar\u001b[0m\u001b[0;34m\u001b[0m\u001b[0;34m\u001b[0m\u001b[0m\n",
      "\u001b[0;32m/vols/talos/local/anaconda2-5.0.0/lib/python2.7/site-packages/h5py/_hl/group.pyc\u001b[0m in \u001b[0;36mcreate_dataset\u001b[0;34m(self, name, shape, dtype, data, **kwds)\u001b[0m\n\u001b[1;32m    107\u001b[0m             \u001b[0mdset\u001b[0m \u001b[0;34m=\u001b[0m \u001b[0mdataset\u001b[0m\u001b[0;34m.\u001b[0m\u001b[0mDataset\u001b[0m\u001b[0;34m(\u001b[0m\u001b[0mdsid\u001b[0m\u001b[0;34m)\u001b[0m\u001b[0;34m\u001b[0m\u001b[0m\n\u001b[1;32m    108\u001b[0m             \u001b[0;32mif\u001b[0m \u001b[0mname\u001b[0m \u001b[0;32mis\u001b[0m \u001b[0;32mnot\u001b[0m \u001b[0mNone\u001b[0m\u001b[0;34m:\u001b[0m\u001b[0;34m\u001b[0m\u001b[0m\n\u001b[0;32m--> 109\u001b[0;31m                 \u001b[0mself\u001b[0m\u001b[0;34m[\u001b[0m\u001b[0mname\u001b[0m\u001b[0;34m]\u001b[0m \u001b[0;34m=\u001b[0m \u001b[0mdset\u001b[0m\u001b[0;34m\u001b[0m\u001b[0m\n\u001b[0m\u001b[1;32m    110\u001b[0m             \u001b[0;32mreturn\u001b[0m \u001b[0mdset\u001b[0m\u001b[0;34m\u001b[0m\u001b[0m\n\u001b[1;32m    111\u001b[0m \u001b[0;34m\u001b[0m\u001b[0m\n",
      "\u001b[0;32m/vols/talos/local/anaconda2-5.0.0/lib/python2.7/site-packages/h5py/_hl/group.pyc\u001b[0m in \u001b[0;36m__setitem__\u001b[0;34m(self, name, obj)\u001b[0m\n\u001b[1;32m    275\u001b[0m \u001b[0;34m\u001b[0m\u001b[0m\n\u001b[1;32m    276\u001b[0m             \u001b[0;32mif\u001b[0m \u001b[0misinstance\u001b[0m\u001b[0;34m(\u001b[0m\u001b[0mobj\u001b[0m\u001b[0;34m,\u001b[0m \u001b[0mHLObject\u001b[0m\u001b[0;34m)\u001b[0m\u001b[0;34m:\u001b[0m\u001b[0;34m\u001b[0m\u001b[0m\n\u001b[0;32m--> 277\u001b[0;31m                 \u001b[0mh5o\u001b[0m\u001b[0;34m.\u001b[0m\u001b[0mlink\u001b[0m\u001b[0;34m(\u001b[0m\u001b[0mobj\u001b[0m\u001b[0;34m.\u001b[0m\u001b[0mid\u001b[0m\u001b[0;34m,\u001b[0m \u001b[0mself\u001b[0m\u001b[0;34m.\u001b[0m\u001b[0mid\u001b[0m\u001b[0;34m,\u001b[0m \u001b[0mname\u001b[0m\u001b[0;34m,\u001b[0m \u001b[0mlcpl\u001b[0m\u001b[0;34m=\u001b[0m\u001b[0mlcpl\u001b[0m\u001b[0;34m,\u001b[0m \u001b[0mlapl\u001b[0m\u001b[0;34m=\u001b[0m\u001b[0mself\u001b[0m\u001b[0;34m.\u001b[0m\u001b[0m_lapl\u001b[0m\u001b[0;34m)\u001b[0m\u001b[0;34m\u001b[0m\u001b[0m\n\u001b[0m\u001b[1;32m    278\u001b[0m \u001b[0;34m\u001b[0m\u001b[0m\n\u001b[1;32m    279\u001b[0m             \u001b[0;32melif\u001b[0m \u001b[0misinstance\u001b[0m\u001b[0;34m(\u001b[0m\u001b[0mobj\u001b[0m\u001b[0;34m,\u001b[0m \u001b[0mSoftLink\u001b[0m\u001b[0;34m)\u001b[0m\u001b[0;34m:\u001b[0m\u001b[0;34m\u001b[0m\u001b[0m\n",
      "\u001b[0;32mh5py/_objects.pyx\u001b[0m in \u001b[0;36mh5py._objects.with_phil.wrapper\u001b[0;34m()\u001b[0m\n",
      "\u001b[0;32mh5py/_objects.pyx\u001b[0m in \u001b[0;36mh5py._objects.with_phil.wrapper\u001b[0;34m()\u001b[0m\n",
      "\u001b[0;32mh5py/h5o.pyx\u001b[0m in \u001b[0;36mh5py.h5o.link\u001b[0;34m()\u001b[0m\n",
      "\u001b[0;31mRuntimeError\u001b[0m: Unable to create link (name already exists)"
     ]
    }
   ],
   "source": [
    "model.save('/vols/satellit/home/lenk/proj/2019-01_trackingstudie/final_model.h5')"
   ]
  },
  {
   "cell_type": "code",
   "execution_count": 12,
   "metadata": {
    "collapsed": true
   },
   "outputs": [],
   "source": [
    "from tensorflow.python.keras.models import save_model\n",
    "from tensorflow.python.keras.models import load_model\n",
    "from tensorflow.python.keras.models import model_from_json"
   ]
  },
  {
   "cell_type": "code",
   "execution_count": 17,
   "metadata": {
    "collapsed": true
   },
   "outputs": [],
   "source": [
    "save_model(\n",
    "    model,\n",
    "    '/vols/satellit/home/lenk/proj/2019-01_trackingstudie/final_model.h5',\n",
    "    overwrite=True,\n",
    "    include_optimizer=True\n",
    ")"
   ]
  },
  {
   "cell_type": "markdown",
   "metadata": {},
   "source": [
    "## Modell laden und Fälle klassifizieren"
   ]
  },
  {
   "cell_type": "code",
   "execution_count": 13,
   "metadata": {},
   "outputs": [
    {
     "name": "stdout",
     "output_type": "stream",
     "text": [
      "Loaded model from disk\n"
     ]
    }
   ],
   "source": [
    "# load json and create model\n",
    "json_file = open('/vols/satellit/home/lenk/proj/2019-01_trackingstudie/cnn-models/model_aug.json', 'r')\n",
    "loaded_model_json = json_file.read()\n",
    "json_file.close()\n",
    "loaded_model = model_from_json(loaded_model_json)\n",
    "# load weights into new model\n",
    "loaded_model.load_weights(\"/vols/satellit/home/lenk/proj/2019-01_trackingstudie/cnn-models/model_aug.h5\")\n",
    "print(\"Loaded model from disk\")"
   ]
  },
  {
   "cell_type": "code",
   "execution_count": 21,
   "metadata": {},
   "outputs": [],
   "source": [
    "img = load_img(\"{}2013/{}\".format(image_path,haci_cases.iloc[100].image_name))"
   ]
  },
  {
   "cell_type": "code",
   "execution_count": 22,
   "metadata": {
    "collapsed": true
   },
   "outputs": [],
   "source": [
    "img = np.array(img)[:,15:30,:]"
   ]
  },
  {
   "cell_type": "code",
   "execution_count": 23,
   "metadata": {},
   "outputs": [
    {
     "data": {
      "text/plain": [
       "(15, 15, 3)"
      ]
     },
     "execution_count": 23,
     "metadata": {},
     "output_type": "execute_result"
    }
   ],
   "source": [
    "img.shape"
   ]
  },
  {
   "cell_type": "code",
   "execution_count": 24,
   "metadata": {
    "collapsed": true
   },
   "outputs": [],
   "source": [
    "# reshape into a single sample with 3 channels\n",
    "img = img.reshape(1, 15, 15, 3)"
   ]
  },
  {
   "cell_type": "code",
   "execution_count": 25,
   "metadata": {},
   "outputs": [
    {
     "data": {
      "text/plain": [
       "(1, 15, 15, 3)"
      ]
     },
     "execution_count": 25,
     "metadata": {},
     "output_type": "execute_result"
    }
   ],
   "source": [
    "img.shape"
   ]
  },
  {
   "cell_type": "code",
   "execution_count": 27,
   "metadata": {},
   "outputs": [],
   "source": [
    "result = loaded_model.predict(img)"
   ]
  },
  {
   "cell_type": "code",
   "execution_count": 28,
   "metadata": {
    "collapsed": true
   },
   "outputs": [],
   "source": [
    "# convert a prediction to tags\n",
    "def prediction_to_tags(inv_mapping, prediction):\n",
    "    # round probabilities to {0, 1}\n",
    "    values = prediction.round()\n",
    "    # collect all predicted tags\n",
    "    tags = [inv_mapping[i] for i in range(len(values)) if values[i] == 1.0]\n",
    "    return tags"
   ]
  },
  {
   "cell_type": "code",
   "execution_count": 29,
   "metadata": {},
   "outputs": [
    {
     "name": "stdout",
     "output_type": "stream",
     "text": [
      "[0. 1. 0. 0. 0.]\n",
      "['in_Wolkenfeld']\n"
     ]
    }
   ],
   "source": [
    "print(result[0])\n",
    "# map prediction to tags\n",
    "tags = prediction_to_tags(inv_labels_map, result[0])\n",
    "print(tags)"
   ]
  },
  {
   "cell_type": "code",
   "execution_count": 30,
   "metadata": {},
   "outputs": [
    {
     "data": {
      "text/plain": [
       "<matplotlib.image.AxesImage at 0x7f4928396190>"
      ]
     },
     "execution_count": 30,
     "metadata": {},
     "output_type": "execute_result"
    },
    {
     "data": {
      "image/png": "[encoded data removed]",
      "text/plain": [
       "<Figure size 360x360 with 1 Axes>"
      ]
     },
     "metadata": {},
     "output_type": "display_data"
    }
   ],
   "source": [
    "fig,ax = plt.subplots(1,1,figsize=(5,5))\n",
    "ax.imshow(img.reshape(15,15,3))"
   ]
  },
  {
   "cell_type": "markdown",
   "metadata": {},
   "source": [
    "Ja, die Vorhersage passt. Wir haben hier eine Entwicklung in einem Wolkenfeld."
   ]
  },
  {
   "cell_type": "code",
   "execution_count": 31,
   "metadata": {
    "collapsed": true
   },
   "outputs": [],
   "source": [
    "haci_isoliert = haci_cases[haci_cases.tags=='isoliert']"
   ]
  },
  {
   "cell_type": "code",
   "execution_count": 32,
   "metadata": {},
   "outputs": [
    {
     "name": "stdout",
     "output_type": "stream",
     "text": [
      "            image_name      tags\n",
      "0     20130313_605.png  isoliert\n",
      "7     20130416_446.png  isoliert\n",
      "8     20130416_522.png  isoliert\n",
      "9     20130416_549.png  isoliert\n",
      "14    20130416_724.png  isoliert\n",
      "15    20130416_731.png  isoliert\n",
      "40    20130508_937.png  isoliert\n",
      "46    20130509_640.png  isoliert\n",
      "67    20130512_568.png  isoliert\n",
      "90    20130518_931.png  isoliert\n",
      "103  20130528_1084.png  isoliert\n",
      "122   20130608_706.png  isoliert\n",
      "126   20130609_714.png  isoliert\n",
      "140  20130618_1115.png  isoliert\n",
      "142  20130618_1305.png  isoliert\n",
      "143  20130618_1348.png  isoliert\n",
      "152  20130619_1432.png  isoliert\n",
      "159   20130620_675.png  isoliert\n",
      "160   20130620_679.png  isoliert\n",
      "190   20130701_136.png  isoliert\n",
      "192   20130701_163.png  isoliert\n",
      "224   20130719_134.png  isoliert\n",
      "226   20130723_373.png  isoliert\n",
      "227   20130723_385.png  isoliert\n",
      "228   20130723_417.png  isoliert\n",
      "230   20130723_471.png  isoliert\n",
      "255   20130725_191.png  isoliert\n",
      "258   20130725_210.png  isoliert\n",
      "263   20130725_303.png  isoliert\n",
      "274   20130726_244.png  isoliert\n",
      "342   20130804_224.png  isoliert\n",
      "352   20130806_253.png  isoliert\n",
      "400   20130813_203.png  isoliert\n",
      "411   20130817_216.png  isoliert\n",
      "449   20130906_283.png  isoliert\n"
     ]
    }
   ],
   "source": [
    "print(haci_isoliert)"
   ]
  },
  {
   "cell_type": "code",
   "execution_count": 33,
   "metadata": {},
   "outputs": [
    {
     "data": {
      "text/plain": [
       "35"
      ]
     },
     "execution_count": 33,
     "metadata": {},
     "output_type": "execute_result"
    }
   ],
   "source": [
    "len(haci_isoliert.tags)"
   ]
  },
  {
   "cell_type": "code",
   "execution_count": 34,
   "metadata": {
    "collapsed": true
   },
   "outputs": [],
   "source": [
    "img = load_img(\"{}2013/{}\".format(image_path,haci_isoliert.iloc[0].image_name))"
   ]
  },
  {
   "cell_type": "code",
   "execution_count": 35,
   "metadata": {
    "collapsed": true
   },
   "outputs": [],
   "source": [
    "img = np.array(img)[:,15:30,:]\n",
    "img = img.reshape(1, 15, 15, 3)"
   ]
  },
  {
   "cell_type": "code",
   "execution_count": 37,
   "metadata": {},
   "outputs": [
    {
     "name": "stdout",
     "output_type": "stream",
     "text": [
      "[0. 0. 1. 0. 0.]\n",
      "['isoliert']\n"
     ]
    }
   ],
   "source": [
    "result = loaded_model.predict(img)\n",
    "print(result[0])\n",
    "# map prediction to tags\n",
    "tags = prediction_to_tags(inv_labels_map, result[0])\n",
    "print(tags)"
   ]
  },
  {
   "cell_type": "code",
   "execution_count": 38,
   "metadata": {},
   "outputs": [
    {
     "data": {
      "text/plain": [
       "<matplotlib.image.AxesImage at 0x7f49200b77d0>"
      ]
     },
     "execution_count": 38,
     "metadata": {},
     "output_type": "execute_result"
    },
    {
     "data": {
      "image/png": "[encoded data removed]",
      "text/plain": [
       "<Figure size 360x360 with 1 Axes>"
      ]
     },
     "metadata": {},
     "output_type": "display_data"
    }
   ],
   "source": [
    "fig,ax = plt.subplots(1,1,figsize=(5,5))\n",
    "ax.imshow(img.reshape(15,15,3))"
   ]
  },
  {
   "cell_type": "markdown",
   "metadata": {},
   "source": [
    "Das scheint soweit gut zu funktionieren. Dann lassen wir das doch mal über mehrere Bilder laufen."
   ]
  },
  {
   "cell_type": "code",
   "execution_count": 40,
   "metadata": {
    "collapsed": true
   },
   "outputs": [],
   "source": [
    "import glob"
   ]
  },
  {
   "cell_type": "code",
   "execution_count": 41,
   "metadata": {},
   "outputs": [],
   "source": [
    "images = glob.glob(\"/vols/satellit/home/lenk/proj/2019-01_trackingstudie/pics/haci_auto_nc/*.png\")"
   ]
  },
  {
   "cell_type": "code",
   "execution_count": 65,
   "metadata": {},
   "outputs": [],
   "source": [
    "classes = []\n",
    "bilder = []\n",
    "\n",
    "for img in images:\n",
    "    i = load_img(img)\n",
    "    i = np.array(i)[:,15:30,:]\n",
    "    i = i.reshape(1, 15, 15, 3)\n",
    "    \n",
    "    result = loaded_model.predict(i)\n",
    "    tags = prediction_to_tags(inv_labels_map, result[0])\n",
    "    \n",
    "    if len(tags)>=1:\n",
    "        classes.append(tags[0])\n",
    "    else:\n",
    "        classes.append('')\n",
    "    bilder.append(img)"
   ]
  },
  {
   "cell_type": "code",
   "execution_count": 66,
   "metadata": {},
   "outputs": [
    {
     "data": {
      "text/plain": [
       "[]"
      ]
     },
     "execution_count": 66,
     "metadata": {},
     "output_type": "execute_result"
    }
   ],
   "source": [
    "tags\n"
   ]
  },
  {
   "cell_type": "code",
   "execution_count": 67,
   "metadata": {},
   "outputs": [],
   "source": [
    "classification = pd.DataFrame({'image':bilder,'tag':classes})"
   ]
  },
  {
   "cell_type": "code",
   "execution_count": 75,
   "metadata": {},
   "outputs": [],
   "source": [
    "class_isolated = classification[classification.tag=='isoliert']"
   ]
  },
  {
   "cell_type": "code",
   "execution_count": 81,
   "metadata": {},
   "outputs": [],
   "source": [
    "class_isolated = class_isolated.sort_values(by=['image'])"
   ]
  },
  {
   "cell_type": "code",
   "execution_count": 70,
   "metadata": {
    "collapsed": true
   },
   "outputs": [],
   "source": [
    "classification.to_csv(\"/vols/satellit/home/lenk/proj/2019-01_trackingstudie/HACI_classified.csv\",index=False)"
   ]
  },
  {
   "cell_type": "code",
   "execution_count": 82,
   "metadata": {
    "collapsed": true
   },
   "outputs": [],
   "source": [
    "class_isolated.to_csv(\"/vols/satellit/home/lenk/proj/2019-01_trackingstudie/HACI_classified_isolated.csv\",index=False)"
   ]
  },
  {
   "cell_type": "code",
   "execution_count": 71,
   "metadata": {},
   "outputs": [
    {
     "data": {
      "text/plain": [
       "in_Wolkenfeld      0.545887\n",
       "Randentwicklung    0.271208\n",
       "isoliert           0.128920\n",
       "                   0.052057\n",
       "unter_Wolken       0.001928\n",
       "Name: tag, dtype: float64"
      ]
     },
     "execution_count": 71,
     "metadata": {},
     "output_type": "execute_result"
    }
   ],
   "source": [
    "classification.tag.value_counts(normalize=True)"
   ]
  },
  {
   "cell_type": "code",
   "execution_count": 83,
   "metadata": {
    "collapsed": true
   },
   "outputs": [],
   "source": [
    "import os"
   ]
  },
  {
   "cell_type": "code",
   "execution_count": 84,
   "metadata": {
    "collapsed": true
   },
   "outputs": [],
   "source": [
    "target_dir = \"/vols/satellit/home/lenk/proj/2019-01_trackingstudie/pics/haci_auto_nc/isoliert/\""
   ]
  },
  {
   "cell_type": "code",
   "execution_count": 87,
   "metadata": {},
   "outputs": [],
   "source": [
    "for i, img in class_isolated.iterrows():\n",
    "    cmd = \"cp {} {}\".format(img.image,target_dir)\n",
    "    os.system(cmd)"
   ]
  }
 ],
 "metadata": {
  "kernelspec": {
   "display_name": "Python 2",
   "language": "python",
   "name": "python2"
  },
  "language_info": {
   "codemirror_mode": {
    "name": "ipython",
    "version": 2
   },
   "file_extension": ".py",
   "mimetype": "text/x-python",
   "name": "python",
   "nbconvert_exporter": "python",
   "pygments_lexer": "ipython2",
   "version": "2.7.11"
  }
 },
 "nbformat": 4,
 "nbformat_minor": 2
}
