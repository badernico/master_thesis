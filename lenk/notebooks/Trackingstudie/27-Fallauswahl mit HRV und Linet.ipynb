{
 "cells": [
  {
   "cell_type": "markdown",
   "metadata": {},
   "source": [
    "# Ansatz der Fallauswahl mit HRV-Objekten und Linetdaten\n",
    "\n",
    "Die Auswahl der Fälle mit HACI funktioniert einigermaßen, aber es sind noch viele nicht wirklich isolierte Fälle dabei. Eventuell kann auch folgender Ansatz funktionieren:\n",
    "\n",
    "1. Segmentierung von parallaxenkorrigierten HRV-Daten\n",
    "2. Ableitung von Wolkenobjekten mittels Überlapptrackings\n",
    "3. Nur Analyse von Objekten, die irgendwann in ihrem Lebenszyklus mit Blitzen aus Linetdaten überlappen."
   ]
  }
 ],
 "metadata": {
  "kernelspec": {
   "display_name": "Python 2",
   "language": "python",
   "name": "python2"
  },
  "language_info": {
   "codemirror_mode": {
    "name": "ipython",
    "version": 2
   },
   "file_extension": ".py",
   "mimetype": "text/x-python",
   "name": "python",
   "nbconvert_exporter": "python",
   "pygments_lexer": "ipython2",
   "version": "2.7.11"
  }
 },
 "nbformat": 4,
 "nbformat_minor": 2
}
