{
 "cells": [
  {
   "cell_type": "code",
   "execution_count": 29,
   "metadata": {},
   "outputs": [
    {
     "name": "stderr",
     "output_type": "stream",
     "text": [
      "/vols/talos/local/anaconda2-5.0.0/lib/python2.7/site-packages/h5py/__init__.py:36: FutureWarning: Conversion of the second argument of issubdtype from `float` to `np.floating` is deprecated. In future, it will be treated as `np.float64 == np.dtype(float).type`.\n",
      "  from ._conv import register_converters as _register_converters\n"
     ]
    }
   ],
   "source": [
    "import numpy as np\n",
    "import MSGtools as mst"
   ]
  },
  {
   "cell_type": "code",
   "execution_count": 30,
   "metadata": {
    "collapsed": true
   },
   "outputs": [],
   "source": [
    "slon,slat = mst.get_msg_lon_lat('eu')"
   ]
  },
  {
   "cell_type": "code",
   "execution_count": 4,
   "metadata": {
    "collapsed": true
   },
   "outputs": [],
   "source": [
    "lat=np.linspace(15,30,61)\n",
    "lon=np.linspace(91,102,45)"
   ]
  },
  {
   "cell_type": "code",
   "execution_count": 31,
   "metadata": {
    "collapsed": true
   },
   "outputs": [],
   "source": [
    "def find_index(x,y):\n",
    "    xi=np.searchsorted(slat,x)\n",
    "    yi=np.searchsorted(slon,y)\n",
    "    return xi,yi"
   ]
  },
  {
   "cell_type": "code",
   "execution_count": 32,
   "metadata": {},
   "outputs": [
    {
     "ename": "ValueError",
     "evalue": "object too deep for desired array",
     "output_type": "error",
     "traceback": [
      "\u001b[0;31m---------------------------------------------------------------------------\u001b[0m",
      "\u001b[0;31mValueError\u001b[0m                                Traceback (most recent call last)",
      "\u001b[0;32m<ipython-input-32-5138c971503d>\u001b[0m in \u001b[0;36m<module>\u001b[0;34m()\u001b[0m\n\u001b[0;32m----> 1\u001b[0;31m \u001b[0mthisLat\u001b[0m\u001b[0;34m,\u001b[0m \u001b[0mthisLon\u001b[0m \u001b[0;34m=\u001b[0m \u001b[0mfind_index\u001b[0m\u001b[0;34m(\u001b[0m\u001b[0;36m16.3\u001b[0m\u001b[0;34m,\u001b[0m\u001b[0;36m101.6\u001b[0m\u001b[0;34m)\u001b[0m\u001b[0;34m\u001b[0m\u001b[0m\n\u001b[0m\u001b[1;32m      2\u001b[0m \u001b[0;32mprint\u001b[0m \u001b[0mthisLat\u001b[0m\u001b[0;34m,\u001b[0m \u001b[0mthisLon\u001b[0m\u001b[0;34m\u001b[0m\u001b[0m\n",
      "\u001b[0;32m<ipython-input-31-3352fa17123f>\u001b[0m in \u001b[0;36mfind_index\u001b[0;34m(x, y)\u001b[0m\n\u001b[1;32m      1\u001b[0m \u001b[0;32mdef\u001b[0m \u001b[0mfind_index\u001b[0m\u001b[0;34m(\u001b[0m\u001b[0mx\u001b[0m\u001b[0;34m,\u001b[0m\u001b[0my\u001b[0m\u001b[0;34m)\u001b[0m\u001b[0;34m:\u001b[0m\u001b[0;34m\u001b[0m\u001b[0m\n\u001b[0;32m----> 2\u001b[0;31m     \u001b[0mxi\u001b[0m\u001b[0;34m=\u001b[0m\u001b[0mnp\u001b[0m\u001b[0;34m.\u001b[0m\u001b[0msearchsorted\u001b[0m\u001b[0;34m(\u001b[0m\u001b[0mslat\u001b[0m\u001b[0;34m,\u001b[0m\u001b[0mx\u001b[0m\u001b[0;34m)\u001b[0m\u001b[0;34m\u001b[0m\u001b[0m\n\u001b[0m\u001b[1;32m      3\u001b[0m     \u001b[0myi\u001b[0m\u001b[0;34m=\u001b[0m\u001b[0mnp\u001b[0m\u001b[0;34m.\u001b[0m\u001b[0msearchsorted\u001b[0m\u001b[0;34m(\u001b[0m\u001b[0mslon\u001b[0m\u001b[0;34m,\u001b[0m\u001b[0my\u001b[0m\u001b[0;34m)\u001b[0m\u001b[0;34m\u001b[0m\u001b[0m\n\u001b[1;32m      4\u001b[0m     \u001b[0;32mreturn\u001b[0m \u001b[0mxi\u001b[0m\u001b[0;34m,\u001b[0m\u001b[0myi\u001b[0m\u001b[0;34m\u001b[0m\u001b[0m\n",
      "\u001b[0;32m/home/lenk/.local/lib/python2.7/site-packages/numpy/core/fromnumeric.pyc\u001b[0m in \u001b[0;36msearchsorted\u001b[0;34m(a, v, side, sorter)\u001b[0m\n\u001b[1;32m   1168\u001b[0m \u001b[0;34m\u001b[0m\u001b[0m\n\u001b[1;32m   1169\u001b[0m     \"\"\"\n\u001b[0;32m-> 1170\u001b[0;31m     \u001b[0;32mreturn\u001b[0m \u001b[0m_wrapfunc\u001b[0m\u001b[0;34m(\u001b[0m\u001b[0ma\u001b[0m\u001b[0;34m,\u001b[0m \u001b[0;34m'searchsorted'\u001b[0m\u001b[0;34m,\u001b[0m \u001b[0mv\u001b[0m\u001b[0;34m,\u001b[0m \u001b[0mside\u001b[0m\u001b[0;34m=\u001b[0m\u001b[0mside\u001b[0m\u001b[0;34m,\u001b[0m \u001b[0msorter\u001b[0m\u001b[0;34m=\u001b[0m\u001b[0msorter\u001b[0m\u001b[0;34m)\u001b[0m\u001b[0;34m\u001b[0m\u001b[0m\n\u001b[0m\u001b[1;32m   1171\u001b[0m \u001b[0;34m\u001b[0m\u001b[0m\n\u001b[1;32m   1172\u001b[0m \u001b[0;34m\u001b[0m\u001b[0m\n",
      "\u001b[0;32m/home/lenk/.local/lib/python2.7/site-packages/numpy/core/fromnumeric.pyc\u001b[0m in \u001b[0;36m_wrapfunc\u001b[0;34m(obj, method, *args, **kwds)\u001b[0m\n\u001b[1;32m     49\u001b[0m \u001b[0;32mdef\u001b[0m \u001b[0m_wrapfunc\u001b[0m\u001b[0;34m(\u001b[0m\u001b[0mobj\u001b[0m\u001b[0;34m,\u001b[0m \u001b[0mmethod\u001b[0m\u001b[0;34m,\u001b[0m \u001b[0;34m*\u001b[0m\u001b[0margs\u001b[0m\u001b[0;34m,\u001b[0m \u001b[0;34m**\u001b[0m\u001b[0mkwds\u001b[0m\u001b[0;34m)\u001b[0m\u001b[0;34m:\u001b[0m\u001b[0;34m\u001b[0m\u001b[0m\n\u001b[1;32m     50\u001b[0m     \u001b[0;32mtry\u001b[0m\u001b[0;34m:\u001b[0m\u001b[0;34m\u001b[0m\u001b[0m\n\u001b[0;32m---> 51\u001b[0;31m         \u001b[0;32mreturn\u001b[0m \u001b[0mgetattr\u001b[0m\u001b[0;34m(\u001b[0m\u001b[0mobj\u001b[0m\u001b[0;34m,\u001b[0m \u001b[0mmethod\u001b[0m\u001b[0;34m)\u001b[0m\u001b[0;34m(\u001b[0m\u001b[0;34m*\u001b[0m\u001b[0margs\u001b[0m\u001b[0;34m,\u001b[0m \u001b[0;34m**\u001b[0m\u001b[0mkwds\u001b[0m\u001b[0;34m)\u001b[0m\u001b[0;34m\u001b[0m\u001b[0m\n\u001b[0m\u001b[1;32m     52\u001b[0m \u001b[0;34m\u001b[0m\u001b[0m\n\u001b[1;32m     53\u001b[0m     \u001b[0;31m# An AttributeError occurs if the object does not have\u001b[0m\u001b[0;34m\u001b[0m\u001b[0;34m\u001b[0m\u001b[0m\n",
      "\u001b[0;31mValueError\u001b[0m: object too deep for desired array"
     ]
    }
   ],
   "source": [
    "thisLat, thisLon = find_index(16.3,101.6)\n",
    "print thisLat, thisLon"
   ]
  },
  {
   "cell_type": "code",
   "execution_count": 12,
   "metadata": {},
   "outputs": [
    {
     "name": "stdout",
     "output_type": "stream",
     "text": [
      "16.5 101.75\n"
     ]
    }
   ],
   "source": [
    "print lat[thisLat], lon[thisLon]"
   ]
  },
  {
   "cell_type": "code",
   "execution_count": null,
   "metadata": {
    "collapsed": true
   },
   "outputs": [],
   "source": [
    "def get_data(lat_input, long_input):\n",
    "    lat_index  = np.nanargmin((lat-lat_input)**2)\n",
    "    long_index = np.nanargmin((long-long_input)**2)\n",
    "    return data[long_index][lat_index]"
   ]
  },
  {
   "cell_type": "code",
   "execution_count": 48,
   "metadata": {
    "collapsed": true
   },
   "outputs": [],
   "source": [
    "def get_data(lat_input, lon_input,lat_grid, lon_grid):\n",
    "    lon_shape = lon_grid.shape\n",
    "    lat_shape = lat_grid.shape\n",
    "    lat_index  = np.nanargmin((lat_grid.ravel()-lat_input)**2)\n",
    "    lon_index = np.nanargmin((lon_grid.ravel()-lon_input)**2)\n",
    "    return np.unravel_index(lat_index, lat_shape), np.unravel_index(lon_index,lon_shape)"
   ]
  },
  {
   "cell_type": "code",
   "execution_count": null,
   "metadata": {
    "collapsed": true
   },
   "outputs": [],
   "source": []
  },
  {
   "cell_type": "code",
   "execution_count": 38,
   "metadata": {},
   "outputs": [
    {
     "name": "stdout",
     "output_type": "stream",
     "text": [
      "[[11.  11.5 12. ]\n",
      " [11.1 11.6 12.1]\n",
      " [11.2 11.7 12.2]]\n"
     ]
    }
   ],
   "source": [
    "lon1 = np.array([[11,11.5,12],[11.1,11.6,12.1],[11.2,11.7,12.2]])\n",
    "print lon1"
   ]
  },
  {
   "cell_type": "code",
   "execution_count": 39,
   "metadata": {},
   "outputs": [
    {
     "name": "stdout",
     "output_type": "stream",
     "text": [
      "[[5.  5.1 5.2]\n",
      " [4.5 4.6 4.7]\n",
      " [4.  4.1 4.2]]\n"
     ]
    }
   ],
   "source": [
    "lat1 = np.array([[5,5.1,5.2],[4.5,4.6,4.7],[4,4.1,4.2]])\n",
    "print lat1"
   ]
  },
  {
   "cell_type": "code",
   "execution_count": 49,
   "metadata": {},
   "outputs": [],
   "source": [
    "thisLat2, thisLon2 = get_data(51,15,slat,slon)"
   ]
  },
  {
   "cell_type": "code",
   "execution_count": 50,
   "metadata": {},
   "outputs": [
    {
     "name": "stdout",
     "output_type": "stream",
     "text": [
      "(167, 357) (596, 667)\n"
     ]
    }
   ],
   "source": [
    "print thisLat2, thisLon2"
   ]
  },
  {
   "cell_type": "code",
   "execution_count": 54,
   "metadata": {},
   "outputs": [
    {
     "name": "stdout",
     "output_type": "stream",
     "text": [
      "51.000046 14.999965\n"
     ]
    }
   ],
   "source": [
    "print slat[thisLat2], slon[thisLon2]"
   ]
  },
  {
   "cell_type": "code",
   "execution_count": 56,
   "metadata": {},
   "outputs": [
    {
     "data": {
      "text/plain": [
       "133957"
      ]
     },
     "execution_count": 56,
     "metadata": {},
     "output_type": "execute_result"
    }
   ],
   "source": [
    "np.nanargmin((slat.ravel()-51)**2)"
   ]
  },
  {
   "cell_type": "code",
   "execution_count": 57,
   "metadata": {},
   "outputs": [
    {
     "data": {
      "text/plain": [
       "477467"
      ]
     },
     "execution_count": 57,
     "metadata": {},
     "output_type": "execute_result"
    }
   ],
   "source": [
    "np.nanargmin((slon.ravel()-15)**2)"
   ]
  },
  {
   "cell_type": "code",
   "execution_count": 59,
   "metadata": {},
   "outputs": [
    {
     "data": {
      "text/plain": [
       "51.000046"
      ]
     },
     "execution_count": 59,
     "metadata": {},
     "output_type": "execute_result"
    }
   ],
   "source": [
    "slat.ravel()[133957]"
   ]
  },
  {
   "cell_type": "code",
   "execution_count": 60,
   "metadata": {},
   "outputs": [
    {
     "data": {
      "text/plain": [
       "14.999965"
      ]
     },
     "execution_count": 60,
     "metadata": {},
     "output_type": "execute_result"
    }
   ],
   "source": [
    "slon.ravel()[477467]"
   ]
  },
  {
   "cell_type": "code",
   "execution_count": 27,
   "metadata": {},
   "outputs": [
    {
     "name": "stdout",
     "output_type": "stream",
     "text": [
      "Indices of nearest neighbours: (array([20, 40, 59]), array([45, 64, 84]))\n",
      "Longitude of nearest neighbours: [34.54545455 36.46464646 38.48484848]\n",
      "Latitude of nearest neighbours: [12.02020202 14.04040404 15.95959596]\n",
      "Great Circle Distance: [5430.10966231 5893.32976544 4775.75963908]\n"
     ]
    }
   ],
   "source": [
    "import pyresample\n",
    "import numpy as np\n",
    "\n",
    "# Define lat-lon grid\n",
    "lon = np.linspace(30, 40, 100)\n",
    "lat = np.linspace(10, 20, 100)\n",
    "lon_grid, lat_grid = np.meshgrid(lon, lat)\n",
    "grid = pyresample.geometry.GridDefinition(lats=lat_grid, lons=lon_grid)\n",
    "\n",
    "# Generate some random data on the grid\n",
    "data_grid = np.random.rand(lon_grid.shape[0], lon_grid.shape[1])\n",
    "\n",
    "# Define some sample points\n",
    "my_lons = np.array([34.5, 36.5, 38.5])\n",
    "my_lats = np.array([12.0, 14.0, 16.0])\n",
    "swath = pyresample.geometry.SwathDefinition(lons=my_lons, lats=my_lats)\n",
    "\n",
    "# Determine nearest (w.r.t. great circle distance) neighbour in the grid.\n",
    "_, _, index_array, distance_array = pyresample.kd_tree.get_neighbour_info(\n",
    "    source_geo_def=grid, target_geo_def=swath, radius_of_influence=50000,\n",
    "    neighbours=1)\n",
    "\n",
    "# get_neighbour_info() returns indices in the flattened lat/lon grid. Compute\n",
    "# the 2D grid indices:\n",
    "index_array_2d = np.unravel_index(index_array, grid.shape)\n",
    "\n",
    "print \"Indices of nearest neighbours:\", index_array_2d\n",
    "print \"Longitude of nearest neighbours:\", lon_grid[index_array_2d]\n",
    "print \"Latitude of nearest neighbours:\", lat_grid[index_array_2d]\n",
    "print \"Great Circle Distance:\", distance_array"
   ]
  },
  {
   "cell_type": "code",
   "execution_count": 28,
   "metadata": {},
   "outputs": [
    {
     "ename": "NameError",
     "evalue": "name 'data' is not defined",
     "output_type": "error",
     "traceback": [
      "\u001b[0;31m---------------------------------------------------------------------------\u001b[0m",
      "\u001b[0;31mNameError\u001b[0m                                 Traceback (most recent call last)",
      "\u001b[0;32m<ipython-input-28-001a7b91bd3b>\u001b[0m in \u001b[0;36m<module>\u001b[0;34m()\u001b[0m\n\u001b[1;32m      1\u001b[0m \u001b[0;32mfrom\u001b[0m \u001b[0mscipy\u001b[0m\u001b[0;34m.\u001b[0m\u001b[0minterpolate\u001b[0m \u001b[0;32mimport\u001b[0m \u001b[0mRegularGridInterpolator\u001b[0m\u001b[0;34m\u001b[0m\u001b[0m\n\u001b[1;32m      2\u001b[0m \u001b[0;34m\u001b[0m\u001b[0m\n\u001b[0;32m----> 3\u001b[0;31m \u001b[0mitp\u001b[0m \u001b[0;34m=\u001b[0m \u001b[0mRegularGridInterpolator\u001b[0m\u001b[0;34m(\u001b[0m \u001b[0;34m(\u001b[0m\u001b[0mlat\u001b[0m\u001b[0;34m,\u001b[0m \u001b[0mlon\u001b[0m\u001b[0;34m)\u001b[0m\u001b[0;34m,\u001b[0m \u001b[0mdata\u001b[0m\u001b[0;34m,\u001b[0m \u001b[0mmethod\u001b[0m\u001b[0;34m=\u001b[0m\u001b[0;34m'nearest'\u001b[0m\u001b[0;34m)\u001b[0m\u001b[0;34m\u001b[0m\u001b[0m\n\u001b[0m\u001b[1;32m      4\u001b[0m \u001b[0mres\u001b[0m \u001b[0;34m=\u001b[0m \u001b[0mitp\u001b[0m\u001b[0;34m(\u001b[0m\u001b[0msome_new_point\u001b[0m\u001b[0;34m)\u001b[0m\u001b[0;34m\u001b[0m\u001b[0m\n",
      "\u001b[0;31mNameError\u001b[0m: name 'data' is not defined"
     ]
    }
   ],
   "source": [
    "from scipy.interpolate import RegularGridInterpolator\n",
    "\n",
    "itp = RegularGridInterpolator( (lat, lon), data, method='nearest') \n",
    "res = itp(some_new_point)"
   ]
  },
  {
   "cell_type": "code",
   "execution_count": 61,
   "metadata": {
    "collapsed": true
   },
   "outputs": [],
   "source": [
    "combined_x_y_arrays = numpy.dstack([slat.ravel(),slon.ravel()])[0]"
   ]
  },
  {
   "cell_type": "code",
   "execution_count": 86,
   "metadata": {},
   "outputs": [],
   "source": [
    "points_list = list(np.array([[51,52],[15,16]]).transpose())"
   ]
  },
  {
   "cell_type": "code",
   "execution_count": 87,
   "metadata": {},
   "outputs": [
    {
     "name": "stdout",
     "output_type": "stream",
     "text": [
      "[array([51, 15]), array([52, 16])]\n"
     ]
    }
   ],
   "source": [
    "print points_list"
   ]
  },
  {
   "cell_type": "code",
   "execution_count": 69,
   "metadata": {},
   "outputs": [],
   "source": [
    "from scipy.spatial import cKDTree\n",
    "import time"
   ]
  },
  {
   "cell_type": "code",
   "execution_count": 67,
   "metadata": {
    "collapsed": true
   },
   "outputs": [],
   "source": [
    "def do_kdtree(combined_x_y_arrays,points):\n",
    "    mytree = cKDTree(combined_x_y_arrays)\n",
    "    dist, indexes = mytree.query(points)\n",
    "    return indexes"
   ]
  },
  {
   "cell_type": "code",
   "execution_count": 111,
   "metadata": {
    "collapsed": true
   },
   "outputs": [],
   "source": [
    "-"
   ]
  },
  {
   "cell_type": "code",
   "execution_count": 88,
   "metadata": {},
   "outputs": [
    {
     "name": "stdout",
     "output_type": "stream",
     "text": [
      "Completed in:  0.923803091049\n"
     ]
    }
   ],
   "source": [
    "start = time.time()\n",
    "results2 = do_kdtree(combined_x_y_arrays,points_list)\n",
    "end = time.time()\n",
    "print 'Completed in: ',end-start"
   ]
  },
  {
   "cell_type": "code",
   "execution_count": 103,
   "metadata": {
    "collapsed": true
   },
   "outputs": [],
   "source": [
    "combined_coordinate_arrays = numpy.dstack([slat.ravel(),slon.ravel()])[0]"
   ]
  },
  {
   "cell_type": "code",
   "execution_count": 106,
   "metadata": {},
   "outputs": [
    {
     "name": "stdout",
     "output_type": "stream",
     "text": [
      "[array([10. , 41.2]), array([11. , 51.6]), array([12., 45.]), array([13., 54.])]\n"
     ]
    }
   ],
   "source": [
    "points = np.array([[10,11,12,13],[41.2,51.6,45,54]])\n",
    "points_list = list(points.transpose())\n",
    "print points_list"
   ]
  },
  {
   "cell_type": "code",
   "execution_count": 107,
   "metadata": {
    "collapsed": true
   },
   "outputs": [],
   "source": [
    "tree = cKDTree(combined_coordinate_arrays)"
   ]
  },
  {
   "cell_type": "code",
   "execution_count": 109,
   "metadata": {},
   "outputs": [],
   "source": [
    "dist,indices = tree.query(points_list)"
   ]
  },
  {
   "cell_type": "code",
   "execution_count": 110,
   "metadata": {},
   "outputs": [
    {
     "data": {
      "text/plain": [
       "array([479999, 479999, 479999, 479999])"
      ]
     },
     "execution_count": 110,
     "metadata": {},
     "output_type": "execute_result"
    }
   ],
   "source": [
    "indices"
   ]
  },
  {
   "cell_type": "code",
   "execution_count": 112,
   "metadata": {},
   "outputs": [],
   "source": [
    "results2 = get_index_kdtree(np.array([[41.2,51.6,45,54],[10,11,12,13]]),slon,slat)"
   ]
  },
  {
   "cell_type": "code",
   "execution_count": 113,
   "metadata": {},
   "outputs": [
    {
     "name": "stdout",
     "output_type": "stream",
     "text": [
      "[[371 513]\n",
      " [155 532]\n",
      " [285 562]\n",
      " [115 571]]\n"
     ]
    }
   ],
   "source": [
    "print results2"
   ]
  },
  {
   "cell_type": "code",
   "execution_count": 122,
   "metadata": {},
   "outputs": [
    {
     "name": "stdout",
     "output_type": "stream",
     "text": [
      "0\n",
      "[371 513]\n",
      "41.2143 9.985558\n",
      "1\n",
      "[155 532]\n",
      "51.609 10.979449\n",
      "2\n",
      "[285 562]\n",
      "45.01125 11.983555\n",
      "3\n",
      "[115 571]\n",
      "53.9748 12.986927\n"
     ]
    }
   ],
   "source": [
    "for i,res in enumerate(results2):\n",
    "    print i\n",
    "    print res\n",
    "    print slat[res[0],res[1]], slon[res[0],res[1]]"
   ]
  },
  {
   "cell_type": "code",
   "execution_count": 118,
   "metadata": {},
   "outputs": [
    {
     "data": {
      "text/plain": [
       "41.2143"
      ]
     },
     "execution_count": 118,
     "metadata": {},
     "output_type": "execute_result"
    }
   ],
   "source": [
    "slat[371,513]"
   ]
  },
  {
   "cell_type": "code",
   "execution_count": 76,
   "metadata": {
    "collapsed": true
   },
   "outputs": [],
   "source": [
    "from analysis_tools import grid_and_interpolation as gi"
   ]
  },
  {
   "cell_type": "code",
   "execution_count": 77,
   "metadata": {},
   "outputs": [
    {
     "name": "stdout",
     "output_type": "stream",
     "text": [
      "Completed in:  1.95772409439\n"
     ]
    }
   ],
   "source": [
    "start = time.time()\n",
    "results3 = gi.get_index((15,51),slon,slat)\n",
    "end = time.time()\n",
    "print 'Completed in: ',end-start"
   ]
  },
  {
   "cell_type": "code",
   "execution_count": 78,
   "metadata": {},
   "outputs": [
    {
     "name": "stdout",
     "output_type": "stream",
     "text": [
      "(array(167), array(621))\n"
     ]
    }
   ],
   "source": [
    "print results3"
   ]
  },
  {
   "cell_type": "code",
   "execution_count": 128,
   "metadata": {},
   "outputs": [
    {
     "name": "stdout",
     "output_type": "stream",
     "text": [
      "Θr₂\n"
     ]
    }
   ],
   "source": [
    "print(u'\\N{GREEK CAPITAL LETTER THETA}r\\N{SUBSCRIPT TWO}')"
   ]
  }
 ],
 "metadata": {
  "kernelspec": {
   "display_name": "Python 2",
   "language": "python",
   "name": "python2"
  },
  "language_info": {
   "codemirror_mode": {
    "name": "ipython",
    "version": 2
   },
   "file_extension": ".py",
   "mimetype": "text/x-python",
   "name": "python",
   "nbconvert_exporter": "python",
   "pygments_lexer": "ipython2",
   "version": "2.7.11"
  }
 },
 "nbformat": 4,
 "nbformat_minor": 2
}
