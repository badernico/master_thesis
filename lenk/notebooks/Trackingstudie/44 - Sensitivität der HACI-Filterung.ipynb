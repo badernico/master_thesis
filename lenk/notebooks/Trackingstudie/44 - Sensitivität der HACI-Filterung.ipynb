{
 "cells": [
  {
   "cell_type": "markdown",
   "metadata": {},
   "source": [
    "# 44 Untersuchung der HACI-Filterung\n",
    "\n",
    "Für eine repräsentative Untersuchung brauchen wir eine möglichst große Falldatenbank. Diese sollte der Reproduzierbarkeit wegen möglichst objektiv gewonnen werden. Außerdem ist es für das Verständnis der Fälle gut erstmal nur isolierte Zellen zu betrachten. Deswegen wurde der Ansatz nach Haberlie et al. (2015) gewählt.\n",
    "\n",
    "## 1 Grundidee des HACI-Algorithmus\n",
    "\n",
    "Die Fallauswahl erfolgt auf Grundlage des RADOLAN-RX-Komposits. Es werden Fälle ausgewählt, die durch eine Reihe von Schwellwerten definiert sind. Die Auswahl der Fälle erfolgt nach folgenden Kriterien:\n",
    "\n",
    "1. Eine in Frage kommende Niederschlagszelle muss eienen Radarreflektivtätsfaktor von mindestens 35&thinsp;dBZ erreichen. 35&thinsp;dBZ entsprechen nur leichtem Niederschlag, werden aber in den älteren Studien von Mecikalski und Mitarbeitern verwendet und auch in der Haberlie-Studie. Deshalb wurde dieser Schwellwert gewählt.\n",
    "\n",
    "2. Eine Gewitterzelle existiert über längere Zeit. Also muss der Niederschlag über eine Reihe von Zeitschritten anhalten. Als Schwellwert wurden mindestens 30&thinsp;min ausgewählt um nichtmeteorlogische Echos und zu kurzlebige Niederschlagszellen auszuschließen. \n",
    "\n",
    "3. In Frage kommende Zellen sollten sich nicht zu nahe am Rand der RADOLAN-RX-Domäne entwicklen, um auszuschließen, dass sich entwicklende Zellen sich außerhalb des Bereiches bewegen und auch das bestehende Zellen, die in den Bereich wandern als neue Zellen erkannt werden. Gleiches gilt auch für die Zeitdomäne. Deshalb wurden als Schwellwert für die Zeit eine Stunde und für die Fläche 30&thinsp;px gewählt.\n",
    "\n",
    "4. Gewitterzellen und auch ihr Niederschlagsfeld sollten mit der Zeit wachsen und dann wieder schrumpfen. Um nichtmeteorlogische Echos auszuschließen wurden zwei Schwellwerte gesetzt: eine Startgröße von mindestens 100&thinsp;px<sup>2</sup> und ein Wachstum auf mindestens 200&thinsp;px<sup>2</sup> über die nächsten 30&thinsp;min. \n",
    "\n",
    "5. Beim HACI-Algorithmus werden öfters Bereiche mit höherem Reflektivitätsfaktor in einem homogenen Feld mit niedriegerem als einzelne neue Zellen erkannt. Dies sind wahrscheinlich keine Gewitterzellen sondern Bereiche mit höherem Niederschlag, die in ein stratiormes Niederschlagsfeld eingelagert sind. Um diese zu filtern wird das Verhältnis der 35&thinsp;dBZ- zur 20&thinsp;dBZ-Fläche bestimmt. Der Schwellwert dafür muss aber noch untersucht werden."
   ]
  },
  {
   "cell_type": "code",
   "execution_count": 1,
   "metadata": {},
   "outputs": [],
   "source": [
    "import numpy as np\n",
    "import pandas as pd\n",
    "import matplotlib.pyplot as plt\n",
    "%matplotlib inline\n",
    "\n",
    "from matplotlib import colors as mcolors\n",
    "\n",
    "from standard_config import *\n",
    "\n",
    "import sys\n",
    "sys.path.append(\"/vols/satellite/home/lenk/utils\")\n",
    "import fixed_colourbar as fc"
   ]
  },
  {
   "cell_type": "markdown",
   "metadata": {},
   "source": [
    "## 2 HACI-Fälle\n",
    "\n",
    "Um die Sensitivitäten zu untersuchen laden wir uns die HACI-Fälle für den ganzen Zeitraum von 2008 bis 2017."
   ]
  },
  {
   "cell_type": "code",
   "execution_count": 2,
   "metadata": {},
   "outputs": [],
   "source": [
    "haci_data_path = \"{}/HACI_bbox_data/haci_objects.dat\".format(local_data_path)"
   ]
  },
  {
   "cell_type": "code",
   "execution_count": 3,
   "metadata": {},
   "outputs": [],
   "source": [
    "haci_data = pd.read_csv(haci_data_path, sep=\"\\s+\")"
   ]
  },
  {
   "cell_type": "code",
   "execution_count": 4,
   "metadata": {},
   "outputs": [
    {
     "data": {
      "text/html": [
       "<div>\n",
       "<style scoped>\n",
       "    .dataframe tbody tr th:only-of-type {\n",
       "        vertical-align: middle;\n",
       "    }\n",
       "\n",
       "    .dataframe tbody tr th {\n",
       "        vertical-align: top;\n",
       "    }\n",
       "\n",
       "    .dataframe thead th {\n",
       "        text-align: right;\n",
       "    }\n",
       "</style>\n",
       "<table border=\"1\" class=\"dataframe\">\n",
       "  <thead>\n",
       "    <tr style=\"text-align: right;\">\n",
       "      <th></th>\n",
       "      <th>date</th>\n",
       "      <th>time</th>\n",
       "      <th>id</th>\n",
       "      <th>flags</th>\n",
       "      <th>t0</th>\n",
       "      <th>t1</th>\n",
       "      <th>l00</th>\n",
       "      <th>l01</th>\n",
       "      <th>c00</th>\n",
       "      <th>c01</th>\n",
       "      <th>l0</th>\n",
       "      <th>l1</th>\n",
       "      <th>c0</th>\n",
       "      <th>c1</th>\n",
       "    </tr>\n",
       "  </thead>\n",
       "  <tbody>\n",
       "    <tr>\n",
       "      <th>0</th>\n",
       "      <td>2008-01-01</td>\n",
       "      <td>00:05</td>\n",
       "      <td>1</td>\n",
       "      <td>0</td>\n",
       "      <td>1</td>\n",
       "      <td>2</td>\n",
       "      <td>151</td>\n",
       "      <td>152</td>\n",
       "      <td>513</td>\n",
       "      <td>514</td>\n",
       "      <td>151</td>\n",
       "      <td>152</td>\n",
       "      <td>513</td>\n",
       "      <td>514</td>\n",
       "    </tr>\n",
       "    <tr>\n",
       "      <th>1</th>\n",
       "      <td>2008-01-01</td>\n",
       "      <td>00:05</td>\n",
       "      <td>2</td>\n",
       "      <td>0</td>\n",
       "      <td>1</td>\n",
       "      <td>2</td>\n",
       "      <td>719</td>\n",
       "      <td>720</td>\n",
       "      <td>314</td>\n",
       "      <td>315</td>\n",
       "      <td>719</td>\n",
       "      <td>720</td>\n",
       "      <td>314</td>\n",
       "      <td>315</td>\n",
       "    </tr>\n",
       "    <tr>\n",
       "      <th>2</th>\n",
       "      <td>2008-01-01</td>\n",
       "      <td>00:05</td>\n",
       "      <td>3</td>\n",
       "      <td>0</td>\n",
       "      <td>1</td>\n",
       "      <td>2</td>\n",
       "      <td>840</td>\n",
       "      <td>841</td>\n",
       "      <td>647</td>\n",
       "      <td>649</td>\n",
       "      <td>840</td>\n",
       "      <td>841</td>\n",
       "      <td>647</td>\n",
       "      <td>649</td>\n",
       "    </tr>\n",
       "    <tr>\n",
       "      <th>3</th>\n",
       "      <td>2008-01-01</td>\n",
       "      <td>00:05</td>\n",
       "      <td>4</td>\n",
       "      <td>0</td>\n",
       "      <td>1</td>\n",
       "      <td>2</td>\n",
       "      <td>847</td>\n",
       "      <td>848</td>\n",
       "      <td>652</td>\n",
       "      <td>653</td>\n",
       "      <td>847</td>\n",
       "      <td>848</td>\n",
       "      <td>652</td>\n",
       "      <td>653</td>\n",
       "    </tr>\n",
       "    <tr>\n",
       "      <th>4</th>\n",
       "      <td>2008-01-01</td>\n",
       "      <td>00:10</td>\n",
       "      <td>5</td>\n",
       "      <td>0</td>\n",
       "      <td>2</td>\n",
       "      <td>3</td>\n",
       "      <td>697</td>\n",
       "      <td>698</td>\n",
       "      <td>331</td>\n",
       "      <td>332</td>\n",
       "      <td>697</td>\n",
       "      <td>698</td>\n",
       "      <td>331</td>\n",
       "      <td>332</td>\n",
       "    </tr>\n",
       "  </tbody>\n",
       "</table>\n",
       "</div>"
      ],
      "text/plain": [
       "         date   time  id  flags  t0  t1  l00  l01  c00  c01   l0   l1   c0  \\\n",
       "0  2008-01-01  00:05   1      0   1   2  151  152  513  514  151  152  513   \n",
       "1  2008-01-01  00:05   2      0   1   2  719  720  314  315  719  720  314   \n",
       "2  2008-01-01  00:05   3      0   1   2  840  841  647  649  840  841  647   \n",
       "3  2008-01-01  00:05   4      0   1   2  847  848  652  653  847  848  652   \n",
       "4  2008-01-01  00:10   5      0   2   3  697  698  331  332  697  698  331   \n",
       "\n",
       "    c1  \n",
       "0  514  \n",
       "1  315  \n",
       "2  649  \n",
       "3  653  \n",
       "4  332  "
      ]
     },
     "execution_count": 4,
     "metadata": {},
     "output_type": "execute_result"
    }
   ],
   "source": [
    "haci_data.head()"
   ]
  },
  {
   "cell_type": "code",
   "execution_count": 5,
   "metadata": {},
   "outputs": [
    {
     "data": {
      "text/html": [
       "<div>\n",
       "<style scoped>\n",
       "    .dataframe tbody tr th:only-of-type {\n",
       "        vertical-align: middle;\n",
       "    }\n",
       "\n",
       "    .dataframe tbody tr th {\n",
       "        vertical-align: top;\n",
       "    }\n",
       "\n",
       "    .dataframe thead th {\n",
       "        text-align: right;\n",
       "    }\n",
       "</style>\n",
       "<table border=\"1\" class=\"dataframe\">\n",
       "  <thead>\n",
       "    <tr style=\"text-align: right;\">\n",
       "      <th></th>\n",
       "      <th>date</th>\n",
       "      <th>time</th>\n",
       "      <th>id</th>\n",
       "      <th>flags</th>\n",
       "      <th>t0</th>\n",
       "      <th>t1</th>\n",
       "      <th>l00</th>\n",
       "      <th>l01</th>\n",
       "      <th>c00</th>\n",
       "      <th>c01</th>\n",
       "      <th>l0</th>\n",
       "      <th>l1</th>\n",
       "      <th>c0</th>\n",
       "      <th>c1</th>\n",
       "    </tr>\n",
       "  </thead>\n",
       "  <tbody>\n",
       "    <tr>\n",
       "      <th>7915714</th>\n",
       "      <td>2017-12-27</td>\n",
       "      <td>07:00</td>\n",
       "      <td>51</td>\n",
       "      <td>0</td>\n",
       "      <td>84</td>\n",
       "      <td>85</td>\n",
       "      <td>340</td>\n",
       "      <td>341</td>\n",
       "      <td>403</td>\n",
       "      <td>404</td>\n",
       "      <td>340</td>\n",
       "      <td>341</td>\n",
       "      <td>403</td>\n",
       "      <td>404</td>\n",
       "    </tr>\n",
       "    <tr>\n",
       "      <th>7915715</th>\n",
       "      <td>2017-12-27</td>\n",
       "      <td>07:05</td>\n",
       "      <td>52</td>\n",
       "      <td>0</td>\n",
       "      <td>85</td>\n",
       "      <td>86</td>\n",
       "      <td>176</td>\n",
       "      <td>178</td>\n",
       "      <td>544</td>\n",
       "      <td>545</td>\n",
       "      <td>176</td>\n",
       "      <td>178</td>\n",
       "      <td>544</td>\n",
       "      <td>545</td>\n",
       "    </tr>\n",
       "    <tr>\n",
       "      <th>7915716</th>\n",
       "      <td>2017-12-27</td>\n",
       "      <td>07:05</td>\n",
       "      <td>53</td>\n",
       "      <td>0</td>\n",
       "      <td>85</td>\n",
       "      <td>86</td>\n",
       "      <td>318</td>\n",
       "      <td>320</td>\n",
       "      <td>450</td>\n",
       "      <td>453</td>\n",
       "      <td>318</td>\n",
       "      <td>320</td>\n",
       "      <td>450</td>\n",
       "      <td>453</td>\n",
       "    </tr>\n",
       "    <tr>\n",
       "      <th>7915717</th>\n",
       "      <td>2017-12-27</td>\n",
       "      <td>07:10</td>\n",
       "      <td>54</td>\n",
       "      <td>0</td>\n",
       "      <td>86</td>\n",
       "      <td>87</td>\n",
       "      <td>135</td>\n",
       "      <td>137</td>\n",
       "      <td>615</td>\n",
       "      <td>616</td>\n",
       "      <td>135</td>\n",
       "      <td>137</td>\n",
       "      <td>615</td>\n",
       "      <td>616</td>\n",
       "    </tr>\n",
       "    <tr>\n",
       "      <th>7915718</th>\n",
       "      <td>2017-12-27</td>\n",
       "      <td>07:10</td>\n",
       "      <td>55</td>\n",
       "      <td>0</td>\n",
       "      <td>86</td>\n",
       "      <td>87</td>\n",
       "      <td>276</td>\n",
       "      <td>279</td>\n",
       "      <td>399</td>\n",
       "      <td>402</td>\n",
       "      <td>276</td>\n",
       "      <td>279</td>\n",
       "      <td>399</td>\n",
       "      <td>402</td>\n",
       "    </tr>\n",
       "  </tbody>\n",
       "</table>\n",
       "</div>"
      ],
      "text/plain": [
       "               date   time  id  flags  t0  t1  l00  l01  c00  c01   l0   l1  \\\n",
       "7915714  2017-12-27  07:00  51      0  84  85  340  341  403  404  340  341   \n",
       "7915715  2017-12-27  07:05  52      0  85  86  176  178  544  545  176  178   \n",
       "7915716  2017-12-27  07:05  53      0  85  86  318  320  450  453  318  320   \n",
       "7915717  2017-12-27  07:10  54      0  86  87  135  137  615  616  135  137   \n",
       "7915718  2017-12-27  07:10  55      0  86  87  276  279  399  402  276  279   \n",
       "\n",
       "          c0   c1  \n",
       "7915714  403  404  \n",
       "7915715  544  545  \n",
       "7915716  450  453  \n",
       "7915717  615  616  \n",
       "7915718  399  402  "
      ]
     },
     "execution_count": 5,
     "metadata": {},
     "output_type": "execute_result"
    }
   ],
   "source": [
    "haci_data.tail()"
   ]
  },
  {
   "cell_type": "markdown",
   "metadata": {},
   "source": [
    "## 2 Sensitivität auf die Schwellwerte\n",
    "\n",
    "### 2.1 Relfektivitätsfaktor\n",
    "Der Relfektivitätsfaktorschwellwert ist relativ willkürlich, wird aber in mehreren Studien verwendet.\n",
    "\n",
    "### 2.2 Mindestniederschlagsdauer"
   ]
  },
  {
   "cell_type": "code",
   "execution_count": 6,
   "metadata": {},
   "outputs": [],
   "source": [
    "dt = haci_data.t1 - haci_data.t0"
   ]
  },
  {
   "cell_type": "code",
   "execution_count": 7,
   "metadata": {},
   "outputs": [],
   "source": [
    "time_description = dt.describe(percentiles=[0.25,0.5,0.75,0.8,0.85,0.9,.91,.92,.93,.94,.95,.96,.97,.98,.99])"
   ]
  },
  {
   "cell_type": "code",
   "execution_count": 8,
   "metadata": {},
   "outputs": [
    {
     "data": {
      "text/plain": [
       "count    7.915719e+06\n",
       "mean     1.419850e+00\n",
       "std      1.112344e+00\n",
       "min      1.000000e+00\n",
       "25%      1.000000e+00\n",
       "50%      1.000000e+00\n",
       "75%      1.000000e+00\n",
       "80%      1.000000e+00\n",
       "85%      2.000000e+00\n",
       "90%      2.000000e+00\n",
       "91%      3.000000e+00\n",
       "92%      3.000000e+00\n",
       "93%      3.000000e+00\n",
       "94%      4.000000e+00\n",
       "95%      4.000000e+00\n",
       "96%      5.000000e+00\n",
       "97%      6.000000e+00\n",
       "98%      6.000000e+00\n",
       "99%      6.000000e+00\n",
       "max      4.400000e+01\n",
       "dtype: float64"
      ]
     },
     "execution_count": 8,
     "metadata": {},
     "output_type": "execute_result"
    }
   ],
   "source": [
    "time_description"
   ]
  },
  {
   "cell_type": "markdown",
   "metadata": {},
   "source": [
    "Die Lebensdauern der HACI-Objekte umfasst eine Spanne von 5&thinsp;min bis 220&thinsp;min, wobei mehr als 80&thinsp;% der Objekte nur Lebensdauern von 5&thinsp;min haben. Nur 4&thinsp;% der Fälle haben eine Lebensdauer von 30&thinsp;min oder mehr. Der Datensatz besteht somit wahrscheinlich nur zu einem geringen Teil aus konvektiven Zellen. Das liegt wahrscheinlich an dem recht niedrigen Reflektivtätsfaktorschwellwert."
   ]
  },
  {
   "cell_type": "code",
   "execution_count": 9,
   "metadata": {
    "scrolled": true
   },
   "outputs": [
    {
     "data": {
      "image/png": "[encoded data removed]",
      "text/plain": [
       "<Figure size 576x432 with 1 Axes>"
      ]
     },
     "metadata": {
      "needs_background": "light"
     },
     "output_type": "display_data"
    }
   ],
   "source": [
    "fig,ax = plt.subplots(1,1,figsize=(8,6))\n",
    "bv = ax.hist(dt.values,bins=44,density=True)"
   ]
  },
  {
   "cell_type": "code",
   "execution_count": 10,
   "metadata": {},
   "outputs": [],
   "source": [
    "haci_data = haci_data.assign(dt=dt)"
   ]
  },
  {
   "cell_type": "code",
   "execution_count": 11,
   "metadata": {},
   "outputs": [],
   "source": [
    "haci_data_length_filtered = haci_data[haci_data.dt >= 5]"
   ]
  },
  {
   "cell_type": "markdown",
   "metadata": {},
   "source": [
    "## 2.3 Randfälle\n",
    "\n",
    "Da im HACI-Algorithmus selbst schon eine Pufferung des Randes in der Raumdimension eingebaut ist, müssten wir eigentlich nur zeitliche Randfälle betrachten."
   ]
  },
  {
   "cell_type": "code",
   "execution_count": 12,
   "metadata": {},
   "outputs": [],
   "source": [
    "def range_filter(objprops, field_shape, \n",
    "                 time_edge = 12, \n",
    "                 space_edge = 30):\n",
    "\n",
    "    '''\n",
    "    Filters objects too close to bounds.\n",
    "\n",
    "    Parameters:\n",
    "        * objprops: pandas dataframe\n",
    "            properties of the HACI objects\n",
    "        * field_shape: tuple (time, rows, columns)\n",
    "            shape of the filed the HACI objects have been derived from\n",
    "        * time_edge: int, default=12\n",
    "            minimum distance an object has to have from the time boundaries \n",
    "        * space_edge: int, default=30\n",
    "            minimum distance an object has to be separated from the spatial boundaries\n",
    "    Returns:\n",
    "        * list with booleans indicating whether the criteria have been met\n",
    "    '''\n",
    "\n",
    "\n",
    "    ntime, nrow, ncol = field_shape\n",
    "\n",
    "    # temporal filter\n",
    "    m_time1 = (objprops.t0 > time_edge)\n",
    "    m_time2 = (objprops.t1 < (ntime - time_edge))\n",
    "    \n",
    "    m_time_range = m_time1 & m_time2\n",
    "\n",
    "\n",
    "    # Filtering based on Bounding Box\n",
    "    \n",
    "    # lines or rows\n",
    "    m_lrange = (objprops.l00 > space_edge) &  (\n",
    "        objprops.l01 < nrow -  space_edge)\n",
    "    \n",
    "    # columns\n",
    "    m_crange = (objprops.c00 > space_edge) &  (\n",
    "        objprops.c01 < ncol -  space_edge)\n",
    "\n",
    "    \n",
    "    # combination of all\n",
    "    m_range = m_lrange & m_crange & m_time_range\n",
    "\n",
    "    return m_range"
   ]
  },
  {
   "cell_type": "code",
   "execution_count": 13,
   "metadata": {},
   "outputs": [],
   "source": [
    "range_filtered = range_filter(haci_data,(288,900,900),time_edge = 12, space_edge = 0)"
   ]
  },
  {
   "cell_type": "code",
   "execution_count": 15,
   "metadata": {},
   "outputs": [],
   "source": [
    "haci_data = haci_data.assign(rf = range_filtered)"
   ]
  },
  {
   "cell_type": "code",
   "execution_count": 16,
   "metadata": {},
   "outputs": [
    {
     "name": "stdout",
     "output_type": "stream",
     "text": [
      "HACI-Fallanzahl: 7915719\n"
     ]
    }
   ],
   "source": [
    "haci_length = len(haci_data.id)\n",
    "print(\"HACI-Fallanzahl: {}\".format(haci_length))"
   ]
  },
  {
   "cell_type": "code",
   "execution_count": 17,
   "metadata": {},
   "outputs": [
    {
     "name": "stdout",
     "output_type": "stream",
     "text": [
      "Fallzahl zu nahe am Rand: 7.67 %\n",
      "Rest: 92.33 % \n"
     ]
    }
   ],
   "source": [
    "print(\"Fallzahl zu nahe am Rand: {:.2f} %\\nRest: {:.2f} % \".format(100 * (len(haci_data[haci_data.rf==False].rf) / haci_length),\n",
    "                                                           100 * (len(haci_data[haci_data.rf==True].rf) / haci_length)))"
   ]
  },
  {
   "cell_type": "markdown",
   "metadata": {},
   "source": [
    "Die Randfälle machen nur einen Teil von ca. 8&thinsp;% der gesamten HACI-Fälle aus.\n",
    "\n",
    "## 2.4 Startfläche"
   ]
  },
  {
   "cell_type": "code",
   "execution_count": 18,
   "metadata": {},
   "outputs": [],
   "source": [
    "area0 = (haci_data.l01 - haci_data.l00) * (haci_data.c01 - haci_data.c00)\n",
    "area_max = (haci_data.l1 - haci_data.l0) * (haci_data.c1 - haci_data.c0)"
   ]
  },
  {
   "cell_type": "code",
   "execution_count": 19,
   "metadata": {},
   "outputs": [],
   "source": [
    "haci_data = haci_data.assign(area0 = area0)\n",
    "haci_data = haci_data.assign(area_max = area_max)"
   ]
  },
  {
   "cell_type": "code",
   "execution_count": 20,
   "metadata": {},
   "outputs": [
    {
     "data": {
      "text/plain": [
       "count    7.915719e+06\n",
       "mean     3.535766e+00\n",
       "std      1.364849e+02\n",
       "min      1.000000e+00\n",
       "25%      1.000000e+00\n",
       "50%      1.000000e+00\n",
       "75%      2.000000e+00\n",
       "80%      2.000000e+00\n",
       "85%      3.000000e+00\n",
       "90%      4.000000e+00\n",
       "91%      4.000000e+00\n",
       "92%      4.000000e+00\n",
       "93%      6.000000e+00\n",
       "94%      6.000000e+00\n",
       "95%      6.000000e+00\n",
       "96%      8.000000e+00\n",
       "97%      9.000000e+00\n",
       "98%      1.200000e+01\n",
       "99%      2.000000e+01\n",
       "max      1.177300e+05\n",
       "Name: area0, dtype: float64"
      ]
     },
     "execution_count": 20,
     "metadata": {},
     "output_type": "execute_result"
    }
   ],
   "source": [
    "haci_data.area0.describe(percentiles=[0.25,0.5,0.75,0.8,0.85,0.9,.91,.92,.93,.94,.95,.96,.97,.98,.99])"
   ]
  },
  {
   "cell_type": "code",
   "execution_count": 21,
   "metadata": {},
   "outputs": [
    {
     "data": {
      "text/plain": [
       "Text(0, 0.5, 'Anzahl')"
      ]
     },
     "execution_count": 21,
     "metadata": {},
     "output_type": "execute_result"
    },
    {
     "data": {
      "image/png": "[encoded data removed]",
      "text/plain": [
       "<Figure size 864x576 with 1 Axes>"
      ]
     },
     "metadata": {
      "needs_background": "light"
     },
     "output_type": "display_data"
    }
   ],
   "source": [
    "fig,ax = plt.subplots(1,1,figsize=(12,8))\n",
    "H,b,v = ax.hist(haci_data.area0.values, bins=1000)\n",
    "plt.yscale(\"log\")\n",
    "ax.set_xlabel(u\"Startfläche / px²\")\n",
    "ax.set_ylabel(\"Anzahl\")"
   ]
  },
  {
   "cell_type": "markdown",
   "metadata": {},
   "source": [
    "Der 99&thinsp;% der HACI-Objekte hat zum Startzeitpunkt eine 35&thinsp;dBZ-Fläche, die kleiner oder gleich 2&thinsp;px<sup>2</sup> ist. Der Mittelwert beträgt 4&thinsp;px<sup>2</sup> und der Median sogar nur 1&thinsp;px<sup>2</sup>."
   ]
  },
  {
   "cell_type": "code",
   "execution_count": 22,
   "metadata": {},
   "outputs": [
    {
     "data": {
      "text/plain": [
       "count    352076.000000\n",
       "mean         34.745751\n",
       "std         633.305887\n",
       "min           1.000000\n",
       "25%           1.000000\n",
       "50%           2.000000\n",
       "75%           8.000000\n",
       "80%          10.000000\n",
       "85%          15.000000\n",
       "90%          20.000000\n",
       "91%          24.000000\n",
       "92%          25.000000\n",
       "93%          30.000000\n",
       "94%          35.000000\n",
       "95%          40.000000\n",
       "96%          50.000000\n",
       "97%          72.000000\n",
       "98%         132.000000\n",
       "99%         374.000000\n",
       "max      117730.000000\n",
       "Name: area0, dtype: float64"
      ]
     },
     "execution_count": 22,
     "metadata": {},
     "output_type": "execute_result"
    }
   ],
   "source": [
    "haci_data[haci_data.dt>=5].area0.describe(percentiles=[0.25,0.5,0.75,0.8,0.85,0.9,.91,.92,.93,.94,.95,.96,.97,.98,.99])"
   ]
  },
  {
   "cell_type": "markdown",
   "metadata": {},
   "source": [
    "Bei den HACI-Objekte, die länger als 30&thinsp;min anhalten, beträgt der Median 2&thinsp;px<sup>2</sup> und der Mittelwert 35&thinsp;px. Die länger andauernden Objekte tendieren also erwartungsgemäß dazu schon zu Beginn größere Niederschlagsflächen zu haben."
   ]
  },
  {
   "cell_type": "code",
   "execution_count": 23,
   "metadata": {},
   "outputs": [
    {
     "data": {
      "text/plain": [
       "<matplotlib.colorbar.Colorbar at 0x7f5f085ce450>"
      ]
     },
     "execution_count": 23,
     "metadata": {},
     "output_type": "execute_result"
    },
    {
     "data": {
      "image/png": "[encoded data removed]",
      "text/plain": [
       "<Figure size 720x432 with 2 Axes>"
      ]
     },
     "metadata": {
      "needs_background": "light"
     },
     "output_type": "display_data"
    }
   ],
   "source": [
    "H,xedges,yedges = np.histogram2d(haci_data.dt.values*5,\n",
    "                                 haci_data.area0.values,bins=(np.max(haci_data.dt.values)-1,\n",
    "                                                              haci_data.area0.max()))\n",
    "H = H.T\n",
    "X, Y = np.meshgrid(xedges, yedges)\n",
    "fig,ax = plt.subplots(1,1,figsize=(10,6))\n",
    "p = ax.pcolormesh(X,Y,H, norm=mcolors.LogNorm())\n",
    "ax.set_xlabel(\"Lebenszeit / min\")\n",
    "ax.set_ylabel(u\"Startfläche / km²\")\n",
    "ax.set_title(\"Lebenszeit und Startfläche aller HACI-Objekte 2008 - 2017\")\n",
    "plt.yscale(\"log\")\n",
    "fc.colourbar(p)"
   ]
  },
  {
   "cell_type": "code",
   "execution_count": 24,
   "metadata": {},
   "outputs": [],
   "source": [
    "haci_length_filtered = haci_data[haci_data.dt >= 5]"
   ]
  },
  {
   "cell_type": "code",
   "execution_count": 25,
   "metadata": {},
   "outputs": [
    {
     "data": {
      "text/plain": [
       "<matplotlib.colorbar.Colorbar at 0x7f5f0858b450>"
      ]
     },
     "execution_count": 25,
     "metadata": {},
     "output_type": "execute_result"
    },
    {
     "data": {
      "image/png": "[encoded data removed]",
      "text/plain": [
       "<Figure size 864x432 with 2 Axes>"
      ]
     },
     "metadata": {
      "needs_background": "light"
     },
     "output_type": "display_data"
    }
   ],
   "source": [
    "H,xedges,yedges = np.histogram2d(haci_length_filtered.dt.values*5,\n",
    "                                 haci_length_filtered.area0.values,\n",
    "                                 bins=((np.max(haci_length_filtered.dt.values) - np.min(haci_length_filtered.dt.values)),\n",
    "                                       haci_data.area0.max()))\n",
    "H = H.T\n",
    "X, Y = np.meshgrid(xedges, yedges)\n",
    "fig,ax = plt.subplots(1,1,figsize=(12,6))\n",
    "p = ax.pcolormesh(X,Y,H, norm=mcolors.LogNorm())\n",
    "ax.set_xlabel(\"Lebenszeit / min\")\n",
    "ax.set_ylabel(u\"Startfläche / px²\")\n",
    "ax.set_title(\"Lebenszeit und Startfläche der HACI-Objekte mit dt >= 25 min, 2008 - 2017\")\n",
    "plt.yscale(\"log\")\n",
    "fc.colourbar(p)"
   ]
  },
  {
   "cell_type": "markdown",
   "metadata": {},
   "source": [
    "Diese Tendenz zeigt sich auch für den gesamten Datensatz, obwohl es auch Objekte mit kurzer Lebenszeit und großer Startfläche und ungleich mehr langlebige Objekte mit kleiner Startfläche gibt. Dabei scheint die Tendenz vor allem für Objekte mit einer Lebenszeit von 35&thinsp;min und mehr ausgeprägter zu sein. Diese Objekte machen nur ca. 5&thinsp;% aller HACI-Objekte aus, sind wahrscheinlich aber die konvektiven Objekte. Bei der Maximalfläche sollte diese Tendenz ausgeprägter sein.\n",
    "\n",
    "## 2.5 Maximalfläche"
   ]
  },
  {
   "cell_type": "code",
   "execution_count": 26,
   "metadata": {},
   "outputs": [
    {
     "data": {
      "text/plain": [
       "count    7.915719e+06\n",
       "mean     1.784924e+01\n",
       "std      4.399156e+02\n",
       "min      1.000000e+00\n",
       "25%      1.000000e+00\n",
       "50%      1.000000e+00\n",
       "75%      2.000000e+00\n",
       "80%      3.000000e+00\n",
       "85%      4.000000e+00\n",
       "90%      6.000000e+00\n",
       "91%      6.000000e+00\n",
       "92%      9.000000e+00\n",
       "93%      9.000000e+00\n",
       "94%      1.200000e+01\n",
       "95%      1.600000e+01\n",
       "96%      2.500000e+01\n",
       "97%      4.200000e+01\n",
       "98%      8.400000e+01\n",
       "99%      1.980000e+02\n",
       "max      1.895400e+05\n",
       "Name: area_max, dtype: float64"
      ]
     },
     "execution_count": 26,
     "metadata": {},
     "output_type": "execute_result"
    }
   ],
   "source": [
    "haci_data.area_max.describe(percentiles=[0.25,0.5,0.75,0.8,0.85,0.9,.91,.92,.93,.94,.95,.96,.97,.98,.99])"
   ]
  },
  {
   "cell_type": "code",
   "execution_count": 27,
   "metadata": {},
   "outputs": [
    {
     "data": {
      "text/plain": [
       "Text(0, 0.5, 'Anzahl')"
      ]
     },
     "execution_count": 27,
     "metadata": {},
     "output_type": "execute_result"
    },
    {
     "data": {
      "image/png": "[encoded data removed]",
      "text/plain": [
       "<Figure size 864x576 with 1 Axes>"
      ]
     },
     "metadata": {
      "needs_background": "light"
     },
     "output_type": "display_data"
    }
   ],
   "source": [
    "fig,ax = plt.subplots(1,1,figsize=(12,8))\n",
    "H,b,v = ax.hist(haci_data.area_max.values, bins=1000)\n",
    "#plt.xscale(\"log\")\n",
    "plt.yscale(\"log\")\n",
    "ax.set_xlabel(u\"Maximalfläche / px²\")\n",
    "ax.set_ylabel(\"Anzahl\")"
   ]
  },
  {
   "cell_type": "markdown",
   "metadata": {},
   "source": [
    "Für mehr als 50&thinsp;% der Objekte beträgt die Maximalfläche nur 1&thinsp;px<sup>2</sup>, d.h. sie wachsen nicht. Weitere 25&thinsp;% wachsen um 1&thinsp;px<sup>2</sup>. Die Objekte, die eine Maximalfläche mehr als 10&thinsp;px<sup>2</sup> erreichen machen nur ca. 4&thinsp;% der Fälle aus und die, die mehr als 100&thinsp;px<sup>2</sup> erreichen weniger als 2&thinsp;%. Wirklich konvektive Fälle sind im Datensatz also vergleichsweise selten."
   ]
  },
  {
   "cell_type": "code",
   "execution_count": 28,
   "metadata": {},
   "outputs": [
    {
     "data": {
      "text/plain": [
       "<matplotlib.colorbar.Colorbar at 0x7f5f63bf1050>"
      ]
     },
     "execution_count": 28,
     "metadata": {},
     "output_type": "execute_result"
    },
    {
     "data": {
      "image/png": "[encoded data removed]",
      "text/plain": [
       "<Figure size 864x432 with 2 Axes>"
      ]
     },
     "metadata": {
      "needs_background": "light"
     },
     "output_type": "display_data"
    }
   ],
   "source": [
    "H,xedges,yedges = np.histogram2d(haci_data.dt*5,\n",
    "                                 haci_data.area_max,bins=(45,haci_data.area_max.max()))\n",
    "H = H.T\n",
    "X, Y = np.meshgrid(xedges, yedges)\n",
    "\n",
    "fig,ax = plt.subplots(1,1,figsize=(12,6))\n",
    "p = ax.pcolormesh(X,Y,H, norm=mcolors.LogNorm())\n",
    "ax.set_xlabel(\"Lebenszeit / min\")\n",
    "ax.set_ylabel(u\"Maximalfläche / px²\")\n",
    "ax.set_title(\"Lebenszeit und Maximalfläche aller HACI-Objekte\")\n",
    "plt.yscale(\"log\")\n",
    "fc.colourbar(p)"
   ]
  },
  {
   "cell_type": "code",
   "execution_count": 29,
   "metadata": {},
   "outputs": [
    {
     "data": {
      "text/plain": [
       "<matplotlib.colorbar.Colorbar at 0x7f5f63aa4210>"
      ]
     },
     "execution_count": 29,
     "metadata": {},
     "output_type": "execute_result"
    },
    {
     "data": {
      "image/png": "[encoded data removed]",
      "text/plain": [
       "<Figure size 864x432 with 2 Axes>"
      ]
     },
     "metadata": {
      "needs_background": "light"
     },
     "output_type": "display_data"
    }
   ],
   "source": [
    "H,xedges,yedges = np.histogram2d(haci_data.dt*5,\n",
    "                                 haci_data.area_max - haci_data.area0,bins=(45,\n",
    "                                                                            np.max(haci_data.area_max - haci_data.area0)))\n",
    "H = H.T\n",
    "X, Y = np.meshgrid(xedges, yedges)\n",
    "fig,ax = plt.subplots(1,1,figsize=(12,6))\n",
    "p = ax.pcolormesh(X,Y,H, norm=mcolors.LogNorm())\n",
    "ax.set_xlabel(\"Lebenszeit / min\")\n",
    "ax.set_ylabel(u\"Flächenänderung / px²\")\n",
    "ax.set_title(\"Lebenszeit und Flächenzunahme aller HACI-Objekte\")\n",
    "plt.yscale(\"log\")\n",
    "ax.set_ylim(1,np.max(haci_data.area_max - haci_data.area0))\n",
    "fc.colourbar(p)"
   ]
  },
  {
   "cell_type": "markdown",
   "metadata": {},
   "source": [
    "Wie erwartet neigen die Objekte mit längerer Lebenszeit dazu eine größere Fläche zu haben. Insbesondere diejenigen mit einer Lebenszeit von 35&thinsp;min und mehr, allerdings ist die Streuung relativ breit. Die Objekte mit einer Lebenszeit von mehr als 35&thinsp;min könnten konvektive Objekte sein. Aber es gibt auch Objekte unter ihnen, deren Startfläche bereits sehr groß ist. Das sind wahrscheinlich eher Fronten oder stratiforme Niederschläge."
   ]
  },
  {
   "cell_type": "code",
   "execution_count": 30,
   "metadata": {},
   "outputs": [],
   "source": [
    "bins = [1,2,3,4,5,6,7,8,9,10,20,30,40,50,60,70,80,90,100,200,300,400,500,600,700,800,900,1000]"
   ]
  },
  {
   "cell_type": "code",
   "execution_count": 31,
   "metadata": {},
   "outputs": [],
   "source": [
    "bins = [i for i in np.arange(1,11)] + \\\n",
    "       [i for i in np.arange(10,100,10)] + \\\n",
    "       [i for i in np.arange(100,1000,100)] + \\\n",
    "       [i for i in np.arange(1000,11000,1000)] +\\\n",
    "       [i for i in np.arange(100000,100000,10000)]"
   ]
  },
  {
   "cell_type": "code",
   "execution_count": 32,
   "metadata": {},
   "outputs": [
    {
     "data": {
      "text/plain": [
       "<matplotlib.colorbar.Colorbar at 0x7f5f6379e110>"
      ]
     },
     "execution_count": 32,
     "metadata": {},
     "output_type": "execute_result"
    },
    {
     "data": {
      "image/png": "[encoded data removed]",
      "text/plain": [
       "<Figure size 864x432 with 2 Axes>"
      ]
     },
     "metadata": {
      "needs_background": "light"
     },
     "output_type": "display_data"
    }
   ],
   "source": [
    "H,xedges,yedges = np.histogram2d(haci_data.area0,\n",
    "                                 haci_data.area_max,\n",
    "                                 bins=bins)\n",
    "H = H.T\n",
    "X, Y = np.meshgrid(xedges, yedges)\n",
    "fig,ax = plt.subplots(1,1,figsize=(12,6))\n",
    "p = ax.pcolormesh(X,Y,H, norm=mcolors.LogNorm())\n",
    "ax.set_xlabel(u\"Startfläche / px²\")\n",
    "ax.set_ylabel(u\"Maximalfläche / px²\")\n",
    "ax.set_title(\"Start- und Maximalfläche aller HACI-Objekte 2008 - 2017\")\n",
    "plt.yscale(\"log\")\n",
    "plt.xscale(\"log\")\n",
    "fc.colourbar(p)"
   ]
  },
  {
   "cell_type": "markdown",
   "metadata": {},
   "source": [
    "Zwischen Start- und Maximalfläche gibt es keine klare Korrelation. Objekte mit größerer Startfläche erreichen prinizpiell zwar höhere Maximalflächen, aber sie wachsen meist nicht sehr viel. Es gibt ein Muster, dass Objekte mit 10&thinsp;px<sup>2</sup> Startfläche bevorzugt Maximalflächen von 100 oder 1000&thinsp;px<sup>2</sup> erreichen und ähnliches für Startflächen von 100 und 1000&thinsp;px<sup>2</sup>, aber das ist wahrscheinlich ein Artefakt der Gruppenauswahl für das 2d-Histogram."
   ]
  },
  {
   "cell_type": "markdown",
   "metadata": {},
   "source": [
    "## 2.5 Stärkerer Niederschlag in Feld mit schwächerem"
   ]
  },
  {
   "cell_type": "code",
   "execution_count": 33,
   "metadata": {},
   "outputs": [],
   "source": [
    "from io_tools import radolan"
   ]
  },
  {
   "cell_type": "code",
   "execution_count": 35,
   "metadata": {},
   "outputs": [],
   "source": [
    "plt.close(\"all\")"
   ]
  },
  {
   "cell_type": "code",
   "execution_count": 36,
   "metadata": {},
   "outputs": [],
   "source": [
    "def dbz_filter(objprops,lower_dbz_threshold=20,upper_dbz_threshold=35,min_area_ratio=None):\n",
    "    \"\"\"\n",
    "    Calculates and compares the ratio of the area with more than the lower and more than the upper threshold\n",
    "\n",
    "    Parameters:\n",
    "        * objprops: pandas dataframe\n",
    "            properties of the HACI objects\n",
    "        * lower_dbz_threshold: int\n",
    "            value of the surrounding areas\n",
    "        * upper_dbz_threshold: int\n",
    "            value of the areas of interest\n",
    "        * min_area_ratio: float\n",
    "            minimum ratio of the surrounding and interesting areas\n",
    "    Returns:\n",
    "        * list with booleans indicating whether the criteria have been met\n",
    "    \"\"\"\n",
    "    from skimage import measure\n",
    "    \n",
    "    objprops['area_ratio'] = 0\n",
    "    r = radolan.Radolan()\n",
    "    \n",
    "    rr = pd.DataFrame(index = objprops.index,columns=['area_ratio'])\n",
    "    for i, obj in objprops.iterrows():\n",
    "        date_t0 = \"{}T{:02d}{:02d}\".format(obj.date.replace(\"-\",\"\"),(obj.t0*5)//60, (obj.t0*5)%60)\n",
    "        date_t0 = pd.Timestamp(date_t0)\n",
    "        \n",
    "        r.read(date_t0.to_pydatetime())\n",
    "        \n",
    "        cutout = r.data[obj.l0:obj.l1,obj.c0:obj.c1]\n",
    "        \n",
    "        pixel_20dbz = np.where(cutout>=lower_dbz_threshold)\n",
    "        pixel_35dbz = np.where(cutout>=upper_dbz_threshold)\n",
    "        \n",
    "        ratio = float(len(pixel_35dbz[0])) / len(pixel_20dbz[0])\n",
    "        \n",
    "        rr.loc[i].area_ratio = ratio\n",
    "    \n",
    "    if min_area_ratio == None:\n",
    "        return rr.area_ration\n",
    "    else:\n",
    "        return rr.area_ratio > min_area_ratio"
   ]
  },
  {
   "cell_type": "code",
   "execution_count": 39,
   "metadata": {},
   "outputs": [],
   "source": [
    "years = [int(d[0:4]) for d in haci_data.date]"
   ]
  },
  {
   "cell_type": "code",
   "execution_count": 40,
   "metadata": {},
   "outputs": [],
   "source": [
    "haci_data = haci_data.assign(year=years)"
   ]
  },
  {
   "cell_type": "code",
   "execution_count": null,
   "metadata": {},
   "outputs": [],
   "source": [
    "area_ratio_20_35 = dbz_filter(haci_data[haci_data.year==2013],20,35)"
   ]
  },
  {
   "cell_type": "markdown",
   "metadata": {},
   "source": [
    "## 3. Mögliche Schwellwerte\n",
    "\n",
    "1. Radarreflektivitätsfaktor: Z&geq;&thinsp;35&thinsp;dBZ (Mecikalski, Haberlie)\n",
    "2. Mindestlebenszeit: \n",
    "    - 35&thinsp;min: keine kleinen nicht wachsenden Objekte mehr, aber nur relativ wenige Fälle\n",
    "    - 25&thinsp;min: mehr Fälle, aber viele kleine, nicht wachsende Objekte dabei\n",
    "    - 30&thinsp;min: vielleicht guter Kompromiss\n",
    "3. Startfläche: mindestens 10&thinsp;px<sup>2</sup>, um sehr kleine Objekte und maximal 200&thinsp;px<sup>2</sup> um zu große Objekte auszuschließen\n",
    "4. Flächenzunahme: mindstens 100&thinsp;px<sup>2</sup>, um wirklich wachsende Objekte zu bekommen\n",
    "5. Verhältnis 35- zu 20&thinsp;dBZ-Fläche: 0,3"
   ]
  },
  {
   "cell_type": "code",
   "execution_count": 52,
   "metadata": {},
   "outputs": [],
   "source": [
    "n_all_cases = len(haci_data.t0.values)"
   ]
  },
  {
   "cell_type": "code",
   "execution_count": 43,
   "metadata": {},
   "outputs": [],
   "source": [
    "dt = haci_data.t1 - haci_data.t0\n",
    "haci_data = haci_data.assign(dt=dt)"
   ]
  },
  {
   "cell_type": "code",
   "execution_count": 76,
   "metadata": {},
   "outputs": [],
   "source": [
    "area0 = (haci_data.l01 - haci_data.l00) * (haci_data.c01 - haci_data.c00)\n",
    "area_max = (haci_data.l1 - haci_data.l0) * (haci_data.c1 - haci_data.c0)"
   ]
  },
  {
   "cell_type": "code",
   "execution_count": 77,
   "metadata": {},
   "outputs": [],
   "source": [
    "haci_data = haci_data.assign(area0 = area0, area_max = area_max)"
   ]
  },
  {
   "cell_type": "code",
   "execution_count": 78,
   "metadata": {},
   "outputs": [],
   "source": [
    "range_filtered = range_filter(haci_data,(288,900,900),time_edge = 12, space_edge = 0)\n",
    "haci_data = haci_data.assign(rf = range_filtered)"
   ]
  },
  {
   "cell_type": "code",
   "execution_count": 79,
   "metadata": {},
   "outputs": [],
   "source": [
    "n_range_filtered = len(haci_data[haci_data.rf==True])"
   ]
  },
  {
   "cell_type": "code",
   "execution_count": 80,
   "metadata": {},
   "outputs": [
    {
     "data": {
      "text/plain": [
       "7308202"
      ]
     },
     "execution_count": 80,
     "metadata": {},
     "output_type": "execute_result"
    }
   ],
   "source": [
    "n_range_filtered"
   ]
  },
  {
   "cell_type": "code",
   "execution_count": 81,
   "metadata": {},
   "outputs": [],
   "source": [
    "haci_data_rf = haci_data[haci_data.rf==True]"
   ]
  },
  {
   "cell_type": "code",
   "execution_count": 82,
   "metadata": {},
   "outputs": [],
   "source": [
    "haci_data_lf = haci_data_rf[haci_data_rf.dt >=6]\n",
    "n_length_filtered = len(haci_data_lf.dt)"
   ]
  },
  {
   "cell_type": "code",
   "execution_count": 86,
   "metadata": {},
   "outputs": [],
   "source": [
    "haci_a0_mnf = haci_data_lf[haci_data_lf.area0 >= 10]\n",
    "haci_a0_mxf = haci_a0_mnf[haci_a0_mnf.area0 < 100]\n",
    "haci_da_f = haci_a0_mxf[haci_a0_mxf.area_max - haci_a0_mxf.area0 > 100]"
   ]
  },
  {
   "cell_type": "code",
   "execution_count": 88,
   "metadata": {},
   "outputs": [],
   "source": [
    "n_a0_mnf = len(haci_a0_mnf.area0)\n",
    "n_a0_mxf = len(haci_a0_mxf.area0)\n",
    "n_da_f = len(haci_a0_mxf.area0)"
   ]
  },
  {
   "cell_type": "code",
   "execution_count": 93,
   "metadata": {},
   "outputs": [
    {
     "name": "stdout",
     "output_type": "stream",
     "text": [
      "HACI-Fallzahlen:\n",
      "----------------\n",
      "\n",
      "2008 bis 2017 gesamt: 7915719\n",
      "nach Randfilterung : 7308202\n",
      "nach Längenfilterung: 253644\n",
      "nach min. Mindestfläche: 58335\n",
      "nach max. Mindestfläche: 51060\n",
      "nach Flächenänderung: 51060\n"
     ]
    }
   ],
   "source": [
    "print(u\"HACI-Fallzahlen:\\n----------------\\n\\n2008 bis 2017 gesamt: {}\\nnach Randfilterung : {}\\nnach Längenfilterung: {}\\nnach min. Mindestfläche: {}\\nnach max. Mindestfläche: {}\\nnach Flächenänderung: {}\".format(n_all_cases,n_range_filtered,n_length_filtered,n_a0_mnf,n_a0_mxf,n_da_f))"
   ]
  }
 ],
 "metadata": {
  "kernelspec": {
   "display_name": "Python 3",
   "language": "python",
   "name": "python3"
  },
  "language_info": {
   "codemirror_mode": {
    "name": "ipython",
    "version": 3
   },
   "file_extension": ".py",
   "mimetype": "text/x-python",
   "name": "python",
   "nbconvert_exporter": "python",
   "pygments_lexer": "ipython3",
   "version": "3.7.4"
  }
 },
 "nbformat": 4,
 "nbformat_minor": 2
}
