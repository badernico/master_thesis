{
 "cells": [
  {
   "cell_type": "markdown",
   "metadata": {},
   "source": [
    "# Berechnung der Größe der Meteosatpixel\n",
    "\n",
    "Die Größe der Meteosatpixel nimmt zu, je weiter man sich vom Nadir entfernt. Eine Möglichkeit die Pixelgröße zu ermitteln wäre, die Mittelpunktskoordinaten der Pixel zu nehmen, die Eckpunkte zu bestimmen, und dann diese Unterschiede in km umzurechnen."
   ]
  },
  {
   "cell_type": "code",
   "execution_count": 1,
   "metadata": {},
   "outputs": [
    {
     "name": "stderr",
     "output_type": "stream",
     "text": [
      "/vols/talos/local/anaconda2-5.0.0/lib/python2.7/site-packages/h5py/__init__.py:36: FutureWarning: Conversion of the second argument of issubdtype from `float` to `np.floating` is deprecated. In future, it will be treated as `np.float64 == np.dtype(float).type`.\n",
      "  from ._conv import register_converters as _register_converters\n"
     ]
    }
   ],
   "source": [
    "import numpy as np\n",
    "import h5py\n",
    "import matplotlib.pyplot as plt\n",
    "%matplotlib inline\n",
    "\n",
    "from analysis_tools import grid_and_interpolation as gi"
   ]
  },
  {
   "cell_type": "markdown",
   "metadata": {},
   "source": [
    "Als erstes laden wir die hdf5-Datei mit dem Pixelpunkten."
   ]
  },
  {
   "cell_type": "code",
   "execution_count": 2,
   "metadata": {},
   "outputs": [],
   "source": [
    "with h5py.File(\"/vols/talos/home/stephan/data/SEVIRI/auxdata/msevi-geolocation-rss.h5\") as f:\n",
    "    lon = f['longitude'][:]\n",
    "    lat = f['latitude'][:]"
   ]
  },
  {
   "cell_type": "code",
   "execution_count": 3,
   "metadata": {},
   "outputs": [
    {
     "data": {
      "text/plain": [
       "(3712, 3712)"
      ]
     },
     "execution_count": 3,
     "metadata": {},
     "output_type": "execute_result"
    }
   ],
   "source": [
    "lon.shape"
   ]
  },
  {
   "cell_type": "markdown",
   "metadata": {},
   "source": [
    "Die Umrechnung sollte möglich sein, wenn man den Erdradius _r_<sub>e</sub> kennt und die Pixelkoordinaten in das Bogenmaß umrechnet. Mit:\n",
    "\n",
    "* _r_<sub>e</sub> = 6378 km\n",
    "* &delta;&phi;<sub>ij</sub>: Breitenvariation des MSG-Pixels ij in Radians\n",
    "* &delta;&lambda;<sub>ij</sub>: Längenvariation des MSG-Pixels ij in Radians\n",
    "* &phi;<sub>ij</sub>: Breite des Mittelpunkts des Pixels ij in Radians\n",
    "\n",
    "kann man die Ausdehnung des Pixels ij berechnen:\n",
    "\n",
    "* Nord-Süd-Ausdehnung _r_<sub>NS</sub> = _r_<sub>e</sub> &middot; &delta;&phi;<sub>ij</sub>\n",
    "* Ost-West-Ausdehnung _r_<sub>OW</sub> = _r_<sub>e</sub> &middot; &delta;&lambda;<sub>ij</sub> &middot; cos&phi;<sub>ij</sub>.\n",
    "\n",
    "Die Fläche des Pixels ergibt sich dann zu:\n",
    "\n",
    "_A_<sub>ij</sub> = _r_<sub>NS</sub> &middot; _r_<sub>OW</sub> = &delta;&phi;<sub>ij</sub> &middot; &delta;&lambda;<sub>ij</sub> &middot; cos&phi;<sub>ij</sub> &middot; _r_<sub>e</sub><sup>2</sup>\n",
    "\n",
    "Dann sehen wir uns doch mal ein Beispiel an."
   ]
  },
  {
   "cell_type": "code",
   "execution_count": 9,
   "metadata": {},
   "outputs": [
    {
     "name": "stdout",
     "output_type": "stream",
     "text": [
      "0.00047046406\n"
     ]
    }
   ],
   "source": [
    "dlon = np.deg2rad(lon[1876,1877] - lon[1876,1876])\n",
    "print(dlon)"
   ]
  },
  {
   "cell_type": "code",
   "execution_count": 11,
   "metadata": {},
   "outputs": [
    {
     "name": "stdout",
     "output_type": "stream",
     "text": [
      "0.00047367127\n"
     ]
    }
   ],
   "source": [
    "dlat = np.deg2rad(lat[1875,1876] - lat[1876,1876])\n",
    "print(dlat)"
   ]
  },
  {
   "cell_type": "code",
   "execution_count": 12,
   "metadata": {
    "collapsed": true
   },
   "outputs": [],
   "source": [
    "la = np.deg2rad(lat[1876,1876])"
   ]
  },
  {
   "cell_type": "code",
   "execution_count": 13,
   "metadata": {
    "collapsed": true
   },
   "outputs": [],
   "source": [
    "re = 6378"
   ]
  },
  {
   "cell_type": "code",
   "execution_count": 14,
   "metadata": {},
   "outputs": [
    {
     "name": "stdout",
     "output_type": "stream",
     "text": [
      "(3.0210753768333234, 3.0004850975302384)\n"
     ]
    }
   ],
   "source": [
    "r_ns = re* dlat\n",
    "r_ow = re * dlon * np.cos(la)\n",
    "\n",
    "print (r_ns,r_ow)"
   ]
  },
  {
   "cell_type": "code",
   "execution_count": 15,
   "metadata": {},
   "outputs": [
    {
     "name": "stdout",
     "output_type": "stream",
     "text": [
      "9.065098740549331\n"
     ]
    }
   ],
   "source": [
    "A = np.cos(np.deg2rad(la))*dlat*dlon*re**2\n",
    "print A"
   ]
  },
  {
   "cell_type": "markdown",
   "metadata": {},
   "source": [
    "Das scheint gut zu passen.\n",
    "\n",
    "Eine weitere Variante wäre, die Pixelgröße aus der Projektion zu ermitteln."
   ]
  },
  {
   "cell_type": "code",
   "execution_count": 17,
   "metadata": {},
   "outputs": [],
   "source": [
    "import pyproj"
   ]
  },
  {
   "cell_type": "markdown",
   "metadata": {},
   "source": [
    "Zuerst legen wir die Satellitenposition und ein paar Gitterparameter fest."
   ]
  },
  {
   "cell_type": "code",
   "execution_count": 20,
   "metadata": {
    "collapsed": true
   },
   "outputs": [],
   "source": [
    "sat_longitudes = {'rss': 9.5,\n",
    "                  'pzs': 0.0}\n",
    "\n",
    "sat_parameters = {'std': {'s':3000.40316582,'crow':1856.,'ccol':1856.},\n",
    "                  'hrv': {'s':1000.1343886066667,'crow':5568.,'ccol':5568.}}"
   ]
  },
  {
   "cell_type": "code",
   "execution_count": 21,
   "metadata": {
    "collapsed": true
   },
   "outputs": [],
   "source": [
    "resolution= 'std'\n",
    "scan_type = 'rss'"
   ]
  },
  {
   "cell_type": "code",
   "execution_count": 22,
   "metadata": {
    "collapsed": true
   },
   "outputs": [],
   "source": [
    "s = sat_parameters[resolution]['s']\n",
    "crow = sat_parameters[resolution]['crow']\n",
    "ccol = sat_parameters[resolution]['ccol']"
   ]
  },
  {
   "cell_type": "markdown",
   "metadata": {},
   "source": [
    "Dann definieren wir die Projektion."
   ]
  },
  {
   "cell_type": "code",
   "execution_count": 102,
   "metadata": {
    "collapsed": true
   },
   "outputs": [],
   "source": [
    "proj_msg = pyproj.Proj(proj='geos',\n",
    "                       h = 35785831,\n",
    "                       a = 6378169,\n",
    "                       b = 6356583.8,\n",
    "                       lon_0 = sat_longitudes[scan_type],\n",
    "                       units = 'meters',\n",
    "                       sweep = 'y')"
   ]
  },
  {
   "cell_type": "markdown",
   "metadata": {},
   "source": [
    "Als nächstes nehmen wir einen Beispielpunkt und rechnen ihn in die Projektionskoordinaten um."
   ]
  },
  {
   "cell_type": "code",
   "execution_count": 103,
   "metadata": {},
   "outputs": [
    {
     "name": "stdout",
     "output_type": "stream",
     "text": [
      "(0.0, 0.0)\n"
     ]
    }
   ],
   "source": [
    "x,y = proj_msg(lon[1856,1856],lat[1856,1856])\n",
    "print (x,y)"
   ]
  },
  {
   "cell_type": "code",
   "execution_count": 109,
   "metadata": {},
   "outputs": [
    {
     "name": "stdout",
     "output_type": "stream",
     "text": [
      "(0.0, -3000.402584965035)\n",
      "(0.0, -6000.802875231193)\n",
      "(-3000404.4780611843, 0.0)\n"
     ]
    }
   ],
   "source": [
    "print proj_msg(lon[1857,1856],lat[1857,1856])\n",
    "print proj_msg(lon[1858,1856],lat[1858,1856])\n",
    "print proj_msg(lon[1856,856],lat[1856,856])"
   ]
  },
  {
   "cell_type": "code",
   "execution_count": 112,
   "metadata": {},
   "outputs": [
    {
     "name": "stdout",
     "output_type": "stream",
     "text": [
      "(-2568331.202740317, -3432442.61319542)\n"
     ]
    }
   ],
   "source": [
    "print proj_msg(lon[3000,1000],lat[3000,1000])"
   ]
  },
  {
   "cell_type": "markdown",
   "metadata": {},
   "source": [
    "Die ausgegebenen Werte entsprechen der Entfernung vom Ursprung in der jeweiligen Richtung in Metern. Allerdings nur in diskreten 3 km Schritten."
   ]
  },
  {
   "cell_type": "code",
   "execution_count": 105,
   "metadata": {},
   "outputs": [
    {
     "data": {
      "text/plain": [
       "-1000.0004373549525"
      ]
     },
     "execution_count": 105,
     "metadata": {},
     "output_type": "execute_result"
    }
   ],
   "source": [
    "-3000404.4780611843 / s"
   ]
  },
  {
   "cell_type": "code",
   "execution_count": 106,
   "metadata": {},
   "outputs": [
    {
     "data": {
      "text/plain": [
       "1755.9987618827738"
      ]
     },
     "execution_count": 106,
     "metadata": {},
     "output_type": "execute_result"
    }
   ],
   "source": [
    "5268704.244329075 / s"
   ]
  },
  {
   "cell_type": "code",
   "execution_count": 113,
   "metadata": {},
   "outputs": [
    {
     "data": {
      "text/plain": [
       "-1143.993797999258"
      ]
     },
     "execution_count": 113,
     "metadata": {},
     "output_type": "execute_result"
    }
   ],
   "source": [
    "-3432442.61319542 / s"
   ]
  },
  {
   "cell_type": "code",
   "execution_count": 114,
   "metadata": {},
   "outputs": [
    {
     "name": "stdout",
     "output_type": "stream",
     "text": [
      "i=1856.0,j=1856.0\n"
     ]
    }
   ],
   "source": [
    "print(\"i={},j={}\".format(ccol + x / s,crow - y/s))"
   ]
  },
  {
   "cell_type": "code",
   "execution_count": 108,
   "metadata": {},
   "outputs": [
    {
     "name": "stdout",
     "output_type": "stream",
     "text": [
      "(0.0, 0.0)\n"
     ]
    }
   ],
   "source": [
    "print (x/s, y/s)"
   ]
  },
  {
   "cell_type": "code",
   "execution_count": 86,
   "metadata": {},
   "outputs": [
    {
     "data": {
      "text/plain": [
       "1856.0"
      ]
     },
     "execution_count": 86,
     "metadata": {},
     "output_type": "execute_result"
    }
   ],
   "source": [
    "ccol"
   ]
  },
  {
   "cell_type": "markdown",
   "metadata": {},
   "source": [
    "Was für die Bestimmung der tatsächlichen Pixelprojektionen helfen könnte, ist ein äquidistantes Koordinatensystem."
   ]
  },
  {
   "cell_type": "code",
   "execution_count": 160,
   "metadata": {
    "collapsed": true
   },
   "outputs": [],
   "source": [
    "proj_equi = pyproj.Proj(proj='eqc',\n",
    "                        lat_ts=0,\n",
    "                        lon_0=9.5)"
   ]
  },
  {
   "cell_type": "code",
   "execution_count": 177,
   "metadata": {},
   "outputs": [
    {
     "data": {
      "text/plain": [
       "(2999.985519102508, 3020.394026933011)"
      ]
     },
     "execution_count": 177,
     "metadata": {},
     "output_type": "execute_result"
    }
   ],
   "source": [
    "pyproj.transform(proj_msg,proj_equi,3000,3000)"
   ]
  },
  {
   "cell_type": "code",
   "execution_count": 178,
   "metadata": {},
   "outputs": [
    {
     "name": "stdout",
     "output_type": "stream",
     "text": [
      "(3000.3886831296804, 3020.7999335444865)\n",
      "(-3207259.0636816937, 0.0)\n"
     ]
    }
   ],
   "source": [
    "print pyproj.transform(proj_msg,proj_equi,s,s)\n",
    "print pyproj.transform(proj_msg,proj_equi,-3000404.4780611843, 0.0)"
   ]
  },
  {
   "cell_type": "code",
   "execution_count": 180,
   "metadata": {},
   "outputs": [
    {
     "data": {
      "text/plain": [
       "3.207259063681694"
      ]
     },
     "execution_count": 180,
     "metadata": {},
     "output_type": "execute_result"
    }
   ],
   "source": [
    "3207259.0636816937 / 1e6 "
   ]
  },
  {
   "cell_type": "code",
   "execution_count": 209,
   "metadata": {
    "collapsed": true
   },
   "outputs": [],
   "source": [
    "def msg_ij2km(i,j):\n",
    "    x_msg = s * ( i - ccol )\n",
    "    y_msg = s * ( crow - j )\n",
    "    \n",
    "    lo,la = proj_msg(i,j,inverse=True)\n",
    "    \n",
    "    x,y = pyproj.transform(proj_msg,proj_equi,x_msg,y_msg)\n",
    "    \n",
    "    print (\"lon = {}, lat={}\\ni = {}, j= {}\\nx_msg = {}, y_msg = {}\\nx_equ = {}, y_equ = {}\".format(lo,la,i,j,x_msg,y_msg,x,y))\n",
    "    \n",
    "    if x==0 and y==0:\n",
    "        x=s\n",
    "        y=s\n",
    "        \n",
    "    x_km = x / 1e6\n",
    "    y_km = y / 1e6 \n",
    "    return (x_km,y_km)"
   ]
  },
  {
   "cell_type": "code",
   "execution_count": 166,
   "metadata": {},
   "outputs": [
    {
     "name": "stdout",
     "output_type": "stream",
     "text": [
      "$\\lambda=$-19.3112983704, $\\phi=$0.0\n"
     ]
    }
   ],
   "source": [
    "print(r\"$\\lambda=${}, $\\phi=${}\".format(lon[1856,856],lat[1856,856]))"
   ]
  },
  {
   "cell_type": "code",
   "execution_count": 210,
   "metadata": {},
   "outputs": [
    {
     "name": "stdout",
     "output_type": "stream",
     "text": [
      "lon = 9.5053898647, lat=0.00542653180953\n",
      "i = 600, j= 600\n",
      "x_msg = -3768506.37627, y_msg = 3768506.37627\n",
      "x_equ = -7039584.58909, y_equ = 4687935.90174\n"
     ]
    },
    {
     "data": {
      "text/plain": [
       "(-7.039584589089902, 4.6879359017363695)"
      ]
     },
     "execution_count": 210,
     "metadata": {},
     "output_type": "execute_result"
    }
   ],
   "source": [
    "msg_ij2km(600,600)"
   ]
  },
  {
   "cell_type": "markdown",
   "metadata": {},
   "source": [
    "Das sieht nach einem passenden Wert aus. Der MSG-Pixel mit den Koordinaten 1856,856 (hat eine Ausdehnung von 6,45 km in Nord-Süd-Richtung."
   ]
  },
  {
   "cell_type": "code",
   "execution_count": 184,
   "metadata": {},
   "outputs": [
    {
     "data": {
      "text/plain": [
       "0.0"
      ]
     },
     "execution_count": 184,
     "metadata": {},
     "output_type": "execute_result"
    }
   ],
   "source": [
    "(1+s)*x"
   ]
  }
 ],
 "metadata": {
  "kernelspec": {
   "display_name": "Python 2",
   "language": "python",
   "name": "python2"
  },
  "language_info": {
   "codemirror_mode": {
    "name": "ipython",
    "version": 2
   },
   "file_extension": ".py",
   "mimetype": "text/x-python",
   "name": "python",
   "nbconvert_exporter": "python",
   "pygments_lexer": "ipython2",
   "version": "2.7.11"
  }
 },
 "nbformat": 4,
 "nbformat_minor": 2
}
