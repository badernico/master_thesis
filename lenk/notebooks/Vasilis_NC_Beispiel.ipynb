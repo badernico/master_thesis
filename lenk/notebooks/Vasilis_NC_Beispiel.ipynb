{
 "cells": [
  {
   "cell_type": "markdown",
   "metadata": {},
   "source": [
    "# Beispielfälle für Vasilis"
   ]
  },
  {
   "cell_type": "code",
   "execution_count": 1,
   "metadata": {},
   "outputs": [
    {
     "name": "stderr",
     "output_type": "stream",
     "text": [
      "/vols/satellite/home/lenk/anaconda3/envs/tracking/lib/python3.7/site-packages/xarray/core/merge.py:17: FutureWarning: The Panel class is removed from pandas. Accessing it from the top-level namespace will also be removed in the next version\n",
      "  PANDAS_TYPES = (pd.Series, pd.DataFrame, pd.Panel)\n"
     ]
    }
   ],
   "source": [
    "import numpy as np\n",
    "import matplotlib.pyplot as plt\n",
    "from l15_msevi import msevi as msv\n",
    "%matplotlib inline\n",
    "\n",
    "import datetime as dt\n",
    "from analysis_tools import grid_and_interpolation as gi\n",
    "import xarray as xr\n",
    "import msg_coord_conv2 as mcc"
   ]
  },
  {
   "cell_type": "code",
   "execution_count": 2,
   "metadata": {},
   "outputs": [],
   "source": [
    "def normalise2range(data):\n",
    "    return (data - np.min(data)) / (np.max(data) - np.min(data))\n",
    "\n",
    "def array_to_256(array):\n",
    "    return (array*255.999).astype(\"uint8\")\n",
    "\n",
    "def day_natural_composite(vis006_data,vis008_data,nir016_data,factor=1,gamma=1):\n",
    "    blue = array_to_256(np.clip(vis006_data/factor,0,1)**(1./gamma))\n",
    "    green = array_to_256(np.clip(vis008_data/factor,0,1)**(1./gamma))\n",
    "    red = array_to_256(np.clip(nir016_data/factor,0,1)**(1./gamma))\n",
    "    \n",
    "    return np.dstack([red,green,blue]).astype(\"uint8\")\n",
    "\n",
    "def scale_array_min_max(array_data,range_min=0,range_max=1):\n",
    "    \"\"\"\n",
    "    Scales a array into the chosen range.\n",
    "    \n",
    "    Inputs:\n",
    "    -------\n",
    "    array_data: numpy array of floats or integers, 2d\n",
    "        array to scale\n",
    "    range_min: int or float, default = 0\n",
    "        minimum value of the range to scale array to,\n",
    "    range_max: int or float, default = 1\n",
    "        maximum value of the range to scale array to,\n",
    "        \n",
    "    Returns:\n",
    "    --------\n",
    "    scaled_array: numpy array of floats, 2d\n",
    "    \"\"\"\n",
    "    # get array extrema\n",
    "    array_min = np.min(array_data)\n",
    "    array_max = np.max(array_data)\n",
    "\n",
    "    # derive conversion parameters\n",
    "    a = (range_max - range_min) / (array_max - array_min)\n",
    "    b = range_max - a * array_max\n",
    "\n",
    "    # scale array\n",
    "    scaled_array = a * array_data + b\n",
    "    \n",
    "    return scaled_array\n",
    "\n",
    "def add_hrv_texture2nc(nc,hrv):\n",
    "    nc_lab = color.rgb2lab(nc)\n",
    "    l_min = nc_lab[...,0].min()\n",
    "    l_max = nc_lab[...,0].max()\n",
    "    \n",
    "    l_hrv_scaled = nc_lab[...,0] * hrv\n",
    "    l_hrv_scaled = scale_array_min_max(l_hrv_scaled,l_min,l_max)\n",
    "\n",
    "    nc_lab[...,0] = l_hrv_scaled\n",
    "    \n",
    "    return color.lab2rgb(nc_lab)"
   ]
  },
  {
   "cell_type": "markdown",
   "metadata": {},
   "source": [
    "## Koordinatenreferenz"
   ]
  },
  {
   "cell_type": "code",
   "execution_count": 3,
   "metadata": {},
   "outputs": [],
   "source": [
    "with xr.open_dataset(\"/vols/satellite/home/lenk/data/SEVIRI/auxdata/msevi_geolocation_rss.nc\") as file:\n",
    "    slon = file.longitude.data\n",
    "    slat = file.latitude.data"
   ]
  },
  {
   "cell_type": "code",
   "execution_count": 104,
   "metadata": {},
   "outputs": [
    {
     "data": {
      "text/plain": [
       "(1392, 3712)"
      ]
     },
     "execution_count": 104,
     "metadata": {},
     "output_type": "execute_result"
    }
   ],
   "source": [
    "slon.shape"
   ]
  },
  {
   "cell_type": "code",
   "execution_count": 4,
   "metadata": {},
   "outputs": [
    {
     "data": {
      "text/plain": [
       "indices(col=722.9161467971451, row=1289.5168972365664)"
      ]
     },
     "execution_count": 4,
     "metadata": {},
     "output_type": "execute_result"
    }
   ],
   "source": [
    "mcc.ll2msg_ij(34,-10,'rss','std')"
   ]
  },
  {
   "cell_type": "code",
   "execution_count": 7,
   "metadata": {},
   "outputs": [
    {
     "data": {
      "text/plain": [
       "indices(col=218.78317918979133, row=1509.9523055034888)"
      ]
     },
     "execution_count": 7,
     "metadata": {},
     "output_type": "execute_result"
    }
   ],
   "source": [
    "mcc.ll2msg_ij(58,-10,'rss','std')"
   ]
  },
  {
   "cell_type": "code",
   "execution_count": 6,
   "metadata": {},
   "outputs": [
    {
     "data": {
      "text/plain": [
       "indices(col=721.8834826837731, row=2394.9527336164983)"
      ]
     },
     "execution_count": 6,
     "metadata": {},
     "output_type": "execute_result"
    }
   ],
   "source": [
    "mcc.ll2msg_ij(34,28,'rss','std')"
   ]
  },
  {
   "cell_type": "code",
   "execution_count": 8,
   "metadata": {},
   "outputs": [
    {
     "data": {
      "text/plain": [
       "indices(col=217.9190689468228, row=2185.1117539169877)"
      ]
     },
     "execution_count": 8,
     "metadata": {},
     "output_type": "execute_result"
    }
   ],
   "source": [
    "mcc.ll2msg_ij(58,28,'rss','std')"
   ]
  },
  {
   "cell_type": "code",
   "execution_count": 16,
   "metadata": {},
   "outputs": [
    {
     "data": {
      "text/plain": [
       "indices(col=715.1849931963873, row=1559.370356092671)"
      ]
     },
     "execution_count": 16,
     "metadata": {},
     "output_type": "execute_result"
    }
   ],
   "source": [
    "mcc.ll2msg_ij(34,-10,'pzs','std')"
   ]
  },
  {
   "cell_type": "code",
   "execution_count": 17,
   "metadata": {},
   "outputs": [
    {
     "data": {
      "text/plain": [
       "indices(col=733.5970278397394, row=2645.436111970608)"
      ]
     },
     "execution_count": 17,
     "metadata": {},
     "output_type": "execute_result"
    }
   ],
   "source": [
    "mcc.ll2msg_ij(34,28,'pzs','std')"
   ]
  },
  {
   "cell_type": "code",
   "execution_count": 18,
   "metadata": {},
   "outputs": [
    {
     "data": {
      "text/plain": [
       "indices(col=212.33799292106437, row=1675.284814798284)"
      ]
     },
     "execution_count": 18,
     "metadata": {},
     "output_type": "execute_result"
    }
   ],
   "source": [
    "mcc.ll2msg_ij(58,-10,'pzs','std')"
   ]
  },
  {
   "cell_type": "code",
   "execution_count": 19,
   "metadata": {},
   "outputs": [
    {
     "data": {
      "text/plain": [
       "indices(col=227.77920056759604, row=2340.044430905345)"
      ]
     },
     "execution_count": 19,
     "metadata": {},
     "output_type": "execute_result"
    }
   ],
   "source": [
    "mcc.ll2msg_ij(58,28,'pzs','std')"
   ]
  },
  {
   "cell_type": "code",
   "execution_count": 96,
   "metadata": {},
   "outputs": [],
   "source": [
    "# cmin, rmax = mcc.ll2cl(-10,34,'std','rss','oben')\n",
    "# cmax, rmin = mcc.ll2cl(28,58,'std','rss','oben')"
   ]
  },
  {
   "cell_type": "code",
   "execution_count": 92,
   "metadata": {},
   "outputs": [],
   "source": [
    "# cmin = int(np.rint(cmin))\n",
    "# cmax = int(np.rint(cmax))\n",
    "# rmin = int(np.rint(rmin))\n",
    "# rmax = int(np.rint(rmax))"
   ]
  },
  {
   "cell_type": "code",
   "execution_count": 14,
   "metadata": {},
   "outputs": [],
   "source": [
    "rmin = 218\n",
    "rmax = 723\n",
    "cmin = 1290\n",
    "cmax = 2394"
   ]
  },
  {
   "cell_type": "code",
   "execution_count": 11,
   "metadata": {},
   "outputs": [],
   "source": [
    "tlist = [dt.datetime(2015,5,11,12,0),\n",
    "         dt.datetime(2015,6,4,12,0),\n",
    "         dt.datetime(2015,9,1,12,0),\n",
    "         dt.datetime(2015,2,1,12,0),\n",
    "         dt.datetime(2015,1,20,12,0),\n",
    "         dt.datetime(2015,7,27,12,0)]"
   ]
  },
  {
   "cell_type": "code",
   "execution_count": 12,
   "metadata": {},
   "outputs": [],
   "source": [
    "channels = ['VIS006','VIS008','IR_016']"
   ]
  },
  {
   "cell_type": "code",
   "execution_count": 15,
   "metadata": {},
   "outputs": [
    {
     "name": "stdout",
     "output_type": "stream",
     "text": [
      "... reading  /tmp/hrit1648015148/H-000-MSG2__-MSG2_RSS____-VIS006___-000006___-201505111200-__\n",
      "... reading  /tmp/hrit1648015148/H-000-MSG2__-MSG2_RSS____-VIS006___-000007___-201505111200-__\n",
      "... reading  /tmp/hrit1648015148/H-000-MSG2__-MSG2_RSS____-VIS006___-000008___-201505111200-__\n",
      "... reading  /tmp/hrit1648015148/H-000-MSG2__-MSG2_RSS____-VIS008___-000006___-201505111200-__\n",
      "... reading  /tmp/hrit1648015148/H-000-MSG2__-MSG2_RSS____-VIS008___-000007___-201505111200-__\n",
      "... reading  /tmp/hrit1648015148/H-000-MSG2__-MSG2_RSS____-VIS008___-000008___-201505111200-__\n",
      "... reading  /tmp/hrit1648015148/H-000-MSG2__-MSG2_RSS____-IR_016___-000006___-201505111200-__\n",
      "... reading  /tmp/hrit1648015148/H-000-MSG2__-MSG2_RSS____-IR_016___-000007___-201505111200-__\n",
      "... reading  /tmp/hrit1648015148/H-000-MSG2__-MSG2_RSS____-IR_016___-000008___-201505111200-__\n",
      "\n",
      "Combine segments\n",
      "\n",
      "Do calibration\n",
      "... reading  /tmp/hrit398995677/H-000-MSG2__-MSG2_RSS____-VIS006___-000006___-201506041200-__\n",
      "... reading  /tmp/hrit398995677/H-000-MSG2__-MSG2_RSS____-VIS006___-000007___-201506041200-__\n",
      "... reading  /tmp/hrit398995677/H-000-MSG2__-MSG2_RSS____-VIS006___-000008___-201506041200-__\n",
      "... reading  /tmp/hrit398995677/H-000-MSG2__-MSG2_RSS____-VIS008___-000006___-201506041200-__\n",
      "... reading  /tmp/hrit398995677/H-000-MSG2__-MSG2_RSS____-VIS008___-000007___-201506041200-__\n",
      "... reading  /tmp/hrit398995677/H-000-MSG2__-MSG2_RSS____-VIS008___-000008___-201506041200-__\n",
      "... reading  /tmp/hrit398995677/H-000-MSG2__-MSG2_RSS____-IR_016___-000006___-201506041200-__\n",
      "... reading  /tmp/hrit398995677/H-000-MSG2__-MSG2_RSS____-IR_016___-000007___-201506041200-__\n",
      "... reading  /tmp/hrit398995677/H-000-MSG2__-MSG2_RSS____-IR_016___-000008___-201506041200-__\n",
      "\n",
      "Combine segments\n",
      "\n",
      "Do calibration\n",
      "... reading  /tmp/hrit1837236040/H-000-MSG2__-MSG2_RSS____-VIS006___-000006___-201509011200-__\n",
      "... reading  /tmp/hrit1837236040/H-000-MSG2__-MSG2_RSS____-VIS006___-000007___-201509011200-__\n",
      "... reading  /tmp/hrit1837236040/H-000-MSG2__-MSG2_RSS____-VIS006___-000008___-201509011200-__\n",
      "... reading  /tmp/hrit1837236040/H-000-MSG2__-MSG2_RSS____-VIS008___-000006___-201509011200-__\n",
      "... reading  /tmp/hrit1837236040/H-000-MSG2__-MSG2_RSS____-VIS008___-000007___-201509011200-__\n",
      "... reading  /tmp/hrit1837236040/H-000-MSG2__-MSG2_RSS____-VIS008___-000008___-201509011200-__\n",
      "... reading  /tmp/hrit1837236040/H-000-MSG2__-MSG2_RSS____-IR_016___-000006___-201509011200-__\n",
      "... reading  /tmp/hrit1837236040/H-000-MSG2__-MSG2_RSS____-IR_016___-000007___-201509011200-__\n",
      "... reading  /tmp/hrit1837236040/H-000-MSG2__-MSG2_RSS____-IR_016___-000008___-201509011200-__\n",
      "\n",
      "Combine segments\n",
      "\n",
      "Do calibration\n",
      "ERROR:  /vols/altair/datasets/eumcst//msevi_rss/l15_hrit/2015/02/01/msg?-sevi-20150201t1200z-l15hrit-rss.c2.tar  does not exist!\n",
      "... reading  /tmp/hrit6297363149/H-000-MSG3__-MSG3________-VIS006___-000001___-201502011200-__\n",
      "... reading  /tmp/hrit6297363149/H-000-MSG3__-MSG3________-VIS006___-000002___-201502011200-__\n",
      "... reading  /tmp/hrit6297363149/H-000-MSG3__-MSG3________-VIS006___-000003___-201502011200-__\n",
      "... reading  /tmp/hrit6297363149/H-000-MSG3__-MSG3________-VIS006___-000004___-201502011200-__\n",
      "... reading  /tmp/hrit6297363149/H-000-MSG3__-MSG3________-VIS006___-000005___-201502011200-__\n",
      "... reading  /tmp/hrit6297363149/H-000-MSG3__-MSG3________-VIS006___-000006___-201502011200-__\n",
      "... reading  /tmp/hrit6297363149/H-000-MSG3__-MSG3________-VIS006___-000007___-201502011200-__\n",
      "... reading  /tmp/hrit6297363149/H-000-MSG3__-MSG3________-VIS006___-000008___-201502011200-__\n",
      "... reading  /tmp/hrit6297363149/H-000-MSG3__-MSG3________-VIS008___-000001___-201502011200-__\n",
      "... reading  /tmp/hrit6297363149/H-000-MSG3__-MSG3________-VIS008___-000002___-201502011200-__\n",
      "... reading  /tmp/hrit6297363149/H-000-MSG3__-MSG3________-VIS008___-000003___-201502011200-__\n",
      "... reading  /tmp/hrit6297363149/H-000-MSG3__-MSG3________-VIS008___-000004___-201502011200-__\n",
      "... reading  /tmp/hrit6297363149/H-000-MSG3__-MSG3________-VIS008___-000005___-201502011200-__\n",
      "... reading  /tmp/hrit6297363149/H-000-MSG3__-MSG3________-VIS008___-000006___-201502011200-__\n",
      "... reading  /tmp/hrit6297363149/H-000-MSG3__-MSG3________-VIS008___-000007___-201502011200-__\n",
      "... reading  /tmp/hrit6297363149/H-000-MSG3__-MSG3________-VIS008___-000008___-201502011200-__\n",
      "... reading  /tmp/hrit6297363149/H-000-MSG3__-MSG3________-IR_016___-000001___-201502011200-__\n",
      "... reading  /tmp/hrit6297363149/H-000-MSG3__-MSG3________-IR_016___-000002___-201502011200-__\n",
      "... reading  /tmp/hrit6297363149/H-000-MSG3__-MSG3________-IR_016___-000003___-201502011200-__\n",
      "... reading  /tmp/hrit6297363149/H-000-MSG3__-MSG3________-IR_016___-000004___-201502011200-__\n",
      "... reading  /tmp/hrit6297363149/H-000-MSG3__-MSG3________-IR_016___-000005___-201502011200-__\n",
      "... reading  /tmp/hrit6297363149/H-000-MSG3__-MSG3________-IR_016___-000006___-201502011200-__\n",
      "... reading  /tmp/hrit6297363149/H-000-MSG3__-MSG3________-IR_016___-000007___-201502011200-__\n",
      "... reading  /tmp/hrit6297363149/H-000-MSG3__-MSG3________-IR_016___-000008___-201502011200-__\n",
      "\n",
      "Combine segments\n",
      "\n",
      "Do calibration\n",
      "ERROR:  /vols/altair/datasets/eumcst//msevi_rss/l15_hrit/2015/01/20/msg?-sevi-20150120t1200z-l15hrit-rss.c2.tar  does not exist!\n",
      "... reading  /tmp/hrit8453133729/H-000-MSG3__-MSG3________-VIS006___-000001___-201501201200-__\n",
      "... reading  /tmp/hrit8453133729/H-000-MSG3__-MSG3________-VIS006___-000002___-201501201200-__\n",
      "... reading  /tmp/hrit8453133729/H-000-MSG3__-MSG3________-VIS006___-000003___-201501201200-__\n",
      "... reading  /tmp/hrit8453133729/H-000-MSG3__-MSG3________-VIS006___-000004___-201501201200-__\n",
      "... reading  /tmp/hrit8453133729/H-000-MSG3__-MSG3________-VIS006___-000005___-201501201200-__\n",
      "... reading  /tmp/hrit8453133729/H-000-MSG3__-MSG3________-VIS006___-000006___-201501201200-__\n",
      "... reading  /tmp/hrit8453133729/H-000-MSG3__-MSG3________-VIS006___-000007___-201501201200-__\n",
      "... reading  /tmp/hrit8453133729/H-000-MSG3__-MSG3________-VIS006___-000008___-201501201200-__\n",
      "... reading  /tmp/hrit8453133729/H-000-MSG3__-MSG3________-VIS008___-000001___-201501201200-__\n",
      "... reading  /tmp/hrit8453133729/H-000-MSG3__-MSG3________-VIS008___-000002___-201501201200-__\n",
      "... reading  /tmp/hrit8453133729/H-000-MSG3__-MSG3________-VIS008___-000003___-201501201200-__\n",
      "... reading  /tmp/hrit8453133729/H-000-MSG3__-MSG3________-VIS008___-000004___-201501201200-__\n",
      "... reading  /tmp/hrit8453133729/H-000-MSG3__-MSG3________-VIS008___-000005___-201501201200-__\n",
      "... reading  /tmp/hrit8453133729/H-000-MSG3__-MSG3________-VIS008___-000006___-201501201200-__\n",
      "... reading  /tmp/hrit8453133729/H-000-MSG3__-MSG3________-VIS008___-000007___-201501201200-__\n",
      "... reading  /tmp/hrit8453133729/H-000-MSG3__-MSG3________-VIS008___-000008___-201501201200-__\n",
      "... reading  /tmp/hrit8453133729/H-000-MSG3__-MSG3________-IR_016___-000001___-201501201200-__\n",
      "... reading  /tmp/hrit8453133729/H-000-MSG3__-MSG3________-IR_016___-000002___-201501201200-__\n",
      "... reading  /tmp/hrit8453133729/H-000-MSG3__-MSG3________-IR_016___-000003___-201501201200-__\n",
      "... reading  /tmp/hrit8453133729/H-000-MSG3__-MSG3________-IR_016___-000004___-201501201200-__\n",
      "... reading  /tmp/hrit8453133729/H-000-MSG3__-MSG3________-IR_016___-000005___-201501201200-__\n",
      "... reading  /tmp/hrit8453133729/H-000-MSG3__-MSG3________-IR_016___-000006___-201501201200-__\n",
      "... reading  /tmp/hrit8453133729/H-000-MSG3__-MSG3________-IR_016___-000007___-201501201200-__\n",
      "... reading  /tmp/hrit8453133729/H-000-MSG3__-MSG3________-IR_016___-000008___-201501201200-__\n",
      "\n",
      "Combine segments\n",
      "\n",
      "Do calibration\n",
      "... reading  /tmp/hrit4789343516/H-000-MSG2__-MSG2_RSS____-VIS006___-000006___-201507271200-__\n",
      "... reading  /tmp/hrit4789343516/H-000-MSG2__-MSG2_RSS____-VIS006___-000007___-201507271200-__\n",
      "... reading  /tmp/hrit4789343516/H-000-MSG2__-MSG2_RSS____-VIS006___-000008___-201507271200-__\n",
      "... reading  /tmp/hrit4789343516/H-000-MSG2__-MSG2_RSS____-VIS008___-000006___-201507271200-__\n",
      "... reading  /tmp/hrit4789343516/H-000-MSG2__-MSG2_RSS____-VIS008___-000007___-201507271200-__\n",
      "... reading  /tmp/hrit4789343516/H-000-MSG2__-MSG2_RSS____-VIS008___-000008___-201507271200-__\n",
      "... reading  /tmp/hrit4789343516/H-000-MSG2__-MSG2_RSS____-IR_016___-000006___-201507271200-__\n",
      "... reading  /tmp/hrit4789343516/H-000-MSG2__-MSG2_RSS____-IR_016___-000007___-201507271200-__\n"
     ]
    },
    {
     "name": "stdout",
     "output_type": "stream",
     "text": [
      "... reading  /tmp/hrit4789343516/H-000-MSG2__-MSG2_RSS____-IR_016___-000008___-201507271200-__\n",
      "\n",
      "Combine segments\n",
      "\n",
      "Do calibration\n"
     ]
    }
   ],
   "source": [
    "for t in tlist:\n",
    "    try:\n",
    "        s = msv.MSevi(t,chan_list=channels,region='full',scan_type='rss')\n",
    "        s.rad2refl()\n",
    "\n",
    "        nc = day_natural_composite(s.ref['VIS006'][rmin:rmax,cmin:cmax],\n",
    "                                   s.ref['VIS008'][rmin:rmax,cmin:cmax],\n",
    "                                   s.ref['IR_016'][rmin:rmax,cmin:cmax],0.9,1.8)\n",
    "\n",
    "        fig,ax = plt.subplots(1,1,figsize=((cmax - cmin) / 100,\n",
    "                                            (rmax-rmin) / 100))\n",
    "        plt.subplots_adjust(top = 1, bottom = 0, right = 1, left = 0, \n",
    "                    hspace = 0, wspace = 0)\n",
    "        plt.margins(0,0)\n",
    "        ax.imshow(nc)\n",
    "        ax.axis('off')\n",
    "        plt.savefig(\"/vols/satellite/home/lenk/NC_RGB_{}_cutout.png\".format(t.strftime(\"%Y%m%dT%H%M\")),\n",
    "                    bbox_inches=\"tight\",pad_inches=0,dpi=100)\n",
    "        plt.close()\n",
    "    except:\n",
    "        s = msv.MSevi(t,chan_list=channels,region='full',scan_type='pzs')\n",
    "        s.rad2refl()\n",
    "\n",
    "        nc = day_natural_composite(s.ref['VIS006'][rmin:rmax,cmin+300:cmax+300],\n",
    "                                   s.ref['VIS008'][rmin:rmax,cmin+300:cmax+300],\n",
    "                                   s.ref['IR_016'][rmin:rmax,cmin+300:cmax+300],0.9,1.8)\n",
    "        \n",
    "        fig,ax = plt.subplots(1,1,figsize=((cmax - cmin) / 100,\n",
    "                                            (rmax-rmin) / 100))\n",
    "        plt.subplots_adjust(top = 1, bottom = 0, right = 1, left = 0, \n",
    "                    hspace = 0, wspace = 0)\n",
    "        plt.margins(0,0)\n",
    "        ax.imshow(nc)\n",
    "        ax.axis('off')\n",
    "        plt.savefig(\"/vols/satellite/home/lenk/NC_RGB_{}_cutout.png\".format(t.strftime(\"%Y%m%dT%H%M\")),\n",
    "                    bbox_inches=\"tight\",pad_inches=0,dpi=100)\n",
    "        plt.close()"
   ]
  }
 ],
 "metadata": {
  "kernelspec": {
   "display_name": "Python 3",
   "language": "python",
   "name": "python3"
  },
  "language_info": {
   "codemirror_mode": {
    "name": "ipython",
    "version": 3
   },
   "file_extension": ".py",
   "mimetype": "text/x-python",
   "name": "python",
   "nbconvert_exporter": "python",
   "pygments_lexer": "ipython3",
   "version": "3.7.4"
  }
 },
 "nbformat": 4,
 "nbformat_minor": 2
}
