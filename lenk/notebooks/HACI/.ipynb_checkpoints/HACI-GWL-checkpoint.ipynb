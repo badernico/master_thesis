{
 "cells": [
  {
   "cell_type": "markdown",
   "metadata": {},
   "source": [
    "# HACI-Fälle und Großwetterlagen\n",
    "\n"
   ]
  },
  {
   "cell_type": "code",
   "execution_count": 1,
   "metadata": {},
   "outputs": [
    {
     "name": "stderr",
     "output_type": "stream",
     "text": [
      "/vols/satellite/home/lenk/anaconda3/envs/tracking/lib/python3.7/site-packages/statsmodels/tools/_testing.py:19: FutureWarning: pandas.util.testing is deprecated. Use the functions in the public API at pandas.testing instead.\n",
      "  import pandas.util.testing as tm\n"
     ]
    }
   ],
   "source": [
    "import pandas as pd\n",
    "import numpy as np\n",
    "\n",
    "from standard_config import *\n",
    "\n",
    "import matplotlib.pyplot as plt\n",
    "import seaborn as sns\n",
    "sns.set_context(\"talk\")"
   ]
  },
  {
   "cell_type": "code",
   "execution_count": 34,
   "metadata": {},
   "outputs": [],
   "source": [
    "haci_cases = pd.read_csv(\"{}/HACI_bbox_data/HACI_2008-2017-bbox-filtered.csv\".format(local_data_path))\n",
    "gwl = pd.read_csv(\"/vols/satellite/home/lenk/data/GWL_WLK_1979-2019.csv\",keep_default_na=False)"
   ]
  },
  {
   "cell_type": "code",
   "execution_count": 35,
   "metadata": {},
   "outputs": [],
   "source": [
    "dates = haci_cases.date.unique()"
   ]
  },
  {
   "cell_type": "code",
   "execution_count": 36,
   "metadata": {},
   "outputs": [
    {
     "data": {
      "text/plain": [
       "array(['HB', 'WZ', 'HNZ', 'NWA', 'WA', 'HNA', 'TRW', 'HM', 'HFA', 'HFZ',\n",
       "       'BM', 'NEZ', 'SEZ', 'SA', 'SZ', 'WW', 'TRM', 'NZ', 'SEA', 'TB',\n",
       "       'WS', 'SWA', 'NWZ', 'U', 'TM', 'HNFA', 'NEA', 'NA', 'HNFZ', 'SWZ'],\n",
       "      dtype=object)"
      ]
     },
     "execution_count": 36,
     "metadata": {},
     "output_type": "execute_result"
    }
   ],
   "source": [
    "gwl.GWL.unique()"
   ]
  },
  {
   "cell_type": "code",
   "execution_count": 37,
   "metadata": {},
   "outputs": [
    {
     "data": {
      "text/html": [
       "<div>\n",
       "<style scoped>\n",
       "    .dataframe tbody tr th:only-of-type {\n",
       "        vertical-align: middle;\n",
       "    }\n",
       "\n",
       "    .dataframe tbody tr th {\n",
       "        vertical-align: top;\n",
       "    }\n",
       "\n",
       "    .dataframe thead th {\n",
       "        text-align: right;\n",
       "    }\n",
       "</style>\n",
       "<table border=\"1\" class=\"dataframe\">\n",
       "  <thead>\n",
       "    <tr style=\"text-align: right;\">\n",
       "      <th></th>\n",
       "      <th>date</th>\n",
       "      <th>WLK</th>\n",
       "      <th>GT</th>\n",
       "      <th>ZF</th>\n",
       "    </tr>\n",
       "    <tr>\n",
       "      <th>GWL</th>\n",
       "      <th></th>\n",
       "      <th></th>\n",
       "      <th></th>\n",
       "      <th></th>\n",
       "    </tr>\n",
       "  </thead>\n",
       "  <tbody>\n",
       "    <tr>\n",
       "      <th>BM</th>\n",
       "      <td>1692</td>\n",
       "      <td>1692</td>\n",
       "      <td>1692</td>\n",
       "      <td>1692</td>\n",
       "    </tr>\n",
       "    <tr>\n",
       "      <th>HB</th>\n",
       "      <td>455</td>\n",
       "      <td>455</td>\n",
       "      <td>455</td>\n",
       "      <td>455</td>\n",
       "    </tr>\n",
       "    <tr>\n",
       "      <th>HFA</th>\n",
       "      <td>386</td>\n",
       "      <td>386</td>\n",
       "      <td>386</td>\n",
       "      <td>386</td>\n",
       "    </tr>\n",
       "    <tr>\n",
       "      <th>HFZ</th>\n",
       "      <td>234</td>\n",
       "      <td>234</td>\n",
       "      <td>234</td>\n",
       "      <td>234</td>\n",
       "    </tr>\n",
       "    <tr>\n",
       "      <th>HM</th>\n",
       "      <td>805</td>\n",
       "      <td>805</td>\n",
       "      <td>805</td>\n",
       "      <td>805</td>\n",
       "    </tr>\n",
       "    <tr>\n",
       "      <th>HNA</th>\n",
       "      <td>268</td>\n",
       "      <td>268</td>\n",
       "      <td>268</td>\n",
       "      <td>268</td>\n",
       "    </tr>\n",
       "    <tr>\n",
       "      <th>HNFA</th>\n",
       "      <td>211</td>\n",
       "      <td>211</td>\n",
       "      <td>211</td>\n",
       "      <td>211</td>\n",
       "    </tr>\n",
       "    <tr>\n",
       "      <th>HNFZ</th>\n",
       "      <td>246</td>\n",
       "      <td>246</td>\n",
       "      <td>246</td>\n",
       "      <td>246</td>\n",
       "    </tr>\n",
       "    <tr>\n",
       "      <th>HNZ</th>\n",
       "      <td>289</td>\n",
       "      <td>289</td>\n",
       "      <td>289</td>\n",
       "      <td>289</td>\n",
       "    </tr>\n",
       "    <tr>\n",
       "      <th>NA</th>\n",
       "      <td>100</td>\n",
       "      <td>100</td>\n",
       "      <td>100</td>\n",
       "      <td>100</td>\n",
       "    </tr>\n",
       "    <tr>\n",
       "      <th>NEA</th>\n",
       "      <td>128</td>\n",
       "      <td>128</td>\n",
       "      <td>128</td>\n",
       "      <td>128</td>\n",
       "    </tr>\n",
       "    <tr>\n",
       "      <th>NEZ</th>\n",
       "      <td>141</td>\n",
       "      <td>141</td>\n",
       "      <td>141</td>\n",
       "      <td>141</td>\n",
       "    </tr>\n",
       "    <tr>\n",
       "      <th>NWA</th>\n",
       "      <td>433</td>\n",
       "      <td>433</td>\n",
       "      <td>433</td>\n",
       "      <td>433</td>\n",
       "    </tr>\n",
       "    <tr>\n",
       "      <th>NWZ</th>\n",
       "      <td>746</td>\n",
       "      <td>746</td>\n",
       "      <td>746</td>\n",
       "      <td>746</td>\n",
       "    </tr>\n",
       "    <tr>\n",
       "      <th>NZ</th>\n",
       "      <td>281</td>\n",
       "      <td>281</td>\n",
       "      <td>281</td>\n",
       "      <td>281</td>\n",
       "    </tr>\n",
       "    <tr>\n",
       "      <th>SA</th>\n",
       "      <td>243</td>\n",
       "      <td>243</td>\n",
       "      <td>243</td>\n",
       "      <td>243</td>\n",
       "    </tr>\n",
       "    <tr>\n",
       "      <th>SEA</th>\n",
       "      <td>273</td>\n",
       "      <td>273</td>\n",
       "      <td>273</td>\n",
       "      <td>273</td>\n",
       "    </tr>\n",
       "    <tr>\n",
       "      <th>SEZ</th>\n",
       "      <td>171</td>\n",
       "      <td>171</td>\n",
       "      <td>171</td>\n",
       "      <td>171</td>\n",
       "    </tr>\n",
       "    <tr>\n",
       "      <th>SWA</th>\n",
       "      <td>497</td>\n",
       "      <td>497</td>\n",
       "      <td>497</td>\n",
       "      <td>497</td>\n",
       "    </tr>\n",
       "    <tr>\n",
       "      <th>SWZ</th>\n",
       "      <td>765</td>\n",
       "      <td>765</td>\n",
       "      <td>765</td>\n",
       "      <td>765</td>\n",
       "    </tr>\n",
       "    <tr>\n",
       "      <th>SZ</th>\n",
       "      <td>103</td>\n",
       "      <td>103</td>\n",
       "      <td>103</td>\n",
       "      <td>103</td>\n",
       "    </tr>\n",
       "    <tr>\n",
       "      <th>TB</th>\n",
       "      <td>307</td>\n",
       "      <td>307</td>\n",
       "      <td>307</td>\n",
       "      <td>307</td>\n",
       "    </tr>\n",
       "    <tr>\n",
       "      <th>TM</th>\n",
       "      <td>288</td>\n",
       "      <td>288</td>\n",
       "      <td>288</td>\n",
       "      <td>288</td>\n",
       "    </tr>\n",
       "    <tr>\n",
       "      <th>TRM</th>\n",
       "      <td>1006</td>\n",
       "      <td>1006</td>\n",
       "      <td>1006</td>\n",
       "      <td>1006</td>\n",
       "    </tr>\n",
       "    <tr>\n",
       "      <th>TRW</th>\n",
       "      <td>839</td>\n",
       "      <td>839</td>\n",
       "      <td>839</td>\n",
       "      <td>839</td>\n",
       "    </tr>\n",
       "    <tr>\n",
       "      <th>U</th>\n",
       "      <td>114</td>\n",
       "      <td>114</td>\n",
       "      <td>114</td>\n",
       "      <td>114</td>\n",
       "    </tr>\n",
       "    <tr>\n",
       "      <th>WA</th>\n",
       "      <td>850</td>\n",
       "      <td>850</td>\n",
       "      <td>850</td>\n",
       "      <td>850</td>\n",
       "    </tr>\n",
       "    <tr>\n",
       "      <th>WS</th>\n",
       "      <td>319</td>\n",
       "      <td>319</td>\n",
       "      <td>319</td>\n",
       "      <td>319</td>\n",
       "    </tr>\n",
       "    <tr>\n",
       "      <th>WW</th>\n",
       "      <td>279</td>\n",
       "      <td>279</td>\n",
       "      <td>279</td>\n",
       "      <td>279</td>\n",
       "    </tr>\n",
       "    <tr>\n",
       "      <th>WZ</th>\n",
       "      <td>2264</td>\n",
       "      <td>2264</td>\n",
       "      <td>2264</td>\n",
       "      <td>2264</td>\n",
       "    </tr>\n",
       "  </tbody>\n",
       "</table>\n",
       "</div>"
      ],
      "text/plain": [
       "      date   WLK    GT    ZF\n",
       "GWL                         \n",
       "BM    1692  1692  1692  1692\n",
       "HB     455   455   455   455\n",
       "HFA    386   386   386   386\n",
       "HFZ    234   234   234   234\n",
       "HM     805   805   805   805\n",
       "HNA    268   268   268   268\n",
       "HNFA   211   211   211   211\n",
       "HNFZ   246   246   246   246\n",
       "HNZ    289   289   289   289\n",
       "NA     100   100   100   100\n",
       "NEA    128   128   128   128\n",
       "NEZ    141   141   141   141\n",
       "NWA    433   433   433   433\n",
       "NWZ    746   746   746   746\n",
       "NZ     281   281   281   281\n",
       "SA     243   243   243   243\n",
       "SEA    273   273   273   273\n",
       "SEZ    171   171   171   171\n",
       "SWA    497   497   497   497\n",
       "SWZ    765   765   765   765\n",
       "SZ     103   103   103   103\n",
       "TB     307   307   307   307\n",
       "TM     288   288   288   288\n",
       "TRM   1006  1006  1006  1006\n",
       "TRW    839   839   839   839\n",
       "U      114   114   114   114\n",
       "WA     850   850   850   850\n",
       "WS     319   319   319   319\n",
       "WW     279   279   279   279\n",
       "WZ    2264  2264  2264  2264"
      ]
     },
     "execution_count": 37,
     "metadata": {},
     "output_type": "execute_result"
    }
   ],
   "source": [
    "gwl.groupby(\"GWL\").count()"
   ]
  },
  {
   "cell_type": "code",
   "execution_count": 38,
   "metadata": {},
   "outputs": [],
   "source": [
    "gwl_date_collection = []\n",
    "gwl_count = []\n",
    "\n",
    "for d in dates:\n",
    "    haci_subset = haci_cases[haci_cases.date==d]\n",
    "    \n",
    "    dd = int(d.replace(\"-\",\"\"))\n",
    "    \n",
    "    date_gwl = gwl[gwl.date==int(dd)].GWL.values[0]\n",
    "    \n",
    "    gwl_date_collection.append(date_gwl)\n",
    "    \n",
    "    gwl_count.extend([date_gwl]*len(haci_subset.dt))"
   ]
  },
  {
   "cell_type": "code",
   "execution_count": 39,
   "metadata": {},
   "outputs": [],
   "source": [
    "gwl_date_collection = np.array(gwl_date_collection)"
   ]
  },
  {
   "cell_type": "code",
   "execution_count": 40,
   "metadata": {},
   "outputs": [],
   "source": [
    "date_gwl, date_gwl_count = np.unique(gwl_date_collection,return_counts=True)"
   ]
  },
  {
   "cell_type": "code",
   "execution_count": 41,
   "metadata": {},
   "outputs": [],
   "source": [
    "gwl_count = np.array(gwl_count)\n",
    "case_gwl, case_gwl_count = np.unique(gwl_count,return_counts=True)"
   ]
  },
  {
   "cell_type": "code",
   "execution_count": 49,
   "metadata": {},
   "outputs": [
    {
     "data": {
      "text/plain": [
       "array([0.0645811 , 0.0121483 , 0.01730975, 0.04229873, 0.02045698,\n",
       "       0.01409958, 0.00704979, 0.07043495, 0.05772015, 0.00270662,\n",
       "       0.00434317, 0.01630264, 0.01529552, 0.01454019, 0.00591679,\n",
       "       0.00755335, 0.00446906, 0.01189652, 0.01491786, 0.08434569,\n",
       "       0.02253415, 0.05211808, 0.04443885, 0.08736703, 0.0958016 ,\n",
       "       0.00780512, 0.05488764, 0.01114118, 0.02014225, 0.11537735])"
      ]
     },
     "execution_count": 49,
     "metadata": {},
     "output_type": "execute_result"
    }
   ],
   "source": [
    "case_gwl_count / np.sum(case_gwl_count)"
   ]
  },
  {
   "cell_type": "code",
   "execution_count": 43,
   "metadata": {},
   "outputs": [
    {
     "data": {
      "text/plain": [
       "array(['BM', 'HB', 'HFA', 'HFZ', 'HM', 'HNA', 'HNFA', 'HNFZ', 'HNZ', 'NA',\n",
       "       'NEA', 'NEZ', 'NWA', 'NWZ', 'NZ', 'SA', 'SEA', 'SEZ', 'SWA', 'SWZ',\n",
       "       'SZ', 'TB', 'TM', 'TRM', 'TRW', 'U', 'WA', 'WS', 'WW', 'WZ'],\n",
       "      dtype='<U4')"
      ]
     },
     "execution_count": 43,
     "metadata": {},
     "output_type": "execute_result"
    }
   ],
   "source": [
    "case_gwl"
   ]
  },
  {
   "cell_type": "code",
   "execution_count": 50,
   "metadata": {},
   "outputs": [
    {
     "data": {
      "text/plain": [
       "array([0.07645875, 0.01509054, 0.02112676, 0.02112676, 0.03219316,\n",
       "       0.01458753, 0.0055332 , 0.03571429, 0.03672032, 0.00603622,\n",
       "       0.00955734, 0.01509054, 0.01961771, 0.03470825, 0.01408451,\n",
       "       0.01559356, 0.00855131, 0.00754527, 0.01861167, 0.08199195,\n",
       "       0.01760563, 0.03269618, 0.02967807, 0.10060362, 0.08953722,\n",
       "       0.00804829, 0.06187123, 0.01609658, 0.01961771, 0.13430584])"
      ]
     },
     "execution_count": 50,
     "metadata": {},
     "output_type": "execute_result"
    }
   ],
   "source": [
    "date_gwl_count / np.sum(date_gwl_count)"
   ]
  },
  {
   "cell_type": "code",
   "execution_count": 53,
   "metadata": {},
   "outputs": [],
   "source": [
    "gwl_count_ratio = case_gwl_count / np.sum(date_gwl_count)"
   ]
  },
  {
   "cell_type": "code",
   "execution_count": 56,
   "metadata": {},
   "outputs": [
    {
     "data": {
      "image/png": "[encoded data removed]",
      "text/plain": [
       "<Figure size 864x576 with 1 Axes>"
      ]
     },
     "metadata": {
      "needs_background": "light"
     },
     "output_type": "display_data"
    }
   ],
   "source": [
    "fig,ax = plt.subplots(1,1,figsize=(12,8))\n",
    "ax.bar(case_gwl,gwl_count_ratio)\n",
    "plt.xticks(rotation=90)\n",
    "ax.set_title(\"Häufigkeit von Fällen an Tagen mit einer bestimmten GWL\")\n",
    "ax.set_xlabel(\"Großwetterlage\")\n",
    "ax.set_ylabel(\"rel. Häufigkeit\")\n",
    "plt.savefig(\"/vols/satellite/home/lenk/proj/2020-05_EMF-Vortrag/fall_gwl.pdf\")"
   ]
  }
 ],
 "metadata": {
  "kernelspec": {
   "display_name": "Python 3",
   "language": "python",
   "name": "python3"
  },
  "language_info": {
   "codemirror_mode": {
    "name": "ipython",
    "version": 3
   },
   "file_extension": ".py",
   "mimetype": "text/x-python",
   "name": "python",
   "nbconvert_exporter": "python",
   "pygments_lexer": "ipython3",
   "version": "3.7.4"
  },
  "latex_envs": {
   "LaTeX_envs_menu_present": true,
   "autoclose": false,
   "autocomplete": true,
   "bibliofile": "biblio.bib",
   "cite_by": "apalike",
   "current_citInitial": 1,
   "eqLabelWithNumbers": true,
   "eqNumInitial": 1,
   "hotkeys": {
    "equation": "Ctrl-E",
    "itemize": "Ctrl-I"
   },
   "labels_anchors": false,
   "latex_user_defs": false,
   "report_style_numbering": false,
   "user_envs_cfg": false
  }
 },
 "nbformat": 4,
 "nbformat_minor": 4
}
