{
 "cells": [
  {
   "cell_type": "markdown",
   "metadata": {},
   "source": [
    "# 3.2 Isolierte Konvektion\n",
    "\n",
    "Die Untersuchungen dieser Arbeit beschränken sich auf isolierte Konvektion. Die Gründe dafür sind folgende:\n",
    "\n",
    "1. Isolierte konvektive Entwicklungen sind meistens gut vom Satelliten aus zu verfolgen.\n",
    "2. Die Atmosphärenprozesse, die dazu geführt haben, dass sich eine isolierte konvektive Wolke gebildet hat,  sollten relativ einfach zu verstehen und nachzuverfolgen sein\n",
    "3. Die vorhandene Literatur zum Thema konvektive Auslösung mit Satellitenbeobachtungsdaten zu erkennen, basiert meistens auf relativ wenigen handselektierten Fällen. Diese Fälle sind fast ausschließlich isolierte Entwicklungen oder zumindest Einzelzellen. Um die Ergebnisse dieser Arbeit mit denen früherer Studien vergleichen zu können, wurde der Fokus auf isolierter Konvektion gelegt.\n",
    "\n",
    "Die Beschränkung auf isolierte Konvektion bringt auch einige Einschränkungen mit sich:\n",
    "\n",
    "1. Isolierte Konvektion ist in Mitteleuropa relativ selten und deshalb nicht der typischste Konvektionstyp.\n",
    "2. Die physikalischen Rahmenbedingungen, die zur Entstehung von isolierter Konvektion führen sind im Vergleich zu anderen Konvektionsarten relativ unkomplex und deshalb sind die Ergebnisse dieser Arbeit nicht unbedingt direkt übertragbar. Sie können aber als Ansatzpunkt für weitere Untersuchungen dienen.\n",
    "\n",
    "Da isolierte Konvektion relativ selten ist, wurde der Zehnjahreszeitraum von 2008 bis 2017 betrachtet, um einen ausreichend großen Datensatz für robuste Aussagen zu erhalten. Da dieser Zeitraum eine Analyse von großen Datenmengen notwendig macht, wurde ein automatisierter Ansatz auf Grundlage von Wetterradardaten entwickelt, um Fälle mit isolierte Konvektion herauszufiltern.\n",
    "\n",
    "Der verwendete Ansatz basiert auf dem in Haberlie et al. (2015) vorgestellten. Ein isoliertes konvektives Objekt wird dabei auf Grundlage des RADLOAN-RX-Komposits durch die folgenden drei Kriterien definiert:\n",
    "\n",
    "1. konvektive Auslösung: Zeischritt, zu dem der Radarreflektivitätsfaktor das erste mal Z&thinsp;&geq;&thinsp;35&thinsp;dBZ wird\n",
    "2. Dauerkriterium: Radarreflektivitätsfaktor Z&thinsp;&geq;&thinsp;35&thinsp;dBZ für mehr als 30&thinsp;min\n",
    "2. Abstandskriterium: Ein Mindestabstand von 15&thinsp;km zu einem bereits existierenden Objekt\n",
    "\n",
    "## 3.2.1 Filter\n",
    "\n",
    "Da die so erstellte Datenbank auf dem unkorrigierten RADOLAN-RX-Komposit fußt, wurde eine Reihe von Filtern nachgeschaltet, die dazu dienen auf nichtmeteorologischen Radarsignalen basierende Objekte herauszufiltern. Die dfür verwendetet Filter lassen sich wie folgt einteilen:\n",
    "\n",
    "1. technische Filter: Filter, um nichtmeteorologische Radarechos zu filtern. Dieser Filter besteht aus einer Mindestfläche von 10&thinsp;km², die ein Radarsignal mit mehr als 35&thinsp;dBZ haben muss, um als möglicher Kandidat betrachtet zu werden. Darüber hinaus werden nur Radarechos als Kandidaten betrachtet\n",
    "2. Wolkenfilter: mehrere Filterstufen auf Grundlage von radar-und satellitenbasierten Eigenschaften"
   ]
  }
 ],
 "metadata": {
  "kernelspec": {
   "display_name": "Python 3",
   "language": "python",
   "name": "python3"
  },
  "language_info": {
   "codemirror_mode": {
    "name": "ipython",
    "version": 3
   },
   "file_extension": ".py",
   "mimetype": "text/x-python",
   "name": "python",
   "nbconvert_exporter": "python",
   "pygments_lexer": "ipython3",
   "version": "3.7.4"
  },
  "latex_envs": {
   "LaTeX_envs_menu_present": true,
   "autoclose": false,
   "autocomplete": true,
   "bibliofile": "biblio.bib",
   "cite_by": "apalike",
   "current_citInitial": 1,
   "eqLabelWithNumbers": true,
   "eqNumInitial": 1,
   "hotkeys": {
    "equation": "Ctrl-E",
    "itemize": "Ctrl-I"
   },
   "labels_anchors": false,
   "latex_user_defs": false,
   "report_style_numbering": false,
   "user_envs_cfg": false
  }
 },
 "nbformat": 4,
 "nbformat_minor": 4
}
