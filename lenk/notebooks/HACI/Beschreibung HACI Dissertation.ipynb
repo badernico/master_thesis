{
 "cells": [
  {
   "cell_type": "markdown",
   "metadata": {},
   "source": [
    "# 3. Methoden\n",
    "\n",
    "## 3.1 Konvektive Auslösung\n",
    "Der Begriff Konvektive Auslösung (Convective Initation, CI) ist in der Literatur nicht genau\n",
    "definiert. Je nach Studie und Studienziel erfolgt die Definition für CI unterschiedlich. Haberlie\n",
    "et al. (2015) haben eine Übersicht über die häufigsten verwendeten Definitionen erstellt. Diese\n",
    "haben gemeinsam, dass die Definition immer auf Grundlage von Niederschlagsradardaten mit\n",
    "einem Schwellwert erfolgt. Oftmals wird der Radarreflektivitätsfaktor Z verwendet und die\n",
    "Schwellwerte liegen zwischen 28 dB Z bis 40 dB Z. Am häufigsten werden 35 dB Z verwendet.\n",
    "Wenn ein zu einer Wolke gehörendes Niederschlagsfeld diesen Schwellwert überschreitet,\n",
    "wird das als Zeitpunkt gewertet, an dem die konvektive Auslösung stattgefunden hat. Manche\n",
    "Studien benutzten zusätzlich Abstandskriterien und Zeitkriterien, sowie den Radarreflektivitäts-\n",
    "faktor einer bestimmten Höhe. Die Abstandskriterien erlauben eine Detektion von einer neuen\n",
    "konvektiven Auslösung nur in einem bestimmten Abstand von bereits vorhandener, aktiver\n",
    "Konvektion. Die Abstände reichen hier von 13 km bis 231 km. Die verwendeten Zeitkriterien\n",
    "dienen dazu nur Niederschlagsfelder, die für mindestens eine gewisse Zeit den Z -Schwellwert\n",
    "überschreiten, als tatsächliche konvektive Objekte zu definieren. Es werden also Objekte mit\n",
    "einer zu kurzen Niederschlagsdauer ausgeschlossen. Die verwendeten Mindestniederschlags-\n",
    "dauern liegen zwischen 20 min bis 240 min, aber meistens bei mindestens 30 min.\n",
    "Ausgehend von dieser Übersicht und um die Vergleichbarkeit mit früheren Studien zur\n",
    "Detektion von konvektiver Auslösung mit Satellitenbeobachtungsdaten zu gewährleisten wird\n",
    "konvektive Auslösung im Rahmen dieser Arbeit folgendermaßen definiert: Z&thinsp;≥&thinsp;35&thinsp;dB&thinsp;Z für\n",
    "mindestens 30&thinso;min.\n",
    "\n",
    "## 3.2 Isolierte Konvektion\n",
    "In der vorliegenden Arbeit wurden nur isolierte Konvektion betrachtet. Isolierte Konvektion\n",
    "ist in Mitteleuropa nicht die typischste Konvektionsart und deshalb relativ selten, aber die\n",
    "Beschränkung auf diese Konvektionsart hat einige Vorteile:\n",
    "\n",
    "1. Isolierte Konvektion sollten im Satellitenbild gut zu identifizieren und zu verfolgen sein.\n",
    "2. Die Eigenschaften von isolierter Konvektion sollten deshalb recht zuverlässig abzuleiten sein.\n",
    "3. Die Prozesse, die dazu führen, dass isolierte Konvektion entsteht sollten räumlich relativ gut begrenzt sein und deshalb gut nachverfolgbar und zu verstehen sein.\n",
    "4. Die bisherige Literatur zur Erkennung von konvektiver Auslösung mit Satellitenbeobachtungsdaten basiert meistens auf handselektierten konvektiven Ereignissen. Dabei handelt es sich in den meisten Fällen auch um isolierte Konvektion oder zumindest Einzelzellengewitter. Sich auf isolierte Konvektion zu konzentrieren erlaubt es deshalb\n",
    "die Ergebnisse dieser Arbeit mit bereits vorhanden Studien zu vergleichen.\n",
    "\n",
    "\n",
    "Um robuste Aussagen über die Eigenschaften von isolierter Konvektion wurde der Zehnjah-\n",
    "reszeitraum von 2008 bis 2017 betrachtet. Um einen derartig langen Zeitraum zu untersuchen,\n",
    "ist eine automatisierte Auswahl der isolierten konvektiven Fälle notwendig. Ausgehend von\n",
    "der in Abschnitt 3.1 dargestellten Definition für CI wurde folgender auf der Vorgehensweise\n",
    "von Haberlie et al. (2015) basierender leicht angepasster Ansatz verwendet (Abb. 3.1):\n",
    "\n",
    "1. Es werden ausgehend vom RADOLAN-RX-Komposit aktive konvektive Bereiche gesucht.\n",
    "Das geschieht dadurch, dass alle Bereiche mit Z&thinsp;≥&thinsp;35&thinsp;dB&thinsp;Z ermittelt werden.\n",
    "2. Um diese Bereiche wir ein kreisförmiger Puffer mit einem Radius r&thinsp;=&thinsp;15&thinsp;km gelegt.\n",
    "3. Im nächsten Zeitschritt werden neu entstandene Niederschlagsbereiche mit Z&thinsp;≥&thinsp;35&thinsp;dB&thinsp;Z gesucht, die außerhalb des Puffers liegen.\n",
    "4. Wenn ein solcher neu entstandener Niederschlagsbereich länger als 30&thinsp;min mehr als 35&thinsp;dB&thinsp;Z aufrecht erhält, wird er als isoliertes konvektives Objekt gespeichert."
   ]
  }
 ],
 "metadata": {
  "kernelspec": {
   "display_name": "Python 3",
   "language": "python",
   "name": "python3"
  },
  "language_info": {
   "codemirror_mode": {
    "name": "ipython",
    "version": 3
   },
   "file_extension": ".py",
   "mimetype": "text/x-python",
   "name": "python",
   "nbconvert_exporter": "python",
   "pygments_lexer": "ipython3",
   "version": "3.7.4"
  },
  "latex_envs": {
   "LaTeX_envs_menu_present": true,
   "autoclose": false,
   "autocomplete": true,
   "bibliofile": "biblio.bib",
   "cite_by": "apalike",
   "current_citInitial": 1,
   "eqLabelWithNumbers": true,
   "eqNumInitial": 1,
   "hotkeys": {
    "equation": "Ctrl-E",
    "itemize": "Ctrl-I"
   },
   "labels_anchors": false,
   "latex_user_defs": false,
   "report_style_numbering": false,
   "user_envs_cfg": false
  }
 },
 "nbformat": 4,
 "nbformat_minor": 4
}
