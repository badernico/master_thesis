{
 "cells": [
  {
   "cell_type": "markdown",
   "metadata": {},
   "source": [
    "# 3 Überprüfung des HACI-Algorithmus\n",
    "\n",
    "Bei der Überprüfung der Filterwerte zeigte sich ein seltsames Verhalten des Datensatzes. Es scheint keine Objekte zu geben, die länger als 35 Minuten vorhanden sind und eine Fläche klei"
   ]
  },
  {
   "cell_type": "code",
   "execution_count": 4,
   "metadata": {},
   "outputs": [],
   "source": [
    "import numpy as np\n",
    "import datetime as dt\n",
    "import haci as hci\n",
    "from io_tools import radolan\n",
    "import matplotlib.pyplot as plt\n",
    "from matplotlib import colors as mcolors\n",
    "from plotting_tools.colormaps import radar_cmap as rc\n",
    "from skimage.morphology import disk as selem_disk, dilation\n",
    "from skimage.measure import regionprops as regionprops\n",
    "from scipy.ndimage import label as ndi_label\n",
    "from scipy import ndimage as ndi\n",
    "from importlib import reload\n",
    "\n",
    "import fixed_colourbar as fc"
   ]
  },
  {
   "cell_type": "code",
   "execution_count": 148,
   "metadata": {},
   "outputs": [
    {
     "data": {
      "text/plain": [
       "<module 'haci' from '/vols/satellite/home/lenk/anaconda3/envs/tracking/lib/python3.7/site-packages/haci-0.2.0-py3.7.egg/haci/__init__.py'>"
      ]
     },
     "execution_count": 148,
     "metadata": {},
     "output_type": "execute_result"
    }
   ],
   "source": [
    "reload(hci)"
   ]
  },
  {
   "cell_type": "code",
   "execution_count": 5,
   "metadata": {},
   "outputs": [],
   "source": [
    "rx_data_path = \"/vols/satellite/datasets/ground/radolan/rx_hdcp2\""
   ]
  },
  {
   "cell_type": "code",
   "execution_count": 6,
   "metadata": {},
   "outputs": [],
   "source": [
    "def time2index(t,dt=5):\n",
    "    t = (t.hour*60 + t.minute)/dt \n",
    "    return int(t)"
   ]
  },
  {
   "cell_type": "code",
   "execution_count": 7,
   "metadata": {},
   "outputs": [],
   "source": [
    "date = dt.datetime(2008,1,4,12,0)\n",
    "file_name = \"{path}/{year}/hdfd_miub_drnet00_l3_dbz_v00_{d}000000.nc\".format(path = rx_data_path,\n",
    "                                                                             year = date.year,\n",
    "                                                                             d=date.strftime(\"%Y%m%d\"))\n",
    "rx_file = hci.read_rx_hdcp2(file_name)"
   ]
  },
  {
   "cell_type": "code",
   "execution_count": 10,
   "metadata": {},
   "outputs": [],
   "source": [
    "camask = hci.ca_mask(rx_file.dbz,35)\n",
    "\n",
    "# 2. label connected regions above 35dBz\n",
    "selem = np.zeros((3,3,3))\n",
    "selem[1,:,:]=1\n",
    "objmap, nr_obj = hci.label_objects(camask,selem)\n",
    "\n",
    "# 3a. get mask of invalid data...\n",
    "fillmask = (rx_file.dbz.values==250)\n",
    "# 3b. ... and build buffer mask around existing convection/borders\n",
    "bufmask = hci.buffer_mask(camask|fillmask,radius=15)\n",
    "\n",
    "# 4a. get mask of new CI grid cells ...\n",
    "cimask = hci.ci_mask(camask,bufmask)\n",
    "# 4b. ... and extract their object labels\n",
    "ci_labels = np.unique(objmap[cimask])"
   ]
  },
  {
   "cell_type": "markdown",
   "metadata": {},
   "source": [
    "## Hoffentlich schnellerer und ähnlich genauer Ansatz\n",
    "\n",
    "Hartwigs Ansatz ist wahrscheinlich sehr präzise, aber auch langsam. Vielleicht können wir das Ganze etwas beschleunigen, indem wir eine 3D-Markierung auf die Schnittflächen der HACI-Objekte über die Zeit durchführen."
   ]
  },
  {
   "cell_type": "code",
   "execution_count": 14,
   "metadata": {},
   "outputs": [],
   "source": [
    "selem = np.ones((3,3))"
   ]
  },
  {
   "cell_type": "code",
   "execution_count": 19,
   "metadata": {},
   "outputs": [],
   "source": [
    "om_dil = dilation(np.ma.masked_greater(objmap,0).mask,selem[None,:,:])"
   ]
  },
  {
   "cell_type": "code",
   "execution_count": 36,
   "metadata": {},
   "outputs": [],
   "source": [
    "om_dil_lab = ndi.label(om_dil)[0]"
   ]
  },
  {
   "cell_type": "code",
   "execution_count": 37,
   "metadata": {},
   "outputs": [
    {
     "data": {
      "text/plain": [
       "<matplotlib.image.AxesImage at 0x7f2a18b34110>"
      ]
     },
     "execution_count": 37,
     "metadata": {},
     "output_type": "execute_result"
    },
    {
     "data": {
      "image/png": "[encoded data removed]",
      "text/plain": [
       "<Figure size 432x288 with 1 Axes>"
      ]
     },
     "metadata": {
      "needs_background": "light"
     },
     "output_type": "display_data"
    }
   ],
   "source": [
    "plt.imshow(om_dil_lab[136])"
   ]
  },
  {
   "cell_type": "code",
   "execution_count": 38,
   "metadata": {},
   "outputs": [
    {
     "data": {
      "text/plain": [
       "4612"
      ]
     },
     "execution_count": 38,
     "metadata": {},
     "output_type": "execute_result"
    }
   ],
   "source": [
    "np.max(om_dil_lab)"
   ]
  },
  {
   "cell_type": "code",
   "execution_count": 35,
   "metadata": {},
   "outputs": [],
   "source": [
    "obj = ndi.find_objects(om_dil_lab)"
   ]
  },
  {
   "cell_type": "code",
   "execution_count": 38,
   "metadata": {},
   "outputs": [],
   "source": [
    "DT = [ ]\n",
    "\n",
    "for o in obj:\n",
    "    try:\n",
    "        DT.append(o[0].stop - o[0].start)\n",
    "    except:\n",
    "        continue"
   ]
  },
  {
   "cell_type": "code",
   "execution_count": 39,
   "metadata": {},
   "outputs": [
    {
     "data": {
      "text/plain": [
       "array([ 1,  2,  3,  4,  5,  6,  7,  8,  9, 10, 11, 12, 13, 14, 15, 16, 17,\n",
       "       18, 19, 20, 21, 22, 23, 24, 25, 26, 27, 39, 44, 45, 46, 62, 63, 69])"
      ]
     },
     "execution_count": 39,
     "metadata": {},
     "output_type": "execute_result"
    }
   ],
   "source": [
    "np.unique(np.array(DT))"
   ]
  },
  {
   "cell_type": "code",
   "execution_count": 39,
   "metadata": {},
   "outputs": [
    {
     "data": {
      "text/plain": [
       "array([[False, False, False, ..., False, False, False],\n",
       "       [False, False, False, ..., False, False, False],\n",
       "       [False, False, False, ..., False, False, False],\n",
       "       ...,\n",
       "       [False, False, False, ..., False, False, False],\n",
       "       [False, False, False, ..., False, False, False],\n",
       "       [False, False, False, ..., False, False, False]])"
      ]
     },
     "execution_count": 39,
     "metadata": {},
     "output_type": "execute_result"
    }
   ],
   "source": [
    "om_dil[0]"
   ]
  },
  {
   "cell_type": "markdown",
   "metadata": {},
   "source": [
    "Das funktioniert ganz gut. Als nächstes suchen wir uns daraus die isolierten Objekte heraus."
   ]
  },
  {
   "cell_type": "code",
   "execution_count": 73,
   "metadata": {},
   "outputs": [],
   "source": [
    "oids = np.unique(om_dil_lab[cimask])"
   ]
  },
  {
   "cell_type": "code",
   "execution_count": 87,
   "metadata": {},
   "outputs": [],
   "source": [
    "om_ci = hci.filter_objects(om_dil_lab,oids)"
   ]
  },
  {
   "cell_type": "code",
   "execution_count": 88,
   "metadata": {},
   "outputs": [],
   "source": [
    "m = (om_ci>0) & (objmap>0)"
   ]
  },
  {
   "cell_type": "code",
   "execution_count": 98,
   "metadata": {},
   "outputs": [],
   "source": [
    "objects = om_dil_lab * m"
   ]
  },
  {
   "cell_type": "code",
   "execution_count": 94,
   "metadata": {},
   "outputs": [
    {
     "data": {
      "text/plain": [
       "<matplotlib.image.AxesImage at 0x7f2a14863a10>"
      ]
     },
     "execution_count": 94,
     "metadata": {},
     "output_type": "execute_result"
    },
    {
     "data": {
      "image/png": "[encoded data removed]",
      "text/plain": [
       "<Figure size 1080x360 with 3 Axes>"
      ]
     },
     "metadata": {
      "needs_background": "light"
     },
     "output_type": "display_data"
    }
   ],
   "source": [
    "fig,ax = plt.subplots(1,3,figsize=(15,5))\n",
    "ax[0].imshow(objmap[144])\n",
    "ax[1].imshow(om_dil_lab[144])\n",
    "ax[2].imshow(objects[144])"
   ]
  },
  {
   "cell_type": "code",
   "execution_count": 100,
   "metadata": {},
   "outputs": [],
   "source": [
    "objectprops2 = hci.object_props(rx_file.time,objects,cimask)"
   ]
  },
  {
   "cell_type": "code",
   "execution_count": 101,
   "metadata": {},
   "outputs": [
    {
     "data": {
      "text/html": [
       "<div>\n",
       "<style scoped>\n",
       "    .dataframe tbody tr th:only-of-type {\n",
       "        vertical-align: middle;\n",
       "    }\n",
       "\n",
       "    .dataframe tbody tr th {\n",
       "        vertical-align: top;\n",
       "    }\n",
       "\n",
       "    .dataframe thead th {\n",
       "        text-align: right;\n",
       "    }\n",
       "</style>\n",
       "<table border=\"1\" class=\"dataframe\">\n",
       "  <thead>\n",
       "    <tr style=\"text-align: right;\">\n",
       "      <th></th>\n",
       "      <th>time</th>\n",
       "      <th>id</th>\n",
       "      <th>flags</th>\n",
       "      <th>t0</th>\n",
       "      <th>t1</th>\n",
       "      <th>l00</th>\n",
       "      <th>l01</th>\n",
       "      <th>c00</th>\n",
       "      <th>c01</th>\n",
       "      <th>l0</th>\n",
       "      <th>l1</th>\n",
       "      <th>c0</th>\n",
       "      <th>c1</th>\n",
       "    </tr>\n",
       "  </thead>\n",
       "  <tbody>\n",
       "    <tr>\n",
       "      <th>2013-06-18-000022</th>\n",
       "      <td>2013-06-18 00:00:00</td>\n",
       "      <td>22</td>\n",
       "      <td>0</td>\n",
       "      <td>0</td>\n",
       "      <td>62</td>\n",
       "      <td>536</td>\n",
       "      <td>553</td>\n",
       "      <td>676</td>\n",
       "      <td>718</td>\n",
       "      <td>527</td>\n",
       "      <td>571</td>\n",
       "      <td>674</td>\n",
       "      <td>899</td>\n",
       "    </tr>\n",
       "    <tr>\n",
       "      <th>2013-06-18-000053</th>\n",
       "      <td>2013-06-18 00:05:00</td>\n",
       "      <td>53</td>\n",
       "      <td>0</td>\n",
       "      <td>1</td>\n",
       "      <td>2</td>\n",
       "      <td>88</td>\n",
       "      <td>89</td>\n",
       "      <td>598</td>\n",
       "      <td>599</td>\n",
       "      <td>88</td>\n",
       "      <td>89</td>\n",
       "      <td>598</td>\n",
       "      <td>599</td>\n",
       "    </tr>\n",
       "    <tr>\n",
       "      <th>2013-06-18-000056</th>\n",
       "      <td>2013-06-18 00:05:00</td>\n",
       "      <td>56</td>\n",
       "      <td>0</td>\n",
       "      <td>1</td>\n",
       "      <td>2</td>\n",
       "      <td>195</td>\n",
       "      <td>196</td>\n",
       "      <td>539</td>\n",
       "      <td>541</td>\n",
       "      <td>195</td>\n",
       "      <td>196</td>\n",
       "      <td>539</td>\n",
       "      <td>541</td>\n",
       "    </tr>\n",
       "    <tr>\n",
       "      <th>2013-06-18-000057</th>\n",
       "      <td>2013-06-18 00:05:00</td>\n",
       "      <td>57</td>\n",
       "      <td>0</td>\n",
       "      <td>1</td>\n",
       "      <td>2</td>\n",
       "      <td>214</td>\n",
       "      <td>215</td>\n",
       "      <td>583</td>\n",
       "      <td>584</td>\n",
       "      <td>214</td>\n",
       "      <td>215</td>\n",
       "      <td>583</td>\n",
       "      <td>584</td>\n",
       "    </tr>\n",
       "    <tr>\n",
       "      <th>2013-06-18-000058</th>\n",
       "      <td>2013-06-18 00:05:00</td>\n",
       "      <td>58</td>\n",
       "      <td>0</td>\n",
       "      <td>1</td>\n",
       "      <td>2</td>\n",
       "      <td>223</td>\n",
       "      <td>224</td>\n",
       "      <td>612</td>\n",
       "      <td>613</td>\n",
       "      <td>223</td>\n",
       "      <td>224</td>\n",
       "      <td>612</td>\n",
       "      <td>613</td>\n",
       "    </tr>\n",
       "    <tr>\n",
       "      <th>...</th>\n",
       "      <td>...</td>\n",
       "      <td>...</td>\n",
       "      <td>...</td>\n",
       "      <td>...</td>\n",
       "      <td>...</td>\n",
       "      <td>...</td>\n",
       "      <td>...</td>\n",
       "      <td>...</td>\n",
       "      <td>...</td>\n",
       "      <td>...</td>\n",
       "      <td>...</td>\n",
       "      <td>...</td>\n",
       "      <td>...</td>\n",
       "    </tr>\n",
       "    <tr>\n",
       "      <th>2013-06-18-004598</th>\n",
       "      <td>2013-06-18 23:55:00</td>\n",
       "      <td>4598</td>\n",
       "      <td>0</td>\n",
       "      <td>287</td>\n",
       "      <td>288</td>\n",
       "      <td>414</td>\n",
       "      <td>415</td>\n",
       "      <td>431</td>\n",
       "      <td>433</td>\n",
       "      <td>414</td>\n",
       "      <td>415</td>\n",
       "      <td>431</td>\n",
       "      <td>433</td>\n",
       "    </tr>\n",
       "    <tr>\n",
       "      <th>2013-06-18-004600</th>\n",
       "      <td>2013-06-18 23:55:00</td>\n",
       "      <td>4600</td>\n",
       "      <td>0</td>\n",
       "      <td>287</td>\n",
       "      <td>288</td>\n",
       "      <td>477</td>\n",
       "      <td>478</td>\n",
       "      <td>333</td>\n",
       "      <td>334</td>\n",
       "      <td>477</td>\n",
       "      <td>478</td>\n",
       "      <td>333</td>\n",
       "      <td>334</td>\n",
       "    </tr>\n",
       "    <tr>\n",
       "      <th>2013-06-18-004601</th>\n",
       "      <td>2013-06-18 23:55:00</td>\n",
       "      <td>4601</td>\n",
       "      <td>0</td>\n",
       "      <td>287</td>\n",
       "      <td>288</td>\n",
       "      <td>486</td>\n",
       "      <td>487</td>\n",
       "      <td>345</td>\n",
       "      <td>347</td>\n",
       "      <td>486</td>\n",
       "      <td>487</td>\n",
       "      <td>345</td>\n",
       "      <td>347</td>\n",
       "    </tr>\n",
       "    <tr>\n",
       "      <th>2013-06-18-004605</th>\n",
       "      <td>2013-06-18 23:55:00</td>\n",
       "      <td>4605</td>\n",
       "      <td>0</td>\n",
       "      <td>287</td>\n",
       "      <td>288</td>\n",
       "      <td>852</td>\n",
       "      <td>853</td>\n",
       "      <td>670</td>\n",
       "      <td>671</td>\n",
       "      <td>852</td>\n",
       "      <td>853</td>\n",
       "      <td>670</td>\n",
       "      <td>671</td>\n",
       "    </tr>\n",
       "    <tr>\n",
       "      <th>2013-06-18-004608</th>\n",
       "      <td>2013-06-18 23:55:00</td>\n",
       "      <td>4608</td>\n",
       "      <td>0</td>\n",
       "      <td>287</td>\n",
       "      <td>288</td>\n",
       "      <td>860</td>\n",
       "      <td>861</td>\n",
       "      <td>626</td>\n",
       "      <td>627</td>\n",
       "      <td>860</td>\n",
       "      <td>864</td>\n",
       "      <td>623</td>\n",
       "      <td>627</td>\n",
       "    </tr>\n",
       "  </tbody>\n",
       "</table>\n",
       "<p>2740 rows × 13 columns</p>\n",
       "</div>"
      ],
      "text/plain": [
       "                                 time    id  flags   t0   t1  l00  l01  c00  \\\n",
       "2013-06-18-000022 2013-06-18 00:00:00    22      0    0   62  536  553  676   \n",
       "2013-06-18-000053 2013-06-18 00:05:00    53      0    1    2   88   89  598   \n",
       "2013-06-18-000056 2013-06-18 00:05:00    56      0    1    2  195  196  539   \n",
       "2013-06-18-000057 2013-06-18 00:05:00    57      0    1    2  214  215  583   \n",
       "2013-06-18-000058 2013-06-18 00:05:00    58      0    1    2  223  224  612   \n",
       "...                               ...   ...    ...  ...  ...  ...  ...  ...   \n",
       "2013-06-18-004598 2013-06-18 23:55:00  4598      0  287  288  414  415  431   \n",
       "2013-06-18-004600 2013-06-18 23:55:00  4600      0  287  288  477  478  333   \n",
       "2013-06-18-004601 2013-06-18 23:55:00  4601      0  287  288  486  487  345   \n",
       "2013-06-18-004605 2013-06-18 23:55:00  4605      0  287  288  852  853  670   \n",
       "2013-06-18-004608 2013-06-18 23:55:00  4608      0  287  288  860  861  626   \n",
       "\n",
       "                   c01   l0   l1   c0   c1  \n",
       "2013-06-18-000022  718  527  571  674  899  \n",
       "2013-06-18-000053  599   88   89  598  599  \n",
       "2013-06-18-000056  541  195  196  539  541  \n",
       "2013-06-18-000057  584  214  215  583  584  \n",
       "2013-06-18-000058  613  223  224  612  613  \n",
       "...                ...  ...  ...  ...  ...  \n",
       "2013-06-18-004598  433  414  415  431  433  \n",
       "2013-06-18-004600  334  477  478  333  334  \n",
       "2013-06-18-004601  347  486  487  345  347  \n",
       "2013-06-18-004605  671  852  853  670  671  \n",
       "2013-06-18-004608  627  860  864  623  627  \n",
       "\n",
       "[2740 rows x 13 columns]"
      ]
     },
     "execution_count": 101,
     "metadata": {},
     "output_type": "execute_result"
    }
   ],
   "source": [
    "objectprops2"
   ]
  },
  {
   "cell_type": "code",
   "execution_count": 108,
   "metadata": {},
   "outputs": [],
   "source": [
    "def link_objects_fast(objmap,cimask):\n",
    "    \n",
    "    # dilation of object mask to enhace overlap\n",
    "    selem = np.ones((3,3))\n",
    "    object_mask_dilated = dilation(np.ma.masked_greater(objmap,0).mask,selem[None,:,:])\n",
    "    \n",
    "    # label dilated objectmask \n",
    "    object_mask_dilated = ndi.label(object_mask_dilated)[0]\n",
    "    \n",
    "    # get object labels of new developed CIs\n",
    "    object_labels = np.unique(object_mask_dilated[cimask])\n",
    "    \n",
    "    # remove all none CI objects\n",
    "    object_mask_ci = filter_objects(object_mask_dilated,object_labels)\n",
    "    \n",
    "    # create mask of undilated objects\n",
    "    object_mask = (object_mask_ci>0) & (objmap>0)\n",
    "    \n",
    "    # return 3D connected objects\n",
    "    objects = object_mask_dilated * object_mask\n",
    "    \n",
    "    return objects"
   ]
  },
  {
   "cell_type": "code",
   "execution_count": 125,
   "metadata": {},
   "outputs": [],
   "source": [
    "objects = link_objects_fast(objmap,cimask)"
   ]
  },
  {
   "cell_type": "code",
   "execution_count": 126,
   "metadata": {},
   "outputs": [],
   "source": [
    "objprops = hci.object_props(rx_file.time,objects,cimask)"
   ]
  },
  {
   "cell_type": "code",
   "execution_count": 127,
   "metadata": {},
   "outputs": [],
   "source": [
    "objprops = objprops.assign(dt=objprops.t1-objprops.t0,\n",
    "                           area0=(objprops.l01 - objprops.l00) * (objprops.c01 - objprops.c00),\n",
    "                           area_max=(objprops.l1 - objprops.l0) * (objprops.c1 - objprops.c0))"
   ]
  },
  {
   "cell_type": "code",
   "execution_count": 135,
   "metadata": {},
   "outputs": [
    {
     "data": {
      "text/plain": [
       "1370"
      ]
     },
     "execution_count": 135,
     "metadata": {},
     "output_type": "execute_result"
    }
   ],
   "source": [
    "len(objprops.dt)"
   ]
  },
  {
   "cell_type": "code",
   "execution_count": 133,
   "metadata": {},
   "outputs": [
    {
     "data": {
      "text/plain": [
       "count    1370.000000\n",
       "mean        1.178102\n",
       "std        11.782127\n",
       "min         0.000000\n",
       "25%         0.000000\n",
       "50%         0.000000\n",
       "75%         0.000000\n",
       "max       375.000000\n",
       "dtype: float64"
      ]
     },
     "execution_count": 133,
     "metadata": {},
     "output_type": "execute_result"
    }
   ],
   "source": [
    "(objprops.area_max - objprops.area0).describe()"
   ]
  },
  {
   "cell_type": "code",
   "execution_count": 134,
   "metadata": {},
   "outputs": [
    {
     "data": {
      "image/png": "[encoded data removed]",
      "text/plain": [
       "<Figure size 432x288 with 1 Axes>"
      ]
     },
     "metadata": {
      "needs_background": "light"
     },
     "output_type": "display_data"
    }
   ],
   "source": [
    "H,edges,patches =plt.hist((objprops.area_max - objprops.area0),bins=np.max(objprops.dt.values)-1)"
   ]
  },
  {
   "cell_type": "code",
   "execution_count": 137,
   "metadata": {},
   "outputs": [],
   "source": [
    "import pandas as pd"
   ]
  },
  {
   "cell_type": "code",
   "execution_count": 138,
   "metadata": {},
   "outputs": [],
   "source": [
    "objprops2 = pd.read_csv(\"/vols/satellite/home/lenk/data/HACI_bbox_data/haci-2008-01-04-bbox.dat\",sep=\"\\s+\")"
   ]
  },
  {
   "cell_type": "code",
   "execution_count": 140,
   "metadata": {},
   "outputs": [],
   "source": [
    "objprops2 = objprops2.assign(dt=objprops2.t1-objprops2.t0,\n",
    "                             area0=(objprops2.l01 - objprops2.l00) * (objprops2.c01 - objprops2.c00),\n",
    "                             area_max=(objprops2.l1 - objprops2.l0) * (objprops2.c1 - objprops2.c0))"
   ]
  },
  {
   "cell_type": "code",
   "execution_count": 144,
   "metadata": {},
   "outputs": [
    {
     "data": {
      "text/plain": [
       "<matplotlib.colorbar.Colorbar at 0x7f2976166810>"
      ]
     },
     "execution_count": 144,
     "metadata": {},
     "output_type": "execute_result"
    },
    {
     "data": {
      "image/png": "[encoded data removed]",
      "text/plain": [
       "<Figure size 720x432 with 2 Axes>"
      ]
     },
     "metadata": {
      "needs_background": "light"
     },
     "output_type": "display_data"
    }
   ],
   "source": [
    "H,xedges,yedges = np.histogram2d(objprops2.area0.values,\n",
    "                                 objprops2.area_max.values,bins=(np.max(objprops2.area0),\n",
    "                                                                 np.max(objprops2.area_max)),\n",
    "                                 density=True)\n",
    "H = H.T\n",
    "X, Y = np.meshgrid(xedges, yedges)\n",
    "fig,ax = plt.subplots(1,1,figsize=(10,6))\n",
    "p = ax.pcolormesh(X,Y,H,cmap='viridis', norm=mcolors.LogNorm())\n",
    "ax.set_xlabel(u\"Startfläche / km²\")\n",
    "ax.set_ylabel(u\"Endfläche / km²\")\n",
    "ax.set_title(\"Start- und Endfläche der HACI-Objekte am 04.01.2008, Methode 1\")\n",
    "plt.yscale(\"log\")\n",
    "fc.colourbar(p)"
   ]
  },
  {
   "cell_type": "code",
   "execution_count": 146,
   "metadata": {},
   "outputs": [
    {
     "data": {
      "text/plain": [
       "<matplotlib.colorbar.Colorbar at 0x7f29d0054e10>"
      ]
     },
     "execution_count": 146,
     "metadata": {},
     "output_type": "execute_result"
    },
    {
     "data": {
      "image/png": "[encoded data removed]",
      "text/plain": [
       "<Figure size 720x432 with 2 Axes>"
      ]
     },
     "metadata": {
      "needs_background": "light"
     },
     "output_type": "display_data"
    }
   ],
   "source": [
    "H,xedges,yedges = np.histogram2d(objprops.area0.values,\n",
    "                                 objprops.area_max.values,bins=(np.max(objprops.area0),\n",
    "                                                             np.max(objprops.area_max)),\n",
    "                                 density=True)\n",
    "H = H.T\n",
    "X, Y = np.meshgrid(xedges, yedges)\n",
    "fig,ax = plt.subplots(1,1,figsize=(10,6))\n",
    "p = ax.pcolormesh(X,Y,H,cmap='viridis', norm=mcolors.LogNorm())\n",
    "ax.set_xlabel(u\"Startfläche / km²\")\n",
    "ax.set_ylabel(u\"Endfläche / km²\")\n",
    "ax.set_title(\"Start- und Endfläche der HACI-Objekte am 04.01.2008, Methode 2\")\n",
    "plt.yscale(\"log\")\n",
    "fc.colourbar(p)"
   ]
  },
  {
   "cell_type": "code",
   "execution_count": 90,
   "metadata": {},
   "outputs": [],
   "source": [
    "area0 = (test_data.l01 - test_data.l00) * (test_data.c01 - test_data.c00)\n",
    "area_max = (test_data.l1 - test_data.l0) * (test_data.c1 - test_data.c0)"
   ]
  },
  {
   "cell_type": "code",
   "execution_count": 91,
   "metadata": {},
   "outputs": [],
   "source": [
    "test_data = test_data.assign(dt=test_data.t1-test_data.t0,\n",
    "                             area0 = area0,\n",
    "                             area_max = area_max)"
   ]
  },
  {
   "cell_type": "code",
   "execution_count": 122,
   "metadata": {},
   "outputs": [
    {
     "data": {
      "image/png": "[encoded data removed]",
      "text/plain": [
       "<Figure size 432x288 with 1 Axes>"
      ]
     },
     "metadata": {
      "needs_background": "light"
     },
     "output_type": "display_data"
    }
   ],
   "source": [
    "H,edges,patches =plt.hist(objprops.dt.values,bins=np.max(objprops.dt.values)-1)"
   ]
  },
  {
   "cell_type": "code",
   "execution_count": null,
   "metadata": {},
   "outputs": [],
   "source": [
    "selem = np.ones((3,3))\n",
    "object_mask_dilated = dilation(np.ma.masked_greater(objmap,0).mask,selem[None,:,:])\n",
    "    \n",
    "    # label dilated objectmask \n",
    "    object_mask_dilated = ndi.label(object_mask_dilated)[0]\n",
    "    \n",
    "    # get object labels of new developed CIs\n",
    "    object_labels = np.unique(object_mask_dilated[cimask])\n",
    "    \n",
    "    # remove all none CI objects\n",
    "    object_mask_ci = filter_objects(object_mask_dilated,object_labels)\n",
    "    \n",
    "    # create mask of undilated objects\n",
    "    object_mask = (object_mask_ci>0) & (objmap>0)\n",
    "    \n",
    "    # return 3D connected objects\n",
    "    objects = object_mask_dilated * object_mask"
   ]
  },
  {
   "cell_type": "code",
   "execution_count": 9,
   "metadata": {},
   "outputs": [
    {
     "ename": "IndexError",
     "evalue": "index 288 is out of bounds for axis 0 with size 288",
     "output_type": "error",
     "traceback": [
      "\u001b[0;31m---------------------------------------------------------------------------\u001b[0m",
      "\u001b[0;31mIndexError\u001b[0m                                Traceback (most recent call last)",
      "\u001b[0;32m<ipython-input-9-97f0a530604d>\u001b[0m in \u001b[0;36m<module>\u001b[0;34m\u001b[0m\n\u001b[0;32m----> 1\u001b[0;31m \u001b[0mtestprops\u001b[0m \u001b[0;34m=\u001b[0m \u001b[0mhci\u001b[0m\u001b[0;34m.\u001b[0m\u001b[0mdetect_ci\u001b[0m\u001b[0;34m(\u001b[0m\u001b[0mrx_file\u001b[0m\u001b[0;34m,\u001b[0m\u001b[0mthresh\u001b[0m\u001b[0;34m=\u001b[0m\u001b[0;36m35\u001b[0m\u001b[0;34m,\u001b[0m\u001b[0mradius\u001b[0m\u001b[0;34m=\u001b[0m\u001b[0;36m15\u001b[0m\u001b[0;34m)\u001b[0m\u001b[0;34m\u001b[0m\u001b[0;34m\u001b[0m\u001b[0m\n\u001b[0m",
      "\u001b[0;32m/vols/satellite/home/lenk/anaconda3/envs/tracking/lib/python3.7/site-packages/haci-0.2.0-py3.7.egg/haci/__init__.py\u001b[0m in \u001b[0;36mdetect_ci\u001b[0;34m(rx, thresh, radius)\u001b[0m\n\u001b[1;32m    240\u001b[0m     \u001b[0;31m# 5. link CI objects with their subsequent children\u001b[0m\u001b[0;34m\u001b[0m\u001b[0;34m\u001b[0m\u001b[0;34m\u001b[0m\u001b[0m\n\u001b[1;32m    241\u001b[0m     \u001b[0;31m#objmap = link_objects(objmap,ci_labels,nstep)[0]\u001b[0m\u001b[0;34m\u001b[0m\u001b[0;34m\u001b[0m\u001b[0;34m\u001b[0m\u001b[0m\n\u001b[0;32m--> 242\u001b[0;31m     \u001b[0mobjmap\u001b[0m \u001b[0;34m=\u001b[0m \u001b[0mlink_objects_fast\u001b[0m\u001b[0;34m(\u001b[0m\u001b[0mobjmap\u001b[0m\u001b[0;34m,\u001b[0m\u001b[0mci_labels\u001b[0m\u001b[0;34m)\u001b[0m\u001b[0;34m\u001b[0m\u001b[0;34m\u001b[0m\u001b[0m\n\u001b[0m\u001b[1;32m    243\u001b[0m \u001b[0;34m\u001b[0m\u001b[0m\n\u001b[1;32m    244\u001b[0m     \u001b[0;31m# 6. extract object properties ...\u001b[0m\u001b[0;34m\u001b[0m\u001b[0;34m\u001b[0m\u001b[0;34m\u001b[0m\u001b[0m\n",
      "\u001b[0;32m/vols/satellite/home/lenk/anaconda3/envs/tracking/lib/python3.7/site-packages/haci-0.2.0-py3.7.egg/haci/__init__.py\u001b[0m in \u001b[0;36mlink_objects_fast\u001b[0;34m(objmap, cimask)\u001b[0m\n\u001b[1;32m    177\u001b[0m \u001b[0;34m\u001b[0m\u001b[0m\n\u001b[1;32m    178\u001b[0m     \u001b[0;31m# get object labels of new developed CIs\u001b[0m\u001b[0;34m\u001b[0m\u001b[0;34m\u001b[0m\u001b[0;34m\u001b[0m\u001b[0m\n\u001b[0;32m--> 179\u001b[0;31m     \u001b[0mobject_labels\u001b[0m \u001b[0;34m=\u001b[0m \u001b[0mnp\u001b[0m\u001b[0;34m.\u001b[0m\u001b[0munique\u001b[0m\u001b[0;34m(\u001b[0m\u001b[0mobject_mask_dilated\u001b[0m\u001b[0;34m[\u001b[0m\u001b[0mcimask\u001b[0m\u001b[0;34m]\u001b[0m\u001b[0;34m)\u001b[0m\u001b[0;34m\u001b[0m\u001b[0;34m\u001b[0m\u001b[0m\n\u001b[0m\u001b[1;32m    180\u001b[0m \u001b[0;34m\u001b[0m\u001b[0m\n\u001b[1;32m    181\u001b[0m     \u001b[0;31m# remove all none CI objects\u001b[0m\u001b[0;34m\u001b[0m\u001b[0;34m\u001b[0m\u001b[0;34m\u001b[0m\u001b[0m\n",
      "\u001b[0;31mIndexError\u001b[0m: index 288 is out of bounds for axis 0 with size 288"
     ]
    }
   ],
   "source": [
    "testprops = hci.detect_ci(rx_file,thresh=35,radius=15)"
   ]
  }
 ],
 "metadata": {
  "kernelspec": {
   "display_name": "Python 3",
   "language": "python",
   "name": "python3"
  },
  "language_info": {
   "codemirror_mode": {
    "name": "ipython",
    "version": 3
   },
   "file_extension": ".py",
   "mimetype": "text/x-python",
   "name": "python",
   "nbconvert_exporter": "python",
   "pygments_lexer": "ipython3",
   "version": "3.7.4"
  }
 },
 "nbformat": 4,
 "nbformat_minor": 2
}
