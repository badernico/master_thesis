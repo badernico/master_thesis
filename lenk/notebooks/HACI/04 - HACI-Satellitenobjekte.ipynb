{
 "cells": [
  {
   "cell_type": "markdown",
   "metadata": {},
   "source": [
    "# 04 Passende Satellitenobjekte zu den HACI-Detektionen\n",
    "\n",
    "Um verlässliche Aussagen über die satellitenbasiereten Eigenschaften der HACI-Objekte zu machen, ist es wichtig das richtige Satellitenobjekt zuordnen zu können. Deshalb sollen in diesem Notebook verschiedene Ansätze untersucht und verglichen werden. \n",
    "\n",
    "## 1. Mögliche Grundlage\n",
    "Für die Objektdefinition müssen die Satellitenfelder segmentiert werden. Das kann prinzipell auf einer Reihe von Feldern gemacht werden ist wahrscheinlich aber sinnvoll für:\n",
    "\n",
    "1. IR 10,8&thinsp;&mu;m\n",
    "2. HRV\n",
    "3. NWC&thinsp;SAF-Wolkenmaske\n",
    "4. HRV-Wolkenmaske\n",
    "\n",
    "Prinzipiell ist von einer Segmentierung auf dem HRV-Feld oder der HRV-Wolkenmaske die beste Trennung von Objekten zu erwarten. Allerdings ist das nur für Fälle mit ausreichender Sonnenillumination möglich. Ein weiteres Problem könnten hier die höheren Texturunterschiede im HRV-Kanal sein.\n",
    "\n",
    "## 2. Mögliche Segmentierungsansätze\n",
    "Der verwendete Segmenteirungsansatz ist für das resultierende Objekt essentiell. Es gibt hierfür eine Vielzahl von möglichen Ansätzen. Ausprobiert wurden:\n",
    "\n",
    "1. einzelner Schwellwert aus theoretischen Überlegungen\n",
    "2. automatisch bestimmter Schwellwert (Otsu-Verfahren)\n",
    "3. adaptiver Schwellwertansatz, mit Berechnung des Schwellwertes aus dem Feld\n",
    "4. Wasserscheidtransformation\n",
    "5. morphologische Rekonstruktion + Schwellwert\n",
    "6. multispektrale Schwellwerte\n",
    "\n",
    "Keiner der Ansätze bringt ein befriedigendes Ergebnis für alle möglichen HACI-Fälle, aber damit muss man wohl leben.\n",
    "\n",
    "## 3. Beispiele\n",
    "\n",
    "Im Folgenden werden die verschiednen Ansätze für einige Beispiel-HACI-Fälle dargestellt.\n",
    "\n",
    "### 3.1 Einzelschellwert"
   ]
  },
  {
   "cell_type": "code",
   "execution_count": 1,
   "metadata": {},
   "outputs": [
    {
     "name": "stderr",
     "output_type": "stream",
     "text": [
      "/vols/satellite/home/lenk/anaconda3/envs/tracking/lib/python3.7/site-packages/statsmodels/tools/_testing.py:19: FutureWarning: pandas.util.testing is deprecated. Use the functions in the public API at pandas.testing instead.\n",
      "  import pandas.util.testing as tm\n",
      "/vols/satellite/home/lenk/anaconda3/envs/tracking/lib/python3.7/site-packages/xarray/core/merge.py:17: FutureWarning: The Panel class is removed from pandas. Accessing it from the top-level namespace will also be removed in the next version\n",
      "  PANDAS_TYPES = (pd.Series, pd.DataFrame, pd.Panel)\n"
     ]
    }
   ],
   "source": [
    "import numpy as np\n",
    "import matplotlib.pyplot as plt\n",
    "import seaborn as sns\n",
    "%matplotlib inline\n",
    "import pandas as pd\n",
    "import xarray as xr\n",
    "\n",
    "from standard_config import *\n",
    "import sys\n",
    "sys.path.append(\"{}/utils/tracking\".format(local_home_path))\n",
    "import object_tracking as ot\n",
    "\n",
    "from analysis_tools import segmentation as atseg\n",
    "from skimage import segmentation as spseg\n",
    "import skimage.filters as filters\n",
    "\n",
    "from plotting_tools.colormaps import enhanced_colormap\n",
    "emap = enhanced_colormap()\n",
    "\n",
    "from plotting_tools.colormaps import radar_cmap as rc\n",
    "\n",
    "\n",
    "from IPython.display import display, Image\n",
    "import ipywidgets as widgets\n",
    "from ipywidgets import HBox, VBox\n",
    "\n",
    "from scipy import ndimage as ndi\n",
    "from skimage.morphology import h_minima\n",
    "import glob"
   ]
  },
  {
   "cell_type": "code",
   "execution_count": 2,
   "metadata": {},
   "outputs": [],
   "source": [
    "haci_track_data_path = \"{}/HACI_track_data/\".format(local_data_path)\n",
    "haci_bbox_data_path = \"{}/HACI_bbox_data/\".format(local_data_path)"
   ]
  },
  {
   "cell_type": "code",
   "execution_count": 3,
   "metadata": {},
   "outputs": [],
   "source": [
    "def read_nc_file(filename):\n",
    "    data = {}\n",
    "    \n",
    "    with xr.open_dataset(filename) as f:\n",
    "        for d in f.data_vars:\n",
    "            data[d] = f[d].data.copy()\n",
    "        for d in f.coords:\n",
    "            data[d] = f.coords[d].data.copy()\n",
    "    return data"
   ]
  },
  {
   "cell_type": "code",
   "execution_count": 4,
   "metadata": {},
   "outputs": [],
   "source": [
    "wanted_date = \"20130618\""
   ]
  },
  {
   "cell_type": "code",
   "execution_count": 5,
   "metadata": {},
   "outputs": [],
   "source": [
    "track_files = glob.glob(\"{}track_{}_*.nc\".format(haci_track_data_path,wanted_date))"
   ]
  },
  {
   "cell_type": "code",
   "execution_count": 6,
   "metadata": {},
   "outputs": [
    {
     "data": {
      "text/plain": [
       "['/vols/satellite/home/lenk/data/HACI_track_data/track_20130618_2831.nc',\n",
       " '/vols/satellite/home/lenk/data/HACI_track_data/track_20130618_3029.nc',\n",
       " '/vols/satellite/home/lenk/data/HACI_track_data/track_20130618_2992.nc',\n",
       " '/vols/satellite/home/lenk/data/HACI_track_data/track_20130618_759.nc',\n",
       " '/vols/satellite/home/lenk/data/HACI_track_data/track_20130618_3328.nc',\n",
       " '/vols/satellite/home/lenk/data/HACI_track_data/track_20130618_2770.nc',\n",
       " '/vols/satellite/home/lenk/data/HACI_track_data/track_20130618_2655.nc',\n",
       " '/vols/satellite/home/lenk/data/HACI_track_data/track_20130618_2336.nc',\n",
       " '/vols/satellite/home/lenk/data/HACI_track_data/track_20130618_2262.nc',\n",
       " '/vols/satellite/home/lenk/data/HACI_track_data/track_20130618_3207.nc',\n",
       " '/vols/satellite/home/lenk/data/HACI_track_data/track_20130618_2687.nc',\n",
       " '/vols/satellite/home/lenk/data/HACI_track_data/track_20130618_3326.nc']"
      ]
     },
     "execution_count": 6,
     "metadata": {},
     "output_type": "execute_result"
    }
   ],
   "source": [
    "track_files"
   ]
  },
  {
   "cell_type": "code",
   "execution_count": 7,
   "metadata": {},
   "outputs": [],
   "source": [
    "track_data = {}\n",
    "track_ids = []"
   ]
  },
  {
   "cell_type": "code",
   "execution_count": 8,
   "metadata": {},
   "outputs": [],
   "source": [
    "for tf in track_files:\n",
    "    tid = int(tf.split(\"/\")[-1].split(\".\")[0].split(\"_\")[-1])\n",
    "    track_ids.append(tid)\n",
    "    track_data[tid] = read_nc_file(tf)"
   ]
  },
  {
   "cell_type": "code",
   "execution_count": 10,
   "metadata": {},
   "outputs": [],
   "source": [
    "track_ids.sort()"
   ]
  },
  {
   "cell_type": "code",
   "execution_count": 21,
   "metadata": {},
   "outputs": [
    {
     "data": {
      "text/plain": [
       "[759, 2262, 2336, 2655, 2687, 2770, 2831, 2992, 3029, 3207, 3326, 3328]"
      ]
     },
     "execution_count": 21,
     "metadata": {},
     "output_type": "execute_result"
    }
   ],
   "source": [
    "track_ids"
   ]
  },
  {
   "cell_type": "code",
   "execution_count": 27,
   "metadata": {},
   "outputs": [
    {
     "data": {
      "application/vnd.jupyter.widget-view+json": {
       "model_id": "f442df14a51c4ddda6d5abc1043797de",
       "version_major": 2,
       "version_minor": 0
      },
      "text/plain": [
       "interactive(children=(IntSlider(value=0, description='tidx', max=12), Dropdown(description='tid', options=(759…"
      ]
     },
     "metadata": {},
     "output_type": "display_data"
    }
   ],
   "source": [
    "@widgets.interact(tidx=(0, 12),\n",
    "                  tid=track_ids)\n",
    "def f(tidx=0,tid=759):\n",
    "    try:\n",
    "        fig,ax = plt.subplots(1,2,figsize=(12,6))\n",
    "        ax[0].pcolormesh(track_data[tid]['slon'],\n",
    "                         track_data[tid]['slat'],\n",
    "                         track_data[tid]['ir108'][tidx],\n",
    "                         vmin=210,vmax=300,cmap=emap)\n",
    "        ax[0].contourf(track_data[tid]['rlon'],\n",
    "                       track_data[tid]['rlat'],\n",
    "                       np.ma.masked_greater_equal(np.ma.masked_less(track_data[tid]['rx'][tidx],5),92.5),\n",
    "                       vmin=5,vmax=70,cmap=rc(),alpha=0.6)\n",
    "        ax[1].pcolormesh(track_data[tid]['hlon'],\n",
    "                         track_data[tid]['hlat'],\n",
    "                         track_data[tid]['hrv'][tidx],\n",
    "                         vmin=0,vmax=1,cmap='gray')\n",
    "        ax[1].contourf(track_data[tid]['rlon'],\n",
    "                       track_data[tid]['rlat'],\n",
    "                       np.ma.masked_greater_equal(np.ma.masked_less(track_data[tid]['rx'][tidx],5),92.5),\n",
    "                       vmin=5,vmax=70,cmap=rc(),alpha=0.6)\n",
    "        plt.suptitle(\"Track {}, Zeit: {}\".format(tid, \n",
    "                                                 np.datetime_as_string(track_data[tid]['time'][tidx],\n",
    "                                                                       timezone='UTC',unit='m')))\n",
    "    except Exception as e:\n",
    "        print(e)"
   ]
  },
  {
   "cell_type": "markdown",
   "metadata": {},
   "source": [
    "Die einzelnen HACI-Objekte unterscheiden sich recht start, aber es sind eine reihe von relativ gut isolierten Fällen dabei. Allerdings gibt es auch Fälle, die nicht isoliert sind, sondern wo der Niederschlag relativ spät in einem MCS einsetzt."
   ]
  },
  {
   "cell_type": "markdown",
   "metadata": {},
   "source": [
    "## 3. Wolkenobjekte\n",
    "\n",
    "Wie sich bisher gezeigt hat ist es fast unmöglich eine Objektdefinition zu finden, die für alle möglichen Fälle zuverlässig funktioniert. Deshalb soll hier untersucht werden, wann und warum eine Reihe von relativ einfachen Objektdefinitionen scheitert und wo sie gut funktionieren.\n",
    "\n",
    "Der einfachste Ansatz ist sich eines der Satellitenbeobachtungsfelder zu nehmen und einzelene Schwellwerte zu definieren.\n",
    "\n",
    "### 3.1 Einzelner Schwellwert aus Beobachtungen und theoretischen Überlegungen\n",
    "\n",
    "Seitdem Satellitenbeobachtungen von Konvektion analysiert werden, sind eine Reihe von möglichen Schwellwerten vorgeschlagen worden, insbesondere für die Wolkenoberkantentemperatur im atmosphärischen Fenster. In der Literatur verwendete Werte sind:\n",
    "\n",
    "| Autor         | kritischer Schwellwert / K      |  Anmerkung                             |\n",
    "|---------------|---------------------------------|----------------------------------------|\n",
    "| Maddox (1980) | 241 und 221                     | ursprünglich für die Untersuchung von MCC  in Nordamerika|\n",
    "| Adler et al. (1986) | 226 | reifes Gewitter |\n",
    "| Velasco & Fritsch ( 1987) | 233 und 211 |  ursprünglich für die Untersuchung von MCC in Südamerika |\n",
    "| Machado & Rossow (1993) | 252 und 206 | MCS in Südamerika |\n",
    "| Anderson & Arrit (1998) | 221 | MCS in Nordamerika |\n",
    "| Bedka (2010) | 225 | reife Gewitter in Europa |\n",
    "\n",
    "Die Auswahl von Maddox (1980) basiert auf der Beobachtung, dass sich konvektiver Niederschlag bei unter 241&thinsp;K zu akkumulieren beginnt und die Werte von Velasco & Fritsch (1987) sind eine Anpassung für eine andere Hellikeitstemperaturverbesserungskurve.\n",
    "\n",
    "Theoretische Überlegungen und Satellitenbeobachtungen zeigen, dass bei einer Helligkeitstemperatur von unter 243&thinsp;K häufig stark unterkühltes Wasser vorhanden ist, was auf starke Vertikalbewegungen hindeutet (Da Silva Nato et al, 2016). Flugzeugmessungen zeigen, dass bei 233&thinsp;K nur noch Eiskristalle vorhanden sind (Rosenfeld & Woodley, 2003). Dieses wird allerdings erst später als die konektive Auslösung erreicht. Deshalb benötigen wir hier höhere Schwellwerte, um auch vernünftige Objekte in der Frühphase definieren zu können. Für passende Schwellwerte sollten wir uns unsere Beispiele ansehen.\n",
    "\n",
    "Die Vorgehensweise ist wie folgt:\n",
    "\n",
    "1. Wir suchen uns die lokalen Minima aller Wolken im Ausschnitt.\n",
    "2. Wir erzeugen Ellipsen um die lokalen Minima, um sie verfolgen zu können.\n",
    "3. Wir suchen uns das Objekt, das zum Auslösungszeitpunkt am nächsten am HACI-Objekt, also am nächsten zur Ausschnittmitte liegt.\n",
    "4. Wir sehen uns die Eigenschaften der Ellipsen für diese Objekt an.\n",
    "\n",
    "#### 1. Lokale Minima suchen\n",
    "\n",
    "Wir suchen uns das lokale Minimum der Wolken im IR_10,8&thinsp;µm-Feld. Dazu sehen wir uns zuerst mal an, was für verschiedene Tiefen und Glättungsstärken passiert."
   ]
  },
  {
   "cell_type": "code",
   "execution_count": null,
   "metadata": {},
   "outputs": [],
   "source": [
    "# def get_local_h_minima(field,depth,gauss_sigma=1):\n",
    "#     field_smooth = ndi.gaussian_filter(field,gauss_sigma)\n",
    "    \n",
    "#     # find local minima of the given depth\n",
    "#     local_mins = h_minima(field_smooth,depth)\n",
    "    \n",
    "#     # field with labeled local minima\n",
    "#     lm_labeled = ndi.label(local_mins)[0]\n",
    "    \n",
    "#     return lm_labeled\n",
    "\n",
    "# def get_track_ellipses(field,ellipsis_width=5,ellipsis_height=9,elipsis_rotation=0):\n",
    "#     from skimage.draw import ellipse\n",
    "#     ellipses_field = np.zeros_like(field, dtype=\"uint8\")\n",
    "    \n",
    "#     # check if field is labeled, if not, label it\n",
    "#     if np.max(field) == 1:\n",
    "#         field = ndi.label(field)[0]\n",
    "    \n",
    "#     for l in np.unique(field)[1:]:\n",
    "#         min_loc = np.where(field == l)\n",
    "    \n",
    "#         rr, cc = ellipse(min_loc[0][0],\n",
    "#                          min_loc[1][0],\n",
    "#                          ellipsis_width, \n",
    "#                          ellipsis_height, \n",
    "#                          rotation=elipsis_rotation)\n",
    "        \n",
    "#         rr = np.clip(rr,0,field.shape[0]-1)\n",
    "#         cc = np.clip(cc,0,field.shape[1]-1)\n",
    "#         ellipses_field[rr,cc] = l\n",
    "    \n",
    "#     ellipses_field = ~np.ma.masked_less(ellipses_field,1).mask*1\n",
    "#     return ellipses_field "
   ]
  },
  {
   "cell_type": "code",
   "execution_count": 43,
   "metadata": {},
   "outputs": [
    {
     "data": {
      "text/plain": [
       "<module 'object_tracking' from '/vols/satellite/home/lenk/utils/tracking/object_tracking.py'>"
      ]
     },
     "execution_count": 43,
     "metadata": {},
     "output_type": "execute_result"
    }
   ],
   "source": [
    "reload(ot)"
   ]
  },
  {
   "cell_type": "code",
   "execution_count": 34,
   "metadata": {},
   "outputs": [],
   "source": [
    "ot.get_labeled_local_minima??"
   ]
  },
  {
   "cell_type": "code",
   "execution_count": 32,
   "metadata": {},
   "outputs": [],
   "source": [
    "def euclidian_distance(points,reference_point=(25,25)):\n",
    "    distances = []\n",
    "    \n",
    "    for i in range(len(points[0])):\n",
    "        d = np.sqrt((points[0][i] - reference_point[0])**2 + (points[1][i] - reference_point[1])**2)\n",
    "        distances.append(d)\n",
    "        \n",
    "    return distances"
   ]
  },
  {
   "cell_type": "code",
   "execution_count": 39,
   "metadata": {},
   "outputs": [],
   "source": [
    "ot.get_track_ellipses??"
   ]
  },
  {
   "cell_type": "code",
   "execution_count": 44,
   "metadata": {},
   "outputs": [
    {
     "data": {
      "application/vnd.jupyter.widget-view+json": {
       "model_id": "d80263063ca44550a3e24bacbafd2d74",
       "version_major": 2,
       "version_minor": 0
      },
      "text/plain": [
       "interactive(children=(IntSlider(value=0, description='tidx', max=12), Dropdown(description='tid', options=(759…"
      ]
     },
     "metadata": {},
     "output_type": "display_data"
    },
    {
     "data": {
      "image/png": "[encoded data removed]",
      "text/plain": [
       "<Figure size 432x432 with 1 Axes>"
      ]
     },
     "metadata": {
      "needs_background": "light"
     },
     "output_type": "display_data"
    }
   ],
   "source": [
    "@widgets.interact(tidx=(0, 12),tid = track_ids,depth=(1,15),sigma=(0,25))\n",
    "def f(tidx=0,tid=759,depth=10,sigma=0):\n",
    "    fig,ax = plt.subplots(1,1,figsize=(6,6))\n",
    "    ax.imshow(track_data[tid]['ir108'][tidx],\n",
    "              vmin=210,vmax=300,cmap=emap)\n",
    "    \n",
    "    lmins = ot.get_labeled_local_minima(track_data[tid]['ir108'][tidx],depth,sigma)\n",
    "    min_loc = np.where(lmins>0)\n",
    "    \n",
    "    lmin_ellipses = ot.get_track_ellipses(lmins)\n",
    "    #minima = np.array([[min_loc[0][i],min_loc[1][i]] for i in range(len(min_loc[0]))])\n",
    "    #vor = Voronoi(minima)\n",
    "    \n",
    "    for i in range(len(min_loc[0])):\n",
    "        ax.plot(min_loc[1][i],min_loc[0][i],'mo',markersize=7,mew=2)\n",
    "        #ax.plot(vor.vertices[i][1],vor.vertices[i][0],'r+')\n",
    "    \n",
    "    distances = euclidian_distance(min_loc,(25,25))\n",
    "    ax.plot(min_loc[1][np.argmin(distances)], min_loc[0][np.argmin(distances)],'g+')"
   ]
  },
  {
   "cell_type": "markdown",
   "metadata": {},
   "source": [
    "Ohne eine kleine Glättung bekommen wir manchmal mehrere eng beieinander liegende lokale Minima. Eine Glättung von &sigma;&thinsp;=&thinsp;1 behebt dieses Problem, führt allerdings dazu, dass manche sinnvollen lokalen Minima verschwinden. \n",
    "\n",
    "Eine Minimumtiefe von 4&thinsp;K bei einer Glättung mit &sigma;&thinsp;=&thinsp;1 scheint ein guter Anfagspunkt zu sein.\n",
    "\n",
    "#### 2. Ellipsen\n",
    "Als nächstes erzeugen wir Ellipsen mit einer Größe von 3&thinsp;px&thinsp;&times;&thinsp;6&thinsp;px."
   ]
  },
  {
   "cell_type": "code",
   "execution_count": 10,
   "metadata": {},
   "outputs": [],
   "source": [
    "lmins = get_local_h_minima(track_data[759]['ir108'][6],4,1)\n",
    "min_loc = np.where(lmins>0)\n",
    "distances = euclidian_distance(min_loc,(25,25))\n",
    "#ax.plot(min_loc[1][np.argmin(distances)], min_loc[0][np.argmin(distances),'g+'])"
   ]
  },
  {
   "cell_type": "code",
   "execution_count": 11,
   "metadata": {},
   "outputs": [],
   "source": [
    "lmin_ellipses = get_track_ellipses(lmins,ellipsis_width=3,ellipsis_height=6)"
   ]
  },
  {
   "cell_type": "code",
   "execution_count": 12,
   "metadata": {},
   "outputs": [
    {
     "data": {
      "text/plain": [
       "array([ 0,  4,  5, 16, 19, 21, 22, 26, 29, 37, 45, 50])"
      ]
     },
     "execution_count": 12,
     "metadata": {},
     "output_type": "execute_result"
    }
   ],
   "source": [
    "np.unique(min_loc)"
   ]
  },
  {
   "cell_type": "code",
   "execution_count": 13,
   "metadata": {},
   "outputs": [
    {
     "data": {
      "text/plain": [
       "array([0, 1])"
      ]
     },
     "execution_count": 13,
     "metadata": {},
     "output_type": "execute_result"
    }
   ],
   "source": [
    "np.unique(lmin_ellipses)"
   ]
  },
  {
   "cell_type": "code",
   "execution_count": 14,
   "metadata": {},
   "outputs": [
    {
     "data": {
      "text/plain": [
       "<matplotlib.image.AxesImage at 0x7efc10bd1e10>"
      ]
     },
     "execution_count": 14,
     "metadata": {},
     "output_type": "execute_result"
    },
    {
     "data": {
      "image/png": "[encoded data removed]",
      "text/plain": [
       "<Figure size 360x1080 with 3 Axes>"
      ]
     },
     "metadata": {
      "needs_background": "light"
     },
     "output_type": "display_data"
    }
   ],
   "source": [
    "fig,ax = plt.subplots(1,3,figsize=(5,15))\n",
    "ax[0].imshow(track_data[759]['ir108'][6],vmin=210,vmax=300,cmap=emap)\n",
    "ax[1].imshow(lmins)\n",
    "ax[2].imshow(lmin_ellipses)"
   ]
  },
  {
   "cell_type": "code",
   "execution_count": 9,
   "metadata": {},
   "outputs": [],
   "source": [
    "def lmin_ellipses(field,depth=10,sigma=1,width=3,height=3):\n",
    "    ellipses = []\n",
    "\n",
    "    for i,f in enumerate(field):\n",
    "        lmins = get_local_h_minima(f,10,1)\n",
    "        lmin_ellipses = get_track_ellipses(lmins,ellipsis_width=3,ellipsis_height=3)\n",
    "\n",
    "        ellipses.append(lmin_ellipses)\n",
    "        \n",
    "    return ellipses"
   ]
  },
  {
   "cell_type": "code",
   "execution_count": 50,
   "metadata": {},
   "outputs": [
    {
     "data": {
      "text/plain": [
       "<module 'object_tracking' from '/vols/satellite/home/lenk/utils/tracking/object_tracking.py'>"
      ]
     },
     "execution_count": 50,
     "metadata": {},
     "output_type": "execute_result"
    }
   ],
   "source": [
    "reload(ot)"
   ]
  },
  {
   "cell_type": "code",
   "execution_count": 51,
   "metadata": {},
   "outputs": [],
   "source": [
    "t = 759\n",
    "ellipsen = ot.lmin_ellipses(track_data[t]['ir108'])"
   ]
  },
  {
   "cell_type": "code",
   "execution_count": 53,
   "metadata": {},
   "outputs": [],
   "source": [
    "ellipsen = ndi.label(np.array(ellipsen))[0]"
   ]
  },
  {
   "cell_type": "code",
   "execution_count": 56,
   "metadata": {},
   "outputs": [
    {
     "data": {
      "application/vnd.jupyter.widget-view+json": {
       "model_id": "6d88a763d24a44aeb6e56b739bbcd5e6",
       "version_major": 2,
       "version_minor": 0
      },
      "text/plain": [
       "interactive(children=(IntSlider(value=0, description='tidx', max=12), Dropdown(description='tid', options=(759…"
      ]
     },
     "metadata": {},
     "output_type": "display_data"
    },
    {
     "data": {
      "image/png": "[encoded data removed]",
      "text/plain": [
       "<Figure size 432x432 with 1 Axes>"
      ]
     },
     "metadata": {
      "needs_background": "light"
     },
     "output_type": "display_data"
    }
   ],
   "source": [
    "@widgets.interact(tidx=(0, 12),tid = track_ids,depth=(1,15),sigma=(0,25))\n",
    "def f(tidx=0,tid=759,depth=10,sigma=0):\n",
    "    fig,ax = plt.subplots(1,1,figsize=(6,6))\n",
    "    ax.imshow(track_data[tid]['ir108'][tidx],\n",
    "              vmin=210,vmax=300,cmap=emap)\n",
    "    \n",
    "    lmins = ot.get_labeled_local_minima(track_data[tid]['ir108'][tidx],depth,sigma)\n",
    "    min_loc = np.where(lmins>0)\n",
    "    \n",
    "    lmin_ellipses = ot.get_track_ellipses(lmins,ellipsis_width=3,ellipsis_height=3)\n",
    "    \n",
    "    for i in range(len(min_loc[0])):\n",
    "        ax.plot(min_loc[1][i],min_loc[0][i],'mo',markersize=7,mew=2)\n",
    "        #ax.plot(vor.vertices[i][1],vor.vertices[i][0],'r+')\n",
    "    \n",
    "    distances = euclidian_distance(min_loc,(25,25))\n",
    "    ax.plot(min_loc[1][np.argmin(distances)], min_loc[0][np.argmin(distances)],'g+')\n",
    "    ax.imshow(np.ma.masked_less(lmin_ellipses,1),alpha=0.7,vmin=0,vmax=1,cmap='Greens')"
   ]
  },
  {
   "cell_type": "markdown",
   "metadata": {},
   "source": [
    "### 3. Ellipse auswählen\n",
    "\n",
    "Das scheint soweit ganz gut zu funktionieren. Als nächstes suchen wir uns diejenige Ellipsenreihe, die zum Auslösungszeitpunkt am nächsten am Ausschnittsmittelpunkt liegt."
   ]
  },
  {
   "cell_type": "code",
   "execution_count": 59,
   "metadata": {},
   "outputs": [],
   "source": [
    "def get_object_ellipse(field,depth=10,sigma=1,width=3,height=3):\n",
    "    field_ellipses = ot.lmin_ellipses(field,depth,sigma,width,height)\n",
    "    \n",
    "    ellipses_labelled = ndi.label(field_ellipses)[0]\n",
    "    object_id = ot.get_wanted_object_id(ellipses_labelled)\n",
    "    \n",
    "    obj_ellipse = ellipses_labelled.copy()\n",
    "    obj_ellipse[obj_ellipse!=object_id] = 0\n",
    "    \n",
    "    return obj_ellipse"
   ]
  },
  {
   "cell_type": "code",
   "execution_count": 65,
   "metadata": {},
   "outputs": [
    {
     "data": {
      "application/vnd.jupyter.widget-view+json": {
       "model_id": "86f3131e6275447586508176fe26d8fa",
       "version_major": 2,
       "version_minor": 0
      },
      "text/plain": [
       "interactive(children=(IntSlider(value=0, description='tidx', max=12), Dropdown(description='tid', options=(759…"
      ]
     },
     "metadata": {},
     "output_type": "display_data"
    }
   ],
   "source": [
    "@widgets.interact(tidx=(0, 12),tid = track_ids,depth=(1,15),sigma=(0,25))\n",
    "def f(tidx=0,tid=759,depth=10,sigma=0):\n",
    "    fig,ax = plt.subplots(1,2,figsize=(10,5))\n",
    "    ax[0].imshow(track_data[tid]['ir108'][tidx],\n",
    "              vmin=210,vmax=300,cmap=emap)\n",
    "    \n",
    "    ellipse = get_object_ellipse(track_data[tid]['ir108'],depth,sigma,4,2)\n",
    "   \n",
    "    ax[0].imshow(np.ma.masked_less(ellipse[tidx],1),alpha=0.7,vmin=0,vmax=1,cmap='Greens')\n",
    "    \n",
    "    values = track_data[tid]['ir108'][tidx][np.where(ellipse[tidx]!=0)]\n",
    "    \n",
    "    ax[1].boxplot(values)\n",
    "    ax[1].set_ylabel(\"TB(IR108)\")\n",
    "    ax[1].set_ylim(210,300)"
   ]
  },
  {
   "cell_type": "markdown",
   "metadata": {},
   "source": [
    "#### 4. Ellipseneigenschaften\n",
    "\n",
    "Als nächstes sehen wir uns die Werte des IR-10,8-µm-Feldes in der Ellipse an."
   ]
  },
  {
   "cell_type": "code",
   "execution_count": 92,
   "metadata": {},
   "outputs": [],
   "source": [
    "ellipsis_values = {'value':[],'field':[],'tidx':[],'track ID':[]}\n",
    "\n",
    "for tid in track_ids:\n",
    "    try:\n",
    "        obj_ellipse = get_object_ellipse(track_data[tid]['ir108'],5,1,3,3)\n",
    "        for tidx, e in enumerate(obj_ellipse):\n",
    "            if np.all(e==0):\n",
    "                ellipsis_values['value'].append(np.nan)\n",
    "\n",
    "                ellipsis_values['field'].append('IR_108')\n",
    "                ellipsis_values['tidx'].append(tidx*5 - 30)\n",
    "                ellipsis_values['track ID'].append(tid)\n",
    "            else:\n",
    "                values = track_data[tid]['ir108'][tidx][np.where(e!=0)]\n",
    "                ellipsis_values['value'].extend(values)\n",
    "\n",
    "                ellipsis_values['field'].extend(['IR_108']*len(values))\n",
    "                ellipsis_values['tidx'].extend([tidx*5 - 30]*len(values))\n",
    "                ellipsis_values['track ID'].extend([tid]*len(values))\n",
    "    except:\n",
    "        continue"
   ]
  },
  {
   "cell_type": "code",
   "execution_count": 93,
   "metadata": {},
   "outputs": [],
   "source": [
    "ellipsis_values = pd.DataFrame(ellipsis_values)"
   ]
  },
  {
   "cell_type": "code",
   "execution_count": 102,
   "metadata": {},
   "outputs": [
    {
     "data": {
      "image/png": "[encoded data removed]",
      "text/plain": [
       "<Figure size 1152x720 with 1 Axes>"
      ]
     },
     "metadata": {
      "needs_background": "light"
     },
     "output_type": "display_data"
    }
   ],
   "source": [
    "sns.set_context(\"talk\")\n",
    "fig,ax = plt.subplots(1,1,figsize=(16,10))\n",
    "plt.gca()\n",
    "sns.boxplot(x='tidx',y='value',data=ellipsis_values,hue='track ID',\n",
    "            palette=sns.color_palette(\"hls\", len(track_ids)))\n",
    "ax.set_ylabel(r\"T$_B$(10.8 µm) / K\")\n",
    "ax.set_xlabel(r\"t - t$_{\\mathrm{Z} = 35 \\mathrm{dBZ}}$ / min\")\n",
    "ax.set_title(r\"T$_B$ (10.8 µm) properties of $3\\,\\mathrm{px} \\times 3\\,\\mathrm{px}$ neighbourhood around local minimum of HACI cases on 18 June 2013\")\n",
    "plt.savefig(\"{}/proj/2020_03_konzept/plots/ir108_locmin_neighbourhood_haci_20130618.pdf\".format(local_home_path),\n",
    "            bbox_inches=\"tight\")"
   ]
  },
  {
   "cell_type": "code",
   "execution_count": null,
   "metadata": {},
   "outputs": [],
   "source": []
  },
  {
   "cell_type": "markdown",
   "metadata": {},
   "source": [
    "Die Werte in der Nachbarschaft um das lokale Minimum sind für diese eigentlich idealen Fälle schon sehr unterschiedlich. Ein Fall fällt vollständig aus dem Rahmen und folgt nicht dem erwartbaren Lebenszyklusverlauf. Dieser Fall gehört wahrscheinlich nicht in die Klasse isolierte Konvektion aus der Satellitenperspektive"
   ]
  },
  {
   "cell_type": "code",
   "execution_count": 118,
   "metadata": {},
   "outputs": [
    {
     "data": {
      "image/png": "[encoded data removed]",
      "text/plain": [
       "<Figure size 1152x720 with 1 Axes>"
      ]
     },
     "metadata": {
      "needs_background": "light"
     },
     "output_type": "display_data"
    }
   ],
   "source": [
    "fig,ax = plt.subplots(1,1,figsize=(16,10))\n",
    "plt.gca()\n",
    "sns.boxplot(x='tidx',y='value',data=ellipsis_values[ellipsis_values['track ID']!=3328],\n",
    "            color='white',flierprops=dict(markeredgecolor='k'))\n",
    "plt.setp(ax.artists, edgecolor = 'k', facecolor='w')\n",
    "plt.setp(ax.lines, color='k')\n",
    "ax.set_ylabel(r\"T$_B$(10.8 µm) / K\")\n",
    "ax.set_xlabel(r\"t - t$_{\\mathrm{Z} = 35 \\mathrm{dBZ}}$ / min\")\n",
    "ax.set_title(r\"Aggregated T$_B$ (10.8 µm) properties of $3\\,\\mathrm{px} \\times 3\\,\\mathrm{px}$ neighbourhood around local minimum\" \"\\n\" r\"of HACI cases on 18 June 2013\")\n",
    "plt.savefig(\"{}/proj/2020_03_konzept/plots/ir108_locmin_neighbourhood_haci_20130618_combined.pdf\".format(local_home_path),\n",
    "            bbox_inches=\"tight\")"
   ]
  },
  {
   "cell_type": "markdown",
   "metadata": {},
   "source": [
    "Wenn man diesen Fall weglässt, ergibt sich eine recht schöne mittlere Lebenszykluskurve. Zum Auslösungszeitpunkt liegen die Werte um das lokale Minimum typischerweise zwischen 300&thinsp;K und 230&thinsp;K. 20&thinsp;min vorher bei 300&thinsp;K bis 280&thinsp;K. Das finden eines lokalen Minimums scheitert vorher mit der aktuellen Konfiguration. Damit können wir versuchen hoffentlich sinnvolle Objekte zu definieren."
   ]
  },
  {
   "cell_type": "code",
   "execution_count": 124,
   "metadata": {},
   "outputs": [],
   "source": [
    "# import scipy.optimize as opt"
   ]
  },
  {
   "cell_type": "code",
   "execution_count": 123,
   "metadata": {
    "code_folding": [
     0
    ]
   },
   "outputs": [],
   "source": [
    "# def logistic_function(t,t0,L,k,a):\n",
    "#     return( (L / (1 + np.exp(-k * (t-t0)))) - a)"
   ]
  },
  {
   "cell_type": "code",
   "execution_count": 122,
   "metadata": {
    "code_folding": [
     0
    ]
   },
   "outputs": [],
   "source": [
    "# t = np.arange(3,13)\n",
    "\n",
    "# @widgets.interact(L=(0, 300),t0 = (-12,12,0.1),k=(-10,10,0.1),a=(-300,300))\n",
    "# def f(L=72,t0=6,k=-1,a=-np.mean(means[3:])):#,d=0):\n",
    "#     fig,ax = plt.subplots(1,1,figsize=(10,5))\n",
    "#     plt.plot(t, means[3:],'ro')\n",
    "#     plt.plot(np.arange(3,13,0.1),logistic_function(np.arange(3,13,0.1),t0,L,k,a),'bo')"
   ]
  },
  {
   "cell_type": "code",
   "execution_count": 121,
   "metadata": {
    "code_folding": [
     0
    ]
   },
   "outputs": [],
   "source": [
    "# def get_logistic_fit(values):\n",
    "#     means = []\n",
    "\n",
    "#     for t in values.tidx.unique():\n",
    "#         means.append(values[values['tidx']==t]['value'].mean())\n",
    "     \n",
    "#     nan_loc = np.isnan(means)\n",
    "    \n",
    "#     start_tidx = np.min(np.where(nan_loc==False))\n",
    "#     tidx = np.arange(start_tidx,len(means))\n",
    "    \n",
    "#     (t0_,L_,k_,a_), _ = opt.curve_fit(logistic_function,\n",
    "#                                       tidx,\n",
    "#                                       means[start_tidx:],\n",
    "#                                       p0=[6,np.max(means[start_tidx:]),-10,np.mean(means[start_tidx:])])\n",
    "    \n",
    "#     return (t0_,L_,k_,a_)"
   ]
  },
  {
   "cell_type": "code",
   "execution_count": 120,
   "metadata": {
    "code_folding": [
     0
    ]
   },
   "outputs": [],
   "source": [
    "# fits = {tid:{'L':[],'t0':[],'k':[],'a':[]} for tid in track_ids}\n",
    "\n",
    "# for tid in ellipsis_values['tid'].unique():\n",
    "#     try:\n",
    "#         (L,t0,k,a) =  get_logistic_fit(ellipsis_values[ellipsis_values['tid']==tid])\n",
    "#         fits[tid]['L'] = L\n",
    "#         fits[tid]['t0'] = t0\n",
    "#         fits[tid]['k'] = k\n",
    "#         fits[tid]['a'] = a\n",
    "#     except Exception as e:\n",
    "#         print(\"FEHLER {} bei Track {}.\".format(e,tid))\n",
    "#         continue"
   ]
  },
  {
   "cell_type": "code",
   "execution_count": 119,
   "metadata": {},
   "outputs": [],
   "source": [
    "# fits"
   ]
  },
  {
   "cell_type": "markdown",
   "metadata": {},
   "source": [
    "### Wolkenobjekte mit einem Schwellwert"
   ]
  },
  {
   "cell_type": "code",
   "execution_count": null,
   "metadata": {},
   "outputs": [],
   "source": []
  },
  {
   "cell_type": "code",
   "execution_count": null,
   "metadata": {},
   "outputs": [],
   "source": [
    "plt.pcolormesh(rlon,rlat,go.remap_grid(hrv[-1],hlon,hlat,rlon,rlat,3),vmin=0,vmax=1,cmap='gray')\n",
    "plt.contour(rlon,rlat,np.ma.masked_less(z[-1],5),vmin=5,vmax=70,cmap=rc())"
   ]
  },
  {
   "cell_type": "markdown",
   "metadata": {},
   "source": [
    "## 3.5 Wolkenmaskenobjekte\n",
    "\n",
    "Wenn man nur die vollständig bewölkten Pixel betrachtet, könnte man eventuell für dieses Beispiel eine recht gute Trennung von Objekten und Hintergrund bekommen."
   ]
  },
  {
   "cell_type": "code",
   "execution_count": 233,
   "metadata": {},
   "outputs": [],
   "source": [
    "cma_object_masks = {tid:{tidx: {'mask':[],\n",
    "                                'n_objects':[],\n",
    "                                'object_sizes':[],\n",
    "                                'centroid_distances':[]} for tidx in np.arange(0,13)} for tid in track_data.keys()}\n",
    "\n",
    "for tid in track_data:\n",
    "    for i,c in enumerate(track_data[tid]['cma']):\n",
    "        try:\n",
    "            om = ~np.ma.masked_less(track_data[tid]['cma'][i],2).mask*1\n",
    "            om_l,n_obj = ndi.label(om)\n",
    "            cma_object_masks[tid][i]['mask'] = om_l\n",
    "            cma_object_masks[tid][i]['n_objects'] = n_obj\n",
    "\n",
    "            obj_sizes = []\n",
    "            for j in np.arange(1,n_obj):\n",
    "                obj_sizes.append(np.where(om_l==j)[0].size)            \n",
    "\n",
    "            cma_object_masks[tid][i]['object_sizes'] = obj_sizes\n",
    "\n",
    "            if n_obj > 1 :\n",
    "                centroids = ndi.center_of_mass(om,om_l,np.arange(1,n_obj))\n",
    "\n",
    "                d = []\n",
    "                for c in centroids:\n",
    "                    d.append(np.sqrt((c[0] - 25)**2 + (c[0] - 25)**2))\n",
    "\n",
    "                cma_object_masks[tid][i]['centroid_distances'] = d   \n",
    "            else:\n",
    "                centroids = ndi.center_of_mass(om,om_l)\n",
    "                cma_object_masks[tid][i]['centroid_distances'] = np.sqrt((centroids[0] - 25)**2 + (centroids[0] - 25)**2)\n",
    "        except:\n",
    "            for k in cma_object_masks[tid][i].keys():\n",
    "                cma_object_masks[tid][i][k] = np.nan"
   ]
  },
  {
   "cell_type": "code",
   "execution_count": 225,
   "metadata": {},
   "outputs": [
    {
     "data": {
      "text/plain": [
       "[(28.36964448495898, 26.326344576116682)]"
      ]
     },
     "execution_count": 225,
     "metadata": {},
     "output_type": "execute_result"
    }
   ],
   "source": [
    "centroids"
   ]
  },
  {
   "cell_type": "code",
   "execution_count": 234,
   "metadata": {},
   "outputs": [
    {
     "data": {
      "text/plain": [
       "{'mask': array([[ 0,  0,  0, ...,  0,  0,  0],\n",
       "        [ 0,  0,  0, ...,  0,  0,  0],\n",
       "        [ 0,  0,  0, ...,  0,  0,  0],\n",
       "        ...,\n",
       "        [ 0,  0,  0, ...,  0, 26, 26],\n",
       "        [ 0,  0,  0, ...,  0, 26, 26],\n",
       "        [ 0,  0,  0, ...,  0,  0, 26]], dtype=int32),\n",
       " 'n_objects': 28,\n",
       " 'object_sizes': [55,\n",
       "  1,\n",
       "  8,\n",
       "  4,\n",
       "  1,\n",
       "  4,\n",
       "  1,\n",
       "  1,\n",
       "  1,\n",
       "  14,\n",
       "  173,\n",
       "  2,\n",
       "  2,\n",
       "  2,\n",
       "  1,\n",
       "  65,\n",
       "  2,\n",
       "  5,\n",
       "  43,\n",
       "  1,\n",
       "  2,\n",
       "  1,\n",
       "  4,\n",
       "  1,\n",
       "  17,\n",
       "  11,\n",
       "  1],\n",
       " 'centroid_distances': [31.858374614186634,\n",
       "  25.45584412271571,\n",
       "  22.627416997969522,\n",
       "  21.213203435596427,\n",
       "  21.213203435596427,\n",
       "  18.031222920256962,\n",
       "  16.97056274847714,\n",
       "  15.556349186104045,\n",
       "  11.313708498984761,\n",
       "  8.182235610872906,\n",
       "  3.6622409014054695,\n",
       "  4.242640687119285,\n",
       "  4.242640687119285,\n",
       "  6.363961030678928,\n",
       "  11.313708498984761,\n",
       "  23.301888081562847,\n",
       "  17.67766952966369,\n",
       "  19.79898987322333,\n",
       "  24.798070372774735,\n",
       "  21.213203435596427,\n",
       "  23.33452377915607,\n",
       "  24.041630560342615,\n",
       "  26.16295090390226,\n",
       "  28.284271247461902,\n",
       "  30.863131272965777,\n",
       "  31.755522718741314,\n",
       "  31.11269837220809]}"
      ]
     },
     "execution_count": 234,
     "metadata": {},
     "output_type": "execute_result"
    }
   ],
   "source": [
    "cma_object_masks[2687][6]"
   ]
  },
  {
   "cell_type": "code",
   "execution_count": 252,
   "metadata": {},
   "outputs": [
    {
     "data": {
      "image/png": "[encoded data removed]",
      "text/plain": [
       "<Figure size 432x288 with 1 Axes>"
      ]
     },
     "metadata": {
      "needs_background": "light"
     },
     "output_type": "display_data"
    }
   ],
   "source": [
    "plt.bar(np.arange(1,cma_object_masks[759][6]['n_objects']),\n",
    "        (np.array(cma_object_masks[759][6]['object_sizes']) / (51**2))*100)\n",
    "plt.yscale(\"log\")"
   ]
  },
  {
   "cell_type": "code",
   "execution_count": 244,
   "metadata": {},
   "outputs": [
    {
     "data": {
      "text/plain": [
       "<matplotlib.collections.PathCollection at 0x7f41af16e210>"
      ]
     },
     "execution_count": 244,
     "metadata": {},
     "output_type": "execute_result"
    },
    {
     "data": {
      "image/png": "[encoded data removed]",
      "text/plain": [
       "<Figure size 432x288 with 1 Axes>"
      ]
     },
     "metadata": {
      "needs_background": "light"
     },
     "output_type": "display_data"
    }
   ],
   "source": [
    "plt.scatter(cma_object_masks[2687][0]['centroid_distances'],\n",
    "            cma_object_masks[2687][0]['object_sizes'])"
   ]
  },
  {
   "cell_type": "code",
   "execution_count": 170,
   "metadata": {},
   "outputs": [
    {
     "name": "stderr",
     "output_type": "stream",
     "text": [
      "/vols/satellite/home/lenk/anaconda3/envs/tracking/lib/python3.7/site-packages/scipy/ndimage/measurements.py:1359: RuntimeWarning: invalid value encountered in true_divide\n",
      "  for dir in range(input.ndim)]\n"
     ]
    }
   ],
   "source": [
    "centroids = ndi.center_of_mass(om[6],om_l[6],np.arange(1,n_obj))"
   ]
  },
  {
   "cell_type": "code",
   "execution_count": 172,
   "metadata": {},
   "outputs": [
    {
     "data": {
      "text/plain": [
       "(14.656458055925432, 27.672436750998667)"
      ]
     },
     "execution_count": 172,
     "metadata": {},
     "output_type": "execute_result"
    }
   ],
   "source": [
    "centroids[0]"
   ]
  },
  {
   "cell_type": "code",
   "execution_count": 134,
   "metadata": {},
   "outputs": [
    {
     "data": {
      "text/plain": [
       "<matplotlib.image.AxesImage at 0x7f41ae93fe90>"
      ]
     },
     "execution_count": 134,
     "metadata": {},
     "output_type": "execute_result"
    },
    {
     "data": {
      "image/png": "[encoded data removed]",
      "text/plain": [
       "<Figure size 432x288 with 1 Axes>"
      ]
     },
     "metadata": {
      "needs_background": "light"
     },
     "output_type": "display_data"
    }
   ],
   "source": [
    "plt.imshow(np.ma.masked_where(cma_object_masks[2687][6]==1,track_data[2687]['ir108'][6]),vmin=210,vmax=300,cmap=emap)"
   ]
  },
  {
   "cell_type": "markdown",
   "metadata": {},
   "source": [
    "Dieser Beispielfall ist ein relativ gut isolierter Fall und trotzdem ist es bereits hier nicht einfach die Objekte richtig zu trennen."
   ]
  }
 ],
 "metadata": {
  "kernelspec": {
   "display_name": "Python 3",
   "language": "python",
   "name": "python3"
  },
  "language_info": {
   "codemirror_mode": {
    "name": "ipython",
    "version": 3
   },
   "file_extension": ".py",
   "mimetype": "text/x-python",
   "name": "python",
   "nbconvert_exporter": "python",
   "pygments_lexer": "ipython3",
   "version": "3.7.4"
  },
  "latex_envs": {
   "LaTeX_envs_menu_present": true,
   "autoclose": false,
   "autocomplete": true,
   "bibliofile": "biblio.bib",
   "cite_by": "apalike",
   "current_citInitial": 1,
   "eqLabelWithNumbers": true,
   "eqNumInitial": 1,
   "hotkeys": {
    "equation": "Ctrl-E",
    "itemize": "Ctrl-I"
   },
   "labels_anchors": false,
   "latex_user_defs": false,
   "report_style_numbering": false,
   "user_envs_cfg": false
  }
 },
 "nbformat": 4,
 "nbformat_minor": 4
}
