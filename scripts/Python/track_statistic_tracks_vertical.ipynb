{
 "cells": [
  {
   "cell_type": "code",
   "execution_count": 6,
   "metadata": {},
   "outputs": [],
   "source": [
    "import pandas as pd\n",
    "import numpy as np\n",
    "import os\n",
    "import glob\n",
    "import netCDF4 as nc\n",
    "import matplotlib.pyplot as plt\n",
    "import seaborn\n",
    "from sklearn.linear_model import LinearRegression\n",
    "from scipy.spatial.distance import cdist\n",
    "import cartopy.crs as ccrs\n",
    "import cartopy.feature as cf\n",
    "from functions.fun_sdk import *\n",
    "\n",
    "os.environ['TZ'] = 'UTC'"
   ]
  },
  {
   "cell_type": "code",
   "execution_count": 73,
   "metadata": {},
   "outputs": [],
   "source": [
    "# Get NWP model data for the tracks\n",
    "# Complete time scale\n",
    "# Vertical Parameters\n",
    "nwp = 'ERA5T'\n",
    "sed = ['2021-06-01','2021-06-02','2021-06-04','2021-06-05','2021-06-08','2021-06-18','2021-06-21','2021-06-22','2021-07-13','2021-07-25','2021-07-26']\n",
    "\n",
    "cellsmeteo = pd.DataFrame() # Dataframe for meteo of single cell\n",
    "\n",
    "for i in np.arange(0,len(sed),1):\n",
    "    doi = sed[i]\n",
    "    y_oi = doi.split('-')[0]\n",
    "    m_oi = doi.split('-')[1]\n",
    "    d_oi = doi.split('-')[2]\n",
    "\n",
    "    fs = glob.glob(\"/Users/nicobader/Documents/Uni_Leipzig/master_thesis/analysis/tracks/data/\"+y_oi+\"/\"+m_oi+\"/\"+d_oi+\"/Track_*\")\n",
    "\n",
    "    for j in np.arange(0,len(fs),1):\n",
    "        cdata = pd.read_csv(fs[j])\n",
    "        meteo = pd.DataFrame()\n",
    "        for k in np.arange(0,len(cdata),1):\n",
    "            start = cdata.timestr[k].split()[0]\n",
    "            end = cdata.timestr[k].split()[0]\n",
    "\n",
    "            time = pd.Timestamp(cdata.timestr[k]).round('1 H')\n",
    "\n",
    "            cois = [[cdata.longitude[k],cdata.latitude[k]]]\n",
    "\n",
    "            nwpdata = get_sounding_model_output(cois, start, end, nwp, apikey='nRMiXJ34HBIwOjlq')\n",
    "\n",
    "            nwpdata = nwpdata[nwpdata.TIMESTAMP == time]\n",
    "\n",
    "            X = np.array([1000,900,850,800,700,500,250]).reshape(-1,1)\n",
    "            y = np.array(nwpdata.iloc[:,4:11])[0]\n",
    "\n",
    "            reg = LinearRegression().fit(X, y)\n",
    "            tgrad = pd.DataFrame({'tgrad':-reg.coef_})\n",
    "\n",
    "            X = np.array([1000,900,850,800,700,500,250]).reshape(-1,1)\n",
    "            y = np.array(nwpdata.iloc[:,12:19])[0]\n",
    "\n",
    "            reg = LinearRegression().fit(X, y)\n",
    "            wsshear = pd.DataFrame({'wsshear':-reg.coef_})\n",
    "\n",
    "            X = np.array([1000,900,850,800,700,500,250]).reshape(-1,1)\n",
    "            y = np.array(nwpdata.iloc[:,20:27])[0]\n",
    "\n",
    "            reg = LinearRegression().fit(X, y)\n",
    "            wdshear = pd.DataFrame({'wdshear':-reg.coef_})\n",
    "\n",
    "            meteorow = pd.concat([tgrad, wsshear, wdshear], axis = 1)\n",
    "\n",
    "            meteo = pd.concat([meteo, meteorow],axis = 0)\n",
    "            meteo = meteo.reset_index(drop = True)\n",
    "        meteo = pd.concat([cdata[['timestr','cell']],meteo], axis = 1)\n",
    "        cellsmeteo = pd.concat([cellsmeteo,meteo],axis=0)\n",
    "\n",
    "# save to csv\n",
    "# cellsmeteo.to_csv(\"/Users/nicobader/Documents/Uni_Leipzig/master_thesis/analysis/tobac_tracking_statistics/tracks/data/track_statistic_vertical.csv\", index = False)"
   ]
  },
  {
   "cell_type": "code",
   "execution_count": 2,
   "metadata": {},
   "outputs": [],
   "source": [
    "# cellsmeteo = pd.read_csv(\"/Users/nicobader/Documents/Uni_Leipzig/master_thesis/analysis/tobac_tracking_statistics/tracks/data/track_statistic_vertical.csv\")"
   ]
  },
  {
   "cell_type": "code",
   "execution_count": 18,
   "metadata": {},
   "outputs": [
    {
     "data": {
      "image/png": "[encoded data removed]",
      "text/plain": [
       "<Figure size 576x288 with 1 Axes>"
      ]
     },
     "metadata": {
      "needs_background": "light"
     },
     "output_type": "display_data"
    },
    {
     "data": {
      "image/png": "[encoded data removed]",
      "text/plain": [
       "<Figure size 576x288 with 1 Axes>"
      ]
     },
     "metadata": {
      "needs_background": "light"
     },
     "output_type": "display_data"
    },
    {
     "data": {
      "image/png": "[encoded data removed]",
      "text/plain": [
       "<Figure size 576x288 with 1 Axes>"
      ]
     },
     "metadata": {
      "needs_background": "light"
     },
     "output_type": "display_data"
    }
   ],
   "source": [
    "# WIND SPEED SHEAR\n",
    "plt.figure(figsize=(8,4))\n",
    "seaborn.histplot(cellsmeteo.wsshear,kde = False, bins = int(((cellsmeteo.wsshear).max()-(cellsmeteo.wsshear).min())/0.005), stat = \"probability\")\n",
    "plt.xlabel('Wind speed gradient (m s$^{-1}$ hPa$^{-1}$)')\n",
    "plt.savefig('/Users/nicobader/Documents/Uni_Leipzig/master_thesis/analysis/tobac_tracking_statistics/tracks/vertical_tALL_wind_speed_gradient_'+nwp+'.png',dpi=400,facecolor='white',transparent=False)\n",
    "\n",
    "# WIND DIRECTION SHEAR\n",
    "plt.figure(figsize=(8,4))\n",
    "seaborn.histplot(cellsmeteo.wdshear,kde = False, bins = int(((cellsmeteo.wdshear).max()-(cellsmeteo.wdshear).min())/0.02), stat = \"probability\")\n",
    "plt.xlabel('Wind direction gradient ($^{\\circ}$ hPa$^{-1}$)')\n",
    "plt.savefig('/Users/nicobader/Documents/Uni_Leipzig/master_thesis/analysis/tobac_tracking_statistics/tracks/vertical_tALL_wind_direction_gradient_'+nwp+'.png',dpi=400,facecolor='white',transparent=False)\n",
    "\n",
    "# TEMPERATURE GRADIENT\n",
    "plt.figure(figsize=(8,4))\n",
    "seaborn.histplot(cellsmeteo.tgrad,kde = False, bins = int(((cellsmeteo.tgrad).max()-(cellsmeteo.tgrad).min())/0.0008), stat = \"probability\")\n",
    "plt.xlabel('Temperature gradient (K hPa$^{-1}$)')\n",
    "plt.savefig('/Users/nicobader/Documents/Uni_Leipzig/master_thesis/analysis/tobac_tracking_statistics/tracks/vertical_tALL_temperature_gradient_'+nwp+'.png',dpi=400,facecolor='white',transparent=False)\n"
   ]
  },
  {
   "cell_type": "code",
   "execution_count": 90,
   "metadata": {},
   "outputs": [],
   "source": [
    "# Get NWP model data for the tracks\n",
    "# Initial phase\n",
    "# Vertical Parameters\n",
    "nwp = 'ERA5T'\n",
    "sed = ['2021-06-01','2021-06-02','2021-06-04','2021-06-05','2021-06-08','2021-06-18','2021-06-21','2021-06-22','2021-07-13','2021-07-25','2021-07-26']\n",
    "\n",
    "cellsmeteo = pd.DataFrame() # Dataframe for meteo of single cell\n",
    "\n",
    "for i in np.arange(0,len(sed),1):\n",
    "    doi = sed[i]\n",
    "    y_oi = doi.split('-')[0]\n",
    "    m_oi = doi.split('-')[1]\n",
    "    d_oi = doi.split('-')[2]\n",
    "\n",
    "    fs = glob.glob(\"/Users/nicobader/Documents/Uni_Leipzig/master_thesis/analysis/tracks/data/\"+y_oi+\"/\"+m_oi+\"/\"+d_oi+\"/Track_*\")\n",
    "\n",
    "    for j in np.arange(0,len(fs),1):\n",
    "        cdata = pd.read_csv(fs[j])\n",
    "        meteo = pd.DataFrame()\n",
    "        for k in np.arange(0,3,1):\n",
    "            start = cdata.timestr[k].split()[0]\n",
    "            end = cdata.timestr[k].split()[0]\n",
    "\n",
    "            time = pd.Timestamp(cdata.timestr[k]).round('1 H')\n",
    "\n",
    "            cois = [[cdata.longitude[k],cdata.latitude[k]]]\n",
    "\n",
    "            nwpdata = get_sounding_model_output(cois, start, end, nwp, apikey='nRMiXJ34HBIwOjlq')\n",
    "\n",
    "            nwpdata = nwpdata[nwpdata.TIMESTAMP == time]\n",
    "\n",
    "            X = np.array([1000,900,850,800,700,500,250]).reshape(-1,1)\n",
    "            y = np.array(nwpdata.iloc[:,4:11])[0]\n",
    "\n",
    "            reg = LinearRegression().fit(X, y)\n",
    "            tgrad = pd.DataFrame({'tgrad':-reg.coef_})\n",
    "\n",
    "            X = np.array([1000,900,850,800,700,500,250]).reshape(-1,1)\n",
    "            y = np.array(nwpdata.iloc[:,12:19])[0]\n",
    "\n",
    "            reg = LinearRegression().fit(X, y)\n",
    "            wsshear = pd.DataFrame({'wsshear':-reg.coef_})\n",
    "\n",
    "            X = np.array([1000,900,850,800,700,500,250]).reshape(-1,1)\n",
    "            y = np.array(nwpdata.iloc[:,20:27])[0]\n",
    "\n",
    "            reg = LinearRegression().fit(X, y)\n",
    "            wdshear = pd.DataFrame({'wdshear':-reg.coef_})\n",
    "\n",
    "            meteorow = pd.concat([tgrad, wsshear, wdshear], axis = 1)\n",
    "\n",
    "            meteo = pd.concat([meteo, meteorow],axis = 0)\n",
    "            meteo = meteo.reset_index(drop = True)\n",
    "        meteo = pd.concat([cdata[['timestr','cell']],meteo], axis = 1)\n",
    "        meteo = meteo.loc[0:2]\n",
    "        cellsmeteo = pd.concat([cellsmeteo,meteo],axis=0)\n",
    "\n",
    "# save to csv\n",
    "# cellsmeteo.to_csv(\"/Users/nicobader/Documents/Uni_Leipzig/master_thesis/analysis/tobac_tracking_statistics/tracks/data/track_statistic_vertical.csv\", index = False)"
   ]
  },
  {
   "cell_type": "code",
   "execution_count": 22,
   "metadata": {},
   "outputs": [
    {
     "data": {
      "text/html": [
       "<div>\n",
       "<style scoped>\n",
       "    .dataframe tbody tr th:only-of-type {\n",
       "        vertical-align: middle;\n",
       "    }\n",
       "\n",
       "    .dataframe tbody tr th {\n",
       "        vertical-align: top;\n",
       "    }\n",
       "\n",
       "    .dataframe thead th {\n",
       "        text-align: right;\n",
       "    }\n",
       "</style>\n",
       "<table border=\"1\" class=\"dataframe\">\n",
       "  <thead>\n",
       "    <tr style=\"text-align: right;\">\n",
       "      <th></th>\n",
       "      <th>timestr</th>\n",
       "      <th>cell</th>\n",
       "      <th>tgrad</th>\n",
       "      <th>wsshear</th>\n",
       "      <th>wdshear</th>\n",
       "    </tr>\n",
       "  </thead>\n",
       "  <tbody>\n",
       "    <tr>\n",
       "      <th>0</th>\n",
       "      <td>2021-06-01 13:05:04</td>\n",
       "      <td>1</td>\n",
       "      <td>-0.100251</td>\n",
       "      <td>0.058441</td>\n",
       "      <td>-0.144706</td>\n",
       "    </tr>\n",
       "    <tr>\n",
       "      <th>1</th>\n",
       "      <td>2021-06-01 13:09:20</td>\n",
       "      <td>1</td>\n",
       "      <td>-0.100251</td>\n",
       "      <td>0.058441</td>\n",
       "      <td>-0.144706</td>\n",
       "    </tr>\n",
       "    <tr>\n",
       "      <th>2</th>\n",
       "      <td>2021-06-01 13:13:36</td>\n",
       "      <td>1</td>\n",
       "      <td>-0.100447</td>\n",
       "      <td>0.051282</td>\n",
       "      <td>-0.140484</td>\n",
       "    </tr>\n",
       "    <tr>\n",
       "      <th>3</th>\n",
       "      <td>2021-06-02 10:59:12</td>\n",
       "      <td>1</td>\n",
       "      <td>-0.096409</td>\n",
       "      <td>0.002707</td>\n",
       "      <td>0.182215</td>\n",
       "    </tr>\n",
       "    <tr>\n",
       "      <th>4</th>\n",
       "      <td>2021-06-02 11:05:36</td>\n",
       "      <td>1</td>\n",
       "      <td>-0.096409</td>\n",
       "      <td>0.002707</td>\n",
       "      <td>0.182215</td>\n",
       "    </tr>\n",
       "    <tr>\n",
       "      <th>...</th>\n",
       "      <td>...</td>\n",
       "      <td>...</td>\n",
       "      <td>...</td>\n",
       "      <td>...</td>\n",
       "      <td>...</td>\n",
       "    </tr>\n",
       "    <tr>\n",
       "      <th>82</th>\n",
       "      <td>2021-07-26 10:10:08</td>\n",
       "      <td>1</td>\n",
       "      <td>-0.091956</td>\n",
       "      <td>0.139560</td>\n",
       "      <td>-0.167369</td>\n",
       "    </tr>\n",
       "    <tr>\n",
       "      <th>83</th>\n",
       "      <td>2021-07-26 10:14:24</td>\n",
       "      <td>1</td>\n",
       "      <td>-0.091956</td>\n",
       "      <td>0.139560</td>\n",
       "      <td>-0.167369</td>\n",
       "    </tr>\n",
       "    <tr>\n",
       "      <th>84</th>\n",
       "      <td>2021-07-26 09:10:24</td>\n",
       "      <td>2</td>\n",
       "      <td>-0.092805</td>\n",
       "      <td>0.089833</td>\n",
       "      <td>-0.035314</td>\n",
       "    </tr>\n",
       "    <tr>\n",
       "      <th>85</th>\n",
       "      <td>2021-07-26 09:14:40</td>\n",
       "      <td>2</td>\n",
       "      <td>-0.092805</td>\n",
       "      <td>0.089833</td>\n",
       "      <td>-0.035314</td>\n",
       "    </tr>\n",
       "    <tr>\n",
       "      <th>86</th>\n",
       "      <td>2021-07-26 09:18:56</td>\n",
       "      <td>2</td>\n",
       "      <td>-0.091962</td>\n",
       "      <td>0.084557</td>\n",
       "      <td>-0.029149</td>\n",
       "    </tr>\n",
       "  </tbody>\n",
       "</table>\n",
       "<p>87 rows × 5 columns</p>\n",
       "</div>"
      ],
      "text/plain": [
       "                timestr  cell     tgrad   wsshear   wdshear\n",
       "0   2021-06-01 13:05:04     1 -0.100251  0.058441 -0.144706\n",
       "1   2021-06-01 13:09:20     1 -0.100251  0.058441 -0.144706\n",
       "2   2021-06-01 13:13:36     1 -0.100447  0.051282 -0.140484\n",
       "3   2021-06-02 10:59:12     1 -0.096409  0.002707  0.182215\n",
       "4   2021-06-02 11:05:36     1 -0.096409  0.002707  0.182215\n",
       "..                  ...   ...       ...       ...       ...\n",
       "82  2021-07-26 10:10:08     1 -0.091956  0.139560 -0.167369\n",
       "83  2021-07-26 10:14:24     1 -0.091956  0.139560 -0.167369\n",
       "84  2021-07-26 09:10:24     2 -0.092805  0.089833 -0.035314\n",
       "85  2021-07-26 09:14:40     2 -0.092805  0.089833 -0.035314\n",
       "86  2021-07-26 09:18:56     2 -0.091962  0.084557 -0.029149\n",
       "\n",
       "[87 rows x 5 columns]"
      ]
     },
     "execution_count": 22,
     "metadata": {},
     "output_type": "execute_result"
    }
   ],
   "source": [
    "cellsmeteo = pd.read_csv(\"/Users/nicobader/Documents/Uni_Leipzig/master_thesis/analysis/tobac_tracking_statistics/tracks/data/track_statistic_vertical_initial.csv\")\n",
    "cellsmeteo"
   ]
  },
  {
   "cell_type": "code",
   "execution_count": 23,
   "metadata": {},
   "outputs": [
    {
     "data": {
      "image/png": "[encoded data removed]",
      "text/plain": [
       "<Figure size 576x288 with 1 Axes>"
      ]
     },
     "metadata": {
      "needs_background": "light"
     },
     "output_type": "display_data"
    },
    {
     "data": {
      "image/png": "[encoded data removed]",
      "text/plain": [
       "<Figure size 576x288 with 1 Axes>"
      ]
     },
     "metadata": {
      "needs_background": "light"
     },
     "output_type": "display_data"
    },
    {
     "data": {
      "image/png": "[encoded data removed]",
      "text/plain": [
       "<Figure size 576x288 with 1 Axes>"
      ]
     },
     "metadata": {
      "needs_background": "light"
     },
     "output_type": "display_data"
    }
   ],
   "source": [
    "# WIND SPEED SHEAR\n",
    "plt.figure(figsize=(8,4))\n",
    "seaborn.histplot(cellsmeteo.wsshear,kde = False, bins = int(((cellsmeteo.wsshear).max()-(cellsmeteo.wsshear).min())/0.005), stat = \"probability\")\n",
    "plt.xlabel('Wind speed gradient (m s$^{-1}$ hPa$^{-1}$)')\n",
    "plt.savefig('/Users/nicobader/Documents/Uni_Leipzig/master_thesis/analysis/tobac_tracking_statistics/tracks/vertical_tINIT_wind_speed_gradient_'+nwp+'.png',dpi=400,facecolor='white',transparent=False)\n",
    "\n",
    "# WIND DIRECTION SHEAR\n",
    "plt.figure(figsize=(8,4))\n",
    "seaborn.histplot(cellsmeteo.wdshear,kde = False, bins = int(((cellsmeteo.wdshear).max()-(cellsmeteo.wdshear).min())/0.02), stat = \"probability\")\n",
    "plt.xlabel('Wind direction gradient ($^{\\circ}$ hPa$^{-1}$)')\n",
    "plt.savefig('/Users/nicobader/Documents/Uni_Leipzig/master_thesis/analysis/tobac_tracking_statistics/tracks/vertical_tINIT_wind_direction_gradient_'+nwp+'.png',dpi=400,facecolor='white',transparent=False)\n",
    "\n",
    "# TEMPERATURE GRADIENT\n",
    "plt.figure(figsize=(8,4))\n",
    "seaborn.histplot(cellsmeteo.tgrad,kde = False, bins = int(((cellsmeteo.tgrad).max()-(cellsmeteo.tgrad).min())/0.0008), stat = \"probability\")\n",
    "plt.xlabel('Temperature gradient (K hPa$^{-1}$)')\n",
    "plt.savefig('/Users/nicobader/Documents/Uni_Leipzig/master_thesis/analysis/tobac_tracking_statistics/tracks/vertical_tINIT_temperature_gradient_'+nwp+'.png',dpi=400,facecolor='white',transparent=False)\n"
   ]
  }
 ],
 "metadata": {
  "interpreter": {
   "hash": "1bcd3bb4e47153a18745af0e58ccd66192849e7e52667fbe8382b158d7c776df"
  },
  "kernelspec": {
   "display_name": "Python 3.7.7 ('base')",
   "language": "python",
   "name": "python3"
  },
  "language_info": {
   "codemirror_mode": {
    "name": "ipython",
    "version": 3
   },
   "file_extension": ".py",
   "mimetype": "text/x-python",
   "name": "python",
   "nbconvert_exporter": "python",
   "pygments_lexer": "ipython3",
   "version": "3.7.7"
  },
  "orig_nbformat": 4
 },
 "nbformat": 4,
 "nbformat_minor": 2
}
