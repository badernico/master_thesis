{
 "cells": [
  {
   "cell_type": "code",
   "execution_count": 1,
   "metadata": {},
   "outputs": [],
   "source": [
    "import pandas as pd\n",
    "import numpy as np\n",
    "import netCDF4 as nc\n",
    "\n",
    "os.environ['TZ'] = 'UTC'"
   ]
  },
  {
   "cell_type": "code",
   "execution_count": 41,
   "metadata": {},
   "outputs": [],
   "source": [
    "doi = \"2021-06-18\"\n",
    "\n",
    "y_oi = doi.split('-')[0]\n",
    "m_oi = doi.split('-')[1]\n",
    "d_oi = doi.split('-')[2]\n",
    "\n",
    "# Get tobac tracking data\n",
    "fname = \"/Volumes/Elements/data/tobac/Save/\"+y_oi+\"/\"+m_oi+\"/\"+d_oi+\"/Track.nc\"\n",
    "ds = nc.Dataset(fname)\n",
    "\n",
    "frame = ds.variables['frame'][:]\n",
    "idx = ds.variables['idx'][:]\n",
    "hdim_1 = ds.variables['hdim_1'][:]\n",
    "hdim_2 = ds.variables['hdim_2'][:]\n",
    "num = ds.variables['num'][:]\n",
    "threshold_value = ds.variables['threshold_value'][:]\n",
    "feature = ds.variables['feature'][:]\n",
    "time = ds.variables['time'][:]\n",
    "timestr = ds.variables['timestr'][:]\n",
    "latitude = ds.variables['latitude'][:]\n",
    "longitude = ds.variables['longitude'][:]\n",
    "cell = ds.variables['cell'][:]\n",
    "time_cell = ds.variables['time_cell'][:]\n",
    "\n",
    "data = pd.DataFrame({'frame':frame, 'idx': idx, 'hdim_1':hdim_1, 'hdim_2':hdim_2,\n",
    "'num':num, 'threshold_value': threshold_value, 'feature': feature, 'time':time,'timestr':timestr, 'latitude': latitude, 'longitude':longitude, 'cell':cell, 'time_cell':time_cell})\n",
    "\n",
    "# delete all rows where data.cell is NaN\n",
    "# these rows are not connected to an individual object\n",
    "#data = data.dropna(subset = ['cell'])"
   ]
  },
  {
   "cell_type": "code",
   "execution_count": 42,
   "metadata": {},
   "outputs": [],
   "source": [
    "no = 1\n",
    "cell_data = pd.DataFrame()\n"
   ]
  },
  {
   "cell_type": "code",
   "execution_count": 3,
   "metadata": {},
   "outputs": [],
   "source": [
    "temp = data[(data.timestr == \"2021-07-26 11:09:52\") & np.isnan(data.cell) & (data.latitude > 48.24) & (data.latitude < 48.25)]\n",
    "temp = temp.reset_index(drop=True)\n",
    "#temp = pd.DataFrame([temp.loc[1]])\n",
    "temp"
   ]
  },
  {
   "cell_type": "code",
   "execution_count": 2,
   "metadata": {},
   "outputs": [],
   "source": [
    "temp = data[data.cell == 1071]\n",
    "temp = temp.reset_index(drop=True)\n",
    "#temp = pd.DataFrame([temp.loc[1]])\n",
    "#temp = temp.loc[0:1]\n",
    "temp"
   ]
  },
  {
   "cell_type": "code",
   "execution_count": 46,
   "metadata": {},
   "outputs": [],
   "source": [
    "cell_data = pd.concat([cell_data,temp], axis = 0)\n",
    "cell_data = cell_data.reset_index(drop=True)"
   ]
  },
  {
   "cell_type": "code",
   "execution_count": 50,
   "metadata": {},
   "outputs": [],
   "source": [
    "cell_data[\"flag\"] = cell_data.cell\n",
    "cell_data.cell = no"
   ]
  },
  {
   "cell_type": "code",
   "execution_count": 51,
   "metadata": {},
   "outputs": [],
   "source": [
    "cell_data.to_csv(\"/Users/nicobader/Documents/Uni_Leipzig/master_thesis/analysis/tracks/data/\"+y_oi+\"/\"+m_oi+\"/\"+d_oi+\"/Track_\"+str(no)+\".csv\",index=False)"
   ]
  }
 ],
 "metadata": {
  "interpreter": {
   "hash": "1bcd3bb4e47153a18745af0e58ccd66192849e7e52667fbe8382b158d7c776df"
  },
  "kernelspec": {
   "display_name": "Python 3.7.7 ('base')",
   "language": "python",
   "name": "python3"
  },
  "language_info": {
   "codemirror_mode": {
    "name": "ipython",
    "version": 3
   },
   "file_extension": ".py",
   "mimetype": "text/x-python",
   "name": "python",
   "nbconvert_exporter": "python",
   "pygments_lexer": "ipython3",
   "version": "3.7.7"
  },
  "orig_nbformat": 4
 },
 "nbformat": 4,
 "nbformat_minor": 2
}
