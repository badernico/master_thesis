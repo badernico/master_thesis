{
 "cells": [
  {
   "cell_type": "markdown",
   "id": "4cc98bdc",
   "metadata": {},
   "source": [
    "## Tobac - input\n",
    "\n",
    "To use tobac with the object-based method, data from satellite retrievels and models are needed. </p>\n",
    "In this case, outgoing longwave radiation (OLR) and model output are used in the feature detection."
   ]
  }
 ],
 "metadata": {
  "kernelspec": {
   "display_name": "Python 3",
   "language": "python",
   "name": "python3"
  },
  "language_info": {
   "codemirror_mode": {
    "name": "ipython",
    "version": 3
   },
   "file_extension": ".py",
   "mimetype": "text/x-python",
   "name": "python",
   "nbconvert_exporter": "python",
   "pygments_lexer": "ipython3",
   "version": "3.7.7"
  }
 },
 "nbformat": 4,
 "nbformat_minor": 5
}
