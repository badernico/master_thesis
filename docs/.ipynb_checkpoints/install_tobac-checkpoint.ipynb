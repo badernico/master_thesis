{
 "cells": [
  {
   "cell_type": "markdown",
   "id": "15571ba2",
   "metadata": {},
   "source": [
    "## How to install and run Tobac-Tutorials\n",
    "\n",
    "This documentation explains how to use tobac-tutorial notebooks for tobac 2.x using an **Anaconda** environment. For running tutorials on your local device, create a new folder where the data will be located. Open a terminal in your folder and clone the tobac repository from Github with:"
   ]
  },
  {
   "cell_type": "code",
   "execution_count": 2,
   "id": "89b8bc88",
   "metadata": {},
   "outputs": [],
   "source": [
    "git clone https://github.com/climate-processes/tobac"
   ]
  },
  {
   "cell_type": "markdown",
   "id": "c06296a3",
   "metadata": {},
   "source": [
    "Change your directory to the tobac folder."
   ]
  },
  {
   "cell_type": "code",
   "execution_count": null,
   "id": "6464ee2a",
   "metadata": {},
   "outputs": [],
   "source": [
    "cd tobac"
   ]
  },
  {
   "cell_type": "markdown",
   "id": "01be31b4",
   "metadata": {},
   "source": [
    "The tutorials need to be used within the: </p>\n",
    "**v2.0-dev development branch** </p> \n",
    "\n",
    "For fetching all branches and checking which branch you’re on, use:"
   ]
  },
  {
   "cell_type": "code",
   "execution_count": null,
   "id": "e35c4776",
   "metadata": {},
   "outputs": [],
   "source": [
    "git branch -a"
   ]
  },
  {
   "cell_type": "markdown",
   "id": "f106146e",
   "metadata": {},
   "source": [
    "As you can see, you’re either on **v2.0-dev** branch or **master** branch (not compatible with these tutorials, for that use examples provided on tobac master branch). </p> You need to switch branches, so use:"
   ]
  },
  {
   "cell_type": "code",
   "execution_count": null,
   "id": "f4c045d9",
   "metadata": {},
   "outputs": [],
   "source": [
    "git checkout --track origin/v2.0-dev"
   ]
  },
  {
   "cell_type": "markdown",
   "id": "be4ee13e",
   "metadata": {},
   "source": [
    "Check again which branch you’re on. The active branch will appear with a * and in green color."
   ]
  },
  {
   "cell_type": "code",
   "execution_count": null,
   "id": "367a91a1",
   "metadata": {},
   "outputs": [],
   "source": [
    "git branch"
   ]
  },
  {
   "cell_type": "markdown",
   "id": "ce8fa132",
   "metadata": {},
   "source": [
    "Now this works fine, but you’ll also need to clone the respective repository where the tutorials are located. Change your directory pointing to the main directory and clone the repository like before with:"
   ]
  },
  {
   "cell_type": "code",
   "execution_count": null,
   "id": "a9eae5f2",
   "metadata": {},
   "outputs": [],
   "source": [
    "cd ..\n",
    "git clone https://github.com/climate-processes/tobac-tutorials"
   ]
  },
  {
   "cell_type": "markdown",
   "id": "23e2da95",
   "metadata": {},
   "source": [
    "This creates a second folder next to your tobac folder. Change your directory to the tobac-tutorials folder. Again, check what branch you’re in (you’ll notice there exists only one branch, the **master** branch.)"
   ]
  },
  {
   "cell_type": "code",
   "execution_count": null,
   "id": "d989cf21",
   "metadata": {},
   "outputs": [],
   "source": [
    "cd tobac-tutorials\n",
    "git status"
   ]
  },
  {
   "cell_type": "markdown",
   "id": "731b4b3f",
   "metadata": {},
   "source": [
    "In the next step, you need to create a conda environment next to your repositories for providing all required software dependencies.</p> Initiate a new conda environment with:"
   ]
  },
  {
   "cell_type": "code",
   "execution_count": null,
   "id": "9de022eb",
   "metadata": {},
   "outputs": [],
   "source": [
    "cd ..\n",
    "conda create --prefix tobac-testing-env python=3.7"
   ]
  },
  {
   "cell_type": "markdown",
   "id": "902846c3",
   "metadata": {},
   "source": [
    "Enter your environment's name (*tobac-testing-env*) and the Python version of your choice (3.6, 3.7, 3.8). </p>\n",
    "\n",
    "Activate your conda environment. Then, change to your tobac directory and install the tobac requirements from the *conda-requirements.txt* file."
   ]
  },
  {
   "cell_type": "code",
   "execution_count": null,
   "id": "6e92bfe9",
   "metadata": {},
   "outputs": [],
   "source": [
    "conda activate ./tobac-testing-env\n",
    "cd tobac\n",
    "conda install -c conda-forge --file conda-requirements.txt"
   ]
  },
  {
   "cell_type": "markdown",
   "id": "e43e8ecd",
   "metadata": {},
   "source": [
    "With this, all necessary prerequisites for running tobac are met. Deactivate your conda environment so you can install the tobac package."
   ]
  },
  {
   "cell_type": "code",
   "execution_count": null,
   "id": "c3d49670",
   "metadata": {},
   "outputs": [],
   "source": [
    "conda deactivate\n",
    "pip install ."
   ]
  },
  {
   "cell_type": "markdown",
   "id": "21174a06",
   "metadata": {},
   "source": [
    "Up to this point, you should have successfully installed tobac. You'll need to install tobac in your environment as well."
   ]
  },
  {
   "cell_type": "code",
   "execution_count": null,
   "id": "642b6bb3",
   "metadata": {},
   "outputs": [],
   "source": [
    "conda activate ./tobac-testing-env\n",
    "conda install -c conda-forge tobac"
   ]
  },
  {
   "cell_type": "markdown",
   "id": "3f0d72a0",
   "metadata": {},
   "source": [
    "As the tutorials are provided by Jupyter Notebook, you’ll need to install jupyter in your environment as well."
   ]
  },
  {
   "cell_type": "code",
   "execution_count": null,
   "id": "8c046fde",
   "metadata": {},
   "outputs": [],
   "source": [
    "conda install -c conda-forge jupyter"
   ]
  },
  {
   "cell_type": "markdown",
   "id": "85fc8ae0",
   "metadata": {},
   "source": [
    "Required packages:</p>\n",
    "trackpy scipy numpy iris scikit-learn cartopy pandas pytables </p>\n",
    "\n",
    "If you are using anaconda, the following command should make sure all dependencies are met and up to date:"
   ]
  },
  {
   "cell_type": "code",
   "execution_count": null,
   "id": "e08930cd",
   "metadata": {},
   "outputs": [],
   "source": [
    "conda install -c conda-forge trackpy scipy numpy iris scikit-learn cartopy pandas pytables "
   ]
  },
  {
   "cell_type": "markdown",
   "id": "9e6ae436",
   "metadata": {},
   "source": [
    "In the active environment, you need to install additional packages that are exclusively used my the tutorial notebooks. These packages are however not mandatory for the execution of tobacitself. So please type:"
   ]
  },
  {
   "cell_type": "code",
   "execution_count": null,
   "id": "d67b6d55",
   "metadata": {},
   "outputs": [],
   "source": [
    "conda install -c conda-forge jupyter boto3 basemap basemap-data-hires"
   ]
  },
  {
   "cell_type": "markdown",
   "id": "203203a6",
   "metadata": {},
   "source": [
    "In the newest version of the *cftime* module some functions are removed which are mandatory for running tobac. </p>\n",
    "You'll have to install an older version (1.4.1 or older):"
   ]
  },
  {
   "cell_type": "code",
   "execution_count": null,
   "id": "ac21a3bb",
   "metadata": {},
   "outputs": [],
   "source": [
    "conda install -c conda-forge cftime==1.4.1"
   ]
  },
  {
   "cell_type": "markdown",
   "id": "2522e8f5",
   "metadata": {},
   "source": [
    "For running the notebooks, change the directory and start jupyter notebook within the *tobac-testing-env* environment"
   ]
  },
  {
   "cell_type": "code",
   "execution_count": null,
   "id": "97530576",
   "metadata": {},
   "outputs": [],
   "source": [
    "cd ..\n",
    "cd tobac-tutorials\n",
    "jupyter notebook"
   ]
  }
 ],
 "metadata": {
  "kernelspec": {
   "display_name": "Python 3",
   "language": "python",
   "name": "python3"
  },
  "language_info": {
   "codemirror_mode": {
    "name": "ipython",
    "version": 3
   },
   "file_extension": ".py",
   "mimetype": "text/x-python",
   "name": "python",
   "nbconvert_exporter": "python",
   "pygments_lexer": "ipython3",
   "version": "3.7.7"
  }
 },
 "nbformat": 4,
 "nbformat_minor": 5
}
