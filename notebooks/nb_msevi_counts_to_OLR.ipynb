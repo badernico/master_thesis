{
 "cells": [
  {
   "cell_type": "code",
   "execution_count": 308,
   "id": "c8f6f852",
   "metadata": {},
   "outputs": [],
   "source": [
    "# load modules\n",
    "import netCDF4 as nc\n",
    "import glob\n",
    "import numpy as np\n",
    "import datetime\n",
    "import os"
   ]
  },
  {
   "cell_type": "code",
   "execution_count": 309,
   "id": "7200bddb",
   "metadata": {},
   "outputs": [],
   "source": [
    "# system timezone to UTC\n",
    "# everything will be done in UTC\n",
    "# UTC = CET-1h/CEST-2h\n",
    "os.environ['TZ'] = 'UTC'"
   ]
  },
  {
   "cell_type": "code",
   "execution_count": 310,
   "id": "2c22090a",
   "metadata": {},
   "outputs": [],
   "source": [
    "# date of interest\n",
    "# need to find correct file path\n",
    "doi = '2021-06-20' # year-month-day"
   ]
  },
  {
   "cell_type": "code",
   "execution_count": 311,
   "id": "f34a2ae3",
   "metadata": {},
   "outputs": [],
   "source": [
    "# list the to file(s) at the doi\n",
    "y_oi = doi.split('-')[0]\n",
    "m_oi = doi.split('-')[1]\n",
    "d_oi = doi.split('-')[2]\n",
    "\n",
    "fnames = glob.glob('/Volumes/Elements/data/msevi_rss/raw_netcdf/'+y_oi+'/'+m_oi+'/'+d_oi+'/*')\n",
    "fnames.sort()"
   ]
  },
  {
   "cell_type": "code",
   "execution_count": 313,
   "id": "6259471b",
   "metadata": {},
   "outputs": [],
   "source": [
    "# for loop -> loop over different files\n",
    "# looping over all files is available in the .py script (msevi_nat_to_netcdf.py)\n",
    "# in this notebook: i = [from 0 to number of files]\n",
    "i = 9"
   ]
  },
  {
   "cell_type": "code",
   "execution_count": 314,
   "id": "52d3ffc0",
   "metadata": {},
   "outputs": [],
   "source": [
    "# get the i-th filename \n",
    "fname = fnames[i]\n",
    "ftext = fnames[i]"
   ]
  },
  {
   "cell_type": "code",
   "execution_count": 316,
   "id": "20decb73",
   "metadata": {},
   "outputs": [],
   "source": [
    "# get date and time information of the file\n",
    "ftext = ftext.split(\"/\")[9]\n",
    "ftext = ftext.split(\".\")[1]\n",
    "ftext = ftext.split(\"-\")[1]\n",
    "\n",
    "year = list(ftext)[0]+list(ftext)[1]+list(ftext)[2]+list(ftext)[3]\n",
    "month = list(ftext)[4]+list(ftext)[5]\n",
    "day = list(ftext)[6]+list(ftext)[7]\n",
    "hour = list(ftext)[8]+list(ftext)[9]\n",
    "minute = list(ftext)[10]+list(ftext)[11]\n",
    "second = list(ftext)[12]+list(ftext)[13]"
   ]
  },
  {
   "cell_type": "code",
   "execution_count": 288,
   "id": "8954513d",
   "metadata": {},
   "outputs": [],
   "source": [
    "# open netCDF file\n",
    "ds = nc.Dataset(fname)"
   ]
  },
  {
   "cell_type": "code",
   "execution_count": 289,
   "id": "622d4c53",
   "metadata": {},
   "outputs": [],
   "source": [
    "# get IR_108 and WV_062 channel data in counts unit\n",
    "ir_counts = ds.variables['IR_108'][:]\n",
    "wv_counts = ds.variables['WV_062'][:]"
   ]
  },
  {
   "cell_type": "markdown",
   "id": "b6d8ee10",
   "metadata": {},
   "source": [
    "\n",
    "### Coefficients for conversion </p>\n",
    "**WV_062**\n",
    "- cal_slope: 0.0083\n",
    "- cal_offset: -0.424\n",
    "- fi: 88.624939 \n",
    "\n",
    "**IR_108**\n",
    "- cal_slope: 0.2156\n",
    "- cal_offset: -10.4\n",
    "- fi: 65.836404\n"
   ]
  },
  {
   "cell_type": "code",
   "execution_count": 290,
   "id": "2ed92339",
   "metadata": {},
   "outputs": [],
   "source": [
    "# convert counts to spectral radiance (mW m-2 sr-1 cm-1)\n",
    "ir_specrad = ir_counts*0.2156+(-10.4)\n",
    "wv_specrad = wv_counts*0.0083+(-0.424)"
   ]
  },
  {
   "cell_type": "code",
   "execution_count": 291,
   "id": "67f592ba",
   "metadata": {},
   "outputs": [],
   "source": [
    "# convert spectral radiance to radiance\n",
    "ir_rad = ir_specrad*65.836/1000\n",
    "wv_rad = wv_specrad*88.625/1000"
   ]
  },
  {
   "cell_type": "code",
   "execution_count": 292,
   "id": "ae77ea36",
   "metadata": {},
   "outputs": [],
   "source": [
    "# calculating outgoing longwave radiation (OLR) (Singh et al., 2007)\n",
    "olr = 12.94*ir_rad+16.5*wv_rad+((10.09*wv_rad)/ir_rad)+((12.94*wv_rad)/(ir_rad+0.39))+77.47"
   ]
  },
  {
   "cell_type": "code",
   "execution_count": 293,
   "id": "c58bbc0c",
   "metadata": {},
   "outputs": [],
   "source": [
    "# put array into a big OLR dataset\n",
    "\n",
    "# if i = 0 in the for loop:\n",
    "# https://stackoverflow.com/questions/53882600/numpy-append-multiple-different-np-arrays-in-one-axis-of-existing-np-array\n",
    "OLR = np.ma.asanyarray([olr]*len(fnames))\n",
    "\n",
    "# if i >= 1 in the for loop:\n",
    "OLR[i] = olr*20 "
   ]
  },
  {
   "cell_type": "code",
   "execution_count": 294,
   "id": "762fcee4",
   "metadata": {},
   "outputs": [],
   "source": [
    "############\n",
    "# SENSING TIME AS UNIX-TIMESTAMP\n",
    "# seconds since 1970-01-01 00:00:00 (UTC)\n",
    "dt_str = year+'-'+month+'-'+day+' '+hour+':'+minute+':'+second\n",
    "dt_object = datetime.datetime.fromisoformat(dt_str)\n",
    "timestamp = datetime.datetime.timestamp(dt_object)"
   ]
  },
  {
   "cell_type": "code",
   "execution_count": 295,
   "id": "b2d09e12",
   "metadata": {},
   "outputs": [],
   "source": [
    "# put array into a big time array\n",
    "\n",
    "# if i = 0 in the for loop:\n",
    "times = np.ma.array([int(timestamp)]*len(fnames))\n",
    "\n",
    "# if i >=1 in the for loop:\n",
    "times[i] = timestamp"
   ]
  },
  {
   "cell_type": "code",
   "execution_count": 338,
   "id": "92ae6191",
   "metadata": {},
   "outputs": [
    {
     "data": {
      "text/plain": [
       "['2021-06-20',\n",
       " '2021-06-21',\n",
       " '2021-06-22',\n",
       " '2021-07-04',\n",
       " '2021-07-13',\n",
       " '2021-07-15',\n",
       " '2021-07-16',\n",
       " '2021-07-17',\n",
       " '2021-07-24',\n",
       " '2021-07-25',\n",
       " '2021-07-26',\n",
       " '2021-07-28',\n",
       " '2021-07-30']"
      ]
     },
     "execution_count": 338,
     "metadata": {},
     "output_type": "execute_result"
    }
   ],
   "source": []
  },
  {
   "cell_type": "code",
   "execution_count": 296,
   "id": "7cbf9c0a",
   "metadata": {},
   "outputs": [],
   "source": [
    "## !! END OF FOR LOOP HERE !!"
   ]
  },
  {
   "cell_type": "code",
   "execution_count": 297,
   "id": "87c47f78",
   "metadata": {},
   "outputs": [],
   "source": [
    "############\n",
    "# GET X,Y DIMENSIONS\n",
    "# define latitude and longitude array\n",
    "lat = ds.variables['latitude'][:]\n",
    "lon = ds.variables['longitude'][:]\n",
    "lat_dim = np.ma.masked_array(np.arange(lat.min(),lat.max()+0.001,(lat.max()-lat.min())/(lat.shape[1]-1)))\n",
    "lon_dim = np.ma.masked_array(np.arange(lon.min(),lon.max()+0.001,(lon.max()-lon.min())/(lon.shape[0]-1)))"
   ]
  },
  {
   "cell_type": "code",
   "execution_count": 298,
   "id": "01aa0d20",
   "metadata": {},
   "outputs": [],
   "source": [
    "############\n",
    "# CREATE THE NETCDF FILE\n",
    "nc_fn = '/Volumes/Elements/data/msevi_rss/olr/'+y_oi+'/'+m_oi+'/'+'OLR_'+year+month+day+'.nc'\n",
    "nc_ds = nc.Dataset(nc_fn, 'w', format = 'NETCDF4')"
   ]
  },
  {
   "cell_type": "code",
   "execution_count": 299,
   "id": "bdc99db6",
   "metadata": {},
   "outputs": [],
   "source": [
    "# define dimensions\n",
    "time = nc_ds.createDimension('time', len(times))\n",
    "lat = nc_ds.createDimension('lat', len(lat_dim))\n",
    "lon = nc_ds.createDimension('lon', len(lon_dim))"
   ]
  },
  {
   "cell_type": "code",
   "execution_count": 300,
   "id": "d6580845",
   "metadata": {},
   "outputs": [],
   "source": [
    "# define variables\n",
    "olr = nc_ds.createVariable('olr', 'f4', ('time', 'lat', 'lon',))\n",
    "time = nc_ds.createVariable('time', 'f4', ('time',))\n",
    "lat = nc_ds.createVariable('lat', 'f4', ('lat',))\n",
    "lon = nc_ds.createVariable('lon', 'f4', ('lon',))"
   ]
  },
  {
   "cell_type": "code",
   "execution_count": 301,
   "id": "98e771ab",
   "metadata": {},
   "outputs": [],
   "source": [
    "# define units\n",
    "olr.units = 'W m^-2'\n",
    "time.units = 'seconds since 1970-1-1'\n",
    "lat.units = 'degrees_north'\n",
    "lon.units = 'degrees_east'"
   ]
  },
  {
   "cell_type": "code",
   "execution_count": 302,
   "id": "83b147a1",
   "metadata": {},
   "outputs": [],
   "source": [
    "# define other names\n",
    "olr.long_name = 'OLR'\n",
    "time.standard_name = 'time'\n",
    "lat.standard_name = 'latitude'\n",
    "lon.standard_name = 'longitude'"
   ]
  },
  {
   "cell_type": "code",
   "execution_count": 303,
   "id": "8a8f9c60",
   "metadata": {},
   "outputs": [],
   "source": [
    "# define axis\n",
    "time.axis = 'T'\n",
    "lat.axis = 'Y'\n",
    "lon.axis = 'X'"
   ]
  },
  {
   "cell_type": "code",
   "execution_count": 304,
   "id": "dfaf6be2",
   "metadata": {},
   "outputs": [],
   "source": [
    "# define others\n",
    "time.calendar = 'gregorian'\n",
    "lat.datum = 'WGS84'\n",
    "lon.datum = 'WGS84'"
   ]
  },
  {
   "cell_type": "code",
   "execution_count": 305,
   "id": "9f1732f1",
   "metadata": {},
   "outputs": [],
   "source": [
    "# define spacing\n",
    "lat.spacing = str((lat_dim[len(lat_dim)-1]-lat_dim[0])/(len(lat_dim)-1))\n",
    "lon.spacing = str((lon_dim[len(lon_dim)-1]-lon_dim[0])/(len(lon_dim)-1))"
   ]
  },
  {
   "cell_type": "code",
   "execution_count": 306,
   "id": "f1b0d7af",
   "metadata": {},
   "outputs": [],
   "source": [
    "# assign data to variables\n",
    "lat[:] = lat_dim\n",
    "lon[:] = lon_dim\n",
    "time[:] = times\n",
    "olr[:] = OLR"
   ]
  },
  {
   "cell_type": "code",
   "execution_count": 307,
   "id": "df84629d",
   "metadata": {},
   "outputs": [],
   "source": [
    "# close the netCDF\n",
    "nc_ds.close()"
   ]
  }
 ],
 "metadata": {
  "kernelspec": {
   "display_name": "Python 3",
   "language": "python",
   "name": "python3"
  },
  "language_info": {
   "codemirror_mode": {
    "name": "ipython",
    "version": 3
   },
   "file_extension": ".py",
   "mimetype": "text/x-python",
   "name": "python",
   "nbconvert_exporter": "python",
   "pygments_lexer": "ipython3",
   "version": "3.7.7"
  }
 },
 "nbformat": 4,
 "nbformat_minor": 5
}
