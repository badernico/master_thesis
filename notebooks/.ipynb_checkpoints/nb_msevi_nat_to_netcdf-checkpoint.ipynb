{
 "cells": [
  {
   "cell_type": "code",
   "execution_count": 37,
   "id": "921a2609",
   "metadata": {},
   "outputs": [],
   "source": [
    "# load modules\n",
    "from satpy.scene import Scene\n",
    "from satpy.resample import get_area_def\n",
    "from satpy.dataset import combine_metadata\n",
    "from satpy import find_files_and_readers\n",
    "from satpy.writers import available_writers\n",
    "from satpy import DataQuery\n",
    "from datetime import datetime\n",
    "from pyresample import load_area\n",
    "from pyresample.geometry import AreaDefinition\n",
    "import glob\n",
    "import warnings\n",
    "import numpy as np\n",
    "import xarray\n",
    "import netCDF4"
   ]
  },
  {
   "cell_type": "markdown",
   "id": "ed4934e9",
   "metadata": {},
   "source": [
    "**Read data**\n",
    "- The SEVIRI Rapid Scan file is delivered in native format (.nat)\n",
    "- The *seviri_l1b_native* reader for loading the files"
   ]
  },
  {
   "cell_type": "code",
   "execution_count": 38,
   "id": "3bcb3e71",
   "metadata": {},
   "outputs": [],
   "source": [
    "# date of interest\n",
    "# need to find correct file path\n",
    "doi = '2021-07-04' # year-month-day"
   ]
  },
  {
   "cell_type": "code",
   "execution_count": 39,
   "id": "7a764046",
   "metadata": {},
   "outputs": [],
   "source": [
    "# list the to file(s) at the doi\n",
    "y_oi = doi.split('-')[0]\n",
    "m_oi = doi.split('-')[1]\n",
    "d_oi = doi.split('-')[2]\n",
    "\n",
    "fnames = glob.glob('/Volumes/Elements/data/msevi_rss/raw_nat/'+y_oi+'/'+m_oi+'/'+d_oi+'/*')\n",
    "fnames.sort()"
   ]
  },
  {
   "cell_type": "code",
   "execution_count": 40,
   "id": "d00ed8bd",
   "metadata": {},
   "outputs": [],
   "source": [
    "# for loop -> loop over different files\n",
    "# looping over all files is available in the .py script (msevi_nat_to_netcdf.py)\n",
    "# in this notebook: i = [from 0 to number of files]\n",
    "i = 0"
   ]
  },
  {
   "cell_type": "code",
   "execution_count": 41,
   "id": "fa7c747d",
   "metadata": {},
   "outputs": [],
   "source": [
    "# get the i-th filename \n",
    "fname = [fnames[i]]\n",
    "ftext = fnames[i]"
   ]
  },
  {
   "cell_type": "code",
   "execution_count": 42,
   "id": "7d56a4c5",
   "metadata": {},
   "outputs": [],
   "source": [
    "# get date and time information of the file\n",
    "ftext = ftext.split(\"/\")[9]\n",
    "ftext = ftext.split(\".\")[0]+'.'+ftext.split(\".\")[1]\n",
    "#year = list(ftext)[0]+list(ftext)[1]+list(ftext)[2]+list(ftext)[3]\n",
    "#month = list(ftext)[4]+list(ftext)[5]\n",
    "#day = list(ftext)[6]+list(ftext)[7]\n",
    "#hour = list(ftext)[8]+list(ftext)[9]\n",
    "#minute = list(ftext)[10]+list(ftext)[11]\n",
    "#second = list(ftext)[12]+list(ftext)[13]"
   ]
  },
  {
   "cell_type": "code",
   "execution_count": 43,
   "id": "45ba4782",
   "metadata": {},
   "outputs": [],
   "source": [
    "# read the i-th file: SEVIRI Rapid Scan (native format)\n",
    "scn = Scene(reader='seviri_l1b_native', filenames=fname)"
   ]
  },
  {
   "cell_type": "code",
   "execution_count": 74,
   "id": "f6f12f58",
   "metadata": {},
   "outputs": [],
   "source": [
    "# available composites\n",
    "#scn.available_composite_ids()"
   ]
  },
  {
   "cell_type": "code",
   "execution_count": 44,
   "id": "4425f0fc",
   "metadata": {},
   "outputs": [],
   "source": [
    "# available datasets\n",
    "#scn.all_dataset_ids()"
   ]
  },
  {
   "cell_type": "code",
   "execution_count": 44,
   "id": "1be57a3e",
   "metadata": {},
   "outputs": [
    {
     "name": "stderr",
     "output_type": "stream",
     "text": [
      "/Users/nicobader/opt/anaconda3/lib/python3.7/site-packages/pyproj/crs/crs.py:1256: UserWarning: You will likely lose important projection information when converting to a PROJ string from another format. See: https://proj.org/faq.html#what-is-the-best-format-for-describing-coordinate-reference-systems\n",
      "  return self._crs.to_proj4(version=version)\n",
      "/Users/nicobader/opt/anaconda3/lib/python3.7/site-packages/pyproj/crs/crs.py:1256: UserWarning: You will likely lose important projection information when converting to a PROJ string from another format. See: https://proj.org/faq.html#what-is-the-best-format-for-describing-coordinate-reference-systems\n",
      "  return self._crs.to_proj4(version=version)\n",
      "/Users/nicobader/opt/anaconda3/lib/python3.7/site-packages/pyproj/crs/crs.py:1256: UserWarning: You will likely lose important projection information when converting to a PROJ string from another format. See: https://proj.org/faq.html#what-is-the-best-format-for-describing-coordinate-reference-systems\n",
      "  return self._crs.to_proj4(version=version)\n",
      "/Users/nicobader/opt/anaconda3/lib/python3.7/site-packages/pyproj/crs/crs.py:1256: UserWarning: You will likely lose important projection information when converting to a PROJ string from another format. See: https://proj.org/faq.html#what-is-the-best-format-for-describing-coordinate-reference-systems\n",
      "  return self._crs.to_proj4(version=version)\n",
      "/Users/nicobader/opt/anaconda3/lib/python3.7/site-packages/pyproj/crs/crs.py:1256: UserWarning: You will likely lose important projection information when converting to a PROJ string from another format. See: https://proj.org/faq.html#what-is-the-best-format-for-describing-coordinate-reference-systems\n",
      "  return self._crs.to_proj4(version=version)\n",
      "/Users/nicobader/opt/anaconda3/lib/python3.7/site-packages/pyproj/crs/crs.py:1256: UserWarning: You will likely lose important projection information when converting to a PROJ string from another format. See: https://proj.org/faq.html#what-is-the-best-format-for-describing-coordinate-reference-systems\n",
      "  return self._crs.to_proj4(version=version)\n",
      "/Users/nicobader/opt/anaconda3/lib/python3.7/site-packages/pyproj/crs/crs.py:1256: UserWarning: You will likely lose important projection information when converting to a PROJ string from another format. See: https://proj.org/faq.html#what-is-the-best-format-for-describing-coordinate-reference-systems\n",
      "  return self._crs.to_proj4(version=version)\n"
     ]
    }
   ],
   "source": [
    "# load channels, calibrations and composites\n",
    "scn.load(['HRV',0.6,0.8,1.6,3.9,8.7,9.7,12.0,13.4,7.3,10.8,6.2], calibration='counts')\n",
    "scn.load(['convection'])\n",
    "scn.load(['natural_color'])"
   ]
  },
  {
   "cell_type": "code",
   "execution_count": 45,
   "id": "5862aa29",
   "metadata": {},
   "outputs": [
    {
     "name": "stderr",
     "output_type": "stream",
     "text": [
      "/Users/nicobader/opt/anaconda3/lib/python3.7/site-packages/pyresample/spherical.py:114: RuntimeWarning: invalid value encountered in true_divide\n",
      "  self.cart /= np.sqrt(np.einsum('...i, ...i', self.cart, self.cart))\n",
      "/Users/nicobader/opt/anaconda3/lib/python3.7/site-packages/pyresample/spherical.py:114: RuntimeWarning: invalid value encountered in true_divide\n",
      "  self.cart /= np.sqrt(np.einsum('...i, ...i', self.cart, self.cart))\n",
      "/Users/nicobader/opt/anaconda3/lib/python3.7/site-packages/pyproj/crs/crs.py:1256: UserWarning: You will likely lose important projection information when converting to a PROJ string from another format. See: https://proj.org/faq.html#what-is-the-best-format-for-describing-coordinate-reference-systems\n",
      "  return self._crs.to_proj4(version=version)\n",
      "/Users/nicobader/opt/anaconda3/lib/python3.7/site-packages/pyproj/crs/crs.py:1256: UserWarning: You will likely lose important projection information when converting to a PROJ string from another format. See: https://proj.org/faq.html#what-is-the-best-format-for-describing-coordinate-reference-systems\n",
      "  return self._crs.to_proj4(version=version)\n",
      "/Users/nicobader/opt/anaconda3/lib/python3.7/site-packages/pyproj/crs/crs.py:1256: UserWarning: You will likely lose important projection information when converting to a PROJ string from another format. See: https://proj.org/faq.html#what-is-the-best-format-for-describing-coordinate-reference-systems\n",
      "  return self._crs.to_proj4(version=version)\n",
      "/Users/nicobader/opt/anaconda3/lib/python3.7/site-packages/pyproj/crs/crs.py:1256: UserWarning: You will likely lose important projection information when converting to a PROJ string from another format. See: https://proj.org/faq.html#what-is-the-best-format-for-describing-coordinate-reference-systems\n",
      "  return self._crs.to_proj4(version=version)\n",
      "/Users/nicobader/opt/anaconda3/lib/python3.7/site-packages/pyproj/crs/crs.py:1256: UserWarning: You will likely lose important projection information when converting to a PROJ string from another format. See: https://proj.org/faq.html#what-is-the-best-format-for-describing-coordinate-reference-systems\n",
      "  return self._crs.to_proj4(version=version)\n",
      "/Users/nicobader/opt/anaconda3/lib/python3.7/site-packages/pyproj/crs/crs.py:1256: UserWarning: You will likely lose important projection information when converting to a PROJ string from another format. See: https://proj.org/faq.html#what-is-the-best-format-for-describing-coordinate-reference-systems\n",
      "  return self._crs.to_proj4(version=version)\n",
      "/Users/nicobader/opt/anaconda3/lib/python3.7/site-packages/pyproj/crs/crs.py:1256: UserWarning: You will likely lose important projection information when converting to a PROJ string from another format. See: https://proj.org/faq.html#what-is-the-best-format-for-describing-coordinate-reference-systems\n",
      "  return self._crs.to_proj4(version=version)\n",
      "/Users/nicobader/opt/anaconda3/lib/python3.7/site-packages/pyproj/crs/crs.py:1256: UserWarning: You will likely lose important projection information when converting to a PROJ string from another format. See: https://proj.org/faq.html#what-is-the-best-format-for-describing-coordinate-reference-systems\n",
      "  return self._crs.to_proj4(version=version)\n",
      "/Users/nicobader/opt/anaconda3/lib/python3.7/site-packages/pyproj/crs/crs.py:1256: UserWarning: You will likely lose important projection information when converting to a PROJ string from another format. See: https://proj.org/faq.html#what-is-the-best-format-for-describing-coordinate-reference-systems\n",
      "  return self._crs.to_proj4(version=version)\n",
      "/Users/nicobader/opt/anaconda3/lib/python3.7/site-packages/pyproj/crs/crs.py:1256: UserWarning: You will likely lose important projection information when converting to a PROJ string from another format. See: https://proj.org/faq.html#what-is-the-best-format-for-describing-coordinate-reference-systems\n",
      "  return self._crs.to_proj4(version=version)\n"
     ]
    }
   ],
   "source": [
    "# resample\n",
    "scn = scn.resample(\"my_germ\")"
   ]
  },
  {
   "cell_type": "code",
   "execution_count": 46,
   "id": "6500fa1c",
   "metadata": {},
   "outputs": [
    {
     "name": "stderr",
     "output_type": "stream",
     "text": [
      "/Users/nicobader/opt/anaconda3/lib/python3.7/site-packages/satpy/writers/cf_writer.py:740: FutureWarning: The default behaviour of the CF writer will soon change to not compress data by default.\n",
      "  FutureWarning)\n",
      "No time dimension in datasets, skipping time bounds creation.\n",
      "/Users/nicobader/opt/anaconda3/lib/python3.7/site-packages/dask/core.py:121: RuntimeWarning: invalid value encountered in log\n",
      "  return func(*(_execute_task(a, cache) for a in args))\n",
      "/Users/nicobader/opt/anaconda3/lib/python3.7/site-packages/dask/core.py:121: RuntimeWarning: invalid value encountered in sin\n",
      "  return func(*(_execute_task(a, cache) for a in args))\n",
      "/Users/nicobader/opt/anaconda3/lib/python3.7/site-packages/dask/core.py:121: RuntimeWarning: invalid value encountered in cos\n",
      "  return func(*(_execute_task(a, cache) for a in args))\n"
     ]
    },
    {
     "data": {
      "text/plain": [
       "[None, None]"
      ]
     },
     "execution_count": 46,
     "metadata": {},
     "output_type": "execute_result"
    }
   ],
   "source": [
    "# netCDF file\n",
    "scn.save_datasets(filename = ftext+'.nc', \n",
    "                  base_dir = '/Volumes/Elements/data/msevi_rss/raw_netcdf/'+y_oi+'/'+m_oi+'/'+d_oi+'/', \n",
    "                  writer = 'cf', engine = 'netcdf4')"
   ]
  }
 ],
 "metadata": {
  "kernelspec": {
   "display_name": "Python 3",
   "language": "python",
   "name": "python3"
  },
  "language_info": {
   "codemirror_mode": {
    "name": "ipython",
    "version": 3
   },
   "file_extension": ".py",
   "mimetype": "text/x-python",
   "name": "python",
   "nbconvert_exporter": "python",
   "pygments_lexer": "ipython3",
   "version": "3.7.7"
  }
 },
 "nbformat": 4,
 "nbformat_minor": 5
}
