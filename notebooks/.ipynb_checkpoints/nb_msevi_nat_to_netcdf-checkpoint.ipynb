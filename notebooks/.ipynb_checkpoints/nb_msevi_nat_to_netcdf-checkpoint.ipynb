{
 "cells": [
  {
   "cell_type": "code",
   "execution_count": 11,
   "id": "921a2609",
   "metadata": {},
   "outputs": [],
   "source": [
    "# load modules\n",
    "from satpy.scene import Scene\n",
    "from satpy.resample import get_area_def\n",
    "from satpy.dataset import combine_metadata\n",
    "from satpy import find_files_and_readers\n",
    "from satpy.writers import available_writers\n",
    "from satpy import DataQuery\n",
    "from datetime import datetime\n",
    "from pyresample import load_area\n",
    "from pyresample.geometry import AreaDefinition\n",
    "import glob\n",
    "import warnings\n",
    "import numpy as np\n",
    "import xarray\n",
    "import netCDF4"
   ]
  },
  {
   "cell_type": "markdown",
   "id": "ed4934e9",
   "metadata": {},
   "source": [
    "**Read data**\n",
    "- The SEVIRI Rapid Scan file is delivered in native format (.nat)\n",
    "- The *seviri_l1b_native* reader for loading the files"
   ]
  },
  {
   "cell_type": "code",
   "execution_count": 12,
   "id": "3bcb3e71",
   "metadata": {},
   "outputs": [],
   "source": [
    "# date of interest\n",
    "# need to find correct file path\n",
    "doi = '2021-07-11' # year-month-day"
   ]
  },
  {
   "cell_type": "code",
   "execution_count": 13,
   "id": "7a764046",
   "metadata": {},
   "outputs": [],
   "source": [
    "# list the to file(s) at the doi\n",
    "y_oi = doi.split('-')[0]\n",
    "m_oi = doi.split('-')[1]\n",
    "d_oi = doi.split('-')[2]\n",
    "\n",
    "fnames = glob.glob('/Volumes/Elements/data/msevi_rss/raw_nat/'+y_oi+'/'+m_oi+'/'+d_oi+'/*')\n",
    "fnames.sort()"
   ]
  },
  {
   "cell_type": "code",
   "execution_count": 4,
   "id": "d00ed8bd",
   "metadata": {},
   "outputs": [],
   "source": [
    "# for loop -> loop over different files\n",
    "# looping over all files is available in the .py script (msevi_nat_to_netcdf.py)\n",
    "# in this notebook: i = [from 0 to number of files]\n",
    "i = 0"
   ]
  },
  {
   "cell_type": "code",
   "execution_count": 5,
   "id": "fa7c747d",
   "metadata": {},
   "outputs": [],
   "source": [
    "# get the i-th filename \n",
    "fname = [fnames[i]]\n",
    "ftext = fnames[i]"
   ]
  },
  {
   "cell_type": "code",
   "execution_count": 6,
   "id": "7d56a4c5",
   "metadata": {},
   "outputs": [],
   "source": [
    "# get date and time information of the file\n",
    "ftext = ftext.split(\"-\")[5]\n",
    "ftext = ftext.split(\".\")[0]\n",
    "year = list(ftext)[0]+list(ftext)[1]+list(ftext)[2]+list(ftext)[3]\n",
    "month = list(ftext)[4]+list(ftext)[5]\n",
    "day = list(ftext)[6]+list(ftext)[7]\n",
    "hour = list(ftext)[8]+list(ftext)[9]\n",
    "minute = list(ftext)[10]+list(ftext)[11]\n",
    "second = list(ftext)[12]+list(ftext)[13]"
   ]
  },
  {
   "cell_type": "code",
   "execution_count": 7,
   "id": "45ba4782",
   "metadata": {},
   "outputs": [],
   "source": [
    "# read the i-th file: SEVIRI Rapid Scan (native format)\n",
    "scn = Scene(reader='seviri_l1b_native', filenames=fname)"
   ]
  },
  {
   "cell_type": "code",
   "execution_count": 74,
   "id": "f6f12f58",
   "metadata": {},
   "outputs": [],
   "source": [
    "# available composites\n",
    "#scn.available_composite_ids()"
   ]
  },
  {
   "cell_type": "code",
   "execution_count": 75,
   "id": "4425f0fc",
   "metadata": {},
   "outputs": [],
   "source": [
    "# available datasets\n",
    "#scn.all_dataset_ids()"
   ]
  },
  {
   "cell_type": "code",
   "execution_count": 8,
   "id": "1be57a3e",
   "metadata": {},
   "outputs": [
    {
     "name": "stderr",
     "output_type": "stream",
     "text": [
      "/Users/nicobader/opt/anaconda3/lib/python3.7/site-packages/pyproj/crs/crs.py:1256: UserWarning: You will likely lose important projection information when converting to a PROJ string from another format. See: https://proj.org/faq.html#what-is-the-best-format-for-describing-coordinate-reference-systems\n",
      "  return self._crs.to_proj4(version=version)\n",
      "/Users/nicobader/opt/anaconda3/lib/python3.7/site-packages/pyproj/crs/crs.py:1256: UserWarning: You will likely lose important projection information when converting to a PROJ string from another format. See: https://proj.org/faq.html#what-is-the-best-format-for-describing-coordinate-reference-systems\n",
      "  return self._crs.to_proj4(version=version)\n",
      "/Users/nicobader/opt/anaconda3/lib/python3.7/site-packages/pyproj/crs/crs.py:1256: UserWarning: You will likely lose important projection information when converting to a PROJ string from another format. See: https://proj.org/faq.html#what-is-the-best-format-for-describing-coordinate-reference-systems\n",
      "  return self._crs.to_proj4(version=version)\n",
      "/Users/nicobader/opt/anaconda3/lib/python3.7/site-packages/pyproj/crs/crs.py:1256: UserWarning: You will likely lose important projection information when converting to a PROJ string from another format. See: https://proj.org/faq.html#what-is-the-best-format-for-describing-coordinate-reference-systems\n",
      "  return self._crs.to_proj4(version=version)\n",
      "/Users/nicobader/opt/anaconda3/lib/python3.7/site-packages/pyproj/crs/crs.py:1256: UserWarning: You will likely lose important projection information when converting to a PROJ string from another format. See: https://proj.org/faq.html#what-is-the-best-format-for-describing-coordinate-reference-systems\n",
      "  return self._crs.to_proj4(version=version)\n",
      "/Users/nicobader/opt/anaconda3/lib/python3.7/site-packages/pyproj/crs/crs.py:1256: UserWarning: You will likely lose important projection information when converting to a PROJ string from another format. See: https://proj.org/faq.html#what-is-the-best-format-for-describing-coordinate-reference-systems\n",
      "  return self._crs.to_proj4(version=version)\n",
      "/Users/nicobader/opt/anaconda3/lib/python3.7/site-packages/pyproj/crs/crs.py:1256: UserWarning: You will likely lose important projection information when converting to a PROJ string from another format. See: https://proj.org/faq.html#what-is-the-best-format-for-describing-coordinate-reference-systems\n",
      "  return self._crs.to_proj4(version=version)\n"
     ]
    }
   ],
   "source": [
    "# load channels, calibrations and composites\n",
    "scn.load(['HRV',1.6,0.6,0.8], calibration='radiance')\n",
    "scn.load([3.9,8.7,9.7,12.0,13.4,7.3,10.8,6.2], calibration='brightness_temperature')\n",
    "scn.load(['convection'])\n",
    "scn.load(['natural_color'])"
   ]
  },
  {
   "cell_type": "code",
   "execution_count": 9,
   "id": "5862aa29",
   "metadata": {},
   "outputs": [
    {
     "name": "stderr",
     "output_type": "stream",
     "text": [
      "/Users/nicobader/opt/anaconda3/lib/python3.7/site-packages/pyresample/spherical.py:114: RuntimeWarning: invalid value encountered in true_divide\n",
      "  self.cart /= np.sqrt(np.einsum('...i, ...i', self.cart, self.cart))\n",
      "/Users/nicobader/opt/anaconda3/lib/python3.7/site-packages/pyresample/spherical.py:337: RuntimeWarning: invalid value encountered in cos\n",
      "  self.cvertices = np.array([np.cos(self.lat) * np.cos(self.lon),\n",
      "/Users/nicobader/opt/anaconda3/lib/python3.7/site-packages/pyresample/spherical.py:338: RuntimeWarning: invalid value encountered in cos\n",
      "  np.cos(self.lat) * np.sin(self.lon),\n",
      "/Users/nicobader/opt/anaconda3/lib/python3.7/site-packages/pyresample/spherical.py:338: RuntimeWarning: invalid value encountered in sin\n",
      "  np.cos(self.lat) * np.sin(self.lon),\n",
      "/Users/nicobader/opt/anaconda3/lib/python3.7/site-packages/pyresample/spherical.py:339: RuntimeWarning: invalid value encountered in sin\n",
      "  np.sin(self.lat)]).T * radius\n",
      "/Users/nicobader/opt/anaconda3/lib/python3.7/site-packages/pyresample/spherical.py:245: RuntimeWarning: invalid value encountered in double_scalars\n",
      "  if self.end.lon - self.start.lon > np.pi:\n",
      "/Users/nicobader/opt/anaconda3/lib/python3.7/site-packages/pyresample/spherical.py:249: RuntimeWarning: invalid value encountered in double_scalars\n",
      "  if self.end.lon - self.start.lon < -np.pi:\n",
      "/Users/nicobader/opt/anaconda3/lib/python3.7/site-packages/pyresample/spherical.py:44: RuntimeWarning: invalid value encountered in double_scalars\n",
      "  ad = np.sin(lat1 - lat2) * np.cos((lon1 - lon2) / 2.0)\n",
      "/Users/nicobader/opt/anaconda3/lib/python3.7/site-packages/pyresample/spherical.py:45: RuntimeWarning: invalid value encountered in sin\n",
      "  be = np.sin(lat1 + lat2) * np.sin((lon1 - lon2) / 2.0)\n",
      "/Users/nicobader/opt/anaconda3/lib/python3.7/site-packages/pyresample/spherical.py:45: RuntimeWarning: invalid value encountered in double_scalars\n",
      "  be = np.sin(lat1 + lat2) * np.sin((lon1 - lon2) / 2.0)\n",
      "/Users/nicobader/opt/anaconda3/lib/python3.7/site-packages/pyresample/spherical.py:46: RuntimeWarning: invalid value encountered in sin\n",
      "  c = np.sin((lon1 + lon2) / 2.0)\n",
      "/Users/nicobader/opt/anaconda3/lib/python3.7/site-packages/pyresample/spherical.py:47: RuntimeWarning: invalid value encountered in cos\n",
      "  f = np.cos((lon1 + lon2) / 2.0)\n",
      "/Users/nicobader/opt/anaconda3/lib/python3.7/site-packages/pyresample/spherical.py:48: RuntimeWarning: invalid value encountered in cos\n",
      "  g = np.cos(lat1)\n",
      "/Users/nicobader/opt/anaconda3/lib/python3.7/site-packages/pyresample/spherical.py:49: RuntimeWarning: invalid value encountered in cos\n",
      "  h = np.cos(lat2)\n",
      "/Users/nicobader/opt/anaconda3/lib/python3.7/site-packages/pyresample/spherical.py:50: RuntimeWarning: invalid value encountered in double_scalars\n",
      "  i = np.sin(lon2 - lon1)\n",
      "/Users/nicobader/opt/anaconda3/lib/python3.7/site-packages/pyresample/spherical.py:77: RuntimeWarning: invalid value encountered in double_scalars\n",
      "  return 2 * np.arcsin((np.sin((point.lat - self.lat) / 2.0) ** 2.0 +\n",
      "/Users/nicobader/opt/anaconda3/lib/python3.7/site-packages/pyresample/spherical.py:78: RuntimeWarning: invalid value encountered in cos\n",
      "  np.cos(point.lat) * np.cos(self.lat) *\n",
      "/Users/nicobader/opt/anaconda3/lib/python3.7/site-packages/pyresample/spherical.py:79: RuntimeWarning: invalid value encountered in double_scalars\n",
      "  np.sin((point.lon - self.lon) / 2.0) ** 2.0) ** .5)\n",
      "/Users/nicobader/opt/anaconda3/lib/python3.7/site-packages/pyresample/spherical.py:44: RuntimeWarning: invalid value encountered in sin\n",
      "  ad = np.sin(lat1 - lat2) * np.cos((lon1 - lon2) / 2.0)\n",
      "/Users/nicobader/opt/anaconda3/lib/python3.7/site-packages/pyresample/spherical.py:44: RuntimeWarning: invalid value encountered in cos\n",
      "  ad = np.sin(lat1 - lat2) * np.cos((lon1 - lon2) / 2.0)\n",
      "/Users/nicobader/opt/anaconda3/lib/python3.7/site-packages/pyresample/spherical.py:50: RuntimeWarning: invalid value encountered in sin\n",
      "  i = np.sin(lon2 - lon1)\n",
      "/Users/nicobader/opt/anaconda3/lib/python3.7/site-packages/pyresample/spherical.py:77: RuntimeWarning: invalid value encountered in sin\n",
      "  return 2 * np.arcsin((np.sin((point.lat - self.lat) / 2.0) ** 2.0 +\n",
      "/Users/nicobader/opt/anaconda3/lib/python3.7/site-packages/pyresample/spherical.py:79: RuntimeWarning: invalid value encountered in sin\n",
      "  np.sin((point.lon - self.lon) / 2.0) ** 2.0) ** .5)\n",
      "/Users/nicobader/opt/anaconda3/lib/python3.7/site-packages/pyresample/spherical.py:247: RuntimeWarning: invalid value encountered in double_scalars\n",
      "  if other_arc.end.lon - other_arc.start.lon > np.pi:\n",
      "/Users/nicobader/opt/anaconda3/lib/python3.7/site-packages/pyresample/spherical.py:251: RuntimeWarning: invalid value encountered in double_scalars\n",
      "  if other_arc.end.lon - other_arc.start.lon < -np.pi:\n",
      "/Users/nicobader/opt/anaconda3/lib/python3.7/site-packages/pyproj/crs/crs.py:1256: UserWarning: You will likely lose important projection information when converting to a PROJ string from another format. See: https://proj.org/faq.html#what-is-the-best-format-for-describing-coordinate-reference-systems\n",
      "  return self._crs.to_proj4(version=version)\n",
      "/Users/nicobader/opt/anaconda3/lib/python3.7/site-packages/pyproj/crs/crs.py:1256: UserWarning: You will likely lose important projection information when converting to a PROJ string from another format. See: https://proj.org/faq.html#what-is-the-best-format-for-describing-coordinate-reference-systems\n",
      "  return self._crs.to_proj4(version=version)\n",
      "/Users/nicobader/opt/anaconda3/lib/python3.7/site-packages/pyproj/crs/crs.py:1256: UserWarning: You will likely lose important projection information when converting to a PROJ string from another format. See: https://proj.org/faq.html#what-is-the-best-format-for-describing-coordinate-reference-systems\n",
      "  return self._crs.to_proj4(version=version)\n",
      "/Users/nicobader/opt/anaconda3/lib/python3.7/site-packages/pyproj/crs/crs.py:1256: UserWarning: You will likely lose important projection information when converting to a PROJ string from another format. See: https://proj.org/faq.html#what-is-the-best-format-for-describing-coordinate-reference-systems\n",
      "  return self._crs.to_proj4(version=version)\n",
      "/Users/nicobader/opt/anaconda3/lib/python3.7/site-packages/pyproj/crs/crs.py:1256: UserWarning: You will likely lose important projection information when converting to a PROJ string from another format. See: https://proj.org/faq.html#what-is-the-best-format-for-describing-coordinate-reference-systems\n",
      "  return self._crs.to_proj4(version=version)\n",
      "/Users/nicobader/opt/anaconda3/lib/python3.7/site-packages/pyproj/crs/crs.py:1256: UserWarning: You will likely lose important projection information when converting to a PROJ string from another format. See: https://proj.org/faq.html#what-is-the-best-format-for-describing-coordinate-reference-systems\n",
      "  return self._crs.to_proj4(version=version)\n",
      "/Users/nicobader/opt/anaconda3/lib/python3.7/site-packages/pyproj/crs/crs.py:1256: UserWarning: You will likely lose important projection information when converting to a PROJ string from another format. See: https://proj.org/faq.html#what-is-the-best-format-for-describing-coordinate-reference-systems\n",
      "  return self._crs.to_proj4(version=version)\n",
      "/Users/nicobader/opt/anaconda3/lib/python3.7/site-packages/pyproj/crs/crs.py:1256: UserWarning: You will likely lose important projection information when converting to a PROJ string from another format. See: https://proj.org/faq.html#what-is-the-best-format-for-describing-coordinate-reference-systems\n",
      "  return self._crs.to_proj4(version=version)\n",
      "/Users/nicobader/opt/anaconda3/lib/python3.7/site-packages/pyproj/crs/crs.py:1256: UserWarning: You will likely lose important projection information when converting to a PROJ string from another format. See: https://proj.org/faq.html#what-is-the-best-format-for-describing-coordinate-reference-systems\n",
      "  return self._crs.to_proj4(version=version)\n",
      "/Users/nicobader/opt/anaconda3/lib/python3.7/site-packages/pyproj/crs/crs.py:1256: UserWarning: You will likely lose important projection information when converting to a PROJ string from another format. See: https://proj.org/faq.html#what-is-the-best-format-for-describing-coordinate-reference-systems\n",
      "  return self._crs.to_proj4(version=version)\n"
     ]
    }
   ],
   "source": [
    "# resample\n",
    "scn = scn.resample(\"my_germ\")"
   ]
  },
  {
   "cell_type": "code",
   "execution_count": 10,
   "id": "6500fa1c",
   "metadata": {},
   "outputs": [
    {
     "name": "stderr",
     "output_type": "stream",
     "text": [
      "/Users/nicobader/opt/anaconda3/lib/python3.7/site-packages/satpy/writers/cf_writer.py:740: FutureWarning: The default behaviour of the CF writer will soon change to not compress data by default.\n",
      "  FutureWarning)\n",
      "No time dimension in datasets, skipping time bounds creation.\n",
      "/Users/nicobader/opt/anaconda3/lib/python3.7/site-packages/dask/core.py:121: RuntimeWarning: invalid value encountered in log\n",
      "  return func(*(_execute_task(a, cache) for a in args))\n",
      "/Users/nicobader/opt/anaconda3/lib/python3.7/site-packages/dask/core.py:121: RuntimeWarning: divide by zero encountered in true_divide\n",
      "  return func(*(_execute_task(a, cache) for a in args))\n",
      "/Users/nicobader/opt/anaconda3/lib/python3.7/site-packages/dask/core.py:121: RuntimeWarning: invalid value encountered in cos\n",
      "  return func(*(_execute_task(a, cache) for a in args))\n",
      "/Users/nicobader/opt/anaconda3/lib/python3.7/site-packages/dask/core.py:121: RuntimeWarning: invalid value encountered in sin\n",
      "  return func(*(_execute_task(a, cache) for a in args))\n"
     ]
    },
    {
     "data": {
      "text/plain": [
       "[None, None]"
      ]
     },
     "execution_count": 10,
     "metadata": {},
     "output_type": "execute_result"
    }
   ],
   "source": [
    "# netCDF file\n",
    "scn.save_datasets(filename = 'MSG3-SEVI-MSG15-0100-NA-'+year+month+day+hour+minute+second+'.'+fnames[i].split('.')[1]+'.nc', \n",
    "                  base_dir = '/Volumes/Elements/data/msevi_rss/raw_netcdf/'+y_oi+'/'+m_oi+'/'+d_oi+'/', \n",
    "                  writer = 'cf', engine = 'netcdf4')"
   ]
  }
 ],
 "metadata": {
  "kernelspec": {
   "display_name": "Python 3",
   "language": "python",
   "name": "python3"
  },
  "language_info": {
   "codemirror_mode": {
    "name": "ipython",
    "version": 3
   },
   "file_extension": ".py",
   "mimetype": "text/x-python",
   "name": "python",
   "nbconvert_exporter": "python",
   "pygments_lexer": "ipython3",
   "version": "3.7.7"
  }
 },
 "nbformat": 4,
 "nbformat_minor": 5
}
