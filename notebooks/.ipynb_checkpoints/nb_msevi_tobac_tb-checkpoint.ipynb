{
 "cells": [
  {
   "cell_type": "code",
   "execution_count": 8,
   "id": "c8f6f852",
   "metadata": {},
   "outputs": [],
   "source": [
    "# load modules\n",
    "import netCDF4 as nc\n",
    "import glob\n",
    "import numpy as np\n",
    "import datetime\n",
    "import os"
   ]
  },
  {
   "cell_type": "code",
   "execution_count": 9,
   "id": "7200bddb",
   "metadata": {},
   "outputs": [],
   "source": [
    "# system timezone to UTC\n",
    "# everything will be done in UTC\n",
    "# UTC = CET-1h/CEST-2h\n",
    "os.environ['TZ'] = 'UTC'"
   ]
  },
  {
   "cell_type": "code",
   "execution_count": 10,
   "id": "2c22090a",
   "metadata": {},
   "outputs": [],
   "source": [
    "# date of interest\n",
    "# need to find correct file path\n",
    "doi = '2021-07-28' # year-month-day"
   ]
  },
  {
   "cell_type": "code",
   "execution_count": 11,
   "id": "f34a2ae3",
   "metadata": {},
   "outputs": [],
   "source": [
    "# list the to file(s) at the doi\n",
    "y_oi = doi.split('-')[0]\n",
    "m_oi = doi.split('-')[1]\n",
    "d_oi = doi.split('-')[2]\n",
    "\n",
    "fnames = glob.glob('/Volumes/Elements/data/msevi_rss/raw_tb/'+y_oi+'/'+m_oi+'/'+d_oi+'/*')\n",
    "fnames.sort()"
   ]
  },
  {
   "cell_type": "code",
   "execution_count": 12,
   "id": "6259471b",
   "metadata": {},
   "outputs": [],
   "source": [
    "# for loop -> loop over different files\n",
    "# looping over all files is available in the .py script (msevi_nat_to_netcdf.py)\n",
    "# in this notebook: i = [from 0 to number of files]\n",
    "i = 0"
   ]
  },
  {
   "cell_type": "code",
   "execution_count": 13,
   "id": "a9591427",
   "metadata": {},
   "outputs": [],
   "source": [
    "# get the i-th filename \n",
    "fname = fnames[i]\n",
    "ftext = fnames[i]"
   ]
  },
  {
   "cell_type": "code",
   "execution_count": 14,
   "id": "20decb73",
   "metadata": {},
   "outputs": [],
   "source": [
    "# get date and time information of the file\n",
    "ftext = ftext.split(\"/\")[9]\n",
    "ftext = ftext.split(\".\")[1]\n",
    "ftext = ftext.split(\"-\")[1]\n",
    "\n",
    "year = list(ftext)[0]+list(ftext)[1]+list(ftext)[2]+list(ftext)[3]\n",
    "month = list(ftext)[4]+list(ftext)[5]\n",
    "day = list(ftext)[6]+list(ftext)[7]\n",
    "hour = list(ftext)[8]+list(ftext)[9]\n",
    "minute = list(ftext)[10]+list(ftext)[11]\n",
    "second = list(ftext)[12]+list(ftext)[13]"
   ]
  },
  {
   "cell_type": "code",
   "execution_count": 15,
   "id": "8954513d",
   "metadata": {},
   "outputs": [],
   "source": [
    "# open netCDF file\n",
    "ds = nc.Dataset(fname)"
   ]
  },
  {
   "cell_type": "code",
   "execution_count": 18,
   "id": "622d4c53",
   "metadata": {},
   "outputs": [],
   "source": [
    "# get IR_108 channel Brightness Temperature\n",
    "tb = ds.variables['IR_108'][:]"
   ]
  },
  {
   "cell_type": "code",
   "execution_count": 21,
   "id": "a2074238",
   "metadata": {},
   "outputs": [],
   "source": [
    "# transpose the IR_108 array\n",
    "tb = tb[np.arange(tb.shape[0]-1,0-1,-1),:]"
   ]
  },
  {
   "cell_type": "code",
   "execution_count": 293,
   "id": "c58bbc0c",
   "metadata": {},
   "outputs": [],
   "source": [
    "# put array into a big Brightness Temperature dataset\n",
    "\n",
    "# if i = 0 in the for loop:\n",
    "# https://stackoverflow.com/questions/53882600/numpy-append-multiple-different-np-arrays-in-one-axis-of-existing-np-array\n",
    "Tb = np.ma.asanyarray([tb]*len(fnames))\n",
    "\n",
    "# if i >= 1 in the for loop:\n",
    "Tb[i] = tb"
   ]
  },
  {
   "cell_type": "code",
   "execution_count": 294,
   "id": "762fcee4",
   "metadata": {},
   "outputs": [],
   "source": [
    "############\n",
    "# SENSING TIME AS UNIX-TIMESTAMP\n",
    "# seconds since 1970-01-01 00:00:00 (UTC)\n",
    "dt_str = year+'-'+month+'-'+day+' '+hour+':'+minute+':'+second\n",
    "dt_object = datetime.datetime.fromisoformat(dt_str)\n",
    "timestamp = datetime.datetime.timestamp(dt_object)"
   ]
  },
  {
   "cell_type": "code",
   "execution_count": 295,
   "id": "b2d09e12",
   "metadata": {},
   "outputs": [],
   "source": [
    "# put array into a big time array\n",
    "\n",
    "# if i = 0 in the for loop:\n",
    "times = np.ma.array([int(timestamp)]*len(fnames))\n",
    "\n",
    "# if i >=1 in the for loop:\n",
    "times[i] = timestamp"
   ]
  },
  {
   "cell_type": "code",
   "execution_count": 296,
   "id": "7cbf9c0a",
   "metadata": {},
   "outputs": [],
   "source": [
    "## !! END OF FOR LOOP HERE !!"
   ]
  },
  {
   "cell_type": "code",
   "execution_count": 297,
   "id": "87c47f78",
   "metadata": {},
   "outputs": [],
   "source": [
    "############\n",
    "# GET X,Y DIMENSIONS\n",
    "# define latitude and longitude array\n",
    "lat = ds.variables['latitude'][:]\n",
    "lon = ds.variables['longitude'][:]\n",
    "lat_dim = np.ma.masked_array(np.arange(lat.min(),lat.max()+0.001,(lat.max()-lat.min())/(lat.shape[1]-1)))\n",
    "lon_dim = np.ma.masked_array(np.arange(lon.min(),lon.max()+0.001,(lon.max()-lon.min())/(lon.shape[0]-1)))"
   ]
  },
  {
   "cell_type": "code",
   "execution_count": 298,
   "id": "01aa0d20",
   "metadata": {},
   "outputs": [],
   "source": [
    "############\n",
    "# CREATE THE NETCDF FILE\n",
    "nc_fn = '/Volumes/Elements/data/msevi_rss/tobac_tb/'+y_oi+'/'+m_oi+'/'+'OLR_'+year+month+day+'.nc'\n",
    "nc_ds = nc.Dataset(nc_fn, 'w', format = 'NETCDF4')"
   ]
  },
  {
   "cell_type": "code",
   "execution_count": 299,
   "id": "bdc99db6",
   "metadata": {},
   "outputs": [],
   "source": [
    "# define dimensions\n",
    "time = nc_ds.createDimension('time', len(times))\n",
    "lat = nc_ds.createDimension('lat', len(lat_dim))\n",
    "lon = nc_ds.createDimension('lon', len(lon_dim))"
   ]
  },
  {
   "cell_type": "code",
   "execution_count": 300,
   "id": "d6580845",
   "metadata": {},
   "outputs": [],
   "source": [
    "# define variables\n",
    "tb = nc_ds.createVariable('tb', 'f4', ('time', 'lat', 'lon',))\n",
    "time = nc_ds.createVariable('time', 'f4', ('time',))\n",
    "lat = nc_ds.createVariable('lat', 'f4', ('lat',))\n",
    "lon = nc_ds.createVariable('lon', 'f4', ('lon',))"
   ]
  },
  {
   "cell_type": "code",
   "execution_count": 301,
   "id": "98e771ab",
   "metadata": {},
   "outputs": [],
   "source": [
    "# define units\n",
    "tb.units = 'K'\n",
    "time.units = 'seconds since 1970-1-1'\n",
    "lat.units = 'degrees_north'\n",
    "lon.units = 'degrees_east'"
   ]
  },
  {
   "cell_type": "code",
   "execution_count": 302,
   "id": "83b147a1",
   "metadata": {},
   "outputs": [],
   "source": [
    "# define other names\n",
    "tb.long_name = 'Brightness Temperature'\n",
    "time.standard_name = 'time'\n",
    "lat.standard_name = 'latitude'\n",
    "lon.standard_name = 'longitude'"
   ]
  },
  {
   "cell_type": "code",
   "execution_count": 303,
   "id": "8a8f9c60",
   "metadata": {},
   "outputs": [],
   "source": [
    "# define axis\n",
    "time.axis = 'T'\n",
    "lat.axis = 'Y'\n",
    "lon.axis = 'X'"
   ]
  },
  {
   "cell_type": "code",
   "execution_count": 304,
   "id": "dfaf6be2",
   "metadata": {},
   "outputs": [],
   "source": [
    "# define others\n",
    "time.calendar = 'gregorian'\n",
    "lat.datum = 'WGS84'\n",
    "lon.datum = 'WGS84'"
   ]
  },
  {
   "cell_type": "code",
   "execution_count": 305,
   "id": "9f1732f1",
   "metadata": {},
   "outputs": [],
   "source": [
    "# define spacing\n",
    "lat.spacing = str((lat_dim[len(lat_dim)-1]-lat_dim[0])/(len(lat_dim)-1))\n",
    "lon.spacing = str((lon_dim[len(lon_dim)-1]-lon_dim[0])/(len(lon_dim)-1))"
   ]
  },
  {
   "cell_type": "code",
   "execution_count": 306,
   "id": "f1b0d7af",
   "metadata": {},
   "outputs": [],
   "source": [
    "# assign data to variables\n",
    "lat[:] = lat_dim\n",
    "lon[:] = lon_dim\n",
    "time[:] = times\n",
    "tb[:] = Tb"
   ]
  },
  {
   "cell_type": "code",
   "execution_count": 307,
   "id": "df84629d",
   "metadata": {},
   "outputs": [],
   "source": [
    "# close the netCDF\n",
    "nc_ds.close()"
   ]
  }
 ],
 "metadata": {
  "kernelspec": {
   "display_name": "Python 3",
   "language": "python",
   "name": "python3"
  },
  "language_info": {
   "codemirror_mode": {
    "name": "ipython",
    "version": 3
   },
   "file_extension": ".py",
   "mimetype": "text/x-python",
   "name": "python",
   "nbconvert_exporter": "python",
   "pygments_lexer": "ipython3",
   "version": "3.7.7"
  }
 },
 "nbformat": 4,
 "nbformat_minor": 5
}
